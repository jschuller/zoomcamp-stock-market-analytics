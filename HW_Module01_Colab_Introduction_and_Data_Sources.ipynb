{
  "nbformat": 4,
  "nbformat_minor": 0,
  "metadata": {
    "colab": {
      "provenance": [],
      "collapsed_sections": [
        "_sMONMJHjXkM"
      ],
      "include_colab_link": true
    },
    "kernelspec": {
      "name": "python3",
      "display_name": "Python 3"
    },
    "language_info": {
      "name": "python"
    }
  },
  "cells": [
    {
      "cell_type": "markdown",
      "metadata": {
        "id": "view-in-github",
        "colab_type": "text"
      },
      "source": [
        "<a href=\"https://colab.research.google.com/github/jschuller/zoomcamp-stock-market-analytics/blob/main/HW_Module01_Colab_Introduction_and_Data_Sources.ipynb\" target=\"_parent\"><img src=\"https://colab.research.google.com/assets/colab-badge.svg\" alt=\"Open In Colab\"/></a>"
      ]
    },
    {
      "cell_type": "markdown",
      "source": [
        "# Homework - Module 1 Stock Invest Zoomcamp - April 2024"
      ],
      "metadata": {
        "id": "I3lI0S2_035u"
      }
    },
    {
      "cell_type": "code",
      "source": [
        "# install main library YFinance\n",
        "!pip install yfinance"
      ],
      "metadata": {
        "id": "7_BfcEi2ZQwz"
      },
      "execution_count": null,
      "outputs": []
    },
    {
      "cell_type": "code",
      "source": [
        "# import libraries\n",
        "import numpy as np\n",
        "import pandas as pd\n",
        "\n",
        "#Fin Data Sources\n",
        "import yfinance as yf\n",
        "import pandas_datareader as pdr\n",
        "\n",
        "#Data viz\n",
        "import plotly.graph_objs as go\n",
        "import plotly.express as px\n",
        "\n",
        "import time\n",
        "from datetime import date\n"
      ],
      "metadata": {
        "id": "upIkgS85ZLbF"
      },
      "execution_count": 99,
      "outputs": []
    },
    {
      "cell_type": "code",
      "source": [
        "# set a default index period\n",
        "end = date.today()\n",
        "print(f'Year = {end.year}; month= {end.month}; day={end.day}')\n",
        "\n",
        "start = date(year=end.year-70, month=end.month, day=end.day)\n",
        "print(f'Period for indexes: {start} to {end} ')"
      ],
      "metadata": {
        "colab": {
          "base_uri": "https://localhost:8080/"
        },
        "id": "f3KSCJNpnZbg",
        "outputId": "4625701f-88ca-462b-821c-3b458233600e"
      },
      "execution_count": 29,
      "outputs": [
        {
          "output_type": "stream",
          "name": "stdout",
          "text": [
            "Year = 2024; month= 4; day=21\n",
            "Period for indexes: 1954-04-21 to 2024-04-21 \n"
          ]
        }
      ]
    },
    {
      "cell_type": "markdown",
      "source": [
        "# Question 1: What is the average growth (in %) of GDP in 2023?\n",
        "*   Download the timeseries Real Gross Domestic Product (GDPC1) from FRED (https://fred.stlouisfed.org/series/GDPC1).\n",
        "*   Calculate year-over-year (YoY) growth rate (that is, divide current value to one 4 quarters ago).\n",
        "*   Find the average YoY growth in 2023 (average from 4 YoY numbers). Round to 1 digit after the decimal point: e.g. if you get 5.66% growth\n"
      ],
      "metadata": {
        "id": "eIC_eetFASP_"
      }
    },
    {
      "cell_type": "code",
      "source": [
        "# Real Gross Domestic Product (GDPC1), Billions of Chained 2017 Dollars,\n",
        "# Seasonally Adjusted Annual Rate, QUARTERLY\n",
        "# https://fred.stlouisfed.org/series/GDPC1\n",
        "gdppc1 = pdr.DataReader('GDPC1', 'fred', start=start)"
      ],
      "metadata": {
        "id": "Ij7FDH9usZ0E"
      },
      "execution_count": 31,
      "outputs": []
    },
    {
      "cell_type": "code",
      "source": [
        "gdppc1['gdppc1_us_yoy'] = gdppc1.GDPC1/gdppc1.GDPC1.shift(4)-1\n",
        "gdppc1['gdppc1_us_qoq'] = gdppc1.GDPC1/gdppc1.GDPC1.shift(1)-1\n",
        "gdppc1.tail()"
      ],
      "metadata": {
        "colab": {
          "base_uri": "https://localhost:8080/",
          "height": 260
        },
        "id": "U51Zq60CqDsd",
        "outputId": "9564b58b-9d8f-4ed2-91ab-6cd8f5d908a8"
      },
      "execution_count": 32,
      "outputs": [
        {
          "output_type": "execute_result",
          "data": {
            "text/plain": [
              "                GDPC1  gdppc1_us_yoy  gdppc1_us_qoq\n",
              "DATE                                               \n",
              "2022-10-01  21989.981       0.006517       0.006354\n",
              "2023-01-01  22112.329       0.017179       0.005564\n",
              "2023-04-01  22225.350       0.023825       0.005111\n",
              "2023-07-01  22490.692       0.029269       0.011939\n",
              "2023-10-01  22679.255       0.031345       0.008384"
            ],
            "text/html": [
              "\n",
              "  <div id=\"df-e72313c0-b656-4070-9097-051f7d2aacaf\" class=\"colab-df-container\">\n",
              "    <div>\n",
              "<style scoped>\n",
              "    .dataframe tbody tr th:only-of-type {\n",
              "        vertical-align: middle;\n",
              "    }\n",
              "\n",
              "    .dataframe tbody tr th {\n",
              "        vertical-align: top;\n",
              "    }\n",
              "\n",
              "    .dataframe thead th {\n",
              "        text-align: right;\n",
              "    }\n",
              "</style>\n",
              "<table border=\"1\" class=\"dataframe\">\n",
              "  <thead>\n",
              "    <tr style=\"text-align: right;\">\n",
              "      <th></th>\n",
              "      <th>GDPC1</th>\n",
              "      <th>gdppc1_us_yoy</th>\n",
              "      <th>gdppc1_us_qoq</th>\n",
              "    </tr>\n",
              "    <tr>\n",
              "      <th>DATE</th>\n",
              "      <th></th>\n",
              "      <th></th>\n",
              "      <th></th>\n",
              "    </tr>\n",
              "  </thead>\n",
              "  <tbody>\n",
              "    <tr>\n",
              "      <th>2022-10-01</th>\n",
              "      <td>21989.981</td>\n",
              "      <td>0.006517</td>\n",
              "      <td>0.006354</td>\n",
              "    </tr>\n",
              "    <tr>\n",
              "      <th>2023-01-01</th>\n",
              "      <td>22112.329</td>\n",
              "      <td>0.017179</td>\n",
              "      <td>0.005564</td>\n",
              "    </tr>\n",
              "    <tr>\n",
              "      <th>2023-04-01</th>\n",
              "      <td>22225.350</td>\n",
              "      <td>0.023825</td>\n",
              "      <td>0.005111</td>\n",
              "    </tr>\n",
              "    <tr>\n",
              "      <th>2023-07-01</th>\n",
              "      <td>22490.692</td>\n",
              "      <td>0.029269</td>\n",
              "      <td>0.011939</td>\n",
              "    </tr>\n",
              "    <tr>\n",
              "      <th>2023-10-01</th>\n",
              "      <td>22679.255</td>\n",
              "      <td>0.031345</td>\n",
              "      <td>0.008384</td>\n",
              "    </tr>\n",
              "  </tbody>\n",
              "</table>\n",
              "</div>\n",
              "    <div class=\"colab-df-buttons\">\n",
              "\n",
              "  <div class=\"colab-df-container\">\n",
              "    <button class=\"colab-df-convert\" onclick=\"convertToInteractive('df-e72313c0-b656-4070-9097-051f7d2aacaf')\"\n",
              "            title=\"Convert this dataframe to an interactive table.\"\n",
              "            style=\"display:none;\">\n",
              "\n",
              "  <svg xmlns=\"http://www.w3.org/2000/svg\" height=\"24px\" viewBox=\"0 -960 960 960\">\n",
              "    <path d=\"M120-120v-720h720v720H120Zm60-500h600v-160H180v160Zm220 220h160v-160H400v160Zm0 220h160v-160H400v160ZM180-400h160v-160H180v160Zm440 0h160v-160H620v160ZM180-180h160v-160H180v160Zm440 0h160v-160H620v160Z\"/>\n",
              "  </svg>\n",
              "    </button>\n",
              "\n",
              "  <style>\n",
              "    .colab-df-container {\n",
              "      display:flex;\n",
              "      gap: 12px;\n",
              "    }\n",
              "\n",
              "    .colab-df-convert {\n",
              "      background-color: #E8F0FE;\n",
              "      border: none;\n",
              "      border-radius: 50%;\n",
              "      cursor: pointer;\n",
              "      display: none;\n",
              "      fill: #1967D2;\n",
              "      height: 32px;\n",
              "      padding: 0 0 0 0;\n",
              "      width: 32px;\n",
              "    }\n",
              "\n",
              "    .colab-df-convert:hover {\n",
              "      background-color: #E2EBFA;\n",
              "      box-shadow: 0px 1px 2px rgba(60, 64, 67, 0.3), 0px 1px 3px 1px rgba(60, 64, 67, 0.15);\n",
              "      fill: #174EA6;\n",
              "    }\n",
              "\n",
              "    .colab-df-buttons div {\n",
              "      margin-bottom: 4px;\n",
              "    }\n",
              "\n",
              "    [theme=dark] .colab-df-convert {\n",
              "      background-color: #3B4455;\n",
              "      fill: #D2E3FC;\n",
              "    }\n",
              "\n",
              "    [theme=dark] .colab-df-convert:hover {\n",
              "      background-color: #434B5C;\n",
              "      box-shadow: 0px 1px 3px 1px rgba(0, 0, 0, 0.15);\n",
              "      filter: drop-shadow(0px 1px 2px rgba(0, 0, 0, 0.3));\n",
              "      fill: #FFFFFF;\n",
              "    }\n",
              "  </style>\n",
              "\n",
              "    <script>\n",
              "      const buttonEl =\n",
              "        document.querySelector('#df-e72313c0-b656-4070-9097-051f7d2aacaf button.colab-df-convert');\n",
              "      buttonEl.style.display =\n",
              "        google.colab.kernel.accessAllowed ? 'block' : 'none';\n",
              "\n",
              "      async function convertToInteractive(key) {\n",
              "        const element = document.querySelector('#df-e72313c0-b656-4070-9097-051f7d2aacaf');\n",
              "        const dataTable =\n",
              "          await google.colab.kernel.invokeFunction('convertToInteractive',\n",
              "                                                    [key], {});\n",
              "        if (!dataTable) return;\n",
              "\n",
              "        const docLinkHtml = 'Like what you see? Visit the ' +\n",
              "          '<a target=\"_blank\" href=https://colab.research.google.com/notebooks/data_table.ipynb>data table notebook</a>'\n",
              "          + ' to learn more about interactive tables.';\n",
              "        element.innerHTML = '';\n",
              "        dataTable['output_type'] = 'display_data';\n",
              "        await google.colab.output.renderOutput(dataTable, element);\n",
              "        const docLink = document.createElement('div');\n",
              "        docLink.innerHTML = docLinkHtml;\n",
              "        element.appendChild(docLink);\n",
              "      }\n",
              "    </script>\n",
              "  </div>\n",
              "\n",
              "\n",
              "<div id=\"df-b7a6754c-7c9d-41d0-8d35-9c9e8bb97822\">\n",
              "  <button class=\"colab-df-quickchart\" onclick=\"quickchart('df-b7a6754c-7c9d-41d0-8d35-9c9e8bb97822')\"\n",
              "            title=\"Suggest charts\"\n",
              "            style=\"display:none;\">\n",
              "\n",
              "<svg xmlns=\"http://www.w3.org/2000/svg\" height=\"24px\"viewBox=\"0 0 24 24\"\n",
              "     width=\"24px\">\n",
              "    <g>\n",
              "        <path d=\"M19 3H5c-1.1 0-2 .9-2 2v14c0 1.1.9 2 2 2h14c1.1 0 2-.9 2-2V5c0-1.1-.9-2-2-2zM9 17H7v-7h2v7zm4 0h-2V7h2v10zm4 0h-2v-4h2v4z\"/>\n",
              "    </g>\n",
              "</svg>\n",
              "  </button>\n",
              "\n",
              "<style>\n",
              "  .colab-df-quickchart {\n",
              "      --bg-color: #E8F0FE;\n",
              "      --fill-color: #1967D2;\n",
              "      --hover-bg-color: #E2EBFA;\n",
              "      --hover-fill-color: #174EA6;\n",
              "      --disabled-fill-color: #AAA;\n",
              "      --disabled-bg-color: #DDD;\n",
              "  }\n",
              "\n",
              "  [theme=dark] .colab-df-quickchart {\n",
              "      --bg-color: #3B4455;\n",
              "      --fill-color: #D2E3FC;\n",
              "      --hover-bg-color: #434B5C;\n",
              "      --hover-fill-color: #FFFFFF;\n",
              "      --disabled-bg-color: #3B4455;\n",
              "      --disabled-fill-color: #666;\n",
              "  }\n",
              "\n",
              "  .colab-df-quickchart {\n",
              "    background-color: var(--bg-color);\n",
              "    border: none;\n",
              "    border-radius: 50%;\n",
              "    cursor: pointer;\n",
              "    display: none;\n",
              "    fill: var(--fill-color);\n",
              "    height: 32px;\n",
              "    padding: 0;\n",
              "    width: 32px;\n",
              "  }\n",
              "\n",
              "  .colab-df-quickchart:hover {\n",
              "    background-color: var(--hover-bg-color);\n",
              "    box-shadow: 0 1px 2px rgba(60, 64, 67, 0.3), 0 1px 3px 1px rgba(60, 64, 67, 0.15);\n",
              "    fill: var(--button-hover-fill-color);\n",
              "  }\n",
              "\n",
              "  .colab-df-quickchart-complete:disabled,\n",
              "  .colab-df-quickchart-complete:disabled:hover {\n",
              "    background-color: var(--disabled-bg-color);\n",
              "    fill: var(--disabled-fill-color);\n",
              "    box-shadow: none;\n",
              "  }\n",
              "\n",
              "  .colab-df-spinner {\n",
              "    border: 2px solid var(--fill-color);\n",
              "    border-color: transparent;\n",
              "    border-bottom-color: var(--fill-color);\n",
              "    animation:\n",
              "      spin 1s steps(1) infinite;\n",
              "  }\n",
              "\n",
              "  @keyframes spin {\n",
              "    0% {\n",
              "      border-color: transparent;\n",
              "      border-bottom-color: var(--fill-color);\n",
              "      border-left-color: var(--fill-color);\n",
              "    }\n",
              "    20% {\n",
              "      border-color: transparent;\n",
              "      border-left-color: var(--fill-color);\n",
              "      border-top-color: var(--fill-color);\n",
              "    }\n",
              "    30% {\n",
              "      border-color: transparent;\n",
              "      border-left-color: var(--fill-color);\n",
              "      border-top-color: var(--fill-color);\n",
              "      border-right-color: var(--fill-color);\n",
              "    }\n",
              "    40% {\n",
              "      border-color: transparent;\n",
              "      border-right-color: var(--fill-color);\n",
              "      border-top-color: var(--fill-color);\n",
              "    }\n",
              "    60% {\n",
              "      border-color: transparent;\n",
              "      border-right-color: var(--fill-color);\n",
              "    }\n",
              "    80% {\n",
              "      border-color: transparent;\n",
              "      border-right-color: var(--fill-color);\n",
              "      border-bottom-color: var(--fill-color);\n",
              "    }\n",
              "    90% {\n",
              "      border-color: transparent;\n",
              "      border-bottom-color: var(--fill-color);\n",
              "    }\n",
              "  }\n",
              "</style>\n",
              "\n",
              "  <script>\n",
              "    async function quickchart(key) {\n",
              "      const quickchartButtonEl =\n",
              "        document.querySelector('#' + key + ' button');\n",
              "      quickchartButtonEl.disabled = true;  // To prevent multiple clicks.\n",
              "      quickchartButtonEl.classList.add('colab-df-spinner');\n",
              "      try {\n",
              "        const charts = await google.colab.kernel.invokeFunction(\n",
              "            'suggestCharts', [key], {});\n",
              "      } catch (error) {\n",
              "        console.error('Error during call to suggestCharts:', error);\n",
              "      }\n",
              "      quickchartButtonEl.classList.remove('colab-df-spinner');\n",
              "      quickchartButtonEl.classList.add('colab-df-quickchart-complete');\n",
              "    }\n",
              "    (() => {\n",
              "      let quickchartButtonEl =\n",
              "        document.querySelector('#df-b7a6754c-7c9d-41d0-8d35-9c9e8bb97822 button');\n",
              "      quickchartButtonEl.style.display =\n",
              "        google.colab.kernel.accessAllowed ? 'block' : 'none';\n",
              "    })();\n",
              "  </script>\n",
              "</div>\n",
              "\n",
              "    </div>\n",
              "  </div>\n"
            ],
            "application/vnd.google.colaboratory.intrinsic+json": {
              "type": "dataframe",
              "summary": "{\n  \"name\": \"gdppc1\",\n  \"rows\": 5,\n  \"fields\": [\n    {\n      \"column\": \"DATE\",\n      \"properties\": {\n        \"dtype\": \"date\",\n        \"min\": \"2022-10-01 00:00:00\",\n        \"max\": \"2023-10-01 00:00:00\",\n        \"num_unique_values\": 5,\n        \"samples\": [\n          \"2023-01-01 00:00:00\",\n          \"2023-10-01 00:00:00\",\n          \"2023-04-01 00:00:00\"\n        ],\n        \"semantic_type\": \"\",\n        \"description\": \"\"\n      }\n    },\n    {\n      \"column\": \"GDPC1\",\n      \"properties\": {\n        \"dtype\": \"number\",\n        \"std\": 281.55881077547554,\n        \"min\": 21989.981,\n        \"max\": 22679.255,\n        \"num_unique_values\": 5,\n        \"samples\": [\n          22112.329,\n          22679.255,\n          22225.35\n        ],\n        \"semantic_type\": \"\",\n        \"description\": \"\"\n      }\n    },\n    {\n      \"column\": \"gdppc1_us_yoy\",\n      \"properties\": {\n        \"dtype\": \"number\",\n        \"std\": 0.010071775831595145,\n        \"min\": 0.006516916593409139,\n        \"max\": 0.031344911121114816,\n        \"num_unique_values\": 5,\n        \"samples\": [\n          0.017179273017444263,\n          0.031344911121114816,\n          0.023824681594386554\n        ],\n        \"semantic_type\": \"\",\n        \"description\": \"\"\n      }\n    },\n    {\n      \"column\": \"gdppc1_us_qoq\",\n      \"properties\": {\n        \"dtype\": \"number\",\n        \"std\": 0.002794960347316301,\n        \"min\": 0.005111220984456155,\n        \"max\": 0.011938709626620136,\n        \"num_unique_values\": 5,\n        \"samples\": [\n          0.005563806535349158,\n          0.008384046164520154,\n          0.005111220984456155\n        ],\n        \"semantic_type\": \"\",\n        \"description\": \"\"\n      }\n    }\n  ]\n}"
            }
          },
          "metadata": {},
          "execution_count": 32
        }
      ]
    },
    {
      "cell_type": "code",
      "source": [
        "# Find the average YoY growth in 2023 (average from 4 YoY numbers).\n",
        "# Round to 1 digit after the decimal point: e.g. if you get 5.66% growth\n",
        "\n",
        "# Find the average YoY growth in 2023 (average from 4 YoY numbers).\n",
        "average_growth_2023 = round(gdppc1.loc['2023-01-01':'2023-12-31', 'gdppc1_us_yoy'].mean() * 100, 1)\n",
        "\n",
        "# Print the average growth\n",
        "print(f'Average GDP growth in 2023: {average_growth_2023}%')\n"
      ],
      "metadata": {
        "colab": {
          "base_uri": "https://localhost:8080/"
        },
        "id": "Ntp5W7RT4B-s",
        "outputId": "cce2ef29-1d10-49e8-9c2c-6c4bf9d7ee86"
      },
      "execution_count": 33,
      "outputs": [
        {
          "output_type": "stream",
          "name": "stdout",
          "text": [
            "Average GDP growth in 2023: 2.5%\n"
          ]
        }
      ]
    },
    {
      "cell_type": "markdown",
      "source": [
        "#  Question 2. [Macro] Inverse \"Treasury Yield\"\n",
        "The Treasury yield curve is a crucial tool in the world of finance and economics. It represents the relationship between the yield (interest rate) and the maturity of a set of similar debt instruments, such as government bonds. The difference between the 10-year and 2-year Treasury yields, often referred to as the \"yield spread,\" is an important indicator of economic conditions and investor sentiment.\n",
        "*   Find the min value of (dgs10-dgs2) since year 2000 (2000-01-01)\n",
        "*   Write it down as an answer and round to 1 digit after the decimal point\n",
        "*   Download DGS2 and DGS10 interest rates series\n",
        "    *  https://fred.stlouisfed.org/series/DGS2\n",
        "    *  https://fred.stlouisfed.org/series/DGS10\n",
        "*   Join them together to one dataframe on date (you might need to read about pandas.DataFrame.join())\n",
        "*   Calculate the difference dgs10-dgs2 daily.\n"
      ],
      "metadata": {
        "id": "0HD_eGS95TWk"
      }
    },
    {
      "cell_type": "code",
      "source": [
        "# REWORK\n",
        "import pandas_datareader as pdr\n",
        "\n",
        "# Download the 2-year and 10-year Treasury yields from the FRED website\n",
        "# since year 2000 (2000-01-01)\n",
        "start='2000-01-01'\n",
        "dgs2 = pdr.DataReader('DGS2', 'fred', start=start)\n",
        "dgs10 = pdr.DataReader('DGS10', 'fred', start=start)\n",
        "\n",
        "# Merge the data into a single DataFrame using the merge() method, making sure\n",
        "# to align the data on the DATE column\n",
        "df = dgs2.merge(dgs10, on='DATE', how='inner')\n",
        "\n",
        "# Calculate the difference between the 10-year and 2-year yields\n",
        "df['yield_curve_spread'] = df['DGS10'] - df['DGS2']\n",
        "\n",
        "# Find the minimum value of the yield curve spread\n",
        "min_spread = round(df['yield_curve_spread'].min(),1)\n",
        "print(f'The minimum value of the yield curve spread since 2000 is {min_spread}.')\n",
        "\n",
        "\n"
      ],
      "metadata": {
        "colab": {
          "base_uri": "https://localhost:8080/"
        },
        "id": "i9bzJvB89683",
        "outputId": "e4117799-19cd-4c9c-8993-1fd06f3e583c"
      },
      "execution_count": 40,
      "outputs": [
        {
          "output_type": "stream",
          "name": "stdout",
          "text": [
            "The minimum value of the yield curve spread since 2000 is -1.1.\n"
          ]
        }
      ]
    },
    {
      "cell_type": "markdown",
      "source": [
        "# Question 3. [Index] Which Index is better recently?\n",
        "*   Compare S&P 500 and IPC Mexico indexes by the 5 year growth and write down the largest value as an answer (%)\n",
        "*   Download on Yahoo Finance two daily index prices for S&P 500 (^GSPC, https://finance.yahoo.com/quote/%5EGSPC/) and IPC Mexico (^MXX, https://finance.yahoo.com/quote/%5EMXX/).\n",
        "*   Compare 5Y growth for both (between 2019-04-09 and 2024-04-09).\n",
        "*   Select the higher growing index and write down the growth in %  (closest integer %). E.g. if ratio end/start was 2.0925 (or growth of 109.25%), you need to write down 109 as your answer.\n"
      ],
      "metadata": {
        "id": "5JrpDj041LrB"
      }
    },
    {
      "cell_type": "code",
      "source": [
        "# let's the Yahoo Finance API to download the daily price data for these two indexes\n",
        "import yfinance as yf\n",
        "\n",
        "# Download S&P 500 data\n",
        "sp500 = yf.download('^GSPC', start='2019-04-09', end='2024-04-09')\n",
        "\n",
        "# Download IPC Mexico data\n",
        "ipc_mexico = yf.download('^MXX', start='2019-04-09', end='2024-04-09')"
      ],
      "metadata": {
        "colab": {
          "base_uri": "https://localhost:8080/"
        },
        "id": "DbYPSGSsIGa2",
        "outputId": "16a67309-8304-4559-8b7c-97884ae2167b"
      },
      "execution_count": 44,
      "outputs": [
        {
          "output_type": "stream",
          "name": "stderr",
          "text": [
            "[*********************100%%**********************]  1 of 1 completed\n",
            "[*********************100%%**********************]  1 of 1 completed\n"
          ]
        }
      ]
    },
    {
      "cell_type": "code",
      "source": [
        "# Calculate 5-year growth for S&P 500\n",
        "sp500_start = sp500['Close'].iloc[0]\n",
        "sp500_end = sp500['Close'].iloc[-1]\n",
        "sp500_growth = (sp500_end / sp500_start) - 1\n",
        "print(f\"S&P 500 5-year growth: {sp500_growth * 100:.0f}%\")\n",
        "\n",
        "# Calculate 5-year growth for IPC Mexico\n",
        "ipc_mexico_start = ipc_mexico['Close'].iloc[0]\n",
        "ipc_mexico_end = ipc_mexico['Close'].iloc[-1]\n",
        "ipc_mexico_growth = (ipc_mexico_end / ipc_mexico_start) - 1\n",
        "print(f\"IPC Mexico 5-year growth: {ipc_mexico_growth * 100:.0f}%\")"
      ],
      "metadata": {
        "colab": {
          "base_uri": "https://localhost:8080/"
        },
        "id": "fYUxhfwyJNfH",
        "outputId": "56b0bc97-73b3-4c08-9df1-a20d240fc844"
      },
      "execution_count": 43,
      "outputs": [
        {
          "output_type": "stream",
          "name": "stdout",
          "text": [
            "S&P 500 5-year growth: 81%\n",
            "IPC Mexico 5-year growth: 28%\n"
          ]
        }
      ]
    },
    {
      "cell_type": "markdown",
      "source": [
        "# Question 4. [Stocks OHLCV] 52-week range ratio (2023) for the selected stocks\n",
        "First, let's set the stage by understanding the 52-week range ratio. This metric is calculated as the difference between the maximum and minimum adjusted closing prices for a stock over a 52-week (one year) period, divided by the maximum adjusted closing price. This gives us a sense of how much the stock's price has fluctuated within that timeframe, with a higher ratio indicating a larger price range.\n",
        "*   Find the largest range ratio [=(max-min)/max] of Adj.Close prices in 2023\n",
        "*   Download the 2023 daily OHLCV data on Yahoo Finance for top5 stocks on earnings (https://companiesmarketcap.com/most-profitable-companies/): 2222.SR,BRK-B, AAPL, MSFT, GOOG, JPM.\n",
        "*   Here is the example data you should see in Pandas for \"2222.SR\": https://finance.yahoo.com/quote/2222.SR/history\n",
        "*   Calculate maximum-minimim \"Adj.Close\" price for each stock and divide it by the maximum \"Adj.Close\" value. Round the result to two decimal places (e.g. 0.1575 will be 0.16)"
      ],
      "metadata": {
        "id": "ogZItD6h6iDw"
      }
    },
    {
      "cell_type": "code",
      "source": [
        "# We'll be using the Yahoo Finance API to download the 2023 daily OHLCV (Open, High, Low, Close, Volume)\n",
        "# data for each of these stocks: 2222.SR,BRK-B, AAPL, MSFT, GOOG, JPM\n",
        "\n",
        "import pandas as pd\n",
        "\n",
        "# List of tickers\n",
        "tickers = ['2222.SR', 'BRK-B', 'AAPL', 'MSFT', 'GOOG', 'JPM']\n",
        "\n",
        "# Create an empty dictionary to store the results\n",
        "results = {}\n",
        "\n",
        "# Loop through the tickers and calculate the 52-week range ratio\n",
        "for ticker in tickers:\n",
        "    # Download the 2023 daily OHLCV data for the current ticker\n",
        "    df = pd.read_csv(f'https://query1.finance.yahoo.com/v7/finance/download/{ticker}?period1=1672531200&period2=1704067200&interval=1d&events=history&includeAdjustedClose=true')\n",
        "\n",
        "    # Convert the 'Date' column to a datetime object\n",
        "    df['Date'] = pd.to_datetime(df['Date'])\n",
        "\n",
        "    # Filter the data to only include 2023\n",
        "    df = df[df['Date'].dt.year == 2023]\n",
        "\n",
        "    # Calculate the 52-week range ratio\n",
        "    max_price = df['Adj Close'].max()\n",
        "    min_price = df['Adj Close'].min()\n",
        "    range_ratio = round((max_price - min_price) / max_price, 2)\n",
        "\n",
        "    # Store the result in the dictionary\n",
        "    results[ticker] = range_ratio\n",
        "\n",
        "# Print the results\n",
        "for ticker, ratio in results.items():\n",
        "    print(f\"The 52-week range ratio for {ticker} in 2023 is: {ratio}\")\n",
        "\n"
      ],
      "metadata": {
        "colab": {
          "base_uri": "https://localhost:8080/"
        },
        "id": "LcXVJMec6heK",
        "outputId": "167593c4-704b-4314-be12-db77d5b31501"
      },
      "execution_count": 45,
      "outputs": [
        {
          "output_type": "stream",
          "name": "stdout",
          "text": [
            "The 52-week range ratio for 2222.SR in 2023 is: 0.21\n",
            "The 52-week range ratio for BRK-B in 2023 is: 0.21\n",
            "The 52-week range ratio for AAPL in 2023 is: 0.37\n",
            "The 52-week range ratio for MSFT in 2023 is: 0.42\n",
            "The 52-week range ratio for GOOG in 2023 is: 0.39\n",
            "The 52-week range ratio for JPM in 2023 is: 0.28\n"
          ]
        }
      ]
    },
    {
      "cell_type": "markdown",
      "source": [
        "# Question 5. [Stocks] Dividend Yield\n",
        "*   Find the largest dividend yield for the same set of stocks\n",
        "*   Use the same list of companies (2222.SR,BRK-B, AAPL, MSFT, GOOG, JPM) and download all dividends paid in 2023. You can use get_actions() method or .dividends field in yfinance library (https://github.com/ranaroussi/yfinance?tab=readme-ov-file#quick-start)\n",
        "*   Sum up all dividends paid in 2023 per company"
      ],
      "metadata": {
        "id": "C7GckaUx6-d9"
      }
    },
    {
      "cell_type": "code",
      "source": [
        "# First, let's import the necessary libraries and get our list of companies.  we'll use the yfinance library to download the\n",
        "# dividend data for each company.\n",
        "import yfinance as yf\n",
        "tickers = ['2222.SR', 'BRK-B', 'AAPL', 'MSFT', 'GOOG', 'JPM']"
      ],
      "metadata": {
        "id": "O-72vrI7MGs9"
      },
      "execution_count": 71,
      "outputs": []
    },
    {
      "cell_type": "code",
      "source": [
        "#  Next, we'll store the total dividends paid in 2023 for each company in a dictionary.\n",
        "dividends = {}\n",
        "\n",
        "for ticker in tickers:\n",
        "    company = yf.Ticker(ticker)\n",
        "    total_dividends = company.dividends['2023'].sum()\n",
        "    dividends[ticker] = total_dividends"
      ],
      "metadata": {
        "id": "0yvd-wrXM00G"
      },
      "execution_count": 72,
      "outputs": []
    },
    {
      "cell_type": "code",
      "source": [
        "# Let's calculate the dividend yield for each company and find the largest one.\n",
        "prices = {ticker: yf.Ticker(ticker).info['currentPrice'] for ticker in tickers}\n",
        "dividend_yields = {ticker: (dividends[ticker] / prices[ticker]) * 100 for ticker in tickers}\n",
        "largest_yield = max(dividend_yields.values())\n",
        "best_stock = [k for k, v in dividend_yields.items() if v == largest_yield][0]\n",
        "\n",
        "print(f\"The largest dividend yield in 2023 is {largest_yield:.2f}% for {best_stock}.\")"
      ],
      "metadata": {
        "colab": {
          "base_uri": "https://localhost:8080/"
        },
        "id": "ZKMoMlqkRIFv",
        "outputId": "cb9a9c23-364a-47ce-9c3c-bf0341e58d5d"
      },
      "execution_count": 73,
      "outputs": [
        {
          "output_type": "stream",
          "name": "stdout",
          "text": [
            "The largest dividend yield in 2023 is 3.03% for 2222.SR.\n"
          ]
        }
      ]
    },
    {
      "cell_type": "code",
      "source": [
        "# Print the dividend yields for each stock\n",
        "for ticker, dividend_yield in dividend_yields.items():\n",
        "    print(f\"Dividend yield for {ticker}: {dividend_yield:.2f}%\")"
      ],
      "metadata": {
        "colab": {
          "base_uri": "https://localhost:8080/"
        },
        "id": "aAW253kDRH58",
        "outputId": "046a84d0-1992-4c5b-f0e0-9ffbf9149c6b"
      },
      "execution_count": 74,
      "outputs": [
        {
          "output_type": "stream",
          "name": "stdout",
          "text": [
            "Dividend yield for 2222.SR: 3.03%\n",
            "Dividend yield for BRK-B: 0.00%\n",
            "Dividend yield for AAPL: 0.58%\n",
            "Dividend yield for MSFT: 0.70%\n",
            "Dividend yield for GOOG: 0.00%\n",
            "Dividend yield for JPM: 2.18%\n"
          ]
        }
      ]
    },
    {
      "cell_type": "code",
      "source": [],
      "metadata": {
        "id": "Cs5Nawu3NjGd"
      },
      "execution_count": null,
      "outputs": []
    },
    {
      "cell_type": "markdown",
      "source": [
        "# Question 6. [Exploratory] Investigate new metrics\n",
        "*   Free text answer\n",
        "*   Download and explore a few additional metrics or time series that might be valuable for your project and write down why (briefly).\n",
        "*   Download data on the number of people employed in the United States"
      ],
      "metadata": {
        "id": "o0PZJGsY7KT0"
      }
    },
    {
      "cell_type": "code",
      "source": [
        "# These metrics can be used to track the performance of the economy and to make investment decisions.\n",
        "import pandas_datareader as pdr\n",
        "start='2023-04-01'\n",
        "\n",
        "# The unemployment rate is a key indicator of the health of the economy.\n",
        "# Fetch the US employment data from FRED\n",
        "emp_data = pdr.DataReader('UNRATE', 'fred', start=start)\n",
        "\n",
        "# The consumer price index is a measure of inflation.\n",
        "# Download data on the consumer price index from FRED\n",
        "cpi = pdr.get_data_fred('CPIAUCSL', start=start)\n",
        "\n",
        "# The S&P 500 index is a measure of the stock market.\n",
        "# Download data on the S&P 500 index from yFinance\n",
        "sp500 = yf.download('^GSPC', start=start)\n",
        "\n",
        "# Take a quick look at the data\n",
        "print(emp_data.head(12))\n",
        "print(cpi.head(12))\n",
        "print(sp500.head(12))\n",
        "\n"
      ],
      "metadata": {
        "colab": {
          "base_uri": "https://localhost:8080/"
        },
        "id": "tBTm0qjQUJCo",
        "outputId": "9dc914b2-768d-4a29-c192-aaf0df5ebf81"
      },
      "execution_count": 87,
      "outputs": [
        {
          "output_type": "stream",
          "name": "stderr",
          "text": [
            "\r[*********************100%%**********************]  1 of 1 completed"
          ]
        },
        {
          "output_type": "stream",
          "name": "stdout",
          "text": [
            "            UNRATE\n",
            "DATE              \n",
            "2023-04-01     3.4\n",
            "2023-05-01     3.7\n",
            "2023-06-01     3.6\n",
            "2023-07-01     3.5\n",
            "2023-08-01     3.8\n",
            "2023-09-01     3.8\n",
            "2023-10-01     3.8\n",
            "2023-11-01     3.7\n",
            "2023-12-01     3.7\n",
            "2024-01-01     3.7\n",
            "2024-02-01     3.9\n",
            "2024-03-01     3.8\n",
            "            CPIAUCSL\n",
            "DATE                \n",
            "2023-04-01   303.032\n",
            "2023-05-01   303.365\n",
            "2023-06-01   304.003\n",
            "2023-07-01   304.628\n",
            "2023-08-01   306.187\n",
            "2023-09-01   307.288\n",
            "2023-10-01   307.531\n",
            "2023-11-01   308.024\n",
            "2023-12-01   308.742\n",
            "2024-01-01   309.685\n",
            "2024-02-01   311.054\n",
            "2024-03-01   312.230\n",
            "                   Open         High          Low        Close    Adj Close  \\\n",
            "Date                                                                          \n",
            "2023-04-03  4102.200195  4127.660156  4098.790039  4124.509766  4124.509766   \n",
            "2023-04-04  4128.029785  4133.129883  4086.870117  4100.600098  4100.600098   \n",
            "2023-04-05  4094.500000  4099.689941  4072.560059  4090.379883  4090.379883   \n",
            "2023-04-06  4081.149902  4107.319824  4069.840088  4105.020020  4105.020020   \n",
            "2023-04-10  4085.199951  4109.500000  4072.550049  4109.109863  4109.109863   \n",
            "2023-04-11  4110.290039  4124.259766  4102.609863  4108.939941  4108.939941   \n",
            "2023-04-12  4121.720215  4134.370117  4086.939941  4091.949951  4091.949951   \n",
            "2023-04-13  4100.040039  4150.259766  4099.399902  4146.220215  4146.220215   \n",
            "2023-04-14  4140.109863  4163.189941  4113.200195  4137.640137  4137.640137   \n",
            "2023-04-17  4137.169922  4151.720215  4123.180176  4151.319824  4151.319824   \n",
            "2023-04-18  4164.259766  4169.479980  4140.359863  4154.870117  4154.870117   \n",
            "2023-04-19  4139.330078  4162.569824  4134.490234  4154.520020  4154.520020   \n",
            "\n",
            "                Volume  \n",
            "Date                    \n",
            "2023-04-03  4234700000  \n",
            "2023-04-04  4227800000  \n",
            "2023-04-05  3968020000  \n",
            "2023-04-06  3486690000  \n",
            "2023-04-10  3423650000  \n",
            "2023-04-11  3665830000  \n",
            "2023-04-12  3633120000  \n",
            "2023-04-13  3596590000  \n",
            "2023-04-14  3575690000  \n",
            "2023-04-17  3611180000  \n",
            "2023-04-18  3536640000  \n",
            "2023-04-19  3572560000  \n"
          ]
        },
        {
          "output_type": "stream",
          "name": "stderr",
          "text": [
            "\n"
          ]
        }
      ]
    },
    {
      "cell_type": "markdown",
      "source": [
        "# Question 7. [Exploratory] Time-driven strategy description around earnings releases\n",
        "*   Explore earning dates for the whole month of April - e.g. using YahooFinance earnings calendar (https://finance.yahoo.com/calendar/earnings?from=2024-04-21&to=2024-04-27&day=2024-04-23).\n",
        "*   Compare with the previous closed earnings (e.g., recent dates with full data https://finance.yahoo.com/calendar/earnings?from=2024-04-07&to=2024-04-13&day=2024-04-08).\n",
        "*   Describe an analytical strategy/idea (you're not required to implement it) to select a subset companies of interest based on the future events data."
      ],
      "metadata": {
        "id": "Zpug-r5S7WrR"
      }
    },
    {
      "cell_type": "markdown",
      "source": [
        "By comparing the upcoming earnings dates with the recent closed earnings dates, we can start to identify patterns and potential opportunities. For example, we could look for companies that have consistently beaten or missed their earnings expectations, or we could focus on industries or sectors that are showing significant activity around earnings releases.\n",
        "\n",
        "To develop an analytical strategy, we could use machine learning techniques to create a model that predicts the market's reaction to a company's earnings report. This could involve training the model on historical data, such as stock price movements, earnings surprises, and other relevant features. Then, we could use the model to evaluate the upcoming earnings releases and identify a subset of companies that are likely to experience a significant price movement.\n",
        "\n",
        "Here's a simple example of how we could use a linear regression model to predict a company's stock price movement based on its earnings surprise:"
      ],
      "metadata": {
        "id": "uEkPAlkQZMn0"
      }
    },
    {
      "cell_type": "code",
      "source": [
        "import numpy as np\n",
        "from sklearn.linear_model import LinearRegression\n",
        "\n",
        "# Assume we have historical data on earnings surprises and stock price movements\n",
        "earnings_surprises = [0.05, -0.02, 0.08, -0.03, 0.01]\n",
        "stock_price_movements = [0.08, -0.04, 0.12, -0.07, 0.03]\n",
        "\n",
        "# Train the linear regression model\n",
        "model = LinearRegression()\n",
        "model.fit(np.array(earnings_surprises).reshape(-1, 1), np.array(stock_price_movements))\n",
        "\n",
        "# Use the model to predict the stock price movement for an upcoming earnings release\n",
        "upcoming_earnings_surprise = 0.06\n",
        "predicted_stock_price_movement = model.predict([[upcoming_earnings_surprise]])[0]\n",
        "print(f\"Predicted stock price movement: {predicted_stock_price_movement:.2f}\")"
      ],
      "metadata": {
        "colab": {
          "base_uri": "https://localhost:8080/"
        },
        "id": "gG0AIRDOZC5O",
        "outputId": "9edc9d77-6881-4a26-b5e8-f5741b6bace8"
      },
      "execution_count": 90,
      "outputs": [
        {
          "output_type": "stream",
          "name": "stdout",
          "text": [
            "Predicted stock price movement: 0.09\n"
          ]
        }
      ]
    },
    {
      "cell_type": "markdown",
      "source": [
        "This is just a simple example, but you could build more complex models that take into account additional factors, such as market sentiment, industry trends, and macroeconomic conditions."
      ],
      "metadata": {
        "id": "VcAme0eaZrOj"
      }
    }
  ]
}