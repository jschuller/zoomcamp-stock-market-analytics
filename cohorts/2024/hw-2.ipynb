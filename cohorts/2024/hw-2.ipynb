{
 "cells": [
  {
   "cell_type": "markdown",
   "metadata": {},
   "source": [
    "> git config pull.rebase true\n",
    ">- Git will automatically rebase your local commits on top of the remote branch's commits when you perform a 'git pull' operation.\n",
    ">- Rebasing helps to maintain a linear commit history, which can make the project's history easier to understand and navigate.\n",
    "\n",
    "> git config pull.ff only\n",
    ">- A fast-forward merge occurs when the remote branch's commit history is a direct ancestor of the local branch's commit history. \n",
    ">- In this case, Git can simply \"fast-forward\" the local branch to the remote branch's commit without creating a merge commit. This helps to keep the commit history clean and linear.\n",
    "\n",
    "> git pull\n",
    ">- This command fetches the latest commits from the remote repository and merges them into the local repository.\n",
    ">- Since the \"pull.rebase\" and \"pull.ff\" options were set, Git will automatically rebase the local commits on top of the remote commits and perform a fast-forward merge if possible.\n",
    " "
   ]
  },
  {
   "cell_type": "code",
   "execution_count": null,
   "metadata": {},
   "outputs": [],
   "source": [
    "# https://companiesmarketcap.com/usa/largest-companies-in-the-usa-by-market-cap/\n",
    "US_STOCKS = ['MSFT', 'AAPL', 'GOOG', 'NVDA', 'AMZN', 'META', 'BRK-B', 'LLY', 'AVGO','V', 'JPM']\n",
    "\n",
    "# You're required to add EU_STOCKS and INDIA_STOCS\n",
    "# https://companiesmarketcap.com/european-union/largest-companies-in-the-eu-by-market-cap/\n",
    "EU_STOCKS = ['NVO','MC.PA', 'ASML', 'RMS.PA', 'OR.PA', 'SAP', 'ACN', 'TTE', 'SIE.DE','IDEXY','CDI.PA']\n",
    "\n",
    "# https://companiesmarketcap.com/india/largest-companies-in-india-by-market-cap/\n",
    "INDIA_STOCKS = ['RELIANCE.NS','TCS.NS','HDB','BHARTIARTL.NS','IBN','SBIN.NS','LICI.NS','INFY','ITC.NS','HINDUNILVR.NS','LT.NS']"
   ]
  },
  {
   "cell_type": "code",
   "execution_count": null,
   "metadata": {},
   "outputs": [],
   "source": [
    "# https://companiesmarketcap.com/usa/largest-companies-in-the-usa-by-market-cap/\n",
    "US_STOCKS = ['MSFT', 'AAPL', 'GOOG', 'NVDA', 'AMZN', 'META', 'BRK-B', 'LLY', 'AVGO','V', 'JPM']\n",
    "\n",
    "# You're required to add EU_STOCKS and INDIA_STOCS\n",
    "# https://companiesmarketcap.com/european-union/largest-companies-in-the-eu-by-market-cap/\n",
    "EU_STOCKS = ['NVO','MC.PA', 'ASML', 'RMS.PA', 'OR.PA', 'SAP', 'ACN', 'TTE', 'SIE.DE','IDEXY','CDI.PA']\n",
    "\n",
    "# https://companiesmarketcap.com/india/largest-companies-in-india-by-market-cap/\n",
    "INDIA_STOCKS = ['RELIANCE.NS','TCS.NS','HDB','BHARTIARTL.NS','IBN','SBIN.NS','LICI.NS','INFY','ITC.NS','HINDUNILVR.NS','LT.NS']"
   ]
  },
  {
   "cell_type": "code",
   "execution_count": null,
   "metadata": {},
   "outputs": [
    {
     "data": {
      "text/plain": [
       "['MSFT',\n",
       " 'AAPL',\n",
       " 'GOOG',\n",
       " 'NVDA',\n",
       " 'AMZN',\n",
       " 'META',\n",
       " 'BRK-B',\n",
       " 'LLY',\n",
       " 'AVGO',\n",
       " 'V',\n",
       " 'JPM',\n",
       " 'NVO',\n",
       " 'MC.PA',\n",
       " 'ASML',\n",
       " 'RMS.PA',\n",
       " 'OR.PA',\n",
       " 'SAP',\n",
       " 'ACN',\n",
       " 'TTE',\n",
       " 'SIE.DE',\n",
       " 'IDEXY',\n",
       " 'CDI.PA',\n",
       " 'RELIANCE.NS',\n",
       " 'TCS.NS',\n",
       " 'HDB',\n",
       " 'BHARTIARTL.NS',\n",
       " 'IBN',\n",
       " 'SBIN.NS',\n",
       " 'LICI.NS',\n",
       " 'INFY',\n",
       " 'ITC.NS',\n",
       " 'HINDUNILVR.NS',\n",
       " 'LT.NS']"
      ]
     },
     "metadata": {},
     "output_type": "display_data"
    }
   ],
   "source": [
    "ALL_TICKERS = US_STOCKS  + EU_STOCKS + INDIA_STOCKS\n",
    "ALL_TICKERS"
   ]
  },
  {
   "cell_type": "code",
   "execution_count": null,
   "metadata": {},
   "outputs": [
    {
     "name": "stdout",
     "output_type": "stream",
     "text": [
      "0 MSFT\n"
     ]
    },
    {
     "name": "stderr",
     "output_type": "stream",
     "text": [
      "\r[*********************100%%**********************]  1 of 1 completed\n"
     ]
    },
    {
     "name": "stdout",
     "output_type": "stream",
     "text": [
      "1 AAPL\n"
     ]
    },
    {
     "name": "stderr",
     "output_type": "stream",
     "text": [
      "\r[*********************100%%**********************]  1 of 1 completed\n"
     ]
    },
    {
     "name": "stdout",
     "output_type": "stream",
     "text": [
      "2 GOOG\n"
     ]
    },
    {
     "name": "stderr",
     "output_type": "stream",
     "text": [
      "\r[*********************100%%**********************]  1 of 1 completed\n"
     ]
    },
    {
     "name": "stdout",
     "output_type": "stream",
     "text": [
      "3 NVDA\n"
     ]
    },
    {
     "name": "stderr",
     "output_type": "stream",
     "text": [
      "\r[*********************100%%**********************]  1 of 1 completed\n"
     ]
    },
    {
     "name": "stdout",
     "output_type": "stream",
     "text": [
      "4 AMZN\n"
     ]
    },
    {
     "name": "stderr",
     "output_type": "stream",
     "text": [
      "\r[*********************100%%**********************]  1 of 1 completed\n"
     ]
    },
    {
     "name": "stdout",
     "output_type": "stream",
     "text": [
      "5 META\n"
     ]
    },
    {
     "name": "stderr",
     "output_type": "stream",
     "text": [
      "\r[*********************100%%**********************]  1 of 1 completed\n"
     ]
    },
    {
     "name": "stdout",
     "output_type": "stream",
     "text": [
      "6 BRK-B\n"
     ]
    },
    {
     "name": "stderr",
     "output_type": "stream",
     "text": [
      "\r[*********************100%%**********************]  1 of 1 completed\n"
     ]
    },
    {
     "name": "stdout",
     "output_type": "stream",
     "text": [
      "7 LLY\n"
     ]
    },
    {
     "name": "stderr",
     "output_type": "stream",
     "text": [
      "\r[*********************100%%**********************]  1 of 1 completed\n"
     ]
    },
    {
     "name": "stdout",
     "output_type": "stream",
     "text": [
      "8 AVGO\n"
     ]
    },
    {
     "name": "stderr",
     "output_type": "stream",
     "text": [
      "\r[*********************100%%**********************]  1 of 1 completed\n"
     ]
    },
    {
     "name": "stdout",
     "output_type": "stream",
     "text": [
      "9 V\n"
     ]
    },
    {
     "name": "stderr",
     "output_type": "stream",
     "text": [
      "\r[*********************100%%**********************]  1 of 1 completed\n"
     ]
    },
    {
     "name": "stdout",
     "output_type": "stream",
     "text": [
      "10 JPM\n"
     ]
    },
    {
     "name": "stderr",
     "output_type": "stream",
     "text": [
      "\r[*********************100%%**********************]  1 of 1 completed\n"
     ]
    },
    {
     "name": "stdout",
     "output_type": "stream",
     "text": [
      "11 NVO\n"
     ]
    },
    {
     "name": "stderr",
     "output_type": "stream",
     "text": [
      "\r[*********************100%%**********************]  1 of 1 completed\n"
     ]
    },
    {
     "name": "stdout",
     "output_type": "stream",
     "text": [
      "12 MC.PA\n"
     ]
    },
    {
     "name": "stderr",
     "output_type": "stream",
     "text": [
      "\r[*********************100%%**********************]  1 of 1 completed\n"
     ]
    },
    {
     "name": "stdout",
     "output_type": "stream",
     "text": [
      "13 ASML\n"
     ]
    },
    {
     "name": "stderr",
     "output_type": "stream",
     "text": [
      "\r[*********************100%%**********************]  1 of 1 completed\n"
     ]
    },
    {
     "name": "stdout",
     "output_type": "stream",
     "text": [
      "14 RMS.PA\n"
     ]
    },
    {
     "name": "stderr",
     "output_type": "stream",
     "text": [
      "\r[*********************100%%**********************]  1 of 1 completed\n"
     ]
    },
    {
     "name": "stdout",
     "output_type": "stream",
     "text": [
      "15 OR.PA\n"
     ]
    },
    {
     "name": "stderr",
     "output_type": "stream",
     "text": [
      "\r[*********************100%%**********************]  1 of 1 completed\n"
     ]
    },
    {
     "name": "stdout",
     "output_type": "stream",
     "text": [
      "16 SAP\n"
     ]
    },
    {
     "name": "stderr",
     "output_type": "stream",
     "text": [
      "\r[*********************100%%**********************]  1 of 1 completed\n"
     ]
    },
    {
     "name": "stdout",
     "output_type": "stream",
     "text": [
      "17 ACN\n"
     ]
    },
    {
     "name": "stderr",
     "output_type": "stream",
     "text": [
      "\r[*********************100%%**********************]  1 of 1 completed\n"
     ]
    },
    {
     "name": "stdout",
     "output_type": "stream",
     "text": [
      "18 TTE\n"
     ]
    },
    {
     "name": "stderr",
     "output_type": "stream",
     "text": [
      "\r[*********************100%%**********************]  1 of 1 completed\n"
     ]
    },
    {
     "name": "stdout",
     "output_type": "stream",
     "text": [
      "19 SIE.DE\n"
     ]
    },
    {
     "name": "stderr",
     "output_type": "stream",
     "text": [
      "\r[*********************100%%**********************]  1 of 1 completed\n"
     ]
    },
    {
     "name": "stdout",
     "output_type": "stream",
     "text": [
      "20 IDEXY\n"
     ]
    },
    {
     "name": "stderr",
     "output_type": "stream",
     "text": [
      "\r[*********************100%%**********************]  1 of 1 completed\n"
     ]
    },
    {
     "name": "stdout",
     "output_type": "stream",
     "text": [
      "21 CDI.PA\n"
     ]
    },
    {
     "name": "stderr",
     "output_type": "stream",
     "text": [
      "\r[*********************100%%**********************]  1 of 1 completed\n"
     ]
    },
    {
     "name": "stdout",
     "output_type": "stream",
     "text": [
      "22 RELIANCE.NS\n"
     ]
    },
    {
     "name": "stderr",
     "output_type": "stream",
     "text": [
      "\r[*********************100%%**********************]  1 of 1 completed\n"
     ]
    },
    {
     "name": "stdout",
     "output_type": "stream",
     "text": [
      "23 TCS.NS\n"
     ]
    },
    {
     "name": "stderr",
     "output_type": "stream",
     "text": [
      "\r[*********************100%%**********************]  1 of 1 completed\n"
     ]
    },
    {
     "name": "stdout",
     "output_type": "stream",
     "text": [
      "24 HDB\n"
     ]
    },
    {
     "name": "stderr",
     "output_type": "stream",
     "text": [
      "\r[*********************100%%**********************]  1 of 1 completed\n"
     ]
    },
    {
     "name": "stdout",
     "output_type": "stream",
     "text": [
      "25 BHARTIARTL.NS\n"
     ]
    },
    {
     "name": "stderr",
     "output_type": "stream",
     "text": [
      "\r[*********************100%%**********************]  1 of 1 completed\n"
     ]
    },
    {
     "name": "stdout",
     "output_type": "stream",
     "text": [
      "26 IBN\n"
     ]
    },
    {
     "name": "stderr",
     "output_type": "stream",
     "text": [
      "\r[*********************100%%**********************]  1 of 1 completed\n"
     ]
    },
    {
     "name": "stdout",
     "output_type": "stream",
     "text": [
      "27 SBIN.NS\n"
     ]
    },
    {
     "name": "stderr",
     "output_type": "stream",
     "text": [
      "[*********************100%%**********************]  1 of 1 completed\n",
      "[*********************100%%**********************]  1 of 1 completed"
     ]
    },
    {
     "name": "stdout",
     "output_type": "stream",
     "text": [
      "28 LICI.NS\n"
     ]
    },
    {
     "name": "stderr",
     "output_type": "stream",
     "text": [
      "\n"
     ]
    },
    {
     "name": "stdout",
     "output_type": "stream",
     "text": [
      "29 INFY\n"
     ]
    },
    {
     "name": "stderr",
     "output_type": "stream",
     "text": [
      "\r[*********************100%%**********************]  1 of 1 completed\n"
     ]
    },
    {
     "name": "stdout",
     "output_type": "stream",
     "text": [
      "30 ITC.NS\n"
     ]
    },
    {
     "name": "stderr",
     "output_type": "stream",
     "text": [
      "\r[*********************100%%**********************]  1 of 1 completed\n"
     ]
    },
    {
     "name": "stdout",
     "output_type": "stream",
     "text": [
      "31 HINDUNILVR.NS\n"
     ]
    },
    {
     "name": "stderr",
     "output_type": "stream",
     "text": [
      "\r[*********************100%%**********************]  1 of 1 completed\n"
     ]
    },
    {
     "name": "stdout",
     "output_type": "stream",
     "text": [
      "32 LT.NS\n"
     ]
    },
    {
     "name": "stderr",
     "output_type": "stream",
     "text": [
      "\r[*********************100%%**********************]  1 of 1 completed\n"
     ]
    }
   ],
   "source": [
    "import time\n",
    "\n",
    "stocks_df = pd.DataFrame({'A' : []})\n",
    "\n",
    "for i,ticker in enumerate(ALL_TICKERS):\n",
    "  print(i,ticker)\n",
    "\n",
    "  # Work with stock prices\n",
    "  historyPrices = yf.download(tickers = ticker,\n",
    "                     period = \"max\",\n",
    "                     interval = \"1d\")\n",
    "\n",
    "  # generate features for historical prices, and what we want to predict\n",
    "  historyPrices['Ticker'] = ticker\n",
    "  historyPrices['Year']= historyPrices.index.year\n",
    "  historyPrices['Month'] = historyPrices.index.month\n",
    "  historyPrices['Weekday'] = historyPrices.index.weekday\n",
    "  historyPrices['Date'] = historyPrices.index.date\n",
    "\n",
    "  # historical returns\n",
    "  for i in [1,3,7,30,90,365]:\n",
    "    historyPrices['growth_'+str(i)+'d'] = historyPrices['Adj Close'] / historyPrices['Adj Close'].shift(i)\n",
    "  historyPrices['growth_future_5d'] = historyPrices['Adj Close'].shift(-5) / historyPrices['Adj Close']\n",
    "\n",
    "  # Technical indicators\n",
    "  # SimpleMovingAverage 10 days and 20 days\n",
    "  historyPrices['SMA10']= historyPrices['Close'].rolling(10).mean()\n",
    "  historyPrices['SMA20']= historyPrices['Close'].rolling(20).mean()\n",
    "  historyPrices['growing_moving_average'] = np.where(historyPrices['SMA10'] > historyPrices['SMA20'], 1, 0)\n",
    "  historyPrices['high_minus_low_relative'] = (historyPrices.High - historyPrices.Low) / historyPrices['Adj Close']\n",
    "\n",
    "  # 30d rolling volatility : https://ycharts.com/glossary/terms/rolling_vol_30\n",
    "  historyPrices['volatility'] =   historyPrices['Adj Close'].rolling(30).std() * np.sqrt(252)\n",
    "\n",
    "  # what we want to predict\n",
    "  historyPrices['is_positive_growth_5d_future'] = np.where(historyPrices['growth_future_5d'] > 1, 1, 0)\n",
    "\n",
    "  # sleep 1 sec between downloads - not to overload the API server\n",
    "  time.sleep(1)\n",
    "\n",
    "\n",
    "  if stocks_df.empty:\n",
    "    stocks_df = historyPrices\n",
    "  else:\n",
    "    stocks_df = pd.concat([stocks_df, historyPrices], ignore_index=True)"
   ]
  },
  {
   "cell_type": "code",
   "execution_count": null,
   "metadata": {},
   "outputs": [],
   "source": [
    "def get_ticker_type(ticker:str, us_stocks_list, eu_stocks_list, india_stocks_list):\n",
    "  if ticker in us_stocks_list:\n",
    "    return 'US'\n",
    "  elif ticker in eu_stocks_list:\n",
    "    return 'EU'\n",
    "  elif ticker in india_stocks_list:\n",
    "    return 'INDIA'\n",
    "  else:\n",
    "    return 'ERROR'\n"
   ]
  },
  {
   "cell_type": "code",
   "execution_count": null,
   "metadata": {},
   "outputs": [],
   "source": [
    "stocks_df['ticker_type'] = stocks_df.Ticker.apply(lambda x:get_ticker_type(x, US_STOCKS, EU_STOCKS, INDIA_STOCKS))"
   ]
  },
  {
   "cell_type": "code",
   "execution_count": null,
   "metadata": {},
   "outputs": [
    {
     "data": {
      "text/plain": [
       "ticker_type\n",
       "US       80639\n",
       "EU       76986\n",
       "INDIA    63265\n",
       "Name: count, dtype: int64"
      ]
     },
     "metadata": {},
     "output_type": "display_data"
    }
   ],
   "source": [
    "# count of observations between US-EU-INDIA stocks\n",
    "stocks_df.ticker_type.value_counts()"
   ]
  },
  {
   "cell_type": "code",
   "execution_count": null,
   "metadata": {},
   "outputs": [
    {
     "data": {
      "text/plain": [
       "33"
      ]
     },
     "metadata": {},
     "output_type": "display_data"
    }
   ],
   "source": [
    "# unique tickers\n",
    "stocks_df.Ticker.nunique()"
   ]
  },
  {
   "cell_type": "code",
   "execution_count": null,
   "metadata": {},
   "outputs": [
    {
     "data": {
      "text/plain": [
       "Ticker\n",
       "LLY              13087\n",
       "JPM              11121\n",
       "AAPL             10933\n",
       "NVO              10838\n",
       "MSFT              9607\n",
       "CDI.PA            8321\n",
       "TTE               8185\n",
       "ASML              7330\n",
       "SAP               7201\n",
       "HINDUNILVR.NS     7115\n",
       "SBIN.NS           7113\n",
       "RELIANCE.NS       7112\n",
       "ITC.NS            7112\n",
       "SIE.DE            7039\n",
       "BRK-B             7038\n",
       "AMZN              6780\n",
       "NVDA              6356\n",
       "INFY              6323\n",
       "MC.PA             6251\n",
       "RMS.PA            6251\n",
       "OR.PA             6251\n",
       "IBN               6058\n",
       "ACN               5728\n",
       "HDB               5727\n",
       "LT.NS             5420\n",
       "BHARTIARTL.NS     5417\n",
       "TCS.NS            5388\n",
       "GOOG              4955\n",
       "V                 4054\n",
       "AVGO              3705\n",
       "IDEXY             3591\n",
       "META              3003\n",
       "LICI.NS            480\n",
       "Name: count, dtype: int64"
      ]
     },
     "metadata": {},
     "output_type": "display_data"
    }
   ],
   "source": [
    "# count of observations by stock\n",
    "stocks_df.Ticker.value_counts()"
   ]
  },
  {
   "cell_type": "code",
   "execution_count": null,
   "metadata": {},
   "outputs": [
    {
     "data": {
      "application/vnd.google.colaboratory.intrinsic+json": {
       "summary": "{\n  \"name\": \"stocks_df\",\n  \"rows\": 33,\n  \"fields\": [\n    {\n      \"column\": \"min\",\n      \"properties\": {\n        \"dtype\": \"date\",\n        \"min\": \"1972-06-01\",\n        \"max\": \"2022-05-17\",\n        \"num_unique_values\": 27,\n        \"samples\": [\n          \"2004-08-19\",\n          \"1999-03-11\",\n          \"2001-07-20\"\n        ],\n        \"semantic_type\": \"\",\n        \"description\": \"\"\n      }\n    },\n    {\n      \"column\": \"max\",\n      \"properties\": {\n        \"dtype\": \"date\",\n        \"min\": \"2024-04-24\",\n        \"max\": \"2024-04-25\",\n        \"num_unique_values\": 2,\n        \"samples\": [\n          \"2024-04-24\",\n          \"2024-04-25\"\n        ],\n        \"semantic_type\": \"\",\n        \"description\": \"\"\n      }\n    }\n  ]\n}",
       "type": "dataframe"
      },
      "text/html": [
       "\n",
       "  <div id=\"df-a567f221-70b9-4459-aa53-76cc7a99cef8\" class=\"colab-df-container\">\n",
       "    <div>\n",
       "<style scoped>\n",
       "    .dataframe tbody tr th:only-of-type {\n",
       "        vertical-align: middle;\n",
       "    }\n",
       "\n",
       "    .dataframe tbody tr th {\n",
       "        vertical-align: top;\n",
       "    }\n",
       "\n",
       "    .dataframe thead th {\n",
       "        text-align: right;\n",
       "    }\n",
       "</style>\n",
       "<table border=\"1\" class=\"dataframe\">\n",
       "  <thead>\n",
       "    <tr style=\"text-align: right;\">\n",
       "      <th></th>\n",
       "      <th></th>\n",
       "      <th>min</th>\n",
       "      <th>max</th>\n",
       "    </tr>\n",
       "    <tr>\n",
       "      <th>Ticker</th>\n",
       "      <th>ticker_type</th>\n",
       "      <th></th>\n",
       "      <th></th>\n",
       "    </tr>\n",
       "  </thead>\n",
       "  <tbody>\n",
       "    <tr>\n",
       "      <th>AAPL</th>\n",
       "      <th>US</th>\n",
       "      <td>1980-12-12</td>\n",
       "      <td>2024-04-25</td>\n",
       "    </tr>\n",
       "    <tr>\n",
       "      <th>ACN</th>\n",
       "      <th>EU</th>\n",
       "      <td>2001-07-19</td>\n",
       "      <td>2024-04-25</td>\n",
       "    </tr>\n",
       "    <tr>\n",
       "      <th>AMZN</th>\n",
       "      <th>US</th>\n",
       "      <td>1997-05-15</td>\n",
       "      <td>2024-04-24</td>\n",
       "    </tr>\n",
       "    <tr>\n",
       "      <th>ASML</th>\n",
       "      <th>EU</th>\n",
       "      <td>1995-03-15</td>\n",
       "      <td>2024-04-25</td>\n",
       "    </tr>\n",
       "    <tr>\n",
       "      <th>AVGO</th>\n",
       "      <th>US</th>\n",
       "      <td>2009-08-06</td>\n",
       "      <td>2024-04-25</td>\n",
       "    </tr>\n",
       "    <tr>\n",
       "      <th>BHARTIARTL.NS</th>\n",
       "      <th>INDIA</th>\n",
       "      <td>2002-07-01</td>\n",
       "      <td>2024-04-25</td>\n",
       "    </tr>\n",
       "    <tr>\n",
       "      <th>BRK-B</th>\n",
       "      <th>US</th>\n",
       "      <td>1996-05-09</td>\n",
       "      <td>2024-04-25</td>\n",
       "    </tr>\n",
       "    <tr>\n",
       "      <th>CDI.PA</th>\n",
       "      <th>EU</th>\n",
       "      <td>1992-01-27</td>\n",
       "      <td>2024-04-25</td>\n",
       "    </tr>\n",
       "    <tr>\n",
       "      <th>GOOG</th>\n",
       "      <th>US</th>\n",
       "      <td>2004-08-19</td>\n",
       "      <td>2024-04-25</td>\n",
       "    </tr>\n",
       "    <tr>\n",
       "      <th>HDB</th>\n",
       "      <th>INDIA</th>\n",
       "      <td>2001-07-20</td>\n",
       "      <td>2024-04-25</td>\n",
       "    </tr>\n",
       "    <tr>\n",
       "      <th>HINDUNILVR.NS</th>\n",
       "      <th>INDIA</th>\n",
       "      <td>1996-01-01</td>\n",
       "      <td>2024-04-25</td>\n",
       "    </tr>\n",
       "    <tr>\n",
       "      <th>IBN</th>\n",
       "      <th>INDIA</th>\n",
       "      <td>2000-03-28</td>\n",
       "      <td>2024-04-25</td>\n",
       "    </tr>\n",
       "    <tr>\n",
       "      <th>IDEXY</th>\n",
       "      <th>EU</th>\n",
       "      <td>2010-01-20</td>\n",
       "      <td>2024-04-25</td>\n",
       "    </tr>\n",
       "    <tr>\n",
       "      <th>INFY</th>\n",
       "      <th>INDIA</th>\n",
       "      <td>1999-03-11</td>\n",
       "      <td>2024-04-25</td>\n",
       "    </tr>\n",
       "    <tr>\n",
       "      <th>ITC.NS</th>\n",
       "      <th>INDIA</th>\n",
       "      <td>1996-01-01</td>\n",
       "      <td>2024-04-25</td>\n",
       "    </tr>\n",
       "    <tr>\n",
       "      <th>JPM</th>\n",
       "      <th>US</th>\n",
       "      <td>1980-03-17</td>\n",
       "      <td>2024-04-25</td>\n",
       "    </tr>\n",
       "    <tr>\n",
       "      <th>LICI.NS</th>\n",
       "      <th>INDIA</th>\n",
       "      <td>2022-05-17</td>\n",
       "      <td>2024-04-25</td>\n",
       "    </tr>\n",
       "    <tr>\n",
       "      <th>LLY</th>\n",
       "      <th>US</th>\n",
       "      <td>1972-06-01</td>\n",
       "      <td>2024-04-25</td>\n",
       "    </tr>\n",
       "    <tr>\n",
       "      <th>LT.NS</th>\n",
       "      <th>INDIA</th>\n",
       "      <td>2002-07-01</td>\n",
       "      <td>2024-04-25</td>\n",
       "    </tr>\n",
       "    <tr>\n",
       "      <th>MC.PA</th>\n",
       "      <th>EU</th>\n",
       "      <td>2000-01-03</td>\n",
       "      <td>2024-04-25</td>\n",
       "    </tr>\n",
       "    <tr>\n",
       "      <th>META</th>\n",
       "      <th>US</th>\n",
       "      <td>2012-05-18</td>\n",
       "      <td>2024-04-25</td>\n",
       "    </tr>\n",
       "    <tr>\n",
       "      <th>MSFT</th>\n",
       "      <th>US</th>\n",
       "      <td>1986-03-13</td>\n",
       "      <td>2024-04-25</td>\n",
       "    </tr>\n",
       "    <tr>\n",
       "      <th>NVDA</th>\n",
       "      <th>US</th>\n",
       "      <td>1999-01-22</td>\n",
       "      <td>2024-04-25</td>\n",
       "    </tr>\n",
       "    <tr>\n",
       "      <th>NVO</th>\n",
       "      <th>EU</th>\n",
       "      <td>1981-04-30</td>\n",
       "      <td>2024-04-25</td>\n",
       "    </tr>\n",
       "    <tr>\n",
       "      <th>OR.PA</th>\n",
       "      <th>EU</th>\n",
       "      <td>2000-01-03</td>\n",
       "      <td>2024-04-25</td>\n",
       "    </tr>\n",
       "    <tr>\n",
       "      <th>RELIANCE.NS</th>\n",
       "      <th>INDIA</th>\n",
       "      <td>1996-01-01</td>\n",
       "      <td>2024-04-25</td>\n",
       "    </tr>\n",
       "    <tr>\n",
       "      <th>RMS.PA</th>\n",
       "      <th>EU</th>\n",
       "      <td>2000-01-03</td>\n",
       "      <td>2024-04-25</td>\n",
       "    </tr>\n",
       "    <tr>\n",
       "      <th>SAP</th>\n",
       "      <th>EU</th>\n",
       "      <td>1995-09-18</td>\n",
       "      <td>2024-04-25</td>\n",
       "    </tr>\n",
       "    <tr>\n",
       "      <th>SBIN.NS</th>\n",
       "      <th>INDIA</th>\n",
       "      <td>1996-01-01</td>\n",
       "      <td>2024-04-25</td>\n",
       "    </tr>\n",
       "    <tr>\n",
       "      <th>SIE.DE</th>\n",
       "      <th>EU</th>\n",
       "      <td>1996-11-08</td>\n",
       "      <td>2024-04-25</td>\n",
       "    </tr>\n",
       "    <tr>\n",
       "      <th>TCS.NS</th>\n",
       "      <th>INDIA</th>\n",
       "      <td>2002-08-12</td>\n",
       "      <td>2024-04-25</td>\n",
       "    </tr>\n",
       "    <tr>\n",
       "      <th>TTE</th>\n",
       "      <th>EU</th>\n",
       "      <td>1991-10-25</td>\n",
       "      <td>2024-04-25</td>\n",
       "    </tr>\n",
       "    <tr>\n",
       "      <th>V</th>\n",
       "      <th>US</th>\n",
       "      <td>2008-03-19</td>\n",
       "      <td>2024-04-25</td>\n",
       "    </tr>\n",
       "  </tbody>\n",
       "</table>\n",
       "</div>\n",
       "    <div class=\"colab-df-buttons\">\n",
       "\n",
       "  <div class=\"colab-df-container\">\n",
       "    <button class=\"colab-df-convert\" onclick=\"convertToInteractive('df-a567f221-70b9-4459-aa53-76cc7a99cef8')\"\n",
       "            title=\"Convert this dataframe to an interactive table.\"\n",
       "            style=\"display:none;\">\n",
       "\n",
       "  <svg xmlns=\"http://www.w3.org/2000/svg\" height=\"24px\" viewBox=\"0 -960 960 960\">\n",
       "    <path d=\"M120-120v-720h720v720H120Zm60-500h600v-160H180v160Zm220 220h160v-160H400v160Zm0 220h160v-160H400v160ZM180-400h160v-160H180v160Zm440 0h160v-160H620v160ZM180-180h160v-160H180v160Zm440 0h160v-160H620v160Z\"/>\n",
       "  </svg>\n",
       "    </button>\n",
       "\n",
       "  <style>\n",
       "    .colab-df-container {\n",
       "      display:flex;\n",
       "      gap: 12px;\n",
       "    }\n",
       "\n",
       "    .colab-df-convert {\n",
       "      background-color: #E8F0FE;\n",
       "      border: none;\n",
       "      border-radius: 50%;\n",
       "      cursor: pointer;\n",
       "      display: none;\n",
       "      fill: #1967D2;\n",
       "      height: 32px;\n",
       "      padding: 0 0 0 0;\n",
       "      width: 32px;\n",
       "    }\n",
       "\n",
       "    .colab-df-convert:hover {\n",
       "      background-color: #E2EBFA;\n",
       "      box-shadow: 0px 1px 2px rgba(60, 64, 67, 0.3), 0px 1px 3px 1px rgba(60, 64, 67, 0.15);\n",
       "      fill: #174EA6;\n",
       "    }\n",
       "\n",
       "    .colab-df-buttons div {\n",
       "      margin-bottom: 4px;\n",
       "    }\n",
       "\n",
       "    [theme=dark] .colab-df-convert {\n",
       "      background-color: #3B4455;\n",
       "      fill: #D2E3FC;\n",
       "    }\n",
       "\n",
       "    [theme=dark] .colab-df-convert:hover {\n",
       "      background-color: #434B5C;\n",
       "      box-shadow: 0px 1px 3px 1px rgba(0, 0, 0, 0.15);\n",
       "      filter: drop-shadow(0px 1px 2px rgba(0, 0, 0, 0.3));\n",
       "      fill: #FFFFFF;\n",
       "    }\n",
       "  </style>\n",
       "\n",
       "    <script>\n",
       "      const buttonEl =\n",
       "        document.querySelector('#df-a567f221-70b9-4459-aa53-76cc7a99cef8 button.colab-df-convert');\n",
       "      buttonEl.style.display =\n",
       "        google.colab.kernel.accessAllowed ? 'block' : 'none';\n",
       "\n",
       "      async function convertToInteractive(key) {\n",
       "        const element = document.querySelector('#df-a567f221-70b9-4459-aa53-76cc7a99cef8');\n",
       "        const dataTable =\n",
       "          await google.colab.kernel.invokeFunction('convertToInteractive',\n",
       "                                                    [key], {});\n",
       "        if (!dataTable) return;\n",
       "\n",
       "        const docLinkHtml = 'Like what you see? Visit the ' +\n",
       "          '<a target=\"_blank\" href=https://colab.research.google.com/notebooks/data_table.ipynb>data table notebook</a>'\n",
       "          + ' to learn more about interactive tables.';\n",
       "        element.innerHTML = '';\n",
       "        dataTable['output_type'] = 'display_data';\n",
       "        await google.colab.output.renderOutput(dataTable, element);\n",
       "        const docLink = document.createElement('div');\n",
       "        docLink.innerHTML = docLinkHtml;\n",
       "        element.appendChild(docLink);\n",
       "      }\n",
       "    </script>\n",
       "  </div>\n",
       "\n",
       "\n",
       "<div id=\"df-ae43645b-8dd1-4c7a-9cf6-5b8cbc48d8eb\">\n",
       "  <button class=\"colab-df-quickchart\" onclick=\"quickchart('df-ae43645b-8dd1-4c7a-9cf6-5b8cbc48d8eb')\"\n",
       "            title=\"Suggest charts\"\n",
       "            style=\"display:none;\">\n",
       "\n",
       "<svg xmlns=\"http://www.w3.org/2000/svg\" height=\"24px\"viewBox=\"0 0 24 24\"\n",
       "     width=\"24px\">\n",
       "    <g>\n",
       "        <path d=\"M19 3H5c-1.1 0-2 .9-2 2v14c0 1.1.9 2 2 2h14c1.1 0 2-.9 2-2V5c0-1.1-.9-2-2-2zM9 17H7v-7h2v7zm4 0h-2V7h2v10zm4 0h-2v-4h2v4z\"/>\n",
       "    </g>\n",
       "</svg>\n",
       "  </button>\n",
       "\n",
       "<style>\n",
       "  .colab-df-quickchart {\n",
       "      --bg-color: #E8F0FE;\n",
       "      --fill-color: #1967D2;\n",
       "      --hover-bg-color: #E2EBFA;\n",
       "      --hover-fill-color: #174EA6;\n",
       "      --disabled-fill-color: #AAA;\n",
       "      --disabled-bg-color: #DDD;\n",
       "  }\n",
       "\n",
       "  [theme=dark] .colab-df-quickchart {\n",
       "      --bg-color: #3B4455;\n",
       "      --fill-color: #D2E3FC;\n",
       "      --hover-bg-color: #434B5C;\n",
       "      --hover-fill-color: #FFFFFF;\n",
       "      --disabled-bg-color: #3B4455;\n",
       "      --disabled-fill-color: #666;\n",
       "  }\n",
       "\n",
       "  .colab-df-quickchart {\n",
       "    background-color: var(--bg-color);\n",
       "    border: none;\n",
       "    border-radius: 50%;\n",
       "    cursor: pointer;\n",
       "    display: none;\n",
       "    fill: var(--fill-color);\n",
       "    height: 32px;\n",
       "    padding: 0;\n",
       "    width: 32px;\n",
       "  }\n",
       "\n",
       "  .colab-df-quickchart:hover {\n",
       "    background-color: var(--hover-bg-color);\n",
       "    box-shadow: 0 1px 2px rgba(60, 64, 67, 0.3), 0 1px 3px 1px rgba(60, 64, 67, 0.15);\n",
       "    fill: var(--button-hover-fill-color);\n",
       "  }\n",
       "\n",
       "  .colab-df-quickchart-complete:disabled,\n",
       "  .colab-df-quickchart-complete:disabled:hover {\n",
       "    background-color: var(--disabled-bg-color);\n",
       "    fill: var(--disabled-fill-color);\n",
       "    box-shadow: none;\n",
       "  }\n",
       "\n",
       "  .colab-df-spinner {\n",
       "    border: 2px solid var(--fill-color);\n",
       "    border-color: transparent;\n",
       "    border-bottom-color: var(--fill-color);\n",
       "    animation:\n",
       "      spin 1s steps(1) infinite;\n",
       "  }\n",
       "\n",
       "  @keyframes spin {\n",
       "    0% {\n",
       "      border-color: transparent;\n",
       "      border-bottom-color: var(--fill-color);\n",
       "      border-left-color: var(--fill-color);\n",
       "    }\n",
       "    20% {\n",
       "      border-color: transparent;\n",
       "      border-left-color: var(--fill-color);\n",
       "      border-top-color: var(--fill-color);\n",
       "    }\n",
       "    30% {\n",
       "      border-color: transparent;\n",
       "      border-left-color: var(--fill-color);\n",
       "      border-top-color: var(--fill-color);\n",
       "      border-right-color: var(--fill-color);\n",
       "    }\n",
       "    40% {\n",
       "      border-color: transparent;\n",
       "      border-right-color: var(--fill-color);\n",
       "      border-top-color: var(--fill-color);\n",
       "    }\n",
       "    60% {\n",
       "      border-color: transparent;\n",
       "      border-right-color: var(--fill-color);\n",
       "    }\n",
       "    80% {\n",
       "      border-color: transparent;\n",
       "      border-right-color: var(--fill-color);\n",
       "      border-bottom-color: var(--fill-color);\n",
       "    }\n",
       "    90% {\n",
       "      border-color: transparent;\n",
       "      border-bottom-color: var(--fill-color);\n",
       "    }\n",
       "  }\n",
       "</style>\n",
       "\n",
       "  <script>\n",
       "    async function quickchart(key) {\n",
       "      const quickchartButtonEl =\n",
       "        document.querySelector('#' + key + ' button');\n",
       "      quickchartButtonEl.disabled = true;  // To prevent multiple clicks.\n",
       "      quickchartButtonEl.classList.add('colab-df-spinner');\n",
       "      try {\n",
       "        const charts = await google.colab.kernel.invokeFunction(\n",
       "            'suggestCharts', [key], {});\n",
       "      } catch (error) {\n",
       "        console.error('Error during call to suggestCharts:', error);\n",
       "      }\n",
       "      quickchartButtonEl.classList.remove('colab-df-spinner');\n",
       "      quickchartButtonEl.classList.add('colab-df-quickchart-complete');\n",
       "    }\n",
       "    (() => {\n",
       "      let quickchartButtonEl =\n",
       "        document.querySelector('#df-ae43645b-8dd1-4c7a-9cf6-5b8cbc48d8eb button');\n",
       "      quickchartButtonEl.style.display =\n",
       "        google.colab.kernel.accessAllowed ? 'block' : 'none';\n",
       "    })();\n",
       "  </script>\n",
       "</div>\n",
       "    </div>\n",
       "  </div>\n"
      ],
      "text/plain": [
       "                                  min         max\n",
       "Ticker        ticker_type                        \n",
       "AAPL          US           1980-12-12  2024-04-25\n",
       "ACN           EU           2001-07-19  2024-04-25\n",
       "AMZN          US           1997-05-15  2024-04-24\n",
       "ASML          EU           1995-03-15  2024-04-25\n",
       "AVGO          US           2009-08-06  2024-04-25\n",
       "BHARTIARTL.NS INDIA        2002-07-01  2024-04-25\n",
       "BRK-B         US           1996-05-09  2024-04-25\n",
       "CDI.PA        EU           1992-01-27  2024-04-25\n",
       "GOOG          US           2004-08-19  2024-04-25\n",
       "HDB           INDIA        2001-07-20  2024-04-25\n",
       "HINDUNILVR.NS INDIA        1996-01-01  2024-04-25\n",
       "IBN           INDIA        2000-03-28  2024-04-25\n",
       "IDEXY         EU           2010-01-20  2024-04-25\n",
       "INFY          INDIA        1999-03-11  2024-04-25\n",
       "ITC.NS        INDIA        1996-01-01  2024-04-25\n",
       "JPM           US           1980-03-17  2024-04-25\n",
       "LICI.NS       INDIA        2022-05-17  2024-04-25\n",
       "LLY           US           1972-06-01  2024-04-25\n",
       "LT.NS         INDIA        2002-07-01  2024-04-25\n",
       "MC.PA         EU           2000-01-03  2024-04-25\n",
       "META          US           2012-05-18  2024-04-25\n",
       "MSFT          US           1986-03-13  2024-04-25\n",
       "NVDA          US           1999-01-22  2024-04-25\n",
       "NVO           EU           1981-04-30  2024-04-25\n",
       "OR.PA         EU           2000-01-03  2024-04-25\n",
       "RELIANCE.NS   INDIA        1996-01-01  2024-04-25\n",
       "RMS.PA        EU           2000-01-03  2024-04-25\n",
       "SAP           EU           1995-09-18  2024-04-25\n",
       "SBIN.NS       INDIA        1996-01-01  2024-04-25\n",
       "SIE.DE        EU           1996-11-08  2024-04-25\n",
       "TCS.NS        INDIA        2002-08-12  2024-04-25\n",
       "TTE           EU           1991-10-25  2024-04-25\n",
       "V             US           2008-03-19  2024-04-25"
      ]
     },
     "metadata": {},
     "output_type": "display_data"
    }
   ],
   "source": [
    "stocks_df.groupby(['Ticker','ticker_type']).Date.agg(['min','max'])"
   ]
  },
  {
   "cell_type": "code",
   "execution_count": null,
   "metadata": {},
   "outputs": [
    {
     "data": {
      "text/plain": [
       "Year  ticker_type\n",
       "2020  EU             1.245388\n",
       "      INDIA          1.101896\n",
       "      US             1.484070\n",
       "2021  EU             1.582170\n",
       "      INDIA          1.546424\n",
       "      US             1.797571\n",
       "2022  EU             1.191169\n",
       "      INDIA          1.379889\n",
       "      US             1.182379\n",
       "2023  EU             1.246533\n",
       "      INDIA          1.201110\n",
       "      US             1.203253\n",
       "2024  EU             1.650721\n",
       "      INDIA          1.305762\n",
       "      US             2.153187\n",
       "Name: growth_365d, dtype: float64"
      ]
     },
     "metadata": {},
     "output_type": "display_data"
    }
   ],
   "source": [
    "#  average growth 365days\n",
    "stocks_df[stocks_df.Year>=2020].groupby(by=['Year','ticker_type']).growth_365d.mean()"
   ]
  },
  {
   "cell_type": "code",
   "execution_count": null,
   "metadata": {},
   "outputs": [],
   "source": [
    "stocks_df['Date'] = pd.to_datetime(stocks_df['Date'])"
   ]
  },
  {
   "cell_type": "code",
   "execution_count": null,
   "metadata": {},
   "outputs": [
    {
     "name": "stdout",
     "output_type": "stream",
     "text": [
      "<class 'pandas.core.frame.DataFrame'>\n",
      "Index: 182423 entries, 3490 to 220889\n",
      "Data columns (total 25 columns):\n",
      " #   Column                        Non-Null Count   Dtype         \n",
      "---  ------                        --------------   -----         \n",
      " 0   Open                          182423 non-null  float64       \n",
      " 1   High                          182423 non-null  float64       \n",
      " 2   Low                           182423 non-null  float64       \n",
      " 3   Close                         182423 non-null  float64       \n",
      " 4   Adj Close                     182423 non-null  float64       \n",
      " 5   Volume                        182423 non-null  int64         \n",
      " 6   Ticker                        182423 non-null  object        \n",
      " 7   Year                          182423 non-null  int32         \n",
      " 8   Month                         182423 non-null  int32         \n",
      " 9   Weekday                       182423 non-null  int32         \n",
      " 10  Date                          182423 non-null  datetime64[ns]\n",
      " 11  growth_1d                     182408 non-null  float64       \n",
      " 12  growth_3d                     182378 non-null  float64       \n",
      " 13  growth_7d                     182318 non-null  float64       \n",
      " 14  growth_30d                    181973 non-null  float64       \n",
      " 15  growth_90d                    181073 non-null  float64       \n",
      " 16  growth_365d                   176663 non-null  float64       \n",
      " 17  growth_future_5d              182258 non-null  float64       \n",
      " 18  SMA10                         182288 non-null  float64       \n",
      " 19  SMA20                         182138 non-null  float64       \n",
      " 20  growing_moving_average        182423 non-null  int64         \n",
      " 21  high_minus_low_relative       182423 non-null  float64       \n",
      " 22  volatility                    181988 non-null  float64       \n",
      " 23  is_positive_growth_5d_future  182423 non-null  int64         \n",
      " 24  ticker_type                   182423 non-null  object        \n",
      "dtypes: datetime64[ns](1), float64(16), int32(3), int64(3), object(2)\n",
      "memory usage: 34.1+ MB\n"
     ]
    }
   ],
   "source": [
    "# filtering only on stats after 2000\n",
    "stocks_df[stocks_df.Date>='2000-01-01'].info()"
   ]
  },
  {
   "cell_type": "code",
   "execution_count": null,
   "metadata": {},
   "outputs": [
    {
     "data": {
      "application/vnd.google.colaboratory.intrinsic+json": {
       "type": "dataframe"
      },
      "text/html": [
       "\n",
       "  <div id=\"df-ccfe7d88-a6c7-4c2e-98d2-523d6fa8d0bf\" class=\"colab-df-container\">\n",
       "    <div>\n",
       "<style scoped>\n",
       "    .dataframe tbody tr th:only-of-type {\n",
       "        vertical-align: middle;\n",
       "    }\n",
       "\n",
       "    .dataframe tbody tr th {\n",
       "        vertical-align: top;\n",
       "    }\n",
       "\n",
       "    .dataframe thead th {\n",
       "        text-align: right;\n",
       "    }\n",
       "</style>\n",
       "<table border=\"1\" class=\"dataframe\">\n",
       "  <thead>\n",
       "    <tr style=\"text-align: right;\">\n",
       "      <th></th>\n",
       "      <th>Open</th>\n",
       "      <th>High</th>\n",
       "      <th>Low</th>\n",
       "      <th>Close</th>\n",
       "      <th>Adj Close</th>\n",
       "      <th>Volume</th>\n",
       "      <th>Ticker</th>\n",
       "      <th>Year</th>\n",
       "      <th>Month</th>\n",
       "      <th>Weekday</th>\n",
       "      <th>...</th>\n",
       "      <th>growth_90d</th>\n",
       "      <th>growth_365d</th>\n",
       "      <th>growth_future_5d</th>\n",
       "      <th>SMA10</th>\n",
       "      <th>SMA20</th>\n",
       "      <th>growing_moving_average</th>\n",
       "      <th>high_minus_low_relative</th>\n",
       "      <th>volatility</th>\n",
       "      <th>is_positive_growth_5d_future</th>\n",
       "      <th>ticker_type</th>\n",
       "    </tr>\n",
       "  </thead>\n",
       "  <tbody>\n",
       "    <tr>\n",
       "      <th>194903</th>\n",
       "      <td>925.000000</td>\n",
       "      <td>984.450012</td>\n",
       "      <td>924.000000</td>\n",
       "      <td>970.599976</td>\n",
       "      <td>970.599976</td>\n",
       "      <td>4863536</td>\n",
       "      <td>LICI.NS</td>\n",
       "      <td>2024</td>\n",
       "      <td>4</td>\n",
       "      <td>0</td>\n",
       "      <td>...</td>\n",
       "      <td>1.599113</td>\n",
       "      <td>1.556710</td>\n",
       "      <td>1.026891</td>\n",
       "      <td>906.085004</td>\n",
       "      <td>953.950003</td>\n",
       "      <td>0</td>\n",
       "      <td>0.062281</td>\n",
       "      <td>1034.237352</td>\n",
       "      <td>1</td>\n",
       "      <td>INDIA</td>\n",
       "    </tr>\n",
       "    <tr>\n",
       "      <th>201224</th>\n",
       "      <td>17.889999</td>\n",
       "      <td>17.920000</td>\n",
       "      <td>17.500000</td>\n",
       "      <td>17.580000</td>\n",
       "      <td>17.580000</td>\n",
       "      <td>14601600</td>\n",
       "      <td>INFY</td>\n",
       "      <td>2024</td>\n",
       "      <td>4</td>\n",
       "      <td>0</td>\n",
       "      <td>...</td>\n",
       "      <td>1.003998</td>\n",
       "      <td>1.024508</td>\n",
       "      <td>1.015927</td>\n",
       "      <td>18.156000</td>\n",
       "      <td>18.777500</td>\n",
       "      <td>0</td>\n",
       "      <td>0.023891</td>\n",
       "      <td>13.940634</td>\n",
       "      <td>1</td>\n",
       "      <td>INDIA</td>\n",
       "    </tr>\n",
       "    <tr>\n",
       "      <th>208338</th>\n",
       "      <td>429.100006</td>\n",
       "      <td>431.350006</td>\n",
       "      <td>425.750000</td>\n",
       "      <td>426.700012</td>\n",
       "      <td>426.700012</td>\n",
       "      <td>9382308</td>\n",
       "      <td>ITC.NS</td>\n",
       "      <td>2024</td>\n",
       "      <td>4</td>\n",
       "      <td>0</td>\n",
       "      <td>...</td>\n",
       "      <td>0.987044</td>\n",
       "      <td>1.314436</td>\n",
       "      <td>1.005625</td>\n",
       "      <td>422.235004</td>\n",
       "      <td>416.537502</td>\n",
       "      <td>1</td>\n",
       "      <td>0.013124</td>\n",
       "      <td>130.246651</td>\n",
       "      <td>1</td>\n",
       "      <td>INDIA</td>\n",
       "    </tr>\n",
       "    <tr>\n",
       "      <th>215453</th>\n",
       "      <td>2270.000000</td>\n",
       "      <td>2295.000000</td>\n",
       "      <td>2262.000000</td>\n",
       "      <td>2285.899902</td>\n",
       "      <td>2285.899902</td>\n",
       "      <td>1427873</td>\n",
       "      <td>HINDUNILVR.NS</td>\n",
       "      <td>2024</td>\n",
       "      <td>4</td>\n",
       "      <td>0</td>\n",
       "      <td>...</td>\n",
       "      <td>0.917590</td>\n",
       "      <td>0.894051</td>\n",
       "      <td>0.992585</td>\n",
       "      <td>2266.539990</td>\n",
       "      <td>2327.240015</td>\n",
       "      <td>0</td>\n",
       "      <td>0.014436</td>\n",
       "      <td>1049.970071</td>\n",
       "      <td>0</td>\n",
       "      <td>INDIA</td>\n",
       "    </tr>\n",
       "    <tr>\n",
       "      <th>220873</th>\n",
       "      <td>3780.850098</td>\n",
       "      <td>3851.850098</td>\n",
       "      <td>3780.850098</td>\n",
       "      <td>3838.000000</td>\n",
       "      <td>3838.000000</td>\n",
       "      <td>1905190</td>\n",
       "      <td>LT.NS</td>\n",
       "      <td>2024</td>\n",
       "      <td>4</td>\n",
       "      <td>0</td>\n",
       "      <td>...</td>\n",
       "      <td>1.257886</td>\n",
       "      <td>2.010850</td>\n",
       "      <td>0.992144</td>\n",
       "      <td>3626.594971</td>\n",
       "      <td>3618.109985</td>\n",
       "      <td>1</td>\n",
       "      <td>0.018499</td>\n",
       "      <td>2188.619806</td>\n",
       "      <td>0</td>\n",
       "      <td>INDIA</td>\n",
       "    </tr>\n",
       "  </tbody>\n",
       "</table>\n",
       "<p>5 rows × 25 columns</p>\n",
       "</div>\n",
       "    <div class=\"colab-df-buttons\">\n",
       "\n",
       "  <div class=\"colab-df-container\">\n",
       "    <button class=\"colab-df-convert\" onclick=\"convertToInteractive('df-ccfe7d88-a6c7-4c2e-98d2-523d6fa8d0bf')\"\n",
       "            title=\"Convert this dataframe to an interactive table.\"\n",
       "            style=\"display:none;\">\n",
       "\n",
       "  <svg xmlns=\"http://www.w3.org/2000/svg\" height=\"24px\" viewBox=\"0 -960 960 960\">\n",
       "    <path d=\"M120-120v-720h720v720H120Zm60-500h600v-160H180v160Zm220 220h160v-160H400v160Zm0 220h160v-160H400v160ZM180-400h160v-160H180v160Zm440 0h160v-160H620v160ZM180-180h160v-160H180v160Zm440 0h160v-160H620v160Z\"/>\n",
       "  </svg>\n",
       "    </button>\n",
       "\n",
       "  <style>\n",
       "    .colab-df-container {\n",
       "      display:flex;\n",
       "      gap: 12px;\n",
       "    }\n",
       "\n",
       "    .colab-df-convert {\n",
       "      background-color: #E8F0FE;\n",
       "      border: none;\n",
       "      border-radius: 50%;\n",
       "      cursor: pointer;\n",
       "      display: none;\n",
       "      fill: #1967D2;\n",
       "      height: 32px;\n",
       "      padding: 0 0 0 0;\n",
       "      width: 32px;\n",
       "    }\n",
       "\n",
       "    .colab-df-convert:hover {\n",
       "      background-color: #E2EBFA;\n",
       "      box-shadow: 0px 1px 2px rgba(60, 64, 67, 0.3), 0px 1px 3px 1px rgba(60, 64, 67, 0.15);\n",
       "      fill: #174EA6;\n",
       "    }\n",
       "\n",
       "    .colab-df-buttons div {\n",
       "      margin-bottom: 4px;\n",
       "    }\n",
       "\n",
       "    [theme=dark] .colab-df-convert {\n",
       "      background-color: #3B4455;\n",
       "      fill: #D2E3FC;\n",
       "    }\n",
       "\n",
       "    [theme=dark] .colab-df-convert:hover {\n",
       "      background-color: #434B5C;\n",
       "      box-shadow: 0px 1px 3px 1px rgba(0, 0, 0, 0.15);\n",
       "      filter: drop-shadow(0px 1px 2px rgba(0, 0, 0, 0.3));\n",
       "      fill: #FFFFFF;\n",
       "    }\n",
       "  </style>\n",
       "\n",
       "    <script>\n",
       "      const buttonEl =\n",
       "        document.querySelector('#df-ccfe7d88-a6c7-4c2e-98d2-523d6fa8d0bf button.colab-df-convert');\n",
       "      buttonEl.style.display =\n",
       "        google.colab.kernel.accessAllowed ? 'block' : 'none';\n",
       "\n",
       "      async function convertToInteractive(key) {\n",
       "        const element = document.querySelector('#df-ccfe7d88-a6c7-4c2e-98d2-523d6fa8d0bf');\n",
       "        const dataTable =\n",
       "          await google.colab.kernel.invokeFunction('convertToInteractive',\n",
       "                                                    [key], {});\n",
       "        if (!dataTable) return;\n",
       "\n",
       "        const docLinkHtml = 'Like what you see? Visit the ' +\n",
       "          '<a target=\"_blank\" href=https://colab.research.google.com/notebooks/data_table.ipynb>data table notebook</a>'\n",
       "          + ' to learn more about interactive tables.';\n",
       "        element.innerHTML = '';\n",
       "        dataTable['output_type'] = 'display_data';\n",
       "        await google.colab.output.renderOutput(dataTable, element);\n",
       "        const docLink = document.createElement('div');\n",
       "        docLink.innerHTML = docLinkHtml;\n",
       "        element.appendChild(docLink);\n",
       "      }\n",
       "    </script>\n",
       "  </div>\n",
       "\n",
       "\n",
       "<div id=\"df-5f73d462-b852-46ef-b937-ac97878e751c\">\n",
       "  <button class=\"colab-df-quickchart\" onclick=\"quickchart('df-5f73d462-b852-46ef-b937-ac97878e751c')\"\n",
       "            title=\"Suggest charts\"\n",
       "            style=\"display:none;\">\n",
       "\n",
       "<svg xmlns=\"http://www.w3.org/2000/svg\" height=\"24px\"viewBox=\"0 0 24 24\"\n",
       "     width=\"24px\">\n",
       "    <g>\n",
       "        <path d=\"M19 3H5c-1.1 0-2 .9-2 2v14c0 1.1.9 2 2 2h14c1.1 0 2-.9 2-2V5c0-1.1-.9-2-2-2zM9 17H7v-7h2v7zm4 0h-2V7h2v10zm4 0h-2v-4h2v4z\"/>\n",
       "    </g>\n",
       "</svg>\n",
       "  </button>\n",
       "\n",
       "<style>\n",
       "  .colab-df-quickchart {\n",
       "      --bg-color: #E8F0FE;\n",
       "      --fill-color: #1967D2;\n",
       "      --hover-bg-color: #E2EBFA;\n",
       "      --hover-fill-color: #174EA6;\n",
       "      --disabled-fill-color: #AAA;\n",
       "      --disabled-bg-color: #DDD;\n",
       "  }\n",
       "\n",
       "  [theme=dark] .colab-df-quickchart {\n",
       "      --bg-color: #3B4455;\n",
       "      --fill-color: #D2E3FC;\n",
       "      --hover-bg-color: #434B5C;\n",
       "      --hover-fill-color: #FFFFFF;\n",
       "      --disabled-bg-color: #3B4455;\n",
       "      --disabled-fill-color: #666;\n",
       "  }\n",
       "\n",
       "  .colab-df-quickchart {\n",
       "    background-color: var(--bg-color);\n",
       "    border: none;\n",
       "    border-radius: 50%;\n",
       "    cursor: pointer;\n",
       "    display: none;\n",
       "    fill: var(--fill-color);\n",
       "    height: 32px;\n",
       "    padding: 0;\n",
       "    width: 32px;\n",
       "  }\n",
       "\n",
       "  .colab-df-quickchart:hover {\n",
       "    background-color: var(--hover-bg-color);\n",
       "    box-shadow: 0 1px 2px rgba(60, 64, 67, 0.3), 0 1px 3px 1px rgba(60, 64, 67, 0.15);\n",
       "    fill: var(--button-hover-fill-color);\n",
       "  }\n",
       "\n",
       "  .colab-df-quickchart-complete:disabled,\n",
       "  .colab-df-quickchart-complete:disabled:hover {\n",
       "    background-color: var(--disabled-bg-color);\n",
       "    fill: var(--disabled-fill-color);\n",
       "    box-shadow: none;\n",
       "  }\n",
       "\n",
       "  .colab-df-spinner {\n",
       "    border: 2px solid var(--fill-color);\n",
       "    border-color: transparent;\n",
       "    border-bottom-color: var(--fill-color);\n",
       "    animation:\n",
       "      spin 1s steps(1) infinite;\n",
       "  }\n",
       "\n",
       "  @keyframes spin {\n",
       "    0% {\n",
       "      border-color: transparent;\n",
       "      border-bottom-color: var(--fill-color);\n",
       "      border-left-color: var(--fill-color);\n",
       "    }\n",
       "    20% {\n",
       "      border-color: transparent;\n",
       "      border-left-color: var(--fill-color);\n",
       "      border-top-color: var(--fill-color);\n",
       "    }\n",
       "    30% {\n",
       "      border-color: transparent;\n",
       "      border-left-color: var(--fill-color);\n",
       "      border-top-color: var(--fill-color);\n",
       "      border-right-color: var(--fill-color);\n",
       "    }\n",
       "    40% {\n",
       "      border-color: transparent;\n",
       "      border-right-color: var(--fill-color);\n",
       "      border-top-color: var(--fill-color);\n",
       "    }\n",
       "    60% {\n",
       "      border-color: transparent;\n",
       "      border-right-color: var(--fill-color);\n",
       "    }\n",
       "    80% {\n",
       "      border-color: transparent;\n",
       "      border-right-color: var(--fill-color);\n",
       "      border-bottom-color: var(--fill-color);\n",
       "    }\n",
       "    90% {\n",
       "      border-color: transparent;\n",
       "      border-bottom-color: var(--fill-color);\n",
       "    }\n",
       "  }\n",
       "</style>\n",
       "\n",
       "  <script>\n",
       "    async function quickchart(key) {\n",
       "      const quickchartButtonEl =\n",
       "        document.querySelector('#' + key + ' button');\n",
       "      quickchartButtonEl.disabled = true;  // To prevent multiple clicks.\n",
       "      quickchartButtonEl.classList.add('colab-df-spinner');\n",
       "      try {\n",
       "        const charts = await google.colab.kernel.invokeFunction(\n",
       "            'suggestCharts', [key], {});\n",
       "      } catch (error) {\n",
       "        console.error('Error during call to suggestCharts:', error);\n",
       "      }\n",
       "      quickchartButtonEl.classList.remove('colab-df-spinner');\n",
       "      quickchartButtonEl.classList.add('colab-df-quickchart-complete');\n",
       "    }\n",
       "    (() => {\n",
       "      let quickchartButtonEl =\n",
       "        document.querySelector('#df-5f73d462-b852-46ef-b937-ac97878e751c button');\n",
       "      quickchartButtonEl.style.display =\n",
       "        google.colab.kernel.accessAllowed ? 'block' : 'none';\n",
       "    })();\n",
       "  </script>\n",
       "</div>\n",
       "    </div>\n",
       "  </div>\n"
      ],
      "text/plain": [
       "               Open         High          Low        Close    Adj Close  \\\n",
       "194903   925.000000   984.450012   924.000000   970.599976   970.599976   \n",
       "201224    17.889999    17.920000    17.500000    17.580000    17.580000   \n",
       "208338   429.100006   431.350006   425.750000   426.700012   426.700012   \n",
       "215453  2270.000000  2295.000000  2262.000000  2285.899902  2285.899902   \n",
       "220873  3780.850098  3851.850098  3780.850098  3838.000000  3838.000000   \n",
       "\n",
       "          Volume         Ticker  Year  Month  Weekday  ... growth_90d  \\\n",
       "194903   4863536        LICI.NS  2024      4        0  ...   1.599113   \n",
       "201224  14601600           INFY  2024      4        0  ...   1.003998   \n",
       "208338   9382308         ITC.NS  2024      4        0  ...   0.987044   \n",
       "215453   1427873  HINDUNILVR.NS  2024      4        0  ...   0.917590   \n",
       "220873   1905190          LT.NS  2024      4        0  ...   1.257886   \n",
       "\n",
       "        growth_365d  growth_future_5d        SMA10        SMA20  \\\n",
       "194903     1.556710          1.026891   906.085004   953.950003   \n",
       "201224     1.024508          1.015927    18.156000    18.777500   \n",
       "208338     1.314436          1.005625   422.235004   416.537502   \n",
       "215453     0.894051          0.992585  2266.539990  2327.240015   \n",
       "220873     2.010850          0.992144  3626.594971  3618.109985   \n",
       "\n",
       "        growing_moving_average  high_minus_low_relative   volatility  \\\n",
       "194903                       0                 0.062281  1034.237352   \n",
       "201224                       0                 0.023891    13.940634   \n",
       "208338                       1                 0.013124   130.246651   \n",
       "215453                       0                 0.014436  1049.970071   \n",
       "220873                       1                 0.018499  2188.619806   \n",
       "\n",
       "        is_positive_growth_5d_future  ticker_type  \n",
       "194903                             1        INDIA  \n",
       "201224                             1        INDIA  \n",
       "208338                             1        INDIA  \n",
       "215453                             0        INDIA  \n",
       "220873                             0        INDIA  \n",
       "\n",
       "[5 rows x 25 columns]"
      ]
     },
     "metadata": {},
     "output_type": "display_data"
    }
   ],
   "source": [
    "stocks_df[stocks_df.Date=='2024-04-01'].tail()"
   ]
  },
  {
   "cell_type": "code",
   "execution_count": null,
   "metadata": {},
   "outputs": [
    {
     "data": {
      "text/plain": [
       "['MSFT',\n",
       " 'AAPL',\n",
       " 'GOOG',\n",
       " 'NVDA',\n",
       " 'AMZN',\n",
       " 'META',\n",
       " 'BRK-B',\n",
       " 'LLY',\n",
       " 'AVGO',\n",
       " 'V',\n",
       " 'JPM',\n",
       " 'NVO',\n",
       " 'MC.PA',\n",
       " 'ASML',\n",
       " 'RMS.PA',\n",
       " 'OR.PA',\n",
       " 'SAP',\n",
       " 'ACN',\n",
       " 'TTE',\n",
       " 'SIE.DE',\n",
       " 'IDEXY',\n",
       " 'CDI.PA',\n",
       " 'RELIANCE.NS',\n",
       " 'TCS.NS',\n",
       " 'HDB',\n",
       " 'BHARTIARTL.NS',\n",
       " 'IBN',\n",
       " 'SBIN.NS',\n",
       " 'LICI.NS',\n",
       " 'INFY',\n",
       " 'ITC.NS',\n",
       " 'HINDUNILVR.NS',\n",
       " 'LT.NS']"
      ]
     },
     "metadata": {},
     "output_type": "display_data"
    }
   ],
   "source": [
    "ALL_TICKERS = US_STOCKS  + EU_STOCKS + INDIA_STOCKS\n",
    "ALL_TICKERS"
   ]
  },
  {
   "cell_type": "code",
   "execution_count": null,
   "metadata": {},
   "outputs": [
    {
     "name": "stdout",
     "output_type": "stream",
     "text": [
      "0 MSFT\n"
     ]
    },
    {
     "name": "stderr",
     "output_type": "stream",
     "text": [
      "\r[*********************100%%**********************]  1 of 1 completed\n"
     ]
    },
    {
     "name": "stdout",
     "output_type": "stream",
     "text": [
      "1 AAPL\n"
     ]
    },
    {
     "name": "stderr",
     "output_type": "stream",
     "text": [
      "\r[*********************100%%**********************]  1 of 1 completed\n"
     ]
    },
    {
     "name": "stdout",
     "output_type": "stream",
     "text": [
      "2 GOOG\n"
     ]
    },
    {
     "name": "stderr",
     "output_type": "stream",
     "text": [
      "\r[*********************100%%**********************]  1 of 1 completed\n"
     ]
    },
    {
     "name": "stdout",
     "output_type": "stream",
     "text": [
      "3 NVDA\n"
     ]
    },
    {
     "name": "stderr",
     "output_type": "stream",
     "text": [
      "\r[*********************100%%**********************]  1 of 1 completed\n"
     ]
    },
    {
     "name": "stdout",
     "output_type": "stream",
     "text": [
      "4 AMZN\n"
     ]
    },
    {
     "name": "stderr",
     "output_type": "stream",
     "text": [
      "\r[*********************100%%**********************]  1 of 1 completed\n"
     ]
    },
    {
     "name": "stdout",
     "output_type": "stream",
     "text": [
      "5 META\n"
     ]
    },
    {
     "name": "stderr",
     "output_type": "stream",
     "text": [
      "\r[*********************100%%**********************]  1 of 1 completed\n"
     ]
    },
    {
     "name": "stdout",
     "output_type": "stream",
     "text": [
      "6 BRK-B\n"
     ]
    },
    {
     "name": "stderr",
     "output_type": "stream",
     "text": [
      "\r[*********************100%%**********************]  1 of 1 completed\n"
     ]
    },
    {
     "name": "stdout",
     "output_type": "stream",
     "text": [
      "7 LLY\n"
     ]
    },
    {
     "name": "stderr",
     "output_type": "stream",
     "text": [
      "\r[*********************100%%**********************]  1 of 1 completed\n"
     ]
    },
    {
     "name": "stdout",
     "output_type": "stream",
     "text": [
      "8 AVGO\n"
     ]
    },
    {
     "name": "stderr",
     "output_type": "stream",
     "text": [
      "\r[*********************100%%**********************]  1 of 1 completed\n"
     ]
    },
    {
     "name": "stdout",
     "output_type": "stream",
     "text": [
      "9 V\n"
     ]
    },
    {
     "name": "stderr",
     "output_type": "stream",
     "text": [
      "\r[*********************100%%**********************]  1 of 1 completed\n"
     ]
    },
    {
     "name": "stdout",
     "output_type": "stream",
     "text": [
      "10 JPM\n"
     ]
    },
    {
     "name": "stderr",
     "output_type": "stream",
     "text": [
      "\r[*********************100%%**********************]  1 of 1 completed\n"
     ]
    },
    {
     "name": "stdout",
     "output_type": "stream",
     "text": [
      "11 NVO\n"
     ]
    },
    {
     "name": "stderr",
     "output_type": "stream",
     "text": [
      "\r[*********************100%%**********************]  1 of 1 completed\n"
     ]
    },
    {
     "name": "stdout",
     "output_type": "stream",
     "text": [
      "12 MC.PA\n"
     ]
    },
    {
     "name": "stderr",
     "output_type": "stream",
     "text": [
      "\r[*********************100%%**********************]  1 of 1 completed\n"
     ]
    },
    {
     "name": "stdout",
     "output_type": "stream",
     "text": [
      "13 ASML\n"
     ]
    },
    {
     "name": "stderr",
     "output_type": "stream",
     "text": [
      "\r[*********************100%%**********************]  1 of 1 completed\n"
     ]
    },
    {
     "name": "stdout",
     "output_type": "stream",
     "text": [
      "14 RMS.PA\n"
     ]
    },
    {
     "name": "stderr",
     "output_type": "stream",
     "text": [
      "\r[*********************100%%**********************]  1 of 1 completed\n"
     ]
    },
    {
     "name": "stdout",
     "output_type": "stream",
     "text": [
      "15 OR.PA\n"
     ]
    },
    {
     "name": "stderr",
     "output_type": "stream",
     "text": [
      "\r[*********************100%%**********************]  1 of 1 completed\n"
     ]
    },
    {
     "name": "stdout",
     "output_type": "stream",
     "text": [
      "16 SAP\n"
     ]
    },
    {
     "name": "stderr",
     "output_type": "stream",
     "text": [
      "\r[*********************100%%**********************]  1 of 1 completed\n"
     ]
    },
    {
     "name": "stdout",
     "output_type": "stream",
     "text": [
      "17 ACN\n"
     ]
    },
    {
     "name": "stderr",
     "output_type": "stream",
     "text": [
      "\r[*********************100%%**********************]  1 of 1 completed\n"
     ]
    },
    {
     "name": "stdout",
     "output_type": "stream",
     "text": [
      "18 TTE\n"
     ]
    },
    {
     "name": "stderr",
     "output_type": "stream",
     "text": [
      "\r[*********************100%%**********************]  1 of 1 completed\n"
     ]
    },
    {
     "name": "stdout",
     "output_type": "stream",
     "text": [
      "19 SIE.DE\n"
     ]
    },
    {
     "name": "stderr",
     "output_type": "stream",
     "text": [
      "\r[*********************100%%**********************]  1 of 1 completed\n"
     ]
    },
    {
     "name": "stdout",
     "output_type": "stream",
     "text": [
      "20 IDEXY\n"
     ]
    },
    {
     "name": "stderr",
     "output_type": "stream",
     "text": [
      "\r[*********************100%%**********************]  1 of 1 completed\n"
     ]
    },
    {
     "name": "stdout",
     "output_type": "stream",
     "text": [
      "21 CDI.PA\n"
     ]
    },
    {
     "name": "stderr",
     "output_type": "stream",
     "text": [
      "\r[*********************100%%**********************]  1 of 1 completed\n"
     ]
    },
    {
     "name": "stdout",
     "output_type": "stream",
     "text": [
      "22 RELIANCE.NS\n"
     ]
    },
    {
     "name": "stderr",
     "output_type": "stream",
     "text": [
      "\r[*********************100%%**********************]  1 of 1 completed\n"
     ]
    },
    {
     "name": "stdout",
     "output_type": "stream",
     "text": [
      "23 TCS.NS\n"
     ]
    },
    {
     "name": "stderr",
     "output_type": "stream",
     "text": [
      "\r[*********************100%%**********************]  1 of 1 completed\n"
     ]
    },
    {
     "name": "stdout",
     "output_type": "stream",
     "text": [
      "24 HDB\n"
     ]
    },
    {
     "name": "stderr",
     "output_type": "stream",
     "text": [
      "\r[*********************100%%**********************]  1 of 1 completed\n"
     ]
    },
    {
     "name": "stdout",
     "output_type": "stream",
     "text": [
      "25 BHARTIARTL.NS\n"
     ]
    },
    {
     "name": "stderr",
     "output_type": "stream",
     "text": [
      "\r[*********************100%%**********************]  1 of 1 completed\n"
     ]
    },
    {
     "name": "stdout",
     "output_type": "stream",
     "text": [
      "26 IBN\n"
     ]
    },
    {
     "name": "stderr",
     "output_type": "stream",
     "text": [
      "\r[*********************100%%**********************]  1 of 1 completed\n"
     ]
    },
    {
     "name": "stdout",
     "output_type": "stream",
     "text": [
      "27 SBIN.NS\n"
     ]
    },
    {
     "name": "stderr",
     "output_type": "stream",
     "text": [
      "[*********************100%%**********************]  1 of 1 completed\n",
      "[*********************100%%**********************]  1 of 1 completed"
     ]
    },
    {
     "name": "stdout",
     "output_type": "stream",
     "text": [
      "28 LICI.NS\n"
     ]
    },
    {
     "name": "stderr",
     "output_type": "stream",
     "text": [
      "\n"
     ]
    },
    {
     "name": "stdout",
     "output_type": "stream",
     "text": [
      "29 INFY\n"
     ]
    },
    {
     "name": "stderr",
     "output_type": "stream",
     "text": [
      "\r[*********************100%%**********************]  1 of 1 completed\n"
     ]
    },
    {
     "name": "stdout",
     "output_type": "stream",
     "text": [
      "30 ITC.NS\n"
     ]
    },
    {
     "name": "stderr",
     "output_type": "stream",
     "text": [
      "\r[*********************100%%**********************]  1 of 1 completed\n"
     ]
    },
    {
     "name": "stdout",
     "output_type": "stream",
     "text": [
      "31 HINDUNILVR.NS\n"
     ]
    },
    {
     "name": "stderr",
     "output_type": "stream",
     "text": [
      "\r[*********************100%%**********************]  1 of 1 completed\n"
     ]
    },
    {
     "name": "stdout",
     "output_type": "stream",
     "text": [
      "32 LT.NS\n"
     ]
    },
    {
     "name": "stderr",
     "output_type": "stream",
     "text": [
      "\r[*********************100%%**********************]  1 of 1 completed\n"
     ]
    }
   ],
   "source": [
    "import time\n",
    "\n",
    "stocks_df = pd.DataFrame({'A' : []})\n",
    "\n",
    "for i,ticker in enumerate(ALL_TICKERS):\n",
    "  print(i,ticker)\n",
    "\n",
    "  # Work with stock prices\n",
    "  historyPrices = yf.download(tickers = ticker,\n",
    "                     period = \"max\",\n",
    "                     interval = \"1d\")\n",
    "\n",
    "  # generate features for historical prices, and what we want to predict\n",
    "  historyPrices['Ticker'] = ticker\n",
    "  historyPrices['Year']= historyPrices.index.year\n",
    "  historyPrices['Month'] = historyPrices.index.month\n",
    "  historyPrices['Weekday'] = historyPrices.index.weekday\n",
    "  historyPrices['Date'] = historyPrices.index.date\n",
    "\n",
    "  # historical returns\n",
    "  for i in [1,3,7,30,90,365]:\n",
    "    historyPrices['growth_'+str(i)+'d'] = historyPrices['Adj Close'] / historyPrices['Adj Close'].shift(i)\n",
    "  historyPrices['growth_future_5d'] = historyPrices['Adj Close'].shift(-5) / historyPrices['Adj Close']\n",
    "\n",
    "  # Technical indicators\n",
    "  # SimpleMovingAverage 10 days and 20 days\n",
    "  historyPrices['SMA10']= historyPrices['Close'].rolling(10).mean()\n",
    "  historyPrices['SMA20']= historyPrices['Close'].rolling(20).mean()\n",
    "  historyPrices['growing_moving_average'] = np.where(historyPrices['SMA10'] > historyPrices['SMA20'], 1, 0)\n",
    "  historyPrices['high_minus_low_relative'] = (historyPrices.High - historyPrices.Low) / historyPrices['Adj Close']\n",
    "\n",
    "  # 30d rolling volatility : https://ycharts.com/glossary/terms/rolling_vol_30\n",
    "  historyPrices['volatility'] =   historyPrices['Adj Close'].rolling(30).std() * np.sqrt(252)\n",
    "\n",
    "  # what we want to predict\n",
    "  historyPrices['is_positive_growth_5d_future'] = np.where(historyPrices['growth_future_5d'] > 1, 1, 0)\n",
    "\n",
    "  # sleep 1 sec between downloads - not to overload the API server\n",
    "  time.sleep(1)\n",
    "\n",
    "\n",
    "  if stocks_df.empty:\n",
    "    stocks_df = historyPrices\n",
    "  else:\n",
    "    stocks_df = pd.concat([stocks_df, historyPrices], ignore_index=True)"
   ]
  },
  {
   "cell_type": "code",
   "execution_count": null,
   "metadata": {},
   "outputs": [],
   "source": [
    "def get_ticker_type(ticker:str, us_stocks_list, eu_stocks_list, india_stocks_list):\n",
    "  if ticker in us_stocks_list:\n",
    "    return 'US'\n",
    "  elif ticker in eu_stocks_list:\n",
    "    return 'EU'\n",
    "  elif ticker in india_stocks_list:\n",
    "    return 'INDIA'\n",
    "  else:\n",
    "    return 'ERROR'\n"
   ]
  },
  {
   "cell_type": "code",
   "execution_count": null,
   "metadata": {},
   "outputs": [],
   "source": [
    "stocks_df['ticker_type'] = stocks_df.Ticker.apply(lambda x:get_ticker_type(x, US_STOCKS, EU_STOCKS, INDIA_STOCKS))"
   ]
  },
  {
   "cell_type": "code",
   "execution_count": null,
   "metadata": {},
   "outputs": [
    {
     "data": {
      "text/plain": [
       "ticker_type\n",
       "US       80639\n",
       "EU       76986\n",
       "INDIA    63265\n",
       "Name: count, dtype: int64"
      ]
     },
     "metadata": {},
     "output_type": "display_data"
    }
   ],
   "source": [
    "# count of observations between US-EU-INDIA stocks\n",
    "stocks_df.ticker_type.value_counts()"
   ]
  },
  {
   "cell_type": "code",
   "execution_count": null,
   "metadata": {},
   "outputs": [
    {
     "data": {
      "text/plain": [
       "33"
      ]
     },
     "metadata": {},
     "output_type": "display_data"
    }
   ],
   "source": [
    "# unique tickers\n",
    "stocks_df.Ticker.nunique()"
   ]
  },
  {
   "cell_type": "code",
   "execution_count": null,
   "metadata": {},
   "outputs": [
    {
     "data": {
      "text/plain": [
       "Ticker\n",
       "LLY              13087\n",
       "JPM              11121\n",
       "AAPL             10933\n",
       "NVO              10838\n",
       "MSFT              9607\n",
       "CDI.PA            8321\n",
       "TTE               8185\n",
       "ASML              7330\n",
       "SAP               7201\n",
       "HINDUNILVR.NS     7115\n",
       "SBIN.NS           7113\n",
       "RELIANCE.NS       7112\n",
       "ITC.NS            7112\n",
       "SIE.DE            7039\n",
       "BRK-B             7038\n",
       "AMZN              6780\n",
       "NVDA              6356\n",
       "INFY              6323\n",
       "MC.PA             6251\n",
       "RMS.PA            6251\n",
       "OR.PA             6251\n",
       "IBN               6058\n",
       "ACN               5728\n",
       "HDB               5727\n",
       "LT.NS             5420\n",
       "BHARTIARTL.NS     5417\n",
       "TCS.NS            5388\n",
       "GOOG              4955\n",
       "V                 4054\n",
       "AVGO              3705\n",
       "IDEXY             3591\n",
       "META              3003\n",
       "LICI.NS            480\n",
       "Name: count, dtype: int64"
      ]
     },
     "metadata": {},
     "output_type": "display_data"
    }
   ],
   "source": [
    "# count of observations by stock\n",
    "stocks_df.Ticker.value_counts()"
   ]
  },
  {
   "cell_type": "code",
   "execution_count": null,
   "metadata": {},
   "outputs": [
    {
     "data": {
      "application/vnd.google.colaboratory.intrinsic+json": {
       "summary": "{\n  \"name\": \"stocks_df\",\n  \"rows\": 33,\n  \"fields\": [\n    {\n      \"column\": \"min\",\n      \"properties\": {\n        \"dtype\": \"date\",\n        \"min\": \"1972-06-01\",\n        \"max\": \"2022-05-17\",\n        \"num_unique_values\": 27,\n        \"samples\": [\n          \"2004-08-19\",\n          \"1999-03-11\",\n          \"2001-07-20\"\n        ],\n        \"semantic_type\": \"\",\n        \"description\": \"\"\n      }\n    },\n    {\n      \"column\": \"max\",\n      \"properties\": {\n        \"dtype\": \"date\",\n        \"min\": \"2024-04-24\",\n        \"max\": \"2024-04-25\",\n        \"num_unique_values\": 2,\n        \"samples\": [\n          \"2024-04-24\",\n          \"2024-04-25\"\n        ],\n        \"semantic_type\": \"\",\n        \"description\": \"\"\n      }\n    }\n  ]\n}",
       "type": "dataframe"
      },
      "text/html": [
       "\n",
       "  <div id=\"df-a567f221-70b9-4459-aa53-76cc7a99cef8\" class=\"colab-df-container\">\n",
       "    <div>\n",
       "<style scoped>\n",
       "    .dataframe tbody tr th:only-of-type {\n",
       "        vertical-align: middle;\n",
       "    }\n",
       "\n",
       "    .dataframe tbody tr th {\n",
       "        vertical-align: top;\n",
       "    }\n",
       "\n",
       "    .dataframe thead th {\n",
       "        text-align: right;\n",
       "    }\n",
       "</style>\n",
       "<table border=\"1\" class=\"dataframe\">\n",
       "  <thead>\n",
       "    <tr style=\"text-align: right;\">\n",
       "      <th></th>\n",
       "      <th></th>\n",
       "      <th>min</th>\n",
       "      <th>max</th>\n",
       "    </tr>\n",
       "    <tr>\n",
       "      <th>Ticker</th>\n",
       "      <th>ticker_type</th>\n",
       "      <th></th>\n",
       "      <th></th>\n",
       "    </tr>\n",
       "  </thead>\n",
       "  <tbody>\n",
       "    <tr>\n",
       "      <th>AAPL</th>\n",
       "      <th>US</th>\n",
       "      <td>1980-12-12</td>\n",
       "      <td>2024-04-25</td>\n",
       "    </tr>\n",
       "    <tr>\n",
       "      <th>ACN</th>\n",
       "      <th>EU</th>\n",
       "      <td>2001-07-19</td>\n",
       "      <td>2024-04-25</td>\n",
       "    </tr>\n",
       "    <tr>\n",
       "      <th>AMZN</th>\n",
       "      <th>US</th>\n",
       "      <td>1997-05-15</td>\n",
       "      <td>2024-04-24</td>\n",
       "    </tr>\n",
       "    <tr>\n",
       "      <th>ASML</th>\n",
       "      <th>EU</th>\n",
       "      <td>1995-03-15</td>\n",
       "      <td>2024-04-25</td>\n",
       "    </tr>\n",
       "    <tr>\n",
       "      <th>AVGO</th>\n",
       "      <th>US</th>\n",
       "      <td>2009-08-06</td>\n",
       "      <td>2024-04-25</td>\n",
       "    </tr>\n",
       "    <tr>\n",
       "      <th>BHARTIARTL.NS</th>\n",
       "      <th>INDIA</th>\n",
       "      <td>2002-07-01</td>\n",
       "      <td>2024-04-25</td>\n",
       "    </tr>\n",
       "    <tr>\n",
       "      <th>BRK-B</th>\n",
       "      <th>US</th>\n",
       "      <td>1996-05-09</td>\n",
       "      <td>2024-04-25</td>\n",
       "    </tr>\n",
       "    <tr>\n",
       "      <th>CDI.PA</th>\n",
       "      <th>EU</th>\n",
       "      <td>1992-01-27</td>\n",
       "      <td>2024-04-25</td>\n",
       "    </tr>\n",
       "    <tr>\n",
       "      <th>GOOG</th>\n",
       "      <th>US</th>\n",
       "      <td>2004-08-19</td>\n",
       "      <td>2024-04-25</td>\n",
       "    </tr>\n",
       "    <tr>\n",
       "      <th>HDB</th>\n",
       "      <th>INDIA</th>\n",
       "      <td>2001-07-20</td>\n",
       "      <td>2024-04-25</td>\n",
       "    </tr>\n",
       "    <tr>\n",
       "      <th>HINDUNILVR.NS</th>\n",
       "      <th>INDIA</th>\n",
       "      <td>1996-01-01</td>\n",
       "      <td>2024-04-25</td>\n",
       "    </tr>\n",
       "    <tr>\n",
       "      <th>IBN</th>\n",
       "      <th>INDIA</th>\n",
       "      <td>2000-03-28</td>\n",
       "      <td>2024-04-25</td>\n",
       "    </tr>\n",
       "    <tr>\n",
       "      <th>IDEXY</th>\n",
       "      <th>EU</th>\n",
       "      <td>2010-01-20</td>\n",
       "      <td>2024-04-25</td>\n",
       "    </tr>\n",
       "    <tr>\n",
       "      <th>INFY</th>\n",
       "      <th>INDIA</th>\n",
       "      <td>1999-03-11</td>\n",
       "      <td>2024-04-25</td>\n",
       "    </tr>\n",
       "    <tr>\n",
       "      <th>ITC.NS</th>\n",
       "      <th>INDIA</th>\n",
       "      <td>1996-01-01</td>\n",
       "      <td>2024-04-25</td>\n",
       "    </tr>\n",
       "    <tr>\n",
       "      <th>JPM</th>\n",
       "      <th>US</th>\n",
       "      <td>1980-03-17</td>\n",
       "      <td>2024-04-25</td>\n",
       "    </tr>\n",
       "    <tr>\n",
       "      <th>LICI.NS</th>\n",
       "      <th>INDIA</th>\n",
       "      <td>2022-05-17</td>\n",
       "      <td>2024-04-25</td>\n",
       "    </tr>\n",
       "    <tr>\n",
       "      <th>LLY</th>\n",
       "      <th>US</th>\n",
       "      <td>1972-06-01</td>\n",
       "      <td>2024-04-25</td>\n",
       "    </tr>\n",
       "    <tr>\n",
       "      <th>LT.NS</th>\n",
       "      <th>INDIA</th>\n",
       "      <td>2002-07-01</td>\n",
       "      <td>2024-04-25</td>\n",
       "    </tr>\n",
       "    <tr>\n",
       "      <th>MC.PA</th>\n",
       "      <th>EU</th>\n",
       "      <td>2000-01-03</td>\n",
       "      <td>2024-04-25</td>\n",
       "    </tr>\n",
       "    <tr>\n",
       "      <th>META</th>\n",
       "      <th>US</th>\n",
       "      <td>2012-05-18</td>\n",
       "      <td>2024-04-25</td>\n",
       "    </tr>\n",
       "    <tr>\n",
       "      <th>MSFT</th>\n",
       "      <th>US</th>\n",
       "      <td>1986-03-13</td>\n",
       "      <td>2024-04-25</td>\n",
       "    </tr>\n",
       "    <tr>\n",
       "      <th>NVDA</th>\n",
       "      <th>US</th>\n",
       "      <td>1999-01-22</td>\n",
       "      <td>2024-04-25</td>\n",
       "    </tr>\n",
       "    <tr>\n",
       "      <th>NVO</th>\n",
       "      <th>EU</th>\n",
       "      <td>1981-04-30</td>\n",
       "      <td>2024-04-25</td>\n",
       "    </tr>\n",
       "    <tr>\n",
       "      <th>OR.PA</th>\n",
       "      <th>EU</th>\n",
       "      <td>2000-01-03</td>\n",
       "      <td>2024-04-25</td>\n",
       "    </tr>\n",
       "    <tr>\n",
       "      <th>RELIANCE.NS</th>\n",
       "      <th>INDIA</th>\n",
       "      <td>1996-01-01</td>\n",
       "      <td>2024-04-25</td>\n",
       "    </tr>\n",
       "    <tr>\n",
       "      <th>RMS.PA</th>\n",
       "      <th>EU</th>\n",
       "      <td>2000-01-03</td>\n",
       "      <td>2024-04-25</td>\n",
       "    </tr>\n",
       "    <tr>\n",
       "      <th>SAP</th>\n",
       "      <th>EU</th>\n",
       "      <td>1995-09-18</td>\n",
       "      <td>2024-04-25</td>\n",
       "    </tr>\n",
       "    <tr>\n",
       "      <th>SBIN.NS</th>\n",
       "      <th>INDIA</th>\n",
       "      <td>1996-01-01</td>\n",
       "      <td>2024-04-25</td>\n",
       "    </tr>\n",
       "    <tr>\n",
       "      <th>SIE.DE</th>\n",
       "      <th>EU</th>\n",
       "      <td>1996-11-08</td>\n",
       "      <td>2024-04-25</td>\n",
       "    </tr>\n",
       "    <tr>\n",
       "      <th>TCS.NS</th>\n",
       "      <th>INDIA</th>\n",
       "      <td>2002-08-12</td>\n",
       "      <td>2024-04-25</td>\n",
       "    </tr>\n",
       "    <tr>\n",
       "      <th>TTE</th>\n",
       "      <th>EU</th>\n",
       "      <td>1991-10-25</td>\n",
       "      <td>2024-04-25</td>\n",
       "    </tr>\n",
       "    <tr>\n",
       "      <th>V</th>\n",
       "      <th>US</th>\n",
       "      <td>2008-03-19</td>\n",
       "      <td>2024-04-25</td>\n",
       "    </tr>\n",
       "  </tbody>\n",
       "</table>\n",
       "</div>\n",
       "    <div class=\"colab-df-buttons\">\n",
       "\n",
       "  <div class=\"colab-df-container\">\n",
       "    <button class=\"colab-df-convert\" onclick=\"convertToInteractive('df-a567f221-70b9-4459-aa53-76cc7a99cef8')\"\n",
       "            title=\"Convert this dataframe to an interactive table.\"\n",
       "            style=\"display:none;\">\n",
       "\n",
       "  <svg xmlns=\"http://www.w3.org/2000/svg\" height=\"24px\" viewBox=\"0 -960 960 960\">\n",
       "    <path d=\"M120-120v-720h720v720H120Zm60-500h600v-160H180v160Zm220 220h160v-160H400v160Zm0 220h160v-160H400v160ZM180-400h160v-160H180v160Zm440 0h160v-160H620v160ZM180-180h160v-160H180v160Zm440 0h160v-160H620v160Z\"/>\n",
       "  </svg>\n",
       "    </button>\n",
       "\n",
       "  <style>\n",
       "    .colab-df-container {\n",
       "      display:flex;\n",
       "      gap: 12px;\n",
       "    }\n",
       "\n",
       "    .colab-df-convert {\n",
       "      background-color: #E8F0FE;\n",
       "      border: none;\n",
       "      border-radius: 50%;\n",
       "      cursor: pointer;\n",
       "      display: none;\n",
       "      fill: #1967D2;\n",
       "      height: 32px;\n",
       "      padding: 0 0 0 0;\n",
       "      width: 32px;\n",
       "    }\n",
       "\n",
       "    .colab-df-convert:hover {\n",
       "      background-color: #E2EBFA;\n",
       "      box-shadow: 0px 1px 2px rgba(60, 64, 67, 0.3), 0px 1px 3px 1px rgba(60, 64, 67, 0.15);\n",
       "      fill: #174EA6;\n",
       "    }\n",
       "\n",
       "    .colab-df-buttons div {\n",
       "      margin-bottom: 4px;\n",
       "    }\n",
       "\n",
       "    [theme=dark] .colab-df-convert {\n",
       "      background-color: #3B4455;\n",
       "      fill: #D2E3FC;\n",
       "    }\n",
       "\n",
       "    [theme=dark] .colab-df-convert:hover {\n",
       "      background-color: #434B5C;\n",
       "      box-shadow: 0px 1px 3px 1px rgba(0, 0, 0, 0.15);\n",
       "      filter: drop-shadow(0px 1px 2px rgba(0, 0, 0, 0.3));\n",
       "      fill: #FFFFFF;\n",
       "    }\n",
       "  </style>\n",
       "\n",
       "    <script>\n",
       "      const buttonEl =\n",
       "        document.querySelector('#df-a567f221-70b9-4459-aa53-76cc7a99cef8 button.colab-df-convert');\n",
       "      buttonEl.style.display =\n",
       "        google.colab.kernel.accessAllowed ? 'block' : 'none';\n",
       "\n",
       "      async function convertToInteractive(key) {\n",
       "        const element = document.querySelector('#df-a567f221-70b9-4459-aa53-76cc7a99cef8');\n",
       "        const dataTable =\n",
       "          await google.colab.kernel.invokeFunction('convertToInteractive',\n",
       "                                                    [key], {});\n",
       "        if (!dataTable) return;\n",
       "\n",
       "        const docLinkHtml = 'Like what you see? Visit the ' +\n",
       "          '<a target=\"_blank\" href=https://colab.research.google.com/notebooks/data_table.ipynb>data table notebook</a>'\n",
       "          + ' to learn more about interactive tables.';\n",
       "        element.innerHTML = '';\n",
       "        dataTable['output_type'] = 'display_data';\n",
       "        await google.colab.output.renderOutput(dataTable, element);\n",
       "        const docLink = document.createElement('div');\n",
       "        docLink.innerHTML = docLinkHtml;\n",
       "        element.appendChild(docLink);\n",
       "      }\n",
       "    </script>\n",
       "  </div>\n",
       "\n",
       "\n",
       "<div id=\"df-ae43645b-8dd1-4c7a-9cf6-5b8cbc48d8eb\">\n",
       "  <button class=\"colab-df-quickchart\" onclick=\"quickchart('df-ae43645b-8dd1-4c7a-9cf6-5b8cbc48d8eb')\"\n",
       "            title=\"Suggest charts\"\n",
       "            style=\"display:none;\">\n",
       "\n",
       "<svg xmlns=\"http://www.w3.org/2000/svg\" height=\"24px\"viewBox=\"0 0 24 24\"\n",
       "     width=\"24px\">\n",
       "    <g>\n",
       "        <path d=\"M19 3H5c-1.1 0-2 .9-2 2v14c0 1.1.9 2 2 2h14c1.1 0 2-.9 2-2V5c0-1.1-.9-2-2-2zM9 17H7v-7h2v7zm4 0h-2V7h2v10zm4 0h-2v-4h2v4z\"/>\n",
       "    </g>\n",
       "</svg>\n",
       "  </button>\n",
       "\n",
       "<style>\n",
       "  .colab-df-quickchart {\n",
       "      --bg-color: #E8F0FE;\n",
       "      --fill-color: #1967D2;\n",
       "      --hover-bg-color: #E2EBFA;\n",
       "      --hover-fill-color: #174EA6;\n",
       "      --disabled-fill-color: #AAA;\n",
       "      --disabled-bg-color: #DDD;\n",
       "  }\n",
       "\n",
       "  [theme=dark] .colab-df-quickchart {\n",
       "      --bg-color: #3B4455;\n",
       "      --fill-color: #D2E3FC;\n",
       "      --hover-bg-color: #434B5C;\n",
       "      --hover-fill-color: #FFFFFF;\n",
       "      --disabled-bg-color: #3B4455;\n",
       "      --disabled-fill-color: #666;\n",
       "  }\n",
       "\n",
       "  .colab-df-quickchart {\n",
       "    background-color: var(--bg-color);\n",
       "    border: none;\n",
       "    border-radius: 50%;\n",
       "    cursor: pointer;\n",
       "    display: none;\n",
       "    fill: var(--fill-color);\n",
       "    height: 32px;\n",
       "    padding: 0;\n",
       "    width: 32px;\n",
       "  }\n",
       "\n",
       "  .colab-df-quickchart:hover {\n",
       "    background-color: var(--hover-bg-color);\n",
       "    box-shadow: 0 1px 2px rgba(60, 64, 67, 0.3), 0 1px 3px 1px rgba(60, 64, 67, 0.15);\n",
       "    fill: var(--button-hover-fill-color);\n",
       "  }\n",
       "\n",
       "  .colab-df-quickchart-complete:disabled,\n",
       "  .colab-df-quickchart-complete:disabled:hover {\n",
       "    background-color: var(--disabled-bg-color);\n",
       "    fill: var(--disabled-fill-color);\n",
       "    box-shadow: none;\n",
       "  }\n",
       "\n",
       "  .colab-df-spinner {\n",
       "    border: 2px solid var(--fill-color);\n",
       "    border-color: transparent;\n",
       "    border-bottom-color: var(--fill-color);\n",
       "    animation:\n",
       "      spin 1s steps(1) infinite;\n",
       "  }\n",
       "\n",
       "  @keyframes spin {\n",
       "    0% {\n",
       "      border-color: transparent;\n",
       "      border-bottom-color: var(--fill-color);\n",
       "      border-left-color: var(--fill-color);\n",
       "    }\n",
       "    20% {\n",
       "      border-color: transparent;\n",
       "      border-left-color: var(--fill-color);\n",
       "      border-top-color: var(--fill-color);\n",
       "    }\n",
       "    30% {\n",
       "      border-color: transparent;\n",
       "      border-left-color: var(--fill-color);\n",
       "      border-top-color: var(--fill-color);\n",
       "      border-right-color: var(--fill-color);\n",
       "    }\n",
       "    40% {\n",
       "      border-color: transparent;\n",
       "      border-right-color: var(--fill-color);\n",
       "      border-top-color: var(--fill-color);\n",
       "    }\n",
       "    60% {\n",
       "      border-color: transparent;\n",
       "      border-right-color: var(--fill-color);\n",
       "    }\n",
       "    80% {\n",
       "      border-color: transparent;\n",
       "      border-right-color: var(--fill-color);\n",
       "      border-bottom-color: var(--fill-color);\n",
       "    }\n",
       "    90% {\n",
       "      border-color: transparent;\n",
       "      border-bottom-color: var(--fill-color);\n",
       "    }\n",
       "  }\n",
       "</style>\n",
       "\n",
       "  <script>\n",
       "    async function quickchart(key) {\n",
       "      const quickchartButtonEl =\n",
       "        document.querySelector('#' + key + ' button');\n",
       "      quickchartButtonEl.disabled = true;  // To prevent multiple clicks.\n",
       "      quickchartButtonEl.classList.add('colab-df-spinner');\n",
       "      try {\n",
       "        const charts = await google.colab.kernel.invokeFunction(\n",
       "            'suggestCharts', [key], {});\n",
       "      } catch (error) {\n",
       "        console.error('Error during call to suggestCharts:', error);\n",
       "      }\n",
       "      quickchartButtonEl.classList.remove('colab-df-spinner');\n",
       "      quickchartButtonEl.classList.add('colab-df-quickchart-complete');\n",
       "    }\n",
       "    (() => {\n",
       "      let quickchartButtonEl =\n",
       "        document.querySelector('#df-ae43645b-8dd1-4c7a-9cf6-5b8cbc48d8eb button');\n",
       "      quickchartButtonEl.style.display =\n",
       "        google.colab.kernel.accessAllowed ? 'block' : 'none';\n",
       "    })();\n",
       "  </script>\n",
       "</div>\n",
       "    </div>\n",
       "  </div>\n"
      ],
      "text/plain": [
       "                                  min         max\n",
       "Ticker        ticker_type                        \n",
       "AAPL          US           1980-12-12  2024-04-25\n",
       "ACN           EU           2001-07-19  2024-04-25\n",
       "AMZN          US           1997-05-15  2024-04-24\n",
       "ASML          EU           1995-03-15  2024-04-25\n",
       "AVGO          US           2009-08-06  2024-04-25\n",
       "BHARTIARTL.NS INDIA        2002-07-01  2024-04-25\n",
       "BRK-B         US           1996-05-09  2024-04-25\n",
       "CDI.PA        EU           1992-01-27  2024-04-25\n",
       "GOOG          US           2004-08-19  2024-04-25\n",
       "HDB           INDIA        2001-07-20  2024-04-25\n",
       "HINDUNILVR.NS INDIA        1996-01-01  2024-04-25\n",
       "IBN           INDIA        2000-03-28  2024-04-25\n",
       "IDEXY         EU           2010-01-20  2024-04-25\n",
       "INFY          INDIA        1999-03-11  2024-04-25\n",
       "ITC.NS        INDIA        1996-01-01  2024-04-25\n",
       "JPM           US           1980-03-17  2024-04-25\n",
       "LICI.NS       INDIA        2022-05-17  2024-04-25\n",
       "LLY           US           1972-06-01  2024-04-25\n",
       "LT.NS         INDIA        2002-07-01  2024-04-25\n",
       "MC.PA         EU           2000-01-03  2024-04-25\n",
       "META          US           2012-05-18  2024-04-25\n",
       "MSFT          US           1986-03-13  2024-04-25\n",
       "NVDA          US           1999-01-22  2024-04-25\n",
       "NVO           EU           1981-04-30  2024-04-25\n",
       "OR.PA         EU           2000-01-03  2024-04-25\n",
       "RELIANCE.NS   INDIA        1996-01-01  2024-04-25\n",
       "RMS.PA        EU           2000-01-03  2024-04-25\n",
       "SAP           EU           1995-09-18  2024-04-25\n",
       "SBIN.NS       INDIA        1996-01-01  2024-04-25\n",
       "SIE.DE        EU           1996-11-08  2024-04-25\n",
       "TCS.NS        INDIA        2002-08-12  2024-04-25\n",
       "TTE           EU           1991-10-25  2024-04-25\n",
       "V             US           2008-03-19  2024-04-25"
      ]
     },
     "metadata": {},
     "output_type": "display_data"
    }
   ],
   "source": [
    "stocks_df.groupby(['Ticker','ticker_type']).Date.agg(['min','max'])"
   ]
  },
  {
   "cell_type": "code",
   "execution_count": null,
   "metadata": {},
   "outputs": [
    {
     "data": {
      "text/plain": [
       "Year  ticker_type\n",
       "2020  EU             1.245388\n",
       "      INDIA          1.101896\n",
       "      US             1.484070\n",
       "2021  EU             1.582170\n",
       "      INDIA          1.546424\n",
       "      US             1.797571\n",
       "2022  EU             1.191169\n",
       "      INDIA          1.379889\n",
       "      US             1.182379\n",
       "2023  EU             1.246533\n",
       "      INDIA          1.201110\n",
       "      US             1.203253\n",
       "2024  EU             1.650721\n",
       "      INDIA          1.305762\n",
       "      US             2.153187\n",
       "Name: growth_365d, dtype: float64"
      ]
     },
     "metadata": {},
     "output_type": "display_data"
    }
   ],
   "source": [
    "#  average growth 365days\n",
    "stocks_df[stocks_df.Year>=2020].groupby(by=['Year','ticker_type']).growth_365d.mean()"
   ]
  },
  {
   "cell_type": "code",
   "execution_count": null,
   "metadata": {},
   "outputs": [],
   "source": [
    "stocks_df['Date'] = pd.to_datetime(stocks_df['Date'])"
   ]
  },
  {
   "cell_type": "code",
   "execution_count": null,
   "metadata": {},
   "outputs": [
    {
     "name": "stdout",
     "output_type": "stream",
     "text": [
      "<class 'pandas.core.frame.DataFrame'>\n",
      "Index: 182423 entries, 3490 to 220889\n",
      "Data columns (total 25 columns):\n",
      " #   Column                        Non-Null Count   Dtype         \n",
      "---  ------                        --------------   -----         \n",
      " 0   Open                          182423 non-null  float64       \n",
      " 1   High                          182423 non-null  float64       \n",
      " 2   Low                           182423 non-null  float64       \n",
      " 3   Close                         182423 non-null  float64       \n",
      " 4   Adj Close                     182423 non-null  float64       \n",
      " 5   Volume                        182423 non-null  int64         \n",
      " 6   Ticker                        182423 non-null  object        \n",
      " 7   Year                          182423 non-null  int32         \n",
      " 8   Month                         182423 non-null  int32         \n",
      " 9   Weekday                       182423 non-null  int32         \n",
      " 10  Date                          182423 non-null  datetime64[ns]\n",
      " 11  growth_1d                     182408 non-null  float64       \n",
      " 12  growth_3d                     182378 non-null  float64       \n",
      " 13  growth_7d                     182318 non-null  float64       \n",
      " 14  growth_30d                    181973 non-null  float64       \n",
      " 15  growth_90d                    181073 non-null  float64       \n",
      " 16  growth_365d                   176663 non-null  float64       \n",
      " 17  growth_future_5d              182258 non-null  float64       \n",
      " 18  SMA10                         182288 non-null  float64       \n",
      " 19  SMA20                         182138 non-null  float64       \n",
      " 20  growing_moving_average        182423 non-null  int64         \n",
      " 21  high_minus_low_relative       182423 non-null  float64       \n",
      " 22  volatility                    181988 non-null  float64       \n",
      " 23  is_positive_growth_5d_future  182423 non-null  int64         \n",
      " 24  ticker_type                   182423 non-null  object        \n",
      "dtypes: datetime64[ns](1), float64(16), int32(3), int64(3), object(2)\n",
      "memory usage: 34.1+ MB\n"
     ]
    }
   ],
   "source": [
    "# filtering only on stats after 2000\n",
    "stocks_df[stocks_df.Date>='2000-01-01'].info()"
   ]
  },
  {
   "cell_type": "code",
   "execution_count": null,
   "metadata": {},
   "outputs": [
    {
     "data": {
      "application/vnd.google.colaboratory.intrinsic+json": {
       "type": "dataframe"
      },
      "text/html": [
       "\n",
       "  <div id=\"df-ccfe7d88-a6c7-4c2e-98d2-523d6fa8d0bf\" class=\"colab-df-container\">\n",
       "    <div>\n",
       "<style scoped>\n",
       "    .dataframe tbody tr th:only-of-type {\n",
       "        vertical-align: middle;\n",
       "    }\n",
       "\n",
       "    .dataframe tbody tr th {\n",
       "        vertical-align: top;\n",
       "    }\n",
       "\n",
       "    .dataframe thead th {\n",
       "        text-align: right;\n",
       "    }\n",
       "</style>\n",
       "<table border=\"1\" class=\"dataframe\">\n",
       "  <thead>\n",
       "    <tr style=\"text-align: right;\">\n",
       "      <th></th>\n",
       "      <th>Open</th>\n",
       "      <th>High</th>\n",
       "      <th>Low</th>\n",
       "      <th>Close</th>\n",
       "      <th>Adj Close</th>\n",
       "      <th>Volume</th>\n",
       "      <th>Ticker</th>\n",
       "      <th>Year</th>\n",
       "      <th>Month</th>\n",
       "      <th>Weekday</th>\n",
       "      <th>...</th>\n",
       "      <th>growth_90d</th>\n",
       "      <th>growth_365d</th>\n",
       "      <th>growth_future_5d</th>\n",
       "      <th>SMA10</th>\n",
       "      <th>SMA20</th>\n",
       "      <th>growing_moving_average</th>\n",
       "      <th>high_minus_low_relative</th>\n",
       "      <th>volatility</th>\n",
       "      <th>is_positive_growth_5d_future</th>\n",
       "      <th>ticker_type</th>\n",
       "    </tr>\n",
       "  </thead>\n",
       "  <tbody>\n",
       "    <tr>\n",
       "      <th>194903</th>\n",
       "      <td>925.000000</td>\n",
       "      <td>984.450012</td>\n",
       "      <td>924.000000</td>\n",
       "      <td>970.599976</td>\n",
       "      <td>970.599976</td>\n",
       "      <td>4863536</td>\n",
       "      <td>LICI.NS</td>\n",
       "      <td>2024</td>\n",
       "      <td>4</td>\n",
       "      <td>0</td>\n",
       "      <td>...</td>\n",
       "      <td>1.599113</td>\n",
       "      <td>1.556710</td>\n",
       "      <td>1.026891</td>\n",
       "      <td>906.085004</td>\n",
       "      <td>953.950003</td>\n",
       "      <td>0</td>\n",
       "      <td>0.062281</td>\n",
       "      <td>1034.237352</td>\n",
       "      <td>1</td>\n",
       "      <td>INDIA</td>\n",
       "    </tr>\n",
       "    <tr>\n",
       "      <th>201224</th>\n",
       "      <td>17.889999</td>\n",
       "      <td>17.920000</td>\n",
       "      <td>17.500000</td>\n",
       "      <td>17.580000</td>\n",
       "      <td>17.580000</td>\n",
       "      <td>14601600</td>\n",
       "      <td>INFY</td>\n",
       "      <td>2024</td>\n",
       "      <td>4</td>\n",
       "      <td>0</td>\n",
       "      <td>...</td>\n",
       "      <td>1.003998</td>\n",
       "      <td>1.024508</td>\n",
       "      <td>1.015927</td>\n",
       "      <td>18.156000</td>\n",
       "      <td>18.777500</td>\n",
       "      <td>0</td>\n",
       "      <td>0.023891</td>\n",
       "      <td>13.940634</td>\n",
       "      <td>1</td>\n",
       "      <td>INDIA</td>\n",
       "    </tr>\n",
       "    <tr>\n",
       "      <th>208338</th>\n",
       "      <td>429.100006</td>\n",
       "      <td>431.350006</td>\n",
       "      <td>425.750000</td>\n",
       "      <td>426.700012</td>\n",
       "      <td>426.700012</td>\n",
       "      <td>9382308</td>\n",
       "      <td>ITC.NS</td>\n",
       "      <td>2024</td>\n",
       "      <td>4</td>\n",
       "      <td>0</td>\n",
       "      <td>...</td>\n",
       "      <td>0.987044</td>\n",
       "      <td>1.314436</td>\n",
       "      <td>1.005625</td>\n",
       "      <td>422.235004</td>\n",
       "      <td>416.537502</td>\n",
       "      <td>1</td>\n",
       "      <td>0.013124</td>\n",
       "      <td>130.246651</td>\n",
       "      <td>1</td>\n",
       "      <td>INDIA</td>\n",
       "    </tr>\n",
       "    <tr>\n",
       "      <th>215453</th>\n",
       "      <td>2270.000000</td>\n",
       "      <td>2295.000000</td>\n",
       "      <td>2262.000000</td>\n",
       "      <td>2285.899902</td>\n",
       "      <td>2285.899902</td>\n",
       "      <td>1427873</td>\n",
       "      <td>HINDUNILVR.NS</td>\n",
       "      <td>2024</td>\n",
       "      <td>4</td>\n",
       "      <td>0</td>\n",
       "      <td>...</td>\n",
       "      <td>0.917590</td>\n",
       "      <td>0.894051</td>\n",
       "      <td>0.992585</td>\n",
       "      <td>2266.539990</td>\n",
       "      <td>2327.240015</td>\n",
       "      <td>0</td>\n",
       "      <td>0.014436</td>\n",
       "      <td>1049.970071</td>\n",
       "      <td>0</td>\n",
       "      <td>INDIA</td>\n",
       "    </tr>\n",
       "    <tr>\n",
       "      <th>220873</th>\n",
       "      <td>3780.850098</td>\n",
       "      <td>3851.850098</td>\n",
       "      <td>3780.850098</td>\n",
       "      <td>3838.000000</td>\n",
       "      <td>3838.000000</td>\n",
       "      <td>1905190</td>\n",
       "      <td>LT.NS</td>\n",
       "      <td>2024</td>\n",
       "      <td>4</td>\n",
       "      <td>0</td>\n",
       "      <td>...</td>\n",
       "      <td>1.257886</td>\n",
       "      <td>2.010850</td>\n",
       "      <td>0.992144</td>\n",
       "      <td>3626.594971</td>\n",
       "      <td>3618.109985</td>\n",
       "      <td>1</td>\n",
       "      <td>0.018499</td>\n",
       "      <td>2188.619806</td>\n",
       "      <td>0</td>\n",
       "      <td>INDIA</td>\n",
       "    </tr>\n",
       "  </tbody>\n",
       "</table>\n",
       "<p>5 rows × 25 columns</p>\n",
       "</div>\n",
       "    <div class=\"colab-df-buttons\">\n",
       "\n",
       "  <div class=\"colab-df-container\">\n",
       "    <button class=\"colab-df-convert\" onclick=\"convertToInteractive('df-ccfe7d88-a6c7-4c2e-98d2-523d6fa8d0bf')\"\n",
       "            title=\"Convert this dataframe to an interactive table.\"\n",
       "            style=\"display:none;\">\n",
       "\n",
       "  <svg xmlns=\"http://www.w3.org/2000/svg\" height=\"24px\" viewBox=\"0 -960 960 960\">\n",
       "    <path d=\"M120-120v-720h720v720H120Zm60-500h600v-160H180v160Zm220 220h160v-160H400v160Zm0 220h160v-160H400v160ZM180-400h160v-160H180v160Zm440 0h160v-160H620v160ZM180-180h160v-160H180v160Zm440 0h160v-160H620v160Z\"/>\n",
       "  </svg>\n",
       "    </button>\n",
       "\n",
       "  <style>\n",
       "    .colab-df-container {\n",
       "      display:flex;\n",
       "      gap: 12px;\n",
       "    }\n",
       "\n",
       "    .colab-df-convert {\n",
       "      background-color: #E8F0FE;\n",
       "      border: none;\n",
       "      border-radius: 50%;\n",
       "      cursor: pointer;\n",
       "      display: none;\n",
       "      fill: #1967D2;\n",
       "      height: 32px;\n",
       "      padding: 0 0 0 0;\n",
       "      width: 32px;\n",
       "    }\n",
       "\n",
       "    .colab-df-convert:hover {\n",
       "      background-color: #E2EBFA;\n",
       "      box-shadow: 0px 1px 2px rgba(60, 64, 67, 0.3), 0px 1px 3px 1px rgba(60, 64, 67, 0.15);\n",
       "      fill: #174EA6;\n",
       "    }\n",
       "\n",
       "    .colab-df-buttons div {\n",
       "      margin-bottom: 4px;\n",
       "    }\n",
       "\n",
       "    [theme=dark] .colab-df-convert {\n",
       "      background-color: #3B4455;\n",
       "      fill: #D2E3FC;\n",
       "    }\n",
       "\n",
       "    [theme=dark] .colab-df-convert:hover {\n",
       "      background-color: #434B5C;\n",
       "      box-shadow: 0px 1px 3px 1px rgba(0, 0, 0, 0.15);\n",
       "      filter: drop-shadow(0px 1px 2px rgba(0, 0, 0, 0.3));\n",
       "      fill: #FFFFFF;\n",
       "    }\n",
       "  </style>\n",
       "\n",
       "    <script>\n",
       "      const buttonEl =\n",
       "        document.querySelector('#df-ccfe7d88-a6c7-4c2e-98d2-523d6fa8d0bf button.colab-df-convert');\n",
       "      buttonEl.style.display =\n",
       "        google.colab.kernel.accessAllowed ? 'block' : 'none';\n",
       "\n",
       "      async function convertToInteractive(key) {\n",
       "        const element = document.querySelector('#df-ccfe7d88-a6c7-4c2e-98d2-523d6fa8d0bf');\n",
       "        const dataTable =\n",
       "          await google.colab.kernel.invokeFunction('convertToInteractive',\n",
       "                                                    [key], {});\n",
       "        if (!dataTable) return;\n",
       "\n",
       "        const docLinkHtml = 'Like what you see? Visit the ' +\n",
       "          '<a target=\"_blank\" href=https://colab.research.google.com/notebooks/data_table.ipynb>data table notebook</a>'\n",
       "          + ' to learn more about interactive tables.';\n",
       "        element.innerHTML = '';\n",
       "        dataTable['output_type'] = 'display_data';\n",
       "        await google.colab.output.renderOutput(dataTable, element);\n",
       "        const docLink = document.createElement('div');\n",
       "        docLink.innerHTML = docLinkHtml;\n",
       "        element.appendChild(docLink);\n",
       "      }\n",
       "    </script>\n",
       "  </div>\n",
       "\n",
       "\n",
       "<div id=\"df-5f73d462-b852-46ef-b937-ac97878e751c\">\n",
       "  <button class=\"colab-df-quickchart\" onclick=\"quickchart('df-5f73d462-b852-46ef-b937-ac97878e751c')\"\n",
       "            title=\"Suggest charts\"\n",
       "            style=\"display:none;\">\n",
       "\n",
       "<svg xmlns=\"http://www.w3.org/2000/svg\" height=\"24px\"viewBox=\"0 0 24 24\"\n",
       "     width=\"24px\">\n",
       "    <g>\n",
       "        <path d=\"M19 3H5c-1.1 0-2 .9-2 2v14c0 1.1.9 2 2 2h14c1.1 0 2-.9 2-2V5c0-1.1-.9-2-2-2zM9 17H7v-7h2v7zm4 0h-2V7h2v10zm4 0h-2v-4h2v4z\"/>\n",
       "    </g>\n",
       "</svg>\n",
       "  </button>\n",
       "\n",
       "<style>\n",
       "  .colab-df-quickchart {\n",
       "      --bg-color: #E8F0FE;\n",
       "      --fill-color: #1967D2;\n",
       "      --hover-bg-color: #E2EBFA;\n",
       "      --hover-fill-color: #174EA6;\n",
       "      --disabled-fill-color: #AAA;\n",
       "      --disabled-bg-color: #DDD;\n",
       "  }\n",
       "\n",
       "  [theme=dark] .colab-df-quickchart {\n",
       "      --bg-color: #3B4455;\n",
       "      --fill-color: #D2E3FC;\n",
       "      --hover-bg-color: #434B5C;\n",
       "      --hover-fill-color: #FFFFFF;\n",
       "      --disabled-bg-color: #3B4455;\n",
       "      --disabled-fill-color: #666;\n",
       "  }\n",
       "\n",
       "  .colab-df-quickchart {\n",
       "    background-color: var(--bg-color);\n",
       "    border: none;\n",
       "    border-radius: 50%;\n",
       "    cursor: pointer;\n",
       "    display: none;\n",
       "    fill: var(--fill-color);\n",
       "    height: 32px;\n",
       "    padding: 0;\n",
       "    width: 32px;\n",
       "  }\n",
       "\n",
       "  .colab-df-quickchart:hover {\n",
       "    background-color: var(--hover-bg-color);\n",
       "    box-shadow: 0 1px 2px rgba(60, 64, 67, 0.3), 0 1px 3px 1px rgba(60, 64, 67, 0.15);\n",
       "    fill: var(--button-hover-fill-color);\n",
       "  }\n",
       "\n",
       "  .colab-df-quickchart-complete:disabled,\n",
       "  .colab-df-quickchart-complete:disabled:hover {\n",
       "    background-color: var(--disabled-bg-color);\n",
       "    fill: var(--disabled-fill-color);\n",
       "    box-shadow: none;\n",
       "  }\n",
       "\n",
       "  .colab-df-spinner {\n",
       "    border: 2px solid var(--fill-color);\n",
       "    border-color: transparent;\n",
       "    border-bottom-color: var(--fill-color);\n",
       "    animation:\n",
       "      spin 1s steps(1) infinite;\n",
       "  }\n",
       "\n",
       "  @keyframes spin {\n",
       "    0% {\n",
       "      border-color: transparent;\n",
       "      border-bottom-color: var(--fill-color);\n",
       "      border-left-color: var(--fill-color);\n",
       "    }\n",
       "    20% {\n",
       "      border-color: transparent;\n",
       "      border-left-color: var(--fill-color);\n",
       "      border-top-color: var(--fill-color);\n",
       "    }\n",
       "    30% {\n",
       "      border-color: transparent;\n",
       "      border-left-color: var(--fill-color);\n",
       "      border-top-color: var(--fill-color);\n",
       "      border-right-color: var(--fill-color);\n",
       "    }\n",
       "    40% {\n",
       "      border-color: transparent;\n",
       "      border-right-color: var(--fill-color);\n",
       "      border-top-color: var(--fill-color);\n",
       "    }\n",
       "    60% {\n",
       "      border-color: transparent;\n",
       "      border-right-color: var(--fill-color);\n",
       "    }\n",
       "    80% {\n",
       "      border-color: transparent;\n",
       "      border-right-color: var(--fill-color);\n",
       "      border-bottom-color: var(--fill-color);\n",
       "    }\n",
       "    90% {\n",
       "      border-color: transparent;\n",
       "      border-bottom-color: var(--fill-color);\n",
       "    }\n",
       "  }\n",
       "</style>\n",
       "\n",
       "  <script>\n",
       "    async function quickchart(key) {\n",
       "      const quickchartButtonEl =\n",
       "        document.querySelector('#' + key + ' button');\n",
       "      quickchartButtonEl.disabled = true;  // To prevent multiple clicks.\n",
       "      quickchartButtonEl.classList.add('colab-df-spinner');\n",
       "      try {\n",
       "        const charts = await google.colab.kernel.invokeFunction(\n",
       "            'suggestCharts', [key], {});\n",
       "      } catch (error) {\n",
       "        console.error('Error during call to suggestCharts:', error);\n",
       "      }\n",
       "      quickchartButtonEl.classList.remove('colab-df-spinner');\n",
       "      quickchartButtonEl.classList.add('colab-df-quickchart-complete');\n",
       "    }\n",
       "    (() => {\n",
       "      let quickchartButtonEl =\n",
       "        document.querySelector('#df-5f73d462-b852-46ef-b937-ac97878e751c button');\n",
       "      quickchartButtonEl.style.display =\n",
       "        google.colab.kernel.accessAllowed ? 'block' : 'none';\n",
       "    })();\n",
       "  </script>\n",
       "</div>\n",
       "    </div>\n",
       "  </div>\n"
      ],
      "text/plain": [
       "               Open         High          Low        Close    Adj Close  \\\n",
       "194903   925.000000   984.450012   924.000000   970.599976   970.599976   \n",
       "201224    17.889999    17.920000    17.500000    17.580000    17.580000   \n",
       "208338   429.100006   431.350006   425.750000   426.700012   426.700012   \n",
       "215453  2270.000000  2295.000000  2262.000000  2285.899902  2285.899902   \n",
       "220873  3780.850098  3851.850098  3780.850098  3838.000000  3838.000000   \n",
       "\n",
       "          Volume         Ticker  Year  Month  Weekday  ... growth_90d  \\\n",
       "194903   4863536        LICI.NS  2024      4        0  ...   1.599113   \n",
       "201224  14601600           INFY  2024      4        0  ...   1.003998   \n",
       "208338   9382308         ITC.NS  2024      4        0  ...   0.987044   \n",
       "215453   1427873  HINDUNILVR.NS  2024      4        0  ...   0.917590   \n",
       "220873   1905190          LT.NS  2024      4        0  ...   1.257886   \n",
       "\n",
       "        growth_365d  growth_future_5d        SMA10        SMA20  \\\n",
       "194903     1.556710          1.026891   906.085004   953.950003   \n",
       "201224     1.024508          1.015927    18.156000    18.777500   \n",
       "208338     1.314436          1.005625   422.235004   416.537502   \n",
       "215453     0.894051          0.992585  2266.539990  2327.240015   \n",
       "220873     2.010850          0.992144  3626.594971  3618.109985   \n",
       "\n",
       "        growing_moving_average  high_minus_low_relative   volatility  \\\n",
       "194903                       0                 0.062281  1034.237352   \n",
       "201224                       0                 0.023891    13.940634   \n",
       "208338                       1                 0.013124   130.246651   \n",
       "215453                       0                 0.014436  1049.970071   \n",
       "220873                       1                 0.018499  2188.619806   \n",
       "\n",
       "        is_positive_growth_5d_future  ticker_type  \n",
       "194903                             1        INDIA  \n",
       "201224                             1        INDIA  \n",
       "208338                             1        INDIA  \n",
       "215453                             0        INDIA  \n",
       "220873                             0        INDIA  \n",
       "\n",
       "[5 rows x 25 columns]"
      ]
     },
     "metadata": {},
     "output_type": "display_data"
    }
   ],
   "source": [
    "stocks_df[stocks_df.Date=='2024-04-01'].tail()"
   ]
  },
  {
   "cell_type": "code",
   "execution_count": null,
   "metadata": {},
   "outputs": [],
   "source": [
    "# https://companiesmarketcap.com/usa/largest-companies-in-the-usa-by-market-cap/\n",
    "US_STOCKS = ['MSFT', 'AAPL', 'GOOG', 'NVDA', 'AMZN', 'META', 'BRK-B', 'LLY', 'AVGO','V', 'JPM']\n",
    "\n",
    "# You're required to add EU_STOCKS and INDIA_STOCS\n",
    "# https://companiesmarketcap.com/european-union/largest-companies-in-the-eu-by-market-cap/\n",
    "EU_STOCKS = ['NVO','MC.PA', 'ASML', 'RMS.PA', 'OR.PA', 'SAP', 'ACN', 'TTE', 'SIE.DE','IDEXY','CDI.PA']\n",
    "\n",
    "# https://companiesmarketcap.com/india/largest-companies-in-india-by-market-cap/\n",
    "INDIA_STOCKS = ['RELIANCE.NS','TCS.NS','HDB','BHARTIARTL.NS','IBN','SBIN.NS','LICI.NS','INFY','ITC.NS','HINDUNILVR.NS','LT.NS']"
   ]
  },
  {
   "cell_type": "code",
   "execution_count": null,
   "metadata": {},
   "outputs": [
    {
     "data": {
      "text/plain": [
       "['MSFT',\n",
       " 'AAPL',\n",
       " 'GOOG',\n",
       " 'NVDA',\n",
       " 'AMZN',\n",
       " 'META',\n",
       " 'BRK-B',\n",
       " 'LLY',\n",
       " 'AVGO',\n",
       " 'V',\n",
       " 'JPM',\n",
       " 'NVO',\n",
       " 'MC.PA',\n",
       " 'ASML',\n",
       " 'RMS.PA',\n",
       " 'OR.PA',\n",
       " 'SAP',\n",
       " 'ACN',\n",
       " 'TTE',\n",
       " 'SIE.DE',\n",
       " 'IDEXY',\n",
       " 'CDI.PA',\n",
       " 'RELIANCE.NS',\n",
       " 'TCS.NS',\n",
       " 'HDB',\n",
       " 'BHARTIARTL.NS',\n",
       " 'IBN',\n",
       " 'SBIN.NS',\n",
       " 'LICI.NS',\n",
       " 'INFY',\n",
       " 'ITC.NS',\n",
       " 'HINDUNILVR.NS',\n",
       " 'LT.NS']"
      ]
     },
     "metadata": {},
     "output_type": "display_data"
    }
   ],
   "source": [
    "ALL_TICKERS = US_STOCKS  + EU_STOCKS + INDIA_STOCKS\n",
    "ALL_TICKERS"
   ]
  },
  {
   "cell_type": "code",
   "execution_count": null,
   "metadata": {},
   "outputs": [
    {
     "name": "stdout",
     "output_type": "stream",
     "text": [
      "0 MSFT\n"
     ]
    },
    {
     "name": "stderr",
     "output_type": "stream",
     "text": [
      "\r[*********************100%%**********************]  1 of 1 completed\n"
     ]
    },
    {
     "name": "stdout",
     "output_type": "stream",
     "text": [
      "1 AAPL\n"
     ]
    },
    {
     "name": "stderr",
     "output_type": "stream",
     "text": [
      "\r[*********************100%%**********************]  1 of 1 completed\n"
     ]
    },
    {
     "name": "stdout",
     "output_type": "stream",
     "text": [
      "2 GOOG\n"
     ]
    },
    {
     "name": "stderr",
     "output_type": "stream",
     "text": [
      "\r[*********************100%%**********************]  1 of 1 completed\n"
     ]
    },
    {
     "name": "stdout",
     "output_type": "stream",
     "text": [
      "3 NVDA\n"
     ]
    },
    {
     "name": "stderr",
     "output_type": "stream",
     "text": [
      "\r[*********************100%%**********************]  1 of 1 completed\n"
     ]
    },
    {
     "name": "stdout",
     "output_type": "stream",
     "text": [
      "4 AMZN\n"
     ]
    },
    {
     "name": "stderr",
     "output_type": "stream",
     "text": [
      "\r[*********************100%%**********************]  1 of 1 completed\n"
     ]
    },
    {
     "name": "stdout",
     "output_type": "stream",
     "text": [
      "5 META\n"
     ]
    },
    {
     "name": "stderr",
     "output_type": "stream",
     "text": [
      "\r[*********************100%%**********************]  1 of 1 completed\n"
     ]
    },
    {
     "name": "stdout",
     "output_type": "stream",
     "text": [
      "6 BRK-B\n"
     ]
    },
    {
     "name": "stderr",
     "output_type": "stream",
     "text": [
      "\r[*********************100%%**********************]  1 of 1 completed\n"
     ]
    },
    {
     "name": "stdout",
     "output_type": "stream",
     "text": [
      "7 LLY\n"
     ]
    },
    {
     "name": "stderr",
     "output_type": "stream",
     "text": [
      "\r[*********************100%%**********************]  1 of 1 completed\n"
     ]
    },
    {
     "name": "stdout",
     "output_type": "stream",
     "text": [
      "8 AVGO\n"
     ]
    },
    {
     "name": "stderr",
     "output_type": "stream",
     "text": [
      "\r[*********************100%%**********************]  1 of 1 completed\n"
     ]
    },
    {
     "name": "stdout",
     "output_type": "stream",
     "text": [
      "9 V\n"
     ]
    },
    {
     "name": "stderr",
     "output_type": "stream",
     "text": [
      "\r[*********************100%%**********************]  1 of 1 completed\n"
     ]
    },
    {
     "name": "stdout",
     "output_type": "stream",
     "text": [
      "10 JPM\n"
     ]
    },
    {
     "name": "stderr",
     "output_type": "stream",
     "text": [
      "\r[*********************100%%**********************]  1 of 1 completed\n"
     ]
    },
    {
     "name": "stdout",
     "output_type": "stream",
     "text": [
      "11 NVO\n"
     ]
    },
    {
     "name": "stderr",
     "output_type": "stream",
     "text": [
      "\r[*********************100%%**********************]  1 of 1 completed\n"
     ]
    },
    {
     "name": "stdout",
     "output_type": "stream",
     "text": [
      "12 MC.PA\n"
     ]
    },
    {
     "name": "stderr",
     "output_type": "stream",
     "text": [
      "\r[*********************100%%**********************]  1 of 1 completed\n"
     ]
    },
    {
     "name": "stdout",
     "output_type": "stream",
     "text": [
      "13 ASML\n"
     ]
    },
    {
     "name": "stderr",
     "output_type": "stream",
     "text": [
      "\r[*********************100%%**********************]  1 of 1 completed\n"
     ]
    },
    {
     "name": "stdout",
     "output_type": "stream",
     "text": [
      "14 RMS.PA\n"
     ]
    },
    {
     "name": "stderr",
     "output_type": "stream",
     "text": [
      "\r[*********************100%%**********************]  1 of 1 completed\n"
     ]
    },
    {
     "name": "stdout",
     "output_type": "stream",
     "text": [
      "15 OR.PA\n"
     ]
    },
    {
     "name": "stderr",
     "output_type": "stream",
     "text": [
      "\r[*********************100%%**********************]  1 of 1 completed\n"
     ]
    },
    {
     "name": "stdout",
     "output_type": "stream",
     "text": [
      "16 SAP\n"
     ]
    },
    {
     "name": "stderr",
     "output_type": "stream",
     "text": [
      "\r[*********************100%%**********************]  1 of 1 completed\n"
     ]
    },
    {
     "name": "stdout",
     "output_type": "stream",
     "text": [
      "17 ACN\n"
     ]
    },
    {
     "name": "stderr",
     "output_type": "stream",
     "text": [
      "\r[*********************100%%**********************]  1 of 1 completed\n"
     ]
    },
    {
     "name": "stdout",
     "output_type": "stream",
     "text": [
      "18 TTE\n"
     ]
    },
    {
     "name": "stderr",
     "output_type": "stream",
     "text": [
      "\r[*********************100%%**********************]  1 of 1 completed\n"
     ]
    },
    {
     "name": "stdout",
     "output_type": "stream",
     "text": [
      "19 SIE.DE\n"
     ]
    },
    {
     "name": "stderr",
     "output_type": "stream",
     "text": [
      "\r[*********************100%%**********************]  1 of 1 completed\n"
     ]
    },
    {
     "name": "stdout",
     "output_type": "stream",
     "text": [
      "20 IDEXY\n"
     ]
    },
    {
     "name": "stderr",
     "output_type": "stream",
     "text": [
      "\r[*********************100%%**********************]  1 of 1 completed\n"
     ]
    },
    {
     "name": "stdout",
     "output_type": "stream",
     "text": [
      "21 CDI.PA\n"
     ]
    },
    {
     "name": "stderr",
     "output_type": "stream",
     "text": [
      "\r[*********************100%%**********************]  1 of 1 completed\n"
     ]
    },
    {
     "name": "stdout",
     "output_type": "stream",
     "text": [
      "22 RELIANCE.NS\n"
     ]
    },
    {
     "name": "stderr",
     "output_type": "stream",
     "text": [
      "\r[*********************100%%**********************]  1 of 1 completed\n"
     ]
    },
    {
     "name": "stdout",
     "output_type": "stream",
     "text": [
      "23 TCS.NS\n"
     ]
    },
    {
     "name": "stderr",
     "output_type": "stream",
     "text": [
      "\r[*********************100%%**********************]  1 of 1 completed\n"
     ]
    },
    {
     "name": "stdout",
     "output_type": "stream",
     "text": [
      "24 HDB\n"
     ]
    },
    {
     "name": "stderr",
     "output_type": "stream",
     "text": [
      "\r[*********************100%%**********************]  1 of 1 completed\n"
     ]
    },
    {
     "name": "stdout",
     "output_type": "stream",
     "text": [
      "25 BHARTIARTL.NS\n"
     ]
    },
    {
     "name": "stderr",
     "output_type": "stream",
     "text": [
      "\r[*********************100%%**********************]  1 of 1 completed\n"
     ]
    },
    {
     "name": "stdout",
     "output_type": "stream",
     "text": [
      "26 IBN\n"
     ]
    },
    {
     "name": "stderr",
     "output_type": "stream",
     "text": [
      "\r[*********************100%%**********************]  1 of 1 completed\n"
     ]
    },
    {
     "name": "stdout",
     "output_type": "stream",
     "text": [
      "27 SBIN.NS\n"
     ]
    },
    {
     "name": "stderr",
     "output_type": "stream",
     "text": [
      "[*********************100%%**********************]  1 of 1 completed\n",
      "[*********************100%%**********************]  1 of 1 completed"
     ]
    },
    {
     "name": "stdout",
     "output_type": "stream",
     "text": [
      "28 LICI.NS\n"
     ]
    },
    {
     "name": "stderr",
     "output_type": "stream",
     "text": [
      "\n"
     ]
    },
    {
     "name": "stdout",
     "output_type": "stream",
     "text": [
      "29 INFY\n"
     ]
    },
    {
     "name": "stderr",
     "output_type": "stream",
     "text": [
      "\r[*********************100%%**********************]  1 of 1 completed\n"
     ]
    },
    {
     "name": "stdout",
     "output_type": "stream",
     "text": [
      "30 ITC.NS\n"
     ]
    },
    {
     "name": "stderr",
     "output_type": "stream",
     "text": [
      "\r[*********************100%%**********************]  1 of 1 completed\n"
     ]
    },
    {
     "name": "stdout",
     "output_type": "stream",
     "text": [
      "31 HINDUNILVR.NS\n"
     ]
    },
    {
     "name": "stderr",
     "output_type": "stream",
     "text": [
      "\r[*********************100%%**********************]  1 of 1 completed\n"
     ]
    },
    {
     "name": "stdout",
     "output_type": "stream",
     "text": [
      "32 LT.NS\n"
     ]
    },
    {
     "name": "stderr",
     "output_type": "stream",
     "text": [
      "\r[*********************100%%**********************]  1 of 1 completed\n"
     ]
    }
   ],
   "source": [
    "import time\n",
    "\n",
    "stocks_df = pd.DataFrame({'A' : []})\n",
    "\n",
    "for i,ticker in enumerate(ALL_TICKERS):\n",
    "  print(i,ticker)\n",
    "\n",
    "  # Work with stock prices\n",
    "  historyPrices = yf.download(tickers = ticker,\n",
    "                     period = \"max\",\n",
    "                     interval = \"1d\")\n",
    "\n",
    "  # generate features for historical prices, and what we want to predict\n",
    "  historyPrices['Ticker'] = ticker\n",
    "  historyPrices['Year']= historyPrices.index.year\n",
    "  historyPrices['Month'] = historyPrices.index.month\n",
    "  historyPrices['Weekday'] = historyPrices.index.weekday\n",
    "  historyPrices['Date'] = historyPrices.index.date\n",
    "\n",
    "  # historical returns\n",
    "  for i in [1,3,7,30,90,365]:\n",
    "    historyPrices['growth_'+str(i)+'d'] = historyPrices['Adj Close'] / historyPrices['Adj Close'].shift(i)\n",
    "  historyPrices['growth_future_5d'] = historyPrices['Adj Close'].shift(-5) / historyPrices['Adj Close']\n",
    "\n",
    "  # Technical indicators\n",
    "  # SimpleMovingAverage 10 days and 20 days\n",
    "  historyPrices['SMA10']= historyPrices['Close'].rolling(10).mean()\n",
    "  historyPrices['SMA20']= historyPrices['Close'].rolling(20).mean()\n",
    "  historyPrices['growing_moving_average'] = np.where(historyPrices['SMA10'] > historyPrices['SMA20'], 1, 0)\n",
    "  historyPrices['high_minus_low_relative'] = (historyPrices.High - historyPrices.Low) / historyPrices['Adj Close']\n",
    "\n",
    "  # 30d rolling volatility : https://ycharts.com/glossary/terms/rolling_vol_30\n",
    "  historyPrices['volatility'] =   historyPrices['Adj Close'].rolling(30).std() * np.sqrt(252)\n",
    "\n",
    "  # what we want to predict\n",
    "  historyPrices['is_positive_growth_5d_future'] = np.where(historyPrices['growth_future_5d'] > 1, 1, 0)\n",
    "\n",
    "  # sleep 1 sec between downloads - not to overload the API server\n",
    "  time.sleep(1)\n",
    "\n",
    "\n",
    "  if stocks_df.empty:\n",
    "    stocks_df = historyPrices\n",
    "  else:\n",
    "    stocks_df = pd.concat([stocks_df, historyPrices], ignore_index=True)"
   ]
  },
  {
   "cell_type": "code",
   "execution_count": null,
   "metadata": {},
   "outputs": [],
   "source": [
    "def get_ticker_type(ticker:str, us_stocks_list, eu_stocks_list, india_stocks_list):\n",
    "  if ticker in us_stocks_list:\n",
    "    return 'US'\n",
    "  elif ticker in eu_stocks_list:\n",
    "    return 'EU'\n",
    "  elif ticker in india_stocks_list:\n",
    "    return 'INDIA'\n",
    "  else:\n",
    "    return 'ERROR'\n"
   ]
  },
  {
   "cell_type": "code",
   "execution_count": null,
   "metadata": {},
   "outputs": [],
   "source": [
    "stocks_df['ticker_type'] = stocks_df.Ticker.apply(lambda x:get_ticker_type(x, US_STOCKS, EU_STOCKS, INDIA_STOCKS))"
   ]
  },
  {
   "cell_type": "code",
   "execution_count": null,
   "metadata": {},
   "outputs": [
    {
     "data": {
      "text/plain": [
       "ticker_type\n",
       "US       80639\n",
       "EU       76986\n",
       "INDIA    63265\n",
       "Name: count, dtype: int64"
      ]
     },
     "metadata": {},
     "output_type": "display_data"
    }
   ],
   "source": [
    "# count of observations between US-EU-INDIA stocks\n",
    "stocks_df.ticker_type.value_counts()"
   ]
  },
  {
   "cell_type": "code",
   "execution_count": null,
   "metadata": {},
   "outputs": [
    {
     "data": {
      "text/plain": [
       "33"
      ]
     },
     "metadata": {},
     "output_type": "display_data"
    }
   ],
   "source": [
    "# unique tickers\n",
    "stocks_df.Ticker.nunique()"
   ]
  },
  {
   "cell_type": "code",
   "execution_count": null,
   "metadata": {},
   "outputs": [
    {
     "data": {
      "text/plain": [
       "Ticker\n",
       "LLY              13087\n",
       "JPM              11121\n",
       "AAPL             10933\n",
       "NVO              10838\n",
       "MSFT              9607\n",
       "CDI.PA            8321\n",
       "TTE               8185\n",
       "ASML              7330\n",
       "SAP               7201\n",
       "HINDUNILVR.NS     7115\n",
       "SBIN.NS           7113\n",
       "RELIANCE.NS       7112\n",
       "ITC.NS            7112\n",
       "SIE.DE            7039\n",
       "BRK-B             7038\n",
       "AMZN              6780\n",
       "NVDA              6356\n",
       "INFY              6323\n",
       "MC.PA             6251\n",
       "RMS.PA            6251\n",
       "OR.PA             6251\n",
       "IBN               6058\n",
       "ACN               5728\n",
       "HDB               5727\n",
       "LT.NS             5420\n",
       "BHARTIARTL.NS     5417\n",
       "TCS.NS            5388\n",
       "GOOG              4955\n",
       "V                 4054\n",
       "AVGO              3705\n",
       "IDEXY             3591\n",
       "META              3003\n",
       "LICI.NS            480\n",
       "Name: count, dtype: int64"
      ]
     },
     "metadata": {},
     "output_type": "display_data"
    }
   ],
   "source": [
    "# count of observations by stock\n",
    "stocks_df.Ticker.value_counts()"
   ]
  },
  {
   "cell_type": "code",
   "execution_count": null,
   "metadata": {},
   "outputs": [
    {
     "data": {
      "application/vnd.google.colaboratory.intrinsic+json": {
       "summary": "{\n  \"name\": \"stocks_df\",\n  \"rows\": 33,\n  \"fields\": [\n    {\n      \"column\": \"min\",\n      \"properties\": {\n        \"dtype\": \"date\",\n        \"min\": \"1972-06-01\",\n        \"max\": \"2022-05-17\",\n        \"num_unique_values\": 27,\n        \"samples\": [\n          \"2004-08-19\",\n          \"1999-03-11\",\n          \"2001-07-20\"\n        ],\n        \"semantic_type\": \"\",\n        \"description\": \"\"\n      }\n    },\n    {\n      \"column\": \"max\",\n      \"properties\": {\n        \"dtype\": \"date\",\n        \"min\": \"2024-04-24\",\n        \"max\": \"2024-04-25\",\n        \"num_unique_values\": 2,\n        \"samples\": [\n          \"2024-04-24\",\n          \"2024-04-25\"\n        ],\n        \"semantic_type\": \"\",\n        \"description\": \"\"\n      }\n    }\n  ]\n}",
       "type": "dataframe"
      },
      "text/html": [
       "\n",
       "  <div id=\"df-a567f221-70b9-4459-aa53-76cc7a99cef8\" class=\"colab-df-container\">\n",
       "    <div>\n",
       "<style scoped>\n",
       "    .dataframe tbody tr th:only-of-type {\n",
       "        vertical-align: middle;\n",
       "    }\n",
       "\n",
       "    .dataframe tbody tr th {\n",
       "        vertical-align: top;\n",
       "    }\n",
       "\n",
       "    .dataframe thead th {\n",
       "        text-align: right;\n",
       "    }\n",
       "</style>\n",
       "<table border=\"1\" class=\"dataframe\">\n",
       "  <thead>\n",
       "    <tr style=\"text-align: right;\">\n",
       "      <th></th>\n",
       "      <th></th>\n",
       "      <th>min</th>\n",
       "      <th>max</th>\n",
       "    </tr>\n",
       "    <tr>\n",
       "      <th>Ticker</th>\n",
       "      <th>ticker_type</th>\n",
       "      <th></th>\n",
       "      <th></th>\n",
       "    </tr>\n",
       "  </thead>\n",
       "  <tbody>\n",
       "    <tr>\n",
       "      <th>AAPL</th>\n",
       "      <th>US</th>\n",
       "      <td>1980-12-12</td>\n",
       "      <td>2024-04-25</td>\n",
       "    </tr>\n",
       "    <tr>\n",
       "      <th>ACN</th>\n",
       "      <th>EU</th>\n",
       "      <td>2001-07-19</td>\n",
       "      <td>2024-04-25</td>\n",
       "    </tr>\n",
       "    <tr>\n",
       "      <th>AMZN</th>\n",
       "      <th>US</th>\n",
       "      <td>1997-05-15</td>\n",
       "      <td>2024-04-24</td>\n",
       "    </tr>\n",
       "    <tr>\n",
       "      <th>ASML</th>\n",
       "      <th>EU</th>\n",
       "      <td>1995-03-15</td>\n",
       "      <td>2024-04-25</td>\n",
       "    </tr>\n",
       "    <tr>\n",
       "      <th>AVGO</th>\n",
       "      <th>US</th>\n",
       "      <td>2009-08-06</td>\n",
       "      <td>2024-04-25</td>\n",
       "    </tr>\n",
       "    <tr>\n",
       "      <th>BHARTIARTL.NS</th>\n",
       "      <th>INDIA</th>\n",
       "      <td>2002-07-01</td>\n",
       "      <td>2024-04-25</td>\n",
       "    </tr>\n",
       "    <tr>\n",
       "      <th>BRK-B</th>\n",
       "      <th>US</th>\n",
       "      <td>1996-05-09</td>\n",
       "      <td>2024-04-25</td>\n",
       "    </tr>\n",
       "    <tr>\n",
       "      <th>CDI.PA</th>\n",
       "      <th>EU</th>\n",
       "      <td>1992-01-27</td>\n",
       "      <td>2024-04-25</td>\n",
       "    </tr>\n",
       "    <tr>\n",
       "      <th>GOOG</th>\n",
       "      <th>US</th>\n",
       "      <td>2004-08-19</td>\n",
       "      <td>2024-04-25</td>\n",
       "    </tr>\n",
       "    <tr>\n",
       "      <th>HDB</th>\n",
       "      <th>INDIA</th>\n",
       "      <td>2001-07-20</td>\n",
       "      <td>2024-04-25</td>\n",
       "    </tr>\n",
       "    <tr>\n",
       "      <th>HINDUNILVR.NS</th>\n",
       "      <th>INDIA</th>\n",
       "      <td>1996-01-01</td>\n",
       "      <td>2024-04-25</td>\n",
       "    </tr>\n",
       "    <tr>\n",
       "      <th>IBN</th>\n",
       "      <th>INDIA</th>\n",
       "      <td>2000-03-28</td>\n",
       "      <td>2024-04-25</td>\n",
       "    </tr>\n",
       "    <tr>\n",
       "      <th>IDEXY</th>\n",
       "      <th>EU</th>\n",
       "      <td>2010-01-20</td>\n",
       "      <td>2024-04-25</td>\n",
       "    </tr>\n",
       "    <tr>\n",
       "      <th>INFY</th>\n",
       "      <th>INDIA</th>\n",
       "      <td>1999-03-11</td>\n",
       "      <td>2024-04-25</td>\n",
       "    </tr>\n",
       "    <tr>\n",
       "      <th>ITC.NS</th>\n",
       "      <th>INDIA</th>\n",
       "      <td>1996-01-01</td>\n",
       "      <td>2024-04-25</td>\n",
       "    </tr>\n",
       "    <tr>\n",
       "      <th>JPM</th>\n",
       "      <th>US</th>\n",
       "      <td>1980-03-17</td>\n",
       "      <td>2024-04-25</td>\n",
       "    </tr>\n",
       "    <tr>\n",
       "      <th>LICI.NS</th>\n",
       "      <th>INDIA</th>\n",
       "      <td>2022-05-17</td>\n",
       "      <td>2024-04-25</td>\n",
       "    </tr>\n",
       "    <tr>\n",
       "      <th>LLY</th>\n",
       "      <th>US</th>\n",
       "      <td>1972-06-01</td>\n",
       "      <td>2024-04-25</td>\n",
       "    </tr>\n",
       "    <tr>\n",
       "      <th>LT.NS</th>\n",
       "      <th>INDIA</th>\n",
       "      <td>2002-07-01</td>\n",
       "      <td>2024-04-25</td>\n",
       "    </tr>\n",
       "    <tr>\n",
       "      <th>MC.PA</th>\n",
       "      <th>EU</th>\n",
       "      <td>2000-01-03</td>\n",
       "      <td>2024-04-25</td>\n",
       "    </tr>\n",
       "    <tr>\n",
       "      <th>META</th>\n",
       "      <th>US</th>\n",
       "      <td>2012-05-18</td>\n",
       "      <td>2024-04-25</td>\n",
       "    </tr>\n",
       "    <tr>\n",
       "      <th>MSFT</th>\n",
       "      <th>US</th>\n",
       "      <td>1986-03-13</td>\n",
       "      <td>2024-04-25</td>\n",
       "    </tr>\n",
       "    <tr>\n",
       "      <th>NVDA</th>\n",
       "      <th>US</th>\n",
       "      <td>1999-01-22</td>\n",
       "      <td>2024-04-25</td>\n",
       "    </tr>\n",
       "    <tr>\n",
       "      <th>NVO</th>\n",
       "      <th>EU</th>\n",
       "      <td>1981-04-30</td>\n",
       "      <td>2024-04-25</td>\n",
       "    </tr>\n",
       "    <tr>\n",
       "      <th>OR.PA</th>\n",
       "      <th>EU</th>\n",
       "      <td>2000-01-03</td>\n",
       "      <td>2024-04-25</td>\n",
       "    </tr>\n",
       "    <tr>\n",
       "      <th>RELIANCE.NS</th>\n",
       "      <th>INDIA</th>\n",
       "      <td>1996-01-01</td>\n",
       "      <td>2024-04-25</td>\n",
       "    </tr>\n",
       "    <tr>\n",
       "      <th>RMS.PA</th>\n",
       "      <th>EU</th>\n",
       "      <td>2000-01-03</td>\n",
       "      <td>2024-04-25</td>\n",
       "    </tr>\n",
       "    <tr>\n",
       "      <th>SAP</th>\n",
       "      <th>EU</th>\n",
       "      <td>1995-09-18</td>\n",
       "      <td>2024-04-25</td>\n",
       "    </tr>\n",
       "    <tr>\n",
       "      <th>SBIN.NS</th>\n",
       "      <th>INDIA</th>\n",
       "      <td>1996-01-01</td>\n",
       "      <td>2024-04-25</td>\n",
       "    </tr>\n",
       "    <tr>\n",
       "      <th>SIE.DE</th>\n",
       "      <th>EU</th>\n",
       "      <td>1996-11-08</td>\n",
       "      <td>2024-04-25</td>\n",
       "    </tr>\n",
       "    <tr>\n",
       "      <th>TCS.NS</th>\n",
       "      <th>INDIA</th>\n",
       "      <td>2002-08-12</td>\n",
       "      <td>2024-04-25</td>\n",
       "    </tr>\n",
       "    <tr>\n",
       "      <th>TTE</th>\n",
       "      <th>EU</th>\n",
       "      <td>1991-10-25</td>\n",
       "      <td>2024-04-25</td>\n",
       "    </tr>\n",
       "    <tr>\n",
       "      <th>V</th>\n",
       "      <th>US</th>\n",
       "      <td>2008-03-19</td>\n",
       "      <td>2024-04-25</td>\n",
       "    </tr>\n",
       "  </tbody>\n",
       "</table>\n",
       "</div>\n",
       "    <div class=\"colab-df-buttons\">\n",
       "\n",
       "  <div class=\"colab-df-container\">\n",
       "    <button class=\"colab-df-convert\" onclick=\"convertToInteractive('df-a567f221-70b9-4459-aa53-76cc7a99cef8')\"\n",
       "            title=\"Convert this dataframe to an interactive table.\"\n",
       "            style=\"display:none;\">\n",
       "\n",
       "  <svg xmlns=\"http://www.w3.org/2000/svg\" height=\"24px\" viewBox=\"0 -960 960 960\">\n",
       "    <path d=\"M120-120v-720h720v720H120Zm60-500h600v-160H180v160Zm220 220h160v-160H400v160Zm0 220h160v-160H400v160ZM180-400h160v-160H180v160Zm440 0h160v-160H620v160ZM180-180h160v-160H180v160Zm440 0h160v-160H620v160Z\"/>\n",
       "  </svg>\n",
       "    </button>\n",
       "\n",
       "  <style>\n",
       "    .colab-df-container {\n",
       "      display:flex;\n",
       "      gap: 12px;\n",
       "    }\n",
       "\n",
       "    .colab-df-convert {\n",
       "      background-color: #E8F0FE;\n",
       "      border: none;\n",
       "      border-radius: 50%;\n",
       "      cursor: pointer;\n",
       "      display: none;\n",
       "      fill: #1967D2;\n",
       "      height: 32px;\n",
       "      padding: 0 0 0 0;\n",
       "      width: 32px;\n",
       "    }\n",
       "\n",
       "    .colab-df-convert:hover {\n",
       "      background-color: #E2EBFA;\n",
       "      box-shadow: 0px 1px 2px rgba(60, 64, 67, 0.3), 0px 1px 3px 1px rgba(60, 64, 67, 0.15);\n",
       "      fill: #174EA6;\n",
       "    }\n",
       "\n",
       "    .colab-df-buttons div {\n",
       "      margin-bottom: 4px;\n",
       "    }\n",
       "\n",
       "    [theme=dark] .colab-df-convert {\n",
       "      background-color: #3B4455;\n",
       "      fill: #D2E3FC;\n",
       "    }\n",
       "\n",
       "    [theme=dark] .colab-df-convert:hover {\n",
       "      background-color: #434B5C;\n",
       "      box-shadow: 0px 1px 3px 1px rgba(0, 0, 0, 0.15);\n",
       "      filter: drop-shadow(0px 1px 2px rgba(0, 0, 0, 0.3));\n",
       "      fill: #FFFFFF;\n",
       "    }\n",
       "  </style>\n",
       "\n",
       "    <script>\n",
       "      const buttonEl =\n",
       "        document.querySelector('#df-a567f221-70b9-4459-aa53-76cc7a99cef8 button.colab-df-convert');\n",
       "      buttonEl.style.display =\n",
       "        google.colab.kernel.accessAllowed ? 'block' : 'none';\n",
       "\n",
       "      async function convertToInteractive(key) {\n",
       "        const element = document.querySelector('#df-a567f221-70b9-4459-aa53-76cc7a99cef8');\n",
       "        const dataTable =\n",
       "          await google.colab.kernel.invokeFunction('convertToInteractive',\n",
       "                                                    [key], {});\n",
       "        if (!dataTable) return;\n",
       "\n",
       "        const docLinkHtml = 'Like what you see? Visit the ' +\n",
       "          '<a target=\"_blank\" href=https://colab.research.google.com/notebooks/data_table.ipynb>data table notebook</a>'\n",
       "          + ' to learn more about interactive tables.';\n",
       "        element.innerHTML = '';\n",
       "        dataTable['output_type'] = 'display_data';\n",
       "        await google.colab.output.renderOutput(dataTable, element);\n",
       "        const docLink = document.createElement('div');\n",
       "        docLink.innerHTML = docLinkHtml;\n",
       "        element.appendChild(docLink);\n",
       "      }\n",
       "    </script>\n",
       "  </div>\n",
       "\n",
       "\n",
       "<div id=\"df-ae43645b-8dd1-4c7a-9cf6-5b8cbc48d8eb\">\n",
       "  <button class=\"colab-df-quickchart\" onclick=\"quickchart('df-ae43645b-8dd1-4c7a-9cf6-5b8cbc48d8eb')\"\n",
       "            title=\"Suggest charts\"\n",
       "            style=\"display:none;\">\n",
       "\n",
       "<svg xmlns=\"http://www.w3.org/2000/svg\" height=\"24px\"viewBox=\"0 0 24 24\"\n",
       "     width=\"24px\">\n",
       "    <g>\n",
       "        <path d=\"M19 3H5c-1.1 0-2 .9-2 2v14c0 1.1.9 2 2 2h14c1.1 0 2-.9 2-2V5c0-1.1-.9-2-2-2zM9 17H7v-7h2v7zm4 0h-2V7h2v10zm4 0h-2v-4h2v4z\"/>\n",
       "    </g>\n",
       "</svg>\n",
       "  </button>\n",
       "\n",
       "<style>\n",
       "  .colab-df-quickchart {\n",
       "      --bg-color: #E8F0FE;\n",
       "      --fill-color: #1967D2;\n",
       "      --hover-bg-color: #E2EBFA;\n",
       "      --hover-fill-color: #174EA6;\n",
       "      --disabled-fill-color: #AAA;\n",
       "      --disabled-bg-color: #DDD;\n",
       "  }\n",
       "\n",
       "  [theme=dark] .colab-df-quickchart {\n",
       "      --bg-color: #3B4455;\n",
       "      --fill-color: #D2E3FC;\n",
       "      --hover-bg-color: #434B5C;\n",
       "      --hover-fill-color: #FFFFFF;\n",
       "      --disabled-bg-color: #3B4455;\n",
       "      --disabled-fill-color: #666;\n",
       "  }\n",
       "\n",
       "  .colab-df-quickchart {\n",
       "    background-color: var(--bg-color);\n",
       "    border: none;\n",
       "    border-radius: 50%;\n",
       "    cursor: pointer;\n",
       "    display: none;\n",
       "    fill: var(--fill-color);\n",
       "    height: 32px;\n",
       "    padding: 0;\n",
       "    width: 32px;\n",
       "  }\n",
       "\n",
       "  .colab-df-quickchart:hover {\n",
       "    background-color: var(--hover-bg-color);\n",
       "    box-shadow: 0 1px 2px rgba(60, 64, 67, 0.3), 0 1px 3px 1px rgba(60, 64, 67, 0.15);\n",
       "    fill: var(--button-hover-fill-color);\n",
       "  }\n",
       "\n",
       "  .colab-df-quickchart-complete:disabled,\n",
       "  .colab-df-quickchart-complete:disabled:hover {\n",
       "    background-color: var(--disabled-bg-color);\n",
       "    fill: var(--disabled-fill-color);\n",
       "    box-shadow: none;\n",
       "  }\n",
       "\n",
       "  .colab-df-spinner {\n",
       "    border: 2px solid var(--fill-color);\n",
       "    border-color: transparent;\n",
       "    border-bottom-color: var(--fill-color);\n",
       "    animation:\n",
       "      spin 1s steps(1) infinite;\n",
       "  }\n",
       "\n",
       "  @keyframes spin {\n",
       "    0% {\n",
       "      border-color: transparent;\n",
       "      border-bottom-color: var(--fill-color);\n",
       "      border-left-color: var(--fill-color);\n",
       "    }\n",
       "    20% {\n",
       "      border-color: transparent;\n",
       "      border-left-color: var(--fill-color);\n",
       "      border-top-color: var(--fill-color);\n",
       "    }\n",
       "    30% {\n",
       "      border-color: transparent;\n",
       "      border-left-color: var(--fill-color);\n",
       "      border-top-color: var(--fill-color);\n",
       "      border-right-color: var(--fill-color);\n",
       "    }\n",
       "    40% {\n",
       "      border-color: transparent;\n",
       "      border-right-color: var(--fill-color);\n",
       "      border-top-color: var(--fill-color);\n",
       "    }\n",
       "    60% {\n",
       "      border-color: transparent;\n",
       "      border-right-color: var(--fill-color);\n",
       "    }\n",
       "    80% {\n",
       "      border-color: transparent;\n",
       "      border-right-color: var(--fill-color);\n",
       "      border-bottom-color: var(--fill-color);\n",
       "    }\n",
       "    90% {\n",
       "      border-color: transparent;\n",
       "      border-bottom-color: var(--fill-color);\n",
       "    }\n",
       "  }\n",
       "</style>\n",
       "\n",
       "  <script>\n",
       "    async function quickchart(key) {\n",
       "      const quickchartButtonEl =\n",
       "        document.querySelector('#' + key + ' button');\n",
       "      quickchartButtonEl.disabled = true;  // To prevent multiple clicks.\n",
       "      quickchartButtonEl.classList.add('colab-df-spinner');\n",
       "      try {\n",
       "        const charts = await google.colab.kernel.invokeFunction(\n",
       "            'suggestCharts', [key], {});\n",
       "      } catch (error) {\n",
       "        console.error('Error during call to suggestCharts:', error);\n",
       "      }\n",
       "      quickchartButtonEl.classList.remove('colab-df-spinner');\n",
       "      quickchartButtonEl.classList.add('colab-df-quickchart-complete');\n",
       "    }\n",
       "    (() => {\n",
       "      let quickchartButtonEl =\n",
       "        document.querySelector('#df-ae43645b-8dd1-4c7a-9cf6-5b8cbc48d8eb button');\n",
       "      quickchartButtonEl.style.display =\n",
       "        google.colab.kernel.accessAllowed ? 'block' : 'none';\n",
       "    })();\n",
       "  </script>\n",
       "</div>\n",
       "    </div>\n",
       "  </div>\n"
      ],
      "text/plain": [
       "                                  min         max\n",
       "Ticker        ticker_type                        \n",
       "AAPL          US           1980-12-12  2024-04-25\n",
       "ACN           EU           2001-07-19  2024-04-25\n",
       "AMZN          US           1997-05-15  2024-04-24\n",
       "ASML          EU           1995-03-15  2024-04-25\n",
       "AVGO          US           2009-08-06  2024-04-25\n",
       "BHARTIARTL.NS INDIA        2002-07-01  2024-04-25\n",
       "BRK-B         US           1996-05-09  2024-04-25\n",
       "CDI.PA        EU           1992-01-27  2024-04-25\n",
       "GOOG          US           2004-08-19  2024-04-25\n",
       "HDB           INDIA        2001-07-20  2024-04-25\n",
       "HINDUNILVR.NS INDIA        1996-01-01  2024-04-25\n",
       "IBN           INDIA        2000-03-28  2024-04-25\n",
       "IDEXY         EU           2010-01-20  2024-04-25\n",
       "INFY          INDIA        1999-03-11  2024-04-25\n",
       "ITC.NS        INDIA        1996-01-01  2024-04-25\n",
       "JPM           US           1980-03-17  2024-04-25\n",
       "LICI.NS       INDIA        2022-05-17  2024-04-25\n",
       "LLY           US           1972-06-01  2024-04-25\n",
       "LT.NS         INDIA        2002-07-01  2024-04-25\n",
       "MC.PA         EU           2000-01-03  2024-04-25\n",
       "META          US           2012-05-18  2024-04-25\n",
       "MSFT          US           1986-03-13  2024-04-25\n",
       "NVDA          US           1999-01-22  2024-04-25\n",
       "NVO           EU           1981-04-30  2024-04-25\n",
       "OR.PA         EU           2000-01-03  2024-04-25\n",
       "RELIANCE.NS   INDIA        1996-01-01  2024-04-25\n",
       "RMS.PA        EU           2000-01-03  2024-04-25\n",
       "SAP           EU           1995-09-18  2024-04-25\n",
       "SBIN.NS       INDIA        1996-01-01  2024-04-25\n",
       "SIE.DE        EU           1996-11-08  2024-04-25\n",
       "TCS.NS        INDIA        2002-08-12  2024-04-25\n",
       "TTE           EU           1991-10-25  2024-04-25\n",
       "V             US           2008-03-19  2024-04-25"
      ]
     },
     "metadata": {},
     "output_type": "display_data"
    }
   ],
   "source": [
    "stocks_df.groupby(['Ticker','ticker_type']).Date.agg(['min','max'])"
   ]
  },
  {
   "cell_type": "code",
   "execution_count": null,
   "metadata": {},
   "outputs": [
    {
     "data": {
      "text/plain": [
       "Year  ticker_type\n",
       "2020  EU             1.245388\n",
       "      INDIA          1.101896\n",
       "      US             1.484070\n",
       "2021  EU             1.582170\n",
       "      INDIA          1.546424\n",
       "      US             1.797571\n",
       "2022  EU             1.191169\n",
       "      INDIA          1.379889\n",
       "      US             1.182379\n",
       "2023  EU             1.246533\n",
       "      INDIA          1.201110\n",
       "      US             1.203253\n",
       "2024  EU             1.650721\n",
       "      INDIA          1.305762\n",
       "      US             2.153187\n",
       "Name: growth_365d, dtype: float64"
      ]
     },
     "metadata": {},
     "output_type": "display_data"
    }
   ],
   "source": [
    "#  average growth 365days\n",
    "stocks_df[stocks_df.Year>=2020].groupby(by=['Year','ticker_type']).growth_365d.mean()"
   ]
  },
  {
   "cell_type": "code",
   "execution_count": null,
   "metadata": {},
   "outputs": [],
   "source": [
    "stocks_df['Date'] = pd.to_datetime(stocks_df['Date'])"
   ]
  },
  {
   "cell_type": "code",
   "execution_count": null,
   "metadata": {},
   "outputs": [
    {
     "name": "stdout",
     "output_type": "stream",
     "text": [
      "<class 'pandas.core.frame.DataFrame'>\n",
      "Index: 182423 entries, 3490 to 220889\n",
      "Data columns (total 25 columns):\n",
      " #   Column                        Non-Null Count   Dtype         \n",
      "---  ------                        --------------   -----         \n",
      " 0   Open                          182423 non-null  float64       \n",
      " 1   High                          182423 non-null  float64       \n",
      " 2   Low                           182423 non-null  float64       \n",
      " 3   Close                         182423 non-null  float64       \n",
      " 4   Adj Close                     182423 non-null  float64       \n",
      " 5   Volume                        182423 non-null  int64         \n",
      " 6   Ticker                        182423 non-null  object        \n",
      " 7   Year                          182423 non-null  int32         \n",
      " 8   Month                         182423 non-null  int32         \n",
      " 9   Weekday                       182423 non-null  int32         \n",
      " 10  Date                          182423 non-null  datetime64[ns]\n",
      " 11  growth_1d                     182408 non-null  float64       \n",
      " 12  growth_3d                     182378 non-null  float64       \n",
      " 13  growth_7d                     182318 non-null  float64       \n",
      " 14  growth_30d                    181973 non-null  float64       \n",
      " 15  growth_90d                    181073 non-null  float64       \n",
      " 16  growth_365d                   176663 non-null  float64       \n",
      " 17  growth_future_5d              182258 non-null  float64       \n",
      " 18  SMA10                         182288 non-null  float64       \n",
      " 19  SMA20                         182138 non-null  float64       \n",
      " 20  growing_moving_average        182423 non-null  int64         \n",
      " 21  high_minus_low_relative       182423 non-null  float64       \n",
      " 22  volatility                    181988 non-null  float64       \n",
      " 23  is_positive_growth_5d_future  182423 non-null  int64         \n",
      " 24  ticker_type                   182423 non-null  object        \n",
      "dtypes: datetime64[ns](1), float64(16), int32(3), int64(3), object(2)\n",
      "memory usage: 34.1+ MB\n"
     ]
    }
   ],
   "source": [
    "# filtering only on stats after 2000\n",
    "stocks_df[stocks_df.Date>='2000-01-01'].info()"
   ]
  },
  {
   "cell_type": "code",
   "execution_count": null,
   "metadata": {},
   "outputs": [
    {
     "data": {
      "application/vnd.google.colaboratory.intrinsic+json": {
       "type": "dataframe"
      },
      "text/html": [
       "\n",
       "  <div id=\"df-ccfe7d88-a6c7-4c2e-98d2-523d6fa8d0bf\" class=\"colab-df-container\">\n",
       "    <div>\n",
       "<style scoped>\n",
       "    .dataframe tbody tr th:only-of-type {\n",
       "        vertical-align: middle;\n",
       "    }\n",
       "\n",
       "    .dataframe tbody tr th {\n",
       "        vertical-align: top;\n",
       "    }\n",
       "\n",
       "    .dataframe thead th {\n",
       "        text-align: right;\n",
       "    }\n",
       "</style>\n",
       "<table border=\"1\" class=\"dataframe\">\n",
       "  <thead>\n",
       "    <tr style=\"text-align: right;\">\n",
       "      <th></th>\n",
       "      <th>Open</th>\n",
       "      <th>High</th>\n",
       "      <th>Low</th>\n",
       "      <th>Close</th>\n",
       "      <th>Adj Close</th>\n",
       "      <th>Volume</th>\n",
       "      <th>Ticker</th>\n",
       "      <th>Year</th>\n",
       "      <th>Month</th>\n",
       "      <th>Weekday</th>\n",
       "      <th>...</th>\n",
       "      <th>growth_90d</th>\n",
       "      <th>growth_365d</th>\n",
       "      <th>growth_future_5d</th>\n",
       "      <th>SMA10</th>\n",
       "      <th>SMA20</th>\n",
       "      <th>growing_moving_average</th>\n",
       "      <th>high_minus_low_relative</th>\n",
       "      <th>volatility</th>\n",
       "      <th>is_positive_growth_5d_future</th>\n",
       "      <th>ticker_type</th>\n",
       "    </tr>\n",
       "  </thead>\n",
       "  <tbody>\n",
       "    <tr>\n",
       "      <th>194903</th>\n",
       "      <td>925.000000</td>\n",
       "      <td>984.450012</td>\n",
       "      <td>924.000000</td>\n",
       "      <td>970.599976</td>\n",
       "      <td>970.599976</td>\n",
       "      <td>4863536</td>\n",
       "      <td>LICI.NS</td>\n",
       "      <td>2024</td>\n",
       "      <td>4</td>\n",
       "      <td>0</td>\n",
       "      <td>...</td>\n",
       "      <td>1.599113</td>\n",
       "      <td>1.556710</td>\n",
       "      <td>1.026891</td>\n",
       "      <td>906.085004</td>\n",
       "      <td>953.950003</td>\n",
       "      <td>0</td>\n",
       "      <td>0.062281</td>\n",
       "      <td>1034.237352</td>\n",
       "      <td>1</td>\n",
       "      <td>INDIA</td>\n",
       "    </tr>\n",
       "    <tr>\n",
       "      <th>201224</th>\n",
       "      <td>17.889999</td>\n",
       "      <td>17.920000</td>\n",
       "      <td>17.500000</td>\n",
       "      <td>17.580000</td>\n",
       "      <td>17.580000</td>\n",
       "      <td>14601600</td>\n",
       "      <td>INFY</td>\n",
       "      <td>2024</td>\n",
       "      <td>4</td>\n",
       "      <td>0</td>\n",
       "      <td>...</td>\n",
       "      <td>1.003998</td>\n",
       "      <td>1.024508</td>\n",
       "      <td>1.015927</td>\n",
       "      <td>18.156000</td>\n",
       "      <td>18.777500</td>\n",
       "      <td>0</td>\n",
       "      <td>0.023891</td>\n",
       "      <td>13.940634</td>\n",
       "      <td>1</td>\n",
       "      <td>INDIA</td>\n",
       "    </tr>\n",
       "    <tr>\n",
       "      <th>208338</th>\n",
       "      <td>429.100006</td>\n",
       "      <td>431.350006</td>\n",
       "      <td>425.750000</td>\n",
       "      <td>426.700012</td>\n",
       "      <td>426.700012</td>\n",
       "      <td>9382308</td>\n",
       "      <td>ITC.NS</td>\n",
       "      <td>2024</td>\n",
       "      <td>4</td>\n",
       "      <td>0</td>\n",
       "      <td>...</td>\n",
       "      <td>0.987044</td>\n",
       "      <td>1.314436</td>\n",
       "      <td>1.005625</td>\n",
       "      <td>422.235004</td>\n",
       "      <td>416.537502</td>\n",
       "      <td>1</td>\n",
       "      <td>0.013124</td>\n",
       "      <td>130.246651</td>\n",
       "      <td>1</td>\n",
       "      <td>INDIA</td>\n",
       "    </tr>\n",
       "    <tr>\n",
       "      <th>215453</th>\n",
       "      <td>2270.000000</td>\n",
       "      <td>2295.000000</td>\n",
       "      <td>2262.000000</td>\n",
       "      <td>2285.899902</td>\n",
       "      <td>2285.899902</td>\n",
       "      <td>1427873</td>\n",
       "      <td>HINDUNILVR.NS</td>\n",
       "      <td>2024</td>\n",
       "      <td>4</td>\n",
       "      <td>0</td>\n",
       "      <td>...</td>\n",
       "      <td>0.917590</td>\n",
       "      <td>0.894051</td>\n",
       "      <td>0.992585</td>\n",
       "      <td>2266.539990</td>\n",
       "      <td>2327.240015</td>\n",
       "      <td>0</td>\n",
       "      <td>0.014436</td>\n",
       "      <td>1049.970071</td>\n",
       "      <td>0</td>\n",
       "      <td>INDIA</td>\n",
       "    </tr>\n",
       "    <tr>\n",
       "      <th>220873</th>\n",
       "      <td>3780.850098</td>\n",
       "      <td>3851.850098</td>\n",
       "      <td>3780.850098</td>\n",
       "      <td>3838.000000</td>\n",
       "      <td>3838.000000</td>\n",
       "      <td>1905190</td>\n",
       "      <td>LT.NS</td>\n",
       "      <td>2024</td>\n",
       "      <td>4</td>\n",
       "      <td>0</td>\n",
       "      <td>...</td>\n",
       "      <td>1.257886</td>\n",
       "      <td>2.010850</td>\n",
       "      <td>0.992144</td>\n",
       "      <td>3626.594971</td>\n",
       "      <td>3618.109985</td>\n",
       "      <td>1</td>\n",
       "      <td>0.018499</td>\n",
       "      <td>2188.619806</td>\n",
       "      <td>0</td>\n",
       "      <td>INDIA</td>\n",
       "    </tr>\n",
       "  </tbody>\n",
       "</table>\n",
       "<p>5 rows × 25 columns</p>\n",
       "</div>\n",
       "    <div class=\"colab-df-buttons\">\n",
       "\n",
       "  <div class=\"colab-df-container\">\n",
       "    <button class=\"colab-df-convert\" onclick=\"convertToInteractive('df-ccfe7d88-a6c7-4c2e-98d2-523d6fa8d0bf')\"\n",
       "            title=\"Convert this dataframe to an interactive table.\"\n",
       "            style=\"display:none;\">\n",
       "\n",
       "  <svg xmlns=\"http://www.w3.org/2000/svg\" height=\"24px\" viewBox=\"0 -960 960 960\">\n",
       "    <path d=\"M120-120v-720h720v720H120Zm60-500h600v-160H180v160Zm220 220h160v-160H400v160Zm0 220h160v-160H400v160ZM180-400h160v-160H180v160Zm440 0h160v-160H620v160ZM180-180h160v-160H180v160Zm440 0h160v-160H620v160Z\"/>\n",
       "  </svg>\n",
       "    </button>\n",
       "\n",
       "  <style>\n",
       "    .colab-df-container {\n",
       "      display:flex;\n",
       "      gap: 12px;\n",
       "    }\n",
       "\n",
       "    .colab-df-convert {\n",
       "      background-color: #E8F0FE;\n",
       "      border: none;\n",
       "      border-radius: 50%;\n",
       "      cursor: pointer;\n",
       "      display: none;\n",
       "      fill: #1967D2;\n",
       "      height: 32px;\n",
       "      padding: 0 0 0 0;\n",
       "      width: 32px;\n",
       "    }\n",
       "\n",
       "    .colab-df-convert:hover {\n",
       "      background-color: #E2EBFA;\n",
       "      box-shadow: 0px 1px 2px rgba(60, 64, 67, 0.3), 0px 1px 3px 1px rgba(60, 64, 67, 0.15);\n",
       "      fill: #174EA6;\n",
       "    }\n",
       "\n",
       "    .colab-df-buttons div {\n",
       "      margin-bottom: 4px;\n",
       "    }\n",
       "\n",
       "    [theme=dark] .colab-df-convert {\n",
       "      background-color: #3B4455;\n",
       "      fill: #D2E3FC;\n",
       "    }\n",
       "\n",
       "    [theme=dark] .colab-df-convert:hover {\n",
       "      background-color: #434B5C;\n",
       "      box-shadow: 0px 1px 3px 1px rgba(0, 0, 0, 0.15);\n",
       "      filter: drop-shadow(0px 1px 2px rgba(0, 0, 0, 0.3));\n",
       "      fill: #FFFFFF;\n",
       "    }\n",
       "  </style>\n",
       "\n",
       "    <script>\n",
       "      const buttonEl =\n",
       "        document.querySelector('#df-ccfe7d88-a6c7-4c2e-98d2-523d6fa8d0bf button.colab-df-convert');\n",
       "      buttonEl.style.display =\n",
       "        google.colab.kernel.accessAllowed ? 'block' : 'none';\n",
       "\n",
       "      async function convertToInteractive(key) {\n",
       "        const element = document.querySelector('#df-ccfe7d88-a6c7-4c2e-98d2-523d6fa8d0bf');\n",
       "        const dataTable =\n",
       "          await google.colab.kernel.invokeFunction('convertToInteractive',\n",
       "                                                    [key], {});\n",
       "        if (!dataTable) return;\n",
       "\n",
       "        const docLinkHtml = 'Like what you see? Visit the ' +\n",
       "          '<a target=\"_blank\" href=https://colab.research.google.com/notebooks/data_table.ipynb>data table notebook</a>'\n",
       "          + ' to learn more about interactive tables.';\n",
       "        element.innerHTML = '';\n",
       "        dataTable['output_type'] = 'display_data';\n",
       "        await google.colab.output.renderOutput(dataTable, element);\n",
       "        const docLink = document.createElement('div');\n",
       "        docLink.innerHTML = docLinkHtml;\n",
       "        element.appendChild(docLink);\n",
       "      }\n",
       "    </script>\n",
       "  </div>\n",
       "\n",
       "\n",
       "<div id=\"df-5f73d462-b852-46ef-b937-ac97878e751c\">\n",
       "  <button class=\"colab-df-quickchart\" onclick=\"quickchart('df-5f73d462-b852-46ef-b937-ac97878e751c')\"\n",
       "            title=\"Suggest charts\"\n",
       "            style=\"display:none;\">\n",
       "\n",
       "<svg xmlns=\"http://www.w3.org/2000/svg\" height=\"24px\"viewBox=\"0 0 24 24\"\n",
       "     width=\"24px\">\n",
       "    <g>\n",
       "        <path d=\"M19 3H5c-1.1 0-2 .9-2 2v14c0 1.1.9 2 2 2h14c1.1 0 2-.9 2-2V5c0-1.1-.9-2-2-2zM9 17H7v-7h2v7zm4 0h-2V7h2v10zm4 0h-2v-4h2v4z\"/>\n",
       "    </g>\n",
       "</svg>\n",
       "  </button>\n",
       "\n",
       "<style>\n",
       "  .colab-df-quickchart {\n",
       "      --bg-color: #E8F0FE;\n",
       "      --fill-color: #1967D2;\n",
       "      --hover-bg-color: #E2EBFA;\n",
       "      --hover-fill-color: #174EA6;\n",
       "      --disabled-fill-color: #AAA;\n",
       "      --disabled-bg-color: #DDD;\n",
       "  }\n",
       "\n",
       "  [theme=dark] .colab-df-quickchart {\n",
       "      --bg-color: #3B4455;\n",
       "      --fill-color: #D2E3FC;\n",
       "      --hover-bg-color: #434B5C;\n",
       "      --hover-fill-color: #FFFFFF;\n",
       "      --disabled-bg-color: #3B4455;\n",
       "      --disabled-fill-color: #666;\n",
       "  }\n",
       "\n",
       "  .colab-df-quickchart {\n",
       "    background-color: var(--bg-color);\n",
       "    border: none;\n",
       "    border-radius: 50%;\n",
       "    cursor: pointer;\n",
       "    display: none;\n",
       "    fill: var(--fill-color);\n",
       "    height: 32px;\n",
       "    padding: 0;\n",
       "    width: 32px;\n",
       "  }\n",
       "\n",
       "  .colab-df-quickchart:hover {\n",
       "    background-color: var(--hover-bg-color);\n",
       "    box-shadow: 0 1px 2px rgba(60, 64, 67, 0.3), 0 1px 3px 1px rgba(60, 64, 67, 0.15);\n",
       "    fill: var(--button-hover-fill-color);\n",
       "  }\n",
       "\n",
       "  .colab-df-quickchart-complete:disabled,\n",
       "  .colab-df-quickchart-complete:disabled:hover {\n",
       "    background-color: var(--disabled-bg-color);\n",
       "    fill: var(--disabled-fill-color);\n",
       "    box-shadow: none;\n",
       "  }\n",
       "\n",
       "  .colab-df-spinner {\n",
       "    border: 2px solid var(--fill-color);\n",
       "    border-color: transparent;\n",
       "    border-bottom-color: var(--fill-color);\n",
       "    animation:\n",
       "      spin 1s steps(1) infinite;\n",
       "  }\n",
       "\n",
       "  @keyframes spin {\n",
       "    0% {\n",
       "      border-color: transparent;\n",
       "      border-bottom-color: var(--fill-color);\n",
       "      border-left-color: var(--fill-color);\n",
       "    }\n",
       "    20% {\n",
       "      border-color: transparent;\n",
       "      border-left-color: var(--fill-color);\n",
       "      border-top-color: var(--fill-color);\n",
       "    }\n",
       "    30% {\n",
       "      border-color: transparent;\n",
       "      border-left-color: var(--fill-color);\n",
       "      border-top-color: var(--fill-color);\n",
       "      border-right-color: var(--fill-color);\n",
       "    }\n",
       "    40% {\n",
       "      border-color: transparent;\n",
       "      border-right-color: var(--fill-color);\n",
       "      border-top-color: var(--fill-color);\n",
       "    }\n",
       "    60% {\n",
       "      border-color: transparent;\n",
       "      border-right-color: var(--fill-color);\n",
       "    }\n",
       "    80% {\n",
       "      border-color: transparent;\n",
       "      border-right-color: var(--fill-color);\n",
       "      border-bottom-color: var(--fill-color);\n",
       "    }\n",
       "    90% {\n",
       "      border-color: transparent;\n",
       "      border-bottom-color: var(--fill-color);\n",
       "    }\n",
       "  }\n",
       "</style>\n",
       "\n",
       "  <script>\n",
       "    async function quickchart(key) {\n",
       "      const quickchartButtonEl =\n",
       "        document.querySelector('#' + key + ' button');\n",
       "      quickchartButtonEl.disabled = true;  // To prevent multiple clicks.\n",
       "      quickchartButtonEl.classList.add('colab-df-spinner');\n",
       "      try {\n",
       "        const charts = await google.colab.kernel.invokeFunction(\n",
       "            'suggestCharts', [key], {});\n",
       "      } catch (error) {\n",
       "        console.error('Error during call to suggestCharts:', error);\n",
       "      }\n",
       "      quickchartButtonEl.classList.remove('colab-df-spinner');\n",
       "      quickchartButtonEl.classList.add('colab-df-quickchart-complete');\n",
       "    }\n",
       "    (() => {\n",
       "      let quickchartButtonEl =\n",
       "        document.querySelector('#df-5f73d462-b852-46ef-b937-ac97878e751c button');\n",
       "      quickchartButtonEl.style.display =\n",
       "        google.colab.kernel.accessAllowed ? 'block' : 'none';\n",
       "    })();\n",
       "  </script>\n",
       "</div>\n",
       "    </div>\n",
       "  </div>\n"
      ],
      "text/plain": [
       "               Open         High          Low        Close    Adj Close  \\\n",
       "194903   925.000000   984.450012   924.000000   970.599976   970.599976   \n",
       "201224    17.889999    17.920000    17.500000    17.580000    17.580000   \n",
       "208338   429.100006   431.350006   425.750000   426.700012   426.700012   \n",
       "215453  2270.000000  2295.000000  2262.000000  2285.899902  2285.899902   \n",
       "220873  3780.850098  3851.850098  3780.850098  3838.000000  3838.000000   \n",
       "\n",
       "          Volume         Ticker  Year  Month  Weekday  ... growth_90d  \\\n",
       "194903   4863536        LICI.NS  2024      4        0  ...   1.599113   \n",
       "201224  14601600           INFY  2024      4        0  ...   1.003998   \n",
       "208338   9382308         ITC.NS  2024      4        0  ...   0.987044   \n",
       "215453   1427873  HINDUNILVR.NS  2024      4        0  ...   0.917590   \n",
       "220873   1905190          LT.NS  2024      4        0  ...   1.257886   \n",
       "\n",
       "        growth_365d  growth_future_5d        SMA10        SMA20  \\\n",
       "194903     1.556710          1.026891   906.085004   953.950003   \n",
       "201224     1.024508          1.015927    18.156000    18.777500   \n",
       "208338     1.314436          1.005625   422.235004   416.537502   \n",
       "215453     0.894051          0.992585  2266.539990  2327.240015   \n",
       "220873     2.010850          0.992144  3626.594971  3618.109985   \n",
       "\n",
       "        growing_moving_average  high_minus_low_relative   volatility  \\\n",
       "194903                       0                 0.062281  1034.237352   \n",
       "201224                       0                 0.023891    13.940634   \n",
       "208338                       1                 0.013124   130.246651   \n",
       "215453                       0                 0.014436  1049.970071   \n",
       "220873                       1                 0.018499  2188.619806   \n",
       "\n",
       "        is_positive_growth_5d_future  ticker_type  \n",
       "194903                             1        INDIA  \n",
       "201224                             1        INDIA  \n",
       "208338                             1        INDIA  \n",
       "215453                             0        INDIA  \n",
       "220873                             0        INDIA  \n",
       "\n",
       "[5 rows x 25 columns]"
      ]
     },
     "metadata": {},
     "output_type": "display_data"
    }
   ],
   "source": [
    "stocks_df[stocks_df.Date=='2024-04-01'].tail()"
   ]
  },
  {
   "cell_type": "code",
   "execution_count": null,
   "metadata": {},
   "outputs": [],
   "source": [
    "# https://companiesmarketcap.com/usa/largest-companies-in-the-usa-by-market-cap/\n",
    "US_STOCKS = ['MSFT', 'AAPL', 'GOOG', 'NVDA', 'AMZN', 'META', 'BRK-B', 'LLY', 'AVGO','V', 'JPM']\n",
    "\n",
    "# You're required to add EU_STOCKS and INDIA_STOCS\n",
    "# https://companiesmarketcap.com/european-union/largest-companies-in-the-eu-by-market-cap/\n",
    "EU_STOCKS = ['NVO','MC.PA', 'ASML', 'RMS.PA', 'OR.PA', 'SAP', 'ACN', 'TTE', 'SIE.DE','IDEXY','CDI.PA']\n",
    "\n",
    "# https://companiesmarketcap.com/india/largest-companies-in-india-by-market-cap/\n",
    "INDIA_STOCKS = ['RELIANCE.NS','TCS.NS','HDB','BHARTIARTL.NS','IBN','SBIN.NS','LICI.NS','INFY','ITC.NS','HINDUNILVR.NS','LT.NS']"
   ]
  },
  {
   "cell_type": "code",
   "execution_count": null,
   "metadata": {},
   "outputs": [],
   "source": [
    "# https://companiesmarketcap.com/usa/largest-companies-in-the-usa-by-market-cap/\n",
    "US_STOCKS = ['MSFT', 'AAPL', 'GOOG', 'NVDA', 'AMZN', 'META', 'BRK-B', 'LLY', 'AVGO','V', 'JPM']\n",
    "\n",
    "# You're required to add EU_STOCKS and INDIA_STOCS\n",
    "# https://companiesmarketcap.com/european-union/largest-companies-in-the-eu-by-market-cap/\n",
    "EU_STOCKS = ['NVO','MC.PA', 'ASML', 'RMS.PA', 'OR.PA', 'SAP', 'ACN', 'TTE', 'SIE.DE','IDEXY','CDI.PA']\n",
    "\n",
    "# https://companiesmarketcap.com/india/largest-companies-in-india-by-market-cap/\n",
    "INDIA_STOCKS = ['RELIANCE.NS','TCS.NS','HDB','BHARTIARTL.NS','IBN','SBIN.NS','LICI.NS','INFY','ITC.NS','HINDUNILVR.NS','LT.NS']"
   ]
  },
  {
   "cell_type": "code",
   "execution_count": null,
   "metadata": {},
   "outputs": [
    {
     "data": {
      "text/plain": [
       "['MSFT',\n",
       " 'AAPL',\n",
       " 'GOOG',\n",
       " 'NVDA',\n",
       " 'AMZN',\n",
       " 'META',\n",
       " 'BRK-B',\n",
       " 'LLY',\n",
       " 'AVGO',\n",
       " 'V',\n",
       " 'JPM',\n",
       " 'NVO',\n",
       " 'MC.PA',\n",
       " 'ASML',\n",
       " 'RMS.PA',\n",
       " 'OR.PA',\n",
       " 'SAP',\n",
       " 'ACN',\n",
       " 'TTE',\n",
       " 'SIE.DE',\n",
       " 'IDEXY',\n",
       " 'CDI.PA',\n",
       " 'RELIANCE.NS',\n",
       " 'TCS.NS',\n",
       " 'HDB',\n",
       " 'BHARTIARTL.NS',\n",
       " 'IBN',\n",
       " 'SBIN.NS',\n",
       " 'LICI.NS',\n",
       " 'INFY',\n",
       " 'ITC.NS',\n",
       " 'HINDUNILVR.NS',\n",
       " 'LT.NS']"
      ]
     },
     "metadata": {},
     "output_type": "display_data"
    }
   ],
   "source": [
    "ALL_TICKERS = US_STOCKS  + EU_STOCKS + INDIA_STOCKS\n",
    "ALL_TICKERS"
   ]
  },
  {
   "cell_type": "code",
   "execution_count": null,
   "metadata": {},
   "outputs": [
    {
     "name": "stdout",
     "output_type": "stream",
     "text": [
      "0 MSFT\n"
     ]
    },
    {
     "name": "stderr",
     "output_type": "stream",
     "text": [
      "\r[*********************100%%**********************]  1 of 1 completed\n"
     ]
    },
    {
     "name": "stdout",
     "output_type": "stream",
     "text": [
      "1 AAPL\n"
     ]
    },
    {
     "name": "stderr",
     "output_type": "stream",
     "text": [
      "\r[*********************100%%**********************]  1 of 1 completed\n"
     ]
    },
    {
     "name": "stdout",
     "output_type": "stream",
     "text": [
      "2 GOOG\n"
     ]
    },
    {
     "name": "stderr",
     "output_type": "stream",
     "text": [
      "\r[*********************100%%**********************]  1 of 1 completed\n"
     ]
    },
    {
     "name": "stdout",
     "output_type": "stream",
     "text": [
      "3 NVDA\n"
     ]
    },
    {
     "name": "stderr",
     "output_type": "stream",
     "text": [
      "\r[*********************100%%**********************]  1 of 1 completed\n"
     ]
    },
    {
     "name": "stdout",
     "output_type": "stream",
     "text": [
      "4 AMZN\n"
     ]
    },
    {
     "name": "stderr",
     "output_type": "stream",
     "text": [
      "\r[*********************100%%**********************]  1 of 1 completed\n"
     ]
    },
    {
     "name": "stdout",
     "output_type": "stream",
     "text": [
      "5 META\n"
     ]
    },
    {
     "name": "stderr",
     "output_type": "stream",
     "text": [
      "\r[*********************100%%**********************]  1 of 1 completed\n"
     ]
    },
    {
     "name": "stdout",
     "output_type": "stream",
     "text": [
      "6 BRK-B\n"
     ]
    },
    {
     "name": "stderr",
     "output_type": "stream",
     "text": [
      "\r[*********************100%%**********************]  1 of 1 completed\n"
     ]
    },
    {
     "name": "stdout",
     "output_type": "stream",
     "text": [
      "7 LLY\n"
     ]
    },
    {
     "name": "stderr",
     "output_type": "stream",
     "text": [
      "\r[*********************100%%**********************]  1 of 1 completed\n"
     ]
    },
    {
     "name": "stdout",
     "output_type": "stream",
     "text": [
      "8 AVGO\n"
     ]
    },
    {
     "name": "stderr",
     "output_type": "stream",
     "text": [
      "\r[*********************100%%**********************]  1 of 1 completed\n"
     ]
    },
    {
     "name": "stdout",
     "output_type": "stream",
     "text": [
      "9 V\n"
     ]
    },
    {
     "name": "stderr",
     "output_type": "stream",
     "text": [
      "\r[*********************100%%**********************]  1 of 1 completed\n"
     ]
    },
    {
     "name": "stdout",
     "output_type": "stream",
     "text": [
      "10 JPM\n"
     ]
    },
    {
     "name": "stderr",
     "output_type": "stream",
     "text": [
      "\r[*********************100%%**********************]  1 of 1 completed\n"
     ]
    },
    {
     "name": "stdout",
     "output_type": "stream",
     "text": [
      "11 NVO\n"
     ]
    },
    {
     "name": "stderr",
     "output_type": "stream",
     "text": [
      "\r[*********************100%%**********************]  1 of 1 completed\n"
     ]
    },
    {
     "name": "stdout",
     "output_type": "stream",
     "text": [
      "12 MC.PA\n"
     ]
    },
    {
     "name": "stderr",
     "output_type": "stream",
     "text": [
      "\r[*********************100%%**********************]  1 of 1 completed\n"
     ]
    },
    {
     "name": "stdout",
     "output_type": "stream",
     "text": [
      "13 ASML\n"
     ]
    },
    {
     "name": "stderr",
     "output_type": "stream",
     "text": [
      "\r[*********************100%%**********************]  1 of 1 completed\n"
     ]
    },
    {
     "name": "stdout",
     "output_type": "stream",
     "text": [
      "14 RMS.PA\n"
     ]
    },
    {
     "name": "stderr",
     "output_type": "stream",
     "text": [
      "\r[*********************100%%**********************]  1 of 1 completed\n"
     ]
    },
    {
     "name": "stdout",
     "output_type": "stream",
     "text": [
      "15 OR.PA\n"
     ]
    },
    {
     "name": "stderr",
     "output_type": "stream",
     "text": [
      "\r[*********************100%%**********************]  1 of 1 completed\n"
     ]
    },
    {
     "name": "stdout",
     "output_type": "stream",
     "text": [
      "16 SAP\n"
     ]
    },
    {
     "name": "stderr",
     "output_type": "stream",
     "text": [
      "\r[*********************100%%**********************]  1 of 1 completed\n"
     ]
    },
    {
     "name": "stdout",
     "output_type": "stream",
     "text": [
      "17 ACN\n"
     ]
    },
    {
     "name": "stderr",
     "output_type": "stream",
     "text": [
      "\r[*********************100%%**********************]  1 of 1 completed\n"
     ]
    },
    {
     "name": "stdout",
     "output_type": "stream",
     "text": [
      "18 TTE\n"
     ]
    },
    {
     "name": "stderr",
     "output_type": "stream",
     "text": [
      "\r[*********************100%%**********************]  1 of 1 completed\n"
     ]
    },
    {
     "name": "stdout",
     "output_type": "stream",
     "text": [
      "19 SIE.DE\n"
     ]
    },
    {
     "name": "stderr",
     "output_type": "stream",
     "text": [
      "\r[*********************100%%**********************]  1 of 1 completed\n"
     ]
    },
    {
     "name": "stdout",
     "output_type": "stream",
     "text": [
      "20 IDEXY\n"
     ]
    },
    {
     "name": "stderr",
     "output_type": "stream",
     "text": [
      "\r[*********************100%%**********************]  1 of 1 completed\n"
     ]
    },
    {
     "name": "stdout",
     "output_type": "stream",
     "text": [
      "21 CDI.PA\n"
     ]
    },
    {
     "name": "stderr",
     "output_type": "stream",
     "text": [
      "\r[*********************100%%**********************]  1 of 1 completed\n"
     ]
    },
    {
     "name": "stdout",
     "output_type": "stream",
     "text": [
      "22 RELIANCE.NS\n"
     ]
    },
    {
     "name": "stderr",
     "output_type": "stream",
     "text": [
      "\r[*********************100%%**********************]  1 of 1 completed\n"
     ]
    },
    {
     "name": "stdout",
     "output_type": "stream",
     "text": [
      "23 TCS.NS\n"
     ]
    },
    {
     "name": "stderr",
     "output_type": "stream",
     "text": [
      "\r[*********************100%%**********************]  1 of 1 completed\n"
     ]
    },
    {
     "name": "stdout",
     "output_type": "stream",
     "text": [
      "24 HDB\n"
     ]
    },
    {
     "name": "stderr",
     "output_type": "stream",
     "text": [
      "\r[*********************100%%**********************]  1 of 1 completed\n"
     ]
    },
    {
     "name": "stdout",
     "output_type": "stream",
     "text": [
      "25 BHARTIARTL.NS\n"
     ]
    },
    {
     "name": "stderr",
     "output_type": "stream",
     "text": [
      "\r[*********************100%%**********************]  1 of 1 completed\n"
     ]
    },
    {
     "name": "stdout",
     "output_type": "stream",
     "text": [
      "26 IBN\n"
     ]
    },
    {
     "name": "stderr",
     "output_type": "stream",
     "text": [
      "\r[*********************100%%**********************]  1 of 1 completed\n"
     ]
    },
    {
     "name": "stdout",
     "output_type": "stream",
     "text": [
      "27 SBIN.NS\n"
     ]
    },
    {
     "name": "stderr",
     "output_type": "stream",
     "text": [
      "[*********************100%%**********************]  1 of 1 completed\n",
      "[*********************100%%**********************]  1 of 1 completed"
     ]
    },
    {
     "name": "stdout",
     "output_type": "stream",
     "text": [
      "28 LICI.NS\n"
     ]
    },
    {
     "name": "stderr",
     "output_type": "stream",
     "text": [
      "\n"
     ]
    },
    {
     "name": "stdout",
     "output_type": "stream",
     "text": [
      "29 INFY\n"
     ]
    },
    {
     "name": "stderr",
     "output_type": "stream",
     "text": [
      "\r[*********************100%%**********************]  1 of 1 completed\n"
     ]
    },
    {
     "name": "stdout",
     "output_type": "stream",
     "text": [
      "30 ITC.NS\n"
     ]
    },
    {
     "name": "stderr",
     "output_type": "stream",
     "text": [
      "\r[*********************100%%**********************]  1 of 1 completed\n"
     ]
    },
    {
     "name": "stdout",
     "output_type": "stream",
     "text": [
      "31 HINDUNILVR.NS\n"
     ]
    },
    {
     "name": "stderr",
     "output_type": "stream",
     "text": [
      "\r[*********************100%%**********************]  1 of 1 completed\n"
     ]
    },
    {
     "name": "stdout",
     "output_type": "stream",
     "text": [
      "32 LT.NS\n"
     ]
    },
    {
     "name": "stderr",
     "output_type": "stream",
     "text": [
      "\r[*********************100%%**********************]  1 of 1 completed\n"
     ]
    }
   ],
   "source": [
    "import time\n",
    "\n",
    "stocks_df = pd.DataFrame({'A' : []})\n",
    "\n",
    "for i,ticker in enumerate(ALL_TICKERS):\n",
    "  print(i,ticker)\n",
    "\n",
    "  # Work with stock prices\n",
    "  historyPrices = yf.download(tickers = ticker,\n",
    "                     period = \"max\",\n",
    "                     interval = \"1d\")\n",
    "\n",
    "  # generate features for historical prices, and what we want to predict\n",
    "  historyPrices['Ticker'] = ticker\n",
    "  historyPrices['Year']= historyPrices.index.year\n",
    "  historyPrices['Month'] = historyPrices.index.month\n",
    "  historyPrices['Weekday'] = historyPrices.index.weekday\n",
    "  historyPrices['Date'] = historyPrices.index.date\n",
    "\n",
    "  # historical returns\n",
    "  for i in [1,3,7,30,90,365]:\n",
    "    historyPrices['growth_'+str(i)+'d'] = historyPrices['Adj Close'] / historyPrices['Adj Close'].shift(i)\n",
    "  historyPrices['growth_future_5d'] = historyPrices['Adj Close'].shift(-5) / historyPrices['Adj Close']\n",
    "\n",
    "  # Technical indicators\n",
    "  # SimpleMovingAverage 10 days and 20 days\n",
    "  historyPrices['SMA10']= historyPrices['Close'].rolling(10).mean()\n",
    "  historyPrices['SMA20']= historyPrices['Close'].rolling(20).mean()\n",
    "  historyPrices['growing_moving_average'] = np.where(historyPrices['SMA10'] > historyPrices['SMA20'], 1, 0)\n",
    "  historyPrices['high_minus_low_relative'] = (historyPrices.High - historyPrices.Low) / historyPrices['Adj Close']\n",
    "\n",
    "  # 30d rolling volatility : https://ycharts.com/glossary/terms/rolling_vol_30\n",
    "  historyPrices['volatility'] =   historyPrices['Adj Close'].rolling(30).std() * np.sqrt(252)\n",
    "\n",
    "  # what we want to predict\n",
    "  historyPrices['is_positive_growth_5d_future'] = np.where(historyPrices['growth_future_5d'] > 1, 1, 0)\n",
    "\n",
    "  # sleep 1 sec between downloads - not to overload the API server\n",
    "  time.sleep(1)\n",
    "\n",
    "\n",
    "  if stocks_df.empty:\n",
    "    stocks_df = historyPrices\n",
    "  else:\n",
    "    stocks_df = pd.concat([stocks_df, historyPrices], ignore_index=True)"
   ]
  },
  {
   "cell_type": "code",
   "execution_count": null,
   "metadata": {},
   "outputs": [],
   "source": [
    "def get_ticker_type(ticker:str, us_stocks_list, eu_stocks_list, india_stocks_list):\n",
    "  if ticker in us_stocks_list:\n",
    "    return 'US'\n",
    "  elif ticker in eu_stocks_list:\n",
    "    return 'EU'\n",
    "  elif ticker in india_stocks_list:\n",
    "    return 'INDIA'\n",
    "  else:\n",
    "    return 'ERROR'\n"
   ]
  },
  {
   "cell_type": "code",
   "execution_count": null,
   "metadata": {},
   "outputs": [],
   "source": [
    "stocks_df['ticker_type'] = stocks_df.Ticker.apply(lambda x:get_ticker_type(x, US_STOCKS, EU_STOCKS, INDIA_STOCKS))"
   ]
  },
  {
   "cell_type": "code",
   "execution_count": null,
   "metadata": {},
   "outputs": [
    {
     "data": {
      "text/plain": [
       "ticker_type\n",
       "US       80639\n",
       "EU       76986\n",
       "INDIA    63265\n",
       "Name: count, dtype: int64"
      ]
     },
     "metadata": {},
     "output_type": "display_data"
    }
   ],
   "source": [
    "# count of observations between US-EU-INDIA stocks\n",
    "stocks_df.ticker_type.value_counts()"
   ]
  },
  {
   "cell_type": "code",
   "execution_count": null,
   "metadata": {},
   "outputs": [
    {
     "data": {
      "text/plain": [
       "33"
      ]
     },
     "metadata": {},
     "output_type": "display_data"
    }
   ],
   "source": [
    "# unique tickers\n",
    "stocks_df.Ticker.nunique()"
   ]
  },
  {
   "cell_type": "code",
   "execution_count": null,
   "metadata": {},
   "outputs": [
    {
     "data": {
      "text/plain": [
       "Ticker\n",
       "LLY              13087\n",
       "JPM              11121\n",
       "AAPL             10933\n",
       "NVO              10838\n",
       "MSFT              9607\n",
       "CDI.PA            8321\n",
       "TTE               8185\n",
       "ASML              7330\n",
       "SAP               7201\n",
       "HINDUNILVR.NS     7115\n",
       "SBIN.NS           7113\n",
       "RELIANCE.NS       7112\n",
       "ITC.NS            7112\n",
       "SIE.DE            7039\n",
       "BRK-B             7038\n",
       "AMZN              6780\n",
       "NVDA              6356\n",
       "INFY              6323\n",
       "MC.PA             6251\n",
       "RMS.PA            6251\n",
       "OR.PA             6251\n",
       "IBN               6058\n",
       "ACN               5728\n",
       "HDB               5727\n",
       "LT.NS             5420\n",
       "BHARTIARTL.NS     5417\n",
       "TCS.NS            5388\n",
       "GOOG              4955\n",
       "V                 4054\n",
       "AVGO              3705\n",
       "IDEXY             3591\n",
       "META              3003\n",
       "LICI.NS            480\n",
       "Name: count, dtype: int64"
      ]
     },
     "metadata": {},
     "output_type": "display_data"
    }
   ],
   "source": [
    "# count of observations by stock\n",
    "stocks_df.Ticker.value_counts()"
   ]
  },
  {
   "cell_type": "code",
   "execution_count": null,
   "metadata": {},
   "outputs": [
    {
     "data": {
      "application/vnd.google.colaboratory.intrinsic+json": {
       "summary": "{\n  \"name\": \"stocks_df\",\n  \"rows\": 33,\n  \"fields\": [\n    {\n      \"column\": \"min\",\n      \"properties\": {\n        \"dtype\": \"date\",\n        \"min\": \"1972-06-01\",\n        \"max\": \"2022-05-17\",\n        \"num_unique_values\": 27,\n        \"samples\": [\n          \"2004-08-19\",\n          \"1999-03-11\",\n          \"2001-07-20\"\n        ],\n        \"semantic_type\": \"\",\n        \"description\": \"\"\n      }\n    },\n    {\n      \"column\": \"max\",\n      \"properties\": {\n        \"dtype\": \"date\",\n        \"min\": \"2024-04-24\",\n        \"max\": \"2024-04-25\",\n        \"num_unique_values\": 2,\n        \"samples\": [\n          \"2024-04-24\",\n          \"2024-04-25\"\n        ],\n        \"semantic_type\": \"\",\n        \"description\": \"\"\n      }\n    }\n  ]\n}",
       "type": "dataframe"
      },
      "text/html": [
       "\n",
       "  <div id=\"df-a567f221-70b9-4459-aa53-76cc7a99cef8\" class=\"colab-df-container\">\n",
       "    <div>\n",
       "<style scoped>\n",
       "    .dataframe tbody tr th:only-of-type {\n",
       "        vertical-align: middle;\n",
       "    }\n",
       "\n",
       "    .dataframe tbody tr th {\n",
       "        vertical-align: top;\n",
       "    }\n",
       "\n",
       "    .dataframe thead th {\n",
       "        text-align: right;\n",
       "    }\n",
       "</style>\n",
       "<table border=\"1\" class=\"dataframe\">\n",
       "  <thead>\n",
       "    <tr style=\"text-align: right;\">\n",
       "      <th></th>\n",
       "      <th></th>\n",
       "      <th>min</th>\n",
       "      <th>max</th>\n",
       "    </tr>\n",
       "    <tr>\n",
       "      <th>Ticker</th>\n",
       "      <th>ticker_type</th>\n",
       "      <th></th>\n",
       "      <th></th>\n",
       "    </tr>\n",
       "  </thead>\n",
       "  <tbody>\n",
       "    <tr>\n",
       "      <th>AAPL</th>\n",
       "      <th>US</th>\n",
       "      <td>1980-12-12</td>\n",
       "      <td>2024-04-25</td>\n",
       "    </tr>\n",
       "    <tr>\n",
       "      <th>ACN</th>\n",
       "      <th>EU</th>\n",
       "      <td>2001-07-19</td>\n",
       "      <td>2024-04-25</td>\n",
       "    </tr>\n",
       "    <tr>\n",
       "      <th>AMZN</th>\n",
       "      <th>US</th>\n",
       "      <td>1997-05-15</td>\n",
       "      <td>2024-04-24</td>\n",
       "    </tr>\n",
       "    <tr>\n",
       "      <th>ASML</th>\n",
       "      <th>EU</th>\n",
       "      <td>1995-03-15</td>\n",
       "      <td>2024-04-25</td>\n",
       "    </tr>\n",
       "    <tr>\n",
       "      <th>AVGO</th>\n",
       "      <th>US</th>\n",
       "      <td>2009-08-06</td>\n",
       "      <td>2024-04-25</td>\n",
       "    </tr>\n",
       "    <tr>\n",
       "      <th>BHARTIARTL.NS</th>\n",
       "      <th>INDIA</th>\n",
       "      <td>2002-07-01</td>\n",
       "      <td>2024-04-25</td>\n",
       "    </tr>\n",
       "    <tr>\n",
       "      <th>BRK-B</th>\n",
       "      <th>US</th>\n",
       "      <td>1996-05-09</td>\n",
       "      <td>2024-04-25</td>\n",
       "    </tr>\n",
       "    <tr>\n",
       "      <th>CDI.PA</th>\n",
       "      <th>EU</th>\n",
       "      <td>1992-01-27</td>\n",
       "      <td>2024-04-25</td>\n",
       "    </tr>\n",
       "    <tr>\n",
       "      <th>GOOG</th>\n",
       "      <th>US</th>\n",
       "      <td>2004-08-19</td>\n",
       "      <td>2024-04-25</td>\n",
       "    </tr>\n",
       "    <tr>\n",
       "      <th>HDB</th>\n",
       "      <th>INDIA</th>\n",
       "      <td>2001-07-20</td>\n",
       "      <td>2024-04-25</td>\n",
       "    </tr>\n",
       "    <tr>\n",
       "      <th>HINDUNILVR.NS</th>\n",
       "      <th>INDIA</th>\n",
       "      <td>1996-01-01</td>\n",
       "      <td>2024-04-25</td>\n",
       "    </tr>\n",
       "    <tr>\n",
       "      <th>IBN</th>\n",
       "      <th>INDIA</th>\n",
       "      <td>2000-03-28</td>\n",
       "      <td>2024-04-25</td>\n",
       "    </tr>\n",
       "    <tr>\n",
       "      <th>IDEXY</th>\n",
       "      <th>EU</th>\n",
       "      <td>2010-01-20</td>\n",
       "      <td>2024-04-25</td>\n",
       "    </tr>\n",
       "    <tr>\n",
       "      <th>INFY</th>\n",
       "      <th>INDIA</th>\n",
       "      <td>1999-03-11</td>\n",
       "      <td>2024-04-25</td>\n",
       "    </tr>\n",
       "    <tr>\n",
       "      <th>ITC.NS</th>\n",
       "      <th>INDIA</th>\n",
       "      <td>1996-01-01</td>\n",
       "      <td>2024-04-25</td>\n",
       "    </tr>\n",
       "    <tr>\n",
       "      <th>JPM</th>\n",
       "      <th>US</th>\n",
       "      <td>1980-03-17</td>\n",
       "      <td>2024-04-25</td>\n",
       "    </tr>\n",
       "    <tr>\n",
       "      <th>LICI.NS</th>\n",
       "      <th>INDIA</th>\n",
       "      <td>2022-05-17</td>\n",
       "      <td>2024-04-25</td>\n",
       "    </tr>\n",
       "    <tr>\n",
       "      <th>LLY</th>\n",
       "      <th>US</th>\n",
       "      <td>1972-06-01</td>\n",
       "      <td>2024-04-25</td>\n",
       "    </tr>\n",
       "    <tr>\n",
       "      <th>LT.NS</th>\n",
       "      <th>INDIA</th>\n",
       "      <td>2002-07-01</td>\n",
       "      <td>2024-04-25</td>\n",
       "    </tr>\n",
       "    <tr>\n",
       "      <th>MC.PA</th>\n",
       "      <th>EU</th>\n",
       "      <td>2000-01-03</td>\n",
       "      <td>2024-04-25</td>\n",
       "    </tr>\n",
       "    <tr>\n",
       "      <th>META</th>\n",
       "      <th>US</th>\n",
       "      <td>2012-05-18</td>\n",
       "      <td>2024-04-25</td>\n",
       "    </tr>\n",
       "    <tr>\n",
       "      <th>MSFT</th>\n",
       "      <th>US</th>\n",
       "      <td>1986-03-13</td>\n",
       "      <td>2024-04-25</td>\n",
       "    </tr>\n",
       "    <tr>\n",
       "      <th>NVDA</th>\n",
       "      <th>US</th>\n",
       "      <td>1999-01-22</td>\n",
       "      <td>2024-04-25</td>\n",
       "    </tr>\n",
       "    <tr>\n",
       "      <th>NVO</th>\n",
       "      <th>EU</th>\n",
       "      <td>1981-04-30</td>\n",
       "      <td>2024-04-25</td>\n",
       "    </tr>\n",
       "    <tr>\n",
       "      <th>OR.PA</th>\n",
       "      <th>EU</th>\n",
       "      <td>2000-01-03</td>\n",
       "      <td>2024-04-25</td>\n",
       "    </tr>\n",
       "    <tr>\n",
       "      <th>RELIANCE.NS</th>\n",
       "      <th>INDIA</th>\n",
       "      <td>1996-01-01</td>\n",
       "      <td>2024-04-25</td>\n",
       "    </tr>\n",
       "    <tr>\n",
       "      <th>RMS.PA</th>\n",
       "      <th>EU</th>\n",
       "      <td>2000-01-03</td>\n",
       "      <td>2024-04-25</td>\n",
       "    </tr>\n",
       "    <tr>\n",
       "      <th>SAP</th>\n",
       "      <th>EU</th>\n",
       "      <td>1995-09-18</td>\n",
       "      <td>2024-04-25</td>\n",
       "    </tr>\n",
       "    <tr>\n",
       "      <th>SBIN.NS</th>\n",
       "      <th>INDIA</th>\n",
       "      <td>1996-01-01</td>\n",
       "      <td>2024-04-25</td>\n",
       "    </tr>\n",
       "    <tr>\n",
       "      <th>SIE.DE</th>\n",
       "      <th>EU</th>\n",
       "      <td>1996-11-08</td>\n",
       "      <td>2024-04-25</td>\n",
       "    </tr>\n",
       "    <tr>\n",
       "      <th>TCS.NS</th>\n",
       "      <th>INDIA</th>\n",
       "      <td>2002-08-12</td>\n",
       "      <td>2024-04-25</td>\n",
       "    </tr>\n",
       "    <tr>\n",
       "      <th>TTE</th>\n",
       "      <th>EU</th>\n",
       "      <td>1991-10-25</td>\n",
       "      <td>2024-04-25</td>\n",
       "    </tr>\n",
       "    <tr>\n",
       "      <th>V</th>\n",
       "      <th>US</th>\n",
       "      <td>2008-03-19</td>\n",
       "      <td>2024-04-25</td>\n",
       "    </tr>\n",
       "  </tbody>\n",
       "</table>\n",
       "</div>\n",
       "    <div class=\"colab-df-buttons\">\n",
       "\n",
       "  <div class=\"colab-df-container\">\n",
       "    <button class=\"colab-df-convert\" onclick=\"convertToInteractive('df-a567f221-70b9-4459-aa53-76cc7a99cef8')\"\n",
       "            title=\"Convert this dataframe to an interactive table.\"\n",
       "            style=\"display:none;\">\n",
       "\n",
       "  <svg xmlns=\"http://www.w3.org/2000/svg\" height=\"24px\" viewBox=\"0 -960 960 960\">\n",
       "    <path d=\"M120-120v-720h720v720H120Zm60-500h600v-160H180v160Zm220 220h160v-160H400v160Zm0 220h160v-160H400v160ZM180-400h160v-160H180v160Zm440 0h160v-160H620v160ZM180-180h160v-160H180v160Zm440 0h160v-160H620v160Z\"/>\n",
       "  </svg>\n",
       "    </button>\n",
       "\n",
       "  <style>\n",
       "    .colab-df-container {\n",
       "      display:flex;\n",
       "      gap: 12px;\n",
       "    }\n",
       "\n",
       "    .colab-df-convert {\n",
       "      background-color: #E8F0FE;\n",
       "      border: none;\n",
       "      border-radius: 50%;\n",
       "      cursor: pointer;\n",
       "      display: none;\n",
       "      fill: #1967D2;\n",
       "      height: 32px;\n",
       "      padding: 0 0 0 0;\n",
       "      width: 32px;\n",
       "    }\n",
       "\n",
       "    .colab-df-convert:hover {\n",
       "      background-color: #E2EBFA;\n",
       "      box-shadow: 0px 1px 2px rgba(60, 64, 67, 0.3), 0px 1px 3px 1px rgba(60, 64, 67, 0.15);\n",
       "      fill: #174EA6;\n",
       "    }\n",
       "\n",
       "    .colab-df-buttons div {\n",
       "      margin-bottom: 4px;\n",
       "    }\n",
       "\n",
       "    [theme=dark] .colab-df-convert {\n",
       "      background-color: #3B4455;\n",
       "      fill: #D2E3FC;\n",
       "    }\n",
       "\n",
       "    [theme=dark] .colab-df-convert:hover {\n",
       "      background-color: #434B5C;\n",
       "      box-shadow: 0px 1px 3px 1px rgba(0, 0, 0, 0.15);\n",
       "      filter: drop-shadow(0px 1px 2px rgba(0, 0, 0, 0.3));\n",
       "      fill: #FFFFFF;\n",
       "    }\n",
       "  </style>\n",
       "\n",
       "    <script>\n",
       "      const buttonEl =\n",
       "        document.querySelector('#df-a567f221-70b9-4459-aa53-76cc7a99cef8 button.colab-df-convert');\n",
       "      buttonEl.style.display =\n",
       "        google.colab.kernel.accessAllowed ? 'block' : 'none';\n",
       "\n",
       "      async function convertToInteractive(key) {\n",
       "        const element = document.querySelector('#df-a567f221-70b9-4459-aa53-76cc7a99cef8');\n",
       "        const dataTable =\n",
       "          await google.colab.kernel.invokeFunction('convertToInteractive',\n",
       "                                                    [key], {});\n",
       "        if (!dataTable) return;\n",
       "\n",
       "        const docLinkHtml = 'Like what you see? Visit the ' +\n",
       "          '<a target=\"_blank\" href=https://colab.research.google.com/notebooks/data_table.ipynb>data table notebook</a>'\n",
       "          + ' to learn more about interactive tables.';\n",
       "        element.innerHTML = '';\n",
       "        dataTable['output_type'] = 'display_data';\n",
       "        await google.colab.output.renderOutput(dataTable, element);\n",
       "        const docLink = document.createElement('div');\n",
       "        docLink.innerHTML = docLinkHtml;\n",
       "        element.appendChild(docLink);\n",
       "      }\n",
       "    </script>\n",
       "  </div>\n",
       "\n",
       "\n",
       "<div id=\"df-ae43645b-8dd1-4c7a-9cf6-5b8cbc48d8eb\">\n",
       "  <button class=\"colab-df-quickchart\" onclick=\"quickchart('df-ae43645b-8dd1-4c7a-9cf6-5b8cbc48d8eb')\"\n",
       "            title=\"Suggest charts\"\n",
       "            style=\"display:none;\">\n",
       "\n",
       "<svg xmlns=\"http://www.w3.org/2000/svg\" height=\"24px\"viewBox=\"0 0 24 24\"\n",
       "     width=\"24px\">\n",
       "    <g>\n",
       "        <path d=\"M19 3H5c-1.1 0-2 .9-2 2v14c0 1.1.9 2 2 2h14c1.1 0 2-.9 2-2V5c0-1.1-.9-2-2-2zM9 17H7v-7h2v7zm4 0h-2V7h2v10zm4 0h-2v-4h2v4z\"/>\n",
       "    </g>\n",
       "</svg>\n",
       "  </button>\n",
       "\n",
       "<style>\n",
       "  .colab-df-quickchart {\n",
       "      --bg-color: #E8F0FE;\n",
       "      --fill-color: #1967D2;\n",
       "      --hover-bg-color: #E2EBFA;\n",
       "      --hover-fill-color: #174EA6;\n",
       "      --disabled-fill-color: #AAA;\n",
       "      --disabled-bg-color: #DDD;\n",
       "  }\n",
       "\n",
       "  [theme=dark] .colab-df-quickchart {\n",
       "      --bg-color: #3B4455;\n",
       "      --fill-color: #D2E3FC;\n",
       "      --hover-bg-color: #434B5C;\n",
       "      --hover-fill-color: #FFFFFF;\n",
       "      --disabled-bg-color: #3B4455;\n",
       "      --disabled-fill-color: #666;\n",
       "  }\n",
       "\n",
       "  .colab-df-quickchart {\n",
       "    background-color: var(--bg-color);\n",
       "    border: none;\n",
       "    border-radius: 50%;\n",
       "    cursor: pointer;\n",
       "    display: none;\n",
       "    fill: var(--fill-color);\n",
       "    height: 32px;\n",
       "    padding: 0;\n",
       "    width: 32px;\n",
       "  }\n",
       "\n",
       "  .colab-df-quickchart:hover {\n",
       "    background-color: var(--hover-bg-color);\n",
       "    box-shadow: 0 1px 2px rgba(60, 64, 67, 0.3), 0 1px 3px 1px rgba(60, 64, 67, 0.15);\n",
       "    fill: var(--button-hover-fill-color);\n",
       "  }\n",
       "\n",
       "  .colab-df-quickchart-complete:disabled,\n",
       "  .colab-df-quickchart-complete:disabled:hover {\n",
       "    background-color: var(--disabled-bg-color);\n",
       "    fill: var(--disabled-fill-color);\n",
       "    box-shadow: none;\n",
       "  }\n",
       "\n",
       "  .colab-df-spinner {\n",
       "    border: 2px solid var(--fill-color);\n",
       "    border-color: transparent;\n",
       "    border-bottom-color: var(--fill-color);\n",
       "    animation:\n",
       "      spin 1s steps(1) infinite;\n",
       "  }\n",
       "\n",
       "  @keyframes spin {\n",
       "    0% {\n",
       "      border-color: transparent;\n",
       "      border-bottom-color: var(--fill-color);\n",
       "      border-left-color: var(--fill-color);\n",
       "    }\n",
       "    20% {\n",
       "      border-color: transparent;\n",
       "      border-left-color: var(--fill-color);\n",
       "      border-top-color: var(--fill-color);\n",
       "    }\n",
       "    30% {\n",
       "      border-color: transparent;\n",
       "      border-left-color: var(--fill-color);\n",
       "      border-top-color: var(--fill-color);\n",
       "      border-right-color: var(--fill-color);\n",
       "    }\n",
       "    40% {\n",
       "      border-color: transparent;\n",
       "      border-right-color: var(--fill-color);\n",
       "      border-top-color: var(--fill-color);\n",
       "    }\n",
       "    60% {\n",
       "      border-color: transparent;\n",
       "      border-right-color: var(--fill-color);\n",
       "    }\n",
       "    80% {\n",
       "      border-color: transparent;\n",
       "      border-right-color: var(--fill-color);\n",
       "      border-bottom-color: var(--fill-color);\n",
       "    }\n",
       "    90% {\n",
       "      border-color: transparent;\n",
       "      border-bottom-color: var(--fill-color);\n",
       "    }\n",
       "  }\n",
       "</style>\n",
       "\n",
       "  <script>\n",
       "    async function quickchart(key) {\n",
       "      const quickchartButtonEl =\n",
       "        document.querySelector('#' + key + ' button');\n",
       "      quickchartButtonEl.disabled = true;  // To prevent multiple clicks.\n",
       "      quickchartButtonEl.classList.add('colab-df-spinner');\n",
       "      try {\n",
       "        const charts = await google.colab.kernel.invokeFunction(\n",
       "            'suggestCharts', [key], {});\n",
       "      } catch (error) {\n",
       "        console.error('Error during call to suggestCharts:', error);\n",
       "      }\n",
       "      quickchartButtonEl.classList.remove('colab-df-spinner');\n",
       "      quickchartButtonEl.classList.add('colab-df-quickchart-complete');\n",
       "    }\n",
       "    (() => {\n",
       "      let quickchartButtonEl =\n",
       "        document.querySelector('#df-ae43645b-8dd1-4c7a-9cf6-5b8cbc48d8eb button');\n",
       "      quickchartButtonEl.style.display =\n",
       "        google.colab.kernel.accessAllowed ? 'block' : 'none';\n",
       "    })();\n",
       "  </script>\n",
       "</div>\n",
       "    </div>\n",
       "  </div>\n"
      ],
      "text/plain": [
       "                                  min         max\n",
       "Ticker        ticker_type                        \n",
       "AAPL          US           1980-12-12  2024-04-25\n",
       "ACN           EU           2001-07-19  2024-04-25\n",
       "AMZN          US           1997-05-15  2024-04-24\n",
       "ASML          EU           1995-03-15  2024-04-25\n",
       "AVGO          US           2009-08-06  2024-04-25\n",
       "BHARTIARTL.NS INDIA        2002-07-01  2024-04-25\n",
       "BRK-B         US           1996-05-09  2024-04-25\n",
       "CDI.PA        EU           1992-01-27  2024-04-25\n",
       "GOOG          US           2004-08-19  2024-04-25\n",
       "HDB           INDIA        2001-07-20  2024-04-25\n",
       "HINDUNILVR.NS INDIA        1996-01-01  2024-04-25\n",
       "IBN           INDIA        2000-03-28  2024-04-25\n",
       "IDEXY         EU           2010-01-20  2024-04-25\n",
       "INFY          INDIA        1999-03-11  2024-04-25\n",
       "ITC.NS        INDIA        1996-01-01  2024-04-25\n",
       "JPM           US           1980-03-17  2024-04-25\n",
       "LICI.NS       INDIA        2022-05-17  2024-04-25\n",
       "LLY           US           1972-06-01  2024-04-25\n",
       "LT.NS         INDIA        2002-07-01  2024-04-25\n",
       "MC.PA         EU           2000-01-03  2024-04-25\n",
       "META          US           2012-05-18  2024-04-25\n",
       "MSFT          US           1986-03-13  2024-04-25\n",
       "NVDA          US           1999-01-22  2024-04-25\n",
       "NVO           EU           1981-04-30  2024-04-25\n",
       "OR.PA         EU           2000-01-03  2024-04-25\n",
       "RELIANCE.NS   INDIA        1996-01-01  2024-04-25\n",
       "RMS.PA        EU           2000-01-03  2024-04-25\n",
       "SAP           EU           1995-09-18  2024-04-25\n",
       "SBIN.NS       INDIA        1996-01-01  2024-04-25\n",
       "SIE.DE        EU           1996-11-08  2024-04-25\n",
       "TCS.NS        INDIA        2002-08-12  2024-04-25\n",
       "TTE           EU           1991-10-25  2024-04-25\n",
       "V             US           2008-03-19  2024-04-25"
      ]
     },
     "metadata": {},
     "output_type": "display_data"
    }
   ],
   "source": [
    "stocks_df.groupby(['Ticker','ticker_type']).Date.agg(['min','max'])"
   ]
  },
  {
   "cell_type": "code",
   "execution_count": null,
   "metadata": {},
   "outputs": [
    {
     "data": {
      "text/plain": [
       "Year  ticker_type\n",
       "2020  EU             1.245388\n",
       "      INDIA          1.101896\n",
       "      US             1.484070\n",
       "2021  EU             1.582170\n",
       "      INDIA          1.546424\n",
       "      US             1.797571\n",
       "2022  EU             1.191169\n",
       "      INDIA          1.379889\n",
       "      US             1.182379\n",
       "2023  EU             1.246533\n",
       "      INDIA          1.201110\n",
       "      US             1.203253\n",
       "2024  EU             1.650721\n",
       "      INDIA          1.305762\n",
       "      US             2.153187\n",
       "Name: growth_365d, dtype: float64"
      ]
     },
     "metadata": {},
     "output_type": "display_data"
    }
   ],
   "source": [
    "#  average growth 365days\n",
    "stocks_df[stocks_df.Year>=2020].groupby(by=['Year','ticker_type']).growth_365d.mean()"
   ]
  },
  {
   "cell_type": "code",
   "execution_count": null,
   "metadata": {},
   "outputs": [],
   "source": [
    "stocks_df['Date'] = pd.to_datetime(stocks_df['Date'])"
   ]
  },
  {
   "cell_type": "code",
   "execution_count": null,
   "metadata": {},
   "outputs": [
    {
     "name": "stdout",
     "output_type": "stream",
     "text": [
      "<class 'pandas.core.frame.DataFrame'>\n",
      "Index: 182423 entries, 3490 to 220889\n",
      "Data columns (total 25 columns):\n",
      " #   Column                        Non-Null Count   Dtype         \n",
      "---  ------                        --------------   -----         \n",
      " 0   Open                          182423 non-null  float64       \n",
      " 1   High                          182423 non-null  float64       \n",
      " 2   Low                           182423 non-null  float64       \n",
      " 3   Close                         182423 non-null  float64       \n",
      " 4   Adj Close                     182423 non-null  float64       \n",
      " 5   Volume                        182423 non-null  int64         \n",
      " 6   Ticker                        182423 non-null  object        \n",
      " 7   Year                          182423 non-null  int32         \n",
      " 8   Month                         182423 non-null  int32         \n",
      " 9   Weekday                       182423 non-null  int32         \n",
      " 10  Date                          182423 non-null  datetime64[ns]\n",
      " 11  growth_1d                     182408 non-null  float64       \n",
      " 12  growth_3d                     182378 non-null  float64       \n",
      " 13  growth_7d                     182318 non-null  float64       \n",
      " 14  growth_30d                    181973 non-null  float64       \n",
      " 15  growth_90d                    181073 non-null  float64       \n",
      " 16  growth_365d                   176663 non-null  float64       \n",
      " 17  growth_future_5d              182258 non-null  float64       \n",
      " 18  SMA10                         182288 non-null  float64       \n",
      " 19  SMA20                         182138 non-null  float64       \n",
      " 20  growing_moving_average        182423 non-null  int64         \n",
      " 21  high_minus_low_relative       182423 non-null  float64       \n",
      " 22  volatility                    181988 non-null  float64       \n",
      " 23  is_positive_growth_5d_future  182423 non-null  int64         \n",
      " 24  ticker_type                   182423 non-null  object        \n",
      "dtypes: datetime64[ns](1), float64(16), int32(3), int64(3), object(2)\n",
      "memory usage: 34.1+ MB\n"
     ]
    }
   ],
   "source": [
    "# filtering only on stats after 2000\n",
    "stocks_df[stocks_df.Date>='2000-01-01'].info()"
   ]
  },
  {
   "cell_type": "code",
   "execution_count": null,
   "metadata": {},
   "outputs": [
    {
     "data": {
      "application/vnd.google.colaboratory.intrinsic+json": {
       "type": "dataframe"
      },
      "text/html": [
       "\n",
       "  <div id=\"df-ccfe7d88-a6c7-4c2e-98d2-523d6fa8d0bf\" class=\"colab-df-container\">\n",
       "    <div>\n",
       "<style scoped>\n",
       "    .dataframe tbody tr th:only-of-type {\n",
       "        vertical-align: middle;\n",
       "    }\n",
       "\n",
       "    .dataframe tbody tr th {\n",
       "        vertical-align: top;\n",
       "    }\n",
       "\n",
       "    .dataframe thead th {\n",
       "        text-align: right;\n",
       "    }\n",
       "</style>\n",
       "<table border=\"1\" class=\"dataframe\">\n",
       "  <thead>\n",
       "    <tr style=\"text-align: right;\">\n",
       "      <th></th>\n",
       "      <th>Open</th>\n",
       "      <th>High</th>\n",
       "      <th>Low</th>\n",
       "      <th>Close</th>\n",
       "      <th>Adj Close</th>\n",
       "      <th>Volume</th>\n",
       "      <th>Ticker</th>\n",
       "      <th>Year</th>\n",
       "      <th>Month</th>\n",
       "      <th>Weekday</th>\n",
       "      <th>...</th>\n",
       "      <th>growth_90d</th>\n",
       "      <th>growth_365d</th>\n",
       "      <th>growth_future_5d</th>\n",
       "      <th>SMA10</th>\n",
       "      <th>SMA20</th>\n",
       "      <th>growing_moving_average</th>\n",
       "      <th>high_minus_low_relative</th>\n",
       "      <th>volatility</th>\n",
       "      <th>is_positive_growth_5d_future</th>\n",
       "      <th>ticker_type</th>\n",
       "    </tr>\n",
       "  </thead>\n",
       "  <tbody>\n",
       "    <tr>\n",
       "      <th>194903</th>\n",
       "      <td>925.000000</td>\n",
       "      <td>984.450012</td>\n",
       "      <td>924.000000</td>\n",
       "      <td>970.599976</td>\n",
       "      <td>970.599976</td>\n",
       "      <td>4863536</td>\n",
       "      <td>LICI.NS</td>\n",
       "      <td>2024</td>\n",
       "      <td>4</td>\n",
       "      <td>0</td>\n",
       "      <td>...</td>\n",
       "      <td>1.599113</td>\n",
       "      <td>1.556710</td>\n",
       "      <td>1.026891</td>\n",
       "      <td>906.085004</td>\n",
       "      <td>953.950003</td>\n",
       "      <td>0</td>\n",
       "      <td>0.062281</td>\n",
       "      <td>1034.237352</td>\n",
       "      <td>1</td>\n",
       "      <td>INDIA</td>\n",
       "    </tr>\n",
       "    <tr>\n",
       "      <th>201224</th>\n",
       "      <td>17.889999</td>\n",
       "      <td>17.920000</td>\n",
       "      <td>17.500000</td>\n",
       "      <td>17.580000</td>\n",
       "      <td>17.580000</td>\n",
       "      <td>14601600</td>\n",
       "      <td>INFY</td>\n",
       "      <td>2024</td>\n",
       "      <td>4</td>\n",
       "      <td>0</td>\n",
       "      <td>...</td>\n",
       "      <td>1.003998</td>\n",
       "      <td>1.024508</td>\n",
       "      <td>1.015927</td>\n",
       "      <td>18.156000</td>\n",
       "      <td>18.777500</td>\n",
       "      <td>0</td>\n",
       "      <td>0.023891</td>\n",
       "      <td>13.940634</td>\n",
       "      <td>1</td>\n",
       "      <td>INDIA</td>\n",
       "    </tr>\n",
       "    <tr>\n",
       "      <th>208338</th>\n",
       "      <td>429.100006</td>\n",
       "      <td>431.350006</td>\n",
       "      <td>425.750000</td>\n",
       "      <td>426.700012</td>\n",
       "      <td>426.700012</td>\n",
       "      <td>9382308</td>\n",
       "      <td>ITC.NS</td>\n",
       "      <td>2024</td>\n",
       "      <td>4</td>\n",
       "      <td>0</td>\n",
       "      <td>...</td>\n",
       "      <td>0.987044</td>\n",
       "      <td>1.314436</td>\n",
       "      <td>1.005625</td>\n",
       "      <td>422.235004</td>\n",
       "      <td>416.537502</td>\n",
       "      <td>1</td>\n",
       "      <td>0.013124</td>\n",
       "      <td>130.246651</td>\n",
       "      <td>1</td>\n",
       "      <td>INDIA</td>\n",
       "    </tr>\n",
       "    <tr>\n",
       "      <th>215453</th>\n",
       "      <td>2270.000000</td>\n",
       "      <td>2295.000000</td>\n",
       "      <td>2262.000000</td>\n",
       "      <td>2285.899902</td>\n",
       "      <td>2285.899902</td>\n",
       "      <td>1427873</td>\n",
       "      <td>HINDUNILVR.NS</td>\n",
       "      <td>2024</td>\n",
       "      <td>4</td>\n",
       "      <td>0</td>\n",
       "      <td>...</td>\n",
       "      <td>0.917590</td>\n",
       "      <td>0.894051</td>\n",
       "      <td>0.992585</td>\n",
       "      <td>2266.539990</td>\n",
       "      <td>2327.240015</td>\n",
       "      <td>0</td>\n",
       "      <td>0.014436</td>\n",
       "      <td>1049.970071</td>\n",
       "      <td>0</td>\n",
       "      <td>INDIA</td>\n",
       "    </tr>\n",
       "    <tr>\n",
       "      <th>220873</th>\n",
       "      <td>3780.850098</td>\n",
       "      <td>3851.850098</td>\n",
       "      <td>3780.850098</td>\n",
       "      <td>3838.000000</td>\n",
       "      <td>3838.000000</td>\n",
       "      <td>1905190</td>\n",
       "      <td>LT.NS</td>\n",
       "      <td>2024</td>\n",
       "      <td>4</td>\n",
       "      <td>0</td>\n",
       "      <td>...</td>\n",
       "      <td>1.257886</td>\n",
       "      <td>2.010850</td>\n",
       "      <td>0.992144</td>\n",
       "      <td>3626.594971</td>\n",
       "      <td>3618.109985</td>\n",
       "      <td>1</td>\n",
       "      <td>0.018499</td>\n",
       "      <td>2188.619806</td>\n",
       "      <td>0</td>\n",
       "      <td>INDIA</td>\n",
       "    </tr>\n",
       "  </tbody>\n",
       "</table>\n",
       "<p>5 rows × 25 columns</p>\n",
       "</div>\n",
       "    <div class=\"colab-df-buttons\">\n",
       "\n",
       "  <div class=\"colab-df-container\">\n",
       "    <button class=\"colab-df-convert\" onclick=\"convertToInteractive('df-ccfe7d88-a6c7-4c2e-98d2-523d6fa8d0bf')\"\n",
       "            title=\"Convert this dataframe to an interactive table.\"\n",
       "            style=\"display:none;\">\n",
       "\n",
       "  <svg xmlns=\"http://www.w3.org/2000/svg\" height=\"24px\" viewBox=\"0 -960 960 960\">\n",
       "    <path d=\"M120-120v-720h720v720H120Zm60-500h600v-160H180v160Zm220 220h160v-160H400v160Zm0 220h160v-160H400v160ZM180-400h160v-160H180v160Zm440 0h160v-160H620v160ZM180-180h160v-160H180v160Zm440 0h160v-160H620v160Z\"/>\n",
       "  </svg>\n",
       "    </button>\n",
       "\n",
       "  <style>\n",
       "    .colab-df-container {\n",
       "      display:flex;\n",
       "      gap: 12px;\n",
       "    }\n",
       "\n",
       "    .colab-df-convert {\n",
       "      background-color: #E8F0FE;\n",
       "      border: none;\n",
       "      border-radius: 50%;\n",
       "      cursor: pointer;\n",
       "      display: none;\n",
       "      fill: #1967D2;\n",
       "      height: 32px;\n",
       "      padding: 0 0 0 0;\n",
       "      width: 32px;\n",
       "    }\n",
       "\n",
       "    .colab-df-convert:hover {\n",
       "      background-color: #E2EBFA;\n",
       "      box-shadow: 0px 1px 2px rgba(60, 64, 67, 0.3), 0px 1px 3px 1px rgba(60, 64, 67, 0.15);\n",
       "      fill: #174EA6;\n",
       "    }\n",
       "\n",
       "    .colab-df-buttons div {\n",
       "      margin-bottom: 4px;\n",
       "    }\n",
       "\n",
       "    [theme=dark] .colab-df-convert {\n",
       "      background-color: #3B4455;\n",
       "      fill: #D2E3FC;\n",
       "    }\n",
       "\n",
       "    [theme=dark] .colab-df-convert:hover {\n",
       "      background-color: #434B5C;\n",
       "      box-shadow: 0px 1px 3px 1px rgba(0, 0, 0, 0.15);\n",
       "      filter: drop-shadow(0px 1px 2px rgba(0, 0, 0, 0.3));\n",
       "      fill: #FFFFFF;\n",
       "    }\n",
       "  </style>\n",
       "\n",
       "    <script>\n",
       "      const buttonEl =\n",
       "        document.querySelector('#df-ccfe7d88-a6c7-4c2e-98d2-523d6fa8d0bf button.colab-df-convert');\n",
       "      buttonEl.style.display =\n",
       "        google.colab.kernel.accessAllowed ? 'block' : 'none';\n",
       "\n",
       "      async function convertToInteractive(key) {\n",
       "        const element = document.querySelector('#df-ccfe7d88-a6c7-4c2e-98d2-523d6fa8d0bf');\n",
       "        const dataTable =\n",
       "          await google.colab.kernel.invokeFunction('convertToInteractive',\n",
       "                                                    [key], {});\n",
       "        if (!dataTable) return;\n",
       "\n",
       "        const docLinkHtml = 'Like what you see? Visit the ' +\n",
       "          '<a target=\"_blank\" href=https://colab.research.google.com/notebooks/data_table.ipynb>data table notebook</a>'\n",
       "          + ' to learn more about interactive tables.';\n",
       "        element.innerHTML = '';\n",
       "        dataTable['output_type'] = 'display_data';\n",
       "        await google.colab.output.renderOutput(dataTable, element);\n",
       "        const docLink = document.createElement('div');\n",
       "        docLink.innerHTML = docLinkHtml;\n",
       "        element.appendChild(docLink);\n",
       "      }\n",
       "    </script>\n",
       "  </div>\n",
       "\n",
       "\n",
       "<div id=\"df-5f73d462-b852-46ef-b937-ac97878e751c\">\n",
       "  <button class=\"colab-df-quickchart\" onclick=\"quickchart('df-5f73d462-b852-46ef-b937-ac97878e751c')\"\n",
       "            title=\"Suggest charts\"\n",
       "            style=\"display:none;\">\n",
       "\n",
       "<svg xmlns=\"http://www.w3.org/2000/svg\" height=\"24px\"viewBox=\"0 0 24 24\"\n",
       "     width=\"24px\">\n",
       "    <g>\n",
       "        <path d=\"M19 3H5c-1.1 0-2 .9-2 2v14c0 1.1.9 2 2 2h14c1.1 0 2-.9 2-2V5c0-1.1-.9-2-2-2zM9 17H7v-7h2v7zm4 0h-2V7h2v10zm4 0h-2v-4h2v4z\"/>\n",
       "    </g>\n",
       "</svg>\n",
       "  </button>\n",
       "\n",
       "<style>\n",
       "  .colab-df-quickchart {\n",
       "      --bg-color: #E8F0FE;\n",
       "      --fill-color: #1967D2;\n",
       "      --hover-bg-color: #E2EBFA;\n",
       "      --hover-fill-color: #174EA6;\n",
       "      --disabled-fill-color: #AAA;\n",
       "      --disabled-bg-color: #DDD;\n",
       "  }\n",
       "\n",
       "  [theme=dark] .colab-df-quickchart {\n",
       "      --bg-color: #3B4455;\n",
       "      --fill-color: #D2E3FC;\n",
       "      --hover-bg-color: #434B5C;\n",
       "      --hover-fill-color: #FFFFFF;\n",
       "      --disabled-bg-color: #3B4455;\n",
       "      --disabled-fill-color: #666;\n",
       "  }\n",
       "\n",
       "  .colab-df-quickchart {\n",
       "    background-color: var(--bg-color);\n",
       "    border: none;\n",
       "    border-radius: 50%;\n",
       "    cursor: pointer;\n",
       "    display: none;\n",
       "    fill: var(--fill-color);\n",
       "    height: 32px;\n",
       "    padding: 0;\n",
       "    width: 32px;\n",
       "  }\n",
       "\n",
       "  .colab-df-quickchart:hover {\n",
       "    background-color: var(--hover-bg-color);\n",
       "    box-shadow: 0 1px 2px rgba(60, 64, 67, 0.3), 0 1px 3px 1px rgba(60, 64, 67, 0.15);\n",
       "    fill: var(--button-hover-fill-color);\n",
       "  }\n",
       "\n",
       "  .colab-df-quickchart-complete:disabled,\n",
       "  .colab-df-quickchart-complete:disabled:hover {\n",
       "    background-color: var(--disabled-bg-color);\n",
       "    fill: var(--disabled-fill-color);\n",
       "    box-shadow: none;\n",
       "  }\n",
       "\n",
       "  .colab-df-spinner {\n",
       "    border: 2px solid var(--fill-color);\n",
       "    border-color: transparent;\n",
       "    border-bottom-color: var(--fill-color);\n",
       "    animation:\n",
       "      spin 1s steps(1) infinite;\n",
       "  }\n",
       "\n",
       "  @keyframes spin {\n",
       "    0% {\n",
       "      border-color: transparent;\n",
       "      border-bottom-color: var(--fill-color);\n",
       "      border-left-color: var(--fill-color);\n",
       "    }\n",
       "    20% {\n",
       "      border-color: transparent;\n",
       "      border-left-color: var(--fill-color);\n",
       "      border-top-color: var(--fill-color);\n",
       "    }\n",
       "    30% {\n",
       "      border-color: transparent;\n",
       "      border-left-color: var(--fill-color);\n",
       "      border-top-color: var(--fill-color);\n",
       "      border-right-color: var(--fill-color);\n",
       "    }\n",
       "    40% {\n",
       "      border-color: transparent;\n",
       "      border-right-color: var(--fill-color);\n",
       "      border-top-color: var(--fill-color);\n",
       "    }\n",
       "    60% {\n",
       "      border-color: transparent;\n",
       "      border-right-color: var(--fill-color);\n",
       "    }\n",
       "    80% {\n",
       "      border-color: transparent;\n",
       "      border-right-color: var(--fill-color);\n",
       "      border-bottom-color: var(--fill-color);\n",
       "    }\n",
       "    90% {\n",
       "      border-color: transparent;\n",
       "      border-bottom-color: var(--fill-color);\n",
       "    }\n",
       "  }\n",
       "</style>\n",
       "\n",
       "  <script>\n",
       "    async function quickchart(key) {\n",
       "      const quickchartButtonEl =\n",
       "        document.querySelector('#' + key + ' button');\n",
       "      quickchartButtonEl.disabled = true;  // To prevent multiple clicks.\n",
       "      quickchartButtonEl.classList.add('colab-df-spinner');\n",
       "      try {\n",
       "        const charts = await google.colab.kernel.invokeFunction(\n",
       "            'suggestCharts', [key], {});\n",
       "      } catch (error) {\n",
       "        console.error('Error during call to suggestCharts:', error);\n",
       "      }\n",
       "      quickchartButtonEl.classList.remove('colab-df-spinner');\n",
       "      quickchartButtonEl.classList.add('colab-df-quickchart-complete');\n",
       "    }\n",
       "    (() => {\n",
       "      let quickchartButtonEl =\n",
       "        document.querySelector('#df-5f73d462-b852-46ef-b937-ac97878e751c button');\n",
       "      quickchartButtonEl.style.display =\n",
       "        google.colab.kernel.accessAllowed ? 'block' : 'none';\n",
       "    })();\n",
       "  </script>\n",
       "</div>\n",
       "    </div>\n",
       "  </div>\n"
      ],
      "text/plain": [
       "               Open         High          Low        Close    Adj Close  \\\n",
       "194903   925.000000   984.450012   924.000000   970.599976   970.599976   \n",
       "201224    17.889999    17.920000    17.500000    17.580000    17.580000   \n",
       "208338   429.100006   431.350006   425.750000   426.700012   426.700012   \n",
       "215453  2270.000000  2295.000000  2262.000000  2285.899902  2285.899902   \n",
       "220873  3780.850098  3851.850098  3780.850098  3838.000000  3838.000000   \n",
       "\n",
       "          Volume         Ticker  Year  Month  Weekday  ... growth_90d  \\\n",
       "194903   4863536        LICI.NS  2024      4        0  ...   1.599113   \n",
       "201224  14601600           INFY  2024      4        0  ...   1.003998   \n",
       "208338   9382308         ITC.NS  2024      4        0  ...   0.987044   \n",
       "215453   1427873  HINDUNILVR.NS  2024      4        0  ...   0.917590   \n",
       "220873   1905190          LT.NS  2024      4        0  ...   1.257886   \n",
       "\n",
       "        growth_365d  growth_future_5d        SMA10        SMA20  \\\n",
       "194903     1.556710          1.026891   906.085004   953.950003   \n",
       "201224     1.024508          1.015927    18.156000    18.777500   \n",
       "208338     1.314436          1.005625   422.235004   416.537502   \n",
       "215453     0.894051          0.992585  2266.539990  2327.240015   \n",
       "220873     2.010850          0.992144  3626.594971  3618.109985   \n",
       "\n",
       "        growing_moving_average  high_minus_low_relative   volatility  \\\n",
       "194903                       0                 0.062281  1034.237352   \n",
       "201224                       0                 0.023891    13.940634   \n",
       "208338                       1                 0.013124   130.246651   \n",
       "215453                       0                 0.014436  1049.970071   \n",
       "220873                       1                 0.018499  2188.619806   \n",
       "\n",
       "        is_positive_growth_5d_future  ticker_type  \n",
       "194903                             1        INDIA  \n",
       "201224                             1        INDIA  \n",
       "208338                             1        INDIA  \n",
       "215453                             0        INDIA  \n",
       "220873                             0        INDIA  \n",
       "\n",
       "[5 rows x 25 columns]"
      ]
     },
     "metadata": {},
     "output_type": "display_data"
    }
   ],
   "source": [
    "stocks_df[stocks_df.Date=='2024-04-01'].tail()"
   ]
  },
  {
   "cell_type": "code",
   "execution_count": null,
   "metadata": {},
   "outputs": [
    {
     "data": {
      "text/plain": [
       "['MSFT',\n",
       " 'AAPL',\n",
       " 'GOOG',\n",
       " 'NVDA',\n",
       " 'AMZN',\n",
       " 'META',\n",
       " 'BRK-B',\n",
       " 'LLY',\n",
       " 'AVGO',\n",
       " 'V',\n",
       " 'JPM',\n",
       " 'NVO',\n",
       " 'MC.PA',\n",
       " 'ASML',\n",
       " 'RMS.PA',\n",
       " 'OR.PA',\n",
       " 'SAP',\n",
       " 'ACN',\n",
       " 'TTE',\n",
       " 'SIE.DE',\n",
       " 'IDEXY',\n",
       " 'CDI.PA',\n",
       " 'RELIANCE.NS',\n",
       " 'TCS.NS',\n",
       " 'HDB',\n",
       " 'BHARTIARTL.NS',\n",
       " 'IBN',\n",
       " 'SBIN.NS',\n",
       " 'LICI.NS',\n",
       " 'INFY',\n",
       " 'ITC.NS',\n",
       " 'HINDUNILVR.NS',\n",
       " 'LT.NS']"
      ]
     },
     "metadata": {},
     "output_type": "display_data"
    }
   ],
   "source": [
    "ALL_TICKERS = US_STOCKS  + EU_STOCKS + INDIA_STOCKS\n",
    "ALL_TICKERS"
   ]
  },
  {
   "cell_type": "code",
   "execution_count": null,
   "metadata": {},
   "outputs": [
    {
     "name": "stdout",
     "output_type": "stream",
     "text": [
      "0 MSFT\n"
     ]
    },
    {
     "name": "stderr",
     "output_type": "stream",
     "text": [
      "\r[*********************100%%**********************]  1 of 1 completed\n"
     ]
    },
    {
     "name": "stdout",
     "output_type": "stream",
     "text": [
      "1 AAPL\n"
     ]
    },
    {
     "name": "stderr",
     "output_type": "stream",
     "text": [
      "\r[*********************100%%**********************]  1 of 1 completed\n"
     ]
    },
    {
     "name": "stdout",
     "output_type": "stream",
     "text": [
      "2 GOOG\n"
     ]
    },
    {
     "name": "stderr",
     "output_type": "stream",
     "text": [
      "\r[*********************100%%**********************]  1 of 1 completed\n"
     ]
    },
    {
     "name": "stdout",
     "output_type": "stream",
     "text": [
      "3 NVDA\n"
     ]
    },
    {
     "name": "stderr",
     "output_type": "stream",
     "text": [
      "\r[*********************100%%**********************]  1 of 1 completed\n"
     ]
    },
    {
     "name": "stdout",
     "output_type": "stream",
     "text": [
      "4 AMZN\n"
     ]
    },
    {
     "name": "stderr",
     "output_type": "stream",
     "text": [
      "\r[*********************100%%**********************]  1 of 1 completed\n"
     ]
    },
    {
     "name": "stdout",
     "output_type": "stream",
     "text": [
      "5 META\n"
     ]
    },
    {
     "name": "stderr",
     "output_type": "stream",
     "text": [
      "\r[*********************100%%**********************]  1 of 1 completed\n"
     ]
    },
    {
     "name": "stdout",
     "output_type": "stream",
     "text": [
      "6 BRK-B\n"
     ]
    },
    {
     "name": "stderr",
     "output_type": "stream",
     "text": [
      "\r[*********************100%%**********************]  1 of 1 completed\n"
     ]
    },
    {
     "name": "stdout",
     "output_type": "stream",
     "text": [
      "7 LLY\n"
     ]
    },
    {
     "name": "stderr",
     "output_type": "stream",
     "text": [
      "\r[*********************100%%**********************]  1 of 1 completed\n"
     ]
    },
    {
     "name": "stdout",
     "output_type": "stream",
     "text": [
      "8 AVGO\n"
     ]
    },
    {
     "name": "stderr",
     "output_type": "stream",
     "text": [
      "\r[*********************100%%**********************]  1 of 1 completed\n"
     ]
    },
    {
     "name": "stdout",
     "output_type": "stream",
     "text": [
      "9 V\n"
     ]
    },
    {
     "name": "stderr",
     "output_type": "stream",
     "text": [
      "\r[*********************100%%**********************]  1 of 1 completed\n"
     ]
    },
    {
     "name": "stdout",
     "output_type": "stream",
     "text": [
      "10 JPM\n"
     ]
    },
    {
     "name": "stderr",
     "output_type": "stream",
     "text": [
      "\r[*********************100%%**********************]  1 of 1 completed\n"
     ]
    },
    {
     "name": "stdout",
     "output_type": "stream",
     "text": [
      "11 NVO\n"
     ]
    },
    {
     "name": "stderr",
     "output_type": "stream",
     "text": [
      "\r[*********************100%%**********************]  1 of 1 completed\n"
     ]
    },
    {
     "name": "stdout",
     "output_type": "stream",
     "text": [
      "12 MC.PA\n"
     ]
    },
    {
     "name": "stderr",
     "output_type": "stream",
     "text": [
      "\r[*********************100%%**********************]  1 of 1 completed\n"
     ]
    },
    {
     "name": "stdout",
     "output_type": "stream",
     "text": [
      "13 ASML\n"
     ]
    },
    {
     "name": "stderr",
     "output_type": "stream",
     "text": [
      "\r[*********************100%%**********************]  1 of 1 completed\n"
     ]
    },
    {
     "name": "stdout",
     "output_type": "stream",
     "text": [
      "14 RMS.PA\n"
     ]
    },
    {
     "name": "stderr",
     "output_type": "stream",
     "text": [
      "\r[*********************100%%**********************]  1 of 1 completed\n"
     ]
    },
    {
     "name": "stdout",
     "output_type": "stream",
     "text": [
      "15 OR.PA\n"
     ]
    },
    {
     "name": "stderr",
     "output_type": "stream",
     "text": [
      "\r[*********************100%%**********************]  1 of 1 completed\n"
     ]
    },
    {
     "name": "stdout",
     "output_type": "stream",
     "text": [
      "16 SAP\n"
     ]
    },
    {
     "name": "stderr",
     "output_type": "stream",
     "text": [
      "\r[*********************100%%**********************]  1 of 1 completed\n"
     ]
    },
    {
     "name": "stdout",
     "output_type": "stream",
     "text": [
      "17 ACN\n"
     ]
    },
    {
     "name": "stderr",
     "output_type": "stream",
     "text": [
      "\r[*********************100%%**********************]  1 of 1 completed\n"
     ]
    },
    {
     "name": "stdout",
     "output_type": "stream",
     "text": [
      "18 TTE\n"
     ]
    },
    {
     "name": "stderr",
     "output_type": "stream",
     "text": [
      "\r[*********************100%%**********************]  1 of 1 completed\n"
     ]
    },
    {
     "name": "stdout",
     "output_type": "stream",
     "text": [
      "19 SIE.DE\n"
     ]
    },
    {
     "name": "stderr",
     "output_type": "stream",
     "text": [
      "\r[*********************100%%**********************]  1 of 1 completed\n"
     ]
    },
    {
     "name": "stdout",
     "output_type": "stream",
     "text": [
      "20 IDEXY\n"
     ]
    },
    {
     "name": "stderr",
     "output_type": "stream",
     "text": [
      "\r[*********************100%%**********************]  1 of 1 completed\n"
     ]
    },
    {
     "name": "stdout",
     "output_type": "stream",
     "text": [
      "21 CDI.PA\n"
     ]
    },
    {
     "name": "stderr",
     "output_type": "stream",
     "text": [
      "\r[*********************100%%**********************]  1 of 1 completed\n"
     ]
    },
    {
     "name": "stdout",
     "output_type": "stream",
     "text": [
      "22 RELIANCE.NS\n"
     ]
    },
    {
     "name": "stderr",
     "output_type": "stream",
     "text": [
      "\r[*********************100%%**********************]  1 of 1 completed\n"
     ]
    },
    {
     "name": "stdout",
     "output_type": "stream",
     "text": [
      "23 TCS.NS\n"
     ]
    },
    {
     "name": "stderr",
     "output_type": "stream",
     "text": [
      "\r[*********************100%%**********************]  1 of 1 completed\n"
     ]
    },
    {
     "name": "stdout",
     "output_type": "stream",
     "text": [
      "24 HDB\n"
     ]
    },
    {
     "name": "stderr",
     "output_type": "stream",
     "text": [
      "\r[*********************100%%**********************]  1 of 1 completed\n"
     ]
    },
    {
     "name": "stdout",
     "output_type": "stream",
     "text": [
      "25 BHARTIARTL.NS\n"
     ]
    },
    {
     "name": "stderr",
     "output_type": "stream",
     "text": [
      "\r[*********************100%%**********************]  1 of 1 completed\n"
     ]
    },
    {
     "name": "stdout",
     "output_type": "stream",
     "text": [
      "26 IBN\n"
     ]
    },
    {
     "name": "stderr",
     "output_type": "stream",
     "text": [
      "\r[*********************100%%**********************]  1 of 1 completed\n"
     ]
    },
    {
     "name": "stdout",
     "output_type": "stream",
     "text": [
      "27 SBIN.NS\n"
     ]
    },
    {
     "name": "stderr",
     "output_type": "stream",
     "text": [
      "[*********************100%%**********************]  1 of 1 completed\n",
      "[*********************100%%**********************]  1 of 1 completed"
     ]
    },
    {
     "name": "stdout",
     "output_type": "stream",
     "text": [
      "28 LICI.NS\n"
     ]
    },
    {
     "name": "stderr",
     "output_type": "stream",
     "text": [
      "\n"
     ]
    },
    {
     "name": "stdout",
     "output_type": "stream",
     "text": [
      "29 INFY\n"
     ]
    },
    {
     "name": "stderr",
     "output_type": "stream",
     "text": [
      "\r[*********************100%%**********************]  1 of 1 completed\n"
     ]
    },
    {
     "name": "stdout",
     "output_type": "stream",
     "text": [
      "30 ITC.NS\n"
     ]
    },
    {
     "name": "stderr",
     "output_type": "stream",
     "text": [
      "\r[*********************100%%**********************]  1 of 1 completed\n"
     ]
    },
    {
     "name": "stdout",
     "output_type": "stream",
     "text": [
      "31 HINDUNILVR.NS\n"
     ]
    },
    {
     "name": "stderr",
     "output_type": "stream",
     "text": [
      "\r[*********************100%%**********************]  1 of 1 completed\n"
     ]
    },
    {
     "name": "stdout",
     "output_type": "stream",
     "text": [
      "32 LT.NS\n"
     ]
    },
    {
     "name": "stderr",
     "output_type": "stream",
     "text": [
      "\r[*********************100%%**********************]  1 of 1 completed\n"
     ]
    }
   ],
   "source": [
    "import time\n",
    "\n",
    "stocks_df = pd.DataFrame({'A' : []})\n",
    "\n",
    "for i,ticker in enumerate(ALL_TICKERS):\n",
    "  print(i,ticker)\n",
    "\n",
    "  # Work with stock prices\n",
    "  historyPrices = yf.download(tickers = ticker,\n",
    "                     period = \"max\",\n",
    "                     interval = \"1d\")\n",
    "\n",
    "  # generate features for historical prices, and what we want to predict\n",
    "  historyPrices['Ticker'] = ticker\n",
    "  historyPrices['Year']= historyPrices.index.year\n",
    "  historyPrices['Month'] = historyPrices.index.month\n",
    "  historyPrices['Weekday'] = historyPrices.index.weekday\n",
    "  historyPrices['Date'] = historyPrices.index.date\n",
    "\n",
    "  # historical returns\n",
    "  for i in [1,3,7,30,90,365]:\n",
    "    historyPrices['growth_'+str(i)+'d'] = historyPrices['Adj Close'] / historyPrices['Adj Close'].shift(i)\n",
    "  historyPrices['growth_future_5d'] = historyPrices['Adj Close'].shift(-5) / historyPrices['Adj Close']\n",
    "\n",
    "  # Technical indicators\n",
    "  # SimpleMovingAverage 10 days and 20 days\n",
    "  historyPrices['SMA10']= historyPrices['Close'].rolling(10).mean()\n",
    "  historyPrices['SMA20']= historyPrices['Close'].rolling(20).mean()\n",
    "  historyPrices['growing_moving_average'] = np.where(historyPrices['SMA10'] > historyPrices['SMA20'], 1, 0)\n",
    "  historyPrices['high_minus_low_relative'] = (historyPrices.High - historyPrices.Low) / historyPrices['Adj Close']\n",
    "\n",
    "  # 30d rolling volatility : https://ycharts.com/glossary/terms/rolling_vol_30\n",
    "  historyPrices['volatility'] =   historyPrices['Adj Close'].rolling(30).std() * np.sqrt(252)\n",
    "\n",
    "  # what we want to predict\n",
    "  historyPrices['is_positive_growth_5d_future'] = np.where(historyPrices['growth_future_5d'] > 1, 1, 0)\n",
    "\n",
    "  # sleep 1 sec between downloads - not to overload the API server\n",
    "  time.sleep(1)\n",
    "\n",
    "\n",
    "  if stocks_df.empty:\n",
    "    stocks_df = historyPrices\n",
    "  else:\n",
    "    stocks_df = pd.concat([stocks_df, historyPrices], ignore_index=True)"
   ]
  },
  {
   "cell_type": "code",
   "execution_count": null,
   "metadata": {},
   "outputs": [],
   "source": [
    "def get_ticker_type(ticker:str, us_stocks_list, eu_stocks_list, india_stocks_list):\n",
    "  if ticker in us_stocks_list:\n",
    "    return 'US'\n",
    "  elif ticker in eu_stocks_list:\n",
    "    return 'EU'\n",
    "  elif ticker in india_stocks_list:\n",
    "    return 'INDIA'\n",
    "  else:\n",
    "    return 'ERROR'\n"
   ]
  },
  {
   "cell_type": "code",
   "execution_count": null,
   "metadata": {},
   "outputs": [],
   "source": [
    "stocks_df['ticker_type'] = stocks_df.Ticker.apply(lambda x:get_ticker_type(x, US_STOCKS, EU_STOCKS, INDIA_STOCKS))"
   ]
  },
  {
   "cell_type": "code",
   "execution_count": null,
   "metadata": {},
   "outputs": [
    {
     "data": {
      "text/plain": [
       "ticker_type\n",
       "US       80639\n",
       "EU       76986\n",
       "INDIA    63265\n",
       "Name: count, dtype: int64"
      ]
     },
     "metadata": {},
     "output_type": "display_data"
    }
   ],
   "source": [
    "# count of observations between US-EU-INDIA stocks\n",
    "stocks_df.ticker_type.value_counts()"
   ]
  },
  {
   "cell_type": "code",
   "execution_count": null,
   "metadata": {},
   "outputs": [
    {
     "data": {
      "text/plain": [
       "33"
      ]
     },
     "metadata": {},
     "output_type": "display_data"
    }
   ],
   "source": [
    "# unique tickers\n",
    "stocks_df.Ticker.nunique()"
   ]
  },
  {
   "cell_type": "code",
   "execution_count": null,
   "metadata": {},
   "outputs": [
    {
     "data": {
      "text/plain": [
       "Ticker\n",
       "LLY              13087\n",
       "JPM              11121\n",
       "AAPL             10933\n",
       "NVO              10838\n",
       "MSFT              9607\n",
       "CDI.PA            8321\n",
       "TTE               8185\n",
       "ASML              7330\n",
       "SAP               7201\n",
       "HINDUNILVR.NS     7115\n",
       "SBIN.NS           7113\n",
       "RELIANCE.NS       7112\n",
       "ITC.NS            7112\n",
       "SIE.DE            7039\n",
       "BRK-B             7038\n",
       "AMZN              6780\n",
       "NVDA              6356\n",
       "INFY              6323\n",
       "MC.PA             6251\n",
       "RMS.PA            6251\n",
       "OR.PA             6251\n",
       "IBN               6058\n",
       "ACN               5728\n",
       "HDB               5727\n",
       "LT.NS             5420\n",
       "BHARTIARTL.NS     5417\n",
       "TCS.NS            5388\n",
       "GOOG              4955\n",
       "V                 4054\n",
       "AVGO              3705\n",
       "IDEXY             3591\n",
       "META              3003\n",
       "LICI.NS            480\n",
       "Name: count, dtype: int64"
      ]
     },
     "metadata": {},
     "output_type": "display_data"
    }
   ],
   "source": [
    "# count of observations by stock\n",
    "stocks_df.Ticker.value_counts()"
   ]
  },
  {
   "cell_type": "code",
   "execution_count": null,
   "metadata": {},
   "outputs": [
    {
     "data": {
      "application/vnd.google.colaboratory.intrinsic+json": {
       "summary": "{\n  \"name\": \"stocks_df\",\n  \"rows\": 33,\n  \"fields\": [\n    {\n      \"column\": \"min\",\n      \"properties\": {\n        \"dtype\": \"date\",\n        \"min\": \"1972-06-01\",\n        \"max\": \"2022-05-17\",\n        \"num_unique_values\": 27,\n        \"samples\": [\n          \"2004-08-19\",\n          \"1999-03-11\",\n          \"2001-07-20\"\n        ],\n        \"semantic_type\": \"\",\n        \"description\": \"\"\n      }\n    },\n    {\n      \"column\": \"max\",\n      \"properties\": {\n        \"dtype\": \"date\",\n        \"min\": \"2024-04-24\",\n        \"max\": \"2024-04-25\",\n        \"num_unique_values\": 2,\n        \"samples\": [\n          \"2024-04-24\",\n          \"2024-04-25\"\n        ],\n        \"semantic_type\": \"\",\n        \"description\": \"\"\n      }\n    }\n  ]\n}",
       "type": "dataframe"
      },
      "text/html": [
       "\n",
       "  <div id=\"df-a567f221-70b9-4459-aa53-76cc7a99cef8\" class=\"colab-df-container\">\n",
       "    <div>\n",
       "<style scoped>\n",
       "    .dataframe tbody tr th:only-of-type {\n",
       "        vertical-align: middle;\n",
       "    }\n",
       "\n",
       "    .dataframe tbody tr th {\n",
       "        vertical-align: top;\n",
       "    }\n",
       "\n",
       "    .dataframe thead th {\n",
       "        text-align: right;\n",
       "    }\n",
       "</style>\n",
       "<table border=\"1\" class=\"dataframe\">\n",
       "  <thead>\n",
       "    <tr style=\"text-align: right;\">\n",
       "      <th></th>\n",
       "      <th></th>\n",
       "      <th>min</th>\n",
       "      <th>max</th>\n",
       "    </tr>\n",
       "    <tr>\n",
       "      <th>Ticker</th>\n",
       "      <th>ticker_type</th>\n",
       "      <th></th>\n",
       "      <th></th>\n",
       "    </tr>\n",
       "  </thead>\n",
       "  <tbody>\n",
       "    <tr>\n",
       "      <th>AAPL</th>\n",
       "      <th>US</th>\n",
       "      <td>1980-12-12</td>\n",
       "      <td>2024-04-25</td>\n",
       "    </tr>\n",
       "    <tr>\n",
       "      <th>ACN</th>\n",
       "      <th>EU</th>\n",
       "      <td>2001-07-19</td>\n",
       "      <td>2024-04-25</td>\n",
       "    </tr>\n",
       "    <tr>\n",
       "      <th>AMZN</th>\n",
       "      <th>US</th>\n",
       "      <td>1997-05-15</td>\n",
       "      <td>2024-04-24</td>\n",
       "    </tr>\n",
       "    <tr>\n",
       "      <th>ASML</th>\n",
       "      <th>EU</th>\n",
       "      <td>1995-03-15</td>\n",
       "      <td>2024-04-25</td>\n",
       "    </tr>\n",
       "    <tr>\n",
       "      <th>AVGO</th>\n",
       "      <th>US</th>\n",
       "      <td>2009-08-06</td>\n",
       "      <td>2024-04-25</td>\n",
       "    </tr>\n",
       "    <tr>\n",
       "      <th>BHARTIARTL.NS</th>\n",
       "      <th>INDIA</th>\n",
       "      <td>2002-07-01</td>\n",
       "      <td>2024-04-25</td>\n",
       "    </tr>\n",
       "    <tr>\n",
       "      <th>BRK-B</th>\n",
       "      <th>US</th>\n",
       "      <td>1996-05-09</td>\n",
       "      <td>2024-04-25</td>\n",
       "    </tr>\n",
       "    <tr>\n",
       "      <th>CDI.PA</th>\n",
       "      <th>EU</th>\n",
       "      <td>1992-01-27</td>\n",
       "      <td>2024-04-25</td>\n",
       "    </tr>\n",
       "    <tr>\n",
       "      <th>GOOG</th>\n",
       "      <th>US</th>\n",
       "      <td>2004-08-19</td>\n",
       "      <td>2024-04-25</td>\n",
       "    </tr>\n",
       "    <tr>\n",
       "      <th>HDB</th>\n",
       "      <th>INDIA</th>\n",
       "      <td>2001-07-20</td>\n",
       "      <td>2024-04-25</td>\n",
       "    </tr>\n",
       "    <tr>\n",
       "      <th>HINDUNILVR.NS</th>\n",
       "      <th>INDIA</th>\n",
       "      <td>1996-01-01</td>\n",
       "      <td>2024-04-25</td>\n",
       "    </tr>\n",
       "    <tr>\n",
       "      <th>IBN</th>\n",
       "      <th>INDIA</th>\n",
       "      <td>2000-03-28</td>\n",
       "      <td>2024-04-25</td>\n",
       "    </tr>\n",
       "    <tr>\n",
       "      <th>IDEXY</th>\n",
       "      <th>EU</th>\n",
       "      <td>2010-01-20</td>\n",
       "      <td>2024-04-25</td>\n",
       "    </tr>\n",
       "    <tr>\n",
       "      <th>INFY</th>\n",
       "      <th>INDIA</th>\n",
       "      <td>1999-03-11</td>\n",
       "      <td>2024-04-25</td>\n",
       "    </tr>\n",
       "    <tr>\n",
       "      <th>ITC.NS</th>\n",
       "      <th>INDIA</th>\n",
       "      <td>1996-01-01</td>\n",
       "      <td>2024-04-25</td>\n",
       "    </tr>\n",
       "    <tr>\n",
       "      <th>JPM</th>\n",
       "      <th>US</th>\n",
       "      <td>1980-03-17</td>\n",
       "      <td>2024-04-25</td>\n",
       "    </tr>\n",
       "    <tr>\n",
       "      <th>LICI.NS</th>\n",
       "      <th>INDIA</th>\n",
       "      <td>2022-05-17</td>\n",
       "      <td>2024-04-25</td>\n",
       "    </tr>\n",
       "    <tr>\n",
       "      <th>LLY</th>\n",
       "      <th>US</th>\n",
       "      <td>1972-06-01</td>\n",
       "      <td>2024-04-25</td>\n",
       "    </tr>\n",
       "    <tr>\n",
       "      <th>LT.NS</th>\n",
       "      <th>INDIA</th>\n",
       "      <td>2002-07-01</td>\n",
       "      <td>2024-04-25</td>\n",
       "    </tr>\n",
       "    <tr>\n",
       "      <th>MC.PA</th>\n",
       "      <th>EU</th>\n",
       "      <td>2000-01-03</td>\n",
       "      <td>2024-04-25</td>\n",
       "    </tr>\n",
       "    <tr>\n",
       "      <th>META</th>\n",
       "      <th>US</th>\n",
       "      <td>2012-05-18</td>\n",
       "      <td>2024-04-25</td>\n",
       "    </tr>\n",
       "    <tr>\n",
       "      <th>MSFT</th>\n",
       "      <th>US</th>\n",
       "      <td>1986-03-13</td>\n",
       "      <td>2024-04-25</td>\n",
       "    </tr>\n",
       "    <tr>\n",
       "      <th>NVDA</th>\n",
       "      <th>US</th>\n",
       "      <td>1999-01-22</td>\n",
       "      <td>2024-04-25</td>\n",
       "    </tr>\n",
       "    <tr>\n",
       "      <th>NVO</th>\n",
       "      <th>EU</th>\n",
       "      <td>1981-04-30</td>\n",
       "      <td>2024-04-25</td>\n",
       "    </tr>\n",
       "    <tr>\n",
       "      <th>OR.PA</th>\n",
       "      <th>EU</th>\n",
       "      <td>2000-01-03</td>\n",
       "      <td>2024-04-25</td>\n",
       "    </tr>\n",
       "    <tr>\n",
       "      <th>RELIANCE.NS</th>\n",
       "      <th>INDIA</th>\n",
       "      <td>1996-01-01</td>\n",
       "      <td>2024-04-25</td>\n",
       "    </tr>\n",
       "    <tr>\n",
       "      <th>RMS.PA</th>\n",
       "      <th>EU</th>\n",
       "      <td>2000-01-03</td>\n",
       "      <td>2024-04-25</td>\n",
       "    </tr>\n",
       "    <tr>\n",
       "      <th>SAP</th>\n",
       "      <th>EU</th>\n",
       "      <td>1995-09-18</td>\n",
       "      <td>2024-04-25</td>\n",
       "    </tr>\n",
       "    <tr>\n",
       "      <th>SBIN.NS</th>\n",
       "      <th>INDIA</th>\n",
       "      <td>1996-01-01</td>\n",
       "      <td>2024-04-25</td>\n",
       "    </tr>\n",
       "    <tr>\n",
       "      <th>SIE.DE</th>\n",
       "      <th>EU</th>\n",
       "      <td>1996-11-08</td>\n",
       "      <td>2024-04-25</td>\n",
       "    </tr>\n",
       "    <tr>\n",
       "      <th>TCS.NS</th>\n",
       "      <th>INDIA</th>\n",
       "      <td>2002-08-12</td>\n",
       "      <td>2024-04-25</td>\n",
       "    </tr>\n",
       "    <tr>\n",
       "      <th>TTE</th>\n",
       "      <th>EU</th>\n",
       "      <td>1991-10-25</td>\n",
       "      <td>2024-04-25</td>\n",
       "    </tr>\n",
       "    <tr>\n",
       "      <th>V</th>\n",
       "      <th>US</th>\n",
       "      <td>2008-03-19</td>\n",
       "      <td>2024-04-25</td>\n",
       "    </tr>\n",
       "  </tbody>\n",
       "</table>\n",
       "</div>\n",
       "    <div class=\"colab-df-buttons\">\n",
       "\n",
       "  <div class=\"colab-df-container\">\n",
       "    <button class=\"colab-df-convert\" onclick=\"convertToInteractive('df-a567f221-70b9-4459-aa53-76cc7a99cef8')\"\n",
       "            title=\"Convert this dataframe to an interactive table.\"\n",
       "            style=\"display:none;\">\n",
       "\n",
       "  <svg xmlns=\"http://www.w3.org/2000/svg\" height=\"24px\" viewBox=\"0 -960 960 960\">\n",
       "    <path d=\"M120-120v-720h720v720H120Zm60-500h600v-160H180v160Zm220 220h160v-160H400v160Zm0 220h160v-160H400v160ZM180-400h160v-160H180v160Zm440 0h160v-160H620v160ZM180-180h160v-160H180v160Zm440 0h160v-160H620v160Z\"/>\n",
       "  </svg>\n",
       "    </button>\n",
       "\n",
       "  <style>\n",
       "    .colab-df-container {\n",
       "      display:flex;\n",
       "      gap: 12px;\n",
       "    }\n",
       "\n",
       "    .colab-df-convert {\n",
       "      background-color: #E8F0FE;\n",
       "      border: none;\n",
       "      border-radius: 50%;\n",
       "      cursor: pointer;\n",
       "      display: none;\n",
       "      fill: #1967D2;\n",
       "      height: 32px;\n",
       "      padding: 0 0 0 0;\n",
       "      width: 32px;\n",
       "    }\n",
       "\n",
       "    .colab-df-convert:hover {\n",
       "      background-color: #E2EBFA;\n",
       "      box-shadow: 0px 1px 2px rgba(60, 64, 67, 0.3), 0px 1px 3px 1px rgba(60, 64, 67, 0.15);\n",
       "      fill: #174EA6;\n",
       "    }\n",
       "\n",
       "    .colab-df-buttons div {\n",
       "      margin-bottom: 4px;\n",
       "    }\n",
       "\n",
       "    [theme=dark] .colab-df-convert {\n",
       "      background-color: #3B4455;\n",
       "      fill: #D2E3FC;\n",
       "    }\n",
       "\n",
       "    [theme=dark] .colab-df-convert:hover {\n",
       "      background-color: #434B5C;\n",
       "      box-shadow: 0px 1px 3px 1px rgba(0, 0, 0, 0.15);\n",
       "      filter: drop-shadow(0px 1px 2px rgba(0, 0, 0, 0.3));\n",
       "      fill: #FFFFFF;\n",
       "    }\n",
       "  </style>\n",
       "\n",
       "    <script>\n",
       "      const buttonEl =\n",
       "        document.querySelector('#df-a567f221-70b9-4459-aa53-76cc7a99cef8 button.colab-df-convert');\n",
       "      buttonEl.style.display =\n",
       "        google.colab.kernel.accessAllowed ? 'block' : 'none';\n",
       "\n",
       "      async function convertToInteractive(key) {\n",
       "        const element = document.querySelector('#df-a567f221-70b9-4459-aa53-76cc7a99cef8');\n",
       "        const dataTable =\n",
       "          await google.colab.kernel.invokeFunction('convertToInteractive',\n",
       "                                                    [key], {});\n",
       "        if (!dataTable) return;\n",
       "\n",
       "        const docLinkHtml = 'Like what you see? Visit the ' +\n",
       "          '<a target=\"_blank\" href=https://colab.research.google.com/notebooks/data_table.ipynb>data table notebook</a>'\n",
       "          + ' to learn more about interactive tables.';\n",
       "        element.innerHTML = '';\n",
       "        dataTable['output_type'] = 'display_data';\n",
       "        await google.colab.output.renderOutput(dataTable, element);\n",
       "        const docLink = document.createElement('div');\n",
       "        docLink.innerHTML = docLinkHtml;\n",
       "        element.appendChild(docLink);\n",
       "      }\n",
       "    </script>\n",
       "  </div>\n",
       "\n",
       "\n",
       "<div id=\"df-ae43645b-8dd1-4c7a-9cf6-5b8cbc48d8eb\">\n",
       "  <button class=\"colab-df-quickchart\" onclick=\"quickchart('df-ae43645b-8dd1-4c7a-9cf6-5b8cbc48d8eb')\"\n",
       "            title=\"Suggest charts\"\n",
       "            style=\"display:none;\">\n",
       "\n",
       "<svg xmlns=\"http://www.w3.org/2000/svg\" height=\"24px\"viewBox=\"0 0 24 24\"\n",
       "     width=\"24px\">\n",
       "    <g>\n",
       "        <path d=\"M19 3H5c-1.1 0-2 .9-2 2v14c0 1.1.9 2 2 2h14c1.1 0 2-.9 2-2V5c0-1.1-.9-2-2-2zM9 17H7v-7h2v7zm4 0h-2V7h2v10zm4 0h-2v-4h2v4z\"/>\n",
       "    </g>\n",
       "</svg>\n",
       "  </button>\n",
       "\n",
       "<style>\n",
       "  .colab-df-quickchart {\n",
       "      --bg-color: #E8F0FE;\n",
       "      --fill-color: #1967D2;\n",
       "      --hover-bg-color: #E2EBFA;\n",
       "      --hover-fill-color: #174EA6;\n",
       "      --disabled-fill-color: #AAA;\n",
       "      --disabled-bg-color: #DDD;\n",
       "  }\n",
       "\n",
       "  [theme=dark] .colab-df-quickchart {\n",
       "      --bg-color: #3B4455;\n",
       "      --fill-color: #D2E3FC;\n",
       "      --hover-bg-color: #434B5C;\n",
       "      --hover-fill-color: #FFFFFF;\n",
       "      --disabled-bg-color: #3B4455;\n",
       "      --disabled-fill-color: #666;\n",
       "  }\n",
       "\n",
       "  .colab-df-quickchart {\n",
       "    background-color: var(--bg-color);\n",
       "    border: none;\n",
       "    border-radius: 50%;\n",
       "    cursor: pointer;\n",
       "    display: none;\n",
       "    fill: var(--fill-color);\n",
       "    height: 32px;\n",
       "    padding: 0;\n",
       "    width: 32px;\n",
       "  }\n",
       "\n",
       "  .colab-df-quickchart:hover {\n",
       "    background-color: var(--hover-bg-color);\n",
       "    box-shadow: 0 1px 2px rgba(60, 64, 67, 0.3), 0 1px 3px 1px rgba(60, 64, 67, 0.15);\n",
       "    fill: var(--button-hover-fill-color);\n",
       "  }\n",
       "\n",
       "  .colab-df-quickchart-complete:disabled,\n",
       "  .colab-df-quickchart-complete:disabled:hover {\n",
       "    background-color: var(--disabled-bg-color);\n",
       "    fill: var(--disabled-fill-color);\n",
       "    box-shadow: none;\n",
       "  }\n",
       "\n",
       "  .colab-df-spinner {\n",
       "    border: 2px solid var(--fill-color);\n",
       "    border-color: transparent;\n",
       "    border-bottom-color: var(--fill-color);\n",
       "    animation:\n",
       "      spin 1s steps(1) infinite;\n",
       "  }\n",
       "\n",
       "  @keyframes spin {\n",
       "    0% {\n",
       "      border-color: transparent;\n",
       "      border-bottom-color: var(--fill-color);\n",
       "      border-left-color: var(--fill-color);\n",
       "    }\n",
       "    20% {\n",
       "      border-color: transparent;\n",
       "      border-left-color: var(--fill-color);\n",
       "      border-top-color: var(--fill-color);\n",
       "    }\n",
       "    30% {\n",
       "      border-color: transparent;\n",
       "      border-left-color: var(--fill-color);\n",
       "      border-top-color: var(--fill-color);\n",
       "      border-right-color: var(--fill-color);\n",
       "    }\n",
       "    40% {\n",
       "      border-color: transparent;\n",
       "      border-right-color: var(--fill-color);\n",
       "      border-top-color: var(--fill-color);\n",
       "    }\n",
       "    60% {\n",
       "      border-color: transparent;\n",
       "      border-right-color: var(--fill-color);\n",
       "    }\n",
       "    80% {\n",
       "      border-color: transparent;\n",
       "      border-right-color: var(--fill-color);\n",
       "      border-bottom-color: var(--fill-color);\n",
       "    }\n",
       "    90% {\n",
       "      border-color: transparent;\n",
       "      border-bottom-color: var(--fill-color);\n",
       "    }\n",
       "  }\n",
       "</style>\n",
       "\n",
       "  <script>\n",
       "    async function quickchart(key) {\n",
       "      const quickchartButtonEl =\n",
       "        document.querySelector('#' + key + ' button');\n",
       "      quickchartButtonEl.disabled = true;  // To prevent multiple clicks.\n",
       "      quickchartButtonEl.classList.add('colab-df-spinner');\n",
       "      try {\n",
       "        const charts = await google.colab.kernel.invokeFunction(\n",
       "            'suggestCharts', [key], {});\n",
       "      } catch (error) {\n",
       "        console.error('Error during call to suggestCharts:', error);\n",
       "      }\n",
       "      quickchartButtonEl.classList.remove('colab-df-spinner');\n",
       "      quickchartButtonEl.classList.add('colab-df-quickchart-complete');\n",
       "    }\n",
       "    (() => {\n",
       "      let quickchartButtonEl =\n",
       "        document.querySelector('#df-ae43645b-8dd1-4c7a-9cf6-5b8cbc48d8eb button');\n",
       "      quickchartButtonEl.style.display =\n",
       "        google.colab.kernel.accessAllowed ? 'block' : 'none';\n",
       "    })();\n",
       "  </script>\n",
       "</div>\n",
       "    </div>\n",
       "  </div>\n"
      ],
      "text/plain": [
       "                                  min         max\n",
       "Ticker        ticker_type                        \n",
       "AAPL          US           1980-12-12  2024-04-25\n",
       "ACN           EU           2001-07-19  2024-04-25\n",
       "AMZN          US           1997-05-15  2024-04-24\n",
       "ASML          EU           1995-03-15  2024-04-25\n",
       "AVGO          US           2009-08-06  2024-04-25\n",
       "BHARTIARTL.NS INDIA        2002-07-01  2024-04-25\n",
       "BRK-B         US           1996-05-09  2024-04-25\n",
       "CDI.PA        EU           1992-01-27  2024-04-25\n",
       "GOOG          US           2004-08-19  2024-04-25\n",
       "HDB           INDIA        2001-07-20  2024-04-25\n",
       "HINDUNILVR.NS INDIA        1996-01-01  2024-04-25\n",
       "IBN           INDIA        2000-03-28  2024-04-25\n",
       "IDEXY         EU           2010-01-20  2024-04-25\n",
       "INFY          INDIA        1999-03-11  2024-04-25\n",
       "ITC.NS        INDIA        1996-01-01  2024-04-25\n",
       "JPM           US           1980-03-17  2024-04-25\n",
       "LICI.NS       INDIA        2022-05-17  2024-04-25\n",
       "LLY           US           1972-06-01  2024-04-25\n",
       "LT.NS         INDIA        2002-07-01  2024-04-25\n",
       "MC.PA         EU           2000-01-03  2024-04-25\n",
       "META          US           2012-05-18  2024-04-25\n",
       "MSFT          US           1986-03-13  2024-04-25\n",
       "NVDA          US           1999-01-22  2024-04-25\n",
       "NVO           EU           1981-04-30  2024-04-25\n",
       "OR.PA         EU           2000-01-03  2024-04-25\n",
       "RELIANCE.NS   INDIA        1996-01-01  2024-04-25\n",
       "RMS.PA        EU           2000-01-03  2024-04-25\n",
       "SAP           EU           1995-09-18  2024-04-25\n",
       "SBIN.NS       INDIA        1996-01-01  2024-04-25\n",
       "SIE.DE        EU           1996-11-08  2024-04-25\n",
       "TCS.NS        INDIA        2002-08-12  2024-04-25\n",
       "TTE           EU           1991-10-25  2024-04-25\n",
       "V             US           2008-03-19  2024-04-25"
      ]
     },
     "metadata": {},
     "output_type": "display_data"
    }
   ],
   "source": [
    "stocks_df.groupby(['Ticker','ticker_type']).Date.agg(['min','max'])"
   ]
  },
  {
   "cell_type": "code",
   "execution_count": null,
   "metadata": {},
   "outputs": [
    {
     "data": {
      "text/plain": [
       "Year  ticker_type\n",
       "2020  EU             1.245388\n",
       "      INDIA          1.101896\n",
       "      US             1.484070\n",
       "2021  EU             1.582170\n",
       "      INDIA          1.546424\n",
       "      US             1.797571\n",
       "2022  EU             1.191169\n",
       "      INDIA          1.379889\n",
       "      US             1.182379\n",
       "2023  EU             1.246533\n",
       "      INDIA          1.201110\n",
       "      US             1.203253\n",
       "2024  EU             1.650721\n",
       "      INDIA          1.305762\n",
       "      US             2.153187\n",
       "Name: growth_365d, dtype: float64"
      ]
     },
     "metadata": {},
     "output_type": "display_data"
    }
   ],
   "source": [
    "#  average growth 365days\n",
    "stocks_df[stocks_df.Year>=2020].groupby(by=['Year','ticker_type']).growth_365d.mean()"
   ]
  },
  {
   "cell_type": "code",
   "execution_count": null,
   "metadata": {},
   "outputs": [],
   "source": [
    "stocks_df['Date'] = pd.to_datetime(stocks_df['Date'])"
   ]
  },
  {
   "cell_type": "code",
   "execution_count": null,
   "metadata": {},
   "outputs": [
    {
     "name": "stdout",
     "output_type": "stream",
     "text": [
      "<class 'pandas.core.frame.DataFrame'>\n",
      "Index: 182423 entries, 3490 to 220889\n",
      "Data columns (total 25 columns):\n",
      " #   Column                        Non-Null Count   Dtype         \n",
      "---  ------                        --------------   -----         \n",
      " 0   Open                          182423 non-null  float64       \n",
      " 1   High                          182423 non-null  float64       \n",
      " 2   Low                           182423 non-null  float64       \n",
      " 3   Close                         182423 non-null  float64       \n",
      " 4   Adj Close                     182423 non-null  float64       \n",
      " 5   Volume                        182423 non-null  int64         \n",
      " 6   Ticker                        182423 non-null  object        \n",
      " 7   Year                          182423 non-null  int32         \n",
      " 8   Month                         182423 non-null  int32         \n",
      " 9   Weekday                       182423 non-null  int32         \n",
      " 10  Date                          182423 non-null  datetime64[ns]\n",
      " 11  growth_1d                     182408 non-null  float64       \n",
      " 12  growth_3d                     182378 non-null  float64       \n",
      " 13  growth_7d                     182318 non-null  float64       \n",
      " 14  growth_30d                    181973 non-null  float64       \n",
      " 15  growth_90d                    181073 non-null  float64       \n",
      " 16  growth_365d                   176663 non-null  float64       \n",
      " 17  growth_future_5d              182258 non-null  float64       \n",
      " 18  SMA10                         182288 non-null  float64       \n",
      " 19  SMA20                         182138 non-null  float64       \n",
      " 20  growing_moving_average        182423 non-null  int64         \n",
      " 21  high_minus_low_relative       182423 non-null  float64       \n",
      " 22  volatility                    181988 non-null  float64       \n",
      " 23  is_positive_growth_5d_future  182423 non-null  int64         \n",
      " 24  ticker_type                   182423 non-null  object        \n",
      "dtypes: datetime64[ns](1), float64(16), int32(3), int64(3), object(2)\n",
      "memory usage: 34.1+ MB\n"
     ]
    }
   ],
   "source": [
    "# filtering only on stats after 2000\n",
    "stocks_df[stocks_df.Date>='2000-01-01'].info()"
   ]
  },
  {
   "cell_type": "code",
   "execution_count": null,
   "metadata": {},
   "outputs": [
    {
     "data": {
      "application/vnd.google.colaboratory.intrinsic+json": {
       "type": "dataframe"
      },
      "text/html": [
       "\n",
       "  <div id=\"df-ccfe7d88-a6c7-4c2e-98d2-523d6fa8d0bf\" class=\"colab-df-container\">\n",
       "    <div>\n",
       "<style scoped>\n",
       "    .dataframe tbody tr th:only-of-type {\n",
       "        vertical-align: middle;\n",
       "    }\n",
       "\n",
       "    .dataframe tbody tr th {\n",
       "        vertical-align: top;\n",
       "    }\n",
       "\n",
       "    .dataframe thead th {\n",
       "        text-align: right;\n",
       "    }\n",
       "</style>\n",
       "<table border=\"1\" class=\"dataframe\">\n",
       "  <thead>\n",
       "    <tr style=\"text-align: right;\">\n",
       "      <th></th>\n",
       "      <th>Open</th>\n",
       "      <th>High</th>\n",
       "      <th>Low</th>\n",
       "      <th>Close</th>\n",
       "      <th>Adj Close</th>\n",
       "      <th>Volume</th>\n",
       "      <th>Ticker</th>\n",
       "      <th>Year</th>\n",
       "      <th>Month</th>\n",
       "      <th>Weekday</th>\n",
       "      <th>...</th>\n",
       "      <th>growth_90d</th>\n",
       "      <th>growth_365d</th>\n",
       "      <th>growth_future_5d</th>\n",
       "      <th>SMA10</th>\n",
       "      <th>SMA20</th>\n",
       "      <th>growing_moving_average</th>\n",
       "      <th>high_minus_low_relative</th>\n",
       "      <th>volatility</th>\n",
       "      <th>is_positive_growth_5d_future</th>\n",
       "      <th>ticker_type</th>\n",
       "    </tr>\n",
       "  </thead>\n",
       "  <tbody>\n",
       "    <tr>\n",
       "      <th>194903</th>\n",
       "      <td>925.000000</td>\n",
       "      <td>984.450012</td>\n",
       "      <td>924.000000</td>\n",
       "      <td>970.599976</td>\n",
       "      <td>970.599976</td>\n",
       "      <td>4863536</td>\n",
       "      <td>LICI.NS</td>\n",
       "      <td>2024</td>\n",
       "      <td>4</td>\n",
       "      <td>0</td>\n",
       "      <td>...</td>\n",
       "      <td>1.599113</td>\n",
       "      <td>1.556710</td>\n",
       "      <td>1.026891</td>\n",
       "      <td>906.085004</td>\n",
       "      <td>953.950003</td>\n",
       "      <td>0</td>\n",
       "      <td>0.062281</td>\n",
       "      <td>1034.237352</td>\n",
       "      <td>1</td>\n",
       "      <td>INDIA</td>\n",
       "    </tr>\n",
       "    <tr>\n",
       "      <th>201224</th>\n",
       "      <td>17.889999</td>\n",
       "      <td>17.920000</td>\n",
       "      <td>17.500000</td>\n",
       "      <td>17.580000</td>\n",
       "      <td>17.580000</td>\n",
       "      <td>14601600</td>\n",
       "      <td>INFY</td>\n",
       "      <td>2024</td>\n",
       "      <td>4</td>\n",
       "      <td>0</td>\n",
       "      <td>...</td>\n",
       "      <td>1.003998</td>\n",
       "      <td>1.024508</td>\n",
       "      <td>1.015927</td>\n",
       "      <td>18.156000</td>\n",
       "      <td>18.777500</td>\n",
       "      <td>0</td>\n",
       "      <td>0.023891</td>\n",
       "      <td>13.940634</td>\n",
       "      <td>1</td>\n",
       "      <td>INDIA</td>\n",
       "    </tr>\n",
       "    <tr>\n",
       "      <th>208338</th>\n",
       "      <td>429.100006</td>\n",
       "      <td>431.350006</td>\n",
       "      <td>425.750000</td>\n",
       "      <td>426.700012</td>\n",
       "      <td>426.700012</td>\n",
       "      <td>9382308</td>\n",
       "      <td>ITC.NS</td>\n",
       "      <td>2024</td>\n",
       "      <td>4</td>\n",
       "      <td>0</td>\n",
       "      <td>...</td>\n",
       "      <td>0.987044</td>\n",
       "      <td>1.314436</td>\n",
       "      <td>1.005625</td>\n",
       "      <td>422.235004</td>\n",
       "      <td>416.537502</td>\n",
       "      <td>1</td>\n",
       "      <td>0.013124</td>\n",
       "      <td>130.246651</td>\n",
       "      <td>1</td>\n",
       "      <td>INDIA</td>\n",
       "    </tr>\n",
       "    <tr>\n",
       "      <th>215453</th>\n",
       "      <td>2270.000000</td>\n",
       "      <td>2295.000000</td>\n",
       "      <td>2262.000000</td>\n",
       "      <td>2285.899902</td>\n",
       "      <td>2285.899902</td>\n",
       "      <td>1427873</td>\n",
       "      <td>HINDUNILVR.NS</td>\n",
       "      <td>2024</td>\n",
       "      <td>4</td>\n",
       "      <td>0</td>\n",
       "      <td>...</td>\n",
       "      <td>0.917590</td>\n",
       "      <td>0.894051</td>\n",
       "      <td>0.992585</td>\n",
       "      <td>2266.539990</td>\n",
       "      <td>2327.240015</td>\n",
       "      <td>0</td>\n",
       "      <td>0.014436</td>\n",
       "      <td>1049.970071</td>\n",
       "      <td>0</td>\n",
       "      <td>INDIA</td>\n",
       "    </tr>\n",
       "    <tr>\n",
       "      <th>220873</th>\n",
       "      <td>3780.850098</td>\n",
       "      <td>3851.850098</td>\n",
       "      <td>3780.850098</td>\n",
       "      <td>3838.000000</td>\n",
       "      <td>3838.000000</td>\n",
       "      <td>1905190</td>\n",
       "      <td>LT.NS</td>\n",
       "      <td>2024</td>\n",
       "      <td>4</td>\n",
       "      <td>0</td>\n",
       "      <td>...</td>\n",
       "      <td>1.257886</td>\n",
       "      <td>2.010850</td>\n",
       "      <td>0.992144</td>\n",
       "      <td>3626.594971</td>\n",
       "      <td>3618.109985</td>\n",
       "      <td>1</td>\n",
       "      <td>0.018499</td>\n",
       "      <td>2188.619806</td>\n",
       "      <td>0</td>\n",
       "      <td>INDIA</td>\n",
       "    </tr>\n",
       "  </tbody>\n",
       "</table>\n",
       "<p>5 rows × 25 columns</p>\n",
       "</div>\n",
       "    <div class=\"colab-df-buttons\">\n",
       "\n",
       "  <div class=\"colab-df-container\">\n",
       "    <button class=\"colab-df-convert\" onclick=\"convertToInteractive('df-ccfe7d88-a6c7-4c2e-98d2-523d6fa8d0bf')\"\n",
       "            title=\"Convert this dataframe to an interactive table.\"\n",
       "            style=\"display:none;\">\n",
       "\n",
       "  <svg xmlns=\"http://www.w3.org/2000/svg\" height=\"24px\" viewBox=\"0 -960 960 960\">\n",
       "    <path d=\"M120-120v-720h720v720H120Zm60-500h600v-160H180v160Zm220 220h160v-160H400v160Zm0 220h160v-160H400v160ZM180-400h160v-160H180v160Zm440 0h160v-160H620v160ZM180-180h160v-160H180v160Zm440 0h160v-160H620v160Z\"/>\n",
       "  </svg>\n",
       "    </button>\n",
       "\n",
       "  <style>\n",
       "    .colab-df-container {\n",
       "      display:flex;\n",
       "      gap: 12px;\n",
       "    }\n",
       "\n",
       "    .colab-df-convert {\n",
       "      background-color: #E8F0FE;\n",
       "      border: none;\n",
       "      border-radius: 50%;\n",
       "      cursor: pointer;\n",
       "      display: none;\n",
       "      fill: #1967D2;\n",
       "      height: 32px;\n",
       "      padding: 0 0 0 0;\n",
       "      width: 32px;\n",
       "    }\n",
       "\n",
       "    .colab-df-convert:hover {\n",
       "      background-color: #E2EBFA;\n",
       "      box-shadow: 0px 1px 2px rgba(60, 64, 67, 0.3), 0px 1px 3px 1px rgba(60, 64, 67, 0.15);\n",
       "      fill: #174EA6;\n",
       "    }\n",
       "\n",
       "    .colab-df-buttons div {\n",
       "      margin-bottom: 4px;\n",
       "    }\n",
       "\n",
       "    [theme=dark] .colab-df-convert {\n",
       "      background-color: #3B4455;\n",
       "      fill: #D2E3FC;\n",
       "    }\n",
       "\n",
       "    [theme=dark] .colab-df-convert:hover {\n",
       "      background-color: #434B5C;\n",
       "      box-shadow: 0px 1px 3px 1px rgba(0, 0, 0, 0.15);\n",
       "      filter: drop-shadow(0px 1px 2px rgba(0, 0, 0, 0.3));\n",
       "      fill: #FFFFFF;\n",
       "    }\n",
       "  </style>\n",
       "\n",
       "    <script>\n",
       "      const buttonEl =\n",
       "        document.querySelector('#df-ccfe7d88-a6c7-4c2e-98d2-523d6fa8d0bf button.colab-df-convert');\n",
       "      buttonEl.style.display =\n",
       "        google.colab.kernel.accessAllowed ? 'block' : 'none';\n",
       "\n",
       "      async function convertToInteractive(key) {\n",
       "        const element = document.querySelector('#df-ccfe7d88-a6c7-4c2e-98d2-523d6fa8d0bf');\n",
       "        const dataTable =\n",
       "          await google.colab.kernel.invokeFunction('convertToInteractive',\n",
       "                                                    [key], {});\n",
       "        if (!dataTable) return;\n",
       "\n",
       "        const docLinkHtml = 'Like what you see? Visit the ' +\n",
       "          '<a target=\"_blank\" href=https://colab.research.google.com/notebooks/data_table.ipynb>data table notebook</a>'\n",
       "          + ' to learn more about interactive tables.';\n",
       "        element.innerHTML = '';\n",
       "        dataTable['output_type'] = 'display_data';\n",
       "        await google.colab.output.renderOutput(dataTable, element);\n",
       "        const docLink = document.createElement('div');\n",
       "        docLink.innerHTML = docLinkHtml;\n",
       "        element.appendChild(docLink);\n",
       "      }\n",
       "    </script>\n",
       "  </div>\n",
       "\n",
       "\n",
       "<div id=\"df-5f73d462-b852-46ef-b937-ac97878e751c\">\n",
       "  <button class=\"colab-df-quickchart\" onclick=\"quickchart('df-5f73d462-b852-46ef-b937-ac97878e751c')\"\n",
       "            title=\"Suggest charts\"\n",
       "            style=\"display:none;\">\n",
       "\n",
       "<svg xmlns=\"http://www.w3.org/2000/svg\" height=\"24px\"viewBox=\"0 0 24 24\"\n",
       "     width=\"24px\">\n",
       "    <g>\n",
       "        <path d=\"M19 3H5c-1.1 0-2 .9-2 2v14c0 1.1.9 2 2 2h14c1.1 0 2-.9 2-2V5c0-1.1-.9-2-2-2zM9 17H7v-7h2v7zm4 0h-2V7h2v10zm4 0h-2v-4h2v4z\"/>\n",
       "    </g>\n",
       "</svg>\n",
       "  </button>\n",
       "\n",
       "<style>\n",
       "  .colab-df-quickchart {\n",
       "      --bg-color: #E8F0FE;\n",
       "      --fill-color: #1967D2;\n",
       "      --hover-bg-color: #E2EBFA;\n",
       "      --hover-fill-color: #174EA6;\n",
       "      --disabled-fill-color: #AAA;\n",
       "      --disabled-bg-color: #DDD;\n",
       "  }\n",
       "\n",
       "  [theme=dark] .colab-df-quickchart {\n",
       "      --bg-color: #3B4455;\n",
       "      --fill-color: #D2E3FC;\n",
       "      --hover-bg-color: #434B5C;\n",
       "      --hover-fill-color: #FFFFFF;\n",
       "      --disabled-bg-color: #3B4455;\n",
       "      --disabled-fill-color: #666;\n",
       "  }\n",
       "\n",
       "  .colab-df-quickchart {\n",
       "    background-color: var(--bg-color);\n",
       "    border: none;\n",
       "    border-radius: 50%;\n",
       "    cursor: pointer;\n",
       "    display: none;\n",
       "    fill: var(--fill-color);\n",
       "    height: 32px;\n",
       "    padding: 0;\n",
       "    width: 32px;\n",
       "  }\n",
       "\n",
       "  .colab-df-quickchart:hover {\n",
       "    background-color: var(--hover-bg-color);\n",
       "    box-shadow: 0 1px 2px rgba(60, 64, 67, 0.3), 0 1px 3px 1px rgba(60, 64, 67, 0.15);\n",
       "    fill: var(--button-hover-fill-color);\n",
       "  }\n",
       "\n",
       "  .colab-df-quickchart-complete:disabled,\n",
       "  .colab-df-quickchart-complete:disabled:hover {\n",
       "    background-color: var(--disabled-bg-color);\n",
       "    fill: var(--disabled-fill-color);\n",
       "    box-shadow: none;\n",
       "  }\n",
       "\n",
       "  .colab-df-spinner {\n",
       "    border: 2px solid var(--fill-color);\n",
       "    border-color: transparent;\n",
       "    border-bottom-color: var(--fill-color);\n",
       "    animation:\n",
       "      spin 1s steps(1) infinite;\n",
       "  }\n",
       "\n",
       "  @keyframes spin {\n",
       "    0% {\n",
       "      border-color: transparent;\n",
       "      border-bottom-color: var(--fill-color);\n",
       "      border-left-color: var(--fill-color);\n",
       "    }\n",
       "    20% {\n",
       "      border-color: transparent;\n",
       "      border-left-color: var(--fill-color);\n",
       "      border-top-color: var(--fill-color);\n",
       "    }\n",
       "    30% {\n",
       "      border-color: transparent;\n",
       "      border-left-color: var(--fill-color);\n",
       "      border-top-color: var(--fill-color);\n",
       "      border-right-color: var(--fill-color);\n",
       "    }\n",
       "    40% {\n",
       "      border-color: transparent;\n",
       "      border-right-color: var(--fill-color);\n",
       "      border-top-color: var(--fill-color);\n",
       "    }\n",
       "    60% {\n",
       "      border-color: transparent;\n",
       "      border-right-color: var(--fill-color);\n",
       "    }\n",
       "    80% {\n",
       "      border-color: transparent;\n",
       "      border-right-color: var(--fill-color);\n",
       "      border-bottom-color: var(--fill-color);\n",
       "    }\n",
       "    90% {\n",
       "      border-color: transparent;\n",
       "      border-bottom-color: var(--fill-color);\n",
       "    }\n",
       "  }\n",
       "</style>\n",
       "\n",
       "  <script>\n",
       "    async function quickchart(key) {\n",
       "      const quickchartButtonEl =\n",
       "        document.querySelector('#' + key + ' button');\n",
       "      quickchartButtonEl.disabled = true;  // To prevent multiple clicks.\n",
       "      quickchartButtonEl.classList.add('colab-df-spinner');\n",
       "      try {\n",
       "        const charts = await google.colab.kernel.invokeFunction(\n",
       "            'suggestCharts', [key], {});\n",
       "      } catch (error) {\n",
       "        console.error('Error during call to suggestCharts:', error);\n",
       "      }\n",
       "      quickchartButtonEl.classList.remove('colab-df-spinner');\n",
       "      quickchartButtonEl.classList.add('colab-df-quickchart-complete');\n",
       "    }\n",
       "    (() => {\n",
       "      let quickchartButtonEl =\n",
       "        document.querySelector('#df-5f73d462-b852-46ef-b937-ac97878e751c button');\n",
       "      quickchartButtonEl.style.display =\n",
       "        google.colab.kernel.accessAllowed ? 'block' : 'none';\n",
       "    })();\n",
       "  </script>\n",
       "</div>\n",
       "    </div>\n",
       "  </div>\n"
      ],
      "text/plain": [
       "               Open         High          Low        Close    Adj Close  \\\n",
       "194903   925.000000   984.450012   924.000000   970.599976   970.599976   \n",
       "201224    17.889999    17.920000    17.500000    17.580000    17.580000   \n",
       "208338   429.100006   431.350006   425.750000   426.700012   426.700012   \n",
       "215453  2270.000000  2295.000000  2262.000000  2285.899902  2285.899902   \n",
       "220873  3780.850098  3851.850098  3780.850098  3838.000000  3838.000000   \n",
       "\n",
       "          Volume         Ticker  Year  Month  Weekday  ... growth_90d  \\\n",
       "194903   4863536        LICI.NS  2024      4        0  ...   1.599113   \n",
       "201224  14601600           INFY  2024      4        0  ...   1.003998   \n",
       "208338   9382308         ITC.NS  2024      4        0  ...   0.987044   \n",
       "215453   1427873  HINDUNILVR.NS  2024      4        0  ...   0.917590   \n",
       "220873   1905190          LT.NS  2024      4        0  ...   1.257886   \n",
       "\n",
       "        growth_365d  growth_future_5d        SMA10        SMA20  \\\n",
       "194903     1.556710          1.026891   906.085004   953.950003   \n",
       "201224     1.024508          1.015927    18.156000    18.777500   \n",
       "208338     1.314436          1.005625   422.235004   416.537502   \n",
       "215453     0.894051          0.992585  2266.539990  2327.240015   \n",
       "220873     2.010850          0.992144  3626.594971  3618.109985   \n",
       "\n",
       "        growing_moving_average  high_minus_low_relative   volatility  \\\n",
       "194903                       0                 0.062281  1034.237352   \n",
       "201224                       0                 0.023891    13.940634   \n",
       "208338                       1                 0.013124   130.246651   \n",
       "215453                       0                 0.014436  1049.970071   \n",
       "220873                       1                 0.018499  2188.619806   \n",
       "\n",
       "        is_positive_growth_5d_future  ticker_type  \n",
       "194903                             1        INDIA  \n",
       "201224                             1        INDIA  \n",
       "208338                             1        INDIA  \n",
       "215453                             0        INDIA  \n",
       "220873                             0        INDIA  \n",
       "\n",
       "[5 rows x 25 columns]"
      ]
     },
     "metadata": {},
     "output_type": "display_data"
    }
   ],
   "source": [
    "stocks_df[stocks_df.Date=='2024-04-01'].tail()"
   ]
  },
  {
   "cell_type": "code",
   "execution_count": null,
   "metadata": {},
   "outputs": [],
   "source": [
    "# https://companiesmarketcap.com/usa/largest-companies-in-the-usa-by-market-cap/\n",
    "US_STOCKS = ['MSFT', 'AAPL', 'GOOG', 'NVDA', 'AMZN', 'META', 'BRK-B', 'LLY', 'AVGO','V', 'JPM']\n",
    "\n",
    "# You're required to add EU_STOCKS and INDIA_STOCS\n",
    "# https://companiesmarketcap.com/european-union/largest-companies-in-the-eu-by-market-cap/\n",
    "EU_STOCKS = ['NVO','MC.PA', 'ASML', 'RMS.PA', 'OR.PA', 'SAP', 'ACN', 'TTE', 'SIE.DE','IDEXY','CDI.PA']\n",
    "\n",
    "# https://companiesmarketcap.com/india/largest-companies-in-india-by-market-cap/\n",
    "INDIA_STOCKS = ['RELIANCE.NS','TCS.NS','HDB','BHARTIARTL.NS','IBN','SBIN.NS','LICI.NS','INFY','ITC.NS','HINDUNILVR.NS','LT.NS']"
   ]
  },
  {
   "cell_type": "code",
   "execution_count": null,
   "metadata": {},
   "outputs": [
    {
     "data": {
      "text/plain": [
       "['MSFT',\n",
       " 'AAPL',\n",
       " 'GOOG',\n",
       " 'NVDA',\n",
       " 'AMZN',\n",
       " 'META',\n",
       " 'BRK-B',\n",
       " 'LLY',\n",
       " 'AVGO',\n",
       " 'V',\n",
       " 'JPM',\n",
       " 'NVO',\n",
       " 'MC.PA',\n",
       " 'ASML',\n",
       " 'RMS.PA',\n",
       " 'OR.PA',\n",
       " 'SAP',\n",
       " 'ACN',\n",
       " 'TTE',\n",
       " 'SIE.DE',\n",
       " 'IDEXY',\n",
       " 'CDI.PA',\n",
       " 'RELIANCE.NS',\n",
       " 'TCS.NS',\n",
       " 'HDB',\n",
       " 'BHARTIARTL.NS',\n",
       " 'IBN',\n",
       " 'SBIN.NS',\n",
       " 'LICI.NS',\n",
       " 'INFY',\n",
       " 'ITC.NS',\n",
       " 'HINDUNILVR.NS',\n",
       " 'LT.NS']"
      ]
     },
     "metadata": {},
     "output_type": "display_data"
    }
   ],
   "source": [
    "ALL_TICKERS = US_STOCKS  + EU_STOCKS + INDIA_STOCKS\n",
    "ALL_TICKERS"
   ]
  },
  {
   "cell_type": "code",
   "execution_count": null,
   "metadata": {},
   "outputs": [
    {
     "name": "stdout",
     "output_type": "stream",
     "text": [
      "0 MSFT\n"
     ]
    },
    {
     "name": "stderr",
     "output_type": "stream",
     "text": [
      "\r[*********************100%%**********************]  1 of 1 completed\n"
     ]
    },
    {
     "name": "stdout",
     "output_type": "stream",
     "text": [
      "1 AAPL\n"
     ]
    },
    {
     "name": "stderr",
     "output_type": "stream",
     "text": [
      "\r[*********************100%%**********************]  1 of 1 completed\n"
     ]
    },
    {
     "name": "stdout",
     "output_type": "stream",
     "text": [
      "2 GOOG\n"
     ]
    },
    {
     "name": "stderr",
     "output_type": "stream",
     "text": [
      "\r[*********************100%%**********************]  1 of 1 completed\n"
     ]
    },
    {
     "name": "stdout",
     "output_type": "stream",
     "text": [
      "3 NVDA\n"
     ]
    },
    {
     "name": "stderr",
     "output_type": "stream",
     "text": [
      "\r[*********************100%%**********************]  1 of 1 completed\n"
     ]
    },
    {
     "name": "stdout",
     "output_type": "stream",
     "text": [
      "4 AMZN\n"
     ]
    },
    {
     "name": "stderr",
     "output_type": "stream",
     "text": [
      "\r[*********************100%%**********************]  1 of 1 completed\n"
     ]
    },
    {
     "name": "stdout",
     "output_type": "stream",
     "text": [
      "5 META\n"
     ]
    },
    {
     "name": "stderr",
     "output_type": "stream",
     "text": [
      "\r[*********************100%%**********************]  1 of 1 completed\n"
     ]
    },
    {
     "name": "stdout",
     "output_type": "stream",
     "text": [
      "6 BRK-B\n"
     ]
    },
    {
     "name": "stderr",
     "output_type": "stream",
     "text": [
      "\r[*********************100%%**********************]  1 of 1 completed\n"
     ]
    },
    {
     "name": "stdout",
     "output_type": "stream",
     "text": [
      "7 LLY\n"
     ]
    },
    {
     "name": "stderr",
     "output_type": "stream",
     "text": [
      "\r[*********************100%%**********************]  1 of 1 completed\n"
     ]
    },
    {
     "name": "stdout",
     "output_type": "stream",
     "text": [
      "8 AVGO\n"
     ]
    },
    {
     "name": "stderr",
     "output_type": "stream",
     "text": [
      "\r[*********************100%%**********************]  1 of 1 completed\n"
     ]
    },
    {
     "name": "stdout",
     "output_type": "stream",
     "text": [
      "9 V\n"
     ]
    },
    {
     "name": "stderr",
     "output_type": "stream",
     "text": [
      "\r[*********************100%%**********************]  1 of 1 completed\n"
     ]
    },
    {
     "name": "stdout",
     "output_type": "stream",
     "text": [
      "10 JPM\n"
     ]
    },
    {
     "name": "stderr",
     "output_type": "stream",
     "text": [
      "\r[*********************100%%**********************]  1 of 1 completed\n"
     ]
    },
    {
     "name": "stdout",
     "output_type": "stream",
     "text": [
      "11 NVO\n"
     ]
    },
    {
     "name": "stderr",
     "output_type": "stream",
     "text": [
      "\r[*********************100%%**********************]  1 of 1 completed\n"
     ]
    },
    {
     "name": "stdout",
     "output_type": "stream",
     "text": [
      "12 MC.PA\n"
     ]
    },
    {
     "name": "stderr",
     "output_type": "stream",
     "text": [
      "\r[*********************100%%**********************]  1 of 1 completed\n"
     ]
    },
    {
     "name": "stdout",
     "output_type": "stream",
     "text": [
      "13 ASML\n"
     ]
    },
    {
     "name": "stderr",
     "output_type": "stream",
     "text": [
      "\r[*********************100%%**********************]  1 of 1 completed\n"
     ]
    },
    {
     "name": "stdout",
     "output_type": "stream",
     "text": [
      "14 RMS.PA\n"
     ]
    },
    {
     "name": "stderr",
     "output_type": "stream",
     "text": [
      "\r[*********************100%%**********************]  1 of 1 completed\n"
     ]
    },
    {
     "name": "stdout",
     "output_type": "stream",
     "text": [
      "15 OR.PA\n"
     ]
    },
    {
     "name": "stderr",
     "output_type": "stream",
     "text": [
      "\r[*********************100%%**********************]  1 of 1 completed\n"
     ]
    },
    {
     "name": "stdout",
     "output_type": "stream",
     "text": [
      "16 SAP\n"
     ]
    },
    {
     "name": "stderr",
     "output_type": "stream",
     "text": [
      "\r[*********************100%%**********************]  1 of 1 completed\n"
     ]
    },
    {
     "name": "stdout",
     "output_type": "stream",
     "text": [
      "17 ACN\n"
     ]
    },
    {
     "name": "stderr",
     "output_type": "stream",
     "text": [
      "\r[*********************100%%**********************]  1 of 1 completed\n"
     ]
    },
    {
     "name": "stdout",
     "output_type": "stream",
     "text": [
      "18 TTE\n"
     ]
    },
    {
     "name": "stderr",
     "output_type": "stream",
     "text": [
      "\r[*********************100%%**********************]  1 of 1 completed\n"
     ]
    },
    {
     "name": "stdout",
     "output_type": "stream",
     "text": [
      "19 SIE.DE\n"
     ]
    },
    {
     "name": "stderr",
     "output_type": "stream",
     "text": [
      "\r[*********************100%%**********************]  1 of 1 completed\n"
     ]
    },
    {
     "name": "stdout",
     "output_type": "stream",
     "text": [
      "20 IDEXY\n"
     ]
    },
    {
     "name": "stderr",
     "output_type": "stream",
     "text": [
      "\r[*********************100%%**********************]  1 of 1 completed\n"
     ]
    },
    {
     "name": "stdout",
     "output_type": "stream",
     "text": [
      "21 CDI.PA\n"
     ]
    },
    {
     "name": "stderr",
     "output_type": "stream",
     "text": [
      "\r[*********************100%%**********************]  1 of 1 completed\n"
     ]
    },
    {
     "name": "stdout",
     "output_type": "stream",
     "text": [
      "22 RELIANCE.NS\n"
     ]
    },
    {
     "name": "stderr",
     "output_type": "stream",
     "text": [
      "\r[*********************100%%**********************]  1 of 1 completed\n"
     ]
    },
    {
     "name": "stdout",
     "output_type": "stream",
     "text": [
      "23 TCS.NS\n"
     ]
    },
    {
     "name": "stderr",
     "output_type": "stream",
     "text": [
      "\r[*********************100%%**********************]  1 of 1 completed\n"
     ]
    },
    {
     "name": "stdout",
     "output_type": "stream",
     "text": [
      "24 HDB\n"
     ]
    },
    {
     "name": "stderr",
     "output_type": "stream",
     "text": [
      "\r[*********************100%%**********************]  1 of 1 completed\n"
     ]
    },
    {
     "name": "stdout",
     "output_type": "stream",
     "text": [
      "25 BHARTIARTL.NS\n"
     ]
    },
    {
     "name": "stderr",
     "output_type": "stream",
     "text": [
      "\r[*********************100%%**********************]  1 of 1 completed\n"
     ]
    },
    {
     "name": "stdout",
     "output_type": "stream",
     "text": [
      "26 IBN\n"
     ]
    },
    {
     "name": "stderr",
     "output_type": "stream",
     "text": [
      "\r[*********************100%%**********************]  1 of 1 completed\n"
     ]
    },
    {
     "name": "stdout",
     "output_type": "stream",
     "text": [
      "27 SBIN.NS\n"
     ]
    },
    {
     "name": "stderr",
     "output_type": "stream",
     "text": [
      "[*********************100%%**********************]  1 of 1 completed\n",
      "[*********************100%%**********************]  1 of 1 completed"
     ]
    },
    {
     "name": "stdout",
     "output_type": "stream",
     "text": [
      "28 LICI.NS\n"
     ]
    },
    {
     "name": "stderr",
     "output_type": "stream",
     "text": [
      "\n"
     ]
    },
    {
     "name": "stdout",
     "output_type": "stream",
     "text": [
      "29 INFY\n"
     ]
    },
    {
     "name": "stderr",
     "output_type": "stream",
     "text": [
      "\r[*********************100%%**********************]  1 of 1 completed\n"
     ]
    },
    {
     "name": "stdout",
     "output_type": "stream",
     "text": [
      "30 ITC.NS\n"
     ]
    },
    {
     "name": "stderr",
     "output_type": "stream",
     "text": [
      "\r[*********************100%%**********************]  1 of 1 completed\n"
     ]
    },
    {
     "name": "stdout",
     "output_type": "stream",
     "text": [
      "31 HINDUNILVR.NS\n"
     ]
    },
    {
     "name": "stderr",
     "output_type": "stream",
     "text": [
      "\r[*********************100%%**********************]  1 of 1 completed\n"
     ]
    },
    {
     "name": "stdout",
     "output_type": "stream",
     "text": [
      "32 LT.NS\n"
     ]
    },
    {
     "name": "stderr",
     "output_type": "stream",
     "text": [
      "\r[*********************100%%**********************]  1 of 1 completed\n"
     ]
    }
   ],
   "source": [
    "import time\n",
    "\n",
    "stocks_df = pd.DataFrame({'A' : []})\n",
    "\n",
    "for i,ticker in enumerate(ALL_TICKERS):\n",
    "  print(i,ticker)\n",
    "\n",
    "  # Work with stock prices\n",
    "  historyPrices = yf.download(tickers = ticker,\n",
    "                     period = \"max\",\n",
    "                     interval = \"1d\")\n",
    "\n",
    "  # generate features for historical prices, and what we want to predict\n",
    "  historyPrices['Ticker'] = ticker\n",
    "  historyPrices['Year']= historyPrices.index.year\n",
    "  historyPrices['Month'] = historyPrices.index.month\n",
    "  historyPrices['Weekday'] = historyPrices.index.weekday\n",
    "  historyPrices['Date'] = historyPrices.index.date\n",
    "\n",
    "  # historical returns\n",
    "  for i in [1,3,7,30,90,365]:\n",
    "    historyPrices['growth_'+str(i)+'d'] = historyPrices['Adj Close'] / historyPrices['Adj Close'].shift(i)\n",
    "  historyPrices['growth_future_5d'] = historyPrices['Adj Close'].shift(-5) / historyPrices['Adj Close']\n",
    "\n",
    "  # Technical indicators\n",
    "  # SimpleMovingAverage 10 days and 20 days\n",
    "  historyPrices['SMA10']= historyPrices['Close'].rolling(10).mean()\n",
    "  historyPrices['SMA20']= historyPrices['Close'].rolling(20).mean()\n",
    "  historyPrices['growing_moving_average'] = np.where(historyPrices['SMA10'] > historyPrices['SMA20'], 1, 0)\n",
    "  historyPrices['high_minus_low_relative'] = (historyPrices.High - historyPrices.Low) / historyPrices['Adj Close']\n",
    "\n",
    "  # 30d rolling volatility : https://ycharts.com/glossary/terms/rolling_vol_30\n",
    "  historyPrices['volatility'] =   historyPrices['Adj Close'].rolling(30).std() * np.sqrt(252)\n",
    "\n",
    "  # what we want to predict\n",
    "  historyPrices['is_positive_growth_5d_future'] = np.where(historyPrices['growth_future_5d'] > 1, 1, 0)\n",
    "\n",
    "  # sleep 1 sec between downloads - not to overload the API server\n",
    "  time.sleep(1)\n",
    "\n",
    "\n",
    "  if stocks_df.empty:\n",
    "    stocks_df = historyPrices\n",
    "  else:\n",
    "    stocks_df = pd.concat([stocks_df, historyPrices], ignore_index=True)"
   ]
  },
  {
   "cell_type": "code",
   "execution_count": null,
   "metadata": {},
   "outputs": [],
   "source": [
    "def get_ticker_type(ticker:str, us_stocks_list, eu_stocks_list, india_stocks_list):\n",
    "  if ticker in us_stocks_list:\n",
    "    return 'US'\n",
    "  elif ticker in eu_stocks_list:\n",
    "    return 'EU'\n",
    "  elif ticker in india_stocks_list:\n",
    "    return 'INDIA'\n",
    "  else:\n",
    "    return 'ERROR'\n"
   ]
  },
  {
   "cell_type": "code",
   "execution_count": null,
   "metadata": {},
   "outputs": [],
   "source": [
    "stocks_df['ticker_type'] = stocks_df.Ticker.apply(lambda x:get_ticker_type(x, US_STOCKS, EU_STOCKS, INDIA_STOCKS))"
   ]
  },
  {
   "cell_type": "code",
   "execution_count": null,
   "metadata": {},
   "outputs": [
    {
     "data": {
      "text/plain": [
       "ticker_type\n",
       "US       80639\n",
       "EU       76986\n",
       "INDIA    63265\n",
       "Name: count, dtype: int64"
      ]
     },
     "metadata": {},
     "output_type": "display_data"
    }
   ],
   "source": [
    "# count of observations between US-EU-INDIA stocks\n",
    "stocks_df.ticker_type.value_counts()"
   ]
  },
  {
   "cell_type": "code",
   "execution_count": null,
   "metadata": {},
   "outputs": [
    {
     "data": {
      "text/plain": [
       "33"
      ]
     },
     "metadata": {},
     "output_type": "display_data"
    }
   ],
   "source": [
    "# unique tickers\n",
    "stocks_df.Ticker.nunique()"
   ]
  },
  {
   "cell_type": "code",
   "execution_count": null,
   "metadata": {},
   "outputs": [
    {
     "data": {
      "text/plain": [
       "Ticker\n",
       "LLY              13087\n",
       "JPM              11121\n",
       "AAPL             10933\n",
       "NVO              10838\n",
       "MSFT              9607\n",
       "CDI.PA            8321\n",
       "TTE               8185\n",
       "ASML              7330\n",
       "SAP               7201\n",
       "HINDUNILVR.NS     7115\n",
       "SBIN.NS           7113\n",
       "RELIANCE.NS       7112\n",
       "ITC.NS            7112\n",
       "SIE.DE            7039\n",
       "BRK-B             7038\n",
       "AMZN              6780\n",
       "NVDA              6356\n",
       "INFY              6323\n",
       "MC.PA             6251\n",
       "RMS.PA            6251\n",
       "OR.PA             6251\n",
       "IBN               6058\n",
       "ACN               5728\n",
       "HDB               5727\n",
       "LT.NS             5420\n",
       "BHARTIARTL.NS     5417\n",
       "TCS.NS            5388\n",
       "GOOG              4955\n",
       "V                 4054\n",
       "AVGO              3705\n",
       "IDEXY             3591\n",
       "META              3003\n",
       "LICI.NS            480\n",
       "Name: count, dtype: int64"
      ]
     },
     "metadata": {},
     "output_type": "display_data"
    }
   ],
   "source": [
    "# count of observations by stock\n",
    "stocks_df.Ticker.value_counts()"
   ]
  },
  {
   "cell_type": "code",
   "execution_count": null,
   "metadata": {},
   "outputs": [
    {
     "data": {
      "application/vnd.google.colaboratory.intrinsic+json": {
       "summary": "{\n  \"name\": \"stocks_df\",\n  \"rows\": 33,\n  \"fields\": [\n    {\n      \"column\": \"min\",\n      \"properties\": {\n        \"dtype\": \"date\",\n        \"min\": \"1972-06-01\",\n        \"max\": \"2022-05-17\",\n        \"num_unique_values\": 27,\n        \"samples\": [\n          \"2004-08-19\",\n          \"1999-03-11\",\n          \"2001-07-20\"\n        ],\n        \"semantic_type\": \"\",\n        \"description\": \"\"\n      }\n    },\n    {\n      \"column\": \"max\",\n      \"properties\": {\n        \"dtype\": \"date\",\n        \"min\": \"2024-04-24\",\n        \"max\": \"2024-04-25\",\n        \"num_unique_values\": 2,\n        \"samples\": [\n          \"2024-04-24\",\n          \"2024-04-25\"\n        ],\n        \"semantic_type\": \"\",\n        \"description\": \"\"\n      }\n    }\n  ]\n}",
       "type": "dataframe"
      },
      "text/html": [
       "\n",
       "  <div id=\"df-a567f221-70b9-4459-aa53-76cc7a99cef8\" class=\"colab-df-container\">\n",
       "    <div>\n",
       "<style scoped>\n",
       "    .dataframe tbody tr th:only-of-type {\n",
       "        vertical-align: middle;\n",
       "    }\n",
       "\n",
       "    .dataframe tbody tr th {\n",
       "        vertical-align: top;\n",
       "    }\n",
       "\n",
       "    .dataframe thead th {\n",
       "        text-align: right;\n",
       "    }\n",
       "</style>\n",
       "<table border=\"1\" class=\"dataframe\">\n",
       "  <thead>\n",
       "    <tr style=\"text-align: right;\">\n",
       "      <th></th>\n",
       "      <th></th>\n",
       "      <th>min</th>\n",
       "      <th>max</th>\n",
       "    </tr>\n",
       "    <tr>\n",
       "      <th>Ticker</th>\n",
       "      <th>ticker_type</th>\n",
       "      <th></th>\n",
       "      <th></th>\n",
       "    </tr>\n",
       "  </thead>\n",
       "  <tbody>\n",
       "    <tr>\n",
       "      <th>AAPL</th>\n",
       "      <th>US</th>\n",
       "      <td>1980-12-12</td>\n",
       "      <td>2024-04-25</td>\n",
       "    </tr>\n",
       "    <tr>\n",
       "      <th>ACN</th>\n",
       "      <th>EU</th>\n",
       "      <td>2001-07-19</td>\n",
       "      <td>2024-04-25</td>\n",
       "    </tr>\n",
       "    <tr>\n",
       "      <th>AMZN</th>\n",
       "      <th>US</th>\n",
       "      <td>1997-05-15</td>\n",
       "      <td>2024-04-24</td>\n",
       "    </tr>\n",
       "    <tr>\n",
       "      <th>ASML</th>\n",
       "      <th>EU</th>\n",
       "      <td>1995-03-15</td>\n",
       "      <td>2024-04-25</td>\n",
       "    </tr>\n",
       "    <tr>\n",
       "      <th>AVGO</th>\n",
       "      <th>US</th>\n",
       "      <td>2009-08-06</td>\n",
       "      <td>2024-04-25</td>\n",
       "    </tr>\n",
       "    <tr>\n",
       "      <th>BHARTIARTL.NS</th>\n",
       "      <th>INDIA</th>\n",
       "      <td>2002-07-01</td>\n",
       "      <td>2024-04-25</td>\n",
       "    </tr>\n",
       "    <tr>\n",
       "      <th>BRK-B</th>\n",
       "      <th>US</th>\n",
       "      <td>1996-05-09</td>\n",
       "      <td>2024-04-25</td>\n",
       "    </tr>\n",
       "    <tr>\n",
       "      <th>CDI.PA</th>\n",
       "      <th>EU</th>\n",
       "      <td>1992-01-27</td>\n",
       "      <td>2024-04-25</td>\n",
       "    </tr>\n",
       "    <tr>\n",
       "      <th>GOOG</th>\n",
       "      <th>US</th>\n",
       "      <td>2004-08-19</td>\n",
       "      <td>2024-04-25</td>\n",
       "    </tr>\n",
       "    <tr>\n",
       "      <th>HDB</th>\n",
       "      <th>INDIA</th>\n",
       "      <td>2001-07-20</td>\n",
       "      <td>2024-04-25</td>\n",
       "    </tr>\n",
       "    <tr>\n",
       "      <th>HINDUNILVR.NS</th>\n",
       "      <th>INDIA</th>\n",
       "      <td>1996-01-01</td>\n",
       "      <td>2024-04-25</td>\n",
       "    </tr>\n",
       "    <tr>\n",
       "      <th>IBN</th>\n",
       "      <th>INDIA</th>\n",
       "      <td>2000-03-28</td>\n",
       "      <td>2024-04-25</td>\n",
       "    </tr>\n",
       "    <tr>\n",
       "      <th>IDEXY</th>\n",
       "      <th>EU</th>\n",
       "      <td>2010-01-20</td>\n",
       "      <td>2024-04-25</td>\n",
       "    </tr>\n",
       "    <tr>\n",
       "      <th>INFY</th>\n",
       "      <th>INDIA</th>\n",
       "      <td>1999-03-11</td>\n",
       "      <td>2024-04-25</td>\n",
       "    </tr>\n",
       "    <tr>\n",
       "      <th>ITC.NS</th>\n",
       "      <th>INDIA</th>\n",
       "      <td>1996-01-01</td>\n",
       "      <td>2024-04-25</td>\n",
       "    </tr>\n",
       "    <tr>\n",
       "      <th>JPM</th>\n",
       "      <th>US</th>\n",
       "      <td>1980-03-17</td>\n",
       "      <td>2024-04-25</td>\n",
       "    </tr>\n",
       "    <tr>\n",
       "      <th>LICI.NS</th>\n",
       "      <th>INDIA</th>\n",
       "      <td>2022-05-17</td>\n",
       "      <td>2024-04-25</td>\n",
       "    </tr>\n",
       "    <tr>\n",
       "      <th>LLY</th>\n",
       "      <th>US</th>\n",
       "      <td>1972-06-01</td>\n",
       "      <td>2024-04-25</td>\n",
       "    </tr>\n",
       "    <tr>\n",
       "      <th>LT.NS</th>\n",
       "      <th>INDIA</th>\n",
       "      <td>2002-07-01</td>\n",
       "      <td>2024-04-25</td>\n",
       "    </tr>\n",
       "    <tr>\n",
       "      <th>MC.PA</th>\n",
       "      <th>EU</th>\n",
       "      <td>2000-01-03</td>\n",
       "      <td>2024-04-25</td>\n",
       "    </tr>\n",
       "    <tr>\n",
       "      <th>META</th>\n",
       "      <th>US</th>\n",
       "      <td>2012-05-18</td>\n",
       "      <td>2024-04-25</td>\n",
       "    </tr>\n",
       "    <tr>\n",
       "      <th>MSFT</th>\n",
       "      <th>US</th>\n",
       "      <td>1986-03-13</td>\n",
       "      <td>2024-04-25</td>\n",
       "    </tr>\n",
       "    <tr>\n",
       "      <th>NVDA</th>\n",
       "      <th>US</th>\n",
       "      <td>1999-01-22</td>\n",
       "      <td>2024-04-25</td>\n",
       "    </tr>\n",
       "    <tr>\n",
       "      <th>NVO</th>\n",
       "      <th>EU</th>\n",
       "      <td>1981-04-30</td>\n",
       "      <td>2024-04-25</td>\n",
       "    </tr>\n",
       "    <tr>\n",
       "      <th>OR.PA</th>\n",
       "      <th>EU</th>\n",
       "      <td>2000-01-03</td>\n",
       "      <td>2024-04-25</td>\n",
       "    </tr>\n",
       "    <tr>\n",
       "      <th>RELIANCE.NS</th>\n",
       "      <th>INDIA</th>\n",
       "      <td>1996-01-01</td>\n",
       "      <td>2024-04-25</td>\n",
       "    </tr>\n",
       "    <tr>\n",
       "      <th>RMS.PA</th>\n",
       "      <th>EU</th>\n",
       "      <td>2000-01-03</td>\n",
       "      <td>2024-04-25</td>\n",
       "    </tr>\n",
       "    <tr>\n",
       "      <th>SAP</th>\n",
       "      <th>EU</th>\n",
       "      <td>1995-09-18</td>\n",
       "      <td>2024-04-25</td>\n",
       "    </tr>\n",
       "    <tr>\n",
       "      <th>SBIN.NS</th>\n",
       "      <th>INDIA</th>\n",
       "      <td>1996-01-01</td>\n",
       "      <td>2024-04-25</td>\n",
       "    </tr>\n",
       "    <tr>\n",
       "      <th>SIE.DE</th>\n",
       "      <th>EU</th>\n",
       "      <td>1996-11-08</td>\n",
       "      <td>2024-04-25</td>\n",
       "    </tr>\n",
       "    <tr>\n",
       "      <th>TCS.NS</th>\n",
       "      <th>INDIA</th>\n",
       "      <td>2002-08-12</td>\n",
       "      <td>2024-04-25</td>\n",
       "    </tr>\n",
       "    <tr>\n",
       "      <th>TTE</th>\n",
       "      <th>EU</th>\n",
       "      <td>1991-10-25</td>\n",
       "      <td>2024-04-25</td>\n",
       "    </tr>\n",
       "    <tr>\n",
       "      <th>V</th>\n",
       "      <th>US</th>\n",
       "      <td>2008-03-19</td>\n",
       "      <td>2024-04-25</td>\n",
       "    </tr>\n",
       "  </tbody>\n",
       "</table>\n",
       "</div>\n",
       "    <div class=\"colab-df-buttons\">\n",
       "\n",
       "  <div class=\"colab-df-container\">\n",
       "    <button class=\"colab-df-convert\" onclick=\"convertToInteractive('df-a567f221-70b9-4459-aa53-76cc7a99cef8')\"\n",
       "            title=\"Convert this dataframe to an interactive table.\"\n",
       "            style=\"display:none;\">\n",
       "\n",
       "  <svg xmlns=\"http://www.w3.org/2000/svg\" height=\"24px\" viewBox=\"0 -960 960 960\">\n",
       "    <path d=\"M120-120v-720h720v720H120Zm60-500h600v-160H180v160Zm220 220h160v-160H400v160Zm0 220h160v-160H400v160ZM180-400h160v-160H180v160Zm440 0h160v-160H620v160ZM180-180h160v-160H180v160Zm440 0h160v-160H620v160Z\"/>\n",
       "  </svg>\n",
       "    </button>\n",
       "\n",
       "  <style>\n",
       "    .colab-df-container {\n",
       "      display:flex;\n",
       "      gap: 12px;\n",
       "    }\n",
       "\n",
       "    .colab-df-convert {\n",
       "      background-color: #E8F0FE;\n",
       "      border: none;\n",
       "      border-radius: 50%;\n",
       "      cursor: pointer;\n",
       "      display: none;\n",
       "      fill: #1967D2;\n",
       "      height: 32px;\n",
       "      padding: 0 0 0 0;\n",
       "      width: 32px;\n",
       "    }\n",
       "\n",
       "    .colab-df-convert:hover {\n",
       "      background-color: #E2EBFA;\n",
       "      box-shadow: 0px 1px 2px rgba(60, 64, 67, 0.3), 0px 1px 3px 1px rgba(60, 64, 67, 0.15);\n",
       "      fill: #174EA6;\n",
       "    }\n",
       "\n",
       "    .colab-df-buttons div {\n",
       "      margin-bottom: 4px;\n",
       "    }\n",
       "\n",
       "    [theme=dark] .colab-df-convert {\n",
       "      background-color: #3B4455;\n",
       "      fill: #D2E3FC;\n",
       "    }\n",
       "\n",
       "    [theme=dark] .colab-df-convert:hover {\n",
       "      background-color: #434B5C;\n",
       "      box-shadow: 0px 1px 3px 1px rgba(0, 0, 0, 0.15);\n",
       "      filter: drop-shadow(0px 1px 2px rgba(0, 0, 0, 0.3));\n",
       "      fill: #FFFFFF;\n",
       "    }\n",
       "  </style>\n",
       "\n",
       "    <script>\n",
       "      const buttonEl =\n",
       "        document.querySelector('#df-a567f221-70b9-4459-aa53-76cc7a99cef8 button.colab-df-convert');\n",
       "      buttonEl.style.display =\n",
       "        google.colab.kernel.accessAllowed ? 'block' : 'none';\n",
       "\n",
       "      async function convertToInteractive(key) {\n",
       "        const element = document.querySelector('#df-a567f221-70b9-4459-aa53-76cc7a99cef8');\n",
       "        const dataTable =\n",
       "          await google.colab.kernel.invokeFunction('convertToInteractive',\n",
       "                                                    [key], {});\n",
       "        if (!dataTable) return;\n",
       "\n",
       "        const docLinkHtml = 'Like what you see? Visit the ' +\n",
       "          '<a target=\"_blank\" href=https://colab.research.google.com/notebooks/data_table.ipynb>data table notebook</a>'\n",
       "          + ' to learn more about interactive tables.';\n",
       "        element.innerHTML = '';\n",
       "        dataTable['output_type'] = 'display_data';\n",
       "        await google.colab.output.renderOutput(dataTable, element);\n",
       "        const docLink = document.createElement('div');\n",
       "        docLink.innerHTML = docLinkHtml;\n",
       "        element.appendChild(docLink);\n",
       "      }\n",
       "    </script>\n",
       "  </div>\n",
       "\n",
       "\n",
       "<div id=\"df-ae43645b-8dd1-4c7a-9cf6-5b8cbc48d8eb\">\n",
       "  <button class=\"colab-df-quickchart\" onclick=\"quickchart('df-ae43645b-8dd1-4c7a-9cf6-5b8cbc48d8eb')\"\n",
       "            title=\"Suggest charts\"\n",
       "            style=\"display:none;\">\n",
       "\n",
       "<svg xmlns=\"http://www.w3.org/2000/svg\" height=\"24px\"viewBox=\"0 0 24 24\"\n",
       "     width=\"24px\">\n",
       "    <g>\n",
       "        <path d=\"M19 3H5c-1.1 0-2 .9-2 2v14c0 1.1.9 2 2 2h14c1.1 0 2-.9 2-2V5c0-1.1-.9-2-2-2zM9 17H7v-7h2v7zm4 0h-2V7h2v10zm4 0h-2v-4h2v4z\"/>\n",
       "    </g>\n",
       "</svg>\n",
       "  </button>\n",
       "\n",
       "<style>\n",
       "  .colab-df-quickchart {\n",
       "      --bg-color: #E8F0FE;\n",
       "      --fill-color: #1967D2;\n",
       "      --hover-bg-color: #E2EBFA;\n",
       "      --hover-fill-color: #174EA6;\n",
       "      --disabled-fill-color: #AAA;\n",
       "      --disabled-bg-color: #DDD;\n",
       "  }\n",
       "\n",
       "  [theme=dark] .colab-df-quickchart {\n",
       "      --bg-color: #3B4455;\n",
       "      --fill-color: #D2E3FC;\n",
       "      --hover-bg-color: #434B5C;\n",
       "      --hover-fill-color: #FFFFFF;\n",
       "      --disabled-bg-color: #3B4455;\n",
       "      --disabled-fill-color: #666;\n",
       "  }\n",
       "\n",
       "  .colab-df-quickchart {\n",
       "    background-color: var(--bg-color);\n",
       "    border: none;\n",
       "    border-radius: 50%;\n",
       "    cursor: pointer;\n",
       "    display: none;\n",
       "    fill: var(--fill-color);\n",
       "    height: 32px;\n",
       "    padding: 0;\n",
       "    width: 32px;\n",
       "  }\n",
       "\n",
       "  .colab-df-quickchart:hover {\n",
       "    background-color: var(--hover-bg-color);\n",
       "    box-shadow: 0 1px 2px rgba(60, 64, 67, 0.3), 0 1px 3px 1px rgba(60, 64, 67, 0.15);\n",
       "    fill: var(--button-hover-fill-color);\n",
       "  }\n",
       "\n",
       "  .colab-df-quickchart-complete:disabled,\n",
       "  .colab-df-quickchart-complete:disabled:hover {\n",
       "    background-color: var(--disabled-bg-color);\n",
       "    fill: var(--disabled-fill-color);\n",
       "    box-shadow: none;\n",
       "  }\n",
       "\n",
       "  .colab-df-spinner {\n",
       "    border: 2px solid var(--fill-color);\n",
       "    border-color: transparent;\n",
       "    border-bottom-color: var(--fill-color);\n",
       "    animation:\n",
       "      spin 1s steps(1) infinite;\n",
       "  }\n",
       "\n",
       "  @keyframes spin {\n",
       "    0% {\n",
       "      border-color: transparent;\n",
       "      border-bottom-color: var(--fill-color);\n",
       "      border-left-color: var(--fill-color);\n",
       "    }\n",
       "    20% {\n",
       "      border-color: transparent;\n",
       "      border-left-color: var(--fill-color);\n",
       "      border-top-color: var(--fill-color);\n",
       "    }\n",
       "    30% {\n",
       "      border-color: transparent;\n",
       "      border-left-color: var(--fill-color);\n",
       "      border-top-color: var(--fill-color);\n",
       "      border-right-color: var(--fill-color);\n",
       "    }\n",
       "    40% {\n",
       "      border-color: transparent;\n",
       "      border-right-color: var(--fill-color);\n",
       "      border-top-color: var(--fill-color);\n",
       "    }\n",
       "    60% {\n",
       "      border-color: transparent;\n",
       "      border-right-color: var(--fill-color);\n",
       "    }\n",
       "    80% {\n",
       "      border-color: transparent;\n",
       "      border-right-color: var(--fill-color);\n",
       "      border-bottom-color: var(--fill-color);\n",
       "    }\n",
       "    90% {\n",
       "      border-color: transparent;\n",
       "      border-bottom-color: var(--fill-color);\n",
       "    }\n",
       "  }\n",
       "</style>\n",
       "\n",
       "  <script>\n",
       "    async function quickchart(key) {\n",
       "      const quickchartButtonEl =\n",
       "        document.querySelector('#' + key + ' button');\n",
       "      quickchartButtonEl.disabled = true;  // To prevent multiple clicks.\n",
       "      quickchartButtonEl.classList.add('colab-df-spinner');\n",
       "      try {\n",
       "        const charts = await google.colab.kernel.invokeFunction(\n",
       "            'suggestCharts', [key], {});\n",
       "      } catch (error) {\n",
       "        console.error('Error during call to suggestCharts:', error);\n",
       "      }\n",
       "      quickchartButtonEl.classList.remove('colab-df-spinner');\n",
       "      quickchartButtonEl.classList.add('colab-df-quickchart-complete');\n",
       "    }\n",
       "    (() => {\n",
       "      let quickchartButtonEl =\n",
       "        document.querySelector('#df-ae43645b-8dd1-4c7a-9cf6-5b8cbc48d8eb button');\n",
       "      quickchartButtonEl.style.display =\n",
       "        google.colab.kernel.accessAllowed ? 'block' : 'none';\n",
       "    })();\n",
       "  </script>\n",
       "</div>\n",
       "    </div>\n",
       "  </div>\n"
      ],
      "text/plain": [
       "                                  min         max\n",
       "Ticker        ticker_type                        \n",
       "AAPL          US           1980-12-12  2024-04-25\n",
       "ACN           EU           2001-07-19  2024-04-25\n",
       "AMZN          US           1997-05-15  2024-04-24\n",
       "ASML          EU           1995-03-15  2024-04-25\n",
       "AVGO          US           2009-08-06  2024-04-25\n",
       "BHARTIARTL.NS INDIA        2002-07-01  2024-04-25\n",
       "BRK-B         US           1996-05-09  2024-04-25\n",
       "CDI.PA        EU           1992-01-27  2024-04-25\n",
       "GOOG          US           2004-08-19  2024-04-25\n",
       "HDB           INDIA        2001-07-20  2024-04-25\n",
       "HINDUNILVR.NS INDIA        1996-01-01  2024-04-25\n",
       "IBN           INDIA        2000-03-28  2024-04-25\n",
       "IDEXY         EU           2010-01-20  2024-04-25\n",
       "INFY          INDIA        1999-03-11  2024-04-25\n",
       "ITC.NS        INDIA        1996-01-01  2024-04-25\n",
       "JPM           US           1980-03-17  2024-04-25\n",
       "LICI.NS       INDIA        2022-05-17  2024-04-25\n",
       "LLY           US           1972-06-01  2024-04-25\n",
       "LT.NS         INDIA        2002-07-01  2024-04-25\n",
       "MC.PA         EU           2000-01-03  2024-04-25\n",
       "META          US           2012-05-18  2024-04-25\n",
       "MSFT          US           1986-03-13  2024-04-25\n",
       "NVDA          US           1999-01-22  2024-04-25\n",
       "NVO           EU           1981-04-30  2024-04-25\n",
       "OR.PA         EU           2000-01-03  2024-04-25\n",
       "RELIANCE.NS   INDIA        1996-01-01  2024-04-25\n",
       "RMS.PA        EU           2000-01-03  2024-04-25\n",
       "SAP           EU           1995-09-18  2024-04-25\n",
       "SBIN.NS       INDIA        1996-01-01  2024-04-25\n",
       "SIE.DE        EU           1996-11-08  2024-04-25\n",
       "TCS.NS        INDIA        2002-08-12  2024-04-25\n",
       "TTE           EU           1991-10-25  2024-04-25\n",
       "V             US           2008-03-19  2024-04-25"
      ]
     },
     "metadata": {},
     "output_type": "display_data"
    }
   ],
   "source": [
    "stocks_df.groupby(['Ticker','ticker_type']).Date.agg(['min','max'])"
   ]
  },
  {
   "cell_type": "code",
   "execution_count": null,
   "metadata": {},
   "outputs": [
    {
     "data": {
      "text/plain": [
       "Year  ticker_type\n",
       "2020  EU             1.245388\n",
       "      INDIA          1.101896\n",
       "      US             1.484070\n",
       "2021  EU             1.582170\n",
       "      INDIA          1.546424\n",
       "      US             1.797571\n",
       "2022  EU             1.191169\n",
       "      INDIA          1.379889\n",
       "      US             1.182379\n",
       "2023  EU             1.246533\n",
       "      INDIA          1.201110\n",
       "      US             1.203253\n",
       "2024  EU             1.650721\n",
       "      INDIA          1.305762\n",
       "      US             2.153187\n",
       "Name: growth_365d, dtype: float64"
      ]
     },
     "metadata": {},
     "output_type": "display_data"
    }
   ],
   "source": [
    "#  average growth 365days\n",
    "stocks_df[stocks_df.Year>=2020].groupby(by=['Year','ticker_type']).growth_365d.mean()"
   ]
  },
  {
   "cell_type": "code",
   "execution_count": null,
   "metadata": {},
   "outputs": [],
   "source": [
    "stocks_df['Date'] = pd.to_datetime(stocks_df['Date'])"
   ]
  },
  {
   "cell_type": "code",
   "execution_count": null,
   "metadata": {},
   "outputs": [
    {
     "name": "stdout",
     "output_type": "stream",
     "text": [
      "<class 'pandas.core.frame.DataFrame'>\n",
      "Index: 182423 entries, 3490 to 220889\n",
      "Data columns (total 25 columns):\n",
      " #   Column                        Non-Null Count   Dtype         \n",
      "---  ------                        --------------   -----         \n",
      " 0   Open                          182423 non-null  float64       \n",
      " 1   High                          182423 non-null  float64       \n",
      " 2   Low                           182423 non-null  float64       \n",
      " 3   Close                         182423 non-null  float64       \n",
      " 4   Adj Close                     182423 non-null  float64       \n",
      " 5   Volume                        182423 non-null  int64         \n",
      " 6   Ticker                        182423 non-null  object        \n",
      " 7   Year                          182423 non-null  int32         \n",
      " 8   Month                         182423 non-null  int32         \n",
      " 9   Weekday                       182423 non-null  int32         \n",
      " 10  Date                          182423 non-null  datetime64[ns]\n",
      " 11  growth_1d                     182408 non-null  float64       \n",
      " 12  growth_3d                     182378 non-null  float64       \n",
      " 13  growth_7d                     182318 non-null  float64       \n",
      " 14  growth_30d                    181973 non-null  float64       \n",
      " 15  growth_90d                    181073 non-null  float64       \n",
      " 16  growth_365d                   176663 non-null  float64       \n",
      " 17  growth_future_5d              182258 non-null  float64       \n",
      " 18  SMA10                         182288 non-null  float64       \n",
      " 19  SMA20                         182138 non-null  float64       \n",
      " 20  growing_moving_average        182423 non-null  int64         \n",
      " 21  high_minus_low_relative       182423 non-null  float64       \n",
      " 22  volatility                    181988 non-null  float64       \n",
      " 23  is_positive_growth_5d_future  182423 non-null  int64         \n",
      " 24  ticker_type                   182423 non-null  object        \n",
      "dtypes: datetime64[ns](1), float64(16), int32(3), int64(3), object(2)\n",
      "memory usage: 34.1+ MB\n"
     ]
    }
   ],
   "source": [
    "# filtering only on stats after 2000\n",
    "stocks_df[stocks_df.Date>='2000-01-01'].info()"
   ]
  },
  {
   "cell_type": "code",
   "execution_count": null,
   "metadata": {},
   "outputs": [
    {
     "data": {
      "application/vnd.google.colaboratory.intrinsic+json": {
       "type": "dataframe"
      },
      "text/html": [
       "\n",
       "  <div id=\"df-ccfe7d88-a6c7-4c2e-98d2-523d6fa8d0bf\" class=\"colab-df-container\">\n",
       "    <div>\n",
       "<style scoped>\n",
       "    .dataframe tbody tr th:only-of-type {\n",
       "        vertical-align: middle;\n",
       "    }\n",
       "\n",
       "    .dataframe tbody tr th {\n",
       "        vertical-align: top;\n",
       "    }\n",
       "\n",
       "    .dataframe thead th {\n",
       "        text-align: right;\n",
       "    }\n",
       "</style>\n",
       "<table border=\"1\" class=\"dataframe\">\n",
       "  <thead>\n",
       "    <tr style=\"text-align: right;\">\n",
       "      <th></th>\n",
       "      <th>Open</th>\n",
       "      <th>High</th>\n",
       "      <th>Low</th>\n",
       "      <th>Close</th>\n",
       "      <th>Adj Close</th>\n",
       "      <th>Volume</th>\n",
       "      <th>Ticker</th>\n",
       "      <th>Year</th>\n",
       "      <th>Month</th>\n",
       "      <th>Weekday</th>\n",
       "      <th>...</th>\n",
       "      <th>growth_90d</th>\n",
       "      <th>growth_365d</th>\n",
       "      <th>growth_future_5d</th>\n",
       "      <th>SMA10</th>\n",
       "      <th>SMA20</th>\n",
       "      <th>growing_moving_average</th>\n",
       "      <th>high_minus_low_relative</th>\n",
       "      <th>volatility</th>\n",
       "      <th>is_positive_growth_5d_future</th>\n",
       "      <th>ticker_type</th>\n",
       "    </tr>\n",
       "  </thead>\n",
       "  <tbody>\n",
       "    <tr>\n",
       "      <th>194903</th>\n",
       "      <td>925.000000</td>\n",
       "      <td>984.450012</td>\n",
       "      <td>924.000000</td>\n",
       "      <td>970.599976</td>\n",
       "      <td>970.599976</td>\n",
       "      <td>4863536</td>\n",
       "      <td>LICI.NS</td>\n",
       "      <td>2024</td>\n",
       "      <td>4</td>\n",
       "      <td>0</td>\n",
       "      <td>...</td>\n",
       "      <td>1.599113</td>\n",
       "      <td>1.556710</td>\n",
       "      <td>1.026891</td>\n",
       "      <td>906.085004</td>\n",
       "      <td>953.950003</td>\n",
       "      <td>0</td>\n",
       "      <td>0.062281</td>\n",
       "      <td>1034.237352</td>\n",
       "      <td>1</td>\n",
       "      <td>INDIA</td>\n",
       "    </tr>\n",
       "    <tr>\n",
       "      <th>201224</th>\n",
       "      <td>17.889999</td>\n",
       "      <td>17.920000</td>\n",
       "      <td>17.500000</td>\n",
       "      <td>17.580000</td>\n",
       "      <td>17.580000</td>\n",
       "      <td>14601600</td>\n",
       "      <td>INFY</td>\n",
       "      <td>2024</td>\n",
       "      <td>4</td>\n",
       "      <td>0</td>\n",
       "      <td>...</td>\n",
       "      <td>1.003998</td>\n",
       "      <td>1.024508</td>\n",
       "      <td>1.015927</td>\n",
       "      <td>18.156000</td>\n",
       "      <td>18.777500</td>\n",
       "      <td>0</td>\n",
       "      <td>0.023891</td>\n",
       "      <td>13.940634</td>\n",
       "      <td>1</td>\n",
       "      <td>INDIA</td>\n",
       "    </tr>\n",
       "    <tr>\n",
       "      <th>208338</th>\n",
       "      <td>429.100006</td>\n",
       "      <td>431.350006</td>\n",
       "      <td>425.750000</td>\n",
       "      <td>426.700012</td>\n",
       "      <td>426.700012</td>\n",
       "      <td>9382308</td>\n",
       "      <td>ITC.NS</td>\n",
       "      <td>2024</td>\n",
       "      <td>4</td>\n",
       "      <td>0</td>\n",
       "      <td>...</td>\n",
       "      <td>0.987044</td>\n",
       "      <td>1.314436</td>\n",
       "      <td>1.005625</td>\n",
       "      <td>422.235004</td>\n",
       "      <td>416.537502</td>\n",
       "      <td>1</td>\n",
       "      <td>0.013124</td>\n",
       "      <td>130.246651</td>\n",
       "      <td>1</td>\n",
       "      <td>INDIA</td>\n",
       "    </tr>\n",
       "    <tr>\n",
       "      <th>215453</th>\n",
       "      <td>2270.000000</td>\n",
       "      <td>2295.000000</td>\n",
       "      <td>2262.000000</td>\n",
       "      <td>2285.899902</td>\n",
       "      <td>2285.899902</td>\n",
       "      <td>1427873</td>\n",
       "      <td>HINDUNILVR.NS</td>\n",
       "      <td>2024</td>\n",
       "      <td>4</td>\n",
       "      <td>0</td>\n",
       "      <td>...</td>\n",
       "      <td>0.917590</td>\n",
       "      <td>0.894051</td>\n",
       "      <td>0.992585</td>\n",
       "      <td>2266.539990</td>\n",
       "      <td>2327.240015</td>\n",
       "      <td>0</td>\n",
       "      <td>0.014436</td>\n",
       "      <td>1049.970071</td>\n",
       "      <td>0</td>\n",
       "      <td>INDIA</td>\n",
       "    </tr>\n",
       "    <tr>\n",
       "      <th>220873</th>\n",
       "      <td>3780.850098</td>\n",
       "      <td>3851.850098</td>\n",
       "      <td>3780.850098</td>\n",
       "      <td>3838.000000</td>\n",
       "      <td>3838.000000</td>\n",
       "      <td>1905190</td>\n",
       "      <td>LT.NS</td>\n",
       "      <td>2024</td>\n",
       "      <td>4</td>\n",
       "      <td>0</td>\n",
       "      <td>...</td>\n",
       "      <td>1.257886</td>\n",
       "      <td>2.010850</td>\n",
       "      <td>0.992144</td>\n",
       "      <td>3626.594971</td>\n",
       "      <td>3618.109985</td>\n",
       "      <td>1</td>\n",
       "      <td>0.018499</td>\n",
       "      <td>2188.619806</td>\n",
       "      <td>0</td>\n",
       "      <td>INDIA</td>\n",
       "    </tr>\n",
       "  </tbody>\n",
       "</table>\n",
       "<p>5 rows × 25 columns</p>\n",
       "</div>\n",
       "    <div class=\"colab-df-buttons\">\n",
       "\n",
       "  <div class=\"colab-df-container\">\n",
       "    <button class=\"colab-df-convert\" onclick=\"convertToInteractive('df-ccfe7d88-a6c7-4c2e-98d2-523d6fa8d0bf')\"\n",
       "            title=\"Convert this dataframe to an interactive table.\"\n",
       "            style=\"display:none;\">\n",
       "\n",
       "  <svg xmlns=\"http://www.w3.org/2000/svg\" height=\"24px\" viewBox=\"0 -960 960 960\">\n",
       "    <path d=\"M120-120v-720h720v720H120Zm60-500h600v-160H180v160Zm220 220h160v-160H400v160Zm0 220h160v-160H400v160ZM180-400h160v-160H180v160Zm440 0h160v-160H620v160ZM180-180h160v-160H180v160Zm440 0h160v-160H620v160Z\"/>\n",
       "  </svg>\n",
       "    </button>\n",
       "\n",
       "  <style>\n",
       "    .colab-df-container {\n",
       "      display:flex;\n",
       "      gap: 12px;\n",
       "    }\n",
       "\n",
       "    .colab-df-convert {\n",
       "      background-color: #E8F0FE;\n",
       "      border: none;\n",
       "      border-radius: 50%;\n",
       "      cursor: pointer;\n",
       "      display: none;\n",
       "      fill: #1967D2;\n",
       "      height: 32px;\n",
       "      padding: 0 0 0 0;\n",
       "      width: 32px;\n",
       "    }\n",
       "\n",
       "    .colab-df-convert:hover {\n",
       "      background-color: #E2EBFA;\n",
       "      box-shadow: 0px 1px 2px rgba(60, 64, 67, 0.3), 0px 1px 3px 1px rgba(60, 64, 67, 0.15);\n",
       "      fill: #174EA6;\n",
       "    }\n",
       "\n",
       "    .colab-df-buttons div {\n",
       "      margin-bottom: 4px;\n",
       "    }\n",
       "\n",
       "    [theme=dark] .colab-df-convert {\n",
       "      background-color: #3B4455;\n",
       "      fill: #D2E3FC;\n",
       "    }\n",
       "\n",
       "    [theme=dark] .colab-df-convert:hover {\n",
       "      background-color: #434B5C;\n",
       "      box-shadow: 0px 1px 3px 1px rgba(0, 0, 0, 0.15);\n",
       "      filter: drop-shadow(0px 1px 2px rgba(0, 0, 0, 0.3));\n",
       "      fill: #FFFFFF;\n",
       "    }\n",
       "  </style>\n",
       "\n",
       "    <script>\n",
       "      const buttonEl =\n",
       "        document.querySelector('#df-ccfe7d88-a6c7-4c2e-98d2-523d6fa8d0bf button.colab-df-convert');\n",
       "      buttonEl.style.display =\n",
       "        google.colab.kernel.accessAllowed ? 'block' : 'none';\n",
       "\n",
       "      async function convertToInteractive(key) {\n",
       "        const element = document.querySelector('#df-ccfe7d88-a6c7-4c2e-98d2-523d6fa8d0bf');\n",
       "        const dataTable =\n",
       "          await google.colab.kernel.invokeFunction('convertToInteractive',\n",
       "                                                    [key], {});\n",
       "        if (!dataTable) return;\n",
       "\n",
       "        const docLinkHtml = 'Like what you see? Visit the ' +\n",
       "          '<a target=\"_blank\" href=https://colab.research.google.com/notebooks/data_table.ipynb>data table notebook</a>'\n",
       "          + ' to learn more about interactive tables.';\n",
       "        element.innerHTML = '';\n",
       "        dataTable['output_type'] = 'display_data';\n",
       "        await google.colab.output.renderOutput(dataTable, element);\n",
       "        const docLink = document.createElement('div');\n",
       "        docLink.innerHTML = docLinkHtml;\n",
       "        element.appendChild(docLink);\n",
       "      }\n",
       "    </script>\n",
       "  </div>\n",
       "\n",
       "\n",
       "<div id=\"df-5f73d462-b852-46ef-b937-ac97878e751c\">\n",
       "  <button class=\"colab-df-quickchart\" onclick=\"quickchart('df-5f73d462-b852-46ef-b937-ac97878e751c')\"\n",
       "            title=\"Suggest charts\"\n",
       "            style=\"display:none;\">\n",
       "\n",
       "<svg xmlns=\"http://www.w3.org/2000/svg\" height=\"24px\"viewBox=\"0 0 24 24\"\n",
       "     width=\"24px\">\n",
       "    <g>\n",
       "        <path d=\"M19 3H5c-1.1 0-2 .9-2 2v14c0 1.1.9 2 2 2h14c1.1 0 2-.9 2-2V5c0-1.1-.9-2-2-2zM9 17H7v-7h2v7zm4 0h-2V7h2v10zm4 0h-2v-4h2v4z\"/>\n",
       "    </g>\n",
       "</svg>\n",
       "  </button>\n",
       "\n",
       "<style>\n",
       "  .colab-df-quickchart {\n",
       "      --bg-color: #E8F0FE;\n",
       "      --fill-color: #1967D2;\n",
       "      --hover-bg-color: #E2EBFA;\n",
       "      --hover-fill-color: #174EA6;\n",
       "      --disabled-fill-color: #AAA;\n",
       "      --disabled-bg-color: #DDD;\n",
       "  }\n",
       "\n",
       "  [theme=dark] .colab-df-quickchart {\n",
       "      --bg-color: #3B4455;\n",
       "      --fill-color: #D2E3FC;\n",
       "      --hover-bg-color: #434B5C;\n",
       "      --hover-fill-color: #FFFFFF;\n",
       "      --disabled-bg-color: #3B4455;\n",
       "      --disabled-fill-color: #666;\n",
       "  }\n",
       "\n",
       "  .colab-df-quickchart {\n",
       "    background-color: var(--bg-color);\n",
       "    border: none;\n",
       "    border-radius: 50%;\n",
       "    cursor: pointer;\n",
       "    display: none;\n",
       "    fill: var(--fill-color);\n",
       "    height: 32px;\n",
       "    padding: 0;\n",
       "    width: 32px;\n",
       "  }\n",
       "\n",
       "  .colab-df-quickchart:hover {\n",
       "    background-color: var(--hover-bg-color);\n",
       "    box-shadow: 0 1px 2px rgba(60, 64, 67, 0.3), 0 1px 3px 1px rgba(60, 64, 67, 0.15);\n",
       "    fill: var(--button-hover-fill-color);\n",
       "  }\n",
       "\n",
       "  .colab-df-quickchart-complete:disabled,\n",
       "  .colab-df-quickchart-complete:disabled:hover {\n",
       "    background-color: var(--disabled-bg-color);\n",
       "    fill: var(--disabled-fill-color);\n",
       "    box-shadow: none;\n",
       "  }\n",
       "\n",
       "  .colab-df-spinner {\n",
       "    border: 2px solid var(--fill-color);\n",
       "    border-color: transparent;\n",
       "    border-bottom-color: var(--fill-color);\n",
       "    animation:\n",
       "      spin 1s steps(1) infinite;\n",
       "  }\n",
       "\n",
       "  @keyframes spin {\n",
       "    0% {\n",
       "      border-color: transparent;\n",
       "      border-bottom-color: var(--fill-color);\n",
       "      border-left-color: var(--fill-color);\n",
       "    }\n",
       "    20% {\n",
       "      border-color: transparent;\n",
       "      border-left-color: var(--fill-color);\n",
       "      border-top-color: var(--fill-color);\n",
       "    }\n",
       "    30% {\n",
       "      border-color: transparent;\n",
       "      border-left-color: var(--fill-color);\n",
       "      border-top-color: var(--fill-color);\n",
       "      border-right-color: var(--fill-color);\n",
       "    }\n",
       "    40% {\n",
       "      border-color: transparent;\n",
       "      border-right-color: var(--fill-color);\n",
       "      border-top-color: var(--fill-color);\n",
       "    }\n",
       "    60% {\n",
       "      border-color: transparent;\n",
       "      border-right-color: var(--fill-color);\n",
       "    }\n",
       "    80% {\n",
       "      border-color: transparent;\n",
       "      border-right-color: var(--fill-color);\n",
       "      border-bottom-color: var(--fill-color);\n",
       "    }\n",
       "    90% {\n",
       "      border-color: transparent;\n",
       "      border-bottom-color: var(--fill-color);\n",
       "    }\n",
       "  }\n",
       "</style>\n",
       "\n",
       "  <script>\n",
       "    async function quickchart(key) {\n",
       "      const quickchartButtonEl =\n",
       "        document.querySelector('#' + key + ' button');\n",
       "      quickchartButtonEl.disabled = true;  // To prevent multiple clicks.\n",
       "      quickchartButtonEl.classList.add('colab-df-spinner');\n",
       "      try {\n",
       "        const charts = await google.colab.kernel.invokeFunction(\n",
       "            'suggestCharts', [key], {});\n",
       "      } catch (error) {\n",
       "        console.error('Error during call to suggestCharts:', error);\n",
       "      }\n",
       "      quickchartButtonEl.classList.remove('colab-df-spinner');\n",
       "      quickchartButtonEl.classList.add('colab-df-quickchart-complete');\n",
       "    }\n",
       "    (() => {\n",
       "      let quickchartButtonEl =\n",
       "        document.querySelector('#df-5f73d462-b852-46ef-b937-ac97878e751c button');\n",
       "      quickchartButtonEl.style.display =\n",
       "        google.colab.kernel.accessAllowed ? 'block' : 'none';\n",
       "    })();\n",
       "  </script>\n",
       "</div>\n",
       "    </div>\n",
       "  </div>\n"
      ],
      "text/plain": [
       "               Open         High          Low        Close    Adj Close  \\\n",
       "194903   925.000000   984.450012   924.000000   970.599976   970.599976   \n",
       "201224    17.889999    17.920000    17.500000    17.580000    17.580000   \n",
       "208338   429.100006   431.350006   425.750000   426.700012   426.700012   \n",
       "215453  2270.000000  2295.000000  2262.000000  2285.899902  2285.899902   \n",
       "220873  3780.850098  3851.850098  3780.850098  3838.000000  3838.000000   \n",
       "\n",
       "          Volume         Ticker  Year  Month  Weekday  ... growth_90d  \\\n",
       "194903   4863536        LICI.NS  2024      4        0  ...   1.599113   \n",
       "201224  14601600           INFY  2024      4        0  ...   1.003998   \n",
       "208338   9382308         ITC.NS  2024      4        0  ...   0.987044   \n",
       "215453   1427873  HINDUNILVR.NS  2024      4        0  ...   0.917590   \n",
       "220873   1905190          LT.NS  2024      4        0  ...   1.257886   \n",
       "\n",
       "        growth_365d  growth_future_5d        SMA10        SMA20  \\\n",
       "194903     1.556710          1.026891   906.085004   953.950003   \n",
       "201224     1.024508          1.015927    18.156000    18.777500   \n",
       "208338     1.314436          1.005625   422.235004   416.537502   \n",
       "215453     0.894051          0.992585  2266.539990  2327.240015   \n",
       "220873     2.010850          0.992144  3626.594971  3618.109985   \n",
       "\n",
       "        growing_moving_average  high_minus_low_relative   volatility  \\\n",
       "194903                       0                 0.062281  1034.237352   \n",
       "201224                       0                 0.023891    13.940634   \n",
       "208338                       1                 0.013124   130.246651   \n",
       "215453                       0                 0.014436  1049.970071   \n",
       "220873                       1                 0.018499  2188.619806   \n",
       "\n",
       "        is_positive_growth_5d_future  ticker_type  \n",
       "194903                             1        INDIA  \n",
       "201224                             1        INDIA  \n",
       "208338                             1        INDIA  \n",
       "215453                             0        INDIA  \n",
       "220873                             0        INDIA  \n",
       "\n",
       "[5 rows x 25 columns]"
      ]
     },
     "metadata": {},
     "output_type": "display_data"
    }
   ],
   "source": [
    "stocks_df[stocks_df.Date=='2024-04-01'].tail()"
   ]
  },
  {
   "cell_type": "markdown",
   "metadata": {},
   "source": [
    "## Module 2 Homework\n",
    "\n",
    "In this homework, we're going to combine data from various sources to process it in Pandas and generate additional fields.\n",
    "\n",
    "If not stated otherwise, please use the [Colab](https://github.com/DataTalksClub/stock-markets-analytics-zoomcamp/blob/main/02-dataframe-analysis/Module2_Colab_Working_with_the_data.ipynb) covered at the livestream to re-use the code snippets."
   ]
  },
  {
   "cell_type": "markdown",
   "metadata": {},
   "source": [
    "### Imports and Installs"
   ]
  },
  {
   "cell_type": "code",
   "execution_count": 1,
   "metadata": {},
   "outputs": [
    {
     "name": "stdout",
     "output_type": "stream",
     "text": [
      "\u001b[33mWARNING: The directory '/Users/jschulle/Library/Caches/pip' or its parent directory is not owned or is not writable by the current user. The cache has been disabled. Check the permissions and owner of that directory. If executing pip with sudo, you should use sudo's -H flag.\u001b[0m\u001b[33m\n",
      "\u001b[0mRequirement already satisfied: yfinance in /Users/jschulle/miniconda3/envs/berlin/lib/python3.10/site-packages (0.2.36)\n",
      "Requirement already satisfied: pandas>=1.3.0 in /Users/jschulle/miniconda3/envs/berlin/lib/python3.10/site-packages (from yfinance) (2.0.3)\n",
      "Requirement already satisfied: numpy>=1.16.5 in /Users/jschulle/miniconda3/envs/berlin/lib/python3.10/site-packages (from yfinance) (1.24.3)\n",
      "Requirement already satisfied: requests>=2.31 in /Users/jschulle/miniconda3/envs/berlin/lib/python3.10/site-packages (from yfinance) (2.31.0)\n",
      "Requirement already satisfied: multitasking>=0.0.7 in /Users/jschulle/miniconda3/envs/berlin/lib/python3.10/site-packages (from yfinance) (0.0.11)\n",
      "Requirement already satisfied: lxml>=4.9.1 in /Users/jschulle/miniconda3/envs/berlin/lib/python3.10/site-packages (from yfinance) (4.9.2)\n",
      "Requirement already satisfied: appdirs>=1.4.4 in /Users/jschulle/miniconda3/envs/berlin/lib/python3.10/site-packages (from yfinance) (1.4.4)\n",
      "Requirement already satisfied: pytz>=2022.5 in /Users/jschulle/miniconda3/envs/berlin/lib/python3.10/site-packages (from yfinance) (2024.1)\n",
      "Requirement already satisfied: frozendict>=2.3.4 in /Users/jschulle/miniconda3/envs/berlin/lib/python3.10/site-packages (from yfinance) (2.4.0)\n",
      "Requirement already satisfied: peewee>=3.16.2 in /Users/jschulle/miniconda3/envs/berlin/lib/python3.10/site-packages (from yfinance) (3.17.1)\n",
      "Requirement already satisfied: beautifulsoup4>=4.11.1 in /Users/jschulle/miniconda3/envs/berlin/lib/python3.10/site-packages (from yfinance) (4.12.2)\n",
      "Requirement already satisfied: html5lib>=1.1 in /Users/jschulle/miniconda3/envs/berlin/lib/python3.10/site-packages (from yfinance) (1.1)\n",
      "Requirement already satisfied: soupsieve>1.2 in /Users/jschulle/miniconda3/envs/berlin/lib/python3.10/site-packages (from beautifulsoup4>=4.11.1->yfinance) (2.3.2.post1)\n",
      "Requirement already satisfied: six>=1.9 in /Users/jschulle/miniconda3/envs/berlin/lib/python3.10/site-packages (from html5lib>=1.1->yfinance) (1.16.0)\n",
      "Requirement already satisfied: webencodings in /Users/jschulle/miniconda3/envs/berlin/lib/python3.10/site-packages (from html5lib>=1.1->yfinance) (0.5.1)\n",
      "Requirement already satisfied: python-dateutil>=2.8.2 in /Users/jschulle/miniconda3/envs/berlin/lib/python3.10/site-packages (from pandas>=1.3.0->yfinance) (2.8.2)\n",
      "Requirement already satisfied: tzdata>=2022.1 in /Users/jschulle/miniconda3/envs/berlin/lib/python3.10/site-packages (from pandas>=1.3.0->yfinance) (2023.3)\n",
      "Requirement already satisfied: charset-normalizer<4,>=2 in /Users/jschulle/miniconda3/envs/berlin/lib/python3.10/site-packages (from requests>=2.31->yfinance) (3.1.0)\n",
      "Requirement already satisfied: idna<4,>=2.5 in /Users/jschulle/miniconda3/envs/berlin/lib/python3.10/site-packages (from requests>=2.31->yfinance) (3.4)\n",
      "Requirement already satisfied: urllib3<3,>=1.21.1 in /Users/jschulle/miniconda3/envs/berlin/lib/python3.10/site-packages (from requests>=2.31->yfinance) (1.26.15)\n",
      "Requirement already satisfied: certifi>=2017.4.17 in /Users/jschulle/miniconda3/envs/berlin/lib/python3.10/site-packages (from requests>=2.31->yfinance) (2024.2.2)\n"
     ]
    }
   ],
   "source": [
    "!pip install yfinance"
   ]
  },
  {
   "cell_type": "code",
   "execution_count": 2,
   "metadata": {},
   "outputs": [],
   "source": [
    "# IMPORTS\n",
    "import numpy as np\n",
    "import pandas as pd\n",
    "\n",
    "#Fin Data Sources\n",
    "import yfinance as yf\n",
    "import pandas_datareader as pdr\n",
    "\n",
    "#Data viz\n",
    "import plotly.graph_objs as go\n",
    "import plotly.express as px\n",
    "\n",
    "import time\n",
    "from datetime import date\n",
    "\n",
    "# for graphs\n",
    "import matplotlib.pyplot as plt"
   ]
  },
  {
   "cell_type": "markdown",
   "metadata": {},
   "source": [
    "---\n",
    "### Question 1: IPO Filings Web Scraping and Data Processing\n",
    "\n",
    "**What's the total sum ($m) of 2023 filings that happened on Fridays?**\n",
    "\n",
    "Re-use the [Code Snippet 1] example to get the data from web for this endpoint: https://stockanalysis.com/ipos/filings/\n",
    "Convert the 'Filing Date' to datetime(), 'Shares Offered' to float64 (if '-' is encountered, populate with NaNs).\n",
    "Define a new field 'Avg_price' based on the \"Price Range\", which equals to NaN if no price is specified, to the price (if only one number is provided), or to the average of 2 prices (if a range is given).\n",
    "You may be inspired by the function `extract_numbers()` in [Code Snippet 4], or you can write your own function to \"parse\" a string.\n",
    "Define a column \"Shares_offered_value\", which equals to \"Shares Offered\" * \"Avg_price\" (when both columns are defined; otherwise, it's NaN)\n",
    "\n",
    "Find the total sum in $m (millions of USD, closest INTEGER number) for all filings during 2023, which happened on Fridays (`Date.dt.dayofweek()==4`). You should see 32 records in total, 25 of it is not null.\n",
    "\n",
    "(additional: you can read about [S-1 IPO filing](https://www.dfinsolutions.com/knowledge-hub/thought-leadership/knowledge-resources/what-s-1-ipo-filing) to understand the context)\n"
   ]
  },
  {
   "cell_type": "code",
   "execution_count": 3,
   "metadata": {},
   "outputs": [],
   "source": [
    "import pandas as pd\n",
    "import requests\n",
    "\n",
    "headers = {\n",
    "    'User-Agent': 'Mozilla/5.0 (Windows NT 10.0; Win64; x64) AppleWebKit/537.36 (KHTML, like Gecko) Chrome/58.0.3029.110 Safari/537.3',\n",
    "}\n",
    "\n",
    "url = \"https://stockanalysis.com/ipos/filings/\"\n",
    "response = requests.get(url, headers=headers)\n",
    "\n",
    "ipo_dfs = pd.read_html(response.text)"
   ]
  },
  {
   "cell_type": "code",
   "execution_count": 4,
   "metadata": {},
   "outputs": [],
   "source": [
    "ipos_filings_df = ipo_dfs[0]"
   ]
  },
  {
   "cell_type": "code",
   "execution_count": 5,
   "metadata": {},
   "outputs": [
    {
     "name": "stdout",
     "output_type": "stream",
     "text": [
      "Number of features: 5\n",
      "Number of samples: 326\n",
      "Number of missing values: 0\n",
      "<class 'pandas.core.frame.DataFrame'>\n",
      "RangeIndex: 326 entries, 0 to 325\n",
      "Data columns (total 5 columns):\n",
      " #   Column          Non-Null Count  Dtype \n",
      "---  ------          --------------  ----- \n",
      " 0   Filing Date     326 non-null    object\n",
      " 1   Symbol          326 non-null    object\n",
      " 2   Company Name    326 non-null    object\n",
      " 3   Price Range     326 non-null    object\n",
      " 4   Shares Offered  326 non-null    object\n",
      "dtypes: object(5)\n",
      "memory usage: 12.9+ KB\n"
     ]
    },
    {
     "data": {
      "text/html": [
       "<div>\n",
       "<style scoped>\n",
       "    .dataframe tbody tr th:only-of-type {\n",
       "        vertical-align: middle;\n",
       "    }\n",
       "\n",
       "    .dataframe tbody tr th {\n",
       "        vertical-align: top;\n",
       "    }\n",
       "\n",
       "    .dataframe thead th {\n",
       "        text-align: right;\n",
       "    }\n",
       "</style>\n",
       "<table border=\"1\" class=\"dataframe\">\n",
       "  <thead>\n",
       "    <tr style=\"text-align: right;\">\n",
       "      <th></th>\n",
       "      <th>Filing Date</th>\n",
       "      <th>Symbol</th>\n",
       "      <th>Company Name</th>\n",
       "      <th>Price Range</th>\n",
       "      <th>Shares Offered</th>\n",
       "    </tr>\n",
       "  </thead>\n",
       "  <tbody>\n",
       "    <tr>\n",
       "      <th>0</th>\n",
       "      <td>May 3, 2024</td>\n",
       "      <td>TBN</td>\n",
       "      <td>Tamboran Resources Corporation</td>\n",
       "      <td>-</td>\n",
       "      <td>-</td>\n",
       "    </tr>\n",
       "    <tr>\n",
       "      <th>1</th>\n",
       "      <td>Apr 29, 2024</td>\n",
       "      <td>HWEC</td>\n",
       "      <td>HW Electro Co., Ltd.</td>\n",
       "      <td>$3.00</td>\n",
       "      <td>3750000</td>\n",
       "    </tr>\n",
       "    <tr>\n",
       "      <th>2</th>\n",
       "      <td>Apr 29, 2024</td>\n",
       "      <td>DTSQ</td>\n",
       "      <td>DT Cloud Star Acquisition Corporation</td>\n",
       "      <td>$10.00</td>\n",
       "      <td>6000000</td>\n",
       "    </tr>\n",
       "    <tr>\n",
       "      <th>3</th>\n",
       "      <td>Apr 26, 2024</td>\n",
       "      <td>EURK</td>\n",
       "      <td>Eureka Acquisition Corp</td>\n",
       "      <td>$10.00</td>\n",
       "      <td>5000000</td>\n",
       "    </tr>\n",
       "    <tr>\n",
       "      <th>4</th>\n",
       "      <td>Apr 26, 2024</td>\n",
       "      <td>HDL</td>\n",
       "      <td>Super Hi International Holding Ltd.</td>\n",
       "      <td>-</td>\n",
       "      <td>-</td>\n",
       "    </tr>\n",
       "  </tbody>\n",
       "</table>\n",
       "</div>"
      ],
      "text/plain": [
       "    Filing Date Symbol                           Company Name Price Range  \\\n",
       "0   May 3, 2024    TBN         Tamboran Resources Corporation           -   \n",
       "1  Apr 29, 2024   HWEC                   HW Electro Co., Ltd.       $3.00   \n",
       "2  Apr 29, 2024   DTSQ  DT Cloud Star Acquisition Corporation      $10.00   \n",
       "3  Apr 26, 2024   EURK                Eureka Acquisition Corp      $10.00   \n",
       "4  Apr 26, 2024    HDL    Super Hi International Holding Ltd.           -   \n",
       "\n",
       "  Shares Offered  \n",
       "0              -  \n",
       "1        3750000  \n",
       "2        6000000  \n",
       "3        5000000  \n",
       "4              -  "
      ]
     },
     "execution_count": 5,
     "metadata": {},
     "output_type": "execute_result"
    }
   ],
   "source": [
    "print(\"Number of features: {}\".format(ipos_filings_df.shape[1]))\n",
    "print(\"Number of samples: {}\".format(ipos_filings_df.shape[0]))\n",
    "print(\"Number of missing values: {}\".format(ipos_filings_df.isnull().sum().sum()))\n",
    "ipos_filings_df.isnull().sum()\n",
    "ipos_filings_df.info()\n",
    "ipos_filings_df.head(5)"
   ]
  },
  {
   "cell_type": "code",
   "execution_count": 6,
   "metadata": {},
   "outputs": [],
   "source": [
    "# Convert the 'Filing Date' to datetime() \n",
    "ipos_filings_df['Filing Date'] = pd.to_datetime(ipos_filings_df['Filing Date'],format='mixed')\n",
    "\n",
    "# Convert the 'Shares Offered' to float64 (if '-' is encountered, populate with NaNs).\n",
    "ipos_filings_df['Shares Offered'] = ipos_filings_df['Shares Offered'].str.replace('-', 'nan').astype(float)\n"
   ]
  },
  {
   "cell_type": "code",
   "execution_count": 7,
   "metadata": {},
   "outputs": [
    {
     "name": "stderr",
     "output_type": "stream",
     "text": [
      "/Users/jschulle/miniconda3/envs/berlin/lib/python3.10/site-packages/numpy/core/fromnumeric.py:3464: RuntimeWarning: Mean of empty slice.\n",
      "  return _methods._mean(a, axis=axis, dtype=dtype,\n"
     ]
    }
   ],
   "source": [
    "# Define a new field 'Avg_price' in the ipos_filings dataframe based on the \"Price Range\", which equals to NaN if no price is specified, to the price (if only one number is provided), or to the average of 2 prices (if a range is given). You may be inspired by the below function `extract_numbers()` or you can write your own function to \"parse\" a string.\n",
    "import pandas as pd\n",
    "import numpy as np\n",
    "import re\n",
    "\n",
    "def extract_numbers(price_range):\n",
    "    numbers = re.findall(r'\\d+\\.?\\d*', price_range)\n",
    "    return [float(n) for n in numbers]\n",
    "\n",
    "ipos_filings_df['Avg_price'] = ipos_filings_df['Price Range'].apply(lambda x: np.nan if pd.isna(x) else np.mean(extract_numbers(x)) if '-' in str(x) else extract_numbers(x)[0])\n"
   ]
  },
  {
   "cell_type": "code",
   "execution_count": 8,
   "metadata": {},
   "outputs": [],
   "source": [
    "# Define a column \"Shares_offered_value\", which equals to \"Shares Offered\" * \"Avg_price\" (when both columns are defined; otherwise, it's NaN)\n",
    "ipos_filings_df['Shares_offered_value'] = ipos_filings_df['Shares Offered'] * ipos_filings_df['Avg_price']"
   ]
  },
  {
   "cell_type": "markdown",
   "metadata": {},
   "source": [
    "### Question 1: Answer"
   ]
  },
  {
   "cell_type": "code",
   "execution_count": 9,
   "metadata": {},
   "outputs": [
    {
     "name": "stdout",
     "output_type": "stream",
     "text": [
      "Total IPO value for 2023 Fridays: 285 million\n",
      "Total IPO count for 2023 Fridays: 32\n",
      "Total NULL IPO count for 2023 Fridays: 7\n"
     ]
    }
   ],
   "source": [
    "# Find the number of filings during 2023, which happened on Fridays (`Date.dt.dayofweek()==4`).  \n",
    "# You should see 32 records in total, 25 of it is not null.\n",
    "\n",
    "# Filter for 2023 Fridays\n",
    "friday_filings = ipos_filings_df[\n",
    "    (ipos_filings_df['Filing Date'].dt.year == 2023) &  \n",
    "    (ipos_filings_df['Filing Date'].dt.dayofweek == 4)\n",
    "]\n",
    "\n",
    "# Calculate total value  \n",
    "total_value = friday_filings['Shares_offered_value'].sum()\n",
    "\n",
    "# Format output\n",
    "print(f\"Total IPO value for 2023 Fridays: {int(total_value/1e6)} million\")\n",
    "print(f\"Total IPO count for 2023 Fridays: {friday_filings['Filing Date'].count()}\")\n",
    "print(f\"Total NULL IPO count for 2023 Fridays: {friday_filings['Shares_offered_value'].isnull().sum()}\")\n"
   ]
  },
  {
   "cell_type": "markdown",
   "metadata": {},
   "source": [
    "---\n",
    "### Question 2:  IPOs \"Fixed days hold\" strategy\n",
    "\n",
    "\n",
    "**Find the optimal number of days X (between 1 and 30), where 75% quantile growth is the highest?**\n",
    "\n",
    "\n",
    "Reuse [Code Snippet 1] to retrieve the list of IPOs from 2023 and 2024 (from URLs: https://stockanalysis.com/ipos/2023/ and https://stockanalysis.com/ipos/2024/). \n",
    "Get all OHLCV daily prices for all stocks with an \"IPO date\" before March 1, 2024 (\"< 2024-03-01\") - 184 tickers (without 'RYZB'). Please remove 'RYZB', as it is no longer available on Yahoo Finance. \n",
    "\n",
    "Sometimes you may need to adjust the symbol name (e.g., 'IBAC' on stockanalysis.com -> 'IBACU' on Yahoo Finance) to locate OHLCV prices for all stocks.\n",
    "Some of the tickers like 'DYCQ' and 'LEGT' were on the market less than 30 days (11 and 21 days, respectively). Let's leave them in the dataset; it just means that you couldn't hold them for more days than they were listed.\n",
    "\n",
    "Let's assume you managed to buy a new stock (listed on IPO) on the first day at the [Adj Close] price]. Your strategy is to hold for exactly X full days (where X is between 1 and 30) and sell at the \"Adj. Close\" price in X days (e.g., if X=1, you sell on the next day).\n",
    "Find X, when the 75% quantile growth (among 185 investments) is the highest. \n",
    "\n",
    "HINTs:\n",
    "* You can generate 30 additional columns: growth_future_1d ... growth_future_30d, join that with the table of min_dates (first day when each stock has data on Yahoo Finance), and perform vector operations on the resulting dataset.\n",
    "* You can use the `DataFrame.describe()` function to get mean, min, max, 25-50-75% quantiles.\n",
    "\n",
    "\n",
    "Additional: \n",
    "* You can also ensure that the mean and 50th percentile (median) investment returns are negative for most X values, implying a wager for a \"lucky\" investor who might be in the top 25%.\n",
    "* What's your recommendation: Do you suggest pursuing this strategy for an optimal X?\n"
   ]
  },
  {
   "cell_type": "code",
   "execution_count": 10,
   "metadata": {},
   "outputs": [],
   "source": [
    "import pandas as pd\n",
    "import requests\n",
    "\n",
    "headers = {\n",
    "    'User-Agent': 'Mozilla/5.0 (Windows NT 10.0; Win64; x64) AppleWebKit/537.36 (KHTML, like Gecko) Chrome/58.0.3029.110 Safari/537.3',\n",
    "}\n",
    "\n",
    "url = \"https://stockanalysis.com/ipos/2023/\"\n",
    "response = requests.get(url, headers=headers)\n",
    "\n",
    "ipos_2023 = pd.read_html(response.text)\n",
    "df_ipos_2023 = ipos_2023[0]\n",
    "\n",
    "url = \"https://stockanalysis.com/ipos/2024/\"\n",
    "response = requests.get(url, headers=headers)\n",
    "\n",
    "ipos_2024 = pd.read_html(response.text)\n",
    "df_ipos_2024 = ipos_2024[0]\n"
   ]
  },
  {
   "cell_type": "code",
   "execution_count": 11,
   "metadata": {},
   "outputs": [
    {
     "name": "stdout",
     "output_type": "stream",
     "text": [
      "<class 'pandas.core.frame.DataFrame'>\n",
      "RangeIndex: 154 entries, 0 to 153\n",
      "Data columns (total 6 columns):\n",
      " #   Column        Non-Null Count  Dtype \n",
      "---  ------        --------------  ----- \n",
      " 0   IPO Date      154 non-null    object\n",
      " 1   Symbol        154 non-null    object\n",
      " 2   Company Name  154 non-null    object\n",
      " 3   IPO Price     154 non-null    object\n",
      " 4   Current       154 non-null    object\n",
      " 5   Return        154 non-null    object\n",
      "dtypes: object(6)\n",
      "memory usage: 7.3+ KB\n"
     ]
    }
   ],
   "source": [
    "df_ipos_2023.info()"
   ]
  },
  {
   "cell_type": "code",
   "execution_count": 12,
   "metadata": {},
   "outputs": [
    {
     "name": "stdout",
     "output_type": "stream",
     "text": [
      "<class 'pandas.core.frame.DataFrame'>\n",
      "RangeIndex: 64 entries, 0 to 63\n",
      "Data columns (total 6 columns):\n",
      " #   Column        Non-Null Count  Dtype \n",
      "---  ------        --------------  ----- \n",
      " 0   IPO Date      64 non-null     object\n",
      " 1   Symbol        64 non-null     object\n",
      " 2   Company Name  64 non-null     object\n",
      " 3   IPO Price     64 non-null     object\n",
      " 4   Current       64 non-null     object\n",
      " 5   Return        64 non-null     object\n",
      "dtypes: object(6)\n",
      "memory usage: 3.1+ KB\n"
     ]
    }
   ],
   "source": [
    "df_ipos_2024.info()"
   ]
  },
  {
   "cell_type": "code",
   "execution_count": 13,
   "metadata": {},
   "outputs": [
    {
     "data": {
      "text/html": [
       "<div>\n",
       "<style scoped>\n",
       "    .dataframe tbody tr th:only-of-type {\n",
       "        vertical-align: middle;\n",
       "    }\n",
       "\n",
       "    .dataframe tbody tr th {\n",
       "        vertical-align: top;\n",
       "    }\n",
       "\n",
       "    .dataframe thead th {\n",
       "        text-align: right;\n",
       "    }\n",
       "</style>\n",
       "<table border=\"1\" class=\"dataframe\">\n",
       "  <thead>\n",
       "    <tr style=\"text-align: right;\">\n",
       "      <th></th>\n",
       "      <th>IPO Date</th>\n",
       "      <th>Symbol</th>\n",
       "      <th>Company Name</th>\n",
       "      <th>IPO Price</th>\n",
       "      <th>Current</th>\n",
       "      <th>Return</th>\n",
       "    </tr>\n",
       "  </thead>\n",
       "  <tbody>\n",
       "    <tr>\n",
       "      <th>0</th>\n",
       "      <td>May 1, 2024</td>\n",
       "      <td>VIK</td>\n",
       "      <td>Viking Holdings Ltd.</td>\n",
       "      <td>$24.00</td>\n",
       "      <td>$28.94</td>\n",
       "      <td>20.58%</td>\n",
       "    </tr>\n",
       "    <tr>\n",
       "      <th>1</th>\n",
       "      <td>Apr 26, 2024</td>\n",
       "      <td>ZONE</td>\n",
       "      <td>CleanCore Solutions, Inc.</td>\n",
       "      <td>$4.00</td>\n",
       "      <td>$3.18</td>\n",
       "      <td>-21.50%</td>\n",
       "    </tr>\n",
       "    <tr>\n",
       "      <th>2</th>\n",
       "      <td>Apr 25, 2024</td>\n",
       "      <td>RBRK</td>\n",
       "      <td>Rubrik, Inc.</td>\n",
       "      <td>$32.00</td>\n",
       "      <td>$34.87</td>\n",
       "      <td>8.97%</td>\n",
       "    </tr>\n",
       "    <tr>\n",
       "      <th>3</th>\n",
       "      <td>Apr 25, 2024</td>\n",
       "      <td>LOAR</td>\n",
       "      <td>Loar Holdings Inc.</td>\n",
       "      <td>$28.00</td>\n",
       "      <td>$51.10</td>\n",
       "      <td>82.50%</td>\n",
       "    </tr>\n",
       "    <tr>\n",
       "      <th>4</th>\n",
       "      <td>Apr 25, 2024</td>\n",
       "      <td>MRX</td>\n",
       "      <td>Marex Group plc</td>\n",
       "      <td>$19.00</td>\n",
       "      <td>$19.15</td>\n",
       "      <td>0.79%</td>\n",
       "    </tr>\n",
       "    <tr>\n",
       "      <th>...</th>\n",
       "      <td>...</td>\n",
       "      <td>...</td>\n",
       "      <td>...</td>\n",
       "      <td>...</td>\n",
       "      <td>...</td>\n",
       "      <td>...</td>\n",
       "    </tr>\n",
       "    <tr>\n",
       "      <th>213</th>\n",
       "      <td>Jan 25, 2023</td>\n",
       "      <td>QSG</td>\n",
       "      <td>QuantaSing Group Ltd</td>\n",
       "      <td>$12.50</td>\n",
       "      <td>$3.20</td>\n",
       "      <td>-74.48%</td>\n",
       "    </tr>\n",
       "    <tr>\n",
       "      <th>214</th>\n",
       "      <td>Jan 20, 2023</td>\n",
       "      <td>CVKD</td>\n",
       "      <td>Cadrenal Therapeutics, Inc.</td>\n",
       "      <td>$5.00</td>\n",
       "      <td>$0.50</td>\n",
       "      <td>-90.00%</td>\n",
       "    </tr>\n",
       "    <tr>\n",
       "      <th>215</th>\n",
       "      <td>Jan 13, 2023</td>\n",
       "      <td>SKWD</td>\n",
       "      <td>Skyward Specialty Insurance Group, Inc.</td>\n",
       "      <td>$15.00</td>\n",
       "      <td>$37.60</td>\n",
       "      <td>150.67%</td>\n",
       "    </tr>\n",
       "    <tr>\n",
       "      <th>216</th>\n",
       "      <td>Jan 13, 2023</td>\n",
       "      <td>ISRL</td>\n",
       "      <td>Israel Acquisitions Corp</td>\n",
       "      <td>$10.00</td>\n",
       "      <td>$10.92</td>\n",
       "      <td>9.20%</td>\n",
       "    </tr>\n",
       "    <tr>\n",
       "      <th>217</th>\n",
       "      <td>Jan 13, 2023</td>\n",
       "      <td>MGOL</td>\n",
       "      <td>MGO Global Inc.</td>\n",
       "      <td>$5.00</td>\n",
       "      <td>$0.22</td>\n",
       "      <td>-95.58%</td>\n",
       "    </tr>\n",
       "  </tbody>\n",
       "</table>\n",
       "<p>218 rows × 6 columns</p>\n",
       "</div>"
      ],
      "text/plain": [
       "         IPO Date Symbol                             Company Name IPO Price  \\\n",
       "0     May 1, 2024    VIK                     Viking Holdings Ltd.    $24.00   \n",
       "1    Apr 26, 2024   ZONE                CleanCore Solutions, Inc.     $4.00   \n",
       "2    Apr 25, 2024   RBRK                             Rubrik, Inc.    $32.00   \n",
       "3    Apr 25, 2024   LOAR                       Loar Holdings Inc.    $28.00   \n",
       "4    Apr 25, 2024    MRX                          Marex Group plc    $19.00   \n",
       "..            ...    ...                                      ...       ...   \n",
       "213  Jan 25, 2023    QSG                     QuantaSing Group Ltd    $12.50   \n",
       "214  Jan 20, 2023   CVKD              Cadrenal Therapeutics, Inc.     $5.00   \n",
       "215  Jan 13, 2023   SKWD  Skyward Specialty Insurance Group, Inc.    $15.00   \n",
       "216  Jan 13, 2023   ISRL                 Israel Acquisitions Corp    $10.00   \n",
       "217  Jan 13, 2023   MGOL                          MGO Global Inc.     $5.00   \n",
       "\n",
       "    Current   Return  \n",
       "0    $28.94   20.58%  \n",
       "1     $3.18  -21.50%  \n",
       "2    $34.87    8.97%  \n",
       "3    $51.10   82.50%  \n",
       "4    $19.15    0.79%  \n",
       "..      ...      ...  \n",
       "213   $3.20  -74.48%  \n",
       "214   $0.50  -90.00%  \n",
       "215  $37.60  150.67%  \n",
       "216  $10.92    9.20%  \n",
       "217   $0.22  -95.58%  \n",
       "\n",
       "[218 rows x 6 columns]"
      ]
     },
     "execution_count": 13,
     "metadata": {},
     "output_type": "execute_result"
    }
   ],
   "source": [
    "# \"stacking dataframes\"\n",
    "# pd.concat() is used to concatenate the DataFrames vertically.\n",
    "# The ignore_index=True parameter ensures that the resulting DataFrame has a new index,\n",
    "# ignoring the original indices of the input DataFrames.\n",
    "# The stacked_df now contains the concatenated DataFrame.\n",
    "stacked_ipos_df = pd.concat([df_ipos_2024, df_ipos_2023], ignore_index=True)\n",
    "stacked_ipos_df"
   ]
  },
  {
   "cell_type": "code",
   "execution_count": 14,
   "metadata": {},
   "outputs": [
    {
     "data": {
      "text/html": [
       "<div>\n",
       "<style scoped>\n",
       "    .dataframe tbody tr th:only-of-type {\n",
       "        vertical-align: middle;\n",
       "    }\n",
       "\n",
       "    .dataframe tbody tr th {\n",
       "        vertical-align: top;\n",
       "    }\n",
       "\n",
       "    .dataframe thead th {\n",
       "        text-align: right;\n",
       "    }\n",
       "</style>\n",
       "<table border=\"1\" class=\"dataframe\">\n",
       "  <thead>\n",
       "    <tr style=\"text-align: right;\">\n",
       "      <th></th>\n",
       "      <th>IPO Date</th>\n",
       "      <th>Symbol</th>\n",
       "      <th>Company Name</th>\n",
       "      <th>IPO Price</th>\n",
       "      <th>Current</th>\n",
       "      <th>Return</th>\n",
       "    </tr>\n",
       "  </thead>\n",
       "  <tbody>\n",
       "    <tr>\n",
       "      <th>0</th>\n",
       "      <td>2024-05-01</td>\n",
       "      <td>VIK</td>\n",
       "      <td>Viking Holdings Ltd.</td>\n",
       "      <td>$24.00</td>\n",
       "      <td>$28.94</td>\n",
       "      <td>20.58%</td>\n",
       "    </tr>\n",
       "    <tr>\n",
       "      <th>1</th>\n",
       "      <td>2024-04-26</td>\n",
       "      <td>ZONE</td>\n",
       "      <td>CleanCore Solutions, Inc.</td>\n",
       "      <td>$4.00</td>\n",
       "      <td>$3.18</td>\n",
       "      <td>-21.50%</td>\n",
       "    </tr>\n",
       "    <tr>\n",
       "      <th>2</th>\n",
       "      <td>2024-04-25</td>\n",
       "      <td>RBRK</td>\n",
       "      <td>Rubrik, Inc.</td>\n",
       "      <td>$32.00</td>\n",
       "      <td>$34.87</td>\n",
       "      <td>8.97%</td>\n",
       "    </tr>\n",
       "    <tr>\n",
       "      <th>3</th>\n",
       "      <td>2024-04-25</td>\n",
       "      <td>LOAR</td>\n",
       "      <td>Loar Holdings Inc.</td>\n",
       "      <td>$28.00</td>\n",
       "      <td>$51.10</td>\n",
       "      <td>82.50%</td>\n",
       "    </tr>\n",
       "    <tr>\n",
       "      <th>4</th>\n",
       "      <td>2024-04-25</td>\n",
       "      <td>MRX</td>\n",
       "      <td>Marex Group plc</td>\n",
       "      <td>$19.00</td>\n",
       "      <td>$19.15</td>\n",
       "      <td>0.79%</td>\n",
       "    </tr>\n",
       "  </tbody>\n",
       "</table>\n",
       "</div>"
      ],
      "text/plain": [
       "    IPO Date Symbol               Company Name IPO Price Current   Return\n",
       "0 2024-05-01    VIK       Viking Holdings Ltd.    $24.00  $28.94   20.58%\n",
       "1 2024-04-26   ZONE  CleanCore Solutions, Inc.     $4.00   $3.18  -21.50%\n",
       "2 2024-04-25   RBRK               Rubrik, Inc.    $32.00  $34.87    8.97%\n",
       "3 2024-04-25   LOAR         Loar Holdings Inc.    $28.00  $51.10   82.50%\n",
       "4 2024-04-25    MRX            Marex Group plc    $19.00  $19.15    0.79%"
      ]
     },
     "execution_count": 14,
     "metadata": {},
     "output_type": "execute_result"
    }
   ],
   "source": [
    "# Convert the 'IPO Date' to datetime() \n",
    "stacked_ipos_df['IPO Date'] = pd.to_datetime(stacked_ipos_df['IPO Date'],format='mixed')\n",
    "\n",
    "# Convert the 'Shares Offered' to float64 (if '-' is encountered, populate with NaNs).\n",
    "#ipos_filings_df['Shares Offered'] = ipos_filings_df['Shares Offered'].str.replace('-', 'nan').astype(float)\n",
    "stacked_ipos_df.head()"
   ]
  },
  {
   "cell_type": "code",
   "execution_count": 15,
   "metadata": {},
   "outputs": [
    {
     "data": {
      "text/plain": [
       "IPO Date        185\n",
       "Symbol          185\n",
       "Company Name    185\n",
       "IPO Price       185\n",
       "Current         185\n",
       "Return          185\n",
       "dtype: int64"
      ]
     },
     "execution_count": 15,
     "metadata": {},
     "output_type": "execute_result"
    }
   ],
   "source": [
    "# filter the stacked_ipos_df to 'IPO Date' prior to 2024-03-01\n",
    "stacked_ipos_df_filtered=stacked_ipos_df.loc[stacked_ipos_df['IPO Date']<\"2024-03-01\"]       \n",
    "stacked_ipos_df_filtered.count()"
   ]
  },
  {
   "cell_type": "code",
   "execution_count": 16,
   "metadata": {},
   "outputs": [
    {
     "data": {
      "text/plain": [
       "['SMXT',\n",
       " 'VHAI',\n",
       " 'CHRO',\n",
       " 'UMAC',\n",
       " 'TBBB',\n",
       " 'MGX',\n",
       " 'HLXB',\n",
       " 'TELO',\n",
       " 'KYTX',\n",
       " 'PMNT',\n",
       " 'AHR',\n",
       " 'ANRO',\n",
       " 'GUTS',\n",
       " 'AS',\n",
       " 'FBLG',\n",
       " 'BTSG',\n",
       " 'AVBP',\n",
       " 'HAO',\n",
       " 'CGON',\n",
       " 'YIBO',\n",
       " 'SUGP',\n",
       " 'JL',\n",
       " 'KSPI',\n",
       " 'PSBD',\n",
       " 'CCTG',\n",
       " 'SYNX',\n",
       " 'SDHC',\n",
       " 'ROMA',\n",
       " 'IROH',\n",
       " 'LGCB',\n",
       " 'ZKH',\n",
       " 'BAYA',\n",
       " 'INHD',\n",
       " 'AFJK',\n",
       " 'GSIW',\n",
       " 'FEBO',\n",
       " 'CLBR',\n",
       " 'ELAB',\n",
       " 'RR',\n",
       " 'DDC',\n",
       " 'SHIM',\n",
       " 'GLAC',\n",
       " 'SGN',\n",
       " 'HG',\n",
       " 'CRGX',\n",
       " 'ANSC',\n",
       " 'AITR',\n",
       " 'GVH',\n",
       " 'LXEO',\n",
       " 'PAPL',\n",
       " 'ATGL',\n",
       " 'MNR',\n",
       " 'WBUY',\n",
       " 'NCL',\n",
       " 'BIRK',\n",
       " 'GMM',\n",
       " 'PMEC',\n",
       " 'LRHC',\n",
       " 'GPAK',\n",
       " 'SPKL',\n",
       " 'QETA',\n",
       " 'MSS',\n",
       " 'ANL',\n",
       " 'SYRA',\n",
       " 'VSME',\n",
       " 'LRE',\n",
       " 'TURB',\n",
       " 'MDBH',\n",
       " 'KVYO',\n",
       " 'CART',\n",
       " 'DTCK',\n",
       " 'NMRA',\n",
       " 'ARM',\n",
       " 'SPPL',\n",
       " 'NWGL',\n",
       " 'SWIN',\n",
       " 'IVP',\n",
       " 'NNAG',\n",
       " 'SRM',\n",
       " 'SPGC',\n",
       " 'LQR',\n",
       " 'NRXS',\n",
       " 'FTEL',\n",
       " 'MIRA',\n",
       " 'PXDT',\n",
       " 'CTNT',\n",
       " 'HRYU',\n",
       " 'SRFM',\n",
       " 'PRZO',\n",
       " 'HYAC',\n",
       " 'KVAC',\n",
       " 'JNVR',\n",
       " 'ELWS',\n",
       " 'WRNT',\n",
       " 'TSBX',\n",
       " 'ODD',\n",
       " 'APGE',\n",
       " 'NETD',\n",
       " 'SGMT',\n",
       " 'BOWN',\n",
       " 'SXTP',\n",
       " 'PWM',\n",
       " 'VTMX',\n",
       " 'INTS',\n",
       " 'SVV',\n",
       " 'KGS',\n",
       " 'FIHL',\n",
       " 'GENK',\n",
       " 'BUJA',\n",
       " 'BOF',\n",
       " 'AZTR',\n",
       " 'CAVA',\n",
       " 'ESHA',\n",
       " 'ATMU',\n",
       " 'ATS',\n",
       " 'IPXX',\n",
       " 'CWD',\n",
       " 'SGE',\n",
       " 'SLRN',\n",
       " 'ALCY',\n",
       " 'KVUE',\n",
       " 'GODN',\n",
       " 'TRNR',\n",
       " 'AACT',\n",
       " 'JYD',\n",
       " 'USGO',\n",
       " 'UCAR',\n",
       " 'WLGS',\n",
       " 'TPET',\n",
       " 'TCJH',\n",
       " 'GDTC',\n",
       " 'VCIG',\n",
       " 'GDHG',\n",
       " 'ARBB',\n",
       " 'ISPR',\n",
       " 'MGIH',\n",
       " 'MWG',\n",
       " 'HSHP',\n",
       " 'SFWL',\n",
       " 'SYT',\n",
       " 'HKIT',\n",
       " 'CHSN',\n",
       " 'TBMC',\n",
       " 'HLP',\n",
       " 'ZJYL',\n",
       " 'TMTC',\n",
       " 'YGFGF',\n",
       " 'OAKU',\n",
       " 'BANL',\n",
       " 'OMH',\n",
       " 'MGRX',\n",
       " 'FORL',\n",
       " 'ICG',\n",
       " 'IZM',\n",
       " 'AESI',\n",
       " 'AIXI',\n",
       " 'SBXC',\n",
       " 'BMR',\n",
       " 'DIST',\n",
       " 'GXAI',\n",
       " 'MARX',\n",
       " 'BFRG',\n",
       " 'ENLT',\n",
       " 'MLYS',\n",
       " 'BLAC',\n",
       " 'NXT',\n",
       " 'HSAI',\n",
       " 'LSDI',\n",
       " 'LICN',\n",
       " 'GPCR',\n",
       " 'ASST',\n",
       " 'CETU',\n",
       " 'TXO',\n",
       " 'BREA',\n",
       " 'GNLX',\n",
       " 'QSG',\n",
       " 'CVKD',\n",
       " 'SKWD',\n",
       " 'ISRL',\n",
       " 'MGOL',\n",
       " 'PTHRF',\n",
       " 'JVSAU',\n",
       " 'DYCQU',\n",
       " 'LEGT-UN']"
      ]
     },
     "execution_count": 16,
     "metadata": {},
     "output_type": "execute_result"
    }
   ],
   "source": [
    "stock_lst=list(stacked_ipos_df_filtered['Symbol'])\n",
    "stock_lst.remove('RYZB')\n",
    "stock_lst.remove('LEGT')\n",
    "stock_lst.remove('JVSA')\n",
    "stock_lst.remove('DYCQ')\n",
    "stock_lst.remove('PTHR')\n",
    "stock_lst.append('PTHRF')\n",
    "stock_lst.append('JVSAU')\n",
    "stock_lst.append('DYCQU')\n",
    "stock_lst.append('LEGT-UN')\n",
    "stock_lst"
   ]
  },
  {
   "cell_type": "code",
   "execution_count": 17,
   "metadata": {},
   "outputs": [
    {
     "data": {
      "text/plain": [
       "184"
      ]
     },
     "execution_count": 17,
     "metadata": {},
     "output_type": "execute_result"
    }
   ],
   "source": [
    "len(stock_lst)"
   ]
  },
  {
   "cell_type": "code",
   "execution_count": 18,
   "metadata": {},
   "outputs": [
    {
     "name": "stderr",
     "output_type": "stream",
     "text": [
      "[*********************100%%**********************]  184 of 184 completed\n"
     ]
    },
    {
     "data": {
      "text/html": [
       "<div>\n",
       "<style scoped>\n",
       "    .dataframe tbody tr th:only-of-type {\n",
       "        vertical-align: middle;\n",
       "    }\n",
       "\n",
       "    .dataframe tbody tr th {\n",
       "        vertical-align: top;\n",
       "    }\n",
       "\n",
       "    .dataframe thead tr th {\n",
       "        text-align: left;\n",
       "    }\n",
       "\n",
       "    .dataframe thead tr:last-of-type th {\n",
       "        text-align: right;\n",
       "    }\n",
       "</style>\n",
       "<table border=\"1\" class=\"dataframe\">\n",
       "  <thead>\n",
       "    <tr>\n",
       "      <th>Price</th>\n",
       "      <th colspan=\"10\" halign=\"left\">Adj Close</th>\n",
       "      <th>...</th>\n",
       "      <th colspan=\"10\" halign=\"left\">Volume</th>\n",
       "    </tr>\n",
       "    <tr>\n",
       "      <th>Ticker</th>\n",
       "      <th>AACT</th>\n",
       "      <th>AESI</th>\n",
       "      <th>AFJK</th>\n",
       "      <th>AHR</th>\n",
       "      <th>AITR</th>\n",
       "      <th>AIXI</th>\n",
       "      <th>ALCY</th>\n",
       "      <th>ANL</th>\n",
       "      <th>ANRO</th>\n",
       "      <th>ANSC</th>\n",
       "      <th>...</th>\n",
       "      <th>VHAI</th>\n",
       "      <th>VSME</th>\n",
       "      <th>VTMX</th>\n",
       "      <th>WBUY</th>\n",
       "      <th>WLGS</th>\n",
       "      <th>WRNT</th>\n",
       "      <th>YGFGF</th>\n",
       "      <th>YIBO</th>\n",
       "      <th>ZJYL</th>\n",
       "      <th>ZKH</th>\n",
       "    </tr>\n",
       "    <tr>\n",
       "      <th>Date</th>\n",
       "      <th></th>\n",
       "      <th></th>\n",
       "      <th></th>\n",
       "      <th></th>\n",
       "      <th></th>\n",
       "      <th></th>\n",
       "      <th></th>\n",
       "      <th></th>\n",
       "      <th></th>\n",
       "      <th></th>\n",
       "      <th></th>\n",
       "      <th></th>\n",
       "      <th></th>\n",
       "      <th></th>\n",
       "      <th></th>\n",
       "      <th></th>\n",
       "      <th></th>\n",
       "      <th></th>\n",
       "      <th></th>\n",
       "      <th></th>\n",
       "      <th></th>\n",
       "    </tr>\n",
       "  </thead>\n",
       "  <tbody>\n",
       "    <tr>\n",
       "      <th>2009-12-29</th>\n",
       "      <td>NaN</td>\n",
       "      <td>NaN</td>\n",
       "      <td>NaN</td>\n",
       "      <td>NaN</td>\n",
       "      <td>NaN</td>\n",
       "      <td>NaN</td>\n",
       "      <td>NaN</td>\n",
       "      <td>NaN</td>\n",
       "      <td>NaN</td>\n",
       "      <td>NaN</td>\n",
       "      <td>...</td>\n",
       "      <td>NaN</td>\n",
       "      <td>NaN</td>\n",
       "      <td>NaN</td>\n",
       "      <td>NaN</td>\n",
       "      <td>NaN</td>\n",
       "      <td>NaN</td>\n",
       "      <td>NaN</td>\n",
       "      <td>NaN</td>\n",
       "      <td>NaN</td>\n",
       "      <td>NaN</td>\n",
       "    </tr>\n",
       "    <tr>\n",
       "      <th>2009-12-30</th>\n",
       "      <td>NaN</td>\n",
       "      <td>NaN</td>\n",
       "      <td>NaN</td>\n",
       "      <td>NaN</td>\n",
       "      <td>NaN</td>\n",
       "      <td>NaN</td>\n",
       "      <td>NaN</td>\n",
       "      <td>NaN</td>\n",
       "      <td>NaN</td>\n",
       "      <td>NaN</td>\n",
       "      <td>...</td>\n",
       "      <td>NaN</td>\n",
       "      <td>NaN</td>\n",
       "      <td>NaN</td>\n",
       "      <td>NaN</td>\n",
       "      <td>NaN</td>\n",
       "      <td>NaN</td>\n",
       "      <td>NaN</td>\n",
       "      <td>NaN</td>\n",
       "      <td>NaN</td>\n",
       "      <td>NaN</td>\n",
       "    </tr>\n",
       "    <tr>\n",
       "      <th>2009-12-31</th>\n",
       "      <td>NaN</td>\n",
       "      <td>NaN</td>\n",
       "      <td>NaN</td>\n",
       "      <td>NaN</td>\n",
       "      <td>NaN</td>\n",
       "      <td>NaN</td>\n",
       "      <td>NaN</td>\n",
       "      <td>NaN</td>\n",
       "      <td>NaN</td>\n",
       "      <td>NaN</td>\n",
       "      <td>...</td>\n",
       "      <td>NaN</td>\n",
       "      <td>NaN</td>\n",
       "      <td>NaN</td>\n",
       "      <td>NaN</td>\n",
       "      <td>NaN</td>\n",
       "      <td>NaN</td>\n",
       "      <td>NaN</td>\n",
       "      <td>NaN</td>\n",
       "      <td>NaN</td>\n",
       "      <td>NaN</td>\n",
       "    </tr>\n",
       "    <tr>\n",
       "      <th>2010-01-04</th>\n",
       "      <td>NaN</td>\n",
       "      <td>NaN</td>\n",
       "      <td>NaN</td>\n",
       "      <td>NaN</td>\n",
       "      <td>NaN</td>\n",
       "      <td>NaN</td>\n",
       "      <td>NaN</td>\n",
       "      <td>NaN</td>\n",
       "      <td>NaN</td>\n",
       "      <td>NaN</td>\n",
       "      <td>...</td>\n",
       "      <td>NaN</td>\n",
       "      <td>NaN</td>\n",
       "      <td>NaN</td>\n",
       "      <td>NaN</td>\n",
       "      <td>NaN</td>\n",
       "      <td>NaN</td>\n",
       "      <td>NaN</td>\n",
       "      <td>NaN</td>\n",
       "      <td>NaN</td>\n",
       "      <td>NaN</td>\n",
       "    </tr>\n",
       "    <tr>\n",
       "      <th>2010-01-05</th>\n",
       "      <td>NaN</td>\n",
       "      <td>NaN</td>\n",
       "      <td>NaN</td>\n",
       "      <td>NaN</td>\n",
       "      <td>NaN</td>\n",
       "      <td>NaN</td>\n",
       "      <td>NaN</td>\n",
       "      <td>NaN</td>\n",
       "      <td>NaN</td>\n",
       "      <td>NaN</td>\n",
       "      <td>...</td>\n",
       "      <td>NaN</td>\n",
       "      <td>NaN</td>\n",
       "      <td>NaN</td>\n",
       "      <td>NaN</td>\n",
       "      <td>NaN</td>\n",
       "      <td>NaN</td>\n",
       "      <td>NaN</td>\n",
       "      <td>NaN</td>\n",
       "      <td>NaN</td>\n",
       "      <td>NaN</td>\n",
       "    </tr>\n",
       "    <tr>\n",
       "      <th>...</th>\n",
       "      <td>...</td>\n",
       "      <td>...</td>\n",
       "      <td>...</td>\n",
       "      <td>...</td>\n",
       "      <td>...</td>\n",
       "      <td>...</td>\n",
       "      <td>...</td>\n",
       "      <td>...</td>\n",
       "      <td>...</td>\n",
       "      <td>...</td>\n",
       "      <td>...</td>\n",
       "      <td>...</td>\n",
       "      <td>...</td>\n",
       "      <td>...</td>\n",
       "      <td>...</td>\n",
       "      <td>...</td>\n",
       "      <td>...</td>\n",
       "      <td>...</td>\n",
       "      <td>...</td>\n",
       "      <td>...</td>\n",
       "      <td>...</td>\n",
       "    </tr>\n",
       "    <tr>\n",
       "      <th>2024-02-23</th>\n",
       "      <td>10.55</td>\n",
       "      <td>18.320000</td>\n",
       "      <td>10.175</td>\n",
       "      <td>13.365355</td>\n",
       "      <td>10.240</td>\n",
       "      <td>1.87</td>\n",
       "      <td>10.55</td>\n",
       "      <td>7.151</td>\n",
       "      <td>13.72</td>\n",
       "      <td>10.14</td>\n",
       "      <td>...</td>\n",
       "      <td>NaN</td>\n",
       "      <td>166900.0</td>\n",
       "      <td>125000.0</td>\n",
       "      <td>225200.0</td>\n",
       "      <td>107100.0</td>\n",
       "      <td>128200.0</td>\n",
       "      <td>0.0</td>\n",
       "      <td>35700.0</td>\n",
       "      <td>323200.0</td>\n",
       "      <td>54100.0</td>\n",
       "    </tr>\n",
       "    <tr>\n",
       "      <th>2024-02-26</th>\n",
       "      <td>10.54</td>\n",
       "      <td>18.330000</td>\n",
       "      <td>10.180</td>\n",
       "      <td>13.031221</td>\n",
       "      <td>10.240</td>\n",
       "      <td>1.90</td>\n",
       "      <td>10.56</td>\n",
       "      <td>7.150</td>\n",
       "      <td>15.31</td>\n",
       "      <td>10.15</td>\n",
       "      <td>...</td>\n",
       "      <td>2444600.0</td>\n",
       "      <td>326800.0</td>\n",
       "      <td>77300.0</td>\n",
       "      <td>137400.0</td>\n",
       "      <td>1060100.0</td>\n",
       "      <td>38900.0</td>\n",
       "      <td>0.0</td>\n",
       "      <td>20400.0</td>\n",
       "      <td>578500.0</td>\n",
       "      <td>42700.0</td>\n",
       "    </tr>\n",
       "    <tr>\n",
       "      <th>2024-02-27</th>\n",
       "      <td>10.55</td>\n",
       "      <td>19.809999</td>\n",
       "      <td>10.174</td>\n",
       "      <td>13.316218</td>\n",
       "      <td>10.242</td>\n",
       "      <td>2.43</td>\n",
       "      <td>10.56</td>\n",
       "      <td>7.150</td>\n",
       "      <td>14.36</td>\n",
       "      <td>10.15</td>\n",
       "      <td>...</td>\n",
       "      <td>10196900.0</td>\n",
       "      <td>963200.0</td>\n",
       "      <td>114200.0</td>\n",
       "      <td>161600.0</td>\n",
       "      <td>375400.0</td>\n",
       "      <td>147600.0</td>\n",
       "      <td>0.0</td>\n",
       "      <td>19300.0</td>\n",
       "      <td>218900.0</td>\n",
       "      <td>40000.0</td>\n",
       "    </tr>\n",
       "    <tr>\n",
       "      <th>2024-02-28</th>\n",
       "      <td>10.48</td>\n",
       "      <td>19.299999</td>\n",
       "      <td>10.180</td>\n",
       "      <td>13.404666</td>\n",
       "      <td>10.240</td>\n",
       "      <td>2.06</td>\n",
       "      <td>10.54</td>\n",
       "      <td>7.150</td>\n",
       "      <td>15.33</td>\n",
       "      <td>10.13</td>\n",
       "      <td>...</td>\n",
       "      <td>1554300.0</td>\n",
       "      <td>393900.0</td>\n",
       "      <td>165400.0</td>\n",
       "      <td>182900.0</td>\n",
       "      <td>266700.0</td>\n",
       "      <td>187200.0</td>\n",
       "      <td>0.0</td>\n",
       "      <td>9700.0</td>\n",
       "      <td>200900.0</td>\n",
       "      <td>55200.0</td>\n",
       "    </tr>\n",
       "    <tr>\n",
       "      <th>2024-02-29</th>\n",
       "      <td>10.53</td>\n",
       "      <td>18.860001</td>\n",
       "      <td>10.154</td>\n",
       "      <td>13.434148</td>\n",
       "      <td>10.240</td>\n",
       "      <td>1.98</td>\n",
       "      <td>10.55</td>\n",
       "      <td>7.150</td>\n",
       "      <td>15.40</td>\n",
       "      <td>10.14</td>\n",
       "      <td>...</td>\n",
       "      <td>1853300.0</td>\n",
       "      <td>177900.0</td>\n",
       "      <td>90100.0</td>\n",
       "      <td>88600.0</td>\n",
       "      <td>139100.0</td>\n",
       "      <td>62700.0</td>\n",
       "      <td>0.0</td>\n",
       "      <td>11400.0</td>\n",
       "      <td>120300.0</td>\n",
       "      <td>76600.0</td>\n",
       "    </tr>\n",
       "  </tbody>\n",
       "</table>\n",
       "<p>3566 rows × 1104 columns</p>\n",
       "</div>"
      ],
      "text/plain": [
       "Price      Adj Close                                                     \\\n",
       "Ticker          AACT       AESI    AFJK        AHR    AITR  AIXI   ALCY   \n",
       "Date                                                                      \n",
       "2009-12-29       NaN        NaN     NaN        NaN     NaN   NaN    NaN   \n",
       "2009-12-30       NaN        NaN     NaN        NaN     NaN   NaN    NaN   \n",
       "2009-12-31       NaN        NaN     NaN        NaN     NaN   NaN    NaN   \n",
       "2010-01-04       NaN        NaN     NaN        NaN     NaN   NaN    NaN   \n",
       "2010-01-05       NaN        NaN     NaN        NaN     NaN   NaN    NaN   \n",
       "...              ...        ...     ...        ...     ...   ...    ...   \n",
       "2024-02-23     10.55  18.320000  10.175  13.365355  10.240  1.87  10.55   \n",
       "2024-02-26     10.54  18.330000  10.180  13.031221  10.240  1.90  10.56   \n",
       "2024-02-27     10.55  19.809999  10.174  13.316218  10.242  2.43  10.56   \n",
       "2024-02-28     10.48  19.299999  10.180  13.404666  10.240  2.06  10.54   \n",
       "2024-02-29     10.53  18.860001  10.154  13.434148  10.240  1.98  10.55   \n",
       "\n",
       "Price                            ...      Volume                      \\\n",
       "Ticker        ANL   ANRO   ANSC  ...        VHAI      VSME      VTMX   \n",
       "Date                             ...                                   \n",
       "2009-12-29    NaN    NaN    NaN  ...         NaN       NaN       NaN   \n",
       "2009-12-30    NaN    NaN    NaN  ...         NaN       NaN       NaN   \n",
       "2009-12-31    NaN    NaN    NaN  ...         NaN       NaN       NaN   \n",
       "2010-01-04    NaN    NaN    NaN  ...         NaN       NaN       NaN   \n",
       "2010-01-05    NaN    NaN    NaN  ...         NaN       NaN       NaN   \n",
       "...           ...    ...    ...  ...         ...       ...       ...   \n",
       "2024-02-23  7.151  13.72  10.14  ...         NaN  166900.0  125000.0   \n",
       "2024-02-26  7.150  15.31  10.15  ...   2444600.0  326800.0   77300.0   \n",
       "2024-02-27  7.150  14.36  10.15  ...  10196900.0  963200.0  114200.0   \n",
       "2024-02-28  7.150  15.33  10.13  ...   1554300.0  393900.0  165400.0   \n",
       "2024-02-29  7.150  15.40  10.14  ...   1853300.0  177900.0   90100.0   \n",
       "\n",
       "Price                                                                        \n",
       "Ticker          WBUY       WLGS      WRNT YGFGF     YIBO      ZJYL      ZKH  \n",
       "Date                                                                         \n",
       "2009-12-29       NaN        NaN       NaN   NaN      NaN       NaN      NaN  \n",
       "2009-12-30       NaN        NaN       NaN   NaN      NaN       NaN      NaN  \n",
       "2009-12-31       NaN        NaN       NaN   NaN      NaN       NaN      NaN  \n",
       "2010-01-04       NaN        NaN       NaN   NaN      NaN       NaN      NaN  \n",
       "2010-01-05       NaN        NaN       NaN   NaN      NaN       NaN      NaN  \n",
       "...              ...        ...       ...   ...      ...       ...      ...  \n",
       "2024-02-23  225200.0   107100.0  128200.0   0.0  35700.0  323200.0  54100.0  \n",
       "2024-02-26  137400.0  1060100.0   38900.0   0.0  20400.0  578500.0  42700.0  \n",
       "2024-02-27  161600.0   375400.0  147600.0   0.0  19300.0  218900.0  40000.0  \n",
       "2024-02-28  182900.0   266700.0  187200.0   0.0   9700.0  200900.0  55200.0  \n",
       "2024-02-29   88600.0   139100.0   62700.0   0.0  11400.0  120300.0  76600.0  \n",
       "\n",
       "[3566 rows x 1104 columns]"
      ]
     },
     "execution_count": 18,
     "metadata": {},
     "output_type": "execute_result"
    }
   ],
   "source": [
    "end_dt = date(2024,3,1)\n",
    "df_OHLC=yf.download(stock_lst,end=end_dt,progress=True)\n",
    "df_OHLC"
   ]
  },
  {
   "cell_type": "code",
   "execution_count": 19,
   "metadata": {},
   "outputs": [
    {
     "data": {
      "text/html": [
       "<div>\n",
       "<style scoped>\n",
       "    .dataframe tbody tr th:only-of-type {\n",
       "        vertical-align: middle;\n",
       "    }\n",
       "\n",
       "    .dataframe tbody tr th {\n",
       "        vertical-align: top;\n",
       "    }\n",
       "\n",
       "    .dataframe thead th {\n",
       "        text-align: right;\n",
       "    }\n",
       "</style>\n",
       "<table border=\"1\" class=\"dataframe\">\n",
       "  <thead>\n",
       "    <tr style=\"text-align: right;\">\n",
       "      <th>Ticker</th>\n",
       "      <th>AACT</th>\n",
       "      <th>AESI</th>\n",
       "      <th>AFJK</th>\n",
       "      <th>AHR</th>\n",
       "      <th>AITR</th>\n",
       "      <th>AIXI</th>\n",
       "      <th>ALCY</th>\n",
       "      <th>ANL</th>\n",
       "      <th>ANRO</th>\n",
       "      <th>ANSC</th>\n",
       "      <th>...</th>\n",
       "      <th>VHAI</th>\n",
       "      <th>VSME</th>\n",
       "      <th>VTMX</th>\n",
       "      <th>WBUY</th>\n",
       "      <th>WLGS</th>\n",
       "      <th>WRNT</th>\n",
       "      <th>YGFGF</th>\n",
       "      <th>YIBO</th>\n",
       "      <th>ZJYL</th>\n",
       "      <th>ZKH</th>\n",
       "    </tr>\n",
       "    <tr>\n",
       "      <th>Date</th>\n",
       "      <th></th>\n",
       "      <th></th>\n",
       "      <th></th>\n",
       "      <th></th>\n",
       "      <th></th>\n",
       "      <th></th>\n",
       "      <th></th>\n",
       "      <th></th>\n",
       "      <th></th>\n",
       "      <th></th>\n",
       "      <th></th>\n",
       "      <th></th>\n",
       "      <th></th>\n",
       "      <th></th>\n",
       "      <th></th>\n",
       "      <th></th>\n",
       "      <th></th>\n",
       "      <th></th>\n",
       "      <th></th>\n",
       "      <th></th>\n",
       "      <th></th>\n",
       "    </tr>\n",
       "  </thead>\n",
       "  <tbody>\n",
       "    <tr>\n",
       "      <th>2024-01-18</th>\n",
       "      <td>10.465</td>\n",
       "      <td>16.587967</td>\n",
       "      <td>NaN</td>\n",
       "      <td>NaN</td>\n",
       "      <td>10.200</td>\n",
       "      <td>1.79</td>\n",
       "      <td>10.490</td>\n",
       "      <td>9.050</td>\n",
       "      <td>NaN</td>\n",
       "      <td>10.10</td>\n",
       "      <td>...</td>\n",
       "      <td>NaN</td>\n",
       "      <td>0.369</td>\n",
       "      <td>36.618332</td>\n",
       "      <td>0.399</td>\n",
       "      <td>0.700</td>\n",
       "      <td>0.350</td>\n",
       "      <td>1.530</td>\n",
       "      <td>NaN</td>\n",
       "      <td>5.2575</td>\n",
       "      <td>16.730000</td>\n",
       "    </tr>\n",
       "    <tr>\n",
       "      <th>2024-01-19</th>\n",
       "      <td>10.470</td>\n",
       "      <td>16.172773</td>\n",
       "      <td>NaN</td>\n",
       "      <td>NaN</td>\n",
       "      <td>10.210</td>\n",
       "      <td>1.61</td>\n",
       "      <td>10.490</td>\n",
       "      <td>8.989</td>\n",
       "      <td>NaN</td>\n",
       "      <td>10.11</td>\n",
       "      <td>...</td>\n",
       "      <td>NaN</td>\n",
       "      <td>0.330</td>\n",
       "      <td>37.434284</td>\n",
       "      <td>0.380</td>\n",
       "      <td>0.584</td>\n",
       "      <td>0.333</td>\n",
       "      <td>1.570</td>\n",
       "      <td>NaN</td>\n",
       "      <td>5.2500</td>\n",
       "      <td>16.100000</td>\n",
       "    </tr>\n",
       "    <tr>\n",
       "      <th>2024-01-22</th>\n",
       "      <td>10.480</td>\n",
       "      <td>16.933960</td>\n",
       "      <td>NaN</td>\n",
       "      <td>NaN</td>\n",
       "      <td>10.210</td>\n",
       "      <td>1.58</td>\n",
       "      <td>10.500</td>\n",
       "      <td>9.120</td>\n",
       "      <td>NaN</td>\n",
       "      <td>10.13</td>\n",
       "      <td>...</td>\n",
       "      <td>NaN</td>\n",
       "      <td>0.319</td>\n",
       "      <td>37.334778</td>\n",
       "      <td>0.395</td>\n",
       "      <td>0.590</td>\n",
       "      <td>0.330</td>\n",
       "      <td>1.420</td>\n",
       "      <td>NaN</td>\n",
       "      <td>5.3500</td>\n",
       "      <td>16.200001</td>\n",
       "    </tr>\n",
       "    <tr>\n",
       "      <th>2024-01-23</th>\n",
       "      <td>10.480</td>\n",
       "      <td>16.775791</td>\n",
       "      <td>10.160</td>\n",
       "      <td>NaN</td>\n",
       "      <td>10.210</td>\n",
       "      <td>1.69</td>\n",
       "      <td>10.600</td>\n",
       "      <td>9.120</td>\n",
       "      <td>NaN</td>\n",
       "      <td>10.13</td>\n",
       "      <td>...</td>\n",
       "      <td>NaN</td>\n",
       "      <td>0.328</td>\n",
       "      <td>37.205418</td>\n",
       "      <td>0.450</td>\n",
       "      <td>0.610</td>\n",
       "      <td>0.350</td>\n",
       "      <td>1.270</td>\n",
       "      <td>NaN</td>\n",
       "      <td>8.3450</td>\n",
       "      <td>16.809999</td>\n",
       "    </tr>\n",
       "    <tr>\n",
       "      <th>2024-01-24</th>\n",
       "      <td>10.480</td>\n",
       "      <td>16.627508</td>\n",
       "      <td>10.160</td>\n",
       "      <td>NaN</td>\n",
       "      <td>10.200</td>\n",
       "      <td>1.82</td>\n",
       "      <td>10.510</td>\n",
       "      <td>9.213</td>\n",
       "      <td>NaN</td>\n",
       "      <td>10.12</td>\n",
       "      <td>...</td>\n",
       "      <td>NaN</td>\n",
       "      <td>0.649</td>\n",
       "      <td>37.444237</td>\n",
       "      <td>0.460</td>\n",
       "      <td>0.600</td>\n",
       "      <td>0.348</td>\n",
       "      <td>1.250</td>\n",
       "      <td>NaN</td>\n",
       "      <td>10.5925</td>\n",
       "      <td>18.520000</td>\n",
       "    </tr>\n",
       "    <tr>\n",
       "      <th>2024-01-25</th>\n",
       "      <td>10.480</td>\n",
       "      <td>17.072359</td>\n",
       "      <td>10.170</td>\n",
       "      <td>NaN</td>\n",
       "      <td>10.200</td>\n",
       "      <td>1.88</td>\n",
       "      <td>10.560</td>\n",
       "      <td>9.213</td>\n",
       "      <td>NaN</td>\n",
       "      <td>10.12</td>\n",
       "      <td>...</td>\n",
       "      <td>NaN</td>\n",
       "      <td>0.487</td>\n",
       "      <td>38.568653</td>\n",
       "      <td>0.467</td>\n",
       "      <td>0.620</td>\n",
       "      <td>0.350</td>\n",
       "      <td>1.060</td>\n",
       "      <td>2.790</td>\n",
       "      <td>13.8055</td>\n",
       "      <td>19.040001</td>\n",
       "    </tr>\n",
       "    <tr>\n",
       "      <th>2024-01-26</th>\n",
       "      <td>10.490</td>\n",
       "      <td>17.240414</td>\n",
       "      <td>10.170</td>\n",
       "      <td>NaN</td>\n",
       "      <td>10.210</td>\n",
       "      <td>1.90</td>\n",
       "      <td>10.560</td>\n",
       "      <td>9.213</td>\n",
       "      <td>NaN</td>\n",
       "      <td>10.12</td>\n",
       "      <td>...</td>\n",
       "      <td>NaN</td>\n",
       "      <td>0.650</td>\n",
       "      <td>38.528854</td>\n",
       "      <td>0.445</td>\n",
       "      <td>0.660</td>\n",
       "      <td>0.345</td>\n",
       "      <td>0.858</td>\n",
       "      <td>2.720</td>\n",
       "      <td>8.9000</td>\n",
       "      <td>17.150000</td>\n",
       "    </tr>\n",
       "    <tr>\n",
       "      <th>2024-01-29</th>\n",
       "      <td>10.500</td>\n",
       "      <td>17.368925</td>\n",
       "      <td>10.180</td>\n",
       "      <td>NaN</td>\n",
       "      <td>10.210</td>\n",
       "      <td>1.90</td>\n",
       "      <td>10.520</td>\n",
       "      <td>9.130</td>\n",
       "      <td>NaN</td>\n",
       "      <td>10.12</td>\n",
       "      <td>...</td>\n",
       "      <td>NaN</td>\n",
       "      <td>0.599</td>\n",
       "      <td>38.260185</td>\n",
       "      <td>0.464</td>\n",
       "      <td>0.659</td>\n",
       "      <td>0.344</td>\n",
       "      <td>0.685</td>\n",
       "      <td>2.600</td>\n",
       "      <td>9.1495</td>\n",
       "      <td>17.750000</td>\n",
       "    </tr>\n",
       "    <tr>\n",
       "      <th>2024-01-30</th>\n",
       "      <td>10.490</td>\n",
       "      <td>17.527094</td>\n",
       "      <td>10.170</td>\n",
       "      <td>NaN</td>\n",
       "      <td>10.200</td>\n",
       "      <td>1.94</td>\n",
       "      <td>10.525</td>\n",
       "      <td>9.130</td>\n",
       "      <td>NaN</td>\n",
       "      <td>10.13</td>\n",
       "      <td>...</td>\n",
       "      <td>NaN</td>\n",
       "      <td>0.478</td>\n",
       "      <td>37.941769</td>\n",
       "      <td>0.428</td>\n",
       "      <td>0.790</td>\n",
       "      <td>0.330</td>\n",
       "      <td>0.731</td>\n",
       "      <td>2.660</td>\n",
       "      <td>10.5200</td>\n",
       "      <td>18.120001</td>\n",
       "    </tr>\n",
       "    <tr>\n",
       "      <th>2024-01-31</th>\n",
       "      <td>10.500</td>\n",
       "      <td>17.171215</td>\n",
       "      <td>10.180</td>\n",
       "      <td>NaN</td>\n",
       "      <td>10.210</td>\n",
       "      <td>1.90</td>\n",
       "      <td>10.540</td>\n",
       "      <td>9.130</td>\n",
       "      <td>NaN</td>\n",
       "      <td>10.14</td>\n",
       "      <td>...</td>\n",
       "      <td>NaN</td>\n",
       "      <td>0.427</td>\n",
       "      <td>37.732800</td>\n",
       "      <td>0.445</td>\n",
       "      <td>0.681</td>\n",
       "      <td>0.347</td>\n",
       "      <td>0.755</td>\n",
       "      <td>2.420</td>\n",
       "      <td>13.2125</td>\n",
       "      <td>17.059999</td>\n",
       "    </tr>\n",
       "    <tr>\n",
       "      <th>2024-02-01</th>\n",
       "      <td>10.490</td>\n",
       "      <td>17.349154</td>\n",
       "      <td>10.170</td>\n",
       "      <td>NaN</td>\n",
       "      <td>10.210</td>\n",
       "      <td>1.92</td>\n",
       "      <td>10.560</td>\n",
       "      <td>9.130</td>\n",
       "      <td>NaN</td>\n",
       "      <td>10.13</td>\n",
       "      <td>...</td>\n",
       "      <td>NaN</td>\n",
       "      <td>0.470</td>\n",
       "      <td>37.752701</td>\n",
       "      <td>0.459</td>\n",
       "      <td>0.680</td>\n",
       "      <td>0.360</td>\n",
       "      <td>0.727</td>\n",
       "      <td>2.292</td>\n",
       "      <td>11.9745</td>\n",
       "      <td>17.389999</td>\n",
       "    </tr>\n",
       "    <tr>\n",
       "      <th>2024-02-02</th>\n",
       "      <td>10.510</td>\n",
       "      <td>16.627508</td>\n",
       "      <td>10.170</td>\n",
       "      <td>NaN</td>\n",
       "      <td>10.210</td>\n",
       "      <td>1.86</td>\n",
       "      <td>10.550</td>\n",
       "      <td>9.130</td>\n",
       "      <td>20.700001</td>\n",
       "      <td>10.13</td>\n",
       "      <td>...</td>\n",
       "      <td>NaN</td>\n",
       "      <td>0.460</td>\n",
       "      <td>37.523838</td>\n",
       "      <td>0.449</td>\n",
       "      <td>0.630</td>\n",
       "      <td>0.369</td>\n",
       "      <td>0.590</td>\n",
       "      <td>2.059</td>\n",
       "      <td>13.1010</td>\n",
       "      <td>17.860001</td>\n",
       "    </tr>\n",
       "    <tr>\n",
       "      <th>2024-02-05</th>\n",
       "      <td>10.510</td>\n",
       "      <td>16.686821</td>\n",
       "      <td>10.165</td>\n",
       "      <td>NaN</td>\n",
       "      <td>10.210</td>\n",
       "      <td>2.05</td>\n",
       "      <td>10.530</td>\n",
       "      <td>8.350</td>\n",
       "      <td>21.799999</td>\n",
       "      <td>10.13</td>\n",
       "      <td>...</td>\n",
       "      <td>NaN</td>\n",
       "      <td>0.381</td>\n",
       "      <td>36.548676</td>\n",
       "      <td>0.449</td>\n",
       "      <td>0.576</td>\n",
       "      <td>0.480</td>\n",
       "      <td>0.730</td>\n",
       "      <td>2.030</td>\n",
       "      <td>12.2500</td>\n",
       "      <td>17.590000</td>\n",
       "    </tr>\n",
       "    <tr>\n",
       "      <th>2024-02-06</th>\n",
       "      <td>10.500</td>\n",
       "      <td>17.121786</td>\n",
       "      <td>10.170</td>\n",
       "      <td>NaN</td>\n",
       "      <td>10.220</td>\n",
       "      <td>1.96</td>\n",
       "      <td>10.530</td>\n",
       "      <td>9.130</td>\n",
       "      <td>19.389999</td>\n",
       "      <td>10.14</td>\n",
       "      <td>...</td>\n",
       "      <td>NaN</td>\n",
       "      <td>0.412</td>\n",
       "      <td>37.523838</td>\n",
       "      <td>0.454</td>\n",
       "      <td>0.617</td>\n",
       "      <td>0.430</td>\n",
       "      <td>0.740</td>\n",
       "      <td>2.200</td>\n",
       "      <td>11.8755</td>\n",
       "      <td>17.610001</td>\n",
       "    </tr>\n",
       "    <tr>\n",
       "      <th>2024-02-07</th>\n",
       "      <td>10.500</td>\n",
       "      <td>16.904305</td>\n",
       "      <td>10.180</td>\n",
       "      <td>12.991912</td>\n",
       "      <td>10.230</td>\n",
       "      <td>2.04</td>\n",
       "      <td>10.560</td>\n",
       "      <td>8.900</td>\n",
       "      <td>18.980000</td>\n",
       "      <td>10.14</td>\n",
       "      <td>...</td>\n",
       "      <td>NaN</td>\n",
       "      <td>0.399</td>\n",
       "      <td>37.344727</td>\n",
       "      <td>0.447</td>\n",
       "      <td>0.598</td>\n",
       "      <td>0.447</td>\n",
       "      <td>0.732</td>\n",
       "      <td>2.150</td>\n",
       "      <td>10.8505</td>\n",
       "      <td>17.049999</td>\n",
       "    </tr>\n",
       "    <tr>\n",
       "      <th>2024-02-08</th>\n",
       "      <td>10.510</td>\n",
       "      <td>17.082245</td>\n",
       "      <td>10.170</td>\n",
       "      <td>12.834673</td>\n",
       "      <td>10.220</td>\n",
       "      <td>2.15</td>\n",
       "      <td>10.540</td>\n",
       "      <td>8.860</td>\n",
       "      <td>18.980000</td>\n",
       "      <td>10.14</td>\n",
       "      <td>...</td>\n",
       "      <td>NaN</td>\n",
       "      <td>0.388</td>\n",
       "      <td>36.986504</td>\n",
       "      <td>0.555</td>\n",
       "      <td>0.679</td>\n",
       "      <td>0.420</td>\n",
       "      <td>0.733</td>\n",
       "      <td>2.150</td>\n",
       "      <td>12.9600</td>\n",
       "      <td>17.750000</td>\n",
       "    </tr>\n",
       "    <tr>\n",
       "      <th>2024-02-09</th>\n",
       "      <td>10.505</td>\n",
       "      <td>17.418354</td>\n",
       "      <td>10.170</td>\n",
       "      <td>12.893637</td>\n",
       "      <td>10.218</td>\n",
       "      <td>2.34</td>\n",
       "      <td>10.540</td>\n",
       "      <td>8.240</td>\n",
       "      <td>16.549999</td>\n",
       "      <td>10.14</td>\n",
       "      <td>...</td>\n",
       "      <td>NaN</td>\n",
       "      <td>0.371</td>\n",
       "      <td>36.498924</td>\n",
       "      <td>0.495</td>\n",
       "      <td>0.790</td>\n",
       "      <td>0.395</td>\n",
       "      <td>0.733</td>\n",
       "      <td>2.250</td>\n",
       "      <td>7.4600</td>\n",
       "      <td>16.985001</td>\n",
       "    </tr>\n",
       "    <tr>\n",
       "      <th>2024-02-12</th>\n",
       "      <td>10.500</td>\n",
       "      <td>17.596292</td>\n",
       "      <td>10.180</td>\n",
       "      <td>12.923119</td>\n",
       "      <td>10.218</td>\n",
       "      <td>2.12</td>\n",
       "      <td>10.540</td>\n",
       "      <td>8.240</td>\n",
       "      <td>13.930000</td>\n",
       "      <td>10.14</td>\n",
       "      <td>...</td>\n",
       "      <td>NaN</td>\n",
       "      <td>0.368</td>\n",
       "      <td>36.588482</td>\n",
       "      <td>0.491</td>\n",
       "      <td>0.690</td>\n",
       "      <td>0.384</td>\n",
       "      <td>0.733</td>\n",
       "      <td>2.360</td>\n",
       "      <td>8.3100</td>\n",
       "      <td>18.150000</td>\n",
       "    </tr>\n",
       "    <tr>\n",
       "      <th>2024-02-13</th>\n",
       "      <td>10.500</td>\n",
       "      <td>17.270069</td>\n",
       "      <td>10.180</td>\n",
       "      <td>13.119669</td>\n",
       "      <td>10.225</td>\n",
       "      <td>2.14</td>\n",
       "      <td>10.540</td>\n",
       "      <td>7.250</td>\n",
       "      <td>14.250000</td>\n",
       "      <td>10.14</td>\n",
       "      <td>...</td>\n",
       "      <td>NaN</td>\n",
       "      <td>0.440</td>\n",
       "      <td>35.881985</td>\n",
       "      <td>0.600</td>\n",
       "      <td>0.639</td>\n",
       "      <td>0.530</td>\n",
       "      <td>0.733</td>\n",
       "      <td>2.450</td>\n",
       "      <td>8.5000</td>\n",
       "      <td>17.650000</td>\n",
       "    </tr>\n",
       "    <tr>\n",
       "      <th>2024-02-14</th>\n",
       "      <td>10.525</td>\n",
       "      <td>17.250299</td>\n",
       "      <td>10.190</td>\n",
       "      <td>13.522595</td>\n",
       "      <td>10.230</td>\n",
       "      <td>2.11</td>\n",
       "      <td>10.550</td>\n",
       "      <td>7.250</td>\n",
       "      <td>15.000000</td>\n",
       "      <td>10.14</td>\n",
       "      <td>...</td>\n",
       "      <td>NaN</td>\n",
       "      <td>0.584</td>\n",
       "      <td>36.538727</td>\n",
       "      <td>0.551</td>\n",
       "      <td>0.669</td>\n",
       "      <td>0.635</td>\n",
       "      <td>0.733</td>\n",
       "      <td>2.520</td>\n",
       "      <td>8.2100</td>\n",
       "      <td>18.090000</td>\n",
       "    </tr>\n",
       "    <tr>\n",
       "      <th>2024-02-15</th>\n",
       "      <td>10.525</td>\n",
       "      <td>17.566637</td>\n",
       "      <td>10.190</td>\n",
       "      <td>13.404666</td>\n",
       "      <td>10.240</td>\n",
       "      <td>2.05</td>\n",
       "      <td>10.540</td>\n",
       "      <td>7.390</td>\n",
       "      <td>15.900000</td>\n",
       "      <td>10.14</td>\n",
       "      <td>...</td>\n",
       "      <td>NaN</td>\n",
       "      <td>0.590</td>\n",
       "      <td>37.125816</td>\n",
       "      <td>0.563</td>\n",
       "      <td>0.790</td>\n",
       "      <td>0.554</td>\n",
       "      <td>0.733</td>\n",
       "      <td>2.580</td>\n",
       "      <td>8.1100</td>\n",
       "      <td>20.520000</td>\n",
       "    </tr>\n",
       "    <tr>\n",
       "      <th>2024-02-16</th>\n",
       "      <td>10.520</td>\n",
       "      <td>17.764347</td>\n",
       "      <td>10.180</td>\n",
       "      <td>13.630697</td>\n",
       "      <td>10.235</td>\n",
       "      <td>2.17</td>\n",
       "      <td>10.540</td>\n",
       "      <td>7.390</td>\n",
       "      <td>15.860000</td>\n",
       "      <td>10.14</td>\n",
       "      <td>...</td>\n",
       "      <td>NaN</td>\n",
       "      <td>0.606</td>\n",
       "      <td>36.180504</td>\n",
       "      <td>0.472</td>\n",
       "      <td>0.710</td>\n",
       "      <td>0.650</td>\n",
       "      <td>0.733</td>\n",
       "      <td>2.478</td>\n",
       "      <td>8.8700</td>\n",
       "      <td>19.150000</td>\n",
       "    </tr>\n",
       "    <tr>\n",
       "      <th>2024-02-20</th>\n",
       "      <td>10.540</td>\n",
       "      <td>18.139999</td>\n",
       "      <td>10.180</td>\n",
       "      <td>13.178634</td>\n",
       "      <td>10.235</td>\n",
       "      <td>2.12</td>\n",
       "      <td>10.550</td>\n",
       "      <td>7.600</td>\n",
       "      <td>13.550000</td>\n",
       "      <td>10.14</td>\n",
       "      <td>...</td>\n",
       "      <td>NaN</td>\n",
       "      <td>0.553</td>\n",
       "      <td>35.553612</td>\n",
       "      <td>0.479</td>\n",
       "      <td>0.670</td>\n",
       "      <td>0.630</td>\n",
       "      <td>0.733</td>\n",
       "      <td>2.370</td>\n",
       "      <td>8.7300</td>\n",
       "      <td>17.870001</td>\n",
       "    </tr>\n",
       "    <tr>\n",
       "      <th>2024-02-21</th>\n",
       "      <td>10.540</td>\n",
       "      <td>18.320000</td>\n",
       "      <td>10.180</td>\n",
       "      <td>13.168806</td>\n",
       "      <td>10.240</td>\n",
       "      <td>2.09</td>\n",
       "      <td>10.540</td>\n",
       "      <td>7.513</td>\n",
       "      <td>13.470000</td>\n",
       "      <td>10.13</td>\n",
       "      <td>...</td>\n",
       "      <td>NaN</td>\n",
       "      <td>0.518</td>\n",
       "      <td>35.603367</td>\n",
       "      <td>0.432</td>\n",
       "      <td>0.632</td>\n",
       "      <td>0.640</td>\n",
       "      <td>0.733</td>\n",
       "      <td>2.340</td>\n",
       "      <td>8.4500</td>\n",
       "      <td>18.900000</td>\n",
       "    </tr>\n",
       "    <tr>\n",
       "      <th>2024-02-22</th>\n",
       "      <td>10.550</td>\n",
       "      <td>18.350000</td>\n",
       "      <td>10.180</td>\n",
       "      <td>13.316218</td>\n",
       "      <td>10.240</td>\n",
       "      <td>1.90</td>\n",
       "      <td>10.560</td>\n",
       "      <td>7.111</td>\n",
       "      <td>13.000000</td>\n",
       "      <td>10.14</td>\n",
       "      <td>...</td>\n",
       "      <td>NaN</td>\n",
       "      <td>0.483</td>\n",
       "      <td>35.384453</td>\n",
       "      <td>0.438</td>\n",
       "      <td>0.630</td>\n",
       "      <td>0.605</td>\n",
       "      <td>0.733</td>\n",
       "      <td>2.350</td>\n",
       "      <td>8.1000</td>\n",
       "      <td>18.389999</td>\n",
       "    </tr>\n",
       "    <tr>\n",
       "      <th>2024-02-23</th>\n",
       "      <td>10.550</td>\n",
       "      <td>18.320000</td>\n",
       "      <td>10.175</td>\n",
       "      <td>13.365355</td>\n",
       "      <td>10.240</td>\n",
       "      <td>1.87</td>\n",
       "      <td>10.550</td>\n",
       "      <td>7.151</td>\n",
       "      <td>13.720000</td>\n",
       "      <td>10.14</td>\n",
       "      <td>...</td>\n",
       "      <td>NaN</td>\n",
       "      <td>0.470</td>\n",
       "      <td>34.966526</td>\n",
       "      <td>0.413</td>\n",
       "      <td>0.598</td>\n",
       "      <td>0.615</td>\n",
       "      <td>0.733</td>\n",
       "      <td>2.490</td>\n",
       "      <td>7.0900</td>\n",
       "      <td>19.129999</td>\n",
       "    </tr>\n",
       "    <tr>\n",
       "      <th>2024-02-26</th>\n",
       "      <td>10.540</td>\n",
       "      <td>18.330000</td>\n",
       "      <td>10.180</td>\n",
       "      <td>13.031221</td>\n",
       "      <td>10.240</td>\n",
       "      <td>1.90</td>\n",
       "      <td>10.560</td>\n",
       "      <td>7.150</td>\n",
       "      <td>15.310000</td>\n",
       "      <td>10.15</td>\n",
       "      <td>...</td>\n",
       "      <td>1.635</td>\n",
       "      <td>0.459</td>\n",
       "      <td>34.757565</td>\n",
       "      <td>0.410</td>\n",
       "      <td>0.804</td>\n",
       "      <td>0.650</td>\n",
       "      <td>0.733</td>\n",
       "      <td>2.600</td>\n",
       "      <td>6.4400</td>\n",
       "      <td>19.205000</td>\n",
       "    </tr>\n",
       "    <tr>\n",
       "      <th>2024-02-27</th>\n",
       "      <td>10.550</td>\n",
       "      <td>19.809999</td>\n",
       "      <td>10.174</td>\n",
       "      <td>13.316218</td>\n",
       "      <td>10.242</td>\n",
       "      <td>2.43</td>\n",
       "      <td>10.560</td>\n",
       "      <td>7.150</td>\n",
       "      <td>14.360000</td>\n",
       "      <td>10.15</td>\n",
       "      <td>...</td>\n",
       "      <td>1.720</td>\n",
       "      <td>0.506</td>\n",
       "      <td>34.777466</td>\n",
       "      <td>0.420</td>\n",
       "      <td>0.867</td>\n",
       "      <td>0.727</td>\n",
       "      <td>0.733</td>\n",
       "      <td>2.740</td>\n",
       "      <td>6.5700</td>\n",
       "      <td>19.340000</td>\n",
       "    </tr>\n",
       "    <tr>\n",
       "      <th>2024-02-28</th>\n",
       "      <td>10.480</td>\n",
       "      <td>19.299999</td>\n",
       "      <td>10.180</td>\n",
       "      <td>13.404666</td>\n",
       "      <td>10.240</td>\n",
       "      <td>2.06</td>\n",
       "      <td>10.540</td>\n",
       "      <td>7.150</td>\n",
       "      <td>15.330000</td>\n",
       "      <td>10.13</td>\n",
       "      <td>...</td>\n",
       "      <td>1.670</td>\n",
       "      <td>0.474</td>\n",
       "      <td>34.677956</td>\n",
       "      <td>0.404</td>\n",
       "      <td>0.880</td>\n",
       "      <td>0.660</td>\n",
       "      <td>0.733</td>\n",
       "      <td>2.830</td>\n",
       "      <td>6.0200</td>\n",
       "      <td>19.790001</td>\n",
       "    </tr>\n",
       "    <tr>\n",
       "      <th>2024-02-29</th>\n",
       "      <td>10.530</td>\n",
       "      <td>18.860001</td>\n",
       "      <td>10.154</td>\n",
       "      <td>13.434148</td>\n",
       "      <td>10.240</td>\n",
       "      <td>1.98</td>\n",
       "      <td>10.550</td>\n",
       "      <td>7.150</td>\n",
       "      <td>15.400000</td>\n",
       "      <td>10.14</td>\n",
       "      <td>...</td>\n",
       "      <td>1.380</td>\n",
       "      <td>0.489</td>\n",
       "      <td>35.016277</td>\n",
       "      <td>0.407</td>\n",
       "      <td>0.850</td>\n",
       "      <td>0.659</td>\n",
       "      <td>0.733</td>\n",
       "      <td>2.740</td>\n",
       "      <td>6.2800</td>\n",
       "      <td>20.270000</td>\n",
       "    </tr>\n",
       "  </tbody>\n",
       "</table>\n",
       "<p>30 rows × 184 columns</p>\n",
       "</div>"
      ],
      "text/plain": [
       "Ticker        AACT       AESI    AFJK        AHR    AITR  AIXI    ALCY    ANL  \\\n",
       "Date                                                                            \n",
       "2024-01-18  10.465  16.587967     NaN        NaN  10.200  1.79  10.490  9.050   \n",
       "2024-01-19  10.470  16.172773     NaN        NaN  10.210  1.61  10.490  8.989   \n",
       "2024-01-22  10.480  16.933960     NaN        NaN  10.210  1.58  10.500  9.120   \n",
       "2024-01-23  10.480  16.775791  10.160        NaN  10.210  1.69  10.600  9.120   \n",
       "2024-01-24  10.480  16.627508  10.160        NaN  10.200  1.82  10.510  9.213   \n",
       "2024-01-25  10.480  17.072359  10.170        NaN  10.200  1.88  10.560  9.213   \n",
       "2024-01-26  10.490  17.240414  10.170        NaN  10.210  1.90  10.560  9.213   \n",
       "2024-01-29  10.500  17.368925  10.180        NaN  10.210  1.90  10.520  9.130   \n",
       "2024-01-30  10.490  17.527094  10.170        NaN  10.200  1.94  10.525  9.130   \n",
       "2024-01-31  10.500  17.171215  10.180        NaN  10.210  1.90  10.540  9.130   \n",
       "2024-02-01  10.490  17.349154  10.170        NaN  10.210  1.92  10.560  9.130   \n",
       "2024-02-02  10.510  16.627508  10.170        NaN  10.210  1.86  10.550  9.130   \n",
       "2024-02-05  10.510  16.686821  10.165        NaN  10.210  2.05  10.530  8.350   \n",
       "2024-02-06  10.500  17.121786  10.170        NaN  10.220  1.96  10.530  9.130   \n",
       "2024-02-07  10.500  16.904305  10.180  12.991912  10.230  2.04  10.560  8.900   \n",
       "2024-02-08  10.510  17.082245  10.170  12.834673  10.220  2.15  10.540  8.860   \n",
       "2024-02-09  10.505  17.418354  10.170  12.893637  10.218  2.34  10.540  8.240   \n",
       "2024-02-12  10.500  17.596292  10.180  12.923119  10.218  2.12  10.540  8.240   \n",
       "2024-02-13  10.500  17.270069  10.180  13.119669  10.225  2.14  10.540  7.250   \n",
       "2024-02-14  10.525  17.250299  10.190  13.522595  10.230  2.11  10.550  7.250   \n",
       "2024-02-15  10.525  17.566637  10.190  13.404666  10.240  2.05  10.540  7.390   \n",
       "2024-02-16  10.520  17.764347  10.180  13.630697  10.235  2.17  10.540  7.390   \n",
       "2024-02-20  10.540  18.139999  10.180  13.178634  10.235  2.12  10.550  7.600   \n",
       "2024-02-21  10.540  18.320000  10.180  13.168806  10.240  2.09  10.540  7.513   \n",
       "2024-02-22  10.550  18.350000  10.180  13.316218  10.240  1.90  10.560  7.111   \n",
       "2024-02-23  10.550  18.320000  10.175  13.365355  10.240  1.87  10.550  7.151   \n",
       "2024-02-26  10.540  18.330000  10.180  13.031221  10.240  1.90  10.560  7.150   \n",
       "2024-02-27  10.550  19.809999  10.174  13.316218  10.242  2.43  10.560  7.150   \n",
       "2024-02-28  10.480  19.299999  10.180  13.404666  10.240  2.06  10.540  7.150   \n",
       "2024-02-29  10.530  18.860001  10.154  13.434148  10.240  1.98  10.550  7.150   \n",
       "\n",
       "Ticker           ANRO   ANSC  ...   VHAI   VSME       VTMX   WBUY   WLGS  \\\n",
       "Date                          ...                                          \n",
       "2024-01-18        NaN  10.10  ...    NaN  0.369  36.618332  0.399  0.700   \n",
       "2024-01-19        NaN  10.11  ...    NaN  0.330  37.434284  0.380  0.584   \n",
       "2024-01-22        NaN  10.13  ...    NaN  0.319  37.334778  0.395  0.590   \n",
       "2024-01-23        NaN  10.13  ...    NaN  0.328  37.205418  0.450  0.610   \n",
       "2024-01-24        NaN  10.12  ...    NaN  0.649  37.444237  0.460  0.600   \n",
       "2024-01-25        NaN  10.12  ...    NaN  0.487  38.568653  0.467  0.620   \n",
       "2024-01-26        NaN  10.12  ...    NaN  0.650  38.528854  0.445  0.660   \n",
       "2024-01-29        NaN  10.12  ...    NaN  0.599  38.260185  0.464  0.659   \n",
       "2024-01-30        NaN  10.13  ...    NaN  0.478  37.941769  0.428  0.790   \n",
       "2024-01-31        NaN  10.14  ...    NaN  0.427  37.732800  0.445  0.681   \n",
       "2024-02-01        NaN  10.13  ...    NaN  0.470  37.752701  0.459  0.680   \n",
       "2024-02-02  20.700001  10.13  ...    NaN  0.460  37.523838  0.449  0.630   \n",
       "2024-02-05  21.799999  10.13  ...    NaN  0.381  36.548676  0.449  0.576   \n",
       "2024-02-06  19.389999  10.14  ...    NaN  0.412  37.523838  0.454  0.617   \n",
       "2024-02-07  18.980000  10.14  ...    NaN  0.399  37.344727  0.447  0.598   \n",
       "2024-02-08  18.980000  10.14  ...    NaN  0.388  36.986504  0.555  0.679   \n",
       "2024-02-09  16.549999  10.14  ...    NaN  0.371  36.498924  0.495  0.790   \n",
       "2024-02-12  13.930000  10.14  ...    NaN  0.368  36.588482  0.491  0.690   \n",
       "2024-02-13  14.250000  10.14  ...    NaN  0.440  35.881985  0.600  0.639   \n",
       "2024-02-14  15.000000  10.14  ...    NaN  0.584  36.538727  0.551  0.669   \n",
       "2024-02-15  15.900000  10.14  ...    NaN  0.590  37.125816  0.563  0.790   \n",
       "2024-02-16  15.860000  10.14  ...    NaN  0.606  36.180504  0.472  0.710   \n",
       "2024-02-20  13.550000  10.14  ...    NaN  0.553  35.553612  0.479  0.670   \n",
       "2024-02-21  13.470000  10.13  ...    NaN  0.518  35.603367  0.432  0.632   \n",
       "2024-02-22  13.000000  10.14  ...    NaN  0.483  35.384453  0.438  0.630   \n",
       "2024-02-23  13.720000  10.14  ...    NaN  0.470  34.966526  0.413  0.598   \n",
       "2024-02-26  15.310000  10.15  ...  1.635  0.459  34.757565  0.410  0.804   \n",
       "2024-02-27  14.360000  10.15  ...  1.720  0.506  34.777466  0.420  0.867   \n",
       "2024-02-28  15.330000  10.13  ...  1.670  0.474  34.677956  0.404  0.880   \n",
       "2024-02-29  15.400000  10.14  ...  1.380  0.489  35.016277  0.407  0.850   \n",
       "\n",
       "Ticker       WRNT  YGFGF   YIBO     ZJYL        ZKH  \n",
       "Date                                                 \n",
       "2024-01-18  0.350  1.530    NaN   5.2575  16.730000  \n",
       "2024-01-19  0.333  1.570    NaN   5.2500  16.100000  \n",
       "2024-01-22  0.330  1.420    NaN   5.3500  16.200001  \n",
       "2024-01-23  0.350  1.270    NaN   8.3450  16.809999  \n",
       "2024-01-24  0.348  1.250    NaN  10.5925  18.520000  \n",
       "2024-01-25  0.350  1.060  2.790  13.8055  19.040001  \n",
       "2024-01-26  0.345  0.858  2.720   8.9000  17.150000  \n",
       "2024-01-29  0.344  0.685  2.600   9.1495  17.750000  \n",
       "2024-01-30  0.330  0.731  2.660  10.5200  18.120001  \n",
       "2024-01-31  0.347  0.755  2.420  13.2125  17.059999  \n",
       "2024-02-01  0.360  0.727  2.292  11.9745  17.389999  \n",
       "2024-02-02  0.369  0.590  2.059  13.1010  17.860001  \n",
       "2024-02-05  0.480  0.730  2.030  12.2500  17.590000  \n",
       "2024-02-06  0.430  0.740  2.200  11.8755  17.610001  \n",
       "2024-02-07  0.447  0.732  2.150  10.8505  17.049999  \n",
       "2024-02-08  0.420  0.733  2.150  12.9600  17.750000  \n",
       "2024-02-09  0.395  0.733  2.250   7.4600  16.985001  \n",
       "2024-02-12  0.384  0.733  2.360   8.3100  18.150000  \n",
       "2024-02-13  0.530  0.733  2.450   8.5000  17.650000  \n",
       "2024-02-14  0.635  0.733  2.520   8.2100  18.090000  \n",
       "2024-02-15  0.554  0.733  2.580   8.1100  20.520000  \n",
       "2024-02-16  0.650  0.733  2.478   8.8700  19.150000  \n",
       "2024-02-20  0.630  0.733  2.370   8.7300  17.870001  \n",
       "2024-02-21  0.640  0.733  2.340   8.4500  18.900000  \n",
       "2024-02-22  0.605  0.733  2.350   8.1000  18.389999  \n",
       "2024-02-23  0.615  0.733  2.490   7.0900  19.129999  \n",
       "2024-02-26  0.650  0.733  2.600   6.4400  19.205000  \n",
       "2024-02-27  0.727  0.733  2.740   6.5700  19.340000  \n",
       "2024-02-28  0.660  0.733  2.830   6.0200  19.790001  \n",
       "2024-02-29  0.659  0.733  2.740   6.2800  20.270000  \n",
       "\n",
       "[30 rows x 184 columns]"
      ]
     },
     "execution_count": 19,
     "metadata": {},
     "output_type": "execute_result"
    }
   ],
   "source": [
    "df=df_OHLC.copy()\n",
    "df=df['Adj Close']\n",
    "df.tail(30)"
   ]
  },
  {
   "cell_type": "code",
   "execution_count": 20,
   "metadata": {},
   "outputs": [
    {
     "data": {
      "text/html": [
       "<div>\n",
       "<style scoped>\n",
       "    .dataframe tbody tr th:only-of-type {\n",
       "        vertical-align: middle;\n",
       "    }\n",
       "\n",
       "    .dataframe tbody tr th {\n",
       "        vertical-align: top;\n",
       "    }\n",
       "\n",
       "    .dataframe thead th {\n",
       "        text-align: right;\n",
       "    }\n",
       "</style>\n",
       "<table border=\"1\" class=\"dataframe\">\n",
       "  <thead>\n",
       "    <tr style=\"text-align: right;\">\n",
       "      <th></th>\n",
       "      <th>growth_future_1d</th>\n",
       "      <th>growth_future_2d</th>\n",
       "      <th>growth_future_3d</th>\n",
       "      <th>growth_future_4d</th>\n",
       "      <th>growth_future_5d</th>\n",
       "      <th>growth_future_6d</th>\n",
       "      <th>growth_future_7d</th>\n",
       "      <th>growth_future_8d</th>\n",
       "      <th>growth_future_9d</th>\n",
       "      <th>growth_future_10d</th>\n",
       "      <th>...</th>\n",
       "      <th>growth_future_21d</th>\n",
       "      <th>growth_future_22d</th>\n",
       "      <th>growth_future_23d</th>\n",
       "      <th>growth_future_24d</th>\n",
       "      <th>growth_future_25d</th>\n",
       "      <th>growth_future_26d</th>\n",
       "      <th>growth_future_27d</th>\n",
       "      <th>growth_future_28d</th>\n",
       "      <th>growth_future_29d</th>\n",
       "      <th>growth_future_30d</th>\n",
       "    </tr>\n",
       "    <tr>\n",
       "      <th>Ticker</th>\n",
       "      <th></th>\n",
       "      <th></th>\n",
       "      <th></th>\n",
       "      <th></th>\n",
       "      <th></th>\n",
       "      <th></th>\n",
       "      <th></th>\n",
       "      <th></th>\n",
       "      <th></th>\n",
       "      <th></th>\n",
       "      <th></th>\n",
       "      <th></th>\n",
       "      <th></th>\n",
       "      <th></th>\n",
       "      <th></th>\n",
       "      <th></th>\n",
       "      <th></th>\n",
       "      <th></th>\n",
       "      <th></th>\n",
       "      <th></th>\n",
       "      <th></th>\n",
       "    </tr>\n",
       "  </thead>\n",
       "  <tbody>\n",
       "    <tr>\n",
       "      <th>AACT</th>\n",
       "      <td>NaN</td>\n",
       "      <td>NaN</td>\n",
       "      <td>NaN</td>\n",
       "      <td>NaN</td>\n",
       "      <td>NaN</td>\n",
       "      <td>NaN</td>\n",
       "      <td>NaN</td>\n",
       "      <td>NaN</td>\n",
       "      <td>NaN</td>\n",
       "      <td>NaN</td>\n",
       "      <td>...</td>\n",
       "      <td>NaN</td>\n",
       "      <td>NaN</td>\n",
       "      <td>NaN</td>\n",
       "      <td>NaN</td>\n",
       "      <td>NaN</td>\n",
       "      <td>NaN</td>\n",
       "      <td>NaN</td>\n",
       "      <td>NaN</td>\n",
       "      <td>NaN</td>\n",
       "      <td>NaN</td>\n",
       "    </tr>\n",
       "    <tr>\n",
       "      <th>AESI</th>\n",
       "      <td>NaN</td>\n",
       "      <td>NaN</td>\n",
       "      <td>NaN</td>\n",
       "      <td>NaN</td>\n",
       "      <td>NaN</td>\n",
       "      <td>NaN</td>\n",
       "      <td>NaN</td>\n",
       "      <td>NaN</td>\n",
       "      <td>NaN</td>\n",
       "      <td>NaN</td>\n",
       "      <td>...</td>\n",
       "      <td>NaN</td>\n",
       "      <td>NaN</td>\n",
       "      <td>NaN</td>\n",
       "      <td>NaN</td>\n",
       "      <td>NaN</td>\n",
       "      <td>NaN</td>\n",
       "      <td>NaN</td>\n",
       "      <td>NaN</td>\n",
       "      <td>NaN</td>\n",
       "      <td>NaN</td>\n",
       "    </tr>\n",
       "    <tr>\n",
       "      <th>AFJK</th>\n",
       "      <td>NaN</td>\n",
       "      <td>NaN</td>\n",
       "      <td>NaN</td>\n",
       "      <td>NaN</td>\n",
       "      <td>NaN</td>\n",
       "      <td>NaN</td>\n",
       "      <td>NaN</td>\n",
       "      <td>NaN</td>\n",
       "      <td>NaN</td>\n",
       "      <td>NaN</td>\n",
       "      <td>...</td>\n",
       "      <td>NaN</td>\n",
       "      <td>NaN</td>\n",
       "      <td>NaN</td>\n",
       "      <td>NaN</td>\n",
       "      <td>NaN</td>\n",
       "      <td>NaN</td>\n",
       "      <td>NaN</td>\n",
       "      <td>NaN</td>\n",
       "      <td>NaN</td>\n",
       "      <td>NaN</td>\n",
       "    </tr>\n",
       "    <tr>\n",
       "      <th>AHR</th>\n",
       "      <td>NaN</td>\n",
       "      <td>NaN</td>\n",
       "      <td>NaN</td>\n",
       "      <td>NaN</td>\n",
       "      <td>NaN</td>\n",
       "      <td>NaN</td>\n",
       "      <td>NaN</td>\n",
       "      <td>NaN</td>\n",
       "      <td>NaN</td>\n",
       "      <td>NaN</td>\n",
       "      <td>...</td>\n",
       "      <td>NaN</td>\n",
       "      <td>NaN</td>\n",
       "      <td>NaN</td>\n",
       "      <td>NaN</td>\n",
       "      <td>NaN</td>\n",
       "      <td>NaN</td>\n",
       "      <td>NaN</td>\n",
       "      <td>NaN</td>\n",
       "      <td>NaN</td>\n",
       "      <td>NaN</td>\n",
       "    </tr>\n",
       "    <tr>\n",
       "      <th>AITR</th>\n",
       "      <td>NaN</td>\n",
       "      <td>NaN</td>\n",
       "      <td>NaN</td>\n",
       "      <td>NaN</td>\n",
       "      <td>NaN</td>\n",
       "      <td>NaN</td>\n",
       "      <td>NaN</td>\n",
       "      <td>NaN</td>\n",
       "      <td>NaN</td>\n",
       "      <td>NaN</td>\n",
       "      <td>...</td>\n",
       "      <td>NaN</td>\n",
       "      <td>NaN</td>\n",
       "      <td>NaN</td>\n",
       "      <td>NaN</td>\n",
       "      <td>NaN</td>\n",
       "      <td>NaN</td>\n",
       "      <td>NaN</td>\n",
       "      <td>NaN</td>\n",
       "      <td>NaN</td>\n",
       "      <td>NaN</td>\n",
       "    </tr>\n",
       "    <tr>\n",
       "      <th>...</th>\n",
       "      <td>...</td>\n",
       "      <td>...</td>\n",
       "      <td>...</td>\n",
       "      <td>...</td>\n",
       "      <td>...</td>\n",
       "      <td>...</td>\n",
       "      <td>...</td>\n",
       "      <td>...</td>\n",
       "      <td>...</td>\n",
       "      <td>...</td>\n",
       "      <td>...</td>\n",
       "      <td>...</td>\n",
       "      <td>...</td>\n",
       "      <td>...</td>\n",
       "      <td>...</td>\n",
       "      <td>...</td>\n",
       "      <td>...</td>\n",
       "      <td>...</td>\n",
       "      <td>...</td>\n",
       "      <td>...</td>\n",
       "      <td>...</td>\n",
       "    </tr>\n",
       "    <tr>\n",
       "      <th>WRNT</th>\n",
       "      <td>NaN</td>\n",
       "      <td>NaN</td>\n",
       "      <td>NaN</td>\n",
       "      <td>NaN</td>\n",
       "      <td>NaN</td>\n",
       "      <td>NaN</td>\n",
       "      <td>NaN</td>\n",
       "      <td>NaN</td>\n",
       "      <td>NaN</td>\n",
       "      <td>NaN</td>\n",
       "      <td>...</td>\n",
       "      <td>NaN</td>\n",
       "      <td>NaN</td>\n",
       "      <td>NaN</td>\n",
       "      <td>NaN</td>\n",
       "      <td>NaN</td>\n",
       "      <td>NaN</td>\n",
       "      <td>NaN</td>\n",
       "      <td>NaN</td>\n",
       "      <td>NaN</td>\n",
       "      <td>NaN</td>\n",
       "    </tr>\n",
       "    <tr>\n",
       "      <th>YGFGF</th>\n",
       "      <td>NaN</td>\n",
       "      <td>NaN</td>\n",
       "      <td>NaN</td>\n",
       "      <td>NaN</td>\n",
       "      <td>NaN</td>\n",
       "      <td>NaN</td>\n",
       "      <td>NaN</td>\n",
       "      <td>NaN</td>\n",
       "      <td>NaN</td>\n",
       "      <td>NaN</td>\n",
       "      <td>...</td>\n",
       "      <td>NaN</td>\n",
       "      <td>NaN</td>\n",
       "      <td>NaN</td>\n",
       "      <td>NaN</td>\n",
       "      <td>NaN</td>\n",
       "      <td>NaN</td>\n",
       "      <td>NaN</td>\n",
       "      <td>NaN</td>\n",
       "      <td>NaN</td>\n",
       "      <td>NaN</td>\n",
       "    </tr>\n",
       "    <tr>\n",
       "      <th>YIBO</th>\n",
       "      <td>NaN</td>\n",
       "      <td>NaN</td>\n",
       "      <td>NaN</td>\n",
       "      <td>NaN</td>\n",
       "      <td>NaN</td>\n",
       "      <td>NaN</td>\n",
       "      <td>NaN</td>\n",
       "      <td>NaN</td>\n",
       "      <td>NaN</td>\n",
       "      <td>NaN</td>\n",
       "      <td>...</td>\n",
       "      <td>NaN</td>\n",
       "      <td>NaN</td>\n",
       "      <td>NaN</td>\n",
       "      <td>NaN</td>\n",
       "      <td>NaN</td>\n",
       "      <td>NaN</td>\n",
       "      <td>NaN</td>\n",
       "      <td>NaN</td>\n",
       "      <td>NaN</td>\n",
       "      <td>NaN</td>\n",
       "    </tr>\n",
       "    <tr>\n",
       "      <th>ZJYL</th>\n",
       "      <td>NaN</td>\n",
       "      <td>NaN</td>\n",
       "      <td>NaN</td>\n",
       "      <td>NaN</td>\n",
       "      <td>NaN</td>\n",
       "      <td>NaN</td>\n",
       "      <td>NaN</td>\n",
       "      <td>NaN</td>\n",
       "      <td>NaN</td>\n",
       "      <td>NaN</td>\n",
       "      <td>...</td>\n",
       "      <td>NaN</td>\n",
       "      <td>NaN</td>\n",
       "      <td>NaN</td>\n",
       "      <td>NaN</td>\n",
       "      <td>NaN</td>\n",
       "      <td>NaN</td>\n",
       "      <td>NaN</td>\n",
       "      <td>NaN</td>\n",
       "      <td>NaN</td>\n",
       "      <td>NaN</td>\n",
       "    </tr>\n",
       "    <tr>\n",
       "      <th>ZKH</th>\n",
       "      <td>NaN</td>\n",
       "      <td>NaN</td>\n",
       "      <td>NaN</td>\n",
       "      <td>NaN</td>\n",
       "      <td>NaN</td>\n",
       "      <td>NaN</td>\n",
       "      <td>NaN</td>\n",
       "      <td>NaN</td>\n",
       "      <td>NaN</td>\n",
       "      <td>NaN</td>\n",
       "      <td>...</td>\n",
       "      <td>NaN</td>\n",
       "      <td>NaN</td>\n",
       "      <td>NaN</td>\n",
       "      <td>NaN</td>\n",
       "      <td>NaN</td>\n",
       "      <td>NaN</td>\n",
       "      <td>NaN</td>\n",
       "      <td>NaN</td>\n",
       "      <td>NaN</td>\n",
       "      <td>NaN</td>\n",
       "    </tr>\n",
       "  </tbody>\n",
       "</table>\n",
       "<p>184 rows × 30 columns</p>\n",
       "</div>"
      ],
      "text/plain": [
       "       growth_future_1d growth_future_2d growth_future_3d growth_future_4d  \\\n",
       "Ticker                                                                       \n",
       "AACT                NaN              NaN              NaN              NaN   \n",
       "AESI                NaN              NaN              NaN              NaN   \n",
       "AFJK                NaN              NaN              NaN              NaN   \n",
       "AHR                 NaN              NaN              NaN              NaN   \n",
       "AITR                NaN              NaN              NaN              NaN   \n",
       "...                 ...              ...              ...              ...   \n",
       "WRNT                NaN              NaN              NaN              NaN   \n",
       "YGFGF               NaN              NaN              NaN              NaN   \n",
       "YIBO                NaN              NaN              NaN              NaN   \n",
       "ZJYL                NaN              NaN              NaN              NaN   \n",
       "ZKH                 NaN              NaN              NaN              NaN   \n",
       "\n",
       "       growth_future_5d growth_future_6d growth_future_7d growth_future_8d  \\\n",
       "Ticker                                                                       \n",
       "AACT                NaN              NaN              NaN              NaN   \n",
       "AESI                NaN              NaN              NaN              NaN   \n",
       "AFJK                NaN              NaN              NaN              NaN   \n",
       "AHR                 NaN              NaN              NaN              NaN   \n",
       "AITR                NaN              NaN              NaN              NaN   \n",
       "...                 ...              ...              ...              ...   \n",
       "WRNT                NaN              NaN              NaN              NaN   \n",
       "YGFGF               NaN              NaN              NaN              NaN   \n",
       "YIBO                NaN              NaN              NaN              NaN   \n",
       "ZJYL                NaN              NaN              NaN              NaN   \n",
       "ZKH                 NaN              NaN              NaN              NaN   \n",
       "\n",
       "       growth_future_9d growth_future_10d  ... growth_future_21d  \\\n",
       "Ticker                                     ...                     \n",
       "AACT                NaN               NaN  ...               NaN   \n",
       "AESI                NaN               NaN  ...               NaN   \n",
       "AFJK                NaN               NaN  ...               NaN   \n",
       "AHR                 NaN               NaN  ...               NaN   \n",
       "AITR                NaN               NaN  ...               NaN   \n",
       "...                 ...               ...  ...               ...   \n",
       "WRNT                NaN               NaN  ...               NaN   \n",
       "YGFGF               NaN               NaN  ...               NaN   \n",
       "YIBO                NaN               NaN  ...               NaN   \n",
       "ZJYL                NaN               NaN  ...               NaN   \n",
       "ZKH                 NaN               NaN  ...               NaN   \n",
       "\n",
       "       growth_future_22d growth_future_23d growth_future_24d  \\\n",
       "Ticker                                                         \n",
       "AACT                 NaN               NaN               NaN   \n",
       "AESI                 NaN               NaN               NaN   \n",
       "AFJK                 NaN               NaN               NaN   \n",
       "AHR                  NaN               NaN               NaN   \n",
       "AITR                 NaN               NaN               NaN   \n",
       "...                  ...               ...               ...   \n",
       "WRNT                 NaN               NaN               NaN   \n",
       "YGFGF                NaN               NaN               NaN   \n",
       "YIBO                 NaN               NaN               NaN   \n",
       "ZJYL                 NaN               NaN               NaN   \n",
       "ZKH                  NaN               NaN               NaN   \n",
       "\n",
       "       growth_future_25d growth_future_26d growth_future_27d  \\\n",
       "Ticker                                                         \n",
       "AACT                 NaN               NaN               NaN   \n",
       "AESI                 NaN               NaN               NaN   \n",
       "AFJK                 NaN               NaN               NaN   \n",
       "AHR                  NaN               NaN               NaN   \n",
       "AITR                 NaN               NaN               NaN   \n",
       "...                  ...               ...               ...   \n",
       "WRNT                 NaN               NaN               NaN   \n",
       "YGFGF                NaN               NaN               NaN   \n",
       "YIBO                 NaN               NaN               NaN   \n",
       "ZJYL                 NaN               NaN               NaN   \n",
       "ZKH                  NaN               NaN               NaN   \n",
       "\n",
       "       growth_future_28d growth_future_29d growth_future_30d  \n",
       "Ticker                                                        \n",
       "AACT                 NaN               NaN               NaN  \n",
       "AESI                 NaN               NaN               NaN  \n",
       "AFJK                 NaN               NaN               NaN  \n",
       "AHR                  NaN               NaN               NaN  \n",
       "AITR                 NaN               NaN               NaN  \n",
       "...                  ...               ...               ...  \n",
       "WRNT                 NaN               NaN               NaN  \n",
       "YGFGF                NaN               NaN               NaN  \n",
       "YIBO                 NaN               NaN               NaN  \n",
       "ZJYL                 NaN               NaN               NaN  \n",
       "ZKH                  NaN               NaN               NaN  \n",
       "\n",
       "[184 rows x 30 columns]"
      ]
     },
     "execution_count": 20,
     "metadata": {},
     "output_type": "execute_result"
    }
   ],
   "source": [
    "df_tmp = pd.DataFrame(columns=[f'growth_future_{d}d' for d in range(1,31)],index=df.columns)\n",
    "df_tmp"
   ]
  },
  {
   "cell_type": "markdown",
   "metadata": {},
   "source": [
    "Function to calculate future growth"
   ]
  },
  {
   "cell_type": "code",
   "execution_count": 21,
   "metadata": {},
   "outputs": [
    {
     "name": "stdout",
     "output_type": "stream",
     "text": [
      "time enlapsed 5.88\n"
     ]
    },
    {
     "data": {
      "text/html": [
       "<div>\n",
       "<style scoped>\n",
       "    .dataframe tbody tr th:only-of-type {\n",
       "        vertical-align: middle;\n",
       "    }\n",
       "\n",
       "    .dataframe tbody tr th {\n",
       "        vertical-align: top;\n",
       "    }\n",
       "\n",
       "    .dataframe thead th {\n",
       "        text-align: right;\n",
       "    }\n",
       "</style>\n",
       "<table border=\"1\" class=\"dataframe\">\n",
       "  <thead>\n",
       "    <tr style=\"text-align: right;\">\n",
       "      <th></th>\n",
       "      <th>growth_future_1d</th>\n",
       "      <th>growth_future_2d</th>\n",
       "      <th>growth_future_3d</th>\n",
       "      <th>growth_future_4d</th>\n",
       "      <th>growth_future_5d</th>\n",
       "      <th>growth_future_6d</th>\n",
       "      <th>growth_future_7d</th>\n",
       "      <th>growth_future_8d</th>\n",
       "      <th>growth_future_9d</th>\n",
       "      <th>growth_future_10d</th>\n",
       "      <th>...</th>\n",
       "      <th>growth_future_21d</th>\n",
       "      <th>growth_future_22d</th>\n",
       "      <th>growth_future_23d</th>\n",
       "      <th>growth_future_24d</th>\n",
       "      <th>growth_future_25d</th>\n",
       "      <th>growth_future_26d</th>\n",
       "      <th>growth_future_27d</th>\n",
       "      <th>growth_future_28d</th>\n",
       "      <th>growth_future_29d</th>\n",
       "      <th>growth_future_30d</th>\n",
       "    </tr>\n",
       "    <tr>\n",
       "      <th>Ticker</th>\n",
       "      <th></th>\n",
       "      <th></th>\n",
       "      <th></th>\n",
       "      <th></th>\n",
       "      <th></th>\n",
       "      <th></th>\n",
       "      <th></th>\n",
       "      <th></th>\n",
       "      <th></th>\n",
       "      <th></th>\n",
       "      <th></th>\n",
       "      <th></th>\n",
       "      <th></th>\n",
       "      <th></th>\n",
       "      <th></th>\n",
       "      <th></th>\n",
       "      <th></th>\n",
       "      <th></th>\n",
       "      <th></th>\n",
       "      <th></th>\n",
       "      <th></th>\n",
       "    </tr>\n",
       "  </thead>\n",
       "  <tbody>\n",
       "    <tr>\n",
       "      <th>AACT</th>\n",
       "      <td>0.999011</td>\n",
       "      <td>1.000000</td>\n",
       "      <td>1.000000</td>\n",
       "      <td>1.000989</td>\n",
       "      <td>1.000989</td>\n",
       "      <td>1.000989</td>\n",
       "      <td>1.002967</td>\n",
       "      <td>1.002967</td>\n",
       "      <td>1.003956</td>\n",
       "      <td>1.004946</td>\n",
       "      <td>...</td>\n",
       "      <td>1.005539</td>\n",
       "      <td>1.004946</td>\n",
       "      <td>1.004946</td>\n",
       "      <td>1.004946</td>\n",
       "      <td>1.005935</td>\n",
       "      <td>1.005935</td>\n",
       "      <td>1.005935</td>\n",
       "      <td>1.007913</td>\n",
       "      <td>1.007913</td>\n",
       "      <td>1.007913</td>\n",
       "    </tr>\n",
       "    <tr>\n",
       "      <th>AESI</th>\n",
       "      <td>0.973451</td>\n",
       "      <td>0.943363</td>\n",
       "      <td>0.979941</td>\n",
       "      <td>0.946903</td>\n",
       "      <td>0.951032</td>\n",
       "      <td>0.939823</td>\n",
       "      <td>0.949853</td>\n",
       "      <td>0.965192</td>\n",
       "      <td>0.968142</td>\n",
       "      <td>0.943953</td>\n",
       "      <td>...</td>\n",
       "      <td>1.023009</td>\n",
       "      <td>1.049557</td>\n",
       "      <td>1.050737</td>\n",
       "      <td>1.058997</td>\n",
       "      <td>1.076106</td>\n",
       "      <td>1.074926</td>\n",
       "      <td>1.057817</td>\n",
       "      <td>1.066077</td>\n",
       "      <td>1.056637</td>\n",
       "      <td>1.072566</td>\n",
       "    </tr>\n",
       "    <tr>\n",
       "      <th>AFJK</th>\n",
       "      <td>1.000000</td>\n",
       "      <td>1.000984</td>\n",
       "      <td>1.000984</td>\n",
       "      <td>1.001969</td>\n",
       "      <td>1.000984</td>\n",
       "      <td>1.001969</td>\n",
       "      <td>1.000984</td>\n",
       "      <td>1.000984</td>\n",
       "      <td>1.000492</td>\n",
       "      <td>1.000984</td>\n",
       "      <td>...</td>\n",
       "      <td>1.001969</td>\n",
       "      <td>1.001476</td>\n",
       "      <td>1.001969</td>\n",
       "      <td>1.001378</td>\n",
       "      <td>1.001969</td>\n",
       "      <td>0.999409</td>\n",
       "      <td>NaN</td>\n",
       "      <td>NaN</td>\n",
       "      <td>NaN</td>\n",
       "      <td>NaN</td>\n",
       "    </tr>\n",
       "    <tr>\n",
       "      <th>AHR</th>\n",
       "      <td>0.987897</td>\n",
       "      <td>0.992436</td>\n",
       "      <td>0.994705</td>\n",
       "      <td>1.009834</td>\n",
       "      <td>1.040847</td>\n",
       "      <td>1.031770</td>\n",
       "      <td>1.049168</td>\n",
       "      <td>1.014372</td>\n",
       "      <td>1.013616</td>\n",
       "      <td>1.024962</td>\n",
       "      <td>...</td>\n",
       "      <td>NaN</td>\n",
       "      <td>NaN</td>\n",
       "      <td>NaN</td>\n",
       "      <td>NaN</td>\n",
       "      <td>NaN</td>\n",
       "      <td>NaN</td>\n",
       "      <td>NaN</td>\n",
       "      <td>NaN</td>\n",
       "      <td>NaN</td>\n",
       "      <td>NaN</td>\n",
       "    </tr>\n",
       "    <tr>\n",
       "      <th>AITR</th>\n",
       "      <td>1.000986</td>\n",
       "      <td>1.003945</td>\n",
       "      <td>1.003945</td>\n",
       "      <td>1.004043</td>\n",
       "      <td>1.004931</td>\n",
       "      <td>1.004931</td>\n",
       "      <td>1.004931</td>\n",
       "      <td>1.005424</td>\n",
       "      <td>1.004931</td>\n",
       "      <td>1.005917</td>\n",
       "      <td>...</td>\n",
       "      <td>1.006903</td>\n",
       "      <td>1.006903</td>\n",
       "      <td>1.006903</td>\n",
       "      <td>1.007890</td>\n",
       "      <td>1.008876</td>\n",
       "      <td>1.007890</td>\n",
       "      <td>1.007692</td>\n",
       "      <td>1.007692</td>\n",
       "      <td>1.008383</td>\n",
       "      <td>1.008876</td>\n",
       "    </tr>\n",
       "    <tr>\n",
       "      <th>...</th>\n",
       "      <td>...</td>\n",
       "      <td>...</td>\n",
       "      <td>...</td>\n",
       "      <td>...</td>\n",
       "      <td>...</td>\n",
       "      <td>...</td>\n",
       "      <td>...</td>\n",
       "      <td>...</td>\n",
       "      <td>...</td>\n",
       "      <td>...</td>\n",
       "      <td>...</td>\n",
       "      <td>...</td>\n",
       "      <td>...</td>\n",
       "      <td>...</td>\n",
       "      <td>...</td>\n",
       "      <td>...</td>\n",
       "      <td>...</td>\n",
       "      <td>...</td>\n",
       "      <td>...</td>\n",
       "      <td>...</td>\n",
       "      <td>...</td>\n",
       "    </tr>\n",
       "    <tr>\n",
       "      <th>WRNT</th>\n",
       "      <td>0.788372</td>\n",
       "      <td>0.572093</td>\n",
       "      <td>0.508139</td>\n",
       "      <td>0.441860</td>\n",
       "      <td>0.372093</td>\n",
       "      <td>0.402326</td>\n",
       "      <td>0.369767</td>\n",
       "      <td>0.365116</td>\n",
       "      <td>0.318605</td>\n",
       "      <td>0.313953</td>\n",
       "      <td>...</td>\n",
       "      <td>0.241860</td>\n",
       "      <td>0.223256</td>\n",
       "      <td>0.226744</td>\n",
       "      <td>0.209302</td>\n",
       "      <td>0.244186</td>\n",
       "      <td>0.217674</td>\n",
       "      <td>0.209302</td>\n",
       "      <td>0.209302</td>\n",
       "      <td>0.213953</td>\n",
       "      <td>0.225814</td>\n",
       "    </tr>\n",
       "    <tr>\n",
       "      <th>YGFGF</th>\n",
       "      <td>0.975064</td>\n",
       "      <td>0.976864</td>\n",
       "      <td>0.997686</td>\n",
       "      <td>1.002571</td>\n",
       "      <td>0.940874</td>\n",
       "      <td>0.866324</td>\n",
       "      <td>0.843188</td>\n",
       "      <td>0.843188</td>\n",
       "      <td>0.832905</td>\n",
       "      <td>0.858612</td>\n",
       "      <td>...</td>\n",
       "      <td>0.950386</td>\n",
       "      <td>0.904884</td>\n",
       "      <td>1.002571</td>\n",
       "      <td>0.866324</td>\n",
       "      <td>0.868895</td>\n",
       "      <td>0.750643</td>\n",
       "      <td>0.758355</td>\n",
       "      <td>0.754499</td>\n",
       "      <td>0.830334</td>\n",
       "      <td>0.943445</td>\n",
       "    </tr>\n",
       "    <tr>\n",
       "      <th>YIBO</th>\n",
       "      <td>0.974910</td>\n",
       "      <td>0.931900</td>\n",
       "      <td>0.953405</td>\n",
       "      <td>0.867384</td>\n",
       "      <td>0.821505</td>\n",
       "      <td>0.737993</td>\n",
       "      <td>0.727599</td>\n",
       "      <td>0.788530</td>\n",
       "      <td>0.770609</td>\n",
       "      <td>0.770609</td>\n",
       "      <td>...</td>\n",
       "      <td>0.931900</td>\n",
       "      <td>0.982079</td>\n",
       "      <td>1.014337</td>\n",
       "      <td>0.982079</td>\n",
       "      <td>NaN</td>\n",
       "      <td>NaN</td>\n",
       "      <td>NaN</td>\n",
       "      <td>NaN</td>\n",
       "      <td>NaN</td>\n",
       "      <td>NaN</td>\n",
       "    </tr>\n",
       "    <tr>\n",
       "      <th>ZJYL</th>\n",
       "      <td>0.997987</td>\n",
       "      <td>0.962264</td>\n",
       "      <td>0.937107</td>\n",
       "      <td>0.943396</td>\n",
       "      <td>0.916981</td>\n",
       "      <td>0.940881</td>\n",
       "      <td>0.924528</td>\n",
       "      <td>0.922013</td>\n",
       "      <td>0.928302</td>\n",
       "      <td>0.880503</td>\n",
       "      <td>...</td>\n",
       "      <td>0.899371</td>\n",
       "      <td>0.959748</td>\n",
       "      <td>1.207547</td>\n",
       "      <td>0.739623</td>\n",
       "      <td>0.691824</td>\n",
       "      <td>0.704403</td>\n",
       "      <td>0.716981</td>\n",
       "      <td>0.704403</td>\n",
       "      <td>0.716730</td>\n",
       "      <td>0.703145</td>\n",
       "    </tr>\n",
       "    <tr>\n",
       "      <th>ZKH</th>\n",
       "      <td>1.000000</td>\n",
       "      <td>1.000000</td>\n",
       "      <td>1.011613</td>\n",
       "      <td>1.008387</td>\n",
       "      <td>1.003871</td>\n",
       "      <td>1.029032</td>\n",
       "      <td>1.025806</td>\n",
       "      <td>1.040000</td>\n",
       "      <td>1.052258</td>\n",
       "      <td>1.019355</td>\n",
       "      <td>...</td>\n",
       "      <td>1.079355</td>\n",
       "      <td>1.038710</td>\n",
       "      <td>1.045161</td>\n",
       "      <td>1.084516</td>\n",
       "      <td>1.194839</td>\n",
       "      <td>1.228387</td>\n",
       "      <td>1.106452</td>\n",
       "      <td>1.145161</td>\n",
       "      <td>1.169032</td>\n",
       "      <td>1.100645</td>\n",
       "    </tr>\n",
       "  </tbody>\n",
       "</table>\n",
       "<p>184 rows × 30 columns</p>\n",
       "</div>"
      ],
      "text/plain": [
       "        growth_future_1d  growth_future_2d  growth_future_3d  \\\n",
       "Ticker                                                         \n",
       "AACT            0.999011          1.000000          1.000000   \n",
       "AESI            0.973451          0.943363          0.979941   \n",
       "AFJK            1.000000          1.000984          1.000984   \n",
       "AHR             0.987897          0.992436          0.994705   \n",
       "AITR            1.000986          1.003945          1.003945   \n",
       "...                  ...               ...               ...   \n",
       "WRNT            0.788372          0.572093          0.508139   \n",
       "YGFGF           0.975064          0.976864          0.997686   \n",
       "YIBO            0.974910          0.931900          0.953405   \n",
       "ZJYL            0.997987          0.962264          0.937107   \n",
       "ZKH             1.000000          1.000000          1.011613   \n",
       "\n",
       "        growth_future_4d  growth_future_5d  growth_future_6d  \\\n",
       "Ticker                                                         \n",
       "AACT            1.000989          1.000989          1.000989   \n",
       "AESI            0.946903          0.951032          0.939823   \n",
       "AFJK            1.001969          1.000984          1.001969   \n",
       "AHR             1.009834          1.040847          1.031770   \n",
       "AITR            1.004043          1.004931          1.004931   \n",
       "...                  ...               ...               ...   \n",
       "WRNT            0.441860          0.372093          0.402326   \n",
       "YGFGF           1.002571          0.940874          0.866324   \n",
       "YIBO            0.867384          0.821505          0.737993   \n",
       "ZJYL            0.943396          0.916981          0.940881   \n",
       "ZKH             1.008387          1.003871          1.029032   \n",
       "\n",
       "        growth_future_7d  growth_future_8d  growth_future_9d  \\\n",
       "Ticker                                                         \n",
       "AACT            1.002967          1.002967          1.003956   \n",
       "AESI            0.949853          0.965192          0.968142   \n",
       "AFJK            1.000984          1.000984          1.000492   \n",
       "AHR             1.049168          1.014372          1.013616   \n",
       "AITR            1.004931          1.005424          1.004931   \n",
       "...                  ...               ...               ...   \n",
       "WRNT            0.369767          0.365116          0.318605   \n",
       "YGFGF           0.843188          0.843188          0.832905   \n",
       "YIBO            0.727599          0.788530          0.770609   \n",
       "ZJYL            0.924528          0.922013          0.928302   \n",
       "ZKH             1.025806          1.040000          1.052258   \n",
       "\n",
       "        growth_future_10d  ...  growth_future_21d  growth_future_22d  \\\n",
       "Ticker                     ...                                         \n",
       "AACT             1.004946  ...           1.005539           1.004946   \n",
       "AESI             0.943953  ...           1.023009           1.049557   \n",
       "AFJK             1.000984  ...           1.001969           1.001476   \n",
       "AHR              1.024962  ...                NaN                NaN   \n",
       "AITR             1.005917  ...           1.006903           1.006903   \n",
       "...                   ...  ...                ...                ...   \n",
       "WRNT             0.313953  ...           0.241860           0.223256   \n",
       "YGFGF            0.858612  ...           0.950386           0.904884   \n",
       "YIBO             0.770609  ...           0.931900           0.982079   \n",
       "ZJYL             0.880503  ...           0.899371           0.959748   \n",
       "ZKH              1.019355  ...           1.079355           1.038710   \n",
       "\n",
       "        growth_future_23d  growth_future_24d  growth_future_25d  \\\n",
       "Ticker                                                            \n",
       "AACT             1.004946           1.004946           1.005935   \n",
       "AESI             1.050737           1.058997           1.076106   \n",
       "AFJK             1.001969           1.001378           1.001969   \n",
       "AHR                   NaN                NaN                NaN   \n",
       "AITR             1.006903           1.007890           1.008876   \n",
       "...                   ...                ...                ...   \n",
       "WRNT             0.226744           0.209302           0.244186   \n",
       "YGFGF            1.002571           0.866324           0.868895   \n",
       "YIBO             1.014337           0.982079                NaN   \n",
       "ZJYL             1.207547           0.739623           0.691824   \n",
       "ZKH              1.045161           1.084516           1.194839   \n",
       "\n",
       "        growth_future_26d  growth_future_27d  growth_future_28d  \\\n",
       "Ticker                                                            \n",
       "AACT             1.005935           1.005935           1.007913   \n",
       "AESI             1.074926           1.057817           1.066077   \n",
       "AFJK             0.999409                NaN                NaN   \n",
       "AHR                   NaN                NaN                NaN   \n",
       "AITR             1.007890           1.007692           1.007692   \n",
       "...                   ...                ...                ...   \n",
       "WRNT             0.217674           0.209302           0.209302   \n",
       "YGFGF            0.750643           0.758355           0.754499   \n",
       "YIBO                  NaN                NaN                NaN   \n",
       "ZJYL             0.704403           0.716981           0.704403   \n",
       "ZKH              1.228387           1.106452           1.145161   \n",
       "\n",
       "        growth_future_29d  growth_future_30d  \n",
       "Ticker                                        \n",
       "AACT             1.007913           1.007913  \n",
       "AESI             1.056637           1.072566  \n",
       "AFJK                  NaN                NaN  \n",
       "AHR                   NaN                NaN  \n",
       "AITR             1.008383           1.008876  \n",
       "...                   ...                ...  \n",
       "WRNT             0.213953           0.225814  \n",
       "YGFGF            0.830334           0.943445  \n",
       "YIBO                  NaN                NaN  \n",
       "ZJYL             0.716730           0.703145  \n",
       "ZKH              1.169032           1.100645  \n",
       "\n",
       "[184 rows x 30 columns]"
      ]
     },
     "execution_count": 21,
     "metadata": {},
     "output_type": "execute_result"
    }
   ],
   "source": [
    "def calc_growth_futre_xd(qty_days:int,stock:str,df_stocks:pd.DataFrame)->float:\n",
    "  df_temp2=df.loc[df[stock].isna()==False,stock].copy()\n",
    "  try:\n",
    "    return (df_temp2.shift(-qty_days)/df_temp2).dropna().iloc[0]\n",
    "  except Exception as e :\n",
    "    return np.NaN\n",
    "\n",
    "stock_lst.sort()\n",
    "\n",
    "t1= time.time()\n",
    "for ticket in stock_lst:\n",
    "  for d in range(1,31):\n",
    "    df_tmp.loc[ticket,f\"growth_future_{d}d\"]=calc_growth_futre_xd(d,ticket,df)\n",
    "for c in df_tmp.columns:\n",
    "  df_tmp[c]=  pd.to_numeric(df_tmp[c],errors='coerce')\n",
    "# df_tmp.info()\n",
    "# df_tmp.describe()\n",
    "print(f\"time enlapsed {time.time()-t1:.2f}\")\n",
    "# df_tmp.loc['AESI'][f\"growth_future_{1}d\"]=1\n",
    "df_tmp"
   ]
  },
  {
   "cell_type": "code",
   "execution_count": 22,
   "metadata": {},
   "outputs": [
    {
     "data": {
      "text/html": [
       "<div>\n",
       "<style scoped>\n",
       "    .dataframe tbody tr th:only-of-type {\n",
       "        vertical-align: middle;\n",
       "    }\n",
       "\n",
       "    .dataframe tbody tr th {\n",
       "        vertical-align: top;\n",
       "    }\n",
       "\n",
       "    .dataframe thead th {\n",
       "        text-align: right;\n",
       "    }\n",
       "</style>\n",
       "<table border=\"1\" class=\"dataframe\">\n",
       "  <thead>\n",
       "    <tr style=\"text-align: right;\">\n",
       "      <th></th>\n",
       "      <th>growth_future_1d</th>\n",
       "      <th>growth_future_2d</th>\n",
       "      <th>growth_future_3d</th>\n",
       "      <th>growth_future_4d</th>\n",
       "      <th>growth_future_5d</th>\n",
       "      <th>growth_future_6d</th>\n",
       "      <th>growth_future_7d</th>\n",
       "      <th>growth_future_8d</th>\n",
       "      <th>growth_future_9d</th>\n",
       "      <th>growth_future_10d</th>\n",
       "      <th>...</th>\n",
       "      <th>growth_future_21d</th>\n",
       "      <th>growth_future_22d</th>\n",
       "      <th>growth_future_23d</th>\n",
       "      <th>growth_future_24d</th>\n",
       "      <th>growth_future_25d</th>\n",
       "      <th>growth_future_26d</th>\n",
       "      <th>growth_future_27d</th>\n",
       "      <th>growth_future_28d</th>\n",
       "      <th>growth_future_29d</th>\n",
       "      <th>growth_future_30d</th>\n",
       "    </tr>\n",
       "  </thead>\n",
       "  <tbody>\n",
       "    <tr>\n",
       "      <th>count</th>\n",
       "      <td>184.000000</td>\n",
       "      <td>184.000000</td>\n",
       "      <td>183.000000</td>\n",
       "      <td>182.000000</td>\n",
       "      <td>182.000000</td>\n",
       "      <td>182.000000</td>\n",
       "      <td>181.000000</td>\n",
       "      <td>181.000000</td>\n",
       "      <td>179.000000</td>\n",
       "      <td>179.000000</td>\n",
       "      <td>...</td>\n",
       "      <td>166.000000</td>\n",
       "      <td>166.000000</td>\n",
       "      <td>166.000000</td>\n",
       "      <td>163.000000</td>\n",
       "      <td>161.000000</td>\n",
       "      <td>159.000000</td>\n",
       "      <td>158.000000</td>\n",
       "      <td>158.000000</td>\n",
       "      <td>156.000000</td>\n",
       "      <td>154.000000</td>\n",
       "    </tr>\n",
       "    <tr>\n",
       "      <th>mean</th>\n",
       "      <td>0.945810</td>\n",
       "      <td>0.937106</td>\n",
       "      <td>0.932026</td>\n",
       "      <td>0.921486</td>\n",
       "      <td>0.914781</td>\n",
       "      <td>0.907470</td>\n",
       "      <td>0.897106</td>\n",
       "      <td>0.897288</td>\n",
       "      <td>0.898583</td>\n",
       "      <td>0.895306</td>\n",
       "      <td>...</td>\n",
       "      <td>0.916542</td>\n",
       "      <td>0.908094</td>\n",
       "      <td>0.908017</td>\n",
       "      <td>0.905103</td>\n",
       "      <td>0.893409</td>\n",
       "      <td>0.899677</td>\n",
       "      <td>0.933847</td>\n",
       "      <td>0.939195</td>\n",
       "      <td>0.937890</td>\n",
       "      <td>0.939298</td>\n",
       "    </tr>\n",
       "    <tr>\n",
       "      <th>std</th>\n",
       "      <td>0.170227</td>\n",
       "      <td>0.205919</td>\n",
       "      <td>0.247176</td>\n",
       "      <td>0.264042</td>\n",
       "      <td>0.295091</td>\n",
       "      <td>0.309842</td>\n",
       "      <td>0.298984</td>\n",
       "      <td>0.320826</td>\n",
       "      <td>0.353696</td>\n",
       "      <td>0.367094</td>\n",
       "      <td>...</td>\n",
       "      <td>0.529683</td>\n",
       "      <td>0.487513</td>\n",
       "      <td>0.493698</td>\n",
       "      <td>0.502190</td>\n",
       "      <td>0.498237</td>\n",
       "      <td>0.544435</td>\n",
       "      <td>0.831805</td>\n",
       "      <td>0.833095</td>\n",
       "      <td>0.835257</td>\n",
       "      <td>0.828967</td>\n",
       "    </tr>\n",
       "    <tr>\n",
       "      <th>min</th>\n",
       "      <td>0.153569</td>\n",
       "      <td>0.108733</td>\n",
       "      <td>0.086641</td>\n",
       "      <td>0.094257</td>\n",
       "      <td>0.081118</td>\n",
       "      <td>0.087677</td>\n",
       "      <td>0.085261</td>\n",
       "      <td>0.090123</td>\n",
       "      <td>0.095616</td>\n",
       "      <td>0.096997</td>\n",
       "      <td>...</td>\n",
       "      <td>0.048326</td>\n",
       "      <td>0.048326</td>\n",
       "      <td>0.049361</td>\n",
       "      <td>0.048326</td>\n",
       "      <td>0.048326</td>\n",
       "      <td>0.045219</td>\n",
       "      <td>0.044529</td>\n",
       "      <td>0.046945</td>\n",
       "      <td>0.042803</td>\n",
       "      <td>0.040387</td>\n",
       "    </tr>\n",
       "    <tr>\n",
       "      <th>25%</th>\n",
       "      <td>0.921392</td>\n",
       "      <td>0.876712</td>\n",
       "      <td>0.853571</td>\n",
       "      <td>0.835599</td>\n",
       "      <td>0.792430</td>\n",
       "      <td>0.784618</td>\n",
       "      <td>0.790333</td>\n",
       "      <td>0.750000</td>\n",
       "      <td>0.731103</td>\n",
       "      <td>0.711589</td>\n",
       "      <td>...</td>\n",
       "      <td>0.625299</td>\n",
       "      <td>0.616880</td>\n",
       "      <td>0.616976</td>\n",
       "      <td>0.633517</td>\n",
       "      <td>0.607884</td>\n",
       "      <td>0.606017</td>\n",
       "      <td>0.602782</td>\n",
       "      <td>0.626498</td>\n",
       "      <td>0.610721</td>\n",
       "      <td>0.623529</td>\n",
       "    </tr>\n",
       "    <tr>\n",
       "      <th>50%</th>\n",
       "      <td>1.000000</td>\n",
       "      <td>0.999550</td>\n",
       "      <td>0.997959</td>\n",
       "      <td>0.995516</td>\n",
       "      <td>0.996965</td>\n",
       "      <td>0.976002</td>\n",
       "      <td>0.980443</td>\n",
       "      <td>0.981308</td>\n",
       "      <td>0.987915</td>\n",
       "      <td>0.978735</td>\n",
       "      <td>...</td>\n",
       "      <td>0.977389</td>\n",
       "      <td>0.985499</td>\n",
       "      <td>0.984442</td>\n",
       "      <td>0.977778</td>\n",
       "      <td>0.966194</td>\n",
       "      <td>0.977839</td>\n",
       "      <td>0.973983</td>\n",
       "      <td>0.973220</td>\n",
       "      <td>0.968098</td>\n",
       "      <td>0.984353</td>\n",
       "    </tr>\n",
       "    <tr>\n",
       "      <th>75%</th>\n",
       "      <td>1.011792</td>\n",
       "      <td>1.017794</td>\n",
       "      <td>1.009769</td>\n",
       "      <td>1.009530</td>\n",
       "      <td>1.009926</td>\n",
       "      <td>1.007620</td>\n",
       "      <td>1.006897</td>\n",
       "      <td>1.008815</td>\n",
       "      <td>1.011662</td>\n",
       "      <td>1.014198</td>\n",
       "      <td>...</td>\n",
       "      <td>1.011947</td>\n",
       "      <td>1.022487</td>\n",
       "      <td>1.020213</td>\n",
       "      <td>1.021537</td>\n",
       "      <td>1.016716</td>\n",
       "      <td>1.023933</td>\n",
       "      <td>1.021156</td>\n",
       "      <td>1.025557</td>\n",
       "      <td>1.024041</td>\n",
       "      <td>1.020630</td>\n",
       "    </tr>\n",
       "    <tr>\n",
       "      <th>max</th>\n",
       "      <td>1.362069</td>\n",
       "      <td>1.464015</td>\n",
       "      <td>2.380000</td>\n",
       "      <td>2.083710</td>\n",
       "      <td>2.262443</td>\n",
       "      <td>2.529870</td>\n",
       "      <td>2.173913</td>\n",
       "      <td>2.359740</td>\n",
       "      <td>2.751948</td>\n",
       "      <td>3.176087</td>\n",
       "      <td>...</td>\n",
       "      <td>4.500000</td>\n",
       "      <td>3.871041</td>\n",
       "      <td>3.846154</td>\n",
       "      <td>3.803394</td>\n",
       "      <td>3.427273</td>\n",
       "      <td>4.817886</td>\n",
       "      <td>9.056122</td>\n",
       "      <td>9.081632</td>\n",
       "      <td>9.265306</td>\n",
       "      <td>9.372449</td>\n",
       "    </tr>\n",
       "  </tbody>\n",
       "</table>\n",
       "<p>8 rows × 30 columns</p>\n",
       "</div>"
      ],
      "text/plain": [
       "       growth_future_1d  growth_future_2d  growth_future_3d  growth_future_4d  \\\n",
       "count        184.000000        184.000000        183.000000        182.000000   \n",
       "mean           0.945810          0.937106          0.932026          0.921486   \n",
       "std            0.170227          0.205919          0.247176          0.264042   \n",
       "min            0.153569          0.108733          0.086641          0.094257   \n",
       "25%            0.921392          0.876712          0.853571          0.835599   \n",
       "50%            1.000000          0.999550          0.997959          0.995516   \n",
       "75%            1.011792          1.017794          1.009769          1.009530   \n",
       "max            1.362069          1.464015          2.380000          2.083710   \n",
       "\n",
       "       growth_future_5d  growth_future_6d  growth_future_7d  growth_future_8d  \\\n",
       "count        182.000000        182.000000        181.000000        181.000000   \n",
       "mean           0.914781          0.907470          0.897106          0.897288   \n",
       "std            0.295091          0.309842          0.298984          0.320826   \n",
       "min            0.081118          0.087677          0.085261          0.090123   \n",
       "25%            0.792430          0.784618          0.790333          0.750000   \n",
       "50%            0.996965          0.976002          0.980443          0.981308   \n",
       "75%            1.009926          1.007620          1.006897          1.008815   \n",
       "max            2.262443          2.529870          2.173913          2.359740   \n",
       "\n",
       "       growth_future_9d  growth_future_10d  ...  growth_future_21d  \\\n",
       "count        179.000000         179.000000  ...         166.000000   \n",
       "mean           0.898583           0.895306  ...           0.916542   \n",
       "std            0.353696           0.367094  ...           0.529683   \n",
       "min            0.095616           0.096997  ...           0.048326   \n",
       "25%            0.731103           0.711589  ...           0.625299   \n",
       "50%            0.987915           0.978735  ...           0.977389   \n",
       "75%            1.011662           1.014198  ...           1.011947   \n",
       "max            2.751948           3.176087  ...           4.500000   \n",
       "\n",
       "       growth_future_22d  growth_future_23d  growth_future_24d  \\\n",
       "count         166.000000         166.000000         163.000000   \n",
       "mean            0.908094           0.908017           0.905103   \n",
       "std             0.487513           0.493698           0.502190   \n",
       "min             0.048326           0.049361           0.048326   \n",
       "25%             0.616880           0.616976           0.633517   \n",
       "50%             0.985499           0.984442           0.977778   \n",
       "75%             1.022487           1.020213           1.021537   \n",
       "max             3.871041           3.846154           3.803394   \n",
       "\n",
       "       growth_future_25d  growth_future_26d  growth_future_27d  \\\n",
       "count         161.000000         159.000000         158.000000   \n",
       "mean            0.893409           0.899677           0.933847   \n",
       "std             0.498237           0.544435           0.831805   \n",
       "min             0.048326           0.045219           0.044529   \n",
       "25%             0.607884           0.606017           0.602782   \n",
       "50%             0.966194           0.977839           0.973983   \n",
       "75%             1.016716           1.023933           1.021156   \n",
       "max             3.427273           4.817886           9.056122   \n",
       "\n",
       "       growth_future_28d  growth_future_29d  growth_future_30d  \n",
       "count         158.000000         156.000000         154.000000  \n",
       "mean            0.939195           0.937890           0.939298  \n",
       "std             0.833095           0.835257           0.828967  \n",
       "min             0.046945           0.042803           0.040387  \n",
       "25%             0.626498           0.610721           0.623529  \n",
       "50%             0.973220           0.968098           0.984353  \n",
       "75%             1.025557           1.024041           1.020630  \n",
       "max             9.081632           9.265306           9.372449  \n",
       "\n",
       "[8 rows x 30 columns]"
      ]
     },
     "execution_count": 22,
     "metadata": {},
     "output_type": "execute_result"
    }
   ],
   "source": [
    "df_tmp.describe()"
   ]
  },
  {
   "cell_type": "code",
   "execution_count": 23,
   "metadata": {},
   "outputs": [
    {
     "data": {
      "text/plain": [
       "growth_future_1d     1.011792\n",
       "growth_future_2d     1.017794\n",
       "growth_future_3d     1.009769\n",
       "growth_future_4d     1.009530\n",
       "growth_future_5d     1.009926\n",
       "growth_future_6d     1.007620\n",
       "growth_future_7d     1.006897\n",
       "growth_future_8d     1.008815\n",
       "growth_future_9d     1.011662\n",
       "growth_future_10d    1.014198\n",
       "growth_future_11d    1.013850\n",
       "growth_future_12d    1.019350\n",
       "growth_future_13d    1.020168\n",
       "growth_future_14d    1.014986\n",
       "growth_future_15d    1.014078\n",
       "growth_future_16d    1.013298\n",
       "growth_future_17d    1.010832\n",
       "growth_future_18d    1.011820\n",
       "growth_future_19d    1.014823\n",
       "growth_future_20d    1.014142\n",
       "growth_future_21d    1.011947\n",
       "growth_future_22d    1.022487\n",
       "growth_future_23d    1.020213\n",
       "growth_future_24d    1.021537\n",
       "growth_future_25d    1.016716\n",
       "growth_future_26d    1.023933\n",
       "growth_future_27d    1.021156\n",
       "growth_future_28d    1.025557\n",
       "growth_future_29d    1.024041\n",
       "growth_future_30d    1.020630\n",
       "Name: 75%, dtype: float64"
      ]
     },
     "execution_count": 23,
     "metadata": {},
     "output_type": "execute_result"
    }
   ],
   "source": [
    "quantil_75=df_tmp.describe().loc['75%']\n",
    "quantil_75"
   ]
  },
  {
   "cell_type": "markdown",
   "metadata": {},
   "source": [
    "### Question 2: Answer"
   ]
  },
  {
   "cell_type": "code",
   "execution_count": 24,
   "metadata": {},
   "outputs": [
    {
     "name": "stdout",
     "output_type": "stream",
     "text": [
      "the optimal number of days is 28\n"
     ]
    }
   ],
   "source": [
    "# Q2 Answer\n",
    "days=f\"{quantil_75[quantil_75.max()==quantil_75].index[0]}\"\n",
    "days=days.replace(\"growth_future_\",\"\").replace('d','')\n",
    "print(f\"the optimal number of days is {days}\")"
   ]
  },
  {
   "cell_type": "markdown",
   "metadata": {},
   "source": [
    "---\n",
    "### Question 3: Is Growth Concentrated in the Largest Stocks?\n",
    "\n",
    "**Get the share of days (percentage as int) when Large Stocks outperform (growth_7d - growth over 7 periods back) the Largest stocks?**\n",
    "\n",
    "Reuse [Code Snippet 5] to obtain OHLCV stats for 33 stocks \n",
    "for 10 full years of data (2014-01-01 to 2023-12-31). You'll need to download slightly more data (7 periods before 2014-01-01 to calculate the growth_7d for the first 6 days correctly):\n",
    "\n",
    "`US_STOCKS = ['MSFT', 'AAPL', 'GOOG', 'NVDA', 'AMZN', 'META', 'BRK-B', 'LLY', 'AVGO','V', 'JPM']`\n",
    "\n",
    "`EU_STOCKS = ['NVO','MC.PA', 'ASML', 'RMS.PA', 'OR.PA', 'SAP', 'ACN', 'TTE', 'SIE.DE','IDEXY','CDI.PA']`\n",
    "\n",
    "`INDIA_STOCKS = ['RELIANCE.NS','TCS.NS','HDB','BHARTIARTL.NS','IBN','SBIN.NS','LICI.NS','INFY','ITC.NS','HINDUNILVR.NS','LT.NS']`\n",
    "\n",
    "`LARGEST_STOCKS = US_STOCKS + EU_STOCKS + INDIA_STOCKS`\n",
    "<br/>\n",
    "\n",
    "Now let's add the top 12-22 stocks (as of end-April 2024):\n",
    "<br/>\n",
    "\n",
    "`NEW_US = ['TSLA','WMT','XOM','UNH','MA','PG','JNJ','MRK','HD','COST','ORCL']`\n",
    "\n",
    "`NEW_EU = ['PRX.AS','CDI.PA','AIR.PA','SU.PA','ETN','SNY','BUD','DTE.DE','ALV.DE','MDT','AI.PA','EL.PA']`\n",
    "\n",
    "`NEW_INDIA = ['BAJFINANCE.NS','MARUTI.NS','HCLTECH.NS','TATAMOTORS.NS','SUNPHARMA.NS','ONGC.NS','ADANIENT.NS','ADANIENT.NS','NTPC.NS','KOTAKBANK.NS','TITAN.NS']`\n",
    "\n",
    "`LARGE_STOCKS = NEW_EU + NEW_US + NEW_INDIA`\n",
    "\n"
   ]
  },
  {
   "cell_type": "code",
   "execution_count": 59,
   "metadata": {},
   "outputs": [],
   "source": [
    "# https://companiesmarketcap.com/usa/largest-companies-in-the-usa-by-market-cap/\n",
    "US_STOCKS = ['MSFT', 'AAPL', 'GOOG', 'NVDA', 'AMZN', 'META', 'BRK-B', 'LLY', 'AVGO','V', 'JPM']\n",
    "\n",
    "# You're required to add EU_STOCKS and INDIA_STOCS\n",
    "# https://companiesmarketcap.com/european-union/largest-companies-in-the-eu-by-market-cap/\n",
    "EU_STOCKS = ['NVO','MC.PA', 'ASML', 'RMS.PA', 'OR.PA', 'SAP', 'ACN', 'TTE', 'SIE.DE','IDEXY','CDI.PA']\n",
    "\n",
    "# https://companiesmarketcap.com/india/largest-companies-in-india-by-market-cap/\n",
    "INDIA_STOCKS = ['RELIANCE.NS','TCS.NS','HDB','BHARTIARTL.NS','IBN','SBIN.NS','LICI.NS','INFY','ITC.NS','HINDUNILVR.NS','LT.NS']\n",
    "\n",
    "LARGEST_STOCKS = US_STOCKS + EU_STOCKS + INDIA_STOCKS\n",
    "\n",
    "# Now let's add the top 12-22 stocks (as of end-April 2024):\n",
    "\n",
    "NEW_US = ['TSLA','WMT','XOM','UNH','MA','PG','JNJ','MRK','HD','COST','ORCL']\n",
    "\n",
    "NEW_EU = ['PRX.AS','CDI.PA','AIR.PA','SU.PA','ETN','SNY','BUD','DTE.DE','ALV.DE','MDT','AI.PA','EL.PA']\n",
    "\n",
    "NEW_INDIA = ['BAJFINANCE.NS','MARUTI.NS','HCLTECH.NS','TATAMOTORS.NS','SUNPHARMA.NS','ONGC.NS','ADANIENT.NS','ADANIENT.NS','NTPC.NS','KOTAKBANK.NS','TITAN.NS']\n",
    "\n",
    "LARGE_STOCKS = NEW_EU + NEW_US + NEW_INDIA\n",
    "\n"
   ]
  },
  {
   "cell_type": "markdown",
   "metadata": {},
   "source": []
  },
  {
   "cell_type": "code",
   "execution_count": 38,
   "metadata": {},
   "outputs": [
    {
     "data": {
      "text/plain": [
       "['MSFT',\n",
       " 'AAPL',\n",
       " 'GOOG',\n",
       " 'NVDA',\n",
       " 'AMZN',\n",
       " 'META',\n",
       " 'BRK-B',\n",
       " 'LLY',\n",
       " 'AVGO',\n",
       " 'V',\n",
       " 'JPM',\n",
       " 'NVO',\n",
       " 'MC.PA',\n",
       " 'ASML',\n",
       " 'RMS.PA',\n",
       " 'OR.PA',\n",
       " 'SAP',\n",
       " 'ACN',\n",
       " 'TTE',\n",
       " 'SIE.DE',\n",
       " 'IDEXY',\n",
       " 'CDI.PA',\n",
       " 'RELIANCE.NS',\n",
       " 'TCS.NS',\n",
       " 'HDB',\n",
       " 'BHARTIARTL.NS',\n",
       " 'IBN',\n",
       " 'SBIN.NS',\n",
       " 'LICI.NS',\n",
       " 'INFY',\n",
       " 'ITC.NS',\n",
       " 'HINDUNILVR.NS',\n",
       " 'LT.NS']"
      ]
     },
     "execution_count": 38,
     "metadata": {},
     "output_type": "execute_result"
    }
   ],
   "source": [
    "ALL_TICKERS = US_STOCKS  + EU_STOCKS + INDIA_STOCKS\n",
    "ALL_TICKERS"
   ]
  },
  {
   "cell_type": "markdown",
   "metadata": {},
   "source": [
    "You should be able to obtain stats for 33 LARGEST STOCKS and 32 LARGE STOCKS (from the actual stats on Yahoo Finance)\n",
    "\n",
    "Calculate  `growth_7d` for every stock and every day.\n",
    "Get the average daily `growth_7d` for the LARGEST_STOCKS group vs. the LARGE_STOCKS group.\n",
    "\n",
    "For example, for the first of data you should have:\n",
    "| Date   |      ticker_category      |  growth_7d |\n",
    "|----------|:-------------:|------:|\n",
    "| 2014-01-01 |  LARGE | 1.011684 |\n",
    "| 2014-01-01 |   LARGEST   |   1.011797 |\n",
    "\n",
    "On that day, the LARGEST group was growing faster than LARGE one (new stocks).\n",
    "\n",
    "Calculate the number of days when the LARGE GROUP (new smaller stocks) outperforms the LARGEST GROUP, divide it by the total number of trading days (which should be 2595 days), and convert it to a percentage (closest INTEGER value). For example, if you find that 1700 out of 2595 days meet this condition, it means that 1700/2595 = 0.655, or approximately 66% of days, the LARGE stocks were growing faster than the LARGEST ones. This suggests that you should consider extending your dataset with more stocks to seek higher growth.\n",
    "\n",
    "HINT: you can use pandas.pivot_table() to \"flatten\" the table (LARGE and LARGEST growth_7d as columns)"
   ]
  },
  {
   "cell_type": "code",
   "execution_count": 42,
   "metadata": {},
   "outputs": [
    {
     "name": "stdout",
     "output_type": "stream",
     "text": [
      "0 MSFT\n"
     ]
    },
    {
     "name": "stderr",
     "output_type": "stream",
     "text": [
      "[*********************100%%**********************]  1 of 1 completed\n"
     ]
    },
    {
     "name": "stdout",
     "output_type": "stream",
     "text": [
      "1 AAPL\n"
     ]
    },
    {
     "name": "stderr",
     "output_type": "stream",
     "text": [
      "[*********************100%%**********************]  1 of 1 completed\n",
      "[*********************100%%**********************]  1 of 1 completed"
     ]
    },
    {
     "name": "stdout",
     "output_type": "stream",
     "text": [
      "2 GOOG\n"
     ]
    },
    {
     "name": "stderr",
     "output_type": "stream",
     "text": [
      "\n"
     ]
    },
    {
     "name": "stdout",
     "output_type": "stream",
     "text": [
      "3 NVDA\n"
     ]
    },
    {
     "name": "stderr",
     "output_type": "stream",
     "text": [
      "[*********************100%%**********************]  1 of 1 completed\n"
     ]
    },
    {
     "name": "stdout",
     "output_type": "stream",
     "text": [
      "4 AMZN\n"
     ]
    },
    {
     "name": "stderr",
     "output_type": "stream",
     "text": [
      "[*********************100%%**********************]  1 of 1 completed\n",
      "[*********************100%%**********************]  1 of 1 completed"
     ]
    },
    {
     "name": "stdout",
     "output_type": "stream",
     "text": [
      "5 META\n"
     ]
    },
    {
     "name": "stderr",
     "output_type": "stream",
     "text": [
      "\n"
     ]
    },
    {
     "name": "stdout",
     "output_type": "stream",
     "text": [
      "6 BRK-B\n"
     ]
    },
    {
     "name": "stderr",
     "output_type": "stream",
     "text": [
      "[*********************100%%**********************]  1 of 1 completed\n"
     ]
    },
    {
     "name": "stdout",
     "output_type": "stream",
     "text": [
      "7 LLY\n"
     ]
    },
    {
     "name": "stderr",
     "output_type": "stream",
     "text": [
      "[*********************100%%**********************]  1 of 1 completed\n",
      "[*********************100%%**********************]  1 of 1 completed"
     ]
    },
    {
     "name": "stdout",
     "output_type": "stream",
     "text": [
      "8 AVGO\n"
     ]
    },
    {
     "name": "stderr",
     "output_type": "stream",
     "text": [
      "\n",
      "[*********************100%%**********************]  1 of 1 completed"
     ]
    },
    {
     "name": "stdout",
     "output_type": "stream",
     "text": [
      "9 V\n"
     ]
    },
    {
     "name": "stderr",
     "output_type": "stream",
     "text": [
      "\n"
     ]
    },
    {
     "name": "stdout",
     "output_type": "stream",
     "text": [
      "10 JPM\n"
     ]
    },
    {
     "name": "stderr",
     "output_type": "stream",
     "text": [
      "[*********************100%%**********************]  1 of 1 completed\n"
     ]
    },
    {
     "name": "stdout",
     "output_type": "stream",
     "text": [
      "11 NVO\n"
     ]
    },
    {
     "name": "stderr",
     "output_type": "stream",
     "text": [
      "[*********************100%%**********************]  1 of 1 completed\n"
     ]
    },
    {
     "name": "stdout",
     "output_type": "stream",
     "text": [
      "12 MC.PA\n"
     ]
    },
    {
     "name": "stderr",
     "output_type": "stream",
     "text": [
      "[*********************100%%**********************]  1 of 1 completed\n"
     ]
    },
    {
     "name": "stdout",
     "output_type": "stream",
     "text": [
      "13 ASML\n"
     ]
    },
    {
     "name": "stderr",
     "output_type": "stream",
     "text": [
      "[*********************100%%**********************]  1 of 1 completed\n"
     ]
    },
    {
     "name": "stdout",
     "output_type": "stream",
     "text": [
      "14 RMS.PA\n"
     ]
    },
    {
     "name": "stderr",
     "output_type": "stream",
     "text": [
      "[*********************100%%**********************]  1 of 1 completed\n"
     ]
    },
    {
     "name": "stdout",
     "output_type": "stream",
     "text": [
      "15 OR.PA\n"
     ]
    },
    {
     "name": "stderr",
     "output_type": "stream",
     "text": [
      "[*********************100%%**********************]  1 of 1 completed\n"
     ]
    },
    {
     "name": "stdout",
     "output_type": "stream",
     "text": [
      "16 SAP\n"
     ]
    },
    {
     "name": "stderr",
     "output_type": "stream",
     "text": [
      "[*********************100%%**********************]  1 of 1 completed\n"
     ]
    },
    {
     "name": "stdout",
     "output_type": "stream",
     "text": [
      "17 ACN\n"
     ]
    },
    {
     "name": "stderr",
     "output_type": "stream",
     "text": [
      "[*********************100%%**********************]  1 of 1 completed\n"
     ]
    },
    {
     "name": "stdout",
     "output_type": "stream",
     "text": [
      "18 TTE\n"
     ]
    },
    {
     "name": "stderr",
     "output_type": "stream",
     "text": [
      "[*********************100%%**********************]  1 of 1 completed\n"
     ]
    },
    {
     "name": "stdout",
     "output_type": "stream",
     "text": [
      "19 SIE.DE\n"
     ]
    },
    {
     "name": "stderr",
     "output_type": "stream",
     "text": [
      "[*********************100%%**********************]  1 of 1 completed\n",
      "[*********************100%%**********************]  1 of 1 completed"
     ]
    },
    {
     "name": "stdout",
     "output_type": "stream",
     "text": [
      "20 IDEXY\n"
     ]
    },
    {
     "name": "stderr",
     "output_type": "stream",
     "text": [
      "\n"
     ]
    },
    {
     "name": "stdout",
     "output_type": "stream",
     "text": [
      "21 CDI.PA\n"
     ]
    },
    {
     "name": "stderr",
     "output_type": "stream",
     "text": [
      "[*********************100%%**********************]  1 of 1 completed\n"
     ]
    },
    {
     "name": "stdout",
     "output_type": "stream",
     "text": [
      "22 RELIANCE.NS\n"
     ]
    },
    {
     "name": "stderr",
     "output_type": "stream",
     "text": [
      "[*********************100%%**********************]  1 of 1 completed\n"
     ]
    },
    {
     "name": "stdout",
     "output_type": "stream",
     "text": [
      "23 TCS.NS\n"
     ]
    },
    {
     "name": "stderr",
     "output_type": "stream",
     "text": [
      "[*********************100%%**********************]  1 of 1 completed\n"
     ]
    },
    {
     "name": "stdout",
     "output_type": "stream",
     "text": [
      "24 HDB\n"
     ]
    },
    {
     "name": "stderr",
     "output_type": "stream",
     "text": [
      "[*********************100%%**********************]  1 of 1 completed\n"
     ]
    },
    {
     "name": "stdout",
     "output_type": "stream",
     "text": [
      "25 BHARTIARTL.NS\n"
     ]
    },
    {
     "name": "stderr",
     "output_type": "stream",
     "text": [
      "[*********************100%%**********************]  1 of 1 completed\n"
     ]
    },
    {
     "name": "stdout",
     "output_type": "stream",
     "text": [
      "26 IBN\n"
     ]
    },
    {
     "name": "stderr",
     "output_type": "stream",
     "text": [
      "[*********************100%%**********************]  1 of 1 completed\n"
     ]
    },
    {
     "name": "stdout",
     "output_type": "stream",
     "text": [
      "27 SBIN.NS\n"
     ]
    },
    {
     "name": "stderr",
     "output_type": "stream",
     "text": [
      "[*********************100%%**********************]  1 of 1 completed\n",
      "[*********************100%%**********************]  1 of 1 completed"
     ]
    },
    {
     "name": "stdout",
     "output_type": "stream",
     "text": [
      "28 LICI.NS\n"
     ]
    },
    {
     "name": "stderr",
     "output_type": "stream",
     "text": [
      "\n"
     ]
    },
    {
     "name": "stdout",
     "output_type": "stream",
     "text": [
      "29 INFY\n"
     ]
    },
    {
     "name": "stderr",
     "output_type": "stream",
     "text": [
      "[*********************100%%**********************]  1 of 1 completed\n"
     ]
    },
    {
     "name": "stdout",
     "output_type": "stream",
     "text": [
      "30 ITC.NS\n"
     ]
    },
    {
     "name": "stderr",
     "output_type": "stream",
     "text": [
      "[*********************100%%**********************]  1 of 1 completed\n"
     ]
    },
    {
     "name": "stdout",
     "output_type": "stream",
     "text": [
      "31 HINDUNILVR.NS\n"
     ]
    },
    {
     "name": "stderr",
     "output_type": "stream",
     "text": [
      "[*********************100%%**********************]  1 of 1 completed\n"
     ]
    },
    {
     "name": "stdout",
     "output_type": "stream",
     "text": [
      "32 LT.NS\n"
     ]
    },
    {
     "name": "stderr",
     "output_type": "stream",
     "text": [
      "[*********************100%%**********************]  1 of 1 completed\n"
     ]
    }
   ],
   "source": [
    "import time\n",
    "\n",
    "# Define an empty dataframe to store stock data \n",
    "stocks_df = pd.DataFrame({'A' : []})\n",
    "\n",
    "# Loop through list of ticker symbols\n",
    "for i,ticker in enumerate(ALL_TICKERS):\n",
    "  \n",
    "  # Print ticker name for progress tracking\n",
    "  print(i,ticker)\n",
    "\n",
    "  # Download historical price data for ticker from Yahoo Finance\n",
    "  historyPrices = yf.download(tickers = ticker,\n",
    "                     period = \"max\",\n",
    "                     interval = \"1d\")\n",
    "\n",
    "  # generate features for historical prices, and what we want to predict\n",
    "  historyPrices['Ticker'] = ticker\n",
    "  historyPrices['Year']= historyPrices.index.year\n",
    "  historyPrices['Month'] = historyPrices.index.month\n",
    "  historyPrices['Weekday'] = historyPrices.index.weekday\n",
    "  historyPrices['Date'] = historyPrices.index.date\n",
    "\n",
    "  # historical returns... calculate daily, weekly, monthly returns over periods\n",
    "  for i in [1,3,7,30,90,365]:\n",
    "    historyPrices['growth_'+str(i)+'d'] = historyPrices['Adj Close'] / historyPrices['Adj Close'].shift(i)\n",
    "  historyPrices['growth_future_5d'] = historyPrices['Adj Close'].shift(-5) / historyPrices['Adj Close']\n",
    "\n",
    "  # Technical indicators\n",
    "  # SimpleMovingAverage 10 days and 20 days\n",
    "  historyPrices['SMA10']= historyPrices['Close'].rolling(10).mean()\n",
    "  historyPrices['SMA20']= historyPrices['Close'].rolling(20).mean()\n",
    "  historyPrices['growing_moving_average'] = np.where(historyPrices['SMA10'] > historyPrices['SMA20'], 1, 0)\n",
    "  historyPrices['high_minus_low_relative'] = (historyPrices.High - historyPrices.Low) / historyPrices['Adj Close']\n",
    "\n",
    "  # 30d rolling volatility : https://ycharts.com/glossary/terms/rolling_vol_30\n",
    "  historyPrices['volatility'] =   historyPrices['Adj Close'].rolling(30).std() * np.sqrt(252)\n",
    "\n",
    "  # what we want to predict, Label rows where future 5d return is positive\n",
    "  historyPrices['is_positive_growth_5d_future'] = np.where(historyPrices['growth_future_5d'] > 1, 1, 0)\n",
    "\n",
    "  # sleep 1 sec between downloads - not to overload the API server\n",
    "  time.sleep(1)\n",
    "\n",
    " # Append data to master dataframe\n",
    "  if stocks_df.empty:\n",
    "    stocks_df = historyPrices\n",
    "  else:\n",
    "    stocks_df = pd.concat([stocks_df, historyPrices], ignore_index=True)"
   ]
  },
  {
   "cell_type": "code",
   "execution_count": 43,
   "metadata": {},
   "outputs": [],
   "source": [
    "def get_ticker_type(ticker:str, us_stocks_list, eu_stocks_list, india_stocks_list):\n",
    "  if ticker in us_stocks_list:\n",
    "    return 'US'\n",
    "  elif ticker in eu_stocks_list:\n",
    "    return 'EU'\n",
    "  elif ticker in india_stocks_list:\n",
    "    return 'INDIA'\n",
    "  else:\n",
    "    return 'ERROR'\n"
   ]
  },
  {
   "cell_type": "code",
   "execution_count": 44,
   "metadata": {},
   "outputs": [],
   "source": [
    "stocks_df['ticker_type'] = stocks_df.Ticker.apply(lambda x:get_ticker_type(x, US_STOCKS, EU_STOCKS, INDIA_STOCKS))"
   ]
  },
  {
   "cell_type": "code",
   "execution_count": 46,
   "metadata": {},
   "outputs": [
    {
     "data": {
      "text/plain": [
       "ticker_type\n",
       "US       80717\n",
       "EU       77058\n",
       "INDIA    63334\n",
       "Name: count, dtype: int64"
      ]
     },
     "execution_count": 46,
     "metadata": {},
     "output_type": "execute_result"
    }
   ],
   "source": [
    "# count of observations between US-EU-INDIA stocks\n",
    "stocks_df.ticker_type.value_counts()"
   ]
  },
  {
   "cell_type": "code",
   "execution_count": 48,
   "metadata": {},
   "outputs": [
    {
     "data": {
      "text/plain": [
       "33"
      ]
     },
     "execution_count": 48,
     "metadata": {},
     "output_type": "execute_result"
    }
   ],
   "source": [
    "# unique tickers\n",
    "stocks_df.Ticker.nunique()"
   ]
  },
  {
   "cell_type": "code",
   "execution_count": 50,
   "metadata": {},
   "outputs": [
    {
     "data": {
      "text/plain": [
       "Ticker\n",
       "LLY              13094\n",
       "JPM              11128\n",
       "AAPL             10940\n",
       "NVO              10845\n",
       "MSFT              9614\n",
       "CDI.PA            8327\n",
       "TTE               8192\n",
       "ASML              7337\n",
       "SAP               7208\n",
       "HINDUNILVR.NS     7121\n",
       "SBIN.NS           7119\n",
       "RELIANCE.NS       7118\n",
       "ITC.NS            7118\n",
       "BRK-B             7045\n",
       "SIE.DE            7045\n",
       "AMZN              6788\n",
       "NVDA              6363\n",
       "INFY              6330\n",
       "MC.PA             6257\n",
       "RMS.PA            6257\n",
       "OR.PA             6257\n",
       "IBN               6065\n",
       "ACN               5735\n",
       "HDB               5734\n",
       "LT.NS             5426\n",
       "BHARTIARTL.NS     5423\n",
       "TCS.NS            5394\n",
       "GOOG              4962\n",
       "V                 4061\n",
       "AVGO              3712\n",
       "IDEXY             3598\n",
       "META              3010\n",
       "LICI.NS            486\n",
       "Name: count, dtype: int64"
      ]
     },
     "execution_count": 50,
     "metadata": {},
     "output_type": "execute_result"
    }
   ],
   "source": [
    "# count of observations by stock\n",
    "stocks_df.Ticker.value_counts()"
   ]
  },
  {
   "cell_type": "code",
   "execution_count": 51,
   "metadata": {},
   "outputs": [
    {
     "data": {
      "text/html": [
       "<div>\n",
       "<style scoped>\n",
       "    .dataframe tbody tr th:only-of-type {\n",
       "        vertical-align: middle;\n",
       "    }\n",
       "\n",
       "    .dataframe tbody tr th {\n",
       "        vertical-align: top;\n",
       "    }\n",
       "\n",
       "    .dataframe thead th {\n",
       "        text-align: right;\n",
       "    }\n",
       "</style>\n",
       "<table border=\"1\" class=\"dataframe\">\n",
       "  <thead>\n",
       "    <tr style=\"text-align: right;\">\n",
       "      <th></th>\n",
       "      <th></th>\n",
       "      <th>min</th>\n",
       "      <th>max</th>\n",
       "    </tr>\n",
       "    <tr>\n",
       "      <th>Ticker</th>\n",
       "      <th>ticker_type</th>\n",
       "      <th></th>\n",
       "      <th></th>\n",
       "    </tr>\n",
       "  </thead>\n",
       "  <tbody>\n",
       "    <tr>\n",
       "      <th>AAPL</th>\n",
       "      <th>US</th>\n",
       "      <td>1980-12-12</td>\n",
       "      <td>2024-05-06</td>\n",
       "    </tr>\n",
       "    <tr>\n",
       "      <th>ACN</th>\n",
       "      <th>EU</th>\n",
       "      <td>2001-07-19</td>\n",
       "      <td>2024-05-06</td>\n",
       "    </tr>\n",
       "    <tr>\n",
       "      <th>AMZN</th>\n",
       "      <th>US</th>\n",
       "      <td>1997-05-15</td>\n",
       "      <td>2024-05-06</td>\n",
       "    </tr>\n",
       "    <tr>\n",
       "      <th>ASML</th>\n",
       "      <th>EU</th>\n",
       "      <td>1995-03-15</td>\n",
       "      <td>2024-05-06</td>\n",
       "    </tr>\n",
       "    <tr>\n",
       "      <th>AVGO</th>\n",
       "      <th>US</th>\n",
       "      <td>2009-08-06</td>\n",
       "      <td>2024-05-06</td>\n",
       "    </tr>\n",
       "    <tr>\n",
       "      <th>BHARTIARTL.NS</th>\n",
       "      <th>INDIA</th>\n",
       "      <td>2002-07-01</td>\n",
       "      <td>2024-05-06</td>\n",
       "    </tr>\n",
       "    <tr>\n",
       "      <th>BRK-B</th>\n",
       "      <th>US</th>\n",
       "      <td>1996-05-09</td>\n",
       "      <td>2024-05-06</td>\n",
       "    </tr>\n",
       "    <tr>\n",
       "      <th>CDI.PA</th>\n",
       "      <th>EU</th>\n",
       "      <td>1992-01-27</td>\n",
       "      <td>2024-05-06</td>\n",
       "    </tr>\n",
       "    <tr>\n",
       "      <th>GOOG</th>\n",
       "      <th>US</th>\n",
       "      <td>2004-08-19</td>\n",
       "      <td>2024-05-06</td>\n",
       "    </tr>\n",
       "    <tr>\n",
       "      <th>HDB</th>\n",
       "      <th>INDIA</th>\n",
       "      <td>2001-07-20</td>\n",
       "      <td>2024-05-06</td>\n",
       "    </tr>\n",
       "    <tr>\n",
       "      <th>HINDUNILVR.NS</th>\n",
       "      <th>INDIA</th>\n",
       "      <td>1996-01-01</td>\n",
       "      <td>2024-05-06</td>\n",
       "    </tr>\n",
       "    <tr>\n",
       "      <th>IBN</th>\n",
       "      <th>INDIA</th>\n",
       "      <td>2000-03-28</td>\n",
       "      <td>2024-05-06</td>\n",
       "    </tr>\n",
       "    <tr>\n",
       "      <th>IDEXY</th>\n",
       "      <th>EU</th>\n",
       "      <td>2010-01-20</td>\n",
       "      <td>2024-05-06</td>\n",
       "    </tr>\n",
       "    <tr>\n",
       "      <th>INFY</th>\n",
       "      <th>INDIA</th>\n",
       "      <td>1999-03-11</td>\n",
       "      <td>2024-05-06</td>\n",
       "    </tr>\n",
       "    <tr>\n",
       "      <th>ITC.NS</th>\n",
       "      <th>INDIA</th>\n",
       "      <td>1996-01-01</td>\n",
       "      <td>2024-05-06</td>\n",
       "    </tr>\n",
       "    <tr>\n",
       "      <th>JPM</th>\n",
       "      <th>US</th>\n",
       "      <td>1980-03-17</td>\n",
       "      <td>2024-05-06</td>\n",
       "    </tr>\n",
       "    <tr>\n",
       "      <th>LICI.NS</th>\n",
       "      <th>INDIA</th>\n",
       "      <td>2022-05-17</td>\n",
       "      <td>2024-05-06</td>\n",
       "    </tr>\n",
       "    <tr>\n",
       "      <th>LLY</th>\n",
       "      <th>US</th>\n",
       "      <td>1972-06-01</td>\n",
       "      <td>2024-05-06</td>\n",
       "    </tr>\n",
       "    <tr>\n",
       "      <th>LT.NS</th>\n",
       "      <th>INDIA</th>\n",
       "      <td>2002-07-01</td>\n",
       "      <td>2024-05-06</td>\n",
       "    </tr>\n",
       "    <tr>\n",
       "      <th>MC.PA</th>\n",
       "      <th>EU</th>\n",
       "      <td>2000-01-03</td>\n",
       "      <td>2024-05-06</td>\n",
       "    </tr>\n",
       "    <tr>\n",
       "      <th>META</th>\n",
       "      <th>US</th>\n",
       "      <td>2012-05-18</td>\n",
       "      <td>2024-05-06</td>\n",
       "    </tr>\n",
       "    <tr>\n",
       "      <th>MSFT</th>\n",
       "      <th>US</th>\n",
       "      <td>1986-03-13</td>\n",
       "      <td>2024-05-06</td>\n",
       "    </tr>\n",
       "    <tr>\n",
       "      <th>NVDA</th>\n",
       "      <th>US</th>\n",
       "      <td>1999-01-22</td>\n",
       "      <td>2024-05-06</td>\n",
       "    </tr>\n",
       "    <tr>\n",
       "      <th>NVO</th>\n",
       "      <th>EU</th>\n",
       "      <td>1981-04-30</td>\n",
       "      <td>2024-05-06</td>\n",
       "    </tr>\n",
       "    <tr>\n",
       "      <th>OR.PA</th>\n",
       "      <th>EU</th>\n",
       "      <td>2000-01-03</td>\n",
       "      <td>2024-05-06</td>\n",
       "    </tr>\n",
       "    <tr>\n",
       "      <th>RELIANCE.NS</th>\n",
       "      <th>INDIA</th>\n",
       "      <td>1996-01-01</td>\n",
       "      <td>2024-05-06</td>\n",
       "    </tr>\n",
       "    <tr>\n",
       "      <th>RMS.PA</th>\n",
       "      <th>EU</th>\n",
       "      <td>2000-01-03</td>\n",
       "      <td>2024-05-06</td>\n",
       "    </tr>\n",
       "    <tr>\n",
       "      <th>SAP</th>\n",
       "      <th>EU</th>\n",
       "      <td>1995-09-18</td>\n",
       "      <td>2024-05-06</td>\n",
       "    </tr>\n",
       "    <tr>\n",
       "      <th>SBIN.NS</th>\n",
       "      <th>INDIA</th>\n",
       "      <td>1996-01-01</td>\n",
       "      <td>2024-05-06</td>\n",
       "    </tr>\n",
       "    <tr>\n",
       "      <th>SIE.DE</th>\n",
       "      <th>EU</th>\n",
       "      <td>1996-11-08</td>\n",
       "      <td>2024-05-06</td>\n",
       "    </tr>\n",
       "    <tr>\n",
       "      <th>TCS.NS</th>\n",
       "      <th>INDIA</th>\n",
       "      <td>2002-08-12</td>\n",
       "      <td>2024-05-06</td>\n",
       "    </tr>\n",
       "    <tr>\n",
       "      <th>TTE</th>\n",
       "      <th>EU</th>\n",
       "      <td>1991-10-25</td>\n",
       "      <td>2024-05-06</td>\n",
       "    </tr>\n",
       "    <tr>\n",
       "      <th>V</th>\n",
       "      <th>US</th>\n",
       "      <td>2008-03-19</td>\n",
       "      <td>2024-05-06</td>\n",
       "    </tr>\n",
       "  </tbody>\n",
       "</table>\n",
       "</div>"
      ],
      "text/plain": [
       "                                  min         max\n",
       "Ticker        ticker_type                        \n",
       "AAPL          US           1980-12-12  2024-05-06\n",
       "ACN           EU           2001-07-19  2024-05-06\n",
       "AMZN          US           1997-05-15  2024-05-06\n",
       "ASML          EU           1995-03-15  2024-05-06\n",
       "AVGO          US           2009-08-06  2024-05-06\n",
       "BHARTIARTL.NS INDIA        2002-07-01  2024-05-06\n",
       "BRK-B         US           1996-05-09  2024-05-06\n",
       "CDI.PA        EU           1992-01-27  2024-05-06\n",
       "GOOG          US           2004-08-19  2024-05-06\n",
       "HDB           INDIA        2001-07-20  2024-05-06\n",
       "HINDUNILVR.NS INDIA        1996-01-01  2024-05-06\n",
       "IBN           INDIA        2000-03-28  2024-05-06\n",
       "IDEXY         EU           2010-01-20  2024-05-06\n",
       "INFY          INDIA        1999-03-11  2024-05-06\n",
       "ITC.NS        INDIA        1996-01-01  2024-05-06\n",
       "JPM           US           1980-03-17  2024-05-06\n",
       "LICI.NS       INDIA        2022-05-17  2024-05-06\n",
       "LLY           US           1972-06-01  2024-05-06\n",
       "LT.NS         INDIA        2002-07-01  2024-05-06\n",
       "MC.PA         EU           2000-01-03  2024-05-06\n",
       "META          US           2012-05-18  2024-05-06\n",
       "MSFT          US           1986-03-13  2024-05-06\n",
       "NVDA          US           1999-01-22  2024-05-06\n",
       "NVO           EU           1981-04-30  2024-05-06\n",
       "OR.PA         EU           2000-01-03  2024-05-06\n",
       "RELIANCE.NS   INDIA        1996-01-01  2024-05-06\n",
       "RMS.PA        EU           2000-01-03  2024-05-06\n",
       "SAP           EU           1995-09-18  2024-05-06\n",
       "SBIN.NS       INDIA        1996-01-01  2024-05-06\n",
       "SIE.DE        EU           1996-11-08  2024-05-06\n",
       "TCS.NS        INDIA        2002-08-12  2024-05-06\n",
       "TTE           EU           1991-10-25  2024-05-06\n",
       "V             US           2008-03-19  2024-05-06"
      ]
     },
     "execution_count": 51,
     "metadata": {},
     "output_type": "execute_result"
    }
   ],
   "source": [
    "stocks_df.groupby(['Ticker','ticker_type']).Date.agg(['min','max'])"
   ]
  },
  {
   "cell_type": "code",
   "execution_count": 52,
   "metadata": {},
   "outputs": [
    {
     "data": {
      "text/plain": [
       "Year  ticker_type\n",
       "2020  EU             1.245388\n",
       "      INDIA          1.101896\n",
       "      US             1.484070\n",
       "2021  EU             1.582170\n",
       "      INDIA          1.546424\n",
       "      US             1.797571\n",
       "2022  EU             1.191169\n",
       "      INDIA          1.379889\n",
       "      US             1.182379\n",
       "2023  EU             1.246533\n",
       "      INDIA          1.201110\n",
       "      US             1.203253\n",
       "2024  EU             1.640018\n",
       "      INDIA          1.302174\n",
       "      US             2.160563\n",
       "Name: growth_365d, dtype: float64"
      ]
     },
     "execution_count": 52,
     "metadata": {},
     "output_type": "execute_result"
    }
   ],
   "source": [
    "#  average growth 365days\n",
    "stocks_df[stocks_df.Year>=2020].groupby(by=['Year','ticker_type']).growth_365d.mean()"
   ]
  },
  {
   "cell_type": "code",
   "execution_count": 53,
   "metadata": {},
   "outputs": [],
   "source": [
    "stocks_df['Date'] = pd.to_datetime(stocks_df['Date'])"
   ]
  },
  {
   "cell_type": "code",
   "execution_count": 54,
   "metadata": {},
   "outputs": [
    {
     "name": "stdout",
     "output_type": "stream",
     "text": [
      "<class 'pandas.core.frame.DataFrame'>\n",
      "Index: 182642 entries, 3490 to 221108\n",
      "Data columns (total 25 columns):\n",
      " #   Column                        Non-Null Count   Dtype         \n",
      "---  ------                        --------------   -----         \n",
      " 0   Open                          182642 non-null  float64       \n",
      " 1   High                          182642 non-null  float64       \n",
      " 2   Low                           182642 non-null  float64       \n",
      " 3   Close                         182642 non-null  float64       \n",
      " 4   Adj Close                     182642 non-null  float64       \n",
      " 5   Volume                        182642 non-null  int64         \n",
      " 6   Ticker                        182642 non-null  object        \n",
      " 7   Year                          182642 non-null  int32         \n",
      " 8   Month                         182642 non-null  int32         \n",
      " 9   Weekday                       182642 non-null  int32         \n",
      " 10  Date                          182642 non-null  datetime64[ns]\n",
      " 11  growth_1d                     182627 non-null  float64       \n",
      " 12  growth_3d                     182597 non-null  float64       \n",
      " 13  growth_7d                     182537 non-null  float64       \n",
      " 14  growth_30d                    182192 non-null  float64       \n",
      " 15  growth_90d                    181292 non-null  float64       \n",
      " 16  growth_365d                   176882 non-null  float64       \n",
      " 17  growth_future_5d              182477 non-null  float64       \n",
      " 18  SMA10                         182507 non-null  float64       \n",
      " 19  SMA20                         182357 non-null  float64       \n",
      " 20  growing_moving_average        182642 non-null  int64         \n",
      " 21  high_minus_low_relative       182642 non-null  float64       \n",
      " 22  volatility                    182207 non-null  float64       \n",
      " 23  is_positive_growth_5d_future  182642 non-null  int64         \n",
      " 24  ticker_type                   182642 non-null  object        \n",
      "dtypes: datetime64[ns](1), float64(16), int32(3), int64(3), object(2)\n",
      "memory usage: 34.1+ MB\n"
     ]
    }
   ],
   "source": [
    "# filtering only on stats after 2000\n",
    "stocks_df[stocks_df.Date>='2000-01-01'].info()"
   ]
  },
  {
   "cell_type": "code",
   "execution_count": 55,
   "metadata": {},
   "outputs": [
    {
     "data": {
      "text/html": [
       "<div>\n",
       "<style scoped>\n",
       "    .dataframe tbody tr th:only-of-type {\n",
       "        vertical-align: middle;\n",
       "    }\n",
       "\n",
       "    .dataframe tbody tr th {\n",
       "        vertical-align: top;\n",
       "    }\n",
       "\n",
       "    .dataframe thead th {\n",
       "        text-align: right;\n",
       "    }\n",
       "</style>\n",
       "<table border=\"1\" class=\"dataframe\">\n",
       "  <thead>\n",
       "    <tr style=\"text-align: right;\">\n",
       "      <th></th>\n",
       "      <th>Open</th>\n",
       "      <th>High</th>\n",
       "      <th>Low</th>\n",
       "      <th>Close</th>\n",
       "      <th>Adj Close</th>\n",
       "      <th>Volume</th>\n",
       "      <th>Ticker</th>\n",
       "      <th>Year</th>\n",
       "      <th>Month</th>\n",
       "      <th>Weekday</th>\n",
       "      <th>...</th>\n",
       "      <th>growth_90d</th>\n",
       "      <th>growth_365d</th>\n",
       "      <th>growth_future_5d</th>\n",
       "      <th>SMA10</th>\n",
       "      <th>SMA20</th>\n",
       "      <th>growing_moving_average</th>\n",
       "      <th>high_minus_low_relative</th>\n",
       "      <th>volatility</th>\n",
       "      <th>is_positive_growth_5d_future</th>\n",
       "      <th>ticker_type</th>\n",
       "    </tr>\n",
       "  </thead>\n",
       "  <tbody>\n",
       "    <tr>\n",
       "      <th>195091</th>\n",
       "      <td>925.000000</td>\n",
       "      <td>984.450012</td>\n",
       "      <td>924.000000</td>\n",
       "      <td>970.599976</td>\n",
       "      <td>970.599976</td>\n",
       "      <td>4863536</td>\n",
       "      <td>LICI.NS</td>\n",
       "      <td>2024</td>\n",
       "      <td>4</td>\n",
       "      <td>0</td>\n",
       "      <td>...</td>\n",
       "      <td>1.599113</td>\n",
       "      <td>1.556710</td>\n",
       "      <td>1.026891</td>\n",
       "      <td>906.085004</td>\n",
       "      <td>953.950003</td>\n",
       "      <td>0</td>\n",
       "      <td>0.062281</td>\n",
       "      <td>1034.237352</td>\n",
       "      <td>1</td>\n",
       "      <td>INDIA</td>\n",
       "    </tr>\n",
       "    <tr>\n",
       "      <th>201418</th>\n",
       "      <td>17.889999</td>\n",
       "      <td>17.920000</td>\n",
       "      <td>17.500000</td>\n",
       "      <td>17.580000</td>\n",
       "      <td>17.580000</td>\n",
       "      <td>14601600</td>\n",
       "      <td>INFY</td>\n",
       "      <td>2024</td>\n",
       "      <td>4</td>\n",
       "      <td>0</td>\n",
       "      <td>...</td>\n",
       "      <td>1.003998</td>\n",
       "      <td>1.024508</td>\n",
       "      <td>1.015927</td>\n",
       "      <td>18.156000</td>\n",
       "      <td>18.777500</td>\n",
       "      <td>0</td>\n",
       "      <td>0.023891</td>\n",
       "      <td>13.940634</td>\n",
       "      <td>1</td>\n",
       "      <td>INDIA</td>\n",
       "    </tr>\n",
       "    <tr>\n",
       "      <th>208539</th>\n",
       "      <td>429.100006</td>\n",
       "      <td>431.350006</td>\n",
       "      <td>425.750000</td>\n",
       "      <td>426.700012</td>\n",
       "      <td>426.700012</td>\n",
       "      <td>9382308</td>\n",
       "      <td>ITC.NS</td>\n",
       "      <td>2024</td>\n",
       "      <td>4</td>\n",
       "      <td>0</td>\n",
       "      <td>...</td>\n",
       "      <td>0.987044</td>\n",
       "      <td>1.314436</td>\n",
       "      <td>1.005625</td>\n",
       "      <td>422.235004</td>\n",
       "      <td>416.537502</td>\n",
       "      <td>1</td>\n",
       "      <td>0.013124</td>\n",
       "      <td>130.246651</td>\n",
       "      <td>1</td>\n",
       "      <td>INDIA</td>\n",
       "    </tr>\n",
       "    <tr>\n",
       "      <th>215660</th>\n",
       "      <td>2270.000000</td>\n",
       "      <td>2295.000000</td>\n",
       "      <td>2262.000000</td>\n",
       "      <td>2285.899902</td>\n",
       "      <td>2285.899902</td>\n",
       "      <td>1427873</td>\n",
       "      <td>HINDUNILVR.NS</td>\n",
       "      <td>2024</td>\n",
       "      <td>4</td>\n",
       "      <td>0</td>\n",
       "      <td>...</td>\n",
       "      <td>0.917590</td>\n",
       "      <td>0.894050</td>\n",
       "      <td>0.992585</td>\n",
       "      <td>2266.539990</td>\n",
       "      <td>2327.240015</td>\n",
       "      <td>0</td>\n",
       "      <td>0.014436</td>\n",
       "      <td>1049.970071</td>\n",
       "      <td>0</td>\n",
       "      <td>INDIA</td>\n",
       "    </tr>\n",
       "    <tr>\n",
       "      <th>221086</th>\n",
       "      <td>3780.850098</td>\n",
       "      <td>3851.850098</td>\n",
       "      <td>3780.850098</td>\n",
       "      <td>3838.000000</td>\n",
       "      <td>3838.000000</td>\n",
       "      <td>1905190</td>\n",
       "      <td>LT.NS</td>\n",
       "      <td>2024</td>\n",
       "      <td>4</td>\n",
       "      <td>0</td>\n",
       "      <td>...</td>\n",
       "      <td>1.257886</td>\n",
       "      <td>2.010850</td>\n",
       "      <td>0.992144</td>\n",
       "      <td>3626.594971</td>\n",
       "      <td>3618.109985</td>\n",
       "      <td>1</td>\n",
       "      <td>0.018499</td>\n",
       "      <td>2188.619806</td>\n",
       "      <td>0</td>\n",
       "      <td>INDIA</td>\n",
       "    </tr>\n",
       "  </tbody>\n",
       "</table>\n",
       "<p>5 rows × 25 columns</p>\n",
       "</div>"
      ],
      "text/plain": [
       "               Open         High          Low        Close    Adj Close  \\\n",
       "195091   925.000000   984.450012   924.000000   970.599976   970.599976   \n",
       "201418    17.889999    17.920000    17.500000    17.580000    17.580000   \n",
       "208539   429.100006   431.350006   425.750000   426.700012   426.700012   \n",
       "215660  2270.000000  2295.000000  2262.000000  2285.899902  2285.899902   \n",
       "221086  3780.850098  3851.850098  3780.850098  3838.000000  3838.000000   \n",
       "\n",
       "          Volume         Ticker  Year  Month  Weekday  ... growth_90d  \\\n",
       "195091   4863536        LICI.NS  2024      4        0  ...   1.599113   \n",
       "201418  14601600           INFY  2024      4        0  ...   1.003998   \n",
       "208539   9382308         ITC.NS  2024      4        0  ...   0.987044   \n",
       "215660   1427873  HINDUNILVR.NS  2024      4        0  ...   0.917590   \n",
       "221086   1905190          LT.NS  2024      4        0  ...   1.257886   \n",
       "\n",
       "        growth_365d  growth_future_5d        SMA10        SMA20  \\\n",
       "195091     1.556710          1.026891   906.085004   953.950003   \n",
       "201418     1.024508          1.015927    18.156000    18.777500   \n",
       "208539     1.314436          1.005625   422.235004   416.537502   \n",
       "215660     0.894050          0.992585  2266.539990  2327.240015   \n",
       "221086     2.010850          0.992144  3626.594971  3618.109985   \n",
       "\n",
       "        growing_moving_average  high_minus_low_relative   volatility  \\\n",
       "195091                       0                 0.062281  1034.237352   \n",
       "201418                       0                 0.023891    13.940634   \n",
       "208539                       1                 0.013124   130.246651   \n",
       "215660                       0                 0.014436  1049.970071   \n",
       "221086                       1                 0.018499  2188.619806   \n",
       "\n",
       "        is_positive_growth_5d_future  ticker_type  \n",
       "195091                             1        INDIA  \n",
       "201418                             1        INDIA  \n",
       "208539                             1        INDIA  \n",
       "215660                             0        INDIA  \n",
       "221086                             0        INDIA  \n",
       "\n",
       "[5 rows x 25 columns]"
      ]
     },
     "execution_count": 55,
     "metadata": {},
     "output_type": "execute_result"
    }
   ],
   "source": [
    "stocks_df[stocks_df.Date=='2024-04-01'].tail()"
   ]
  },
  {
   "cell_type": "code",
   "execution_count": 56,
   "metadata": {},
   "outputs": [],
   "source": [
    "def get_ticker_type(ticker:str, us_stocks_list, eu_stocks_list, india_stocks_list):\n",
    "  if ticker in us_stocks_list:\n",
    "    return 'US'\n",
    "  elif ticker in eu_stocks_list:\n",
    "    return 'EU'\n",
    "  elif ticker in india_stocks_list:\n",
    "    return 'INDIA'\n",
    "  else:\n",
    "    return 'ERROR'\n"
   ]
  },
  {
   "cell_type": "code",
   "execution_count": null,
   "metadata": {},
   "outputs": [],
   "source": [
    "# https://companiesmarketcap.com/usa/largest-companies-in-the-usa-by-market-cap/\n",
    "US_STOCKS = ['MSFT', 'AAPL', 'GOOG', 'NVDA', 'AMZN', 'META', 'BRK-B', 'LLY', 'AVGO','V', 'JPM']\n",
    "\n",
    "# You're required to add EU_STOCKS and INDIA_STOCS\n",
    "# https://companiesmarketcap.com/european-union/largest-companies-in-the-eu-by-market-cap/\n",
    "EU_STOCKS = ['NVO','MC.PA', 'ASML', 'RMS.PA', 'OR.PA', 'SAP', 'ACN', 'TTE', 'SIE.DE','IDEXY','CDI.PA']\n",
    "\n",
    "# https://companiesmarketcap.com/india/largest-companies-in-india-by-market-cap/\n",
    "INDIA_STOCKS = ['RELIANCE.NS','TCS.NS','HDB','BHARTIARTL.NS','IBN','SBIN.NS','LICI.NS','INFY','ITC.NS','HINDUNILVR.NS','LT.NS']"
   ]
  },
  {
   "cell_type": "code",
   "execution_count": null,
   "metadata": {},
   "outputs": [],
   "source": [
    "# https://companiesmarketcap.com/usa/largest-companies-in-the-usa-by-market-cap/\n",
    "US_STOCKS = ['MSFT', 'AAPL', 'GOOG', 'NVDA', 'AMZN', 'META', 'BRK-B', 'LLY', 'AVGO','V', 'JPM']\n",
    "\n",
    "# You're required to add EU_STOCKS and INDIA_STOCS\n",
    "# https://companiesmarketcap.com/european-union/largest-companies-in-the-eu-by-market-cap/\n",
    "EU_STOCKS = ['NVO','MC.PA', 'ASML', 'RMS.PA', 'OR.PA', 'SAP', 'ACN', 'TTE', 'SIE.DE','IDEXY','CDI.PA']\n",
    "\n",
    "# https://companiesmarketcap.com/india/largest-companies-in-india-by-market-cap/\n",
    "INDIA_STOCKS = ['RELIANCE.NS','TCS.NS','HDB','BHARTIARTL.NS','IBN','SBIN.NS','LICI.NS','INFY','ITC.NS','HINDUNILVR.NS','LT.NS']"
   ]
  },
  {
   "cell_type": "code",
   "execution_count": null,
   "metadata": {},
   "outputs": [],
   "source": [
    "# https://companiesmarketcap.com/usa/largest-companies-in-the-usa-by-market-cap/\n",
    "US_STOCKS = ['MSFT', 'AAPL', 'GOOG', 'NVDA', 'AMZN', 'META', 'BRK-B', 'LLY', 'AVGO','V', 'JPM']\n",
    "\n",
    "# You're required to add EU_STOCKS and INDIA_STOCS\n",
    "# https://companiesmarketcap.com/european-union/largest-companies-in-the-eu-by-market-cap/\n",
    "EU_STOCKS = ['NVO','MC.PA', 'ASML', 'RMS.PA', 'OR.PA', 'SAP', 'ACN', 'TTE', 'SIE.DE','IDEXY','CDI.PA']\n",
    "\n",
    "# https://companiesmarketcap.com/india/largest-companies-in-india-by-market-cap/\n",
    "INDIA_STOCKS = ['RELIANCE.NS','TCS.NS','HDB','BHARTIARTL.NS','IBN','SBIN.NS','LICI.NS','INFY','ITC.NS','HINDUNILVR.NS','LT.NS']"
   ]
  },
  {
   "cell_type": "code",
   "execution_count": null,
   "metadata": {},
   "outputs": [],
   "source": [
    "# https://companiesmarketcap.com/usa/largest-companies-in-the-usa-by-market-cap/\n",
    "US_STOCKS = ['MSFT', 'AAPL', 'GOOG', 'NVDA', 'AMZN', 'META', 'BRK-B', 'LLY', 'AVGO','V', 'JPM']\n",
    "\n",
    "# You're required to add EU_STOCKS and INDIA_STOCS\n",
    "# https://companiesmarketcap.com/european-union/largest-companies-in-the-eu-by-market-cap/\n",
    "EU_STOCKS = ['NVO','MC.PA', 'ASML', 'RMS.PA', 'OR.PA', 'SAP', 'ACN', 'TTE', 'SIE.DE','IDEXY','CDI.PA']\n",
    "\n",
    "# https://companiesmarketcap.com/india/largest-companies-in-india-by-market-cap/\n",
    "INDIA_STOCKS = ['RELIANCE.NS','TCS.NS','HDB','BHARTIARTL.NS','IBN','SBIN.NS','LICI.NS','INFY','ITC.NS','HINDUNILVR.NS','LT.NS']"
   ]
  },
  {
   "cell_type": "code",
   "execution_count": null,
   "metadata": {},
   "outputs": [],
   "source": [
    "# https://companiesmarketcap.com/usa/largest-companies-in-the-usa-by-market-cap/\n",
    "US_STOCKS = ['MSFT', 'AAPL', 'GOOG', 'NVDA', 'AMZN', 'META', 'BRK-B', 'LLY', 'AVGO','V', 'JPM']\n",
    "\n",
    "# You're required to add EU_STOCKS and INDIA_STOCS\n",
    "# https://companiesmarketcap.com/european-union/largest-companies-in-the-eu-by-market-cap/\n",
    "EU_STOCKS = ['NVO','MC.PA', 'ASML', 'RMS.PA', 'OR.PA', 'SAP', 'ACN', 'TTE', 'SIE.DE','IDEXY','CDI.PA']\n",
    "\n",
    "# https://companiesmarketcap.com/india/largest-companies-in-india-by-market-cap/\n",
    "INDIA_STOCKS = ['RELIANCE.NS','TCS.NS','HDB','BHARTIARTL.NS','IBN','SBIN.NS','LICI.NS','INFY','ITC.NS','HINDUNILVR.NS','LT.NS']"
   ]
  },
  {
   "cell_type": "code",
   "execution_count": null,
   "metadata": {},
   "outputs": [
    {
     "data": {
      "text/plain": [
       "['MSFT',\n",
       " 'AAPL',\n",
       " 'GOOG',\n",
       " 'NVDA',\n",
       " 'AMZN',\n",
       " 'META',\n",
       " 'BRK-B',\n",
       " 'LLY',\n",
       " 'AVGO',\n",
       " 'V',\n",
       " 'JPM',\n",
       " 'NVO',\n",
       " 'MC.PA',\n",
       " 'ASML',\n",
       " 'RMS.PA',\n",
       " 'OR.PA',\n",
       " 'SAP',\n",
       " 'ACN',\n",
       " 'TTE',\n",
       " 'SIE.DE',\n",
       " 'IDEXY',\n",
       " 'CDI.PA',\n",
       " 'RELIANCE.NS',\n",
       " 'TCS.NS',\n",
       " 'HDB',\n",
       " 'BHARTIARTL.NS',\n",
       " 'IBN',\n",
       " 'SBIN.NS',\n",
       " 'LICI.NS',\n",
       " 'INFY',\n",
       " 'ITC.NS',\n",
       " 'HINDUNILVR.NS',\n",
       " 'LT.NS']"
      ]
     },
     "metadata": {},
     "output_type": "display_data"
    }
   ],
   "source": [
    "ALL_TICKERS = US_STOCKS  + EU_STOCKS + INDIA_STOCKS\n",
    "ALL_TICKERS"
   ]
  },
  {
   "cell_type": "code",
   "execution_count": null,
   "metadata": {},
   "outputs": [
    {
     "name": "stdout",
     "output_type": "stream",
     "text": [
      "0 MSFT\n"
     ]
    },
    {
     "name": "stderr",
     "output_type": "stream",
     "text": [
      "\r[*********************100%%**********************]  1 of 1 completed\n"
     ]
    },
    {
     "name": "stdout",
     "output_type": "stream",
     "text": [
      "1 AAPL\n"
     ]
    },
    {
     "name": "stderr",
     "output_type": "stream",
     "text": [
      "\r[*********************100%%**********************]  1 of 1 completed\n"
     ]
    },
    {
     "name": "stdout",
     "output_type": "stream",
     "text": [
      "2 GOOG\n"
     ]
    },
    {
     "name": "stderr",
     "output_type": "stream",
     "text": [
      "\r[*********************100%%**********************]  1 of 1 completed\n"
     ]
    },
    {
     "name": "stdout",
     "output_type": "stream",
     "text": [
      "3 NVDA\n"
     ]
    },
    {
     "name": "stderr",
     "output_type": "stream",
     "text": [
      "\r[*********************100%%**********************]  1 of 1 completed\n"
     ]
    },
    {
     "name": "stdout",
     "output_type": "stream",
     "text": [
      "4 AMZN\n"
     ]
    },
    {
     "name": "stderr",
     "output_type": "stream",
     "text": [
      "\r[*********************100%%**********************]  1 of 1 completed\n"
     ]
    },
    {
     "name": "stdout",
     "output_type": "stream",
     "text": [
      "5 META\n"
     ]
    },
    {
     "name": "stderr",
     "output_type": "stream",
     "text": [
      "\r[*********************100%%**********************]  1 of 1 completed\n"
     ]
    },
    {
     "name": "stdout",
     "output_type": "stream",
     "text": [
      "6 BRK-B\n"
     ]
    },
    {
     "name": "stderr",
     "output_type": "stream",
     "text": [
      "\r[*********************100%%**********************]  1 of 1 completed\n"
     ]
    },
    {
     "name": "stdout",
     "output_type": "stream",
     "text": [
      "7 LLY\n"
     ]
    },
    {
     "name": "stderr",
     "output_type": "stream",
     "text": [
      "\r[*********************100%%**********************]  1 of 1 completed\n"
     ]
    },
    {
     "name": "stdout",
     "output_type": "stream",
     "text": [
      "8 AVGO\n"
     ]
    },
    {
     "name": "stderr",
     "output_type": "stream",
     "text": [
      "\r[*********************100%%**********************]  1 of 1 completed\n"
     ]
    },
    {
     "name": "stdout",
     "output_type": "stream",
     "text": [
      "9 V\n"
     ]
    },
    {
     "name": "stderr",
     "output_type": "stream",
     "text": [
      "\r[*********************100%%**********************]  1 of 1 completed\n"
     ]
    },
    {
     "name": "stdout",
     "output_type": "stream",
     "text": [
      "10 JPM\n"
     ]
    },
    {
     "name": "stderr",
     "output_type": "stream",
     "text": [
      "\r[*********************100%%**********************]  1 of 1 completed\n"
     ]
    },
    {
     "name": "stdout",
     "output_type": "stream",
     "text": [
      "11 NVO\n"
     ]
    },
    {
     "name": "stderr",
     "output_type": "stream",
     "text": [
      "\r[*********************100%%**********************]  1 of 1 completed\n"
     ]
    },
    {
     "name": "stdout",
     "output_type": "stream",
     "text": [
      "12 MC.PA\n"
     ]
    },
    {
     "name": "stderr",
     "output_type": "stream",
     "text": [
      "\r[*********************100%%**********************]  1 of 1 completed\n"
     ]
    },
    {
     "name": "stdout",
     "output_type": "stream",
     "text": [
      "13 ASML\n"
     ]
    },
    {
     "name": "stderr",
     "output_type": "stream",
     "text": [
      "\r[*********************100%%**********************]  1 of 1 completed\n"
     ]
    },
    {
     "name": "stdout",
     "output_type": "stream",
     "text": [
      "14 RMS.PA\n"
     ]
    },
    {
     "name": "stderr",
     "output_type": "stream",
     "text": [
      "\r[*********************100%%**********************]  1 of 1 completed\n"
     ]
    },
    {
     "name": "stdout",
     "output_type": "stream",
     "text": [
      "15 OR.PA\n"
     ]
    },
    {
     "name": "stderr",
     "output_type": "stream",
     "text": [
      "\r[*********************100%%**********************]  1 of 1 completed\n"
     ]
    },
    {
     "name": "stdout",
     "output_type": "stream",
     "text": [
      "16 SAP\n"
     ]
    },
    {
     "name": "stderr",
     "output_type": "stream",
     "text": [
      "\r[*********************100%%**********************]  1 of 1 completed\n"
     ]
    },
    {
     "name": "stdout",
     "output_type": "stream",
     "text": [
      "17 ACN\n"
     ]
    },
    {
     "name": "stderr",
     "output_type": "stream",
     "text": [
      "\r[*********************100%%**********************]  1 of 1 completed\n"
     ]
    },
    {
     "name": "stdout",
     "output_type": "stream",
     "text": [
      "18 TTE\n"
     ]
    },
    {
     "name": "stderr",
     "output_type": "stream",
     "text": [
      "\r[*********************100%%**********************]  1 of 1 completed\n"
     ]
    },
    {
     "name": "stdout",
     "output_type": "stream",
     "text": [
      "19 SIE.DE\n"
     ]
    },
    {
     "name": "stderr",
     "output_type": "stream",
     "text": [
      "\r[*********************100%%**********************]  1 of 1 completed\n"
     ]
    },
    {
     "name": "stdout",
     "output_type": "stream",
     "text": [
      "20 IDEXY\n"
     ]
    },
    {
     "name": "stderr",
     "output_type": "stream",
     "text": [
      "\r[*********************100%%**********************]  1 of 1 completed\n"
     ]
    },
    {
     "name": "stdout",
     "output_type": "stream",
     "text": [
      "21 CDI.PA\n"
     ]
    },
    {
     "name": "stderr",
     "output_type": "stream",
     "text": [
      "\r[*********************100%%**********************]  1 of 1 completed\n"
     ]
    },
    {
     "name": "stdout",
     "output_type": "stream",
     "text": [
      "22 RELIANCE.NS\n"
     ]
    },
    {
     "name": "stderr",
     "output_type": "stream",
     "text": [
      "\r[*********************100%%**********************]  1 of 1 completed\n"
     ]
    },
    {
     "name": "stdout",
     "output_type": "stream",
     "text": [
      "23 TCS.NS\n"
     ]
    },
    {
     "name": "stderr",
     "output_type": "stream",
     "text": [
      "\r[*********************100%%**********************]  1 of 1 completed\n"
     ]
    },
    {
     "name": "stdout",
     "output_type": "stream",
     "text": [
      "24 HDB\n"
     ]
    },
    {
     "name": "stderr",
     "output_type": "stream",
     "text": [
      "\r[*********************100%%**********************]  1 of 1 completed\n"
     ]
    },
    {
     "name": "stdout",
     "output_type": "stream",
     "text": [
      "25 BHARTIARTL.NS\n"
     ]
    },
    {
     "name": "stderr",
     "output_type": "stream",
     "text": [
      "\r[*********************100%%**********************]  1 of 1 completed\n"
     ]
    },
    {
     "name": "stdout",
     "output_type": "stream",
     "text": [
      "26 IBN\n"
     ]
    },
    {
     "name": "stderr",
     "output_type": "stream",
     "text": [
      "\r[*********************100%%**********************]  1 of 1 completed\n"
     ]
    },
    {
     "name": "stdout",
     "output_type": "stream",
     "text": [
      "27 SBIN.NS\n"
     ]
    },
    {
     "name": "stderr",
     "output_type": "stream",
     "text": [
      "[*********************100%%**********************]  1 of 1 completed\n",
      "[*********************100%%**********************]  1 of 1 completed"
     ]
    },
    {
     "name": "stdout",
     "output_type": "stream",
     "text": [
      "28 LICI.NS\n"
     ]
    },
    {
     "name": "stderr",
     "output_type": "stream",
     "text": [
      "\n"
     ]
    },
    {
     "name": "stdout",
     "output_type": "stream",
     "text": [
      "29 INFY\n"
     ]
    },
    {
     "name": "stderr",
     "output_type": "stream",
     "text": [
      "\r[*********************100%%**********************]  1 of 1 completed\n"
     ]
    },
    {
     "name": "stdout",
     "output_type": "stream",
     "text": [
      "30 ITC.NS\n"
     ]
    },
    {
     "name": "stderr",
     "output_type": "stream",
     "text": [
      "\r[*********************100%%**********************]  1 of 1 completed\n"
     ]
    },
    {
     "name": "stdout",
     "output_type": "stream",
     "text": [
      "31 HINDUNILVR.NS\n"
     ]
    },
    {
     "name": "stderr",
     "output_type": "stream",
     "text": [
      "\r[*********************100%%**********************]  1 of 1 completed\n"
     ]
    },
    {
     "name": "stdout",
     "output_type": "stream",
     "text": [
      "32 LT.NS\n"
     ]
    },
    {
     "name": "stderr",
     "output_type": "stream",
     "text": [
      "\r[*********************100%%**********************]  1 of 1 completed\n"
     ]
    }
   ],
   "source": [
    "import time\n",
    "\n",
    "stocks_df = pd.DataFrame({'A' : []})\n",
    "\n",
    "for i,ticker in enumerate(ALL_TICKERS):\n",
    "  print(i,ticker)\n",
    "\n",
    "  # Work with stock prices\n",
    "  historyPrices = yf.download(tickers = ticker,\n",
    "                     period = \"max\",\n",
    "                     interval = \"1d\")\n",
    "\n",
    "  # generate features for historical prices, and what we want to predict\n",
    "  historyPrices['Ticker'] = ticker\n",
    "  historyPrices['Year']= historyPrices.index.year\n",
    "  historyPrices['Month'] = historyPrices.index.month\n",
    "  historyPrices['Weekday'] = historyPrices.index.weekday\n",
    "  historyPrices['Date'] = historyPrices.index.date\n",
    "\n",
    "  # historical returns\n",
    "  for i in [1,3,7,30,90,365]:\n",
    "    historyPrices['growth_'+str(i)+'d'] = historyPrices['Adj Close'] / historyPrices['Adj Close'].shift(i)\n",
    "  historyPrices['growth_future_5d'] = historyPrices['Adj Close'].shift(-5) / historyPrices['Adj Close']\n",
    "\n",
    "  # Technical indicators\n",
    "  # SimpleMovingAverage 10 days and 20 days\n",
    "  historyPrices['SMA10']= historyPrices['Close'].rolling(10).mean()\n",
    "  historyPrices['SMA20']= historyPrices['Close'].rolling(20).mean()\n",
    "  historyPrices['growing_moving_average'] = np.where(historyPrices['SMA10'] > historyPrices['SMA20'], 1, 0)\n",
    "  historyPrices['high_minus_low_relative'] = (historyPrices.High - historyPrices.Low) / historyPrices['Adj Close']\n",
    "\n",
    "  # 30d rolling volatility : https://ycharts.com/glossary/terms/rolling_vol_30\n",
    "  historyPrices['volatility'] =   historyPrices['Adj Close'].rolling(30).std() * np.sqrt(252)\n",
    "\n",
    "  # what we want to predict\n",
    "  historyPrices['is_positive_growth_5d_future'] = np.where(historyPrices['growth_future_5d'] > 1, 1, 0)\n",
    "\n",
    "  # sleep 1 sec between downloads - not to overload the API server\n",
    "  time.sleep(1)\n",
    "\n",
    "\n",
    "  if stocks_df.empty:\n",
    "    stocks_df = historyPrices\n",
    "  else:\n",
    "    stocks_df = pd.concat([stocks_df, historyPrices], ignore_index=True)"
   ]
  },
  {
   "cell_type": "code",
   "execution_count": null,
   "metadata": {},
   "outputs": [],
   "source": [
    "def get_ticker_type(ticker:str, us_stocks_list, eu_stocks_list, india_stocks_list):\n",
    "  if ticker in us_stocks_list:\n",
    "    return 'US'\n",
    "  elif ticker in eu_stocks_list:\n",
    "    return 'EU'\n",
    "  elif ticker in india_stocks_list:\n",
    "    return 'INDIA'\n",
    "  else:\n",
    "    return 'ERROR'\n"
   ]
  },
  {
   "cell_type": "code",
   "execution_count": null,
   "metadata": {},
   "outputs": [],
   "source": [
    "stocks_df['ticker_type'] = stocks_df.Ticker.apply(lambda x:get_ticker_type(x, US_STOCKS, EU_STOCKS, INDIA_STOCKS))"
   ]
  },
  {
   "cell_type": "code",
   "execution_count": null,
   "metadata": {},
   "outputs": [
    {
     "data": {
      "text/plain": [
       "ticker_type\n",
       "US       80639\n",
       "EU       76986\n",
       "INDIA    63265\n",
       "Name: count, dtype: int64"
      ]
     },
     "metadata": {},
     "output_type": "display_data"
    }
   ],
   "source": [
    "# count of observations between US-EU-INDIA stocks\n",
    "stocks_df.ticker_type.value_counts()"
   ]
  },
  {
   "cell_type": "code",
   "execution_count": null,
   "metadata": {},
   "outputs": [
    {
     "data": {
      "text/plain": [
       "33"
      ]
     },
     "metadata": {},
     "output_type": "display_data"
    }
   ],
   "source": [
    "# unique tickers\n",
    "stocks_df.Ticker.nunique()"
   ]
  },
  {
   "cell_type": "code",
   "execution_count": null,
   "metadata": {},
   "outputs": [
    {
     "data": {
      "text/plain": [
       "Ticker\n",
       "LLY              13087\n",
       "JPM              11121\n",
       "AAPL             10933\n",
       "NVO              10838\n",
       "MSFT              9607\n",
       "CDI.PA            8321\n",
       "TTE               8185\n",
       "ASML              7330\n",
       "SAP               7201\n",
       "HINDUNILVR.NS     7115\n",
       "SBIN.NS           7113\n",
       "RELIANCE.NS       7112\n",
       "ITC.NS            7112\n",
       "SIE.DE            7039\n",
       "BRK-B             7038\n",
       "AMZN              6780\n",
       "NVDA              6356\n",
       "INFY              6323\n",
       "MC.PA             6251\n",
       "RMS.PA            6251\n",
       "OR.PA             6251\n",
       "IBN               6058\n",
       "ACN               5728\n",
       "HDB               5727\n",
       "LT.NS             5420\n",
       "BHARTIARTL.NS     5417\n",
       "TCS.NS            5388\n",
       "GOOG              4955\n",
       "V                 4054\n",
       "AVGO              3705\n",
       "IDEXY             3591\n",
       "META              3003\n",
       "LICI.NS            480\n",
       "Name: count, dtype: int64"
      ]
     },
     "metadata": {},
     "output_type": "display_data"
    }
   ],
   "source": [
    "# count of observations by stock\n",
    "stocks_df.Ticker.value_counts()"
   ]
  },
  {
   "cell_type": "code",
   "execution_count": null,
   "metadata": {},
   "outputs": [
    {
     "data": {
      "application/vnd.google.colaboratory.intrinsic+json": {
       "summary": "{\n  \"name\": \"stocks_df\",\n  \"rows\": 33,\n  \"fields\": [\n    {\n      \"column\": \"min\",\n      \"properties\": {\n        \"dtype\": \"date\",\n        \"min\": \"1972-06-01\",\n        \"max\": \"2022-05-17\",\n        \"num_unique_values\": 27,\n        \"samples\": [\n          \"2004-08-19\",\n          \"1999-03-11\",\n          \"2001-07-20\"\n        ],\n        \"semantic_type\": \"\",\n        \"description\": \"\"\n      }\n    },\n    {\n      \"column\": \"max\",\n      \"properties\": {\n        \"dtype\": \"date\",\n        \"min\": \"2024-04-24\",\n        \"max\": \"2024-04-25\",\n        \"num_unique_values\": 2,\n        \"samples\": [\n          \"2024-04-24\",\n          \"2024-04-25\"\n        ],\n        \"semantic_type\": \"\",\n        \"description\": \"\"\n      }\n    }\n  ]\n}",
       "type": "dataframe"
      },
      "text/html": [
       "\n",
       "  <div id=\"df-a567f221-70b9-4459-aa53-76cc7a99cef8\" class=\"colab-df-container\">\n",
       "    <div>\n",
       "<style scoped>\n",
       "    .dataframe tbody tr th:only-of-type {\n",
       "        vertical-align: middle;\n",
       "    }\n",
       "\n",
       "    .dataframe tbody tr th {\n",
       "        vertical-align: top;\n",
       "    }\n",
       "\n",
       "    .dataframe thead th {\n",
       "        text-align: right;\n",
       "    }\n",
       "</style>\n",
       "<table border=\"1\" class=\"dataframe\">\n",
       "  <thead>\n",
       "    <tr style=\"text-align: right;\">\n",
       "      <th></th>\n",
       "      <th></th>\n",
       "      <th>min</th>\n",
       "      <th>max</th>\n",
       "    </tr>\n",
       "    <tr>\n",
       "      <th>Ticker</th>\n",
       "      <th>ticker_type</th>\n",
       "      <th></th>\n",
       "      <th></th>\n",
       "    </tr>\n",
       "  </thead>\n",
       "  <tbody>\n",
       "    <tr>\n",
       "      <th>AAPL</th>\n",
       "      <th>US</th>\n",
       "      <td>1980-12-12</td>\n",
       "      <td>2024-04-25</td>\n",
       "    </tr>\n",
       "    <tr>\n",
       "      <th>ACN</th>\n",
       "      <th>EU</th>\n",
       "      <td>2001-07-19</td>\n",
       "      <td>2024-04-25</td>\n",
       "    </tr>\n",
       "    <tr>\n",
       "      <th>AMZN</th>\n",
       "      <th>US</th>\n",
       "      <td>1997-05-15</td>\n",
       "      <td>2024-04-24</td>\n",
       "    </tr>\n",
       "    <tr>\n",
       "      <th>ASML</th>\n",
       "      <th>EU</th>\n",
       "      <td>1995-03-15</td>\n",
       "      <td>2024-04-25</td>\n",
       "    </tr>\n",
       "    <tr>\n",
       "      <th>AVGO</th>\n",
       "      <th>US</th>\n",
       "      <td>2009-08-06</td>\n",
       "      <td>2024-04-25</td>\n",
       "    </tr>\n",
       "    <tr>\n",
       "      <th>BHARTIARTL.NS</th>\n",
       "      <th>INDIA</th>\n",
       "      <td>2002-07-01</td>\n",
       "      <td>2024-04-25</td>\n",
       "    </tr>\n",
       "    <tr>\n",
       "      <th>BRK-B</th>\n",
       "      <th>US</th>\n",
       "      <td>1996-05-09</td>\n",
       "      <td>2024-04-25</td>\n",
       "    </tr>\n",
       "    <tr>\n",
       "      <th>CDI.PA</th>\n",
       "      <th>EU</th>\n",
       "      <td>1992-01-27</td>\n",
       "      <td>2024-04-25</td>\n",
       "    </tr>\n",
       "    <tr>\n",
       "      <th>GOOG</th>\n",
       "      <th>US</th>\n",
       "      <td>2004-08-19</td>\n",
       "      <td>2024-04-25</td>\n",
       "    </tr>\n",
       "    <tr>\n",
       "      <th>HDB</th>\n",
       "      <th>INDIA</th>\n",
       "      <td>2001-07-20</td>\n",
       "      <td>2024-04-25</td>\n",
       "    </tr>\n",
       "    <tr>\n",
       "      <th>HINDUNILVR.NS</th>\n",
       "      <th>INDIA</th>\n",
       "      <td>1996-01-01</td>\n",
       "      <td>2024-04-25</td>\n",
       "    </tr>\n",
       "    <tr>\n",
       "      <th>IBN</th>\n",
       "      <th>INDIA</th>\n",
       "      <td>2000-03-28</td>\n",
       "      <td>2024-04-25</td>\n",
       "    </tr>\n",
       "    <tr>\n",
       "      <th>IDEXY</th>\n",
       "      <th>EU</th>\n",
       "      <td>2010-01-20</td>\n",
       "      <td>2024-04-25</td>\n",
       "    </tr>\n",
       "    <tr>\n",
       "      <th>INFY</th>\n",
       "      <th>INDIA</th>\n",
       "      <td>1999-03-11</td>\n",
       "      <td>2024-04-25</td>\n",
       "    </tr>\n",
       "    <tr>\n",
       "      <th>ITC.NS</th>\n",
       "      <th>INDIA</th>\n",
       "      <td>1996-01-01</td>\n",
       "      <td>2024-04-25</td>\n",
       "    </tr>\n",
       "    <tr>\n",
       "      <th>JPM</th>\n",
       "      <th>US</th>\n",
       "      <td>1980-03-17</td>\n",
       "      <td>2024-04-25</td>\n",
       "    </tr>\n",
       "    <tr>\n",
       "      <th>LICI.NS</th>\n",
       "      <th>INDIA</th>\n",
       "      <td>2022-05-17</td>\n",
       "      <td>2024-04-25</td>\n",
       "    </tr>\n",
       "    <tr>\n",
       "      <th>LLY</th>\n",
       "      <th>US</th>\n",
       "      <td>1972-06-01</td>\n",
       "      <td>2024-04-25</td>\n",
       "    </tr>\n",
       "    <tr>\n",
       "      <th>LT.NS</th>\n",
       "      <th>INDIA</th>\n",
       "      <td>2002-07-01</td>\n",
       "      <td>2024-04-25</td>\n",
       "    </tr>\n",
       "    <tr>\n",
       "      <th>MC.PA</th>\n",
       "      <th>EU</th>\n",
       "      <td>2000-01-03</td>\n",
       "      <td>2024-04-25</td>\n",
       "    </tr>\n",
       "    <tr>\n",
       "      <th>META</th>\n",
       "      <th>US</th>\n",
       "      <td>2012-05-18</td>\n",
       "      <td>2024-04-25</td>\n",
       "    </tr>\n",
       "    <tr>\n",
       "      <th>MSFT</th>\n",
       "      <th>US</th>\n",
       "      <td>1986-03-13</td>\n",
       "      <td>2024-04-25</td>\n",
       "    </tr>\n",
       "    <tr>\n",
       "      <th>NVDA</th>\n",
       "      <th>US</th>\n",
       "      <td>1999-01-22</td>\n",
       "      <td>2024-04-25</td>\n",
       "    </tr>\n",
       "    <tr>\n",
       "      <th>NVO</th>\n",
       "      <th>EU</th>\n",
       "      <td>1981-04-30</td>\n",
       "      <td>2024-04-25</td>\n",
       "    </tr>\n",
       "    <tr>\n",
       "      <th>OR.PA</th>\n",
       "      <th>EU</th>\n",
       "      <td>2000-01-03</td>\n",
       "      <td>2024-04-25</td>\n",
       "    </tr>\n",
       "    <tr>\n",
       "      <th>RELIANCE.NS</th>\n",
       "      <th>INDIA</th>\n",
       "      <td>1996-01-01</td>\n",
       "      <td>2024-04-25</td>\n",
       "    </tr>\n",
       "    <tr>\n",
       "      <th>RMS.PA</th>\n",
       "      <th>EU</th>\n",
       "      <td>2000-01-03</td>\n",
       "      <td>2024-04-25</td>\n",
       "    </tr>\n",
       "    <tr>\n",
       "      <th>SAP</th>\n",
       "      <th>EU</th>\n",
       "      <td>1995-09-18</td>\n",
       "      <td>2024-04-25</td>\n",
       "    </tr>\n",
       "    <tr>\n",
       "      <th>SBIN.NS</th>\n",
       "      <th>INDIA</th>\n",
       "      <td>1996-01-01</td>\n",
       "      <td>2024-04-25</td>\n",
       "    </tr>\n",
       "    <tr>\n",
       "      <th>SIE.DE</th>\n",
       "      <th>EU</th>\n",
       "      <td>1996-11-08</td>\n",
       "      <td>2024-04-25</td>\n",
       "    </tr>\n",
       "    <tr>\n",
       "      <th>TCS.NS</th>\n",
       "      <th>INDIA</th>\n",
       "      <td>2002-08-12</td>\n",
       "      <td>2024-04-25</td>\n",
       "    </tr>\n",
       "    <tr>\n",
       "      <th>TTE</th>\n",
       "      <th>EU</th>\n",
       "      <td>1991-10-25</td>\n",
       "      <td>2024-04-25</td>\n",
       "    </tr>\n",
       "    <tr>\n",
       "      <th>V</th>\n",
       "      <th>US</th>\n",
       "      <td>2008-03-19</td>\n",
       "      <td>2024-04-25</td>\n",
       "    </tr>\n",
       "  </tbody>\n",
       "</table>\n",
       "</div>\n",
       "    <div class=\"colab-df-buttons\">\n",
       "\n",
       "  <div class=\"colab-df-container\">\n",
       "    <button class=\"colab-df-convert\" onclick=\"convertToInteractive('df-a567f221-70b9-4459-aa53-76cc7a99cef8')\"\n",
       "            title=\"Convert this dataframe to an interactive table.\"\n",
       "            style=\"display:none;\">\n",
       "\n",
       "  <svg xmlns=\"http://www.w3.org/2000/svg\" height=\"24px\" viewBox=\"0 -960 960 960\">\n",
       "    <path d=\"M120-120v-720h720v720H120Zm60-500h600v-160H180v160Zm220 220h160v-160H400v160Zm0 220h160v-160H400v160ZM180-400h160v-160H180v160Zm440 0h160v-160H620v160ZM180-180h160v-160H180v160Zm440 0h160v-160H620v160Z\"/>\n",
       "  </svg>\n",
       "    </button>\n",
       "\n",
       "  <style>\n",
       "    .colab-df-container {\n",
       "      display:flex;\n",
       "      gap: 12px;\n",
       "    }\n",
       "\n",
       "    .colab-df-convert {\n",
       "      background-color: #E8F0FE;\n",
       "      border: none;\n",
       "      border-radius: 50%;\n",
       "      cursor: pointer;\n",
       "      display: none;\n",
       "      fill: #1967D2;\n",
       "      height: 32px;\n",
       "      padding: 0 0 0 0;\n",
       "      width: 32px;\n",
       "    }\n",
       "\n",
       "    .colab-df-convert:hover {\n",
       "      background-color: #E2EBFA;\n",
       "      box-shadow: 0px 1px 2px rgba(60, 64, 67, 0.3), 0px 1px 3px 1px rgba(60, 64, 67, 0.15);\n",
       "      fill: #174EA6;\n",
       "    }\n",
       "\n",
       "    .colab-df-buttons div {\n",
       "      margin-bottom: 4px;\n",
       "    }\n",
       "\n",
       "    [theme=dark] .colab-df-convert {\n",
       "      background-color: #3B4455;\n",
       "      fill: #D2E3FC;\n",
       "    }\n",
       "\n",
       "    [theme=dark] .colab-df-convert:hover {\n",
       "      background-color: #434B5C;\n",
       "      box-shadow: 0px 1px 3px 1px rgba(0, 0, 0, 0.15);\n",
       "      filter: drop-shadow(0px 1px 2px rgba(0, 0, 0, 0.3));\n",
       "      fill: #FFFFFF;\n",
       "    }\n",
       "  </style>\n",
       "\n",
       "    <script>\n",
       "      const buttonEl =\n",
       "        document.querySelector('#df-a567f221-70b9-4459-aa53-76cc7a99cef8 button.colab-df-convert');\n",
       "      buttonEl.style.display =\n",
       "        google.colab.kernel.accessAllowed ? 'block' : 'none';\n",
       "\n",
       "      async function convertToInteractive(key) {\n",
       "        const element = document.querySelector('#df-a567f221-70b9-4459-aa53-76cc7a99cef8');\n",
       "        const dataTable =\n",
       "          await google.colab.kernel.invokeFunction('convertToInteractive',\n",
       "                                                    [key], {});\n",
       "        if (!dataTable) return;\n",
       "\n",
       "        const docLinkHtml = 'Like what you see? Visit the ' +\n",
       "          '<a target=\"_blank\" href=https://colab.research.google.com/notebooks/data_table.ipynb>data table notebook</a>'\n",
       "          + ' to learn more about interactive tables.';\n",
       "        element.innerHTML = '';\n",
       "        dataTable['output_type'] = 'display_data';\n",
       "        await google.colab.output.renderOutput(dataTable, element);\n",
       "        const docLink = document.createElement('div');\n",
       "        docLink.innerHTML = docLinkHtml;\n",
       "        element.appendChild(docLink);\n",
       "      }\n",
       "    </script>\n",
       "  </div>\n",
       "\n",
       "\n",
       "<div id=\"df-ae43645b-8dd1-4c7a-9cf6-5b8cbc48d8eb\">\n",
       "  <button class=\"colab-df-quickchart\" onclick=\"quickchart('df-ae43645b-8dd1-4c7a-9cf6-5b8cbc48d8eb')\"\n",
       "            title=\"Suggest charts\"\n",
       "            style=\"display:none;\">\n",
       "\n",
       "<svg xmlns=\"http://www.w3.org/2000/svg\" height=\"24px\"viewBox=\"0 0 24 24\"\n",
       "     width=\"24px\">\n",
       "    <g>\n",
       "        <path d=\"M19 3H5c-1.1 0-2 .9-2 2v14c0 1.1.9 2 2 2h14c1.1 0 2-.9 2-2V5c0-1.1-.9-2-2-2zM9 17H7v-7h2v7zm4 0h-2V7h2v10zm4 0h-2v-4h2v4z\"/>\n",
       "    </g>\n",
       "</svg>\n",
       "  </button>\n",
       "\n",
       "<style>\n",
       "  .colab-df-quickchart {\n",
       "      --bg-color: #E8F0FE;\n",
       "      --fill-color: #1967D2;\n",
       "      --hover-bg-color: #E2EBFA;\n",
       "      --hover-fill-color: #174EA6;\n",
       "      --disabled-fill-color: #AAA;\n",
       "      --disabled-bg-color: #DDD;\n",
       "  }\n",
       "\n",
       "  [theme=dark] .colab-df-quickchart {\n",
       "      --bg-color: #3B4455;\n",
       "      --fill-color: #D2E3FC;\n",
       "      --hover-bg-color: #434B5C;\n",
       "      --hover-fill-color: #FFFFFF;\n",
       "      --disabled-bg-color: #3B4455;\n",
       "      --disabled-fill-color: #666;\n",
       "  }\n",
       "\n",
       "  .colab-df-quickchart {\n",
       "    background-color: var(--bg-color);\n",
       "    border: none;\n",
       "    border-radius: 50%;\n",
       "    cursor: pointer;\n",
       "    display: none;\n",
       "    fill: var(--fill-color);\n",
       "    height: 32px;\n",
       "    padding: 0;\n",
       "    width: 32px;\n",
       "  }\n",
       "\n",
       "  .colab-df-quickchart:hover {\n",
       "    background-color: var(--hover-bg-color);\n",
       "    box-shadow: 0 1px 2px rgba(60, 64, 67, 0.3), 0 1px 3px 1px rgba(60, 64, 67, 0.15);\n",
       "    fill: var(--button-hover-fill-color);\n",
       "  }\n",
       "\n",
       "  .colab-df-quickchart-complete:disabled,\n",
       "  .colab-df-quickchart-complete:disabled:hover {\n",
       "    background-color: var(--disabled-bg-color);\n",
       "    fill: var(--disabled-fill-color);\n",
       "    box-shadow: none;\n",
       "  }\n",
       "\n",
       "  .colab-df-spinner {\n",
       "    border: 2px solid var(--fill-color);\n",
       "    border-color: transparent;\n",
       "    border-bottom-color: var(--fill-color);\n",
       "    animation:\n",
       "      spin 1s steps(1) infinite;\n",
       "  }\n",
       "\n",
       "  @keyframes spin {\n",
       "    0% {\n",
       "      border-color: transparent;\n",
       "      border-bottom-color: var(--fill-color);\n",
       "      border-left-color: var(--fill-color);\n",
       "    }\n",
       "    20% {\n",
       "      border-color: transparent;\n",
       "      border-left-color: var(--fill-color);\n",
       "      border-top-color: var(--fill-color);\n",
       "    }\n",
       "    30% {\n",
       "      border-color: transparent;\n",
       "      border-left-color: var(--fill-color);\n",
       "      border-top-color: var(--fill-color);\n",
       "      border-right-color: var(--fill-color);\n",
       "    }\n",
       "    40% {\n",
       "      border-color: transparent;\n",
       "      border-right-color: var(--fill-color);\n",
       "      border-top-color: var(--fill-color);\n",
       "    }\n",
       "    60% {\n",
       "      border-color: transparent;\n",
       "      border-right-color: var(--fill-color);\n",
       "    }\n",
       "    80% {\n",
       "      border-color: transparent;\n",
       "      border-right-color: var(--fill-color);\n",
       "      border-bottom-color: var(--fill-color);\n",
       "    }\n",
       "    90% {\n",
       "      border-color: transparent;\n",
       "      border-bottom-color: var(--fill-color);\n",
       "    }\n",
       "  }\n",
       "</style>\n",
       "\n",
       "  <script>\n",
       "    async function quickchart(key) {\n",
       "      const quickchartButtonEl =\n",
       "        document.querySelector('#' + key + ' button');\n",
       "      quickchartButtonEl.disabled = true;  // To prevent multiple clicks.\n",
       "      quickchartButtonEl.classList.add('colab-df-spinner');\n",
       "      try {\n",
       "        const charts = await google.colab.kernel.invokeFunction(\n",
       "            'suggestCharts', [key], {});\n",
       "      } catch (error) {\n",
       "        console.error('Error during call to suggestCharts:', error);\n",
       "      }\n",
       "      quickchartButtonEl.classList.remove('colab-df-spinner');\n",
       "      quickchartButtonEl.classList.add('colab-df-quickchart-complete');\n",
       "    }\n",
       "    (() => {\n",
       "      let quickchartButtonEl =\n",
       "        document.querySelector('#df-ae43645b-8dd1-4c7a-9cf6-5b8cbc48d8eb button');\n",
       "      quickchartButtonEl.style.display =\n",
       "        google.colab.kernel.accessAllowed ? 'block' : 'none';\n",
       "    })();\n",
       "  </script>\n",
       "</div>\n",
       "    </div>\n",
       "  </div>\n"
      ],
      "text/plain": [
       "                                  min         max\n",
       "Ticker        ticker_type                        \n",
       "AAPL          US           1980-12-12  2024-04-25\n",
       "ACN           EU           2001-07-19  2024-04-25\n",
       "AMZN          US           1997-05-15  2024-04-24\n",
       "ASML          EU           1995-03-15  2024-04-25\n",
       "AVGO          US           2009-08-06  2024-04-25\n",
       "BHARTIARTL.NS INDIA        2002-07-01  2024-04-25\n",
       "BRK-B         US           1996-05-09  2024-04-25\n",
       "CDI.PA        EU           1992-01-27  2024-04-25\n",
       "GOOG          US           2004-08-19  2024-04-25\n",
       "HDB           INDIA        2001-07-20  2024-04-25\n",
       "HINDUNILVR.NS INDIA        1996-01-01  2024-04-25\n",
       "IBN           INDIA        2000-03-28  2024-04-25\n",
       "IDEXY         EU           2010-01-20  2024-04-25\n",
       "INFY          INDIA        1999-03-11  2024-04-25\n",
       "ITC.NS        INDIA        1996-01-01  2024-04-25\n",
       "JPM           US           1980-03-17  2024-04-25\n",
       "LICI.NS       INDIA        2022-05-17  2024-04-25\n",
       "LLY           US           1972-06-01  2024-04-25\n",
       "LT.NS         INDIA        2002-07-01  2024-04-25\n",
       "MC.PA         EU           2000-01-03  2024-04-25\n",
       "META          US           2012-05-18  2024-04-25\n",
       "MSFT          US           1986-03-13  2024-04-25\n",
       "NVDA          US           1999-01-22  2024-04-25\n",
       "NVO           EU           1981-04-30  2024-04-25\n",
       "OR.PA         EU           2000-01-03  2024-04-25\n",
       "RELIANCE.NS   INDIA        1996-01-01  2024-04-25\n",
       "RMS.PA        EU           2000-01-03  2024-04-25\n",
       "SAP           EU           1995-09-18  2024-04-25\n",
       "SBIN.NS       INDIA        1996-01-01  2024-04-25\n",
       "SIE.DE        EU           1996-11-08  2024-04-25\n",
       "TCS.NS        INDIA        2002-08-12  2024-04-25\n",
       "TTE           EU           1991-10-25  2024-04-25\n",
       "V             US           2008-03-19  2024-04-25"
      ]
     },
     "metadata": {},
     "output_type": "display_data"
    }
   ],
   "source": [
    "stocks_df.groupby(['Ticker','ticker_type']).Date.agg(['min','max'])"
   ]
  },
  {
   "cell_type": "code",
   "execution_count": null,
   "metadata": {},
   "outputs": [
    {
     "data": {
      "text/plain": [
       "Year  ticker_type\n",
       "2020  EU             1.245388\n",
       "      INDIA          1.101896\n",
       "      US             1.484070\n",
       "2021  EU             1.582170\n",
       "      INDIA          1.546424\n",
       "      US             1.797571\n",
       "2022  EU             1.191169\n",
       "      INDIA          1.379889\n",
       "      US             1.182379\n",
       "2023  EU             1.246533\n",
       "      INDIA          1.201110\n",
       "      US             1.203253\n",
       "2024  EU             1.650721\n",
       "      INDIA          1.305762\n",
       "      US             2.153187\n",
       "Name: growth_365d, dtype: float64"
      ]
     },
     "metadata": {},
     "output_type": "display_data"
    }
   ],
   "source": [
    "#  average growth 365days\n",
    "stocks_df[stocks_df.Year>=2020].groupby(by=['Year','ticker_type']).growth_365d.mean()"
   ]
  },
  {
   "cell_type": "code",
   "execution_count": null,
   "metadata": {},
   "outputs": [],
   "source": [
    "stocks_df['Date'] = pd.to_datetime(stocks_df['Date'])"
   ]
  },
  {
   "cell_type": "code",
   "execution_count": null,
   "metadata": {},
   "outputs": [
    {
     "name": "stdout",
     "output_type": "stream",
     "text": [
      "<class 'pandas.core.frame.DataFrame'>\n",
      "Index: 182423 entries, 3490 to 220889\n",
      "Data columns (total 25 columns):\n",
      " #   Column                        Non-Null Count   Dtype         \n",
      "---  ------                        --------------   -----         \n",
      " 0   Open                          182423 non-null  float64       \n",
      " 1   High                          182423 non-null  float64       \n",
      " 2   Low                           182423 non-null  float64       \n",
      " 3   Close                         182423 non-null  float64       \n",
      " 4   Adj Close                     182423 non-null  float64       \n",
      " 5   Volume                        182423 non-null  int64         \n",
      " 6   Ticker                        182423 non-null  object        \n",
      " 7   Year                          182423 non-null  int32         \n",
      " 8   Month                         182423 non-null  int32         \n",
      " 9   Weekday                       182423 non-null  int32         \n",
      " 10  Date                          182423 non-null  datetime64[ns]\n",
      " 11  growth_1d                     182408 non-null  float64       \n",
      " 12  growth_3d                     182378 non-null  float64       \n",
      " 13  growth_7d                     182318 non-null  float64       \n",
      " 14  growth_30d                    181973 non-null  float64       \n",
      " 15  growth_90d                    181073 non-null  float64       \n",
      " 16  growth_365d                   176663 non-null  float64       \n",
      " 17  growth_future_5d              182258 non-null  float64       \n",
      " 18  SMA10                         182288 non-null  float64       \n",
      " 19  SMA20                         182138 non-null  float64       \n",
      " 20  growing_moving_average        182423 non-null  int64         \n",
      " 21  high_minus_low_relative       182423 non-null  float64       \n",
      " 22  volatility                    181988 non-null  float64       \n",
      " 23  is_positive_growth_5d_future  182423 non-null  int64         \n",
      " 24  ticker_type                   182423 non-null  object        \n",
      "dtypes: datetime64[ns](1), float64(16), int32(3), int64(3), object(2)\n",
      "memory usage: 34.1+ MB\n"
     ]
    }
   ],
   "source": [
    "# filtering only on stats after 2000\n",
    "stocks_df[stocks_df.Date>='2000-01-01'].info()"
   ]
  },
  {
   "cell_type": "code",
   "execution_count": null,
   "metadata": {},
   "outputs": [
    {
     "data": {
      "application/vnd.google.colaboratory.intrinsic+json": {
       "type": "dataframe"
      },
      "text/html": [
       "\n",
       "  <div id=\"df-ccfe7d88-a6c7-4c2e-98d2-523d6fa8d0bf\" class=\"colab-df-container\">\n",
       "    <div>\n",
       "<style scoped>\n",
       "    .dataframe tbody tr th:only-of-type {\n",
       "        vertical-align: middle;\n",
       "    }\n",
       "\n",
       "    .dataframe tbody tr th {\n",
       "        vertical-align: top;\n",
       "    }\n",
       "\n",
       "    .dataframe thead th {\n",
       "        text-align: right;\n",
       "    }\n",
       "</style>\n",
       "<table border=\"1\" class=\"dataframe\">\n",
       "  <thead>\n",
       "    <tr style=\"text-align: right;\">\n",
       "      <th></th>\n",
       "      <th>Open</th>\n",
       "      <th>High</th>\n",
       "      <th>Low</th>\n",
       "      <th>Close</th>\n",
       "      <th>Adj Close</th>\n",
       "      <th>Volume</th>\n",
       "      <th>Ticker</th>\n",
       "      <th>Year</th>\n",
       "      <th>Month</th>\n",
       "      <th>Weekday</th>\n",
       "      <th>...</th>\n",
       "      <th>growth_90d</th>\n",
       "      <th>growth_365d</th>\n",
       "      <th>growth_future_5d</th>\n",
       "      <th>SMA10</th>\n",
       "      <th>SMA20</th>\n",
       "      <th>growing_moving_average</th>\n",
       "      <th>high_minus_low_relative</th>\n",
       "      <th>volatility</th>\n",
       "      <th>is_positive_growth_5d_future</th>\n",
       "      <th>ticker_type</th>\n",
       "    </tr>\n",
       "  </thead>\n",
       "  <tbody>\n",
       "    <tr>\n",
       "      <th>194903</th>\n",
       "      <td>925.000000</td>\n",
       "      <td>984.450012</td>\n",
       "      <td>924.000000</td>\n",
       "      <td>970.599976</td>\n",
       "      <td>970.599976</td>\n",
       "      <td>4863536</td>\n",
       "      <td>LICI.NS</td>\n",
       "      <td>2024</td>\n",
       "      <td>4</td>\n",
       "      <td>0</td>\n",
       "      <td>...</td>\n",
       "      <td>1.599113</td>\n",
       "      <td>1.556710</td>\n",
       "      <td>1.026891</td>\n",
       "      <td>906.085004</td>\n",
       "      <td>953.950003</td>\n",
       "      <td>0</td>\n",
       "      <td>0.062281</td>\n",
       "      <td>1034.237352</td>\n",
       "      <td>1</td>\n",
       "      <td>INDIA</td>\n",
       "    </tr>\n",
       "    <tr>\n",
       "      <th>201224</th>\n",
       "      <td>17.889999</td>\n",
       "      <td>17.920000</td>\n",
       "      <td>17.500000</td>\n",
       "      <td>17.580000</td>\n",
       "      <td>17.580000</td>\n",
       "      <td>14601600</td>\n",
       "      <td>INFY</td>\n",
       "      <td>2024</td>\n",
       "      <td>4</td>\n",
       "      <td>0</td>\n",
       "      <td>...</td>\n",
       "      <td>1.003998</td>\n",
       "      <td>1.024508</td>\n",
       "      <td>1.015927</td>\n",
       "      <td>18.156000</td>\n",
       "      <td>18.777500</td>\n",
       "      <td>0</td>\n",
       "      <td>0.023891</td>\n",
       "      <td>13.940634</td>\n",
       "      <td>1</td>\n",
       "      <td>INDIA</td>\n",
       "    </tr>\n",
       "    <tr>\n",
       "      <th>208338</th>\n",
       "      <td>429.100006</td>\n",
       "      <td>431.350006</td>\n",
       "      <td>425.750000</td>\n",
       "      <td>426.700012</td>\n",
       "      <td>426.700012</td>\n",
       "      <td>9382308</td>\n",
       "      <td>ITC.NS</td>\n",
       "      <td>2024</td>\n",
       "      <td>4</td>\n",
       "      <td>0</td>\n",
       "      <td>...</td>\n",
       "      <td>0.987044</td>\n",
       "      <td>1.314436</td>\n",
       "      <td>1.005625</td>\n",
       "      <td>422.235004</td>\n",
       "      <td>416.537502</td>\n",
       "      <td>1</td>\n",
       "      <td>0.013124</td>\n",
       "      <td>130.246651</td>\n",
       "      <td>1</td>\n",
       "      <td>INDIA</td>\n",
       "    </tr>\n",
       "    <tr>\n",
       "      <th>215453</th>\n",
       "      <td>2270.000000</td>\n",
       "      <td>2295.000000</td>\n",
       "      <td>2262.000000</td>\n",
       "      <td>2285.899902</td>\n",
       "      <td>2285.899902</td>\n",
       "      <td>1427873</td>\n",
       "      <td>HINDUNILVR.NS</td>\n",
       "      <td>2024</td>\n",
       "      <td>4</td>\n",
       "      <td>0</td>\n",
       "      <td>...</td>\n",
       "      <td>0.917590</td>\n",
       "      <td>0.894051</td>\n",
       "      <td>0.992585</td>\n",
       "      <td>2266.539990</td>\n",
       "      <td>2327.240015</td>\n",
       "      <td>0</td>\n",
       "      <td>0.014436</td>\n",
       "      <td>1049.970071</td>\n",
       "      <td>0</td>\n",
       "      <td>INDIA</td>\n",
       "    </tr>\n",
       "    <tr>\n",
       "      <th>220873</th>\n",
       "      <td>3780.850098</td>\n",
       "      <td>3851.850098</td>\n",
       "      <td>3780.850098</td>\n",
       "      <td>3838.000000</td>\n",
       "      <td>3838.000000</td>\n",
       "      <td>1905190</td>\n",
       "      <td>LT.NS</td>\n",
       "      <td>2024</td>\n",
       "      <td>4</td>\n",
       "      <td>0</td>\n",
       "      <td>...</td>\n",
       "      <td>1.257886</td>\n",
       "      <td>2.010850</td>\n",
       "      <td>0.992144</td>\n",
       "      <td>3626.594971</td>\n",
       "      <td>3618.109985</td>\n",
       "      <td>1</td>\n",
       "      <td>0.018499</td>\n",
       "      <td>2188.619806</td>\n",
       "      <td>0</td>\n",
       "      <td>INDIA</td>\n",
       "    </tr>\n",
       "  </tbody>\n",
       "</table>\n",
       "<p>5 rows × 25 columns</p>\n",
       "</div>\n",
       "    <div class=\"colab-df-buttons\">\n",
       "\n",
       "  <div class=\"colab-df-container\">\n",
       "    <button class=\"colab-df-convert\" onclick=\"convertToInteractive('df-ccfe7d88-a6c7-4c2e-98d2-523d6fa8d0bf')\"\n",
       "            title=\"Convert this dataframe to an interactive table.\"\n",
       "            style=\"display:none;\">\n",
       "\n",
       "  <svg xmlns=\"http://www.w3.org/2000/svg\" height=\"24px\" viewBox=\"0 -960 960 960\">\n",
       "    <path d=\"M120-120v-720h720v720H120Zm60-500h600v-160H180v160Zm220 220h160v-160H400v160Zm0 220h160v-160H400v160ZM180-400h160v-160H180v160Zm440 0h160v-160H620v160ZM180-180h160v-160H180v160Zm440 0h160v-160H620v160Z\"/>\n",
       "  </svg>\n",
       "    </button>\n",
       "\n",
       "  <style>\n",
       "    .colab-df-container {\n",
       "      display:flex;\n",
       "      gap: 12px;\n",
       "    }\n",
       "\n",
       "    .colab-df-convert {\n",
       "      background-color: #E8F0FE;\n",
       "      border: none;\n",
       "      border-radius: 50%;\n",
       "      cursor: pointer;\n",
       "      display: none;\n",
       "      fill: #1967D2;\n",
       "      height: 32px;\n",
       "      padding: 0 0 0 0;\n",
       "      width: 32px;\n",
       "    }\n",
       "\n",
       "    .colab-df-convert:hover {\n",
       "      background-color: #E2EBFA;\n",
       "      box-shadow: 0px 1px 2px rgba(60, 64, 67, 0.3), 0px 1px 3px 1px rgba(60, 64, 67, 0.15);\n",
       "      fill: #174EA6;\n",
       "    }\n",
       "\n",
       "    .colab-df-buttons div {\n",
       "      margin-bottom: 4px;\n",
       "    }\n",
       "\n",
       "    [theme=dark] .colab-df-convert {\n",
       "      background-color: #3B4455;\n",
       "      fill: #D2E3FC;\n",
       "    }\n",
       "\n",
       "    [theme=dark] .colab-df-convert:hover {\n",
       "      background-color: #434B5C;\n",
       "      box-shadow: 0px 1px 3px 1px rgba(0, 0, 0, 0.15);\n",
       "      filter: drop-shadow(0px 1px 2px rgba(0, 0, 0, 0.3));\n",
       "      fill: #FFFFFF;\n",
       "    }\n",
       "  </style>\n",
       "\n",
       "    <script>\n",
       "      const buttonEl =\n",
       "        document.querySelector('#df-ccfe7d88-a6c7-4c2e-98d2-523d6fa8d0bf button.colab-df-convert');\n",
       "      buttonEl.style.display =\n",
       "        google.colab.kernel.accessAllowed ? 'block' : 'none';\n",
       "\n",
       "      async function convertToInteractive(key) {\n",
       "        const element = document.querySelector('#df-ccfe7d88-a6c7-4c2e-98d2-523d6fa8d0bf');\n",
       "        const dataTable =\n",
       "          await google.colab.kernel.invokeFunction('convertToInteractive',\n",
       "                                                    [key], {});\n",
       "        if (!dataTable) return;\n",
       "\n",
       "        const docLinkHtml = 'Like what you see? Visit the ' +\n",
       "          '<a target=\"_blank\" href=https://colab.research.google.com/notebooks/data_table.ipynb>data table notebook</a>'\n",
       "          + ' to learn more about interactive tables.';\n",
       "        element.innerHTML = '';\n",
       "        dataTable['output_type'] = 'display_data';\n",
       "        await google.colab.output.renderOutput(dataTable, element);\n",
       "        const docLink = document.createElement('div');\n",
       "        docLink.innerHTML = docLinkHtml;\n",
       "        element.appendChild(docLink);\n",
       "      }\n",
       "    </script>\n",
       "  </div>\n",
       "\n",
       "\n",
       "<div id=\"df-5f73d462-b852-46ef-b937-ac97878e751c\">\n",
       "  <button class=\"colab-df-quickchart\" onclick=\"quickchart('df-5f73d462-b852-46ef-b937-ac97878e751c')\"\n",
       "            title=\"Suggest charts\"\n",
       "            style=\"display:none;\">\n",
       "\n",
       "<svg xmlns=\"http://www.w3.org/2000/svg\" height=\"24px\"viewBox=\"0 0 24 24\"\n",
       "     width=\"24px\">\n",
       "    <g>\n",
       "        <path d=\"M19 3H5c-1.1 0-2 .9-2 2v14c0 1.1.9 2 2 2h14c1.1 0 2-.9 2-2V5c0-1.1-.9-2-2-2zM9 17H7v-7h2v7zm4 0h-2V7h2v10zm4 0h-2v-4h2v4z\"/>\n",
       "    </g>\n",
       "</svg>\n",
       "  </button>\n",
       "\n",
       "<style>\n",
       "  .colab-df-quickchart {\n",
       "      --bg-color: #E8F0FE;\n",
       "      --fill-color: #1967D2;\n",
       "      --hover-bg-color: #E2EBFA;\n",
       "      --hover-fill-color: #174EA6;\n",
       "      --disabled-fill-color: #AAA;\n",
       "      --disabled-bg-color: #DDD;\n",
       "  }\n",
       "\n",
       "  [theme=dark] .colab-df-quickchart {\n",
       "      --bg-color: #3B4455;\n",
       "      --fill-color: #D2E3FC;\n",
       "      --hover-bg-color: #434B5C;\n",
       "      --hover-fill-color: #FFFFFF;\n",
       "      --disabled-bg-color: #3B4455;\n",
       "      --disabled-fill-color: #666;\n",
       "  }\n",
       "\n",
       "  .colab-df-quickchart {\n",
       "    background-color: var(--bg-color);\n",
       "    border: none;\n",
       "    border-radius: 50%;\n",
       "    cursor: pointer;\n",
       "    display: none;\n",
       "    fill: var(--fill-color);\n",
       "    height: 32px;\n",
       "    padding: 0;\n",
       "    width: 32px;\n",
       "  }\n",
       "\n",
       "  .colab-df-quickchart:hover {\n",
       "    background-color: var(--hover-bg-color);\n",
       "    box-shadow: 0 1px 2px rgba(60, 64, 67, 0.3), 0 1px 3px 1px rgba(60, 64, 67, 0.15);\n",
       "    fill: var(--button-hover-fill-color);\n",
       "  }\n",
       "\n",
       "  .colab-df-quickchart-complete:disabled,\n",
       "  .colab-df-quickchart-complete:disabled:hover {\n",
       "    background-color: var(--disabled-bg-color);\n",
       "    fill: var(--disabled-fill-color);\n",
       "    box-shadow: none;\n",
       "  }\n",
       "\n",
       "  .colab-df-spinner {\n",
       "    border: 2px solid var(--fill-color);\n",
       "    border-color: transparent;\n",
       "    border-bottom-color: var(--fill-color);\n",
       "    animation:\n",
       "      spin 1s steps(1) infinite;\n",
       "  }\n",
       "\n",
       "  @keyframes spin {\n",
       "    0% {\n",
       "      border-color: transparent;\n",
       "      border-bottom-color: var(--fill-color);\n",
       "      border-left-color: var(--fill-color);\n",
       "    }\n",
       "    20% {\n",
       "      border-color: transparent;\n",
       "      border-left-color: var(--fill-color);\n",
       "      border-top-color: var(--fill-color);\n",
       "    }\n",
       "    30% {\n",
       "      border-color: transparent;\n",
       "      border-left-color: var(--fill-color);\n",
       "      border-top-color: var(--fill-color);\n",
       "      border-right-color: var(--fill-color);\n",
       "    }\n",
       "    40% {\n",
       "      border-color: transparent;\n",
       "      border-right-color: var(--fill-color);\n",
       "      border-top-color: var(--fill-color);\n",
       "    }\n",
       "    60% {\n",
       "      border-color: transparent;\n",
       "      border-right-color: var(--fill-color);\n",
       "    }\n",
       "    80% {\n",
       "      border-color: transparent;\n",
       "      border-right-color: var(--fill-color);\n",
       "      border-bottom-color: var(--fill-color);\n",
       "    }\n",
       "    90% {\n",
       "      border-color: transparent;\n",
       "      border-bottom-color: var(--fill-color);\n",
       "    }\n",
       "  }\n",
       "</style>\n",
       "\n",
       "  <script>\n",
       "    async function quickchart(key) {\n",
       "      const quickchartButtonEl =\n",
       "        document.querySelector('#' + key + ' button');\n",
       "      quickchartButtonEl.disabled = true;  // To prevent multiple clicks.\n",
       "      quickchartButtonEl.classList.add('colab-df-spinner');\n",
       "      try {\n",
       "        const charts = await google.colab.kernel.invokeFunction(\n",
       "            'suggestCharts', [key], {});\n",
       "      } catch (error) {\n",
       "        console.error('Error during call to suggestCharts:', error);\n",
       "      }\n",
       "      quickchartButtonEl.classList.remove('colab-df-spinner');\n",
       "      quickchartButtonEl.classList.add('colab-df-quickchart-complete');\n",
       "    }\n",
       "    (() => {\n",
       "      let quickchartButtonEl =\n",
       "        document.querySelector('#df-5f73d462-b852-46ef-b937-ac97878e751c button');\n",
       "      quickchartButtonEl.style.display =\n",
       "        google.colab.kernel.accessAllowed ? 'block' : 'none';\n",
       "    })();\n",
       "  </script>\n",
       "</div>\n",
       "    </div>\n",
       "  </div>\n"
      ],
      "text/plain": [
       "               Open         High          Low        Close    Adj Close  \\\n",
       "194903   925.000000   984.450012   924.000000   970.599976   970.599976   \n",
       "201224    17.889999    17.920000    17.500000    17.580000    17.580000   \n",
       "208338   429.100006   431.350006   425.750000   426.700012   426.700012   \n",
       "215453  2270.000000  2295.000000  2262.000000  2285.899902  2285.899902   \n",
       "220873  3780.850098  3851.850098  3780.850098  3838.000000  3838.000000   \n",
       "\n",
       "          Volume         Ticker  Year  Month  Weekday  ... growth_90d  \\\n",
       "194903   4863536        LICI.NS  2024      4        0  ...   1.599113   \n",
       "201224  14601600           INFY  2024      4        0  ...   1.003998   \n",
       "208338   9382308         ITC.NS  2024      4        0  ...   0.987044   \n",
       "215453   1427873  HINDUNILVR.NS  2024      4        0  ...   0.917590   \n",
       "220873   1905190          LT.NS  2024      4        0  ...   1.257886   \n",
       "\n",
       "        growth_365d  growth_future_5d        SMA10        SMA20  \\\n",
       "194903     1.556710          1.026891   906.085004   953.950003   \n",
       "201224     1.024508          1.015927    18.156000    18.777500   \n",
       "208338     1.314436          1.005625   422.235004   416.537502   \n",
       "215453     0.894051          0.992585  2266.539990  2327.240015   \n",
       "220873     2.010850          0.992144  3626.594971  3618.109985   \n",
       "\n",
       "        growing_moving_average  high_minus_low_relative   volatility  \\\n",
       "194903                       0                 0.062281  1034.237352   \n",
       "201224                       0                 0.023891    13.940634   \n",
       "208338                       1                 0.013124   130.246651   \n",
       "215453                       0                 0.014436  1049.970071   \n",
       "220873                       1                 0.018499  2188.619806   \n",
       "\n",
       "        is_positive_growth_5d_future  ticker_type  \n",
       "194903                             1        INDIA  \n",
       "201224                             1        INDIA  \n",
       "208338                             1        INDIA  \n",
       "215453                             0        INDIA  \n",
       "220873                             0        INDIA  \n",
       "\n",
       "[5 rows x 25 columns]"
      ]
     },
     "metadata": {},
     "output_type": "display_data"
    }
   ],
   "source": [
    "stocks_df[stocks_df.Date=='2024-04-01'].tail()"
   ]
  },
  {
   "cell_type": "code",
   "execution_count": null,
   "metadata": {},
   "outputs": [
    {
     "data": {
      "text/plain": [
       "['MSFT',\n",
       " 'AAPL',\n",
       " 'GOOG',\n",
       " 'NVDA',\n",
       " 'AMZN',\n",
       " 'META',\n",
       " 'BRK-B',\n",
       " 'LLY',\n",
       " 'AVGO',\n",
       " 'V',\n",
       " 'JPM',\n",
       " 'NVO',\n",
       " 'MC.PA',\n",
       " 'ASML',\n",
       " 'RMS.PA',\n",
       " 'OR.PA',\n",
       " 'SAP',\n",
       " 'ACN',\n",
       " 'TTE',\n",
       " 'SIE.DE',\n",
       " 'IDEXY',\n",
       " 'CDI.PA',\n",
       " 'RELIANCE.NS',\n",
       " 'TCS.NS',\n",
       " 'HDB',\n",
       " 'BHARTIARTL.NS',\n",
       " 'IBN',\n",
       " 'SBIN.NS',\n",
       " 'LICI.NS',\n",
       " 'INFY',\n",
       " 'ITC.NS',\n",
       " 'HINDUNILVR.NS',\n",
       " 'LT.NS']"
      ]
     },
     "metadata": {},
     "output_type": "display_data"
    }
   ],
   "source": [
    "ALL_TICKERS = US_STOCKS  + EU_STOCKS + INDIA_STOCKS\n",
    "ALL_TICKERS"
   ]
  },
  {
   "cell_type": "code",
   "execution_count": null,
   "metadata": {},
   "outputs": [
    {
     "name": "stdout",
     "output_type": "stream",
     "text": [
      "0 MSFT\n"
     ]
    },
    {
     "name": "stderr",
     "output_type": "stream",
     "text": [
      "\r[*********************100%%**********************]  1 of 1 completed\n"
     ]
    },
    {
     "name": "stdout",
     "output_type": "stream",
     "text": [
      "1 AAPL\n"
     ]
    },
    {
     "name": "stderr",
     "output_type": "stream",
     "text": [
      "\r[*********************100%%**********************]  1 of 1 completed\n"
     ]
    },
    {
     "name": "stdout",
     "output_type": "stream",
     "text": [
      "2 GOOG\n"
     ]
    },
    {
     "name": "stderr",
     "output_type": "stream",
     "text": [
      "\r[*********************100%%**********************]  1 of 1 completed\n"
     ]
    },
    {
     "name": "stdout",
     "output_type": "stream",
     "text": [
      "3 NVDA\n"
     ]
    },
    {
     "name": "stderr",
     "output_type": "stream",
     "text": [
      "\r[*********************100%%**********************]  1 of 1 completed\n"
     ]
    },
    {
     "name": "stdout",
     "output_type": "stream",
     "text": [
      "4 AMZN\n"
     ]
    },
    {
     "name": "stderr",
     "output_type": "stream",
     "text": [
      "\r[*********************100%%**********************]  1 of 1 completed\n"
     ]
    },
    {
     "name": "stdout",
     "output_type": "stream",
     "text": [
      "5 META\n"
     ]
    },
    {
     "name": "stderr",
     "output_type": "stream",
     "text": [
      "\r[*********************100%%**********************]  1 of 1 completed\n"
     ]
    },
    {
     "name": "stdout",
     "output_type": "stream",
     "text": [
      "6 BRK-B\n"
     ]
    },
    {
     "name": "stderr",
     "output_type": "stream",
     "text": [
      "\r[*********************100%%**********************]  1 of 1 completed\n"
     ]
    },
    {
     "name": "stdout",
     "output_type": "stream",
     "text": [
      "7 LLY\n"
     ]
    },
    {
     "name": "stderr",
     "output_type": "stream",
     "text": [
      "\r[*********************100%%**********************]  1 of 1 completed\n"
     ]
    },
    {
     "name": "stdout",
     "output_type": "stream",
     "text": [
      "8 AVGO\n"
     ]
    },
    {
     "name": "stderr",
     "output_type": "stream",
     "text": [
      "\r[*********************100%%**********************]  1 of 1 completed\n"
     ]
    },
    {
     "name": "stdout",
     "output_type": "stream",
     "text": [
      "9 V\n"
     ]
    },
    {
     "name": "stderr",
     "output_type": "stream",
     "text": [
      "\r[*********************100%%**********************]  1 of 1 completed\n"
     ]
    },
    {
     "name": "stdout",
     "output_type": "stream",
     "text": [
      "10 JPM\n"
     ]
    },
    {
     "name": "stderr",
     "output_type": "stream",
     "text": [
      "\r[*********************100%%**********************]  1 of 1 completed\n"
     ]
    },
    {
     "name": "stdout",
     "output_type": "stream",
     "text": [
      "11 NVO\n"
     ]
    },
    {
     "name": "stderr",
     "output_type": "stream",
     "text": [
      "\r[*********************100%%**********************]  1 of 1 completed\n"
     ]
    },
    {
     "name": "stdout",
     "output_type": "stream",
     "text": [
      "12 MC.PA\n"
     ]
    },
    {
     "name": "stderr",
     "output_type": "stream",
     "text": [
      "\r[*********************100%%**********************]  1 of 1 completed\n"
     ]
    },
    {
     "name": "stdout",
     "output_type": "stream",
     "text": [
      "13 ASML\n"
     ]
    },
    {
     "name": "stderr",
     "output_type": "stream",
     "text": [
      "\r[*********************100%%**********************]  1 of 1 completed\n"
     ]
    },
    {
     "name": "stdout",
     "output_type": "stream",
     "text": [
      "14 RMS.PA\n"
     ]
    },
    {
     "name": "stderr",
     "output_type": "stream",
     "text": [
      "\r[*********************100%%**********************]  1 of 1 completed\n"
     ]
    },
    {
     "name": "stdout",
     "output_type": "stream",
     "text": [
      "15 OR.PA\n"
     ]
    },
    {
     "name": "stderr",
     "output_type": "stream",
     "text": [
      "\r[*********************100%%**********************]  1 of 1 completed\n"
     ]
    },
    {
     "name": "stdout",
     "output_type": "stream",
     "text": [
      "16 SAP\n"
     ]
    },
    {
     "name": "stderr",
     "output_type": "stream",
     "text": [
      "\r[*********************100%%**********************]  1 of 1 completed\n"
     ]
    },
    {
     "name": "stdout",
     "output_type": "stream",
     "text": [
      "17 ACN\n"
     ]
    },
    {
     "name": "stderr",
     "output_type": "stream",
     "text": [
      "\r[*********************100%%**********************]  1 of 1 completed\n"
     ]
    },
    {
     "name": "stdout",
     "output_type": "stream",
     "text": [
      "18 TTE\n"
     ]
    },
    {
     "name": "stderr",
     "output_type": "stream",
     "text": [
      "\r[*********************100%%**********************]  1 of 1 completed\n"
     ]
    },
    {
     "name": "stdout",
     "output_type": "stream",
     "text": [
      "19 SIE.DE\n"
     ]
    },
    {
     "name": "stderr",
     "output_type": "stream",
     "text": [
      "\r[*********************100%%**********************]  1 of 1 completed\n"
     ]
    },
    {
     "name": "stdout",
     "output_type": "stream",
     "text": [
      "20 IDEXY\n"
     ]
    },
    {
     "name": "stderr",
     "output_type": "stream",
     "text": [
      "\r[*********************100%%**********************]  1 of 1 completed\n"
     ]
    },
    {
     "name": "stdout",
     "output_type": "stream",
     "text": [
      "21 CDI.PA\n"
     ]
    },
    {
     "name": "stderr",
     "output_type": "stream",
     "text": [
      "\r[*********************100%%**********************]  1 of 1 completed\n"
     ]
    },
    {
     "name": "stdout",
     "output_type": "stream",
     "text": [
      "22 RELIANCE.NS\n"
     ]
    },
    {
     "name": "stderr",
     "output_type": "stream",
     "text": [
      "\r[*********************100%%**********************]  1 of 1 completed\n"
     ]
    },
    {
     "name": "stdout",
     "output_type": "stream",
     "text": [
      "23 TCS.NS\n"
     ]
    },
    {
     "name": "stderr",
     "output_type": "stream",
     "text": [
      "\r[*********************100%%**********************]  1 of 1 completed\n"
     ]
    },
    {
     "name": "stdout",
     "output_type": "stream",
     "text": [
      "24 HDB\n"
     ]
    },
    {
     "name": "stderr",
     "output_type": "stream",
     "text": [
      "\r[*********************100%%**********************]  1 of 1 completed\n"
     ]
    },
    {
     "name": "stdout",
     "output_type": "stream",
     "text": [
      "25 BHARTIARTL.NS\n"
     ]
    },
    {
     "name": "stderr",
     "output_type": "stream",
     "text": [
      "\r[*********************100%%**********************]  1 of 1 completed\n"
     ]
    },
    {
     "name": "stdout",
     "output_type": "stream",
     "text": [
      "26 IBN\n"
     ]
    },
    {
     "name": "stderr",
     "output_type": "stream",
     "text": [
      "\r[*********************100%%**********************]  1 of 1 completed\n"
     ]
    },
    {
     "name": "stdout",
     "output_type": "stream",
     "text": [
      "27 SBIN.NS\n"
     ]
    },
    {
     "name": "stderr",
     "output_type": "stream",
     "text": [
      "[*********************100%%**********************]  1 of 1 completed\n",
      "[*********************100%%**********************]  1 of 1 completed"
     ]
    },
    {
     "name": "stdout",
     "output_type": "stream",
     "text": [
      "28 LICI.NS\n"
     ]
    },
    {
     "name": "stderr",
     "output_type": "stream",
     "text": [
      "\n"
     ]
    },
    {
     "name": "stdout",
     "output_type": "stream",
     "text": [
      "29 INFY\n"
     ]
    },
    {
     "name": "stderr",
     "output_type": "stream",
     "text": [
      "\r[*********************100%%**********************]  1 of 1 completed\n"
     ]
    },
    {
     "name": "stdout",
     "output_type": "stream",
     "text": [
      "30 ITC.NS\n"
     ]
    },
    {
     "name": "stderr",
     "output_type": "stream",
     "text": [
      "\r[*********************100%%**********************]  1 of 1 completed\n"
     ]
    },
    {
     "name": "stdout",
     "output_type": "stream",
     "text": [
      "31 HINDUNILVR.NS\n"
     ]
    },
    {
     "name": "stderr",
     "output_type": "stream",
     "text": [
      "\r[*********************100%%**********************]  1 of 1 completed\n"
     ]
    },
    {
     "name": "stdout",
     "output_type": "stream",
     "text": [
      "32 LT.NS\n"
     ]
    },
    {
     "name": "stderr",
     "output_type": "stream",
     "text": [
      "\r[*********************100%%**********************]  1 of 1 completed\n"
     ]
    }
   ],
   "source": [
    "import time\n",
    "\n",
    "stocks_df = pd.DataFrame({'A' : []})\n",
    "\n",
    "for i,ticker in enumerate(ALL_TICKERS):\n",
    "  print(i,ticker)\n",
    "\n",
    "  # Work with stock prices\n",
    "  historyPrices = yf.download(tickers = ticker,\n",
    "                     period = \"max\",\n",
    "                     interval = \"1d\")\n",
    "\n",
    "  # generate features for historical prices, and what we want to predict\n",
    "  historyPrices['Ticker'] = ticker\n",
    "  historyPrices['Year']= historyPrices.index.year\n",
    "  historyPrices['Month'] = historyPrices.index.month\n",
    "  historyPrices['Weekday'] = historyPrices.index.weekday\n",
    "  historyPrices['Date'] = historyPrices.index.date\n",
    "\n",
    "  # historical returns\n",
    "  for i in [1,3,7,30,90,365]:\n",
    "    historyPrices['growth_'+str(i)+'d'] = historyPrices['Adj Close'] / historyPrices['Adj Close'].shift(i)\n",
    "  historyPrices['growth_future_5d'] = historyPrices['Adj Close'].shift(-5) / historyPrices['Adj Close']\n",
    "\n",
    "  # Technical indicators\n",
    "  # SimpleMovingAverage 10 days and 20 days\n",
    "  historyPrices['SMA10']= historyPrices['Close'].rolling(10).mean()\n",
    "  historyPrices['SMA20']= historyPrices['Close'].rolling(20).mean()\n",
    "  historyPrices['growing_moving_average'] = np.where(historyPrices['SMA10'] > historyPrices['SMA20'], 1, 0)\n",
    "  historyPrices['high_minus_low_relative'] = (historyPrices.High - historyPrices.Low) / historyPrices['Adj Close']\n",
    "\n",
    "  # 30d rolling volatility : https://ycharts.com/glossary/terms/rolling_vol_30\n",
    "  historyPrices['volatility'] =   historyPrices['Adj Close'].rolling(30).std() * np.sqrt(252)\n",
    "\n",
    "  # what we want to predict\n",
    "  historyPrices['is_positive_growth_5d_future'] = np.where(historyPrices['growth_future_5d'] > 1, 1, 0)\n",
    "\n",
    "  # sleep 1 sec between downloads - not to overload the API server\n",
    "  time.sleep(1)\n",
    "\n",
    "\n",
    "  if stocks_df.empty:\n",
    "    stocks_df = historyPrices\n",
    "  else:\n",
    "    stocks_df = pd.concat([stocks_df, historyPrices], ignore_index=True)"
   ]
  },
  {
   "cell_type": "code",
   "execution_count": null,
   "metadata": {},
   "outputs": [],
   "source": [
    "def get_ticker_type(ticker:str, us_stocks_list, eu_stocks_list, india_stocks_list):\n",
    "  if ticker in us_stocks_list:\n",
    "    return 'US'\n",
    "  elif ticker in eu_stocks_list:\n",
    "    return 'EU'\n",
    "  elif ticker in india_stocks_list:\n",
    "    return 'INDIA'\n",
    "  else:\n",
    "    return 'ERROR'\n"
   ]
  },
  {
   "cell_type": "code",
   "execution_count": null,
   "metadata": {},
   "outputs": [],
   "source": [
    "stocks_df['ticker_type'] = stocks_df.Ticker.apply(lambda x:get_ticker_type(x, US_STOCKS, EU_STOCKS, INDIA_STOCKS))"
   ]
  },
  {
   "cell_type": "code",
   "execution_count": null,
   "metadata": {},
   "outputs": [
    {
     "data": {
      "text/plain": [
       "ticker_type\n",
       "US       80639\n",
       "EU       76986\n",
       "INDIA    63265\n",
       "Name: count, dtype: int64"
      ]
     },
     "metadata": {},
     "output_type": "display_data"
    }
   ],
   "source": [
    "# count of observations between US-EU-INDIA stocks\n",
    "stocks_df.ticker_type.value_counts()"
   ]
  },
  {
   "cell_type": "code",
   "execution_count": null,
   "metadata": {},
   "outputs": [
    {
     "data": {
      "text/plain": [
       "33"
      ]
     },
     "metadata": {},
     "output_type": "display_data"
    }
   ],
   "source": [
    "# unique tickers\n",
    "stocks_df.Ticker.nunique()"
   ]
  },
  {
   "cell_type": "code",
   "execution_count": null,
   "metadata": {},
   "outputs": [
    {
     "data": {
      "text/plain": [
       "Ticker\n",
       "LLY              13087\n",
       "JPM              11121\n",
       "AAPL             10933\n",
       "NVO              10838\n",
       "MSFT              9607\n",
       "CDI.PA            8321\n",
       "TTE               8185\n",
       "ASML              7330\n",
       "SAP               7201\n",
       "HINDUNILVR.NS     7115\n",
       "SBIN.NS           7113\n",
       "RELIANCE.NS       7112\n",
       "ITC.NS            7112\n",
       "SIE.DE            7039\n",
       "BRK-B             7038\n",
       "AMZN              6780\n",
       "NVDA              6356\n",
       "INFY              6323\n",
       "MC.PA             6251\n",
       "RMS.PA            6251\n",
       "OR.PA             6251\n",
       "IBN               6058\n",
       "ACN               5728\n",
       "HDB               5727\n",
       "LT.NS             5420\n",
       "BHARTIARTL.NS     5417\n",
       "TCS.NS            5388\n",
       "GOOG              4955\n",
       "V                 4054\n",
       "AVGO              3705\n",
       "IDEXY             3591\n",
       "META              3003\n",
       "LICI.NS            480\n",
       "Name: count, dtype: int64"
      ]
     },
     "metadata": {},
     "output_type": "display_data"
    }
   ],
   "source": [
    "# count of observations by stock\n",
    "stocks_df.Ticker.value_counts()"
   ]
  },
  {
   "cell_type": "code",
   "execution_count": null,
   "metadata": {},
   "outputs": [
    {
     "data": {
      "application/vnd.google.colaboratory.intrinsic+json": {
       "summary": "{\n  \"name\": \"stocks_df\",\n  \"rows\": 33,\n  \"fields\": [\n    {\n      \"column\": \"min\",\n      \"properties\": {\n        \"dtype\": \"date\",\n        \"min\": \"1972-06-01\",\n        \"max\": \"2022-05-17\",\n        \"num_unique_values\": 27,\n        \"samples\": [\n          \"2004-08-19\",\n          \"1999-03-11\",\n          \"2001-07-20\"\n        ],\n        \"semantic_type\": \"\",\n        \"description\": \"\"\n      }\n    },\n    {\n      \"column\": \"max\",\n      \"properties\": {\n        \"dtype\": \"date\",\n        \"min\": \"2024-04-24\",\n        \"max\": \"2024-04-25\",\n        \"num_unique_values\": 2,\n        \"samples\": [\n          \"2024-04-24\",\n          \"2024-04-25\"\n        ],\n        \"semantic_type\": \"\",\n        \"description\": \"\"\n      }\n    }\n  ]\n}",
       "type": "dataframe"
      },
      "text/html": [
       "\n",
       "  <div id=\"df-a567f221-70b9-4459-aa53-76cc7a99cef8\" class=\"colab-df-container\">\n",
       "    <div>\n",
       "<style scoped>\n",
       "    .dataframe tbody tr th:only-of-type {\n",
       "        vertical-align: middle;\n",
       "    }\n",
       "\n",
       "    .dataframe tbody tr th {\n",
       "        vertical-align: top;\n",
       "    }\n",
       "\n",
       "    .dataframe thead th {\n",
       "        text-align: right;\n",
       "    }\n",
       "</style>\n",
       "<table border=\"1\" class=\"dataframe\">\n",
       "  <thead>\n",
       "    <tr style=\"text-align: right;\">\n",
       "      <th></th>\n",
       "      <th></th>\n",
       "      <th>min</th>\n",
       "      <th>max</th>\n",
       "    </tr>\n",
       "    <tr>\n",
       "      <th>Ticker</th>\n",
       "      <th>ticker_type</th>\n",
       "      <th></th>\n",
       "      <th></th>\n",
       "    </tr>\n",
       "  </thead>\n",
       "  <tbody>\n",
       "    <tr>\n",
       "      <th>AAPL</th>\n",
       "      <th>US</th>\n",
       "      <td>1980-12-12</td>\n",
       "      <td>2024-04-25</td>\n",
       "    </tr>\n",
       "    <tr>\n",
       "      <th>ACN</th>\n",
       "      <th>EU</th>\n",
       "      <td>2001-07-19</td>\n",
       "      <td>2024-04-25</td>\n",
       "    </tr>\n",
       "    <tr>\n",
       "      <th>AMZN</th>\n",
       "      <th>US</th>\n",
       "      <td>1997-05-15</td>\n",
       "      <td>2024-04-24</td>\n",
       "    </tr>\n",
       "    <tr>\n",
       "      <th>ASML</th>\n",
       "      <th>EU</th>\n",
       "      <td>1995-03-15</td>\n",
       "      <td>2024-04-25</td>\n",
       "    </tr>\n",
       "    <tr>\n",
       "      <th>AVGO</th>\n",
       "      <th>US</th>\n",
       "      <td>2009-08-06</td>\n",
       "      <td>2024-04-25</td>\n",
       "    </tr>\n",
       "    <tr>\n",
       "      <th>BHARTIARTL.NS</th>\n",
       "      <th>INDIA</th>\n",
       "      <td>2002-07-01</td>\n",
       "      <td>2024-04-25</td>\n",
       "    </tr>\n",
       "    <tr>\n",
       "      <th>BRK-B</th>\n",
       "      <th>US</th>\n",
       "      <td>1996-05-09</td>\n",
       "      <td>2024-04-25</td>\n",
       "    </tr>\n",
       "    <tr>\n",
       "      <th>CDI.PA</th>\n",
       "      <th>EU</th>\n",
       "      <td>1992-01-27</td>\n",
       "      <td>2024-04-25</td>\n",
       "    </tr>\n",
       "    <tr>\n",
       "      <th>GOOG</th>\n",
       "      <th>US</th>\n",
       "      <td>2004-08-19</td>\n",
       "      <td>2024-04-25</td>\n",
       "    </tr>\n",
       "    <tr>\n",
       "      <th>HDB</th>\n",
       "      <th>INDIA</th>\n",
       "      <td>2001-07-20</td>\n",
       "      <td>2024-04-25</td>\n",
       "    </tr>\n",
       "    <tr>\n",
       "      <th>HINDUNILVR.NS</th>\n",
       "      <th>INDIA</th>\n",
       "      <td>1996-01-01</td>\n",
       "      <td>2024-04-25</td>\n",
       "    </tr>\n",
       "    <tr>\n",
       "      <th>IBN</th>\n",
       "      <th>INDIA</th>\n",
       "      <td>2000-03-28</td>\n",
       "      <td>2024-04-25</td>\n",
       "    </tr>\n",
       "    <tr>\n",
       "      <th>IDEXY</th>\n",
       "      <th>EU</th>\n",
       "      <td>2010-01-20</td>\n",
       "      <td>2024-04-25</td>\n",
       "    </tr>\n",
       "    <tr>\n",
       "      <th>INFY</th>\n",
       "      <th>INDIA</th>\n",
       "      <td>1999-03-11</td>\n",
       "      <td>2024-04-25</td>\n",
       "    </tr>\n",
       "    <tr>\n",
       "      <th>ITC.NS</th>\n",
       "      <th>INDIA</th>\n",
       "      <td>1996-01-01</td>\n",
       "      <td>2024-04-25</td>\n",
       "    </tr>\n",
       "    <tr>\n",
       "      <th>JPM</th>\n",
       "      <th>US</th>\n",
       "      <td>1980-03-17</td>\n",
       "      <td>2024-04-25</td>\n",
       "    </tr>\n",
       "    <tr>\n",
       "      <th>LICI.NS</th>\n",
       "      <th>INDIA</th>\n",
       "      <td>2022-05-17</td>\n",
       "      <td>2024-04-25</td>\n",
       "    </tr>\n",
       "    <tr>\n",
       "      <th>LLY</th>\n",
       "      <th>US</th>\n",
       "      <td>1972-06-01</td>\n",
       "      <td>2024-04-25</td>\n",
       "    </tr>\n",
       "    <tr>\n",
       "      <th>LT.NS</th>\n",
       "      <th>INDIA</th>\n",
       "      <td>2002-07-01</td>\n",
       "      <td>2024-04-25</td>\n",
       "    </tr>\n",
       "    <tr>\n",
       "      <th>MC.PA</th>\n",
       "      <th>EU</th>\n",
       "      <td>2000-01-03</td>\n",
       "      <td>2024-04-25</td>\n",
       "    </tr>\n",
       "    <tr>\n",
       "      <th>META</th>\n",
       "      <th>US</th>\n",
       "      <td>2012-05-18</td>\n",
       "      <td>2024-04-25</td>\n",
       "    </tr>\n",
       "    <tr>\n",
       "      <th>MSFT</th>\n",
       "      <th>US</th>\n",
       "      <td>1986-03-13</td>\n",
       "      <td>2024-04-25</td>\n",
       "    </tr>\n",
       "    <tr>\n",
       "      <th>NVDA</th>\n",
       "      <th>US</th>\n",
       "      <td>1999-01-22</td>\n",
       "      <td>2024-04-25</td>\n",
       "    </tr>\n",
       "    <tr>\n",
       "      <th>NVO</th>\n",
       "      <th>EU</th>\n",
       "      <td>1981-04-30</td>\n",
       "      <td>2024-04-25</td>\n",
       "    </tr>\n",
       "    <tr>\n",
       "      <th>OR.PA</th>\n",
       "      <th>EU</th>\n",
       "      <td>2000-01-03</td>\n",
       "      <td>2024-04-25</td>\n",
       "    </tr>\n",
       "    <tr>\n",
       "      <th>RELIANCE.NS</th>\n",
       "      <th>INDIA</th>\n",
       "      <td>1996-01-01</td>\n",
       "      <td>2024-04-25</td>\n",
       "    </tr>\n",
       "    <tr>\n",
       "      <th>RMS.PA</th>\n",
       "      <th>EU</th>\n",
       "      <td>2000-01-03</td>\n",
       "      <td>2024-04-25</td>\n",
       "    </tr>\n",
       "    <tr>\n",
       "      <th>SAP</th>\n",
       "      <th>EU</th>\n",
       "      <td>1995-09-18</td>\n",
       "      <td>2024-04-25</td>\n",
       "    </tr>\n",
       "    <tr>\n",
       "      <th>SBIN.NS</th>\n",
       "      <th>INDIA</th>\n",
       "      <td>1996-01-01</td>\n",
       "      <td>2024-04-25</td>\n",
       "    </tr>\n",
       "    <tr>\n",
       "      <th>SIE.DE</th>\n",
       "      <th>EU</th>\n",
       "      <td>1996-11-08</td>\n",
       "      <td>2024-04-25</td>\n",
       "    </tr>\n",
       "    <tr>\n",
       "      <th>TCS.NS</th>\n",
       "      <th>INDIA</th>\n",
       "      <td>2002-08-12</td>\n",
       "      <td>2024-04-25</td>\n",
       "    </tr>\n",
       "    <tr>\n",
       "      <th>TTE</th>\n",
       "      <th>EU</th>\n",
       "      <td>1991-10-25</td>\n",
       "      <td>2024-04-25</td>\n",
       "    </tr>\n",
       "    <tr>\n",
       "      <th>V</th>\n",
       "      <th>US</th>\n",
       "      <td>2008-03-19</td>\n",
       "      <td>2024-04-25</td>\n",
       "    </tr>\n",
       "  </tbody>\n",
       "</table>\n",
       "</div>\n",
       "    <div class=\"colab-df-buttons\">\n",
       "\n",
       "  <div class=\"colab-df-container\">\n",
       "    <button class=\"colab-df-convert\" onclick=\"convertToInteractive('df-a567f221-70b9-4459-aa53-76cc7a99cef8')\"\n",
       "            title=\"Convert this dataframe to an interactive table.\"\n",
       "            style=\"display:none;\">\n",
       "\n",
       "  <svg xmlns=\"http://www.w3.org/2000/svg\" height=\"24px\" viewBox=\"0 -960 960 960\">\n",
       "    <path d=\"M120-120v-720h720v720H120Zm60-500h600v-160H180v160Zm220 220h160v-160H400v160Zm0 220h160v-160H400v160ZM180-400h160v-160H180v160Zm440 0h160v-160H620v160ZM180-180h160v-160H180v160Zm440 0h160v-160H620v160Z\"/>\n",
       "  </svg>\n",
       "    </button>\n",
       "\n",
       "  <style>\n",
       "    .colab-df-container {\n",
       "      display:flex;\n",
       "      gap: 12px;\n",
       "    }\n",
       "\n",
       "    .colab-df-convert {\n",
       "      background-color: #E8F0FE;\n",
       "      border: none;\n",
       "      border-radius: 50%;\n",
       "      cursor: pointer;\n",
       "      display: none;\n",
       "      fill: #1967D2;\n",
       "      height: 32px;\n",
       "      padding: 0 0 0 0;\n",
       "      width: 32px;\n",
       "    }\n",
       "\n",
       "    .colab-df-convert:hover {\n",
       "      background-color: #E2EBFA;\n",
       "      box-shadow: 0px 1px 2px rgba(60, 64, 67, 0.3), 0px 1px 3px 1px rgba(60, 64, 67, 0.15);\n",
       "      fill: #174EA6;\n",
       "    }\n",
       "\n",
       "    .colab-df-buttons div {\n",
       "      margin-bottom: 4px;\n",
       "    }\n",
       "\n",
       "    [theme=dark] .colab-df-convert {\n",
       "      background-color: #3B4455;\n",
       "      fill: #D2E3FC;\n",
       "    }\n",
       "\n",
       "    [theme=dark] .colab-df-convert:hover {\n",
       "      background-color: #434B5C;\n",
       "      box-shadow: 0px 1px 3px 1px rgba(0, 0, 0, 0.15);\n",
       "      filter: drop-shadow(0px 1px 2px rgba(0, 0, 0, 0.3));\n",
       "      fill: #FFFFFF;\n",
       "    }\n",
       "  </style>\n",
       "\n",
       "    <script>\n",
       "      const buttonEl =\n",
       "        document.querySelector('#df-a567f221-70b9-4459-aa53-76cc7a99cef8 button.colab-df-convert');\n",
       "      buttonEl.style.display =\n",
       "        google.colab.kernel.accessAllowed ? 'block' : 'none';\n",
       "\n",
       "      async function convertToInteractive(key) {\n",
       "        const element = document.querySelector('#df-a567f221-70b9-4459-aa53-76cc7a99cef8');\n",
       "        const dataTable =\n",
       "          await google.colab.kernel.invokeFunction('convertToInteractive',\n",
       "                                                    [key], {});\n",
       "        if (!dataTable) return;\n",
       "\n",
       "        const docLinkHtml = 'Like what you see? Visit the ' +\n",
       "          '<a target=\"_blank\" href=https://colab.research.google.com/notebooks/data_table.ipynb>data table notebook</a>'\n",
       "          + ' to learn more about interactive tables.';\n",
       "        element.innerHTML = '';\n",
       "        dataTable['output_type'] = 'display_data';\n",
       "        await google.colab.output.renderOutput(dataTable, element);\n",
       "        const docLink = document.createElement('div');\n",
       "        docLink.innerHTML = docLinkHtml;\n",
       "        element.appendChild(docLink);\n",
       "      }\n",
       "    </script>\n",
       "  </div>\n",
       "\n",
       "\n",
       "<div id=\"df-ae43645b-8dd1-4c7a-9cf6-5b8cbc48d8eb\">\n",
       "  <button class=\"colab-df-quickchart\" onclick=\"quickchart('df-ae43645b-8dd1-4c7a-9cf6-5b8cbc48d8eb')\"\n",
       "            title=\"Suggest charts\"\n",
       "            style=\"display:none;\">\n",
       "\n",
       "<svg xmlns=\"http://www.w3.org/2000/svg\" height=\"24px\"viewBox=\"0 0 24 24\"\n",
       "     width=\"24px\">\n",
       "    <g>\n",
       "        <path d=\"M19 3H5c-1.1 0-2 .9-2 2v14c0 1.1.9 2 2 2h14c1.1 0 2-.9 2-2V5c0-1.1-.9-2-2-2zM9 17H7v-7h2v7zm4 0h-2V7h2v10zm4 0h-2v-4h2v4z\"/>\n",
       "    </g>\n",
       "</svg>\n",
       "  </button>\n",
       "\n",
       "<style>\n",
       "  .colab-df-quickchart {\n",
       "      --bg-color: #E8F0FE;\n",
       "      --fill-color: #1967D2;\n",
       "      --hover-bg-color: #E2EBFA;\n",
       "      --hover-fill-color: #174EA6;\n",
       "      --disabled-fill-color: #AAA;\n",
       "      --disabled-bg-color: #DDD;\n",
       "  }\n",
       "\n",
       "  [theme=dark] .colab-df-quickchart {\n",
       "      --bg-color: #3B4455;\n",
       "      --fill-color: #D2E3FC;\n",
       "      --hover-bg-color: #434B5C;\n",
       "      --hover-fill-color: #FFFFFF;\n",
       "      --disabled-bg-color: #3B4455;\n",
       "      --disabled-fill-color: #666;\n",
       "  }\n",
       "\n",
       "  .colab-df-quickchart {\n",
       "    background-color: var(--bg-color);\n",
       "    border: none;\n",
       "    border-radius: 50%;\n",
       "    cursor: pointer;\n",
       "    display: none;\n",
       "    fill: var(--fill-color);\n",
       "    height: 32px;\n",
       "    padding: 0;\n",
       "    width: 32px;\n",
       "  }\n",
       "\n",
       "  .colab-df-quickchart:hover {\n",
       "    background-color: var(--hover-bg-color);\n",
       "    box-shadow: 0 1px 2px rgba(60, 64, 67, 0.3), 0 1px 3px 1px rgba(60, 64, 67, 0.15);\n",
       "    fill: var(--button-hover-fill-color);\n",
       "  }\n",
       "\n",
       "  .colab-df-quickchart-complete:disabled,\n",
       "  .colab-df-quickchart-complete:disabled:hover {\n",
       "    background-color: var(--disabled-bg-color);\n",
       "    fill: var(--disabled-fill-color);\n",
       "    box-shadow: none;\n",
       "  }\n",
       "\n",
       "  .colab-df-spinner {\n",
       "    border: 2px solid var(--fill-color);\n",
       "    border-color: transparent;\n",
       "    border-bottom-color: var(--fill-color);\n",
       "    animation:\n",
       "      spin 1s steps(1) infinite;\n",
       "  }\n",
       "\n",
       "  @keyframes spin {\n",
       "    0% {\n",
       "      border-color: transparent;\n",
       "      border-bottom-color: var(--fill-color);\n",
       "      border-left-color: var(--fill-color);\n",
       "    }\n",
       "    20% {\n",
       "      border-color: transparent;\n",
       "      border-left-color: var(--fill-color);\n",
       "      border-top-color: var(--fill-color);\n",
       "    }\n",
       "    30% {\n",
       "      border-color: transparent;\n",
       "      border-left-color: var(--fill-color);\n",
       "      border-top-color: var(--fill-color);\n",
       "      border-right-color: var(--fill-color);\n",
       "    }\n",
       "    40% {\n",
       "      border-color: transparent;\n",
       "      border-right-color: var(--fill-color);\n",
       "      border-top-color: var(--fill-color);\n",
       "    }\n",
       "    60% {\n",
       "      border-color: transparent;\n",
       "      border-right-color: var(--fill-color);\n",
       "    }\n",
       "    80% {\n",
       "      border-color: transparent;\n",
       "      border-right-color: var(--fill-color);\n",
       "      border-bottom-color: var(--fill-color);\n",
       "    }\n",
       "    90% {\n",
       "      border-color: transparent;\n",
       "      border-bottom-color: var(--fill-color);\n",
       "    }\n",
       "  }\n",
       "</style>\n",
       "\n",
       "  <script>\n",
       "    async function quickchart(key) {\n",
       "      const quickchartButtonEl =\n",
       "        document.querySelector('#' + key + ' button');\n",
       "      quickchartButtonEl.disabled = true;  // To prevent multiple clicks.\n",
       "      quickchartButtonEl.classList.add('colab-df-spinner');\n",
       "      try {\n",
       "        const charts = await google.colab.kernel.invokeFunction(\n",
       "            'suggestCharts', [key], {});\n",
       "      } catch (error) {\n",
       "        console.error('Error during call to suggestCharts:', error);\n",
       "      }\n",
       "      quickchartButtonEl.classList.remove('colab-df-spinner');\n",
       "      quickchartButtonEl.classList.add('colab-df-quickchart-complete');\n",
       "    }\n",
       "    (() => {\n",
       "      let quickchartButtonEl =\n",
       "        document.querySelector('#df-ae43645b-8dd1-4c7a-9cf6-5b8cbc48d8eb button');\n",
       "      quickchartButtonEl.style.display =\n",
       "        google.colab.kernel.accessAllowed ? 'block' : 'none';\n",
       "    })();\n",
       "  </script>\n",
       "</div>\n",
       "    </div>\n",
       "  </div>\n"
      ],
      "text/plain": [
       "                                  min         max\n",
       "Ticker        ticker_type                        \n",
       "AAPL          US           1980-12-12  2024-04-25\n",
       "ACN           EU           2001-07-19  2024-04-25\n",
       "AMZN          US           1997-05-15  2024-04-24\n",
       "ASML          EU           1995-03-15  2024-04-25\n",
       "AVGO          US           2009-08-06  2024-04-25\n",
       "BHARTIARTL.NS INDIA        2002-07-01  2024-04-25\n",
       "BRK-B         US           1996-05-09  2024-04-25\n",
       "CDI.PA        EU           1992-01-27  2024-04-25\n",
       "GOOG          US           2004-08-19  2024-04-25\n",
       "HDB           INDIA        2001-07-20  2024-04-25\n",
       "HINDUNILVR.NS INDIA        1996-01-01  2024-04-25\n",
       "IBN           INDIA        2000-03-28  2024-04-25\n",
       "IDEXY         EU           2010-01-20  2024-04-25\n",
       "INFY          INDIA        1999-03-11  2024-04-25\n",
       "ITC.NS        INDIA        1996-01-01  2024-04-25\n",
       "JPM           US           1980-03-17  2024-04-25\n",
       "LICI.NS       INDIA        2022-05-17  2024-04-25\n",
       "LLY           US           1972-06-01  2024-04-25\n",
       "LT.NS         INDIA        2002-07-01  2024-04-25\n",
       "MC.PA         EU           2000-01-03  2024-04-25\n",
       "META          US           2012-05-18  2024-04-25\n",
       "MSFT          US           1986-03-13  2024-04-25\n",
       "NVDA          US           1999-01-22  2024-04-25\n",
       "NVO           EU           1981-04-30  2024-04-25\n",
       "OR.PA         EU           2000-01-03  2024-04-25\n",
       "RELIANCE.NS   INDIA        1996-01-01  2024-04-25\n",
       "RMS.PA        EU           2000-01-03  2024-04-25\n",
       "SAP           EU           1995-09-18  2024-04-25\n",
       "SBIN.NS       INDIA        1996-01-01  2024-04-25\n",
       "SIE.DE        EU           1996-11-08  2024-04-25\n",
       "TCS.NS        INDIA        2002-08-12  2024-04-25\n",
       "TTE           EU           1991-10-25  2024-04-25\n",
       "V             US           2008-03-19  2024-04-25"
      ]
     },
     "metadata": {},
     "output_type": "display_data"
    }
   ],
   "source": [
    "stocks_df.groupby(['Ticker','ticker_type']).Date.agg(['min','max'])"
   ]
  },
  {
   "cell_type": "code",
   "execution_count": null,
   "metadata": {},
   "outputs": [
    {
     "data": {
      "text/plain": [
       "Year  ticker_type\n",
       "2020  EU             1.245388\n",
       "      INDIA          1.101896\n",
       "      US             1.484070\n",
       "2021  EU             1.582170\n",
       "      INDIA          1.546424\n",
       "      US             1.797571\n",
       "2022  EU             1.191169\n",
       "      INDIA          1.379889\n",
       "      US             1.182379\n",
       "2023  EU             1.246533\n",
       "      INDIA          1.201110\n",
       "      US             1.203253\n",
       "2024  EU             1.650721\n",
       "      INDIA          1.305762\n",
       "      US             2.153187\n",
       "Name: growth_365d, dtype: float64"
      ]
     },
     "metadata": {},
     "output_type": "display_data"
    }
   ],
   "source": [
    "#  average growth 365days\n",
    "stocks_df[stocks_df.Year>=2020].groupby(by=['Year','ticker_type']).growth_365d.mean()"
   ]
  },
  {
   "cell_type": "code",
   "execution_count": null,
   "metadata": {},
   "outputs": [],
   "source": [
    "stocks_df['Date'] = pd.to_datetime(stocks_df['Date'])"
   ]
  },
  {
   "cell_type": "code",
   "execution_count": null,
   "metadata": {},
   "outputs": [
    {
     "name": "stdout",
     "output_type": "stream",
     "text": [
      "<class 'pandas.core.frame.DataFrame'>\n",
      "Index: 182423 entries, 3490 to 220889\n",
      "Data columns (total 25 columns):\n",
      " #   Column                        Non-Null Count   Dtype         \n",
      "---  ------                        --------------   -----         \n",
      " 0   Open                          182423 non-null  float64       \n",
      " 1   High                          182423 non-null  float64       \n",
      " 2   Low                           182423 non-null  float64       \n",
      " 3   Close                         182423 non-null  float64       \n",
      " 4   Adj Close                     182423 non-null  float64       \n",
      " 5   Volume                        182423 non-null  int64         \n",
      " 6   Ticker                        182423 non-null  object        \n",
      " 7   Year                          182423 non-null  int32         \n",
      " 8   Month                         182423 non-null  int32         \n",
      " 9   Weekday                       182423 non-null  int32         \n",
      " 10  Date                          182423 non-null  datetime64[ns]\n",
      " 11  growth_1d                     182408 non-null  float64       \n",
      " 12  growth_3d                     182378 non-null  float64       \n",
      " 13  growth_7d                     182318 non-null  float64       \n",
      " 14  growth_30d                    181973 non-null  float64       \n",
      " 15  growth_90d                    181073 non-null  float64       \n",
      " 16  growth_365d                   176663 non-null  float64       \n",
      " 17  growth_future_5d              182258 non-null  float64       \n",
      " 18  SMA10                         182288 non-null  float64       \n",
      " 19  SMA20                         182138 non-null  float64       \n",
      " 20  growing_moving_average        182423 non-null  int64         \n",
      " 21  high_minus_low_relative       182423 non-null  float64       \n",
      " 22  volatility                    181988 non-null  float64       \n",
      " 23  is_positive_growth_5d_future  182423 non-null  int64         \n",
      " 24  ticker_type                   182423 non-null  object        \n",
      "dtypes: datetime64[ns](1), float64(16), int32(3), int64(3), object(2)\n",
      "memory usage: 34.1+ MB\n"
     ]
    }
   ],
   "source": [
    "# filtering only on stats after 2000\n",
    "stocks_df[stocks_df.Date>='2000-01-01'].info()"
   ]
  },
  {
   "cell_type": "code",
   "execution_count": null,
   "metadata": {},
   "outputs": [
    {
     "data": {
      "application/vnd.google.colaboratory.intrinsic+json": {
       "type": "dataframe"
      },
      "text/html": [
       "\n",
       "  <div id=\"df-ccfe7d88-a6c7-4c2e-98d2-523d6fa8d0bf\" class=\"colab-df-container\">\n",
       "    <div>\n",
       "<style scoped>\n",
       "    .dataframe tbody tr th:only-of-type {\n",
       "        vertical-align: middle;\n",
       "    }\n",
       "\n",
       "    .dataframe tbody tr th {\n",
       "        vertical-align: top;\n",
       "    }\n",
       "\n",
       "    .dataframe thead th {\n",
       "        text-align: right;\n",
       "    }\n",
       "</style>\n",
       "<table border=\"1\" class=\"dataframe\">\n",
       "  <thead>\n",
       "    <tr style=\"text-align: right;\">\n",
       "      <th></th>\n",
       "      <th>Open</th>\n",
       "      <th>High</th>\n",
       "      <th>Low</th>\n",
       "      <th>Close</th>\n",
       "      <th>Adj Close</th>\n",
       "      <th>Volume</th>\n",
       "      <th>Ticker</th>\n",
       "      <th>Year</th>\n",
       "      <th>Month</th>\n",
       "      <th>Weekday</th>\n",
       "      <th>...</th>\n",
       "      <th>growth_90d</th>\n",
       "      <th>growth_365d</th>\n",
       "      <th>growth_future_5d</th>\n",
       "      <th>SMA10</th>\n",
       "      <th>SMA20</th>\n",
       "      <th>growing_moving_average</th>\n",
       "      <th>high_minus_low_relative</th>\n",
       "      <th>volatility</th>\n",
       "      <th>is_positive_growth_5d_future</th>\n",
       "      <th>ticker_type</th>\n",
       "    </tr>\n",
       "  </thead>\n",
       "  <tbody>\n",
       "    <tr>\n",
       "      <th>194903</th>\n",
       "      <td>925.000000</td>\n",
       "      <td>984.450012</td>\n",
       "      <td>924.000000</td>\n",
       "      <td>970.599976</td>\n",
       "      <td>970.599976</td>\n",
       "      <td>4863536</td>\n",
       "      <td>LICI.NS</td>\n",
       "      <td>2024</td>\n",
       "      <td>4</td>\n",
       "      <td>0</td>\n",
       "      <td>...</td>\n",
       "      <td>1.599113</td>\n",
       "      <td>1.556710</td>\n",
       "      <td>1.026891</td>\n",
       "      <td>906.085004</td>\n",
       "      <td>953.950003</td>\n",
       "      <td>0</td>\n",
       "      <td>0.062281</td>\n",
       "      <td>1034.237352</td>\n",
       "      <td>1</td>\n",
       "      <td>INDIA</td>\n",
       "    </tr>\n",
       "    <tr>\n",
       "      <th>201224</th>\n",
       "      <td>17.889999</td>\n",
       "      <td>17.920000</td>\n",
       "      <td>17.500000</td>\n",
       "      <td>17.580000</td>\n",
       "      <td>17.580000</td>\n",
       "      <td>14601600</td>\n",
       "      <td>INFY</td>\n",
       "      <td>2024</td>\n",
       "      <td>4</td>\n",
       "      <td>0</td>\n",
       "      <td>...</td>\n",
       "      <td>1.003998</td>\n",
       "      <td>1.024508</td>\n",
       "      <td>1.015927</td>\n",
       "      <td>18.156000</td>\n",
       "      <td>18.777500</td>\n",
       "      <td>0</td>\n",
       "      <td>0.023891</td>\n",
       "      <td>13.940634</td>\n",
       "      <td>1</td>\n",
       "      <td>INDIA</td>\n",
       "    </tr>\n",
       "    <tr>\n",
       "      <th>208338</th>\n",
       "      <td>429.100006</td>\n",
       "      <td>431.350006</td>\n",
       "      <td>425.750000</td>\n",
       "      <td>426.700012</td>\n",
       "      <td>426.700012</td>\n",
       "      <td>9382308</td>\n",
       "      <td>ITC.NS</td>\n",
       "      <td>2024</td>\n",
       "      <td>4</td>\n",
       "      <td>0</td>\n",
       "      <td>...</td>\n",
       "      <td>0.987044</td>\n",
       "      <td>1.314436</td>\n",
       "      <td>1.005625</td>\n",
       "      <td>422.235004</td>\n",
       "      <td>416.537502</td>\n",
       "      <td>1</td>\n",
       "      <td>0.013124</td>\n",
       "      <td>130.246651</td>\n",
       "      <td>1</td>\n",
       "      <td>INDIA</td>\n",
       "    </tr>\n",
       "    <tr>\n",
       "      <th>215453</th>\n",
       "      <td>2270.000000</td>\n",
       "      <td>2295.000000</td>\n",
       "      <td>2262.000000</td>\n",
       "      <td>2285.899902</td>\n",
       "      <td>2285.899902</td>\n",
       "      <td>1427873</td>\n",
       "      <td>HINDUNILVR.NS</td>\n",
       "      <td>2024</td>\n",
       "      <td>4</td>\n",
       "      <td>0</td>\n",
       "      <td>...</td>\n",
       "      <td>0.917590</td>\n",
       "      <td>0.894051</td>\n",
       "      <td>0.992585</td>\n",
       "      <td>2266.539990</td>\n",
       "      <td>2327.240015</td>\n",
       "      <td>0</td>\n",
       "      <td>0.014436</td>\n",
       "      <td>1049.970071</td>\n",
       "      <td>0</td>\n",
       "      <td>INDIA</td>\n",
       "    </tr>\n",
       "    <tr>\n",
       "      <th>220873</th>\n",
       "      <td>3780.850098</td>\n",
       "      <td>3851.850098</td>\n",
       "      <td>3780.850098</td>\n",
       "      <td>3838.000000</td>\n",
       "      <td>3838.000000</td>\n",
       "      <td>1905190</td>\n",
       "      <td>LT.NS</td>\n",
       "      <td>2024</td>\n",
       "      <td>4</td>\n",
       "      <td>0</td>\n",
       "      <td>...</td>\n",
       "      <td>1.257886</td>\n",
       "      <td>2.010850</td>\n",
       "      <td>0.992144</td>\n",
       "      <td>3626.594971</td>\n",
       "      <td>3618.109985</td>\n",
       "      <td>1</td>\n",
       "      <td>0.018499</td>\n",
       "      <td>2188.619806</td>\n",
       "      <td>0</td>\n",
       "      <td>INDIA</td>\n",
       "    </tr>\n",
       "  </tbody>\n",
       "</table>\n",
       "<p>5 rows × 25 columns</p>\n",
       "</div>\n",
       "    <div class=\"colab-df-buttons\">\n",
       "\n",
       "  <div class=\"colab-df-container\">\n",
       "    <button class=\"colab-df-convert\" onclick=\"convertToInteractive('df-ccfe7d88-a6c7-4c2e-98d2-523d6fa8d0bf')\"\n",
       "            title=\"Convert this dataframe to an interactive table.\"\n",
       "            style=\"display:none;\">\n",
       "\n",
       "  <svg xmlns=\"http://www.w3.org/2000/svg\" height=\"24px\" viewBox=\"0 -960 960 960\">\n",
       "    <path d=\"M120-120v-720h720v720H120Zm60-500h600v-160H180v160Zm220 220h160v-160H400v160Zm0 220h160v-160H400v160ZM180-400h160v-160H180v160Zm440 0h160v-160H620v160ZM180-180h160v-160H180v160Zm440 0h160v-160H620v160Z\"/>\n",
       "  </svg>\n",
       "    </button>\n",
       "\n",
       "  <style>\n",
       "    .colab-df-container {\n",
       "      display:flex;\n",
       "      gap: 12px;\n",
       "    }\n",
       "\n",
       "    .colab-df-convert {\n",
       "      background-color: #E8F0FE;\n",
       "      border: none;\n",
       "      border-radius: 50%;\n",
       "      cursor: pointer;\n",
       "      display: none;\n",
       "      fill: #1967D2;\n",
       "      height: 32px;\n",
       "      padding: 0 0 0 0;\n",
       "      width: 32px;\n",
       "    }\n",
       "\n",
       "    .colab-df-convert:hover {\n",
       "      background-color: #E2EBFA;\n",
       "      box-shadow: 0px 1px 2px rgba(60, 64, 67, 0.3), 0px 1px 3px 1px rgba(60, 64, 67, 0.15);\n",
       "      fill: #174EA6;\n",
       "    }\n",
       "\n",
       "    .colab-df-buttons div {\n",
       "      margin-bottom: 4px;\n",
       "    }\n",
       "\n",
       "    [theme=dark] .colab-df-convert {\n",
       "      background-color: #3B4455;\n",
       "      fill: #D2E3FC;\n",
       "    }\n",
       "\n",
       "    [theme=dark] .colab-df-convert:hover {\n",
       "      background-color: #434B5C;\n",
       "      box-shadow: 0px 1px 3px 1px rgba(0, 0, 0, 0.15);\n",
       "      filter: drop-shadow(0px 1px 2px rgba(0, 0, 0, 0.3));\n",
       "      fill: #FFFFFF;\n",
       "    }\n",
       "  </style>\n",
       "\n",
       "    <script>\n",
       "      const buttonEl =\n",
       "        document.querySelector('#df-ccfe7d88-a6c7-4c2e-98d2-523d6fa8d0bf button.colab-df-convert');\n",
       "      buttonEl.style.display =\n",
       "        google.colab.kernel.accessAllowed ? 'block' : 'none';\n",
       "\n",
       "      async function convertToInteractive(key) {\n",
       "        const element = document.querySelector('#df-ccfe7d88-a6c7-4c2e-98d2-523d6fa8d0bf');\n",
       "        const dataTable =\n",
       "          await google.colab.kernel.invokeFunction('convertToInteractive',\n",
       "                                                    [key], {});\n",
       "        if (!dataTable) return;\n",
       "\n",
       "        const docLinkHtml = 'Like what you see? Visit the ' +\n",
       "          '<a target=\"_blank\" href=https://colab.research.google.com/notebooks/data_table.ipynb>data table notebook</a>'\n",
       "          + ' to learn more about interactive tables.';\n",
       "        element.innerHTML = '';\n",
       "        dataTable['output_type'] = 'display_data';\n",
       "        await google.colab.output.renderOutput(dataTable, element);\n",
       "        const docLink = document.createElement('div');\n",
       "        docLink.innerHTML = docLinkHtml;\n",
       "        element.appendChild(docLink);\n",
       "      }\n",
       "    </script>\n",
       "  </div>\n",
       "\n",
       "\n",
       "<div id=\"df-5f73d462-b852-46ef-b937-ac97878e751c\">\n",
       "  <button class=\"colab-df-quickchart\" onclick=\"quickchart('df-5f73d462-b852-46ef-b937-ac97878e751c')\"\n",
       "            title=\"Suggest charts\"\n",
       "            style=\"display:none;\">\n",
       "\n",
       "<svg xmlns=\"http://www.w3.org/2000/svg\" height=\"24px\"viewBox=\"0 0 24 24\"\n",
       "     width=\"24px\">\n",
       "    <g>\n",
       "        <path d=\"M19 3H5c-1.1 0-2 .9-2 2v14c0 1.1.9 2 2 2h14c1.1 0 2-.9 2-2V5c0-1.1-.9-2-2-2zM9 17H7v-7h2v7zm4 0h-2V7h2v10zm4 0h-2v-4h2v4z\"/>\n",
       "    </g>\n",
       "</svg>\n",
       "  </button>\n",
       "\n",
       "<style>\n",
       "  .colab-df-quickchart {\n",
       "      --bg-color: #E8F0FE;\n",
       "      --fill-color: #1967D2;\n",
       "      --hover-bg-color: #E2EBFA;\n",
       "      --hover-fill-color: #174EA6;\n",
       "      --disabled-fill-color: #AAA;\n",
       "      --disabled-bg-color: #DDD;\n",
       "  }\n",
       "\n",
       "  [theme=dark] .colab-df-quickchart {\n",
       "      --bg-color: #3B4455;\n",
       "      --fill-color: #D2E3FC;\n",
       "      --hover-bg-color: #434B5C;\n",
       "      --hover-fill-color: #FFFFFF;\n",
       "      --disabled-bg-color: #3B4455;\n",
       "      --disabled-fill-color: #666;\n",
       "  }\n",
       "\n",
       "  .colab-df-quickchart {\n",
       "    background-color: var(--bg-color);\n",
       "    border: none;\n",
       "    border-radius: 50%;\n",
       "    cursor: pointer;\n",
       "    display: none;\n",
       "    fill: var(--fill-color);\n",
       "    height: 32px;\n",
       "    padding: 0;\n",
       "    width: 32px;\n",
       "  }\n",
       "\n",
       "  .colab-df-quickchart:hover {\n",
       "    background-color: var(--hover-bg-color);\n",
       "    box-shadow: 0 1px 2px rgba(60, 64, 67, 0.3), 0 1px 3px 1px rgba(60, 64, 67, 0.15);\n",
       "    fill: var(--button-hover-fill-color);\n",
       "  }\n",
       "\n",
       "  .colab-df-quickchart-complete:disabled,\n",
       "  .colab-df-quickchart-complete:disabled:hover {\n",
       "    background-color: var(--disabled-bg-color);\n",
       "    fill: var(--disabled-fill-color);\n",
       "    box-shadow: none;\n",
       "  }\n",
       "\n",
       "  .colab-df-spinner {\n",
       "    border: 2px solid var(--fill-color);\n",
       "    border-color: transparent;\n",
       "    border-bottom-color: var(--fill-color);\n",
       "    animation:\n",
       "      spin 1s steps(1) infinite;\n",
       "  }\n",
       "\n",
       "  @keyframes spin {\n",
       "    0% {\n",
       "      border-color: transparent;\n",
       "      border-bottom-color: var(--fill-color);\n",
       "      border-left-color: var(--fill-color);\n",
       "    }\n",
       "    20% {\n",
       "      border-color: transparent;\n",
       "      border-left-color: var(--fill-color);\n",
       "      border-top-color: var(--fill-color);\n",
       "    }\n",
       "    30% {\n",
       "      border-color: transparent;\n",
       "      border-left-color: var(--fill-color);\n",
       "      border-top-color: var(--fill-color);\n",
       "      border-right-color: var(--fill-color);\n",
       "    }\n",
       "    40% {\n",
       "      border-color: transparent;\n",
       "      border-right-color: var(--fill-color);\n",
       "      border-top-color: var(--fill-color);\n",
       "    }\n",
       "    60% {\n",
       "      border-color: transparent;\n",
       "      border-right-color: var(--fill-color);\n",
       "    }\n",
       "    80% {\n",
       "      border-color: transparent;\n",
       "      border-right-color: var(--fill-color);\n",
       "      border-bottom-color: var(--fill-color);\n",
       "    }\n",
       "    90% {\n",
       "      border-color: transparent;\n",
       "      border-bottom-color: var(--fill-color);\n",
       "    }\n",
       "  }\n",
       "</style>\n",
       "\n",
       "  <script>\n",
       "    async function quickchart(key) {\n",
       "      const quickchartButtonEl =\n",
       "        document.querySelector('#' + key + ' button');\n",
       "      quickchartButtonEl.disabled = true;  // To prevent multiple clicks.\n",
       "      quickchartButtonEl.classList.add('colab-df-spinner');\n",
       "      try {\n",
       "        const charts = await google.colab.kernel.invokeFunction(\n",
       "            'suggestCharts', [key], {});\n",
       "      } catch (error) {\n",
       "        console.error('Error during call to suggestCharts:', error);\n",
       "      }\n",
       "      quickchartButtonEl.classList.remove('colab-df-spinner');\n",
       "      quickchartButtonEl.classList.add('colab-df-quickchart-complete');\n",
       "    }\n",
       "    (() => {\n",
       "      let quickchartButtonEl =\n",
       "        document.querySelector('#df-5f73d462-b852-46ef-b937-ac97878e751c button');\n",
       "      quickchartButtonEl.style.display =\n",
       "        google.colab.kernel.accessAllowed ? 'block' : 'none';\n",
       "    })();\n",
       "  </script>\n",
       "</div>\n",
       "    </div>\n",
       "  </div>\n"
      ],
      "text/plain": [
       "               Open         High          Low        Close    Adj Close  \\\n",
       "194903   925.000000   984.450012   924.000000   970.599976   970.599976   \n",
       "201224    17.889999    17.920000    17.500000    17.580000    17.580000   \n",
       "208338   429.100006   431.350006   425.750000   426.700012   426.700012   \n",
       "215453  2270.000000  2295.000000  2262.000000  2285.899902  2285.899902   \n",
       "220873  3780.850098  3851.850098  3780.850098  3838.000000  3838.000000   \n",
       "\n",
       "          Volume         Ticker  Year  Month  Weekday  ... growth_90d  \\\n",
       "194903   4863536        LICI.NS  2024      4        0  ...   1.599113   \n",
       "201224  14601600           INFY  2024      4        0  ...   1.003998   \n",
       "208338   9382308         ITC.NS  2024      4        0  ...   0.987044   \n",
       "215453   1427873  HINDUNILVR.NS  2024      4        0  ...   0.917590   \n",
       "220873   1905190          LT.NS  2024      4        0  ...   1.257886   \n",
       "\n",
       "        growth_365d  growth_future_5d        SMA10        SMA20  \\\n",
       "194903     1.556710          1.026891   906.085004   953.950003   \n",
       "201224     1.024508          1.015927    18.156000    18.777500   \n",
       "208338     1.314436          1.005625   422.235004   416.537502   \n",
       "215453     0.894051          0.992585  2266.539990  2327.240015   \n",
       "220873     2.010850          0.992144  3626.594971  3618.109985   \n",
       "\n",
       "        growing_moving_average  high_minus_low_relative   volatility  \\\n",
       "194903                       0                 0.062281  1034.237352   \n",
       "201224                       0                 0.023891    13.940634   \n",
       "208338                       1                 0.013124   130.246651   \n",
       "215453                       0                 0.014436  1049.970071   \n",
       "220873                       1                 0.018499  2188.619806   \n",
       "\n",
       "        is_positive_growth_5d_future  ticker_type  \n",
       "194903                             1        INDIA  \n",
       "201224                             1        INDIA  \n",
       "208338                             1        INDIA  \n",
       "215453                             0        INDIA  \n",
       "220873                             0        INDIA  \n",
       "\n",
       "[5 rows x 25 columns]"
      ]
     },
     "metadata": {},
     "output_type": "display_data"
    }
   ],
   "source": [
    "stocks_df[stocks_df.Date=='2024-04-01'].tail()"
   ]
  },
  {
   "cell_type": "code",
   "execution_count": null,
   "metadata": {},
   "outputs": [
    {
     "data": {
      "text/plain": [
       "['MSFT',\n",
       " 'AAPL',\n",
       " 'GOOG',\n",
       " 'NVDA',\n",
       " 'AMZN',\n",
       " 'META',\n",
       " 'BRK-B',\n",
       " 'LLY',\n",
       " 'AVGO',\n",
       " 'V',\n",
       " 'JPM',\n",
       " 'NVO',\n",
       " 'MC.PA',\n",
       " 'ASML',\n",
       " 'RMS.PA',\n",
       " 'OR.PA',\n",
       " 'SAP',\n",
       " 'ACN',\n",
       " 'TTE',\n",
       " 'SIE.DE',\n",
       " 'IDEXY',\n",
       " 'CDI.PA',\n",
       " 'RELIANCE.NS',\n",
       " 'TCS.NS',\n",
       " 'HDB',\n",
       " 'BHARTIARTL.NS',\n",
       " 'IBN',\n",
       " 'SBIN.NS',\n",
       " 'LICI.NS',\n",
       " 'INFY',\n",
       " 'ITC.NS',\n",
       " 'HINDUNILVR.NS',\n",
       " 'LT.NS']"
      ]
     },
     "metadata": {},
     "output_type": "display_data"
    }
   ],
   "source": [
    "ALL_TICKERS = US_STOCKS  + EU_STOCKS + INDIA_STOCKS\n",
    "ALL_TICKERS"
   ]
  },
  {
   "cell_type": "code",
   "execution_count": null,
   "metadata": {},
   "outputs": [
    {
     "name": "stdout",
     "output_type": "stream",
     "text": [
      "0 MSFT\n"
     ]
    },
    {
     "name": "stderr",
     "output_type": "stream",
     "text": [
      "\r[*********************100%%**********************]  1 of 1 completed\n"
     ]
    },
    {
     "name": "stdout",
     "output_type": "stream",
     "text": [
      "1 AAPL\n"
     ]
    },
    {
     "name": "stderr",
     "output_type": "stream",
     "text": [
      "\r[*********************100%%**********************]  1 of 1 completed\n"
     ]
    },
    {
     "name": "stdout",
     "output_type": "stream",
     "text": [
      "2 GOOG\n"
     ]
    },
    {
     "name": "stderr",
     "output_type": "stream",
     "text": [
      "\r[*********************100%%**********************]  1 of 1 completed\n"
     ]
    },
    {
     "name": "stdout",
     "output_type": "stream",
     "text": [
      "3 NVDA\n"
     ]
    },
    {
     "name": "stderr",
     "output_type": "stream",
     "text": [
      "\r[*********************100%%**********************]  1 of 1 completed\n"
     ]
    },
    {
     "name": "stdout",
     "output_type": "stream",
     "text": [
      "4 AMZN\n"
     ]
    },
    {
     "name": "stderr",
     "output_type": "stream",
     "text": [
      "\r[*********************100%%**********************]  1 of 1 completed\n"
     ]
    },
    {
     "name": "stdout",
     "output_type": "stream",
     "text": [
      "5 META\n"
     ]
    },
    {
     "name": "stderr",
     "output_type": "stream",
     "text": [
      "\r[*********************100%%**********************]  1 of 1 completed\n"
     ]
    },
    {
     "name": "stdout",
     "output_type": "stream",
     "text": [
      "6 BRK-B\n"
     ]
    },
    {
     "name": "stderr",
     "output_type": "stream",
     "text": [
      "\r[*********************100%%**********************]  1 of 1 completed\n"
     ]
    },
    {
     "name": "stdout",
     "output_type": "stream",
     "text": [
      "7 LLY\n"
     ]
    },
    {
     "name": "stderr",
     "output_type": "stream",
     "text": [
      "\r[*********************100%%**********************]  1 of 1 completed\n"
     ]
    },
    {
     "name": "stdout",
     "output_type": "stream",
     "text": [
      "8 AVGO\n"
     ]
    },
    {
     "name": "stderr",
     "output_type": "stream",
     "text": [
      "\r[*********************100%%**********************]  1 of 1 completed\n"
     ]
    },
    {
     "name": "stdout",
     "output_type": "stream",
     "text": [
      "9 V\n"
     ]
    },
    {
     "name": "stderr",
     "output_type": "stream",
     "text": [
      "\r[*********************100%%**********************]  1 of 1 completed\n"
     ]
    },
    {
     "name": "stdout",
     "output_type": "stream",
     "text": [
      "10 JPM\n"
     ]
    },
    {
     "name": "stderr",
     "output_type": "stream",
     "text": [
      "\r[*********************100%%**********************]  1 of 1 completed\n"
     ]
    },
    {
     "name": "stdout",
     "output_type": "stream",
     "text": [
      "11 NVO\n"
     ]
    },
    {
     "name": "stderr",
     "output_type": "stream",
     "text": [
      "\r[*********************100%%**********************]  1 of 1 completed\n"
     ]
    },
    {
     "name": "stdout",
     "output_type": "stream",
     "text": [
      "12 MC.PA\n"
     ]
    },
    {
     "name": "stderr",
     "output_type": "stream",
     "text": [
      "\r[*********************100%%**********************]  1 of 1 completed\n"
     ]
    },
    {
     "name": "stdout",
     "output_type": "stream",
     "text": [
      "13 ASML\n"
     ]
    },
    {
     "name": "stderr",
     "output_type": "stream",
     "text": [
      "\r[*********************100%%**********************]  1 of 1 completed\n"
     ]
    },
    {
     "name": "stdout",
     "output_type": "stream",
     "text": [
      "14 RMS.PA\n"
     ]
    },
    {
     "name": "stderr",
     "output_type": "stream",
     "text": [
      "\r[*********************100%%**********************]  1 of 1 completed\n"
     ]
    },
    {
     "name": "stdout",
     "output_type": "stream",
     "text": [
      "15 OR.PA\n"
     ]
    },
    {
     "name": "stderr",
     "output_type": "stream",
     "text": [
      "\r[*********************100%%**********************]  1 of 1 completed\n"
     ]
    },
    {
     "name": "stdout",
     "output_type": "stream",
     "text": [
      "16 SAP\n"
     ]
    },
    {
     "name": "stderr",
     "output_type": "stream",
     "text": [
      "\r[*********************100%%**********************]  1 of 1 completed\n"
     ]
    },
    {
     "name": "stdout",
     "output_type": "stream",
     "text": [
      "17 ACN\n"
     ]
    },
    {
     "name": "stderr",
     "output_type": "stream",
     "text": [
      "\r[*********************100%%**********************]  1 of 1 completed\n"
     ]
    },
    {
     "name": "stdout",
     "output_type": "stream",
     "text": [
      "18 TTE\n"
     ]
    },
    {
     "name": "stderr",
     "output_type": "stream",
     "text": [
      "\r[*********************100%%**********************]  1 of 1 completed\n"
     ]
    },
    {
     "name": "stdout",
     "output_type": "stream",
     "text": [
      "19 SIE.DE\n"
     ]
    },
    {
     "name": "stderr",
     "output_type": "stream",
     "text": [
      "\r[*********************100%%**********************]  1 of 1 completed\n"
     ]
    },
    {
     "name": "stdout",
     "output_type": "stream",
     "text": [
      "20 IDEXY\n"
     ]
    },
    {
     "name": "stderr",
     "output_type": "stream",
     "text": [
      "\r[*********************100%%**********************]  1 of 1 completed\n"
     ]
    },
    {
     "name": "stdout",
     "output_type": "stream",
     "text": [
      "21 CDI.PA\n"
     ]
    },
    {
     "name": "stderr",
     "output_type": "stream",
     "text": [
      "\r[*********************100%%**********************]  1 of 1 completed\n"
     ]
    },
    {
     "name": "stdout",
     "output_type": "stream",
     "text": [
      "22 RELIANCE.NS\n"
     ]
    },
    {
     "name": "stderr",
     "output_type": "stream",
     "text": [
      "\r[*********************100%%**********************]  1 of 1 completed\n"
     ]
    },
    {
     "name": "stdout",
     "output_type": "stream",
     "text": [
      "23 TCS.NS\n"
     ]
    },
    {
     "name": "stderr",
     "output_type": "stream",
     "text": [
      "\r[*********************100%%**********************]  1 of 1 completed\n"
     ]
    },
    {
     "name": "stdout",
     "output_type": "stream",
     "text": [
      "24 HDB\n"
     ]
    },
    {
     "name": "stderr",
     "output_type": "stream",
     "text": [
      "\r[*********************100%%**********************]  1 of 1 completed\n"
     ]
    },
    {
     "name": "stdout",
     "output_type": "stream",
     "text": [
      "25 BHARTIARTL.NS\n"
     ]
    },
    {
     "name": "stderr",
     "output_type": "stream",
     "text": [
      "\r[*********************100%%**********************]  1 of 1 completed\n"
     ]
    },
    {
     "name": "stdout",
     "output_type": "stream",
     "text": [
      "26 IBN\n"
     ]
    },
    {
     "name": "stderr",
     "output_type": "stream",
     "text": [
      "\r[*********************100%%**********************]  1 of 1 completed\n"
     ]
    },
    {
     "name": "stdout",
     "output_type": "stream",
     "text": [
      "27 SBIN.NS\n"
     ]
    },
    {
     "name": "stderr",
     "output_type": "stream",
     "text": [
      "[*********************100%%**********************]  1 of 1 completed\n",
      "[*********************100%%**********************]  1 of 1 completed"
     ]
    },
    {
     "name": "stdout",
     "output_type": "stream",
     "text": [
      "28 LICI.NS\n"
     ]
    },
    {
     "name": "stderr",
     "output_type": "stream",
     "text": [
      "\n"
     ]
    },
    {
     "name": "stdout",
     "output_type": "stream",
     "text": [
      "29 INFY\n"
     ]
    },
    {
     "name": "stderr",
     "output_type": "stream",
     "text": [
      "\r[*********************100%%**********************]  1 of 1 completed\n"
     ]
    },
    {
     "name": "stdout",
     "output_type": "stream",
     "text": [
      "30 ITC.NS\n"
     ]
    },
    {
     "name": "stderr",
     "output_type": "stream",
     "text": [
      "\r[*********************100%%**********************]  1 of 1 completed\n"
     ]
    },
    {
     "name": "stdout",
     "output_type": "stream",
     "text": [
      "31 HINDUNILVR.NS\n"
     ]
    },
    {
     "name": "stderr",
     "output_type": "stream",
     "text": [
      "\r[*********************100%%**********************]  1 of 1 completed\n"
     ]
    },
    {
     "name": "stdout",
     "output_type": "stream",
     "text": [
      "32 LT.NS\n"
     ]
    },
    {
     "name": "stderr",
     "output_type": "stream",
     "text": [
      "\r[*********************100%%**********************]  1 of 1 completed\n"
     ]
    }
   ],
   "source": [
    "import time\n",
    "\n",
    "stocks_df = pd.DataFrame({'A' : []})\n",
    "\n",
    "for i,ticker in enumerate(ALL_TICKERS):\n",
    "  print(i,ticker)\n",
    "\n",
    "  # Work with stock prices\n",
    "  historyPrices = yf.download(tickers = ticker,\n",
    "                     period = \"max\",\n",
    "                     interval = \"1d\")\n",
    "\n",
    "  # generate features for historical prices, and what we want to predict\n",
    "  historyPrices['Ticker'] = ticker\n",
    "  historyPrices['Year']= historyPrices.index.year\n",
    "  historyPrices['Month'] = historyPrices.index.month\n",
    "  historyPrices['Weekday'] = historyPrices.index.weekday\n",
    "  historyPrices['Date'] = historyPrices.index.date\n",
    "\n",
    "  # historical returns\n",
    "  for i in [1,3,7,30,90,365]:\n",
    "    historyPrices['growth_'+str(i)+'d'] = historyPrices['Adj Close'] / historyPrices['Adj Close'].shift(i)\n",
    "  historyPrices['growth_future_5d'] = historyPrices['Adj Close'].shift(-5) / historyPrices['Adj Close']\n",
    "\n",
    "  # Technical indicators\n",
    "  # SimpleMovingAverage 10 days and 20 days\n",
    "  historyPrices['SMA10']= historyPrices['Close'].rolling(10).mean()\n",
    "  historyPrices['SMA20']= historyPrices['Close'].rolling(20).mean()\n",
    "  historyPrices['growing_moving_average'] = np.where(historyPrices['SMA10'] > historyPrices['SMA20'], 1, 0)\n",
    "  historyPrices['high_minus_low_relative'] = (historyPrices.High - historyPrices.Low) / historyPrices['Adj Close']\n",
    "\n",
    "  # 30d rolling volatility : https://ycharts.com/glossary/terms/rolling_vol_30\n",
    "  historyPrices['volatility'] =   historyPrices['Adj Close'].rolling(30).std() * np.sqrt(252)\n",
    "\n",
    "  # what we want to predict\n",
    "  historyPrices['is_positive_growth_5d_future'] = np.where(historyPrices['growth_future_5d'] > 1, 1, 0)\n",
    "\n",
    "  # sleep 1 sec between downloads - not to overload the API server\n",
    "  time.sleep(1)\n",
    "\n",
    "\n",
    "  if stocks_df.empty:\n",
    "    stocks_df = historyPrices\n",
    "  else:\n",
    "    stocks_df = pd.concat([stocks_df, historyPrices], ignore_index=True)"
   ]
  },
  {
   "cell_type": "code",
   "execution_count": null,
   "metadata": {},
   "outputs": [],
   "source": [
    "def get_ticker_type(ticker:str, us_stocks_list, eu_stocks_list, india_stocks_list):\n",
    "  if ticker in us_stocks_list:\n",
    "    return 'US'\n",
    "  elif ticker in eu_stocks_list:\n",
    "    return 'EU'\n",
    "  elif ticker in india_stocks_list:\n",
    "    return 'INDIA'\n",
    "  else:\n",
    "    return 'ERROR'\n"
   ]
  },
  {
   "cell_type": "code",
   "execution_count": null,
   "metadata": {},
   "outputs": [],
   "source": [
    "stocks_df['ticker_type'] = stocks_df.Ticker.apply(lambda x:get_ticker_type(x, US_STOCKS, EU_STOCKS, INDIA_STOCKS))"
   ]
  },
  {
   "cell_type": "code",
   "execution_count": null,
   "metadata": {},
   "outputs": [
    {
     "data": {
      "text/plain": [
       "ticker_type\n",
       "US       80639\n",
       "EU       76986\n",
       "INDIA    63265\n",
       "Name: count, dtype: int64"
      ]
     },
     "metadata": {},
     "output_type": "display_data"
    }
   ],
   "source": [
    "# count of observations between US-EU-INDIA stocks\n",
    "stocks_df.ticker_type.value_counts()"
   ]
  },
  {
   "cell_type": "code",
   "execution_count": null,
   "metadata": {},
   "outputs": [
    {
     "data": {
      "text/plain": [
       "33"
      ]
     },
     "metadata": {},
     "output_type": "display_data"
    }
   ],
   "source": [
    "# unique tickers\n",
    "stocks_df.Ticker.nunique()"
   ]
  },
  {
   "cell_type": "code",
   "execution_count": null,
   "metadata": {},
   "outputs": [
    {
     "data": {
      "text/plain": [
       "Ticker\n",
       "LLY              13087\n",
       "JPM              11121\n",
       "AAPL             10933\n",
       "NVO              10838\n",
       "MSFT              9607\n",
       "CDI.PA            8321\n",
       "TTE               8185\n",
       "ASML              7330\n",
       "SAP               7201\n",
       "HINDUNILVR.NS     7115\n",
       "SBIN.NS           7113\n",
       "RELIANCE.NS       7112\n",
       "ITC.NS            7112\n",
       "SIE.DE            7039\n",
       "BRK-B             7038\n",
       "AMZN              6780\n",
       "NVDA              6356\n",
       "INFY              6323\n",
       "MC.PA             6251\n",
       "RMS.PA            6251\n",
       "OR.PA             6251\n",
       "IBN               6058\n",
       "ACN               5728\n",
       "HDB               5727\n",
       "LT.NS             5420\n",
       "BHARTIARTL.NS     5417\n",
       "TCS.NS            5388\n",
       "GOOG              4955\n",
       "V                 4054\n",
       "AVGO              3705\n",
       "IDEXY             3591\n",
       "META              3003\n",
       "LICI.NS            480\n",
       "Name: count, dtype: int64"
      ]
     },
     "metadata": {},
     "output_type": "display_data"
    }
   ],
   "source": [
    "# count of observations by stock\n",
    "stocks_df.Ticker.value_counts()"
   ]
  },
  {
   "cell_type": "code",
   "execution_count": null,
   "metadata": {},
   "outputs": [
    {
     "data": {
      "application/vnd.google.colaboratory.intrinsic+json": {
       "summary": "{\n  \"name\": \"stocks_df\",\n  \"rows\": 33,\n  \"fields\": [\n    {\n      \"column\": \"min\",\n      \"properties\": {\n        \"dtype\": \"date\",\n        \"min\": \"1972-06-01\",\n        \"max\": \"2022-05-17\",\n        \"num_unique_values\": 27,\n        \"samples\": [\n          \"2004-08-19\",\n          \"1999-03-11\",\n          \"2001-07-20\"\n        ],\n        \"semantic_type\": \"\",\n        \"description\": \"\"\n      }\n    },\n    {\n      \"column\": \"max\",\n      \"properties\": {\n        \"dtype\": \"date\",\n        \"min\": \"2024-04-24\",\n        \"max\": \"2024-04-25\",\n        \"num_unique_values\": 2,\n        \"samples\": [\n          \"2024-04-24\",\n          \"2024-04-25\"\n        ],\n        \"semantic_type\": \"\",\n        \"description\": \"\"\n      }\n    }\n  ]\n}",
       "type": "dataframe"
      },
      "text/html": [
       "\n",
       "  <div id=\"df-a567f221-70b9-4459-aa53-76cc7a99cef8\" class=\"colab-df-container\">\n",
       "    <div>\n",
       "<style scoped>\n",
       "    .dataframe tbody tr th:only-of-type {\n",
       "        vertical-align: middle;\n",
       "    }\n",
       "\n",
       "    .dataframe tbody tr th {\n",
       "        vertical-align: top;\n",
       "    }\n",
       "\n",
       "    .dataframe thead th {\n",
       "        text-align: right;\n",
       "    }\n",
       "</style>\n",
       "<table border=\"1\" class=\"dataframe\">\n",
       "  <thead>\n",
       "    <tr style=\"text-align: right;\">\n",
       "      <th></th>\n",
       "      <th></th>\n",
       "      <th>min</th>\n",
       "      <th>max</th>\n",
       "    </tr>\n",
       "    <tr>\n",
       "      <th>Ticker</th>\n",
       "      <th>ticker_type</th>\n",
       "      <th></th>\n",
       "      <th></th>\n",
       "    </tr>\n",
       "  </thead>\n",
       "  <tbody>\n",
       "    <tr>\n",
       "      <th>AAPL</th>\n",
       "      <th>US</th>\n",
       "      <td>1980-12-12</td>\n",
       "      <td>2024-04-25</td>\n",
       "    </tr>\n",
       "    <tr>\n",
       "      <th>ACN</th>\n",
       "      <th>EU</th>\n",
       "      <td>2001-07-19</td>\n",
       "      <td>2024-04-25</td>\n",
       "    </tr>\n",
       "    <tr>\n",
       "      <th>AMZN</th>\n",
       "      <th>US</th>\n",
       "      <td>1997-05-15</td>\n",
       "      <td>2024-04-24</td>\n",
       "    </tr>\n",
       "    <tr>\n",
       "      <th>ASML</th>\n",
       "      <th>EU</th>\n",
       "      <td>1995-03-15</td>\n",
       "      <td>2024-04-25</td>\n",
       "    </tr>\n",
       "    <tr>\n",
       "      <th>AVGO</th>\n",
       "      <th>US</th>\n",
       "      <td>2009-08-06</td>\n",
       "      <td>2024-04-25</td>\n",
       "    </tr>\n",
       "    <tr>\n",
       "      <th>BHARTIARTL.NS</th>\n",
       "      <th>INDIA</th>\n",
       "      <td>2002-07-01</td>\n",
       "      <td>2024-04-25</td>\n",
       "    </tr>\n",
       "    <tr>\n",
       "      <th>BRK-B</th>\n",
       "      <th>US</th>\n",
       "      <td>1996-05-09</td>\n",
       "      <td>2024-04-25</td>\n",
       "    </tr>\n",
       "    <tr>\n",
       "      <th>CDI.PA</th>\n",
       "      <th>EU</th>\n",
       "      <td>1992-01-27</td>\n",
       "      <td>2024-04-25</td>\n",
       "    </tr>\n",
       "    <tr>\n",
       "      <th>GOOG</th>\n",
       "      <th>US</th>\n",
       "      <td>2004-08-19</td>\n",
       "      <td>2024-04-25</td>\n",
       "    </tr>\n",
       "    <tr>\n",
       "      <th>HDB</th>\n",
       "      <th>INDIA</th>\n",
       "      <td>2001-07-20</td>\n",
       "      <td>2024-04-25</td>\n",
       "    </tr>\n",
       "    <tr>\n",
       "      <th>HINDUNILVR.NS</th>\n",
       "      <th>INDIA</th>\n",
       "      <td>1996-01-01</td>\n",
       "      <td>2024-04-25</td>\n",
       "    </tr>\n",
       "    <tr>\n",
       "      <th>IBN</th>\n",
       "      <th>INDIA</th>\n",
       "      <td>2000-03-28</td>\n",
       "      <td>2024-04-25</td>\n",
       "    </tr>\n",
       "    <tr>\n",
       "      <th>IDEXY</th>\n",
       "      <th>EU</th>\n",
       "      <td>2010-01-20</td>\n",
       "      <td>2024-04-25</td>\n",
       "    </tr>\n",
       "    <tr>\n",
       "      <th>INFY</th>\n",
       "      <th>INDIA</th>\n",
       "      <td>1999-03-11</td>\n",
       "      <td>2024-04-25</td>\n",
       "    </tr>\n",
       "    <tr>\n",
       "      <th>ITC.NS</th>\n",
       "      <th>INDIA</th>\n",
       "      <td>1996-01-01</td>\n",
       "      <td>2024-04-25</td>\n",
       "    </tr>\n",
       "    <tr>\n",
       "      <th>JPM</th>\n",
       "      <th>US</th>\n",
       "      <td>1980-03-17</td>\n",
       "      <td>2024-04-25</td>\n",
       "    </tr>\n",
       "    <tr>\n",
       "      <th>LICI.NS</th>\n",
       "      <th>INDIA</th>\n",
       "      <td>2022-05-17</td>\n",
       "      <td>2024-04-25</td>\n",
       "    </tr>\n",
       "    <tr>\n",
       "      <th>LLY</th>\n",
       "      <th>US</th>\n",
       "      <td>1972-06-01</td>\n",
       "      <td>2024-04-25</td>\n",
       "    </tr>\n",
       "    <tr>\n",
       "      <th>LT.NS</th>\n",
       "      <th>INDIA</th>\n",
       "      <td>2002-07-01</td>\n",
       "      <td>2024-04-25</td>\n",
       "    </tr>\n",
       "    <tr>\n",
       "      <th>MC.PA</th>\n",
       "      <th>EU</th>\n",
       "      <td>2000-01-03</td>\n",
       "      <td>2024-04-25</td>\n",
       "    </tr>\n",
       "    <tr>\n",
       "      <th>META</th>\n",
       "      <th>US</th>\n",
       "      <td>2012-05-18</td>\n",
       "      <td>2024-04-25</td>\n",
       "    </tr>\n",
       "    <tr>\n",
       "      <th>MSFT</th>\n",
       "      <th>US</th>\n",
       "      <td>1986-03-13</td>\n",
       "      <td>2024-04-25</td>\n",
       "    </tr>\n",
       "    <tr>\n",
       "      <th>NVDA</th>\n",
       "      <th>US</th>\n",
       "      <td>1999-01-22</td>\n",
       "      <td>2024-04-25</td>\n",
       "    </tr>\n",
       "    <tr>\n",
       "      <th>NVO</th>\n",
       "      <th>EU</th>\n",
       "      <td>1981-04-30</td>\n",
       "      <td>2024-04-25</td>\n",
       "    </tr>\n",
       "    <tr>\n",
       "      <th>OR.PA</th>\n",
       "      <th>EU</th>\n",
       "      <td>2000-01-03</td>\n",
       "      <td>2024-04-25</td>\n",
       "    </tr>\n",
       "    <tr>\n",
       "      <th>RELIANCE.NS</th>\n",
       "      <th>INDIA</th>\n",
       "      <td>1996-01-01</td>\n",
       "      <td>2024-04-25</td>\n",
       "    </tr>\n",
       "    <tr>\n",
       "      <th>RMS.PA</th>\n",
       "      <th>EU</th>\n",
       "      <td>2000-01-03</td>\n",
       "      <td>2024-04-25</td>\n",
       "    </tr>\n",
       "    <tr>\n",
       "      <th>SAP</th>\n",
       "      <th>EU</th>\n",
       "      <td>1995-09-18</td>\n",
       "      <td>2024-04-25</td>\n",
       "    </tr>\n",
       "    <tr>\n",
       "      <th>SBIN.NS</th>\n",
       "      <th>INDIA</th>\n",
       "      <td>1996-01-01</td>\n",
       "      <td>2024-04-25</td>\n",
       "    </tr>\n",
       "    <tr>\n",
       "      <th>SIE.DE</th>\n",
       "      <th>EU</th>\n",
       "      <td>1996-11-08</td>\n",
       "      <td>2024-04-25</td>\n",
       "    </tr>\n",
       "    <tr>\n",
       "      <th>TCS.NS</th>\n",
       "      <th>INDIA</th>\n",
       "      <td>2002-08-12</td>\n",
       "      <td>2024-04-25</td>\n",
       "    </tr>\n",
       "    <tr>\n",
       "      <th>TTE</th>\n",
       "      <th>EU</th>\n",
       "      <td>1991-10-25</td>\n",
       "      <td>2024-04-25</td>\n",
       "    </tr>\n",
       "    <tr>\n",
       "      <th>V</th>\n",
       "      <th>US</th>\n",
       "      <td>2008-03-19</td>\n",
       "      <td>2024-04-25</td>\n",
       "    </tr>\n",
       "  </tbody>\n",
       "</table>\n",
       "</div>\n",
       "    <div class=\"colab-df-buttons\">\n",
       "\n",
       "  <div class=\"colab-df-container\">\n",
       "    <button class=\"colab-df-convert\" onclick=\"convertToInteractive('df-a567f221-70b9-4459-aa53-76cc7a99cef8')\"\n",
       "            title=\"Convert this dataframe to an interactive table.\"\n",
       "            style=\"display:none;\">\n",
       "\n",
       "  <svg xmlns=\"http://www.w3.org/2000/svg\" height=\"24px\" viewBox=\"0 -960 960 960\">\n",
       "    <path d=\"M120-120v-720h720v720H120Zm60-500h600v-160H180v160Zm220 220h160v-160H400v160Zm0 220h160v-160H400v160ZM180-400h160v-160H180v160Zm440 0h160v-160H620v160ZM180-180h160v-160H180v160Zm440 0h160v-160H620v160Z\"/>\n",
       "  </svg>\n",
       "    </button>\n",
       "\n",
       "  <style>\n",
       "    .colab-df-container {\n",
       "      display:flex;\n",
       "      gap: 12px;\n",
       "    }\n",
       "\n",
       "    .colab-df-convert {\n",
       "      background-color: #E8F0FE;\n",
       "      border: none;\n",
       "      border-radius: 50%;\n",
       "      cursor: pointer;\n",
       "      display: none;\n",
       "      fill: #1967D2;\n",
       "      height: 32px;\n",
       "      padding: 0 0 0 0;\n",
       "      width: 32px;\n",
       "    }\n",
       "\n",
       "    .colab-df-convert:hover {\n",
       "      background-color: #E2EBFA;\n",
       "      box-shadow: 0px 1px 2px rgba(60, 64, 67, 0.3), 0px 1px 3px 1px rgba(60, 64, 67, 0.15);\n",
       "      fill: #174EA6;\n",
       "    }\n",
       "\n",
       "    .colab-df-buttons div {\n",
       "      margin-bottom: 4px;\n",
       "    }\n",
       "\n",
       "    [theme=dark] .colab-df-convert {\n",
       "      background-color: #3B4455;\n",
       "      fill: #D2E3FC;\n",
       "    }\n",
       "\n",
       "    [theme=dark] .colab-df-convert:hover {\n",
       "      background-color: #434B5C;\n",
       "      box-shadow: 0px 1px 3px 1px rgba(0, 0, 0, 0.15);\n",
       "      filter: drop-shadow(0px 1px 2px rgba(0, 0, 0, 0.3));\n",
       "      fill: #FFFFFF;\n",
       "    }\n",
       "  </style>\n",
       "\n",
       "    <script>\n",
       "      const buttonEl =\n",
       "        document.querySelector('#df-a567f221-70b9-4459-aa53-76cc7a99cef8 button.colab-df-convert');\n",
       "      buttonEl.style.display =\n",
       "        google.colab.kernel.accessAllowed ? 'block' : 'none';\n",
       "\n",
       "      async function convertToInteractive(key) {\n",
       "        const element = document.querySelector('#df-a567f221-70b9-4459-aa53-76cc7a99cef8');\n",
       "        const dataTable =\n",
       "          await google.colab.kernel.invokeFunction('convertToInteractive',\n",
       "                                                    [key], {});\n",
       "        if (!dataTable) return;\n",
       "\n",
       "        const docLinkHtml = 'Like what you see? Visit the ' +\n",
       "          '<a target=\"_blank\" href=https://colab.research.google.com/notebooks/data_table.ipynb>data table notebook</a>'\n",
       "          + ' to learn more about interactive tables.';\n",
       "        element.innerHTML = '';\n",
       "        dataTable['output_type'] = 'display_data';\n",
       "        await google.colab.output.renderOutput(dataTable, element);\n",
       "        const docLink = document.createElement('div');\n",
       "        docLink.innerHTML = docLinkHtml;\n",
       "        element.appendChild(docLink);\n",
       "      }\n",
       "    </script>\n",
       "  </div>\n",
       "\n",
       "\n",
       "<div id=\"df-ae43645b-8dd1-4c7a-9cf6-5b8cbc48d8eb\">\n",
       "  <button class=\"colab-df-quickchart\" onclick=\"quickchart('df-ae43645b-8dd1-4c7a-9cf6-5b8cbc48d8eb')\"\n",
       "            title=\"Suggest charts\"\n",
       "            style=\"display:none;\">\n",
       "\n",
       "<svg xmlns=\"http://www.w3.org/2000/svg\" height=\"24px\"viewBox=\"0 0 24 24\"\n",
       "     width=\"24px\">\n",
       "    <g>\n",
       "        <path d=\"M19 3H5c-1.1 0-2 .9-2 2v14c0 1.1.9 2 2 2h14c1.1 0 2-.9 2-2V5c0-1.1-.9-2-2-2zM9 17H7v-7h2v7zm4 0h-2V7h2v10zm4 0h-2v-4h2v4z\"/>\n",
       "    </g>\n",
       "</svg>\n",
       "  </button>\n",
       "\n",
       "<style>\n",
       "  .colab-df-quickchart {\n",
       "      --bg-color: #E8F0FE;\n",
       "      --fill-color: #1967D2;\n",
       "      --hover-bg-color: #E2EBFA;\n",
       "      --hover-fill-color: #174EA6;\n",
       "      --disabled-fill-color: #AAA;\n",
       "      --disabled-bg-color: #DDD;\n",
       "  }\n",
       "\n",
       "  [theme=dark] .colab-df-quickchart {\n",
       "      --bg-color: #3B4455;\n",
       "      --fill-color: #D2E3FC;\n",
       "      --hover-bg-color: #434B5C;\n",
       "      --hover-fill-color: #FFFFFF;\n",
       "      --disabled-bg-color: #3B4455;\n",
       "      --disabled-fill-color: #666;\n",
       "  }\n",
       "\n",
       "  .colab-df-quickchart {\n",
       "    background-color: var(--bg-color);\n",
       "    border: none;\n",
       "    border-radius: 50%;\n",
       "    cursor: pointer;\n",
       "    display: none;\n",
       "    fill: var(--fill-color);\n",
       "    height: 32px;\n",
       "    padding: 0;\n",
       "    width: 32px;\n",
       "  }\n",
       "\n",
       "  .colab-df-quickchart:hover {\n",
       "    background-color: var(--hover-bg-color);\n",
       "    box-shadow: 0 1px 2px rgba(60, 64, 67, 0.3), 0 1px 3px 1px rgba(60, 64, 67, 0.15);\n",
       "    fill: var(--button-hover-fill-color);\n",
       "  }\n",
       "\n",
       "  .colab-df-quickchart-complete:disabled,\n",
       "  .colab-df-quickchart-complete:disabled:hover {\n",
       "    background-color: var(--disabled-bg-color);\n",
       "    fill: var(--disabled-fill-color);\n",
       "    box-shadow: none;\n",
       "  }\n",
       "\n",
       "  .colab-df-spinner {\n",
       "    border: 2px solid var(--fill-color);\n",
       "    border-color: transparent;\n",
       "    border-bottom-color: var(--fill-color);\n",
       "    animation:\n",
       "      spin 1s steps(1) infinite;\n",
       "  }\n",
       "\n",
       "  @keyframes spin {\n",
       "    0% {\n",
       "      border-color: transparent;\n",
       "      border-bottom-color: var(--fill-color);\n",
       "      border-left-color: var(--fill-color);\n",
       "    }\n",
       "    20% {\n",
       "      border-color: transparent;\n",
       "      border-left-color: var(--fill-color);\n",
       "      border-top-color: var(--fill-color);\n",
       "    }\n",
       "    30% {\n",
       "      border-color: transparent;\n",
       "      border-left-color: var(--fill-color);\n",
       "      border-top-color: var(--fill-color);\n",
       "      border-right-color: var(--fill-color);\n",
       "    }\n",
       "    40% {\n",
       "      border-color: transparent;\n",
       "      border-right-color: var(--fill-color);\n",
       "      border-top-color: var(--fill-color);\n",
       "    }\n",
       "    60% {\n",
       "      border-color: transparent;\n",
       "      border-right-color: var(--fill-color);\n",
       "    }\n",
       "    80% {\n",
       "      border-color: transparent;\n",
       "      border-right-color: var(--fill-color);\n",
       "      border-bottom-color: var(--fill-color);\n",
       "    }\n",
       "    90% {\n",
       "      border-color: transparent;\n",
       "      border-bottom-color: var(--fill-color);\n",
       "    }\n",
       "  }\n",
       "</style>\n",
       "\n",
       "  <script>\n",
       "    async function quickchart(key) {\n",
       "      const quickchartButtonEl =\n",
       "        document.querySelector('#' + key + ' button');\n",
       "      quickchartButtonEl.disabled = true;  // To prevent multiple clicks.\n",
       "      quickchartButtonEl.classList.add('colab-df-spinner');\n",
       "      try {\n",
       "        const charts = await google.colab.kernel.invokeFunction(\n",
       "            'suggestCharts', [key], {});\n",
       "      } catch (error) {\n",
       "        console.error('Error during call to suggestCharts:', error);\n",
       "      }\n",
       "      quickchartButtonEl.classList.remove('colab-df-spinner');\n",
       "      quickchartButtonEl.classList.add('colab-df-quickchart-complete');\n",
       "    }\n",
       "    (() => {\n",
       "      let quickchartButtonEl =\n",
       "        document.querySelector('#df-ae43645b-8dd1-4c7a-9cf6-5b8cbc48d8eb button');\n",
       "      quickchartButtonEl.style.display =\n",
       "        google.colab.kernel.accessAllowed ? 'block' : 'none';\n",
       "    })();\n",
       "  </script>\n",
       "</div>\n",
       "    </div>\n",
       "  </div>\n"
      ],
      "text/plain": [
       "                                  min         max\n",
       "Ticker        ticker_type                        \n",
       "AAPL          US           1980-12-12  2024-04-25\n",
       "ACN           EU           2001-07-19  2024-04-25\n",
       "AMZN          US           1997-05-15  2024-04-24\n",
       "ASML          EU           1995-03-15  2024-04-25\n",
       "AVGO          US           2009-08-06  2024-04-25\n",
       "BHARTIARTL.NS INDIA        2002-07-01  2024-04-25\n",
       "BRK-B         US           1996-05-09  2024-04-25\n",
       "CDI.PA        EU           1992-01-27  2024-04-25\n",
       "GOOG          US           2004-08-19  2024-04-25\n",
       "HDB           INDIA        2001-07-20  2024-04-25\n",
       "HINDUNILVR.NS INDIA        1996-01-01  2024-04-25\n",
       "IBN           INDIA        2000-03-28  2024-04-25\n",
       "IDEXY         EU           2010-01-20  2024-04-25\n",
       "INFY          INDIA        1999-03-11  2024-04-25\n",
       "ITC.NS        INDIA        1996-01-01  2024-04-25\n",
       "JPM           US           1980-03-17  2024-04-25\n",
       "LICI.NS       INDIA        2022-05-17  2024-04-25\n",
       "LLY           US           1972-06-01  2024-04-25\n",
       "LT.NS         INDIA        2002-07-01  2024-04-25\n",
       "MC.PA         EU           2000-01-03  2024-04-25\n",
       "META          US           2012-05-18  2024-04-25\n",
       "MSFT          US           1986-03-13  2024-04-25\n",
       "NVDA          US           1999-01-22  2024-04-25\n",
       "NVO           EU           1981-04-30  2024-04-25\n",
       "OR.PA         EU           2000-01-03  2024-04-25\n",
       "RELIANCE.NS   INDIA        1996-01-01  2024-04-25\n",
       "RMS.PA        EU           2000-01-03  2024-04-25\n",
       "SAP           EU           1995-09-18  2024-04-25\n",
       "SBIN.NS       INDIA        1996-01-01  2024-04-25\n",
       "SIE.DE        EU           1996-11-08  2024-04-25\n",
       "TCS.NS        INDIA        2002-08-12  2024-04-25\n",
       "TTE           EU           1991-10-25  2024-04-25\n",
       "V             US           2008-03-19  2024-04-25"
      ]
     },
     "metadata": {},
     "output_type": "display_data"
    }
   ],
   "source": [
    "stocks_df.groupby(['Ticker','ticker_type']).Date.agg(['min','max'])"
   ]
  },
  {
   "cell_type": "code",
   "execution_count": null,
   "metadata": {},
   "outputs": [
    {
     "data": {
      "text/plain": [
       "Year  ticker_type\n",
       "2020  EU             1.245388\n",
       "      INDIA          1.101896\n",
       "      US             1.484070\n",
       "2021  EU             1.582170\n",
       "      INDIA          1.546424\n",
       "      US             1.797571\n",
       "2022  EU             1.191169\n",
       "      INDIA          1.379889\n",
       "      US             1.182379\n",
       "2023  EU             1.246533\n",
       "      INDIA          1.201110\n",
       "      US             1.203253\n",
       "2024  EU             1.650721\n",
       "      INDIA          1.305762\n",
       "      US             2.153187\n",
       "Name: growth_365d, dtype: float64"
      ]
     },
     "metadata": {},
     "output_type": "display_data"
    }
   ],
   "source": [
    "#  average growth 365days\n",
    "stocks_df[stocks_df.Year>=2020].groupby(by=['Year','ticker_type']).growth_365d.mean()"
   ]
  },
  {
   "cell_type": "code",
   "execution_count": null,
   "metadata": {},
   "outputs": [],
   "source": [
    "stocks_df['Date'] = pd.to_datetime(stocks_df['Date'])"
   ]
  },
  {
   "cell_type": "code",
   "execution_count": null,
   "metadata": {},
   "outputs": [
    {
     "name": "stdout",
     "output_type": "stream",
     "text": [
      "<class 'pandas.core.frame.DataFrame'>\n",
      "Index: 182423 entries, 3490 to 220889\n",
      "Data columns (total 25 columns):\n",
      " #   Column                        Non-Null Count   Dtype         \n",
      "---  ------                        --------------   -----         \n",
      " 0   Open                          182423 non-null  float64       \n",
      " 1   High                          182423 non-null  float64       \n",
      " 2   Low                           182423 non-null  float64       \n",
      " 3   Close                         182423 non-null  float64       \n",
      " 4   Adj Close                     182423 non-null  float64       \n",
      " 5   Volume                        182423 non-null  int64         \n",
      " 6   Ticker                        182423 non-null  object        \n",
      " 7   Year                          182423 non-null  int32         \n",
      " 8   Month                         182423 non-null  int32         \n",
      " 9   Weekday                       182423 non-null  int32         \n",
      " 10  Date                          182423 non-null  datetime64[ns]\n",
      " 11  growth_1d                     182408 non-null  float64       \n",
      " 12  growth_3d                     182378 non-null  float64       \n",
      " 13  growth_7d                     182318 non-null  float64       \n",
      " 14  growth_30d                    181973 non-null  float64       \n",
      " 15  growth_90d                    181073 non-null  float64       \n",
      " 16  growth_365d                   176663 non-null  float64       \n",
      " 17  growth_future_5d              182258 non-null  float64       \n",
      " 18  SMA10                         182288 non-null  float64       \n",
      " 19  SMA20                         182138 non-null  float64       \n",
      " 20  growing_moving_average        182423 non-null  int64         \n",
      " 21  high_minus_low_relative       182423 non-null  float64       \n",
      " 22  volatility                    181988 non-null  float64       \n",
      " 23  is_positive_growth_5d_future  182423 non-null  int64         \n",
      " 24  ticker_type                   182423 non-null  object        \n",
      "dtypes: datetime64[ns](1), float64(16), int32(3), int64(3), object(2)\n",
      "memory usage: 34.1+ MB\n"
     ]
    }
   ],
   "source": [
    "# filtering only on stats after 2000\n",
    "stocks_df[stocks_df.Date>='2000-01-01'].info()"
   ]
  },
  {
   "cell_type": "code",
   "execution_count": null,
   "metadata": {},
   "outputs": [
    {
     "data": {
      "application/vnd.google.colaboratory.intrinsic+json": {
       "type": "dataframe"
      },
      "text/html": [
       "\n",
       "  <div id=\"df-ccfe7d88-a6c7-4c2e-98d2-523d6fa8d0bf\" class=\"colab-df-container\">\n",
       "    <div>\n",
       "<style scoped>\n",
       "    .dataframe tbody tr th:only-of-type {\n",
       "        vertical-align: middle;\n",
       "    }\n",
       "\n",
       "    .dataframe tbody tr th {\n",
       "        vertical-align: top;\n",
       "    }\n",
       "\n",
       "    .dataframe thead th {\n",
       "        text-align: right;\n",
       "    }\n",
       "</style>\n",
       "<table border=\"1\" class=\"dataframe\">\n",
       "  <thead>\n",
       "    <tr style=\"text-align: right;\">\n",
       "      <th></th>\n",
       "      <th>Open</th>\n",
       "      <th>High</th>\n",
       "      <th>Low</th>\n",
       "      <th>Close</th>\n",
       "      <th>Adj Close</th>\n",
       "      <th>Volume</th>\n",
       "      <th>Ticker</th>\n",
       "      <th>Year</th>\n",
       "      <th>Month</th>\n",
       "      <th>Weekday</th>\n",
       "      <th>...</th>\n",
       "      <th>growth_90d</th>\n",
       "      <th>growth_365d</th>\n",
       "      <th>growth_future_5d</th>\n",
       "      <th>SMA10</th>\n",
       "      <th>SMA20</th>\n",
       "      <th>growing_moving_average</th>\n",
       "      <th>high_minus_low_relative</th>\n",
       "      <th>volatility</th>\n",
       "      <th>is_positive_growth_5d_future</th>\n",
       "      <th>ticker_type</th>\n",
       "    </tr>\n",
       "  </thead>\n",
       "  <tbody>\n",
       "    <tr>\n",
       "      <th>194903</th>\n",
       "      <td>925.000000</td>\n",
       "      <td>984.450012</td>\n",
       "      <td>924.000000</td>\n",
       "      <td>970.599976</td>\n",
       "      <td>970.599976</td>\n",
       "      <td>4863536</td>\n",
       "      <td>LICI.NS</td>\n",
       "      <td>2024</td>\n",
       "      <td>4</td>\n",
       "      <td>0</td>\n",
       "      <td>...</td>\n",
       "      <td>1.599113</td>\n",
       "      <td>1.556710</td>\n",
       "      <td>1.026891</td>\n",
       "      <td>906.085004</td>\n",
       "      <td>953.950003</td>\n",
       "      <td>0</td>\n",
       "      <td>0.062281</td>\n",
       "      <td>1034.237352</td>\n",
       "      <td>1</td>\n",
       "      <td>INDIA</td>\n",
       "    </tr>\n",
       "    <tr>\n",
       "      <th>201224</th>\n",
       "      <td>17.889999</td>\n",
       "      <td>17.920000</td>\n",
       "      <td>17.500000</td>\n",
       "      <td>17.580000</td>\n",
       "      <td>17.580000</td>\n",
       "      <td>14601600</td>\n",
       "      <td>INFY</td>\n",
       "      <td>2024</td>\n",
       "      <td>4</td>\n",
       "      <td>0</td>\n",
       "      <td>...</td>\n",
       "      <td>1.003998</td>\n",
       "      <td>1.024508</td>\n",
       "      <td>1.015927</td>\n",
       "      <td>18.156000</td>\n",
       "      <td>18.777500</td>\n",
       "      <td>0</td>\n",
       "      <td>0.023891</td>\n",
       "      <td>13.940634</td>\n",
       "      <td>1</td>\n",
       "      <td>INDIA</td>\n",
       "    </tr>\n",
       "    <tr>\n",
       "      <th>208338</th>\n",
       "      <td>429.100006</td>\n",
       "      <td>431.350006</td>\n",
       "      <td>425.750000</td>\n",
       "      <td>426.700012</td>\n",
       "      <td>426.700012</td>\n",
       "      <td>9382308</td>\n",
       "      <td>ITC.NS</td>\n",
       "      <td>2024</td>\n",
       "      <td>4</td>\n",
       "      <td>0</td>\n",
       "      <td>...</td>\n",
       "      <td>0.987044</td>\n",
       "      <td>1.314436</td>\n",
       "      <td>1.005625</td>\n",
       "      <td>422.235004</td>\n",
       "      <td>416.537502</td>\n",
       "      <td>1</td>\n",
       "      <td>0.013124</td>\n",
       "      <td>130.246651</td>\n",
       "      <td>1</td>\n",
       "      <td>INDIA</td>\n",
       "    </tr>\n",
       "    <tr>\n",
       "      <th>215453</th>\n",
       "      <td>2270.000000</td>\n",
       "      <td>2295.000000</td>\n",
       "      <td>2262.000000</td>\n",
       "      <td>2285.899902</td>\n",
       "      <td>2285.899902</td>\n",
       "      <td>1427873</td>\n",
       "      <td>HINDUNILVR.NS</td>\n",
       "      <td>2024</td>\n",
       "      <td>4</td>\n",
       "      <td>0</td>\n",
       "      <td>...</td>\n",
       "      <td>0.917590</td>\n",
       "      <td>0.894051</td>\n",
       "      <td>0.992585</td>\n",
       "      <td>2266.539990</td>\n",
       "      <td>2327.240015</td>\n",
       "      <td>0</td>\n",
       "      <td>0.014436</td>\n",
       "      <td>1049.970071</td>\n",
       "      <td>0</td>\n",
       "      <td>INDIA</td>\n",
       "    </tr>\n",
       "    <tr>\n",
       "      <th>220873</th>\n",
       "      <td>3780.850098</td>\n",
       "      <td>3851.850098</td>\n",
       "      <td>3780.850098</td>\n",
       "      <td>3838.000000</td>\n",
       "      <td>3838.000000</td>\n",
       "      <td>1905190</td>\n",
       "      <td>LT.NS</td>\n",
       "      <td>2024</td>\n",
       "      <td>4</td>\n",
       "      <td>0</td>\n",
       "      <td>...</td>\n",
       "      <td>1.257886</td>\n",
       "      <td>2.010850</td>\n",
       "      <td>0.992144</td>\n",
       "      <td>3626.594971</td>\n",
       "      <td>3618.109985</td>\n",
       "      <td>1</td>\n",
       "      <td>0.018499</td>\n",
       "      <td>2188.619806</td>\n",
       "      <td>0</td>\n",
       "      <td>INDIA</td>\n",
       "    </tr>\n",
       "  </tbody>\n",
       "</table>\n",
       "<p>5 rows × 25 columns</p>\n",
       "</div>\n",
       "    <div class=\"colab-df-buttons\">\n",
       "\n",
       "  <div class=\"colab-df-container\">\n",
       "    <button class=\"colab-df-convert\" onclick=\"convertToInteractive('df-ccfe7d88-a6c7-4c2e-98d2-523d6fa8d0bf')\"\n",
       "            title=\"Convert this dataframe to an interactive table.\"\n",
       "            style=\"display:none;\">\n",
       "\n",
       "  <svg xmlns=\"http://www.w3.org/2000/svg\" height=\"24px\" viewBox=\"0 -960 960 960\">\n",
       "    <path d=\"M120-120v-720h720v720H120Zm60-500h600v-160H180v160Zm220 220h160v-160H400v160Zm0 220h160v-160H400v160ZM180-400h160v-160H180v160Zm440 0h160v-160H620v160ZM180-180h160v-160H180v160Zm440 0h160v-160H620v160Z\"/>\n",
       "  </svg>\n",
       "    </button>\n",
       "\n",
       "  <style>\n",
       "    .colab-df-container {\n",
       "      display:flex;\n",
       "      gap: 12px;\n",
       "    }\n",
       "\n",
       "    .colab-df-convert {\n",
       "      background-color: #E8F0FE;\n",
       "      border: none;\n",
       "      border-radius: 50%;\n",
       "      cursor: pointer;\n",
       "      display: none;\n",
       "      fill: #1967D2;\n",
       "      height: 32px;\n",
       "      padding: 0 0 0 0;\n",
       "      width: 32px;\n",
       "    }\n",
       "\n",
       "    .colab-df-convert:hover {\n",
       "      background-color: #E2EBFA;\n",
       "      box-shadow: 0px 1px 2px rgba(60, 64, 67, 0.3), 0px 1px 3px 1px rgba(60, 64, 67, 0.15);\n",
       "      fill: #174EA6;\n",
       "    }\n",
       "\n",
       "    .colab-df-buttons div {\n",
       "      margin-bottom: 4px;\n",
       "    }\n",
       "\n",
       "    [theme=dark] .colab-df-convert {\n",
       "      background-color: #3B4455;\n",
       "      fill: #D2E3FC;\n",
       "    }\n",
       "\n",
       "    [theme=dark] .colab-df-convert:hover {\n",
       "      background-color: #434B5C;\n",
       "      box-shadow: 0px 1px 3px 1px rgba(0, 0, 0, 0.15);\n",
       "      filter: drop-shadow(0px 1px 2px rgba(0, 0, 0, 0.3));\n",
       "      fill: #FFFFFF;\n",
       "    }\n",
       "  </style>\n",
       "\n",
       "    <script>\n",
       "      const buttonEl =\n",
       "        document.querySelector('#df-ccfe7d88-a6c7-4c2e-98d2-523d6fa8d0bf button.colab-df-convert');\n",
       "      buttonEl.style.display =\n",
       "        google.colab.kernel.accessAllowed ? 'block' : 'none';\n",
       "\n",
       "      async function convertToInteractive(key) {\n",
       "        const element = document.querySelector('#df-ccfe7d88-a6c7-4c2e-98d2-523d6fa8d0bf');\n",
       "        const dataTable =\n",
       "          await google.colab.kernel.invokeFunction('convertToInteractive',\n",
       "                                                    [key], {});\n",
       "        if (!dataTable) return;\n",
       "\n",
       "        const docLinkHtml = 'Like what you see? Visit the ' +\n",
       "          '<a target=\"_blank\" href=https://colab.research.google.com/notebooks/data_table.ipynb>data table notebook</a>'\n",
       "          + ' to learn more about interactive tables.';\n",
       "        element.innerHTML = '';\n",
       "        dataTable['output_type'] = 'display_data';\n",
       "        await google.colab.output.renderOutput(dataTable, element);\n",
       "        const docLink = document.createElement('div');\n",
       "        docLink.innerHTML = docLinkHtml;\n",
       "        element.appendChild(docLink);\n",
       "      }\n",
       "    </script>\n",
       "  </div>\n",
       "\n",
       "\n",
       "<div id=\"df-5f73d462-b852-46ef-b937-ac97878e751c\">\n",
       "  <button class=\"colab-df-quickchart\" onclick=\"quickchart('df-5f73d462-b852-46ef-b937-ac97878e751c')\"\n",
       "            title=\"Suggest charts\"\n",
       "            style=\"display:none;\">\n",
       "\n",
       "<svg xmlns=\"http://www.w3.org/2000/svg\" height=\"24px\"viewBox=\"0 0 24 24\"\n",
       "     width=\"24px\">\n",
       "    <g>\n",
       "        <path d=\"M19 3H5c-1.1 0-2 .9-2 2v14c0 1.1.9 2 2 2h14c1.1 0 2-.9 2-2V5c0-1.1-.9-2-2-2zM9 17H7v-7h2v7zm4 0h-2V7h2v10zm4 0h-2v-4h2v4z\"/>\n",
       "    </g>\n",
       "</svg>\n",
       "  </button>\n",
       "\n",
       "<style>\n",
       "  .colab-df-quickchart {\n",
       "      --bg-color: #E8F0FE;\n",
       "      --fill-color: #1967D2;\n",
       "      --hover-bg-color: #E2EBFA;\n",
       "      --hover-fill-color: #174EA6;\n",
       "      --disabled-fill-color: #AAA;\n",
       "      --disabled-bg-color: #DDD;\n",
       "  }\n",
       "\n",
       "  [theme=dark] .colab-df-quickchart {\n",
       "      --bg-color: #3B4455;\n",
       "      --fill-color: #D2E3FC;\n",
       "      --hover-bg-color: #434B5C;\n",
       "      --hover-fill-color: #FFFFFF;\n",
       "      --disabled-bg-color: #3B4455;\n",
       "      --disabled-fill-color: #666;\n",
       "  }\n",
       "\n",
       "  .colab-df-quickchart {\n",
       "    background-color: var(--bg-color);\n",
       "    border: none;\n",
       "    border-radius: 50%;\n",
       "    cursor: pointer;\n",
       "    display: none;\n",
       "    fill: var(--fill-color);\n",
       "    height: 32px;\n",
       "    padding: 0;\n",
       "    width: 32px;\n",
       "  }\n",
       "\n",
       "  .colab-df-quickchart:hover {\n",
       "    background-color: var(--hover-bg-color);\n",
       "    box-shadow: 0 1px 2px rgba(60, 64, 67, 0.3), 0 1px 3px 1px rgba(60, 64, 67, 0.15);\n",
       "    fill: var(--button-hover-fill-color);\n",
       "  }\n",
       "\n",
       "  .colab-df-quickchart-complete:disabled,\n",
       "  .colab-df-quickchart-complete:disabled:hover {\n",
       "    background-color: var(--disabled-bg-color);\n",
       "    fill: var(--disabled-fill-color);\n",
       "    box-shadow: none;\n",
       "  }\n",
       "\n",
       "  .colab-df-spinner {\n",
       "    border: 2px solid var(--fill-color);\n",
       "    border-color: transparent;\n",
       "    border-bottom-color: var(--fill-color);\n",
       "    animation:\n",
       "      spin 1s steps(1) infinite;\n",
       "  }\n",
       "\n",
       "  @keyframes spin {\n",
       "    0% {\n",
       "      border-color: transparent;\n",
       "      border-bottom-color: var(--fill-color);\n",
       "      border-left-color: var(--fill-color);\n",
       "    }\n",
       "    20% {\n",
       "      border-color: transparent;\n",
       "      border-left-color: var(--fill-color);\n",
       "      border-top-color: var(--fill-color);\n",
       "    }\n",
       "    30% {\n",
       "      border-color: transparent;\n",
       "      border-left-color: var(--fill-color);\n",
       "      border-top-color: var(--fill-color);\n",
       "      border-right-color: var(--fill-color);\n",
       "    }\n",
       "    40% {\n",
       "      border-color: transparent;\n",
       "      border-right-color: var(--fill-color);\n",
       "      border-top-color: var(--fill-color);\n",
       "    }\n",
       "    60% {\n",
       "      border-color: transparent;\n",
       "      border-right-color: var(--fill-color);\n",
       "    }\n",
       "    80% {\n",
       "      border-color: transparent;\n",
       "      border-right-color: var(--fill-color);\n",
       "      border-bottom-color: var(--fill-color);\n",
       "    }\n",
       "    90% {\n",
       "      border-color: transparent;\n",
       "      border-bottom-color: var(--fill-color);\n",
       "    }\n",
       "  }\n",
       "</style>\n",
       "\n",
       "  <script>\n",
       "    async function quickchart(key) {\n",
       "      const quickchartButtonEl =\n",
       "        document.querySelector('#' + key + ' button');\n",
       "      quickchartButtonEl.disabled = true;  // To prevent multiple clicks.\n",
       "      quickchartButtonEl.classList.add('colab-df-spinner');\n",
       "      try {\n",
       "        const charts = await google.colab.kernel.invokeFunction(\n",
       "            'suggestCharts', [key], {});\n",
       "      } catch (error) {\n",
       "        console.error('Error during call to suggestCharts:', error);\n",
       "      }\n",
       "      quickchartButtonEl.classList.remove('colab-df-spinner');\n",
       "      quickchartButtonEl.classList.add('colab-df-quickchart-complete');\n",
       "    }\n",
       "    (() => {\n",
       "      let quickchartButtonEl =\n",
       "        document.querySelector('#df-5f73d462-b852-46ef-b937-ac97878e751c button');\n",
       "      quickchartButtonEl.style.display =\n",
       "        google.colab.kernel.accessAllowed ? 'block' : 'none';\n",
       "    })();\n",
       "  </script>\n",
       "</div>\n",
       "    </div>\n",
       "  </div>\n"
      ],
      "text/plain": [
       "               Open         High          Low        Close    Adj Close  \\\n",
       "194903   925.000000   984.450012   924.000000   970.599976   970.599976   \n",
       "201224    17.889999    17.920000    17.500000    17.580000    17.580000   \n",
       "208338   429.100006   431.350006   425.750000   426.700012   426.700012   \n",
       "215453  2270.000000  2295.000000  2262.000000  2285.899902  2285.899902   \n",
       "220873  3780.850098  3851.850098  3780.850098  3838.000000  3838.000000   \n",
       "\n",
       "          Volume         Ticker  Year  Month  Weekday  ... growth_90d  \\\n",
       "194903   4863536        LICI.NS  2024      4        0  ...   1.599113   \n",
       "201224  14601600           INFY  2024      4        0  ...   1.003998   \n",
       "208338   9382308         ITC.NS  2024      4        0  ...   0.987044   \n",
       "215453   1427873  HINDUNILVR.NS  2024      4        0  ...   0.917590   \n",
       "220873   1905190          LT.NS  2024      4        0  ...   1.257886   \n",
       "\n",
       "        growth_365d  growth_future_5d        SMA10        SMA20  \\\n",
       "194903     1.556710          1.026891   906.085004   953.950003   \n",
       "201224     1.024508          1.015927    18.156000    18.777500   \n",
       "208338     1.314436          1.005625   422.235004   416.537502   \n",
       "215453     0.894051          0.992585  2266.539990  2327.240015   \n",
       "220873     2.010850          0.992144  3626.594971  3618.109985   \n",
       "\n",
       "        growing_moving_average  high_minus_low_relative   volatility  \\\n",
       "194903                       0                 0.062281  1034.237352   \n",
       "201224                       0                 0.023891    13.940634   \n",
       "208338                       1                 0.013124   130.246651   \n",
       "215453                       0                 0.014436  1049.970071   \n",
       "220873                       1                 0.018499  2188.619806   \n",
       "\n",
       "        is_positive_growth_5d_future  ticker_type  \n",
       "194903                             1        INDIA  \n",
       "201224                             1        INDIA  \n",
       "208338                             1        INDIA  \n",
       "215453                             0        INDIA  \n",
       "220873                             0        INDIA  \n",
       "\n",
       "[5 rows x 25 columns]"
      ]
     },
     "metadata": {},
     "output_type": "display_data"
    }
   ],
   "source": [
    "stocks_df[stocks_df.Date=='2024-04-01'].tail()"
   ]
  },
  {
   "cell_type": "code",
   "execution_count": null,
   "metadata": {},
   "outputs": [
    {
     "data": {
      "text/plain": [
       "['MSFT',\n",
       " 'AAPL',\n",
       " 'GOOG',\n",
       " 'NVDA',\n",
       " 'AMZN',\n",
       " 'META',\n",
       " 'BRK-B',\n",
       " 'LLY',\n",
       " 'AVGO',\n",
       " 'V',\n",
       " 'JPM',\n",
       " 'NVO',\n",
       " 'MC.PA',\n",
       " 'ASML',\n",
       " 'RMS.PA',\n",
       " 'OR.PA',\n",
       " 'SAP',\n",
       " 'ACN',\n",
       " 'TTE',\n",
       " 'SIE.DE',\n",
       " 'IDEXY',\n",
       " 'CDI.PA',\n",
       " 'RELIANCE.NS',\n",
       " 'TCS.NS',\n",
       " 'HDB',\n",
       " 'BHARTIARTL.NS',\n",
       " 'IBN',\n",
       " 'SBIN.NS',\n",
       " 'LICI.NS',\n",
       " 'INFY',\n",
       " 'ITC.NS',\n",
       " 'HINDUNILVR.NS',\n",
       " 'LT.NS']"
      ]
     },
     "metadata": {},
     "output_type": "display_data"
    }
   ],
   "source": [
    "ALL_TICKERS = US_STOCKS  + EU_STOCKS + INDIA_STOCKS\n",
    "ALL_TICKERS"
   ]
  },
  {
   "cell_type": "code",
   "execution_count": null,
   "metadata": {},
   "outputs": [
    {
     "name": "stdout",
     "output_type": "stream",
     "text": [
      "0 MSFT\n"
     ]
    },
    {
     "name": "stderr",
     "output_type": "stream",
     "text": [
      "\r[*********************100%%**********************]  1 of 1 completed\n"
     ]
    },
    {
     "name": "stdout",
     "output_type": "stream",
     "text": [
      "1 AAPL\n"
     ]
    },
    {
     "name": "stderr",
     "output_type": "stream",
     "text": [
      "\r[*********************100%%**********************]  1 of 1 completed\n"
     ]
    },
    {
     "name": "stdout",
     "output_type": "stream",
     "text": [
      "2 GOOG\n"
     ]
    },
    {
     "name": "stderr",
     "output_type": "stream",
     "text": [
      "\r[*********************100%%**********************]  1 of 1 completed\n"
     ]
    },
    {
     "name": "stdout",
     "output_type": "stream",
     "text": [
      "3 NVDA\n"
     ]
    },
    {
     "name": "stderr",
     "output_type": "stream",
     "text": [
      "\r[*********************100%%**********************]  1 of 1 completed\n"
     ]
    },
    {
     "name": "stdout",
     "output_type": "stream",
     "text": [
      "4 AMZN\n"
     ]
    },
    {
     "name": "stderr",
     "output_type": "stream",
     "text": [
      "\r[*********************100%%**********************]  1 of 1 completed\n"
     ]
    },
    {
     "name": "stdout",
     "output_type": "stream",
     "text": [
      "5 META\n"
     ]
    },
    {
     "name": "stderr",
     "output_type": "stream",
     "text": [
      "\r[*********************100%%**********************]  1 of 1 completed\n"
     ]
    },
    {
     "name": "stdout",
     "output_type": "stream",
     "text": [
      "6 BRK-B\n"
     ]
    },
    {
     "name": "stderr",
     "output_type": "stream",
     "text": [
      "\r[*********************100%%**********************]  1 of 1 completed\n"
     ]
    },
    {
     "name": "stdout",
     "output_type": "stream",
     "text": [
      "7 LLY\n"
     ]
    },
    {
     "name": "stderr",
     "output_type": "stream",
     "text": [
      "\r[*********************100%%**********************]  1 of 1 completed\n"
     ]
    },
    {
     "name": "stdout",
     "output_type": "stream",
     "text": [
      "8 AVGO\n"
     ]
    },
    {
     "name": "stderr",
     "output_type": "stream",
     "text": [
      "\r[*********************100%%**********************]  1 of 1 completed\n"
     ]
    },
    {
     "name": "stdout",
     "output_type": "stream",
     "text": [
      "9 V\n"
     ]
    },
    {
     "name": "stderr",
     "output_type": "stream",
     "text": [
      "\r[*********************100%%**********************]  1 of 1 completed\n"
     ]
    },
    {
     "name": "stdout",
     "output_type": "stream",
     "text": [
      "10 JPM\n"
     ]
    },
    {
     "name": "stderr",
     "output_type": "stream",
     "text": [
      "\r[*********************100%%**********************]  1 of 1 completed\n"
     ]
    },
    {
     "name": "stdout",
     "output_type": "stream",
     "text": [
      "11 NVO\n"
     ]
    },
    {
     "name": "stderr",
     "output_type": "stream",
     "text": [
      "\r[*********************100%%**********************]  1 of 1 completed\n"
     ]
    },
    {
     "name": "stdout",
     "output_type": "stream",
     "text": [
      "12 MC.PA\n"
     ]
    },
    {
     "name": "stderr",
     "output_type": "stream",
     "text": [
      "\r[*********************100%%**********************]  1 of 1 completed\n"
     ]
    },
    {
     "name": "stdout",
     "output_type": "stream",
     "text": [
      "13 ASML\n"
     ]
    },
    {
     "name": "stderr",
     "output_type": "stream",
     "text": [
      "\r[*********************100%%**********************]  1 of 1 completed\n"
     ]
    },
    {
     "name": "stdout",
     "output_type": "stream",
     "text": [
      "14 RMS.PA\n"
     ]
    },
    {
     "name": "stderr",
     "output_type": "stream",
     "text": [
      "\r[*********************100%%**********************]  1 of 1 completed\n"
     ]
    },
    {
     "name": "stdout",
     "output_type": "stream",
     "text": [
      "15 OR.PA\n"
     ]
    },
    {
     "name": "stderr",
     "output_type": "stream",
     "text": [
      "\r[*********************100%%**********************]  1 of 1 completed\n"
     ]
    },
    {
     "name": "stdout",
     "output_type": "stream",
     "text": [
      "16 SAP\n"
     ]
    },
    {
     "name": "stderr",
     "output_type": "stream",
     "text": [
      "\r[*********************100%%**********************]  1 of 1 completed\n"
     ]
    },
    {
     "name": "stdout",
     "output_type": "stream",
     "text": [
      "17 ACN\n"
     ]
    },
    {
     "name": "stderr",
     "output_type": "stream",
     "text": [
      "\r[*********************100%%**********************]  1 of 1 completed\n"
     ]
    },
    {
     "name": "stdout",
     "output_type": "stream",
     "text": [
      "18 TTE\n"
     ]
    },
    {
     "name": "stderr",
     "output_type": "stream",
     "text": [
      "\r[*********************100%%**********************]  1 of 1 completed\n"
     ]
    },
    {
     "name": "stdout",
     "output_type": "stream",
     "text": [
      "19 SIE.DE\n"
     ]
    },
    {
     "name": "stderr",
     "output_type": "stream",
     "text": [
      "\r[*********************100%%**********************]  1 of 1 completed\n"
     ]
    },
    {
     "name": "stdout",
     "output_type": "stream",
     "text": [
      "20 IDEXY\n"
     ]
    },
    {
     "name": "stderr",
     "output_type": "stream",
     "text": [
      "\r[*********************100%%**********************]  1 of 1 completed\n"
     ]
    },
    {
     "name": "stdout",
     "output_type": "stream",
     "text": [
      "21 CDI.PA\n"
     ]
    },
    {
     "name": "stderr",
     "output_type": "stream",
     "text": [
      "\r[*********************100%%**********************]  1 of 1 completed\n"
     ]
    },
    {
     "name": "stdout",
     "output_type": "stream",
     "text": [
      "22 RELIANCE.NS\n"
     ]
    },
    {
     "name": "stderr",
     "output_type": "stream",
     "text": [
      "\r[*********************100%%**********************]  1 of 1 completed\n"
     ]
    },
    {
     "name": "stdout",
     "output_type": "stream",
     "text": [
      "23 TCS.NS\n"
     ]
    },
    {
     "name": "stderr",
     "output_type": "stream",
     "text": [
      "\r[*********************100%%**********************]  1 of 1 completed\n"
     ]
    },
    {
     "name": "stdout",
     "output_type": "stream",
     "text": [
      "24 HDB\n"
     ]
    },
    {
     "name": "stderr",
     "output_type": "stream",
     "text": [
      "\r[*********************100%%**********************]  1 of 1 completed\n"
     ]
    },
    {
     "name": "stdout",
     "output_type": "stream",
     "text": [
      "25 BHARTIARTL.NS\n"
     ]
    },
    {
     "name": "stderr",
     "output_type": "stream",
     "text": [
      "\r[*********************100%%**********************]  1 of 1 completed\n"
     ]
    },
    {
     "name": "stdout",
     "output_type": "stream",
     "text": [
      "26 IBN\n"
     ]
    },
    {
     "name": "stderr",
     "output_type": "stream",
     "text": [
      "\r[*********************100%%**********************]  1 of 1 completed\n"
     ]
    },
    {
     "name": "stdout",
     "output_type": "stream",
     "text": [
      "27 SBIN.NS\n"
     ]
    },
    {
     "name": "stderr",
     "output_type": "stream",
     "text": [
      "[*********************100%%**********************]  1 of 1 completed\n",
      "[*********************100%%**********************]  1 of 1 completed"
     ]
    },
    {
     "name": "stdout",
     "output_type": "stream",
     "text": [
      "28 LICI.NS\n"
     ]
    },
    {
     "name": "stderr",
     "output_type": "stream",
     "text": [
      "\n"
     ]
    },
    {
     "name": "stdout",
     "output_type": "stream",
     "text": [
      "29 INFY\n"
     ]
    },
    {
     "name": "stderr",
     "output_type": "stream",
     "text": [
      "\r[*********************100%%**********************]  1 of 1 completed\n"
     ]
    },
    {
     "name": "stdout",
     "output_type": "stream",
     "text": [
      "30 ITC.NS\n"
     ]
    },
    {
     "name": "stderr",
     "output_type": "stream",
     "text": [
      "\r[*********************100%%**********************]  1 of 1 completed\n"
     ]
    },
    {
     "name": "stdout",
     "output_type": "stream",
     "text": [
      "31 HINDUNILVR.NS\n"
     ]
    },
    {
     "name": "stderr",
     "output_type": "stream",
     "text": [
      "\r[*********************100%%**********************]  1 of 1 completed\n"
     ]
    },
    {
     "name": "stdout",
     "output_type": "stream",
     "text": [
      "32 LT.NS\n"
     ]
    },
    {
     "name": "stderr",
     "output_type": "stream",
     "text": [
      "\r[*********************100%%**********************]  1 of 1 completed\n"
     ]
    }
   ],
   "source": [
    "import time\n",
    "\n",
    "stocks_df = pd.DataFrame({'A' : []})\n",
    "\n",
    "for i,ticker in enumerate(ALL_TICKERS):\n",
    "  print(i,ticker)\n",
    "\n",
    "  # Work with stock prices\n",
    "  historyPrices = yf.download(tickers = ticker,\n",
    "                     period = \"max\",\n",
    "                     interval = \"1d\")\n",
    "\n",
    "  # generate features for historical prices, and what we want to predict\n",
    "  historyPrices['Ticker'] = ticker\n",
    "  historyPrices['Year']= historyPrices.index.year\n",
    "  historyPrices['Month'] = historyPrices.index.month\n",
    "  historyPrices['Weekday'] = historyPrices.index.weekday\n",
    "  historyPrices['Date'] = historyPrices.index.date\n",
    "\n",
    "  # historical returns\n",
    "  for i in [1,3,7,30,90,365]:\n",
    "    historyPrices['growth_'+str(i)+'d'] = historyPrices['Adj Close'] / historyPrices['Adj Close'].shift(i)\n",
    "  historyPrices['growth_future_5d'] = historyPrices['Adj Close'].shift(-5) / historyPrices['Adj Close']\n",
    "\n",
    "  # Technical indicators\n",
    "  # SimpleMovingAverage 10 days and 20 days\n",
    "  historyPrices['SMA10']= historyPrices['Close'].rolling(10).mean()\n",
    "  historyPrices['SMA20']= historyPrices['Close'].rolling(20).mean()\n",
    "  historyPrices['growing_moving_average'] = np.where(historyPrices['SMA10'] > historyPrices['SMA20'], 1, 0)\n",
    "  historyPrices['high_minus_low_relative'] = (historyPrices.High - historyPrices.Low) / historyPrices['Adj Close']\n",
    "\n",
    "  # 30d rolling volatility : https://ycharts.com/glossary/terms/rolling_vol_30\n",
    "  historyPrices['volatility'] =   historyPrices['Adj Close'].rolling(30).std() * np.sqrt(252)\n",
    "\n",
    "  # what we want to predict\n",
    "  historyPrices['is_positive_growth_5d_future'] = np.where(historyPrices['growth_future_5d'] > 1, 1, 0)\n",
    "\n",
    "  # sleep 1 sec between downloads - not to overload the API server\n",
    "  time.sleep(1)\n",
    "\n",
    "\n",
    "  if stocks_df.empty:\n",
    "    stocks_df = historyPrices\n",
    "  else:\n",
    "    stocks_df = pd.concat([stocks_df, historyPrices], ignore_index=True)"
   ]
  },
  {
   "cell_type": "code",
   "execution_count": null,
   "metadata": {},
   "outputs": [],
   "source": [
    "def get_ticker_type(ticker:str, us_stocks_list, eu_stocks_list, india_stocks_list):\n",
    "  if ticker in us_stocks_list:\n",
    "    return 'US'\n",
    "  elif ticker in eu_stocks_list:\n",
    "    return 'EU'\n",
    "  elif ticker in india_stocks_list:\n",
    "    return 'INDIA'\n",
    "  else:\n",
    "    return 'ERROR'\n"
   ]
  },
  {
   "cell_type": "code",
   "execution_count": null,
   "metadata": {},
   "outputs": [],
   "source": [
    "stocks_df['ticker_type'] = stocks_df.Ticker.apply(lambda x:get_ticker_type(x, US_STOCKS, EU_STOCKS, INDIA_STOCKS))"
   ]
  },
  {
   "cell_type": "code",
   "execution_count": null,
   "metadata": {},
   "outputs": [
    {
     "data": {
      "text/plain": [
       "ticker_type\n",
       "US       80639\n",
       "EU       76986\n",
       "INDIA    63265\n",
       "Name: count, dtype: int64"
      ]
     },
     "metadata": {},
     "output_type": "display_data"
    }
   ],
   "source": [
    "# count of observations between US-EU-INDIA stocks\n",
    "stocks_df.ticker_type.value_counts()"
   ]
  },
  {
   "cell_type": "code",
   "execution_count": null,
   "metadata": {},
   "outputs": [
    {
     "data": {
      "text/plain": [
       "33"
      ]
     },
     "metadata": {},
     "output_type": "display_data"
    }
   ],
   "source": [
    "# unique tickers\n",
    "stocks_df.Ticker.nunique()"
   ]
  },
  {
   "cell_type": "code",
   "execution_count": null,
   "metadata": {},
   "outputs": [
    {
     "data": {
      "text/plain": [
       "Ticker\n",
       "LLY              13087\n",
       "JPM              11121\n",
       "AAPL             10933\n",
       "NVO              10838\n",
       "MSFT              9607\n",
       "CDI.PA            8321\n",
       "TTE               8185\n",
       "ASML              7330\n",
       "SAP               7201\n",
       "HINDUNILVR.NS     7115\n",
       "SBIN.NS           7113\n",
       "RELIANCE.NS       7112\n",
       "ITC.NS            7112\n",
       "SIE.DE            7039\n",
       "BRK-B             7038\n",
       "AMZN              6780\n",
       "NVDA              6356\n",
       "INFY              6323\n",
       "MC.PA             6251\n",
       "RMS.PA            6251\n",
       "OR.PA             6251\n",
       "IBN               6058\n",
       "ACN               5728\n",
       "HDB               5727\n",
       "LT.NS             5420\n",
       "BHARTIARTL.NS     5417\n",
       "TCS.NS            5388\n",
       "GOOG              4955\n",
       "V                 4054\n",
       "AVGO              3705\n",
       "IDEXY             3591\n",
       "META              3003\n",
       "LICI.NS            480\n",
       "Name: count, dtype: int64"
      ]
     },
     "metadata": {},
     "output_type": "display_data"
    }
   ],
   "source": [
    "# count of observations by stock\n",
    "stocks_df.Ticker.value_counts()"
   ]
  },
  {
   "cell_type": "code",
   "execution_count": null,
   "metadata": {},
   "outputs": [
    {
     "data": {
      "application/vnd.google.colaboratory.intrinsic+json": {
       "summary": "{\n  \"name\": \"stocks_df\",\n  \"rows\": 33,\n  \"fields\": [\n    {\n      \"column\": \"min\",\n      \"properties\": {\n        \"dtype\": \"date\",\n        \"min\": \"1972-06-01\",\n        \"max\": \"2022-05-17\",\n        \"num_unique_values\": 27,\n        \"samples\": [\n          \"2004-08-19\",\n          \"1999-03-11\",\n          \"2001-07-20\"\n        ],\n        \"semantic_type\": \"\",\n        \"description\": \"\"\n      }\n    },\n    {\n      \"column\": \"max\",\n      \"properties\": {\n        \"dtype\": \"date\",\n        \"min\": \"2024-04-24\",\n        \"max\": \"2024-04-25\",\n        \"num_unique_values\": 2,\n        \"samples\": [\n          \"2024-04-24\",\n          \"2024-04-25\"\n        ],\n        \"semantic_type\": \"\",\n        \"description\": \"\"\n      }\n    }\n  ]\n}",
       "type": "dataframe"
      },
      "text/html": [
       "\n",
       "  <div id=\"df-a567f221-70b9-4459-aa53-76cc7a99cef8\" class=\"colab-df-container\">\n",
       "    <div>\n",
       "<style scoped>\n",
       "    .dataframe tbody tr th:only-of-type {\n",
       "        vertical-align: middle;\n",
       "    }\n",
       "\n",
       "    .dataframe tbody tr th {\n",
       "        vertical-align: top;\n",
       "    }\n",
       "\n",
       "    .dataframe thead th {\n",
       "        text-align: right;\n",
       "    }\n",
       "</style>\n",
       "<table border=\"1\" class=\"dataframe\">\n",
       "  <thead>\n",
       "    <tr style=\"text-align: right;\">\n",
       "      <th></th>\n",
       "      <th></th>\n",
       "      <th>min</th>\n",
       "      <th>max</th>\n",
       "    </tr>\n",
       "    <tr>\n",
       "      <th>Ticker</th>\n",
       "      <th>ticker_type</th>\n",
       "      <th></th>\n",
       "      <th></th>\n",
       "    </tr>\n",
       "  </thead>\n",
       "  <tbody>\n",
       "    <tr>\n",
       "      <th>AAPL</th>\n",
       "      <th>US</th>\n",
       "      <td>1980-12-12</td>\n",
       "      <td>2024-04-25</td>\n",
       "    </tr>\n",
       "    <tr>\n",
       "      <th>ACN</th>\n",
       "      <th>EU</th>\n",
       "      <td>2001-07-19</td>\n",
       "      <td>2024-04-25</td>\n",
       "    </tr>\n",
       "    <tr>\n",
       "      <th>AMZN</th>\n",
       "      <th>US</th>\n",
       "      <td>1997-05-15</td>\n",
       "      <td>2024-04-24</td>\n",
       "    </tr>\n",
       "    <tr>\n",
       "      <th>ASML</th>\n",
       "      <th>EU</th>\n",
       "      <td>1995-03-15</td>\n",
       "      <td>2024-04-25</td>\n",
       "    </tr>\n",
       "    <tr>\n",
       "      <th>AVGO</th>\n",
       "      <th>US</th>\n",
       "      <td>2009-08-06</td>\n",
       "      <td>2024-04-25</td>\n",
       "    </tr>\n",
       "    <tr>\n",
       "      <th>BHARTIARTL.NS</th>\n",
       "      <th>INDIA</th>\n",
       "      <td>2002-07-01</td>\n",
       "      <td>2024-04-25</td>\n",
       "    </tr>\n",
       "    <tr>\n",
       "      <th>BRK-B</th>\n",
       "      <th>US</th>\n",
       "      <td>1996-05-09</td>\n",
       "      <td>2024-04-25</td>\n",
       "    </tr>\n",
       "    <tr>\n",
       "      <th>CDI.PA</th>\n",
       "      <th>EU</th>\n",
       "      <td>1992-01-27</td>\n",
       "      <td>2024-04-25</td>\n",
       "    </tr>\n",
       "    <tr>\n",
       "      <th>GOOG</th>\n",
       "      <th>US</th>\n",
       "      <td>2004-08-19</td>\n",
       "      <td>2024-04-25</td>\n",
       "    </tr>\n",
       "    <tr>\n",
       "      <th>HDB</th>\n",
       "      <th>INDIA</th>\n",
       "      <td>2001-07-20</td>\n",
       "      <td>2024-04-25</td>\n",
       "    </tr>\n",
       "    <tr>\n",
       "      <th>HINDUNILVR.NS</th>\n",
       "      <th>INDIA</th>\n",
       "      <td>1996-01-01</td>\n",
       "      <td>2024-04-25</td>\n",
       "    </tr>\n",
       "    <tr>\n",
       "      <th>IBN</th>\n",
       "      <th>INDIA</th>\n",
       "      <td>2000-03-28</td>\n",
       "      <td>2024-04-25</td>\n",
       "    </tr>\n",
       "    <tr>\n",
       "      <th>IDEXY</th>\n",
       "      <th>EU</th>\n",
       "      <td>2010-01-20</td>\n",
       "      <td>2024-04-25</td>\n",
       "    </tr>\n",
       "    <tr>\n",
       "      <th>INFY</th>\n",
       "      <th>INDIA</th>\n",
       "      <td>1999-03-11</td>\n",
       "      <td>2024-04-25</td>\n",
       "    </tr>\n",
       "    <tr>\n",
       "      <th>ITC.NS</th>\n",
       "      <th>INDIA</th>\n",
       "      <td>1996-01-01</td>\n",
       "      <td>2024-04-25</td>\n",
       "    </tr>\n",
       "    <tr>\n",
       "      <th>JPM</th>\n",
       "      <th>US</th>\n",
       "      <td>1980-03-17</td>\n",
       "      <td>2024-04-25</td>\n",
       "    </tr>\n",
       "    <tr>\n",
       "      <th>LICI.NS</th>\n",
       "      <th>INDIA</th>\n",
       "      <td>2022-05-17</td>\n",
       "      <td>2024-04-25</td>\n",
       "    </tr>\n",
       "    <tr>\n",
       "      <th>LLY</th>\n",
       "      <th>US</th>\n",
       "      <td>1972-06-01</td>\n",
       "      <td>2024-04-25</td>\n",
       "    </tr>\n",
       "    <tr>\n",
       "      <th>LT.NS</th>\n",
       "      <th>INDIA</th>\n",
       "      <td>2002-07-01</td>\n",
       "      <td>2024-04-25</td>\n",
       "    </tr>\n",
       "    <tr>\n",
       "      <th>MC.PA</th>\n",
       "      <th>EU</th>\n",
       "      <td>2000-01-03</td>\n",
       "      <td>2024-04-25</td>\n",
       "    </tr>\n",
       "    <tr>\n",
       "      <th>META</th>\n",
       "      <th>US</th>\n",
       "      <td>2012-05-18</td>\n",
       "      <td>2024-04-25</td>\n",
       "    </tr>\n",
       "    <tr>\n",
       "      <th>MSFT</th>\n",
       "      <th>US</th>\n",
       "      <td>1986-03-13</td>\n",
       "      <td>2024-04-25</td>\n",
       "    </tr>\n",
       "    <tr>\n",
       "      <th>NVDA</th>\n",
       "      <th>US</th>\n",
       "      <td>1999-01-22</td>\n",
       "      <td>2024-04-25</td>\n",
       "    </tr>\n",
       "    <tr>\n",
       "      <th>NVO</th>\n",
       "      <th>EU</th>\n",
       "      <td>1981-04-30</td>\n",
       "      <td>2024-04-25</td>\n",
       "    </tr>\n",
       "    <tr>\n",
       "      <th>OR.PA</th>\n",
       "      <th>EU</th>\n",
       "      <td>2000-01-03</td>\n",
       "      <td>2024-04-25</td>\n",
       "    </tr>\n",
       "    <tr>\n",
       "      <th>RELIANCE.NS</th>\n",
       "      <th>INDIA</th>\n",
       "      <td>1996-01-01</td>\n",
       "      <td>2024-04-25</td>\n",
       "    </tr>\n",
       "    <tr>\n",
       "      <th>RMS.PA</th>\n",
       "      <th>EU</th>\n",
       "      <td>2000-01-03</td>\n",
       "      <td>2024-04-25</td>\n",
       "    </tr>\n",
       "    <tr>\n",
       "      <th>SAP</th>\n",
       "      <th>EU</th>\n",
       "      <td>1995-09-18</td>\n",
       "      <td>2024-04-25</td>\n",
       "    </tr>\n",
       "    <tr>\n",
       "      <th>SBIN.NS</th>\n",
       "      <th>INDIA</th>\n",
       "      <td>1996-01-01</td>\n",
       "      <td>2024-04-25</td>\n",
       "    </tr>\n",
       "    <tr>\n",
       "      <th>SIE.DE</th>\n",
       "      <th>EU</th>\n",
       "      <td>1996-11-08</td>\n",
       "      <td>2024-04-25</td>\n",
       "    </tr>\n",
       "    <tr>\n",
       "      <th>TCS.NS</th>\n",
       "      <th>INDIA</th>\n",
       "      <td>2002-08-12</td>\n",
       "      <td>2024-04-25</td>\n",
       "    </tr>\n",
       "    <tr>\n",
       "      <th>TTE</th>\n",
       "      <th>EU</th>\n",
       "      <td>1991-10-25</td>\n",
       "      <td>2024-04-25</td>\n",
       "    </tr>\n",
       "    <tr>\n",
       "      <th>V</th>\n",
       "      <th>US</th>\n",
       "      <td>2008-03-19</td>\n",
       "      <td>2024-04-25</td>\n",
       "    </tr>\n",
       "  </tbody>\n",
       "</table>\n",
       "</div>\n",
       "    <div class=\"colab-df-buttons\">\n",
       "\n",
       "  <div class=\"colab-df-container\">\n",
       "    <button class=\"colab-df-convert\" onclick=\"convertToInteractive('df-a567f221-70b9-4459-aa53-76cc7a99cef8')\"\n",
       "            title=\"Convert this dataframe to an interactive table.\"\n",
       "            style=\"display:none;\">\n",
       "\n",
       "  <svg xmlns=\"http://www.w3.org/2000/svg\" height=\"24px\" viewBox=\"0 -960 960 960\">\n",
       "    <path d=\"M120-120v-720h720v720H120Zm60-500h600v-160H180v160Zm220 220h160v-160H400v160Zm0 220h160v-160H400v160ZM180-400h160v-160H180v160Zm440 0h160v-160H620v160ZM180-180h160v-160H180v160Zm440 0h160v-160H620v160Z\"/>\n",
       "  </svg>\n",
       "    </button>\n",
       "\n",
       "  <style>\n",
       "    .colab-df-container {\n",
       "      display:flex;\n",
       "      gap: 12px;\n",
       "    }\n",
       "\n",
       "    .colab-df-convert {\n",
       "      background-color: #E8F0FE;\n",
       "      border: none;\n",
       "      border-radius: 50%;\n",
       "      cursor: pointer;\n",
       "      display: none;\n",
       "      fill: #1967D2;\n",
       "      height: 32px;\n",
       "      padding: 0 0 0 0;\n",
       "      width: 32px;\n",
       "    }\n",
       "\n",
       "    .colab-df-convert:hover {\n",
       "      background-color: #E2EBFA;\n",
       "      box-shadow: 0px 1px 2px rgba(60, 64, 67, 0.3), 0px 1px 3px 1px rgba(60, 64, 67, 0.15);\n",
       "      fill: #174EA6;\n",
       "    }\n",
       "\n",
       "    .colab-df-buttons div {\n",
       "      margin-bottom: 4px;\n",
       "    }\n",
       "\n",
       "    [theme=dark] .colab-df-convert {\n",
       "      background-color: #3B4455;\n",
       "      fill: #D2E3FC;\n",
       "    }\n",
       "\n",
       "    [theme=dark] .colab-df-convert:hover {\n",
       "      background-color: #434B5C;\n",
       "      box-shadow: 0px 1px 3px 1px rgba(0, 0, 0, 0.15);\n",
       "      filter: drop-shadow(0px 1px 2px rgba(0, 0, 0, 0.3));\n",
       "      fill: #FFFFFF;\n",
       "    }\n",
       "  </style>\n",
       "\n",
       "    <script>\n",
       "      const buttonEl =\n",
       "        document.querySelector('#df-a567f221-70b9-4459-aa53-76cc7a99cef8 button.colab-df-convert');\n",
       "      buttonEl.style.display =\n",
       "        google.colab.kernel.accessAllowed ? 'block' : 'none';\n",
       "\n",
       "      async function convertToInteractive(key) {\n",
       "        const element = document.querySelector('#df-a567f221-70b9-4459-aa53-76cc7a99cef8');\n",
       "        const dataTable =\n",
       "          await google.colab.kernel.invokeFunction('convertToInteractive',\n",
       "                                                    [key], {});\n",
       "        if (!dataTable) return;\n",
       "\n",
       "        const docLinkHtml = 'Like what you see? Visit the ' +\n",
       "          '<a target=\"_blank\" href=https://colab.research.google.com/notebooks/data_table.ipynb>data table notebook</a>'\n",
       "          + ' to learn more about interactive tables.';\n",
       "        element.innerHTML = '';\n",
       "        dataTable['output_type'] = 'display_data';\n",
       "        await google.colab.output.renderOutput(dataTable, element);\n",
       "        const docLink = document.createElement('div');\n",
       "        docLink.innerHTML = docLinkHtml;\n",
       "        element.appendChild(docLink);\n",
       "      }\n",
       "    </script>\n",
       "  </div>\n",
       "\n",
       "\n",
       "<div id=\"df-ae43645b-8dd1-4c7a-9cf6-5b8cbc48d8eb\">\n",
       "  <button class=\"colab-df-quickchart\" onclick=\"quickchart('df-ae43645b-8dd1-4c7a-9cf6-5b8cbc48d8eb')\"\n",
       "            title=\"Suggest charts\"\n",
       "            style=\"display:none;\">\n",
       "\n",
       "<svg xmlns=\"http://www.w3.org/2000/svg\" height=\"24px\"viewBox=\"0 0 24 24\"\n",
       "     width=\"24px\">\n",
       "    <g>\n",
       "        <path d=\"M19 3H5c-1.1 0-2 .9-2 2v14c0 1.1.9 2 2 2h14c1.1 0 2-.9 2-2V5c0-1.1-.9-2-2-2zM9 17H7v-7h2v7zm4 0h-2V7h2v10zm4 0h-2v-4h2v4z\"/>\n",
       "    </g>\n",
       "</svg>\n",
       "  </button>\n",
       "\n",
       "<style>\n",
       "  .colab-df-quickchart {\n",
       "      --bg-color: #E8F0FE;\n",
       "      --fill-color: #1967D2;\n",
       "      --hover-bg-color: #E2EBFA;\n",
       "      --hover-fill-color: #174EA6;\n",
       "      --disabled-fill-color: #AAA;\n",
       "      --disabled-bg-color: #DDD;\n",
       "  }\n",
       "\n",
       "  [theme=dark] .colab-df-quickchart {\n",
       "      --bg-color: #3B4455;\n",
       "      --fill-color: #D2E3FC;\n",
       "      --hover-bg-color: #434B5C;\n",
       "      --hover-fill-color: #FFFFFF;\n",
       "      --disabled-bg-color: #3B4455;\n",
       "      --disabled-fill-color: #666;\n",
       "  }\n",
       "\n",
       "  .colab-df-quickchart {\n",
       "    background-color: var(--bg-color);\n",
       "    border: none;\n",
       "    border-radius: 50%;\n",
       "    cursor: pointer;\n",
       "    display: none;\n",
       "    fill: var(--fill-color);\n",
       "    height: 32px;\n",
       "    padding: 0;\n",
       "    width: 32px;\n",
       "  }\n",
       "\n",
       "  .colab-df-quickchart:hover {\n",
       "    background-color: var(--hover-bg-color);\n",
       "    box-shadow: 0 1px 2px rgba(60, 64, 67, 0.3), 0 1px 3px 1px rgba(60, 64, 67, 0.15);\n",
       "    fill: var(--button-hover-fill-color);\n",
       "  }\n",
       "\n",
       "  .colab-df-quickchart-complete:disabled,\n",
       "  .colab-df-quickchart-complete:disabled:hover {\n",
       "    background-color: var(--disabled-bg-color);\n",
       "    fill: var(--disabled-fill-color);\n",
       "    box-shadow: none;\n",
       "  }\n",
       "\n",
       "  .colab-df-spinner {\n",
       "    border: 2px solid var(--fill-color);\n",
       "    border-color: transparent;\n",
       "    border-bottom-color: var(--fill-color);\n",
       "    animation:\n",
       "      spin 1s steps(1) infinite;\n",
       "  }\n",
       "\n",
       "  @keyframes spin {\n",
       "    0% {\n",
       "      border-color: transparent;\n",
       "      border-bottom-color: var(--fill-color);\n",
       "      border-left-color: var(--fill-color);\n",
       "    }\n",
       "    20% {\n",
       "      border-color: transparent;\n",
       "      border-left-color: var(--fill-color);\n",
       "      border-top-color: var(--fill-color);\n",
       "    }\n",
       "    30% {\n",
       "      border-color: transparent;\n",
       "      border-left-color: var(--fill-color);\n",
       "      border-top-color: var(--fill-color);\n",
       "      border-right-color: var(--fill-color);\n",
       "    }\n",
       "    40% {\n",
       "      border-color: transparent;\n",
       "      border-right-color: var(--fill-color);\n",
       "      border-top-color: var(--fill-color);\n",
       "    }\n",
       "    60% {\n",
       "      border-color: transparent;\n",
       "      border-right-color: var(--fill-color);\n",
       "    }\n",
       "    80% {\n",
       "      border-color: transparent;\n",
       "      border-right-color: var(--fill-color);\n",
       "      border-bottom-color: var(--fill-color);\n",
       "    }\n",
       "    90% {\n",
       "      border-color: transparent;\n",
       "      border-bottom-color: var(--fill-color);\n",
       "    }\n",
       "  }\n",
       "</style>\n",
       "\n",
       "  <script>\n",
       "    async function quickchart(key) {\n",
       "      const quickchartButtonEl =\n",
       "        document.querySelector('#' + key + ' button');\n",
       "      quickchartButtonEl.disabled = true;  // To prevent multiple clicks.\n",
       "      quickchartButtonEl.classList.add('colab-df-spinner');\n",
       "      try {\n",
       "        const charts = await google.colab.kernel.invokeFunction(\n",
       "            'suggestCharts', [key], {});\n",
       "      } catch (error) {\n",
       "        console.error('Error during call to suggestCharts:', error);\n",
       "      }\n",
       "      quickchartButtonEl.classList.remove('colab-df-spinner');\n",
       "      quickchartButtonEl.classList.add('colab-df-quickchart-complete');\n",
       "    }\n",
       "    (() => {\n",
       "      let quickchartButtonEl =\n",
       "        document.querySelector('#df-ae43645b-8dd1-4c7a-9cf6-5b8cbc48d8eb button');\n",
       "      quickchartButtonEl.style.display =\n",
       "        google.colab.kernel.accessAllowed ? 'block' : 'none';\n",
       "    })();\n",
       "  </script>\n",
       "</div>\n",
       "    </div>\n",
       "  </div>\n"
      ],
      "text/plain": [
       "                                  min         max\n",
       "Ticker        ticker_type                        \n",
       "AAPL          US           1980-12-12  2024-04-25\n",
       "ACN           EU           2001-07-19  2024-04-25\n",
       "AMZN          US           1997-05-15  2024-04-24\n",
       "ASML          EU           1995-03-15  2024-04-25\n",
       "AVGO          US           2009-08-06  2024-04-25\n",
       "BHARTIARTL.NS INDIA        2002-07-01  2024-04-25\n",
       "BRK-B         US           1996-05-09  2024-04-25\n",
       "CDI.PA        EU           1992-01-27  2024-04-25\n",
       "GOOG          US           2004-08-19  2024-04-25\n",
       "HDB           INDIA        2001-07-20  2024-04-25\n",
       "HINDUNILVR.NS INDIA        1996-01-01  2024-04-25\n",
       "IBN           INDIA        2000-03-28  2024-04-25\n",
       "IDEXY         EU           2010-01-20  2024-04-25\n",
       "INFY          INDIA        1999-03-11  2024-04-25\n",
       "ITC.NS        INDIA        1996-01-01  2024-04-25\n",
       "JPM           US           1980-03-17  2024-04-25\n",
       "LICI.NS       INDIA        2022-05-17  2024-04-25\n",
       "LLY           US           1972-06-01  2024-04-25\n",
       "LT.NS         INDIA        2002-07-01  2024-04-25\n",
       "MC.PA         EU           2000-01-03  2024-04-25\n",
       "META          US           2012-05-18  2024-04-25\n",
       "MSFT          US           1986-03-13  2024-04-25\n",
       "NVDA          US           1999-01-22  2024-04-25\n",
       "NVO           EU           1981-04-30  2024-04-25\n",
       "OR.PA         EU           2000-01-03  2024-04-25\n",
       "RELIANCE.NS   INDIA        1996-01-01  2024-04-25\n",
       "RMS.PA        EU           2000-01-03  2024-04-25\n",
       "SAP           EU           1995-09-18  2024-04-25\n",
       "SBIN.NS       INDIA        1996-01-01  2024-04-25\n",
       "SIE.DE        EU           1996-11-08  2024-04-25\n",
       "TCS.NS        INDIA        2002-08-12  2024-04-25\n",
       "TTE           EU           1991-10-25  2024-04-25\n",
       "V             US           2008-03-19  2024-04-25"
      ]
     },
     "metadata": {},
     "output_type": "display_data"
    }
   ],
   "source": [
    "stocks_df.groupby(['Ticker','ticker_type']).Date.agg(['min','max'])"
   ]
  },
  {
   "cell_type": "code",
   "execution_count": null,
   "metadata": {},
   "outputs": [
    {
     "data": {
      "text/plain": [
       "Year  ticker_type\n",
       "2020  EU             1.245388\n",
       "      INDIA          1.101896\n",
       "      US             1.484070\n",
       "2021  EU             1.582170\n",
       "      INDIA          1.546424\n",
       "      US             1.797571\n",
       "2022  EU             1.191169\n",
       "      INDIA          1.379889\n",
       "      US             1.182379\n",
       "2023  EU             1.246533\n",
       "      INDIA          1.201110\n",
       "      US             1.203253\n",
       "2024  EU             1.650721\n",
       "      INDIA          1.305762\n",
       "      US             2.153187\n",
       "Name: growth_365d, dtype: float64"
      ]
     },
     "metadata": {},
     "output_type": "display_data"
    }
   ],
   "source": [
    "#  average growth 365days\n",
    "stocks_df[stocks_df.Year>=2020].groupby(by=['Year','ticker_type']).growth_365d.mean()"
   ]
  },
  {
   "cell_type": "code",
   "execution_count": null,
   "metadata": {},
   "outputs": [],
   "source": [
    "stocks_df['Date'] = pd.to_datetime(stocks_df['Date'])"
   ]
  },
  {
   "cell_type": "code",
   "execution_count": null,
   "metadata": {},
   "outputs": [
    {
     "name": "stdout",
     "output_type": "stream",
     "text": [
      "<class 'pandas.core.frame.DataFrame'>\n",
      "Index: 182423 entries, 3490 to 220889\n",
      "Data columns (total 25 columns):\n",
      " #   Column                        Non-Null Count   Dtype         \n",
      "---  ------                        --------------   -----         \n",
      " 0   Open                          182423 non-null  float64       \n",
      " 1   High                          182423 non-null  float64       \n",
      " 2   Low                           182423 non-null  float64       \n",
      " 3   Close                         182423 non-null  float64       \n",
      " 4   Adj Close                     182423 non-null  float64       \n",
      " 5   Volume                        182423 non-null  int64         \n",
      " 6   Ticker                        182423 non-null  object        \n",
      " 7   Year                          182423 non-null  int32         \n",
      " 8   Month                         182423 non-null  int32         \n",
      " 9   Weekday                       182423 non-null  int32         \n",
      " 10  Date                          182423 non-null  datetime64[ns]\n",
      " 11  growth_1d                     182408 non-null  float64       \n",
      " 12  growth_3d                     182378 non-null  float64       \n",
      " 13  growth_7d                     182318 non-null  float64       \n",
      " 14  growth_30d                    181973 non-null  float64       \n",
      " 15  growth_90d                    181073 non-null  float64       \n",
      " 16  growth_365d                   176663 non-null  float64       \n",
      " 17  growth_future_5d              182258 non-null  float64       \n",
      " 18  SMA10                         182288 non-null  float64       \n",
      " 19  SMA20                         182138 non-null  float64       \n",
      " 20  growing_moving_average        182423 non-null  int64         \n",
      " 21  high_minus_low_relative       182423 non-null  float64       \n",
      " 22  volatility                    181988 non-null  float64       \n",
      " 23  is_positive_growth_5d_future  182423 non-null  int64         \n",
      " 24  ticker_type                   182423 non-null  object        \n",
      "dtypes: datetime64[ns](1), float64(16), int32(3), int64(3), object(2)\n",
      "memory usage: 34.1+ MB\n"
     ]
    }
   ],
   "source": [
    "# filtering only on stats after 2000\n",
    "stocks_df[stocks_df.Date>='2000-01-01'].info()"
   ]
  },
  {
   "cell_type": "code",
   "execution_count": null,
   "metadata": {},
   "outputs": [
    {
     "data": {
      "application/vnd.google.colaboratory.intrinsic+json": {
       "type": "dataframe"
      },
      "text/html": [
       "\n",
       "  <div id=\"df-ccfe7d88-a6c7-4c2e-98d2-523d6fa8d0bf\" class=\"colab-df-container\">\n",
       "    <div>\n",
       "<style scoped>\n",
       "    .dataframe tbody tr th:only-of-type {\n",
       "        vertical-align: middle;\n",
       "    }\n",
       "\n",
       "    .dataframe tbody tr th {\n",
       "        vertical-align: top;\n",
       "    }\n",
       "\n",
       "    .dataframe thead th {\n",
       "        text-align: right;\n",
       "    }\n",
       "</style>\n",
       "<table border=\"1\" class=\"dataframe\">\n",
       "  <thead>\n",
       "    <tr style=\"text-align: right;\">\n",
       "      <th></th>\n",
       "      <th>Open</th>\n",
       "      <th>High</th>\n",
       "      <th>Low</th>\n",
       "      <th>Close</th>\n",
       "      <th>Adj Close</th>\n",
       "      <th>Volume</th>\n",
       "      <th>Ticker</th>\n",
       "      <th>Year</th>\n",
       "      <th>Month</th>\n",
       "      <th>Weekday</th>\n",
       "      <th>...</th>\n",
       "      <th>growth_90d</th>\n",
       "      <th>growth_365d</th>\n",
       "      <th>growth_future_5d</th>\n",
       "      <th>SMA10</th>\n",
       "      <th>SMA20</th>\n",
       "      <th>growing_moving_average</th>\n",
       "      <th>high_minus_low_relative</th>\n",
       "      <th>volatility</th>\n",
       "      <th>is_positive_growth_5d_future</th>\n",
       "      <th>ticker_type</th>\n",
       "    </tr>\n",
       "  </thead>\n",
       "  <tbody>\n",
       "    <tr>\n",
       "      <th>194903</th>\n",
       "      <td>925.000000</td>\n",
       "      <td>984.450012</td>\n",
       "      <td>924.000000</td>\n",
       "      <td>970.599976</td>\n",
       "      <td>970.599976</td>\n",
       "      <td>4863536</td>\n",
       "      <td>LICI.NS</td>\n",
       "      <td>2024</td>\n",
       "      <td>4</td>\n",
       "      <td>0</td>\n",
       "      <td>...</td>\n",
       "      <td>1.599113</td>\n",
       "      <td>1.556710</td>\n",
       "      <td>1.026891</td>\n",
       "      <td>906.085004</td>\n",
       "      <td>953.950003</td>\n",
       "      <td>0</td>\n",
       "      <td>0.062281</td>\n",
       "      <td>1034.237352</td>\n",
       "      <td>1</td>\n",
       "      <td>INDIA</td>\n",
       "    </tr>\n",
       "    <tr>\n",
       "      <th>201224</th>\n",
       "      <td>17.889999</td>\n",
       "      <td>17.920000</td>\n",
       "      <td>17.500000</td>\n",
       "      <td>17.580000</td>\n",
       "      <td>17.580000</td>\n",
       "      <td>14601600</td>\n",
       "      <td>INFY</td>\n",
       "      <td>2024</td>\n",
       "      <td>4</td>\n",
       "      <td>0</td>\n",
       "      <td>...</td>\n",
       "      <td>1.003998</td>\n",
       "      <td>1.024508</td>\n",
       "      <td>1.015927</td>\n",
       "      <td>18.156000</td>\n",
       "      <td>18.777500</td>\n",
       "      <td>0</td>\n",
       "      <td>0.023891</td>\n",
       "      <td>13.940634</td>\n",
       "      <td>1</td>\n",
       "      <td>INDIA</td>\n",
       "    </tr>\n",
       "    <tr>\n",
       "      <th>208338</th>\n",
       "      <td>429.100006</td>\n",
       "      <td>431.350006</td>\n",
       "      <td>425.750000</td>\n",
       "      <td>426.700012</td>\n",
       "      <td>426.700012</td>\n",
       "      <td>9382308</td>\n",
       "      <td>ITC.NS</td>\n",
       "      <td>2024</td>\n",
       "      <td>4</td>\n",
       "      <td>0</td>\n",
       "      <td>...</td>\n",
       "      <td>0.987044</td>\n",
       "      <td>1.314436</td>\n",
       "      <td>1.005625</td>\n",
       "      <td>422.235004</td>\n",
       "      <td>416.537502</td>\n",
       "      <td>1</td>\n",
       "      <td>0.013124</td>\n",
       "      <td>130.246651</td>\n",
       "      <td>1</td>\n",
       "      <td>INDIA</td>\n",
       "    </tr>\n",
       "    <tr>\n",
       "      <th>215453</th>\n",
       "      <td>2270.000000</td>\n",
       "      <td>2295.000000</td>\n",
       "      <td>2262.000000</td>\n",
       "      <td>2285.899902</td>\n",
       "      <td>2285.899902</td>\n",
       "      <td>1427873</td>\n",
       "      <td>HINDUNILVR.NS</td>\n",
       "      <td>2024</td>\n",
       "      <td>4</td>\n",
       "      <td>0</td>\n",
       "      <td>...</td>\n",
       "      <td>0.917590</td>\n",
       "      <td>0.894051</td>\n",
       "      <td>0.992585</td>\n",
       "      <td>2266.539990</td>\n",
       "      <td>2327.240015</td>\n",
       "      <td>0</td>\n",
       "      <td>0.014436</td>\n",
       "      <td>1049.970071</td>\n",
       "      <td>0</td>\n",
       "      <td>INDIA</td>\n",
       "    </tr>\n",
       "    <tr>\n",
       "      <th>220873</th>\n",
       "      <td>3780.850098</td>\n",
       "      <td>3851.850098</td>\n",
       "      <td>3780.850098</td>\n",
       "      <td>3838.000000</td>\n",
       "      <td>3838.000000</td>\n",
       "      <td>1905190</td>\n",
       "      <td>LT.NS</td>\n",
       "      <td>2024</td>\n",
       "      <td>4</td>\n",
       "      <td>0</td>\n",
       "      <td>...</td>\n",
       "      <td>1.257886</td>\n",
       "      <td>2.010850</td>\n",
       "      <td>0.992144</td>\n",
       "      <td>3626.594971</td>\n",
       "      <td>3618.109985</td>\n",
       "      <td>1</td>\n",
       "      <td>0.018499</td>\n",
       "      <td>2188.619806</td>\n",
       "      <td>0</td>\n",
       "      <td>INDIA</td>\n",
       "    </tr>\n",
       "  </tbody>\n",
       "</table>\n",
       "<p>5 rows × 25 columns</p>\n",
       "</div>\n",
       "    <div class=\"colab-df-buttons\">\n",
       "\n",
       "  <div class=\"colab-df-container\">\n",
       "    <button class=\"colab-df-convert\" onclick=\"convertToInteractive('df-ccfe7d88-a6c7-4c2e-98d2-523d6fa8d0bf')\"\n",
       "            title=\"Convert this dataframe to an interactive table.\"\n",
       "            style=\"display:none;\">\n",
       "\n",
       "  <svg xmlns=\"http://www.w3.org/2000/svg\" height=\"24px\" viewBox=\"0 -960 960 960\">\n",
       "    <path d=\"M120-120v-720h720v720H120Zm60-500h600v-160H180v160Zm220 220h160v-160H400v160Zm0 220h160v-160H400v160ZM180-400h160v-160H180v160Zm440 0h160v-160H620v160ZM180-180h160v-160H180v160Zm440 0h160v-160H620v160Z\"/>\n",
       "  </svg>\n",
       "    </button>\n",
       "\n",
       "  <style>\n",
       "    .colab-df-container {\n",
       "      display:flex;\n",
       "      gap: 12px;\n",
       "    }\n",
       "\n",
       "    .colab-df-convert {\n",
       "      background-color: #E8F0FE;\n",
       "      border: none;\n",
       "      border-radius: 50%;\n",
       "      cursor: pointer;\n",
       "      display: none;\n",
       "      fill: #1967D2;\n",
       "      height: 32px;\n",
       "      padding: 0 0 0 0;\n",
       "      width: 32px;\n",
       "    }\n",
       "\n",
       "    .colab-df-convert:hover {\n",
       "      background-color: #E2EBFA;\n",
       "      box-shadow: 0px 1px 2px rgba(60, 64, 67, 0.3), 0px 1px 3px 1px rgba(60, 64, 67, 0.15);\n",
       "      fill: #174EA6;\n",
       "    }\n",
       "\n",
       "    .colab-df-buttons div {\n",
       "      margin-bottom: 4px;\n",
       "    }\n",
       "\n",
       "    [theme=dark] .colab-df-convert {\n",
       "      background-color: #3B4455;\n",
       "      fill: #D2E3FC;\n",
       "    }\n",
       "\n",
       "    [theme=dark] .colab-df-convert:hover {\n",
       "      background-color: #434B5C;\n",
       "      box-shadow: 0px 1px 3px 1px rgba(0, 0, 0, 0.15);\n",
       "      filter: drop-shadow(0px 1px 2px rgba(0, 0, 0, 0.3));\n",
       "      fill: #FFFFFF;\n",
       "    }\n",
       "  </style>\n",
       "\n",
       "    <script>\n",
       "      const buttonEl =\n",
       "        document.querySelector('#df-ccfe7d88-a6c7-4c2e-98d2-523d6fa8d0bf button.colab-df-convert');\n",
       "      buttonEl.style.display =\n",
       "        google.colab.kernel.accessAllowed ? 'block' : 'none';\n",
       "\n",
       "      async function convertToInteractive(key) {\n",
       "        const element = document.querySelector('#df-ccfe7d88-a6c7-4c2e-98d2-523d6fa8d0bf');\n",
       "        const dataTable =\n",
       "          await google.colab.kernel.invokeFunction('convertToInteractive',\n",
       "                                                    [key], {});\n",
       "        if (!dataTable) return;\n",
       "\n",
       "        const docLinkHtml = 'Like what you see? Visit the ' +\n",
       "          '<a target=\"_blank\" href=https://colab.research.google.com/notebooks/data_table.ipynb>data table notebook</a>'\n",
       "          + ' to learn more about interactive tables.';\n",
       "        element.innerHTML = '';\n",
       "        dataTable['output_type'] = 'display_data';\n",
       "        await google.colab.output.renderOutput(dataTable, element);\n",
       "        const docLink = document.createElement('div');\n",
       "        docLink.innerHTML = docLinkHtml;\n",
       "        element.appendChild(docLink);\n",
       "      }\n",
       "    </script>\n",
       "  </div>\n",
       "\n",
       "\n",
       "<div id=\"df-5f73d462-b852-46ef-b937-ac97878e751c\">\n",
       "  <button class=\"colab-df-quickchart\" onclick=\"quickchart('df-5f73d462-b852-46ef-b937-ac97878e751c')\"\n",
       "            title=\"Suggest charts\"\n",
       "            style=\"display:none;\">\n",
       "\n",
       "<svg xmlns=\"http://www.w3.org/2000/svg\" height=\"24px\"viewBox=\"0 0 24 24\"\n",
       "     width=\"24px\">\n",
       "    <g>\n",
       "        <path d=\"M19 3H5c-1.1 0-2 .9-2 2v14c0 1.1.9 2 2 2h14c1.1 0 2-.9 2-2V5c0-1.1-.9-2-2-2zM9 17H7v-7h2v7zm4 0h-2V7h2v10zm4 0h-2v-4h2v4z\"/>\n",
       "    </g>\n",
       "</svg>\n",
       "  </button>\n",
       "\n",
       "<style>\n",
       "  .colab-df-quickchart {\n",
       "      --bg-color: #E8F0FE;\n",
       "      --fill-color: #1967D2;\n",
       "      --hover-bg-color: #E2EBFA;\n",
       "      --hover-fill-color: #174EA6;\n",
       "      --disabled-fill-color: #AAA;\n",
       "      --disabled-bg-color: #DDD;\n",
       "  }\n",
       "\n",
       "  [theme=dark] .colab-df-quickchart {\n",
       "      --bg-color: #3B4455;\n",
       "      --fill-color: #D2E3FC;\n",
       "      --hover-bg-color: #434B5C;\n",
       "      --hover-fill-color: #FFFFFF;\n",
       "      --disabled-bg-color: #3B4455;\n",
       "      --disabled-fill-color: #666;\n",
       "  }\n",
       "\n",
       "  .colab-df-quickchart {\n",
       "    background-color: var(--bg-color);\n",
       "    border: none;\n",
       "    border-radius: 50%;\n",
       "    cursor: pointer;\n",
       "    display: none;\n",
       "    fill: var(--fill-color);\n",
       "    height: 32px;\n",
       "    padding: 0;\n",
       "    width: 32px;\n",
       "  }\n",
       "\n",
       "  .colab-df-quickchart:hover {\n",
       "    background-color: var(--hover-bg-color);\n",
       "    box-shadow: 0 1px 2px rgba(60, 64, 67, 0.3), 0 1px 3px 1px rgba(60, 64, 67, 0.15);\n",
       "    fill: var(--button-hover-fill-color);\n",
       "  }\n",
       "\n",
       "  .colab-df-quickchart-complete:disabled,\n",
       "  .colab-df-quickchart-complete:disabled:hover {\n",
       "    background-color: var(--disabled-bg-color);\n",
       "    fill: var(--disabled-fill-color);\n",
       "    box-shadow: none;\n",
       "  }\n",
       "\n",
       "  .colab-df-spinner {\n",
       "    border: 2px solid var(--fill-color);\n",
       "    border-color: transparent;\n",
       "    border-bottom-color: var(--fill-color);\n",
       "    animation:\n",
       "      spin 1s steps(1) infinite;\n",
       "  }\n",
       "\n",
       "  @keyframes spin {\n",
       "    0% {\n",
       "      border-color: transparent;\n",
       "      border-bottom-color: var(--fill-color);\n",
       "      border-left-color: var(--fill-color);\n",
       "    }\n",
       "    20% {\n",
       "      border-color: transparent;\n",
       "      border-left-color: var(--fill-color);\n",
       "      border-top-color: var(--fill-color);\n",
       "    }\n",
       "    30% {\n",
       "      border-color: transparent;\n",
       "      border-left-color: var(--fill-color);\n",
       "      border-top-color: var(--fill-color);\n",
       "      border-right-color: var(--fill-color);\n",
       "    }\n",
       "    40% {\n",
       "      border-color: transparent;\n",
       "      border-right-color: var(--fill-color);\n",
       "      border-top-color: var(--fill-color);\n",
       "    }\n",
       "    60% {\n",
       "      border-color: transparent;\n",
       "      border-right-color: var(--fill-color);\n",
       "    }\n",
       "    80% {\n",
       "      border-color: transparent;\n",
       "      border-right-color: var(--fill-color);\n",
       "      border-bottom-color: var(--fill-color);\n",
       "    }\n",
       "    90% {\n",
       "      border-color: transparent;\n",
       "      border-bottom-color: var(--fill-color);\n",
       "    }\n",
       "  }\n",
       "</style>\n",
       "\n",
       "  <script>\n",
       "    async function quickchart(key) {\n",
       "      const quickchartButtonEl =\n",
       "        document.querySelector('#' + key + ' button');\n",
       "      quickchartButtonEl.disabled = true;  // To prevent multiple clicks.\n",
       "      quickchartButtonEl.classList.add('colab-df-spinner');\n",
       "      try {\n",
       "        const charts = await google.colab.kernel.invokeFunction(\n",
       "            'suggestCharts', [key], {});\n",
       "      } catch (error) {\n",
       "        console.error('Error during call to suggestCharts:', error);\n",
       "      }\n",
       "      quickchartButtonEl.classList.remove('colab-df-spinner');\n",
       "      quickchartButtonEl.classList.add('colab-df-quickchart-complete');\n",
       "    }\n",
       "    (() => {\n",
       "      let quickchartButtonEl =\n",
       "        document.querySelector('#df-5f73d462-b852-46ef-b937-ac97878e751c button');\n",
       "      quickchartButtonEl.style.display =\n",
       "        google.colab.kernel.accessAllowed ? 'block' : 'none';\n",
       "    })();\n",
       "  </script>\n",
       "</div>\n",
       "    </div>\n",
       "  </div>\n"
      ],
      "text/plain": [
       "               Open         High          Low        Close    Adj Close  \\\n",
       "194903   925.000000   984.450012   924.000000   970.599976   970.599976   \n",
       "201224    17.889999    17.920000    17.500000    17.580000    17.580000   \n",
       "208338   429.100006   431.350006   425.750000   426.700012   426.700012   \n",
       "215453  2270.000000  2295.000000  2262.000000  2285.899902  2285.899902   \n",
       "220873  3780.850098  3851.850098  3780.850098  3838.000000  3838.000000   \n",
       "\n",
       "          Volume         Ticker  Year  Month  Weekday  ... growth_90d  \\\n",
       "194903   4863536        LICI.NS  2024      4        0  ...   1.599113   \n",
       "201224  14601600           INFY  2024      4        0  ...   1.003998   \n",
       "208338   9382308         ITC.NS  2024      4        0  ...   0.987044   \n",
       "215453   1427873  HINDUNILVR.NS  2024      4        0  ...   0.917590   \n",
       "220873   1905190          LT.NS  2024      4        0  ...   1.257886   \n",
       "\n",
       "        growth_365d  growth_future_5d        SMA10        SMA20  \\\n",
       "194903     1.556710          1.026891   906.085004   953.950003   \n",
       "201224     1.024508          1.015927    18.156000    18.777500   \n",
       "208338     1.314436          1.005625   422.235004   416.537502   \n",
       "215453     0.894051          0.992585  2266.539990  2327.240015   \n",
       "220873     2.010850          0.992144  3626.594971  3618.109985   \n",
       "\n",
       "        growing_moving_average  high_minus_low_relative   volatility  \\\n",
       "194903                       0                 0.062281  1034.237352   \n",
       "201224                       0                 0.023891    13.940634   \n",
       "208338                       1                 0.013124   130.246651   \n",
       "215453                       0                 0.014436  1049.970071   \n",
       "220873                       1                 0.018499  2188.619806   \n",
       "\n",
       "        is_positive_growth_5d_future  ticker_type  \n",
       "194903                             1        INDIA  \n",
       "201224                             1        INDIA  \n",
       "208338                             1        INDIA  \n",
       "215453                             0        INDIA  \n",
       "220873                             0        INDIA  \n",
       "\n",
       "[5 rows x 25 columns]"
      ]
     },
     "metadata": {},
     "output_type": "display_data"
    }
   ],
   "source": [
    "stocks_df[stocks_df.Date=='2024-04-01'].tail()"
   ]
  },
  {
   "cell_type": "code",
   "execution_count": null,
   "metadata": {},
   "outputs": [
    {
     "data": {
      "text/plain": [
       "['MSFT',\n",
       " 'AAPL',\n",
       " 'GOOG',\n",
       " 'NVDA',\n",
       " 'AMZN',\n",
       " 'META',\n",
       " 'BRK-B',\n",
       " 'LLY',\n",
       " 'AVGO',\n",
       " 'V',\n",
       " 'JPM',\n",
       " 'NVO',\n",
       " 'MC.PA',\n",
       " 'ASML',\n",
       " 'RMS.PA',\n",
       " 'OR.PA',\n",
       " 'SAP',\n",
       " 'ACN',\n",
       " 'TTE',\n",
       " 'SIE.DE',\n",
       " 'IDEXY',\n",
       " 'CDI.PA',\n",
       " 'RELIANCE.NS',\n",
       " 'TCS.NS',\n",
       " 'HDB',\n",
       " 'BHARTIARTL.NS',\n",
       " 'IBN',\n",
       " 'SBIN.NS',\n",
       " 'LICI.NS',\n",
       " 'INFY',\n",
       " 'ITC.NS',\n",
       " 'HINDUNILVR.NS',\n",
       " 'LT.NS']"
      ]
     },
     "metadata": {},
     "output_type": "display_data"
    }
   ],
   "source": [
    "ALL_TICKERS = US_STOCKS  + EU_STOCKS + INDIA_STOCKS\n",
    "ALL_TICKERS"
   ]
  },
  {
   "cell_type": "code",
   "execution_count": null,
   "metadata": {},
   "outputs": [
    {
     "name": "stdout",
     "output_type": "stream",
     "text": [
      "0 MSFT\n"
     ]
    },
    {
     "name": "stderr",
     "output_type": "stream",
     "text": [
      "\r[*********************100%%**********************]  1 of 1 completed\n"
     ]
    },
    {
     "name": "stdout",
     "output_type": "stream",
     "text": [
      "1 AAPL\n"
     ]
    },
    {
     "name": "stderr",
     "output_type": "stream",
     "text": [
      "\r[*********************100%%**********************]  1 of 1 completed\n"
     ]
    },
    {
     "name": "stdout",
     "output_type": "stream",
     "text": [
      "2 GOOG\n"
     ]
    },
    {
     "name": "stderr",
     "output_type": "stream",
     "text": [
      "\r[*********************100%%**********************]  1 of 1 completed\n"
     ]
    },
    {
     "name": "stdout",
     "output_type": "stream",
     "text": [
      "3 NVDA\n"
     ]
    },
    {
     "name": "stderr",
     "output_type": "stream",
     "text": [
      "\r[*********************100%%**********************]  1 of 1 completed\n"
     ]
    },
    {
     "name": "stdout",
     "output_type": "stream",
     "text": [
      "4 AMZN\n"
     ]
    },
    {
     "name": "stderr",
     "output_type": "stream",
     "text": [
      "\r[*********************100%%**********************]  1 of 1 completed\n"
     ]
    },
    {
     "name": "stdout",
     "output_type": "stream",
     "text": [
      "5 META\n"
     ]
    },
    {
     "name": "stderr",
     "output_type": "stream",
     "text": [
      "\r[*********************100%%**********************]  1 of 1 completed\n"
     ]
    },
    {
     "name": "stdout",
     "output_type": "stream",
     "text": [
      "6 BRK-B\n"
     ]
    },
    {
     "name": "stderr",
     "output_type": "stream",
     "text": [
      "\r[*********************100%%**********************]  1 of 1 completed\n"
     ]
    },
    {
     "name": "stdout",
     "output_type": "stream",
     "text": [
      "7 LLY\n"
     ]
    },
    {
     "name": "stderr",
     "output_type": "stream",
     "text": [
      "\r[*********************100%%**********************]  1 of 1 completed\n"
     ]
    },
    {
     "name": "stdout",
     "output_type": "stream",
     "text": [
      "8 AVGO\n"
     ]
    },
    {
     "name": "stderr",
     "output_type": "stream",
     "text": [
      "\r[*********************100%%**********************]  1 of 1 completed\n"
     ]
    },
    {
     "name": "stdout",
     "output_type": "stream",
     "text": [
      "9 V\n"
     ]
    },
    {
     "name": "stderr",
     "output_type": "stream",
     "text": [
      "\r[*********************100%%**********************]  1 of 1 completed\n"
     ]
    },
    {
     "name": "stdout",
     "output_type": "stream",
     "text": [
      "10 JPM\n"
     ]
    },
    {
     "name": "stderr",
     "output_type": "stream",
     "text": [
      "\r[*********************100%%**********************]  1 of 1 completed\n"
     ]
    },
    {
     "name": "stdout",
     "output_type": "stream",
     "text": [
      "11 NVO\n"
     ]
    },
    {
     "name": "stderr",
     "output_type": "stream",
     "text": [
      "\r[*********************100%%**********************]  1 of 1 completed\n"
     ]
    },
    {
     "name": "stdout",
     "output_type": "stream",
     "text": [
      "12 MC.PA\n"
     ]
    },
    {
     "name": "stderr",
     "output_type": "stream",
     "text": [
      "\r[*********************100%%**********************]  1 of 1 completed\n"
     ]
    },
    {
     "name": "stdout",
     "output_type": "stream",
     "text": [
      "13 ASML\n"
     ]
    },
    {
     "name": "stderr",
     "output_type": "stream",
     "text": [
      "\r[*********************100%%**********************]  1 of 1 completed\n"
     ]
    },
    {
     "name": "stdout",
     "output_type": "stream",
     "text": [
      "14 RMS.PA\n"
     ]
    },
    {
     "name": "stderr",
     "output_type": "stream",
     "text": [
      "\r[*********************100%%**********************]  1 of 1 completed\n"
     ]
    },
    {
     "name": "stdout",
     "output_type": "stream",
     "text": [
      "15 OR.PA\n"
     ]
    },
    {
     "name": "stderr",
     "output_type": "stream",
     "text": [
      "\r[*********************100%%**********************]  1 of 1 completed\n"
     ]
    },
    {
     "name": "stdout",
     "output_type": "stream",
     "text": [
      "16 SAP\n"
     ]
    },
    {
     "name": "stderr",
     "output_type": "stream",
     "text": [
      "\r[*********************100%%**********************]  1 of 1 completed\n"
     ]
    },
    {
     "name": "stdout",
     "output_type": "stream",
     "text": [
      "17 ACN\n"
     ]
    },
    {
     "name": "stderr",
     "output_type": "stream",
     "text": [
      "\r[*********************100%%**********************]  1 of 1 completed\n"
     ]
    },
    {
     "name": "stdout",
     "output_type": "stream",
     "text": [
      "18 TTE\n"
     ]
    },
    {
     "name": "stderr",
     "output_type": "stream",
     "text": [
      "\r[*********************100%%**********************]  1 of 1 completed\n"
     ]
    },
    {
     "name": "stdout",
     "output_type": "stream",
     "text": [
      "19 SIE.DE\n"
     ]
    },
    {
     "name": "stderr",
     "output_type": "stream",
     "text": [
      "\r[*********************100%%**********************]  1 of 1 completed\n"
     ]
    },
    {
     "name": "stdout",
     "output_type": "stream",
     "text": [
      "20 IDEXY\n"
     ]
    },
    {
     "name": "stderr",
     "output_type": "stream",
     "text": [
      "\r[*********************100%%**********************]  1 of 1 completed\n"
     ]
    },
    {
     "name": "stdout",
     "output_type": "stream",
     "text": [
      "21 CDI.PA\n"
     ]
    },
    {
     "name": "stderr",
     "output_type": "stream",
     "text": [
      "\r[*********************100%%**********************]  1 of 1 completed\n"
     ]
    },
    {
     "name": "stdout",
     "output_type": "stream",
     "text": [
      "22 RELIANCE.NS\n"
     ]
    },
    {
     "name": "stderr",
     "output_type": "stream",
     "text": [
      "\r[*********************100%%**********************]  1 of 1 completed\n"
     ]
    },
    {
     "name": "stdout",
     "output_type": "stream",
     "text": [
      "23 TCS.NS\n"
     ]
    },
    {
     "name": "stderr",
     "output_type": "stream",
     "text": [
      "\r[*********************100%%**********************]  1 of 1 completed\n"
     ]
    },
    {
     "name": "stdout",
     "output_type": "stream",
     "text": [
      "24 HDB\n"
     ]
    },
    {
     "name": "stderr",
     "output_type": "stream",
     "text": [
      "\r[*********************100%%**********************]  1 of 1 completed\n"
     ]
    },
    {
     "name": "stdout",
     "output_type": "stream",
     "text": [
      "25 BHARTIARTL.NS\n"
     ]
    },
    {
     "name": "stderr",
     "output_type": "stream",
     "text": [
      "\r[*********************100%%**********************]  1 of 1 completed\n"
     ]
    },
    {
     "name": "stdout",
     "output_type": "stream",
     "text": [
      "26 IBN\n"
     ]
    },
    {
     "name": "stderr",
     "output_type": "stream",
     "text": [
      "\r[*********************100%%**********************]  1 of 1 completed\n"
     ]
    },
    {
     "name": "stdout",
     "output_type": "stream",
     "text": [
      "27 SBIN.NS\n"
     ]
    },
    {
     "name": "stderr",
     "output_type": "stream",
     "text": [
      "[*********************100%%**********************]  1 of 1 completed\n",
      "[*********************100%%**********************]  1 of 1 completed"
     ]
    },
    {
     "name": "stdout",
     "output_type": "stream",
     "text": [
      "28 LICI.NS\n"
     ]
    },
    {
     "name": "stderr",
     "output_type": "stream",
     "text": [
      "\n"
     ]
    },
    {
     "name": "stdout",
     "output_type": "stream",
     "text": [
      "29 INFY\n"
     ]
    },
    {
     "name": "stderr",
     "output_type": "stream",
     "text": [
      "\r[*********************100%%**********************]  1 of 1 completed\n"
     ]
    },
    {
     "name": "stdout",
     "output_type": "stream",
     "text": [
      "30 ITC.NS\n"
     ]
    },
    {
     "name": "stderr",
     "output_type": "stream",
     "text": [
      "\r[*********************100%%**********************]  1 of 1 completed\n"
     ]
    },
    {
     "name": "stdout",
     "output_type": "stream",
     "text": [
      "31 HINDUNILVR.NS\n"
     ]
    },
    {
     "name": "stderr",
     "output_type": "stream",
     "text": [
      "\r[*********************100%%**********************]  1 of 1 completed\n"
     ]
    },
    {
     "name": "stdout",
     "output_type": "stream",
     "text": [
      "32 LT.NS\n"
     ]
    },
    {
     "name": "stderr",
     "output_type": "stream",
     "text": [
      "\r[*********************100%%**********************]  1 of 1 completed\n"
     ]
    }
   ],
   "source": [
    "import time\n",
    "\n",
    "stocks_df = pd.DataFrame({'A' : []})\n",
    "\n",
    "for i,ticker in enumerate(ALL_TICKERS):\n",
    "  print(i,ticker)\n",
    "\n",
    "  # Work with stock prices\n",
    "  historyPrices = yf.download(tickers = ticker,\n",
    "                     period = \"max\",\n",
    "                     interval = \"1d\")\n",
    "\n",
    "  # generate features for historical prices, and what we want to predict\n",
    "  historyPrices['Ticker'] = ticker\n",
    "  historyPrices['Year']= historyPrices.index.year\n",
    "  historyPrices['Month'] = historyPrices.index.month\n",
    "  historyPrices['Weekday'] = historyPrices.index.weekday\n",
    "  historyPrices['Date'] = historyPrices.index.date\n",
    "\n",
    "  # historical returns\n",
    "  for i in [1,3,7,30,90,365]:\n",
    "    historyPrices['growth_'+str(i)+'d'] = historyPrices['Adj Close'] / historyPrices['Adj Close'].shift(i)\n",
    "  historyPrices['growth_future_5d'] = historyPrices['Adj Close'].shift(-5) / historyPrices['Adj Close']\n",
    "\n",
    "  # Technical indicators\n",
    "  # SimpleMovingAverage 10 days and 20 days\n",
    "  historyPrices['SMA10']= historyPrices['Close'].rolling(10).mean()\n",
    "  historyPrices['SMA20']= historyPrices['Close'].rolling(20).mean()\n",
    "  historyPrices['growing_moving_average'] = np.where(historyPrices['SMA10'] > historyPrices['SMA20'], 1, 0)\n",
    "  historyPrices['high_minus_low_relative'] = (historyPrices.High - historyPrices.Low) / historyPrices['Adj Close']\n",
    "\n",
    "  # 30d rolling volatility : https://ycharts.com/glossary/terms/rolling_vol_30\n",
    "  historyPrices['volatility'] =   historyPrices['Adj Close'].rolling(30).std() * np.sqrt(252)\n",
    "\n",
    "  # what we want to predict\n",
    "  historyPrices['is_positive_growth_5d_future'] = np.where(historyPrices['growth_future_5d'] > 1, 1, 0)\n",
    "\n",
    "  # sleep 1 sec between downloads - not to overload the API server\n",
    "  time.sleep(1)\n",
    "\n",
    "\n",
    "  if stocks_df.empty:\n",
    "    stocks_df = historyPrices\n",
    "  else:\n",
    "    stocks_df = pd.concat([stocks_df, historyPrices], ignore_index=True)"
   ]
  },
  {
   "cell_type": "code",
   "execution_count": null,
   "metadata": {},
   "outputs": [],
   "source": [
    "def get_ticker_type(ticker:str, us_stocks_list, eu_stocks_list, india_stocks_list):\n",
    "  if ticker in us_stocks_list:\n",
    "    return 'US'\n",
    "  elif ticker in eu_stocks_list:\n",
    "    return 'EU'\n",
    "  elif ticker in india_stocks_list:\n",
    "    return 'INDIA'\n",
    "  else:\n",
    "    return 'ERROR'\n"
   ]
  },
  {
   "cell_type": "code",
   "execution_count": null,
   "metadata": {},
   "outputs": [],
   "source": [
    "stocks_df['ticker_type'] = stocks_df.Ticker.apply(lambda x:get_ticker_type(x, US_STOCKS, EU_STOCKS, INDIA_STOCKS))"
   ]
  },
  {
   "cell_type": "code",
   "execution_count": null,
   "metadata": {},
   "outputs": [
    {
     "data": {
      "text/plain": [
       "ticker_type\n",
       "US       80639\n",
       "EU       76986\n",
       "INDIA    63265\n",
       "Name: count, dtype: int64"
      ]
     },
     "metadata": {},
     "output_type": "display_data"
    }
   ],
   "source": [
    "# count of observations between US-EU-INDIA stocks\n",
    "stocks_df.ticker_type.value_counts()"
   ]
  },
  {
   "cell_type": "code",
   "execution_count": null,
   "metadata": {},
   "outputs": [
    {
     "data": {
      "text/plain": [
       "33"
      ]
     },
     "metadata": {},
     "output_type": "display_data"
    }
   ],
   "source": [
    "# unique tickers\n",
    "stocks_df.Ticker.nunique()"
   ]
  },
  {
   "cell_type": "code",
   "execution_count": null,
   "metadata": {},
   "outputs": [
    {
     "data": {
      "text/plain": [
       "Ticker\n",
       "LLY              13087\n",
       "JPM              11121\n",
       "AAPL             10933\n",
       "NVO              10838\n",
       "MSFT              9607\n",
       "CDI.PA            8321\n",
       "TTE               8185\n",
       "ASML              7330\n",
       "SAP               7201\n",
       "HINDUNILVR.NS     7115\n",
       "SBIN.NS           7113\n",
       "RELIANCE.NS       7112\n",
       "ITC.NS            7112\n",
       "SIE.DE            7039\n",
       "BRK-B             7038\n",
       "AMZN              6780\n",
       "NVDA              6356\n",
       "INFY              6323\n",
       "MC.PA             6251\n",
       "RMS.PA            6251\n",
       "OR.PA             6251\n",
       "IBN               6058\n",
       "ACN               5728\n",
       "HDB               5727\n",
       "LT.NS             5420\n",
       "BHARTIARTL.NS     5417\n",
       "TCS.NS            5388\n",
       "GOOG              4955\n",
       "V                 4054\n",
       "AVGO              3705\n",
       "IDEXY             3591\n",
       "META              3003\n",
       "LICI.NS            480\n",
       "Name: count, dtype: int64"
      ]
     },
     "metadata": {},
     "output_type": "display_data"
    }
   ],
   "source": [
    "# count of observations by stock\n",
    "stocks_df.Ticker.value_counts()"
   ]
  },
  {
   "cell_type": "code",
   "execution_count": null,
   "metadata": {},
   "outputs": [
    {
     "data": {
      "application/vnd.google.colaboratory.intrinsic+json": {
       "summary": "{\n  \"name\": \"stocks_df\",\n  \"rows\": 33,\n  \"fields\": [\n    {\n      \"column\": \"min\",\n      \"properties\": {\n        \"dtype\": \"date\",\n        \"min\": \"1972-06-01\",\n        \"max\": \"2022-05-17\",\n        \"num_unique_values\": 27,\n        \"samples\": [\n          \"2004-08-19\",\n          \"1999-03-11\",\n          \"2001-07-20\"\n        ],\n        \"semantic_type\": \"\",\n        \"description\": \"\"\n      }\n    },\n    {\n      \"column\": \"max\",\n      \"properties\": {\n        \"dtype\": \"date\",\n        \"min\": \"2024-04-24\",\n        \"max\": \"2024-04-25\",\n        \"num_unique_values\": 2,\n        \"samples\": [\n          \"2024-04-24\",\n          \"2024-04-25\"\n        ],\n        \"semantic_type\": \"\",\n        \"description\": \"\"\n      }\n    }\n  ]\n}",
       "type": "dataframe"
      },
      "text/html": [
       "\n",
       "  <div id=\"df-a567f221-70b9-4459-aa53-76cc7a99cef8\" class=\"colab-df-container\">\n",
       "    <div>\n",
       "<style scoped>\n",
       "    .dataframe tbody tr th:only-of-type {\n",
       "        vertical-align: middle;\n",
       "    }\n",
       "\n",
       "    .dataframe tbody tr th {\n",
       "        vertical-align: top;\n",
       "    }\n",
       "\n",
       "    .dataframe thead th {\n",
       "        text-align: right;\n",
       "    }\n",
       "</style>\n",
       "<table border=\"1\" class=\"dataframe\">\n",
       "  <thead>\n",
       "    <tr style=\"text-align: right;\">\n",
       "      <th></th>\n",
       "      <th></th>\n",
       "      <th>min</th>\n",
       "      <th>max</th>\n",
       "    </tr>\n",
       "    <tr>\n",
       "      <th>Ticker</th>\n",
       "      <th>ticker_type</th>\n",
       "      <th></th>\n",
       "      <th></th>\n",
       "    </tr>\n",
       "  </thead>\n",
       "  <tbody>\n",
       "    <tr>\n",
       "      <th>AAPL</th>\n",
       "      <th>US</th>\n",
       "      <td>1980-12-12</td>\n",
       "      <td>2024-04-25</td>\n",
       "    </tr>\n",
       "    <tr>\n",
       "      <th>ACN</th>\n",
       "      <th>EU</th>\n",
       "      <td>2001-07-19</td>\n",
       "      <td>2024-04-25</td>\n",
       "    </tr>\n",
       "    <tr>\n",
       "      <th>AMZN</th>\n",
       "      <th>US</th>\n",
       "      <td>1997-05-15</td>\n",
       "      <td>2024-04-24</td>\n",
       "    </tr>\n",
       "    <tr>\n",
       "      <th>ASML</th>\n",
       "      <th>EU</th>\n",
       "      <td>1995-03-15</td>\n",
       "      <td>2024-04-25</td>\n",
       "    </tr>\n",
       "    <tr>\n",
       "      <th>AVGO</th>\n",
       "      <th>US</th>\n",
       "      <td>2009-08-06</td>\n",
       "      <td>2024-04-25</td>\n",
       "    </tr>\n",
       "    <tr>\n",
       "      <th>BHARTIARTL.NS</th>\n",
       "      <th>INDIA</th>\n",
       "      <td>2002-07-01</td>\n",
       "      <td>2024-04-25</td>\n",
       "    </tr>\n",
       "    <tr>\n",
       "      <th>BRK-B</th>\n",
       "      <th>US</th>\n",
       "      <td>1996-05-09</td>\n",
       "      <td>2024-04-25</td>\n",
       "    </tr>\n",
       "    <tr>\n",
       "      <th>CDI.PA</th>\n",
       "      <th>EU</th>\n",
       "      <td>1992-01-27</td>\n",
       "      <td>2024-04-25</td>\n",
       "    </tr>\n",
       "    <tr>\n",
       "      <th>GOOG</th>\n",
       "      <th>US</th>\n",
       "      <td>2004-08-19</td>\n",
       "      <td>2024-04-25</td>\n",
       "    </tr>\n",
       "    <tr>\n",
       "      <th>HDB</th>\n",
       "      <th>INDIA</th>\n",
       "      <td>2001-07-20</td>\n",
       "      <td>2024-04-25</td>\n",
       "    </tr>\n",
       "    <tr>\n",
       "      <th>HINDUNILVR.NS</th>\n",
       "      <th>INDIA</th>\n",
       "      <td>1996-01-01</td>\n",
       "      <td>2024-04-25</td>\n",
       "    </tr>\n",
       "    <tr>\n",
       "      <th>IBN</th>\n",
       "      <th>INDIA</th>\n",
       "      <td>2000-03-28</td>\n",
       "      <td>2024-04-25</td>\n",
       "    </tr>\n",
       "    <tr>\n",
       "      <th>IDEXY</th>\n",
       "      <th>EU</th>\n",
       "      <td>2010-01-20</td>\n",
       "      <td>2024-04-25</td>\n",
       "    </tr>\n",
       "    <tr>\n",
       "      <th>INFY</th>\n",
       "      <th>INDIA</th>\n",
       "      <td>1999-03-11</td>\n",
       "      <td>2024-04-25</td>\n",
       "    </tr>\n",
       "    <tr>\n",
       "      <th>ITC.NS</th>\n",
       "      <th>INDIA</th>\n",
       "      <td>1996-01-01</td>\n",
       "      <td>2024-04-25</td>\n",
       "    </tr>\n",
       "    <tr>\n",
       "      <th>JPM</th>\n",
       "      <th>US</th>\n",
       "      <td>1980-03-17</td>\n",
       "      <td>2024-04-25</td>\n",
       "    </tr>\n",
       "    <tr>\n",
       "      <th>LICI.NS</th>\n",
       "      <th>INDIA</th>\n",
       "      <td>2022-05-17</td>\n",
       "      <td>2024-04-25</td>\n",
       "    </tr>\n",
       "    <tr>\n",
       "      <th>LLY</th>\n",
       "      <th>US</th>\n",
       "      <td>1972-06-01</td>\n",
       "      <td>2024-04-25</td>\n",
       "    </tr>\n",
       "    <tr>\n",
       "      <th>LT.NS</th>\n",
       "      <th>INDIA</th>\n",
       "      <td>2002-07-01</td>\n",
       "      <td>2024-04-25</td>\n",
       "    </tr>\n",
       "    <tr>\n",
       "      <th>MC.PA</th>\n",
       "      <th>EU</th>\n",
       "      <td>2000-01-03</td>\n",
       "      <td>2024-04-25</td>\n",
       "    </tr>\n",
       "    <tr>\n",
       "      <th>META</th>\n",
       "      <th>US</th>\n",
       "      <td>2012-05-18</td>\n",
       "      <td>2024-04-25</td>\n",
       "    </tr>\n",
       "    <tr>\n",
       "      <th>MSFT</th>\n",
       "      <th>US</th>\n",
       "      <td>1986-03-13</td>\n",
       "      <td>2024-04-25</td>\n",
       "    </tr>\n",
       "    <tr>\n",
       "      <th>NVDA</th>\n",
       "      <th>US</th>\n",
       "      <td>1999-01-22</td>\n",
       "      <td>2024-04-25</td>\n",
       "    </tr>\n",
       "    <tr>\n",
       "      <th>NVO</th>\n",
       "      <th>EU</th>\n",
       "      <td>1981-04-30</td>\n",
       "      <td>2024-04-25</td>\n",
       "    </tr>\n",
       "    <tr>\n",
       "      <th>OR.PA</th>\n",
       "      <th>EU</th>\n",
       "      <td>2000-01-03</td>\n",
       "      <td>2024-04-25</td>\n",
       "    </tr>\n",
       "    <tr>\n",
       "      <th>RELIANCE.NS</th>\n",
       "      <th>INDIA</th>\n",
       "      <td>1996-01-01</td>\n",
       "      <td>2024-04-25</td>\n",
       "    </tr>\n",
       "    <tr>\n",
       "      <th>RMS.PA</th>\n",
       "      <th>EU</th>\n",
       "      <td>2000-01-03</td>\n",
       "      <td>2024-04-25</td>\n",
       "    </tr>\n",
       "    <tr>\n",
       "      <th>SAP</th>\n",
       "      <th>EU</th>\n",
       "      <td>1995-09-18</td>\n",
       "      <td>2024-04-25</td>\n",
       "    </tr>\n",
       "    <tr>\n",
       "      <th>SBIN.NS</th>\n",
       "      <th>INDIA</th>\n",
       "      <td>1996-01-01</td>\n",
       "      <td>2024-04-25</td>\n",
       "    </tr>\n",
       "    <tr>\n",
       "      <th>SIE.DE</th>\n",
       "      <th>EU</th>\n",
       "      <td>1996-11-08</td>\n",
       "      <td>2024-04-25</td>\n",
       "    </tr>\n",
       "    <tr>\n",
       "      <th>TCS.NS</th>\n",
       "      <th>INDIA</th>\n",
       "      <td>2002-08-12</td>\n",
       "      <td>2024-04-25</td>\n",
       "    </tr>\n",
       "    <tr>\n",
       "      <th>TTE</th>\n",
       "      <th>EU</th>\n",
       "      <td>1991-10-25</td>\n",
       "      <td>2024-04-25</td>\n",
       "    </tr>\n",
       "    <tr>\n",
       "      <th>V</th>\n",
       "      <th>US</th>\n",
       "      <td>2008-03-19</td>\n",
       "      <td>2024-04-25</td>\n",
       "    </tr>\n",
       "  </tbody>\n",
       "</table>\n",
       "</div>\n",
       "    <div class=\"colab-df-buttons\">\n",
       "\n",
       "  <div class=\"colab-df-container\">\n",
       "    <button class=\"colab-df-convert\" onclick=\"convertToInteractive('df-a567f221-70b9-4459-aa53-76cc7a99cef8')\"\n",
       "            title=\"Convert this dataframe to an interactive table.\"\n",
       "            style=\"display:none;\">\n",
       "\n",
       "  <svg xmlns=\"http://www.w3.org/2000/svg\" height=\"24px\" viewBox=\"0 -960 960 960\">\n",
       "    <path d=\"M120-120v-720h720v720H120Zm60-500h600v-160H180v160Zm220 220h160v-160H400v160Zm0 220h160v-160H400v160ZM180-400h160v-160H180v160Zm440 0h160v-160H620v160ZM180-180h160v-160H180v160Zm440 0h160v-160H620v160Z\"/>\n",
       "  </svg>\n",
       "    </button>\n",
       "\n",
       "  <style>\n",
       "    .colab-df-container {\n",
       "      display:flex;\n",
       "      gap: 12px;\n",
       "    }\n",
       "\n",
       "    .colab-df-convert {\n",
       "      background-color: #E8F0FE;\n",
       "      border: none;\n",
       "      border-radius: 50%;\n",
       "      cursor: pointer;\n",
       "      display: none;\n",
       "      fill: #1967D2;\n",
       "      height: 32px;\n",
       "      padding: 0 0 0 0;\n",
       "      width: 32px;\n",
       "    }\n",
       "\n",
       "    .colab-df-convert:hover {\n",
       "      background-color: #E2EBFA;\n",
       "      box-shadow: 0px 1px 2px rgba(60, 64, 67, 0.3), 0px 1px 3px 1px rgba(60, 64, 67, 0.15);\n",
       "      fill: #174EA6;\n",
       "    }\n",
       "\n",
       "    .colab-df-buttons div {\n",
       "      margin-bottom: 4px;\n",
       "    }\n",
       "\n",
       "    [theme=dark] .colab-df-convert {\n",
       "      background-color: #3B4455;\n",
       "      fill: #D2E3FC;\n",
       "    }\n",
       "\n",
       "    [theme=dark] .colab-df-convert:hover {\n",
       "      background-color: #434B5C;\n",
       "      box-shadow: 0px 1px 3px 1px rgba(0, 0, 0, 0.15);\n",
       "      filter: drop-shadow(0px 1px 2px rgba(0, 0, 0, 0.3));\n",
       "      fill: #FFFFFF;\n",
       "    }\n",
       "  </style>\n",
       "\n",
       "    <script>\n",
       "      const buttonEl =\n",
       "        document.querySelector('#df-a567f221-70b9-4459-aa53-76cc7a99cef8 button.colab-df-convert');\n",
       "      buttonEl.style.display =\n",
       "        google.colab.kernel.accessAllowed ? 'block' : 'none';\n",
       "\n",
       "      async function convertToInteractive(key) {\n",
       "        const element = document.querySelector('#df-a567f221-70b9-4459-aa53-76cc7a99cef8');\n",
       "        const dataTable =\n",
       "          await google.colab.kernel.invokeFunction('convertToInteractive',\n",
       "                                                    [key], {});\n",
       "        if (!dataTable) return;\n",
       "\n",
       "        const docLinkHtml = 'Like what you see? Visit the ' +\n",
       "          '<a target=\"_blank\" href=https://colab.research.google.com/notebooks/data_table.ipynb>data table notebook</a>'\n",
       "          + ' to learn more about interactive tables.';\n",
       "        element.innerHTML = '';\n",
       "        dataTable['output_type'] = 'display_data';\n",
       "        await google.colab.output.renderOutput(dataTable, element);\n",
       "        const docLink = document.createElement('div');\n",
       "        docLink.innerHTML = docLinkHtml;\n",
       "        element.appendChild(docLink);\n",
       "      }\n",
       "    </script>\n",
       "  </div>\n",
       "\n",
       "\n",
       "<div id=\"df-ae43645b-8dd1-4c7a-9cf6-5b8cbc48d8eb\">\n",
       "  <button class=\"colab-df-quickchart\" onclick=\"quickchart('df-ae43645b-8dd1-4c7a-9cf6-5b8cbc48d8eb')\"\n",
       "            title=\"Suggest charts\"\n",
       "            style=\"display:none;\">\n",
       "\n",
       "<svg xmlns=\"http://www.w3.org/2000/svg\" height=\"24px\"viewBox=\"0 0 24 24\"\n",
       "     width=\"24px\">\n",
       "    <g>\n",
       "        <path d=\"M19 3H5c-1.1 0-2 .9-2 2v14c0 1.1.9 2 2 2h14c1.1 0 2-.9 2-2V5c0-1.1-.9-2-2-2zM9 17H7v-7h2v7zm4 0h-2V7h2v10zm4 0h-2v-4h2v4z\"/>\n",
       "    </g>\n",
       "</svg>\n",
       "  </button>\n",
       "\n",
       "<style>\n",
       "  .colab-df-quickchart {\n",
       "      --bg-color: #E8F0FE;\n",
       "      --fill-color: #1967D2;\n",
       "      --hover-bg-color: #E2EBFA;\n",
       "      --hover-fill-color: #174EA6;\n",
       "      --disabled-fill-color: #AAA;\n",
       "      --disabled-bg-color: #DDD;\n",
       "  }\n",
       "\n",
       "  [theme=dark] .colab-df-quickchart {\n",
       "      --bg-color: #3B4455;\n",
       "      --fill-color: #D2E3FC;\n",
       "      --hover-bg-color: #434B5C;\n",
       "      --hover-fill-color: #FFFFFF;\n",
       "      --disabled-bg-color: #3B4455;\n",
       "      --disabled-fill-color: #666;\n",
       "  }\n",
       "\n",
       "  .colab-df-quickchart {\n",
       "    background-color: var(--bg-color);\n",
       "    border: none;\n",
       "    border-radius: 50%;\n",
       "    cursor: pointer;\n",
       "    display: none;\n",
       "    fill: var(--fill-color);\n",
       "    height: 32px;\n",
       "    padding: 0;\n",
       "    width: 32px;\n",
       "  }\n",
       "\n",
       "  .colab-df-quickchart:hover {\n",
       "    background-color: var(--hover-bg-color);\n",
       "    box-shadow: 0 1px 2px rgba(60, 64, 67, 0.3), 0 1px 3px 1px rgba(60, 64, 67, 0.15);\n",
       "    fill: var(--button-hover-fill-color);\n",
       "  }\n",
       "\n",
       "  .colab-df-quickchart-complete:disabled,\n",
       "  .colab-df-quickchart-complete:disabled:hover {\n",
       "    background-color: var(--disabled-bg-color);\n",
       "    fill: var(--disabled-fill-color);\n",
       "    box-shadow: none;\n",
       "  }\n",
       "\n",
       "  .colab-df-spinner {\n",
       "    border: 2px solid var(--fill-color);\n",
       "    border-color: transparent;\n",
       "    border-bottom-color: var(--fill-color);\n",
       "    animation:\n",
       "      spin 1s steps(1) infinite;\n",
       "  }\n",
       "\n",
       "  @keyframes spin {\n",
       "    0% {\n",
       "      border-color: transparent;\n",
       "      border-bottom-color: var(--fill-color);\n",
       "      border-left-color: var(--fill-color);\n",
       "    }\n",
       "    20% {\n",
       "      border-color: transparent;\n",
       "      border-left-color: var(--fill-color);\n",
       "      border-top-color: var(--fill-color);\n",
       "    }\n",
       "    30% {\n",
       "      border-color: transparent;\n",
       "      border-left-color: var(--fill-color);\n",
       "      border-top-color: var(--fill-color);\n",
       "      border-right-color: var(--fill-color);\n",
       "    }\n",
       "    40% {\n",
       "      border-color: transparent;\n",
       "      border-right-color: var(--fill-color);\n",
       "      border-top-color: var(--fill-color);\n",
       "    }\n",
       "    60% {\n",
       "      border-color: transparent;\n",
       "      border-right-color: var(--fill-color);\n",
       "    }\n",
       "    80% {\n",
       "      border-color: transparent;\n",
       "      border-right-color: var(--fill-color);\n",
       "      border-bottom-color: var(--fill-color);\n",
       "    }\n",
       "    90% {\n",
       "      border-color: transparent;\n",
       "      border-bottom-color: var(--fill-color);\n",
       "    }\n",
       "  }\n",
       "</style>\n",
       "\n",
       "  <script>\n",
       "    async function quickchart(key) {\n",
       "      const quickchartButtonEl =\n",
       "        document.querySelector('#' + key + ' button');\n",
       "      quickchartButtonEl.disabled = true;  // To prevent multiple clicks.\n",
       "      quickchartButtonEl.classList.add('colab-df-spinner');\n",
       "      try {\n",
       "        const charts = await google.colab.kernel.invokeFunction(\n",
       "            'suggestCharts', [key], {});\n",
       "      } catch (error) {\n",
       "        console.error('Error during call to suggestCharts:', error);\n",
       "      }\n",
       "      quickchartButtonEl.classList.remove('colab-df-spinner');\n",
       "      quickchartButtonEl.classList.add('colab-df-quickchart-complete');\n",
       "    }\n",
       "    (() => {\n",
       "      let quickchartButtonEl =\n",
       "        document.querySelector('#df-ae43645b-8dd1-4c7a-9cf6-5b8cbc48d8eb button');\n",
       "      quickchartButtonEl.style.display =\n",
       "        google.colab.kernel.accessAllowed ? 'block' : 'none';\n",
       "    })();\n",
       "  </script>\n",
       "</div>\n",
       "    </div>\n",
       "  </div>\n"
      ],
      "text/plain": [
       "                                  min         max\n",
       "Ticker        ticker_type                        \n",
       "AAPL          US           1980-12-12  2024-04-25\n",
       "ACN           EU           2001-07-19  2024-04-25\n",
       "AMZN          US           1997-05-15  2024-04-24\n",
       "ASML          EU           1995-03-15  2024-04-25\n",
       "AVGO          US           2009-08-06  2024-04-25\n",
       "BHARTIARTL.NS INDIA        2002-07-01  2024-04-25\n",
       "BRK-B         US           1996-05-09  2024-04-25\n",
       "CDI.PA        EU           1992-01-27  2024-04-25\n",
       "GOOG          US           2004-08-19  2024-04-25\n",
       "HDB           INDIA        2001-07-20  2024-04-25\n",
       "HINDUNILVR.NS INDIA        1996-01-01  2024-04-25\n",
       "IBN           INDIA        2000-03-28  2024-04-25\n",
       "IDEXY         EU           2010-01-20  2024-04-25\n",
       "INFY          INDIA        1999-03-11  2024-04-25\n",
       "ITC.NS        INDIA        1996-01-01  2024-04-25\n",
       "JPM           US           1980-03-17  2024-04-25\n",
       "LICI.NS       INDIA        2022-05-17  2024-04-25\n",
       "LLY           US           1972-06-01  2024-04-25\n",
       "LT.NS         INDIA        2002-07-01  2024-04-25\n",
       "MC.PA         EU           2000-01-03  2024-04-25\n",
       "META          US           2012-05-18  2024-04-25\n",
       "MSFT          US           1986-03-13  2024-04-25\n",
       "NVDA          US           1999-01-22  2024-04-25\n",
       "NVO           EU           1981-04-30  2024-04-25\n",
       "OR.PA         EU           2000-01-03  2024-04-25\n",
       "RELIANCE.NS   INDIA        1996-01-01  2024-04-25\n",
       "RMS.PA        EU           2000-01-03  2024-04-25\n",
       "SAP           EU           1995-09-18  2024-04-25\n",
       "SBIN.NS       INDIA        1996-01-01  2024-04-25\n",
       "SIE.DE        EU           1996-11-08  2024-04-25\n",
       "TCS.NS        INDIA        2002-08-12  2024-04-25\n",
       "TTE           EU           1991-10-25  2024-04-25\n",
       "V             US           2008-03-19  2024-04-25"
      ]
     },
     "metadata": {},
     "output_type": "display_data"
    }
   ],
   "source": [
    "stocks_df.groupby(['Ticker','ticker_type']).Date.agg(['min','max'])"
   ]
  },
  {
   "cell_type": "code",
   "execution_count": null,
   "metadata": {},
   "outputs": [
    {
     "data": {
      "text/plain": [
       "Year  ticker_type\n",
       "2020  EU             1.245388\n",
       "      INDIA          1.101896\n",
       "      US             1.484070\n",
       "2021  EU             1.582170\n",
       "      INDIA          1.546424\n",
       "      US             1.797571\n",
       "2022  EU             1.191169\n",
       "      INDIA          1.379889\n",
       "      US             1.182379\n",
       "2023  EU             1.246533\n",
       "      INDIA          1.201110\n",
       "      US             1.203253\n",
       "2024  EU             1.650721\n",
       "      INDIA          1.305762\n",
       "      US             2.153187\n",
       "Name: growth_365d, dtype: float64"
      ]
     },
     "metadata": {},
     "output_type": "display_data"
    }
   ],
   "source": [
    "#  average growth 365days\n",
    "stocks_df[stocks_df.Year>=2020].groupby(by=['Year','ticker_type']).growth_365d.mean()"
   ]
  },
  {
   "cell_type": "code",
   "execution_count": null,
   "metadata": {},
   "outputs": [],
   "source": [
    "stocks_df['Date'] = pd.to_datetime(stocks_df['Date'])"
   ]
  },
  {
   "cell_type": "code",
   "execution_count": null,
   "metadata": {},
   "outputs": [
    {
     "name": "stdout",
     "output_type": "stream",
     "text": [
      "<class 'pandas.core.frame.DataFrame'>\n",
      "Index: 182423 entries, 3490 to 220889\n",
      "Data columns (total 25 columns):\n",
      " #   Column                        Non-Null Count   Dtype         \n",
      "---  ------                        --------------   -----         \n",
      " 0   Open                          182423 non-null  float64       \n",
      " 1   High                          182423 non-null  float64       \n",
      " 2   Low                           182423 non-null  float64       \n",
      " 3   Close                         182423 non-null  float64       \n",
      " 4   Adj Close                     182423 non-null  float64       \n",
      " 5   Volume                        182423 non-null  int64         \n",
      " 6   Ticker                        182423 non-null  object        \n",
      " 7   Year                          182423 non-null  int32         \n",
      " 8   Month                         182423 non-null  int32         \n",
      " 9   Weekday                       182423 non-null  int32         \n",
      " 10  Date                          182423 non-null  datetime64[ns]\n",
      " 11  growth_1d                     182408 non-null  float64       \n",
      " 12  growth_3d                     182378 non-null  float64       \n",
      " 13  growth_7d                     182318 non-null  float64       \n",
      " 14  growth_30d                    181973 non-null  float64       \n",
      " 15  growth_90d                    181073 non-null  float64       \n",
      " 16  growth_365d                   176663 non-null  float64       \n",
      " 17  growth_future_5d              182258 non-null  float64       \n",
      " 18  SMA10                         182288 non-null  float64       \n",
      " 19  SMA20                         182138 non-null  float64       \n",
      " 20  growing_moving_average        182423 non-null  int64         \n",
      " 21  high_minus_low_relative       182423 non-null  float64       \n",
      " 22  volatility                    181988 non-null  float64       \n",
      " 23  is_positive_growth_5d_future  182423 non-null  int64         \n",
      " 24  ticker_type                   182423 non-null  object        \n",
      "dtypes: datetime64[ns](1), float64(16), int32(3), int64(3), object(2)\n",
      "memory usage: 34.1+ MB\n"
     ]
    }
   ],
   "source": [
    "# filtering only on stats after 2000\n",
    "stocks_df[stocks_df.Date>='2000-01-01'].info()"
   ]
  },
  {
   "cell_type": "code",
   "execution_count": null,
   "metadata": {},
   "outputs": [
    {
     "data": {
      "application/vnd.google.colaboratory.intrinsic+json": {
       "type": "dataframe"
      },
      "text/html": [
       "\n",
       "  <div id=\"df-ccfe7d88-a6c7-4c2e-98d2-523d6fa8d0bf\" class=\"colab-df-container\">\n",
       "    <div>\n",
       "<style scoped>\n",
       "    .dataframe tbody tr th:only-of-type {\n",
       "        vertical-align: middle;\n",
       "    }\n",
       "\n",
       "    .dataframe tbody tr th {\n",
       "        vertical-align: top;\n",
       "    }\n",
       "\n",
       "    .dataframe thead th {\n",
       "        text-align: right;\n",
       "    }\n",
       "</style>\n",
       "<table border=\"1\" class=\"dataframe\">\n",
       "  <thead>\n",
       "    <tr style=\"text-align: right;\">\n",
       "      <th></th>\n",
       "      <th>Open</th>\n",
       "      <th>High</th>\n",
       "      <th>Low</th>\n",
       "      <th>Close</th>\n",
       "      <th>Adj Close</th>\n",
       "      <th>Volume</th>\n",
       "      <th>Ticker</th>\n",
       "      <th>Year</th>\n",
       "      <th>Month</th>\n",
       "      <th>Weekday</th>\n",
       "      <th>...</th>\n",
       "      <th>growth_90d</th>\n",
       "      <th>growth_365d</th>\n",
       "      <th>growth_future_5d</th>\n",
       "      <th>SMA10</th>\n",
       "      <th>SMA20</th>\n",
       "      <th>growing_moving_average</th>\n",
       "      <th>high_minus_low_relative</th>\n",
       "      <th>volatility</th>\n",
       "      <th>is_positive_growth_5d_future</th>\n",
       "      <th>ticker_type</th>\n",
       "    </tr>\n",
       "  </thead>\n",
       "  <tbody>\n",
       "    <tr>\n",
       "      <th>194903</th>\n",
       "      <td>925.000000</td>\n",
       "      <td>984.450012</td>\n",
       "      <td>924.000000</td>\n",
       "      <td>970.599976</td>\n",
       "      <td>970.599976</td>\n",
       "      <td>4863536</td>\n",
       "      <td>LICI.NS</td>\n",
       "      <td>2024</td>\n",
       "      <td>4</td>\n",
       "      <td>0</td>\n",
       "      <td>...</td>\n",
       "      <td>1.599113</td>\n",
       "      <td>1.556710</td>\n",
       "      <td>1.026891</td>\n",
       "      <td>906.085004</td>\n",
       "      <td>953.950003</td>\n",
       "      <td>0</td>\n",
       "      <td>0.062281</td>\n",
       "      <td>1034.237352</td>\n",
       "      <td>1</td>\n",
       "      <td>INDIA</td>\n",
       "    </tr>\n",
       "    <tr>\n",
       "      <th>201224</th>\n",
       "      <td>17.889999</td>\n",
       "      <td>17.920000</td>\n",
       "      <td>17.500000</td>\n",
       "      <td>17.580000</td>\n",
       "      <td>17.580000</td>\n",
       "      <td>14601600</td>\n",
       "      <td>INFY</td>\n",
       "      <td>2024</td>\n",
       "      <td>4</td>\n",
       "      <td>0</td>\n",
       "      <td>...</td>\n",
       "      <td>1.003998</td>\n",
       "      <td>1.024508</td>\n",
       "      <td>1.015927</td>\n",
       "      <td>18.156000</td>\n",
       "      <td>18.777500</td>\n",
       "      <td>0</td>\n",
       "      <td>0.023891</td>\n",
       "      <td>13.940634</td>\n",
       "      <td>1</td>\n",
       "      <td>INDIA</td>\n",
       "    </tr>\n",
       "    <tr>\n",
       "      <th>208338</th>\n",
       "      <td>429.100006</td>\n",
       "      <td>431.350006</td>\n",
       "      <td>425.750000</td>\n",
       "      <td>426.700012</td>\n",
       "      <td>426.700012</td>\n",
       "      <td>9382308</td>\n",
       "      <td>ITC.NS</td>\n",
       "      <td>2024</td>\n",
       "      <td>4</td>\n",
       "      <td>0</td>\n",
       "      <td>...</td>\n",
       "      <td>0.987044</td>\n",
       "      <td>1.314436</td>\n",
       "      <td>1.005625</td>\n",
       "      <td>422.235004</td>\n",
       "      <td>416.537502</td>\n",
       "      <td>1</td>\n",
       "      <td>0.013124</td>\n",
       "      <td>130.246651</td>\n",
       "      <td>1</td>\n",
       "      <td>INDIA</td>\n",
       "    </tr>\n",
       "    <tr>\n",
       "      <th>215453</th>\n",
       "      <td>2270.000000</td>\n",
       "      <td>2295.000000</td>\n",
       "      <td>2262.000000</td>\n",
       "      <td>2285.899902</td>\n",
       "      <td>2285.899902</td>\n",
       "      <td>1427873</td>\n",
       "      <td>HINDUNILVR.NS</td>\n",
       "      <td>2024</td>\n",
       "      <td>4</td>\n",
       "      <td>0</td>\n",
       "      <td>...</td>\n",
       "      <td>0.917590</td>\n",
       "      <td>0.894051</td>\n",
       "      <td>0.992585</td>\n",
       "      <td>2266.539990</td>\n",
       "      <td>2327.240015</td>\n",
       "      <td>0</td>\n",
       "      <td>0.014436</td>\n",
       "      <td>1049.970071</td>\n",
       "      <td>0</td>\n",
       "      <td>INDIA</td>\n",
       "    </tr>\n",
       "    <tr>\n",
       "      <th>220873</th>\n",
       "      <td>3780.850098</td>\n",
       "      <td>3851.850098</td>\n",
       "      <td>3780.850098</td>\n",
       "      <td>3838.000000</td>\n",
       "      <td>3838.000000</td>\n",
       "      <td>1905190</td>\n",
       "      <td>LT.NS</td>\n",
       "      <td>2024</td>\n",
       "      <td>4</td>\n",
       "      <td>0</td>\n",
       "      <td>...</td>\n",
       "      <td>1.257886</td>\n",
       "      <td>2.010850</td>\n",
       "      <td>0.992144</td>\n",
       "      <td>3626.594971</td>\n",
       "      <td>3618.109985</td>\n",
       "      <td>1</td>\n",
       "      <td>0.018499</td>\n",
       "      <td>2188.619806</td>\n",
       "      <td>0</td>\n",
       "      <td>INDIA</td>\n",
       "    </tr>\n",
       "  </tbody>\n",
       "</table>\n",
       "<p>5 rows × 25 columns</p>\n",
       "</div>\n",
       "    <div class=\"colab-df-buttons\">\n",
       "\n",
       "  <div class=\"colab-df-container\">\n",
       "    <button class=\"colab-df-convert\" onclick=\"convertToInteractive('df-ccfe7d88-a6c7-4c2e-98d2-523d6fa8d0bf')\"\n",
       "            title=\"Convert this dataframe to an interactive table.\"\n",
       "            style=\"display:none;\">\n",
       "\n",
       "  <svg xmlns=\"http://www.w3.org/2000/svg\" height=\"24px\" viewBox=\"0 -960 960 960\">\n",
       "    <path d=\"M120-120v-720h720v720H120Zm60-500h600v-160H180v160Zm220 220h160v-160H400v160Zm0 220h160v-160H400v160ZM180-400h160v-160H180v160Zm440 0h160v-160H620v160ZM180-180h160v-160H180v160Zm440 0h160v-160H620v160Z\"/>\n",
       "  </svg>\n",
       "    </button>\n",
       "\n",
       "  <style>\n",
       "    .colab-df-container {\n",
       "      display:flex;\n",
       "      gap: 12px;\n",
       "    }\n",
       "\n",
       "    .colab-df-convert {\n",
       "      background-color: #E8F0FE;\n",
       "      border: none;\n",
       "      border-radius: 50%;\n",
       "      cursor: pointer;\n",
       "      display: none;\n",
       "      fill: #1967D2;\n",
       "      height: 32px;\n",
       "      padding: 0 0 0 0;\n",
       "      width: 32px;\n",
       "    }\n",
       "\n",
       "    .colab-df-convert:hover {\n",
       "      background-color: #E2EBFA;\n",
       "      box-shadow: 0px 1px 2px rgba(60, 64, 67, 0.3), 0px 1px 3px 1px rgba(60, 64, 67, 0.15);\n",
       "      fill: #174EA6;\n",
       "    }\n",
       "\n",
       "    .colab-df-buttons div {\n",
       "      margin-bottom: 4px;\n",
       "    }\n",
       "\n",
       "    [theme=dark] .colab-df-convert {\n",
       "      background-color: #3B4455;\n",
       "      fill: #D2E3FC;\n",
       "    }\n",
       "\n",
       "    [theme=dark] .colab-df-convert:hover {\n",
       "      background-color: #434B5C;\n",
       "      box-shadow: 0px 1px 3px 1px rgba(0, 0, 0, 0.15);\n",
       "      filter: drop-shadow(0px 1px 2px rgba(0, 0, 0, 0.3));\n",
       "      fill: #FFFFFF;\n",
       "    }\n",
       "  </style>\n",
       "\n",
       "    <script>\n",
       "      const buttonEl =\n",
       "        document.querySelector('#df-ccfe7d88-a6c7-4c2e-98d2-523d6fa8d0bf button.colab-df-convert');\n",
       "      buttonEl.style.display =\n",
       "        google.colab.kernel.accessAllowed ? 'block' : 'none';\n",
       "\n",
       "      async function convertToInteractive(key) {\n",
       "        const element = document.querySelector('#df-ccfe7d88-a6c7-4c2e-98d2-523d6fa8d0bf');\n",
       "        const dataTable =\n",
       "          await google.colab.kernel.invokeFunction('convertToInteractive',\n",
       "                                                    [key], {});\n",
       "        if (!dataTable) return;\n",
       "\n",
       "        const docLinkHtml = 'Like what you see? Visit the ' +\n",
       "          '<a target=\"_blank\" href=https://colab.research.google.com/notebooks/data_table.ipynb>data table notebook</a>'\n",
       "          + ' to learn more about interactive tables.';\n",
       "        element.innerHTML = '';\n",
       "        dataTable['output_type'] = 'display_data';\n",
       "        await google.colab.output.renderOutput(dataTable, element);\n",
       "        const docLink = document.createElement('div');\n",
       "        docLink.innerHTML = docLinkHtml;\n",
       "        element.appendChild(docLink);\n",
       "      }\n",
       "    </script>\n",
       "  </div>\n",
       "\n",
       "\n",
       "<div id=\"df-5f73d462-b852-46ef-b937-ac97878e751c\">\n",
       "  <button class=\"colab-df-quickchart\" onclick=\"quickchart('df-5f73d462-b852-46ef-b937-ac97878e751c')\"\n",
       "            title=\"Suggest charts\"\n",
       "            style=\"display:none;\">\n",
       "\n",
       "<svg xmlns=\"http://www.w3.org/2000/svg\" height=\"24px\"viewBox=\"0 0 24 24\"\n",
       "     width=\"24px\">\n",
       "    <g>\n",
       "        <path d=\"M19 3H5c-1.1 0-2 .9-2 2v14c0 1.1.9 2 2 2h14c1.1 0 2-.9 2-2V5c0-1.1-.9-2-2-2zM9 17H7v-7h2v7zm4 0h-2V7h2v10zm4 0h-2v-4h2v4z\"/>\n",
       "    </g>\n",
       "</svg>\n",
       "  </button>\n",
       "\n",
       "<style>\n",
       "  .colab-df-quickchart {\n",
       "      --bg-color: #E8F0FE;\n",
       "      --fill-color: #1967D2;\n",
       "      --hover-bg-color: #E2EBFA;\n",
       "      --hover-fill-color: #174EA6;\n",
       "      --disabled-fill-color: #AAA;\n",
       "      --disabled-bg-color: #DDD;\n",
       "  }\n",
       "\n",
       "  [theme=dark] .colab-df-quickchart {\n",
       "      --bg-color: #3B4455;\n",
       "      --fill-color: #D2E3FC;\n",
       "      --hover-bg-color: #434B5C;\n",
       "      --hover-fill-color: #FFFFFF;\n",
       "      --disabled-bg-color: #3B4455;\n",
       "      --disabled-fill-color: #666;\n",
       "  }\n",
       "\n",
       "  .colab-df-quickchart {\n",
       "    background-color: var(--bg-color);\n",
       "    border: none;\n",
       "    border-radius: 50%;\n",
       "    cursor: pointer;\n",
       "    display: none;\n",
       "    fill: var(--fill-color);\n",
       "    height: 32px;\n",
       "    padding: 0;\n",
       "    width: 32px;\n",
       "  }\n",
       "\n",
       "  .colab-df-quickchart:hover {\n",
       "    background-color: var(--hover-bg-color);\n",
       "    box-shadow: 0 1px 2px rgba(60, 64, 67, 0.3), 0 1px 3px 1px rgba(60, 64, 67, 0.15);\n",
       "    fill: var(--button-hover-fill-color);\n",
       "  }\n",
       "\n",
       "  .colab-df-quickchart-complete:disabled,\n",
       "  .colab-df-quickchart-complete:disabled:hover {\n",
       "    background-color: var(--disabled-bg-color);\n",
       "    fill: var(--disabled-fill-color);\n",
       "    box-shadow: none;\n",
       "  }\n",
       "\n",
       "  .colab-df-spinner {\n",
       "    border: 2px solid var(--fill-color);\n",
       "    border-color: transparent;\n",
       "    border-bottom-color: var(--fill-color);\n",
       "    animation:\n",
       "      spin 1s steps(1) infinite;\n",
       "  }\n",
       "\n",
       "  @keyframes spin {\n",
       "    0% {\n",
       "      border-color: transparent;\n",
       "      border-bottom-color: var(--fill-color);\n",
       "      border-left-color: var(--fill-color);\n",
       "    }\n",
       "    20% {\n",
       "      border-color: transparent;\n",
       "      border-left-color: var(--fill-color);\n",
       "      border-top-color: var(--fill-color);\n",
       "    }\n",
       "    30% {\n",
       "      border-color: transparent;\n",
       "      border-left-color: var(--fill-color);\n",
       "      border-top-color: var(--fill-color);\n",
       "      border-right-color: var(--fill-color);\n",
       "    }\n",
       "    40% {\n",
       "      border-color: transparent;\n",
       "      border-right-color: var(--fill-color);\n",
       "      border-top-color: var(--fill-color);\n",
       "    }\n",
       "    60% {\n",
       "      border-color: transparent;\n",
       "      border-right-color: var(--fill-color);\n",
       "    }\n",
       "    80% {\n",
       "      border-color: transparent;\n",
       "      border-right-color: var(--fill-color);\n",
       "      border-bottom-color: var(--fill-color);\n",
       "    }\n",
       "    90% {\n",
       "      border-color: transparent;\n",
       "      border-bottom-color: var(--fill-color);\n",
       "    }\n",
       "  }\n",
       "</style>\n",
       "\n",
       "  <script>\n",
       "    async function quickchart(key) {\n",
       "      const quickchartButtonEl =\n",
       "        document.querySelector('#' + key + ' button');\n",
       "      quickchartButtonEl.disabled = true;  // To prevent multiple clicks.\n",
       "      quickchartButtonEl.classList.add('colab-df-spinner');\n",
       "      try {\n",
       "        const charts = await google.colab.kernel.invokeFunction(\n",
       "            'suggestCharts', [key], {});\n",
       "      } catch (error) {\n",
       "        console.error('Error during call to suggestCharts:', error);\n",
       "      }\n",
       "      quickchartButtonEl.classList.remove('colab-df-spinner');\n",
       "      quickchartButtonEl.classList.add('colab-df-quickchart-complete');\n",
       "    }\n",
       "    (() => {\n",
       "      let quickchartButtonEl =\n",
       "        document.querySelector('#df-5f73d462-b852-46ef-b937-ac97878e751c button');\n",
       "      quickchartButtonEl.style.display =\n",
       "        google.colab.kernel.accessAllowed ? 'block' : 'none';\n",
       "    })();\n",
       "  </script>\n",
       "</div>\n",
       "    </div>\n",
       "  </div>\n"
      ],
      "text/plain": [
       "               Open         High          Low        Close    Adj Close  \\\n",
       "194903   925.000000   984.450012   924.000000   970.599976   970.599976   \n",
       "201224    17.889999    17.920000    17.500000    17.580000    17.580000   \n",
       "208338   429.100006   431.350006   425.750000   426.700012   426.700012   \n",
       "215453  2270.000000  2295.000000  2262.000000  2285.899902  2285.899902   \n",
       "220873  3780.850098  3851.850098  3780.850098  3838.000000  3838.000000   \n",
       "\n",
       "          Volume         Ticker  Year  Month  Weekday  ... growth_90d  \\\n",
       "194903   4863536        LICI.NS  2024      4        0  ...   1.599113   \n",
       "201224  14601600           INFY  2024      4        0  ...   1.003998   \n",
       "208338   9382308         ITC.NS  2024      4        0  ...   0.987044   \n",
       "215453   1427873  HINDUNILVR.NS  2024      4        0  ...   0.917590   \n",
       "220873   1905190          LT.NS  2024      4        0  ...   1.257886   \n",
       "\n",
       "        growth_365d  growth_future_5d        SMA10        SMA20  \\\n",
       "194903     1.556710          1.026891   906.085004   953.950003   \n",
       "201224     1.024508          1.015927    18.156000    18.777500   \n",
       "208338     1.314436          1.005625   422.235004   416.537502   \n",
       "215453     0.894051          0.992585  2266.539990  2327.240015   \n",
       "220873     2.010850          0.992144  3626.594971  3618.109985   \n",
       "\n",
       "        growing_moving_average  high_minus_low_relative   volatility  \\\n",
       "194903                       0                 0.062281  1034.237352   \n",
       "201224                       0                 0.023891    13.940634   \n",
       "208338                       1                 0.013124   130.246651   \n",
       "215453                       0                 0.014436  1049.970071   \n",
       "220873                       1                 0.018499  2188.619806   \n",
       "\n",
       "        is_positive_growth_5d_future  ticker_type  \n",
       "194903                             1        INDIA  \n",
       "201224                             1        INDIA  \n",
       "208338                             1        INDIA  \n",
       "215453                             0        INDIA  \n",
       "220873                             0        INDIA  \n",
       "\n",
       "[5 rows x 25 columns]"
      ]
     },
     "metadata": {},
     "output_type": "display_data"
    }
   ],
   "source": [
    "stocks_df[stocks_df.Date=='2024-04-01'].tail()"
   ]
  },
  {
   "cell_type": "code",
   "execution_count": 57,
   "metadata": {},
   "outputs": [],
   "source": [
    "stocks_df['ticker_type'] = stocks_df.Ticker.apply(lambda x:get_ticker_type(x, US_STOCKS, EU_STOCKS, INDIA_STOCKS))"
   ]
  },
  {
   "cell_type": "code",
   "execution_count": 58,
   "metadata": {},
   "outputs": [
    {
     "data": {
      "text/plain": [
       "ticker_type\n",
       "US       80717\n",
       "EU       77058\n",
       "INDIA    63334\n",
       "Name: count, dtype: int64"
      ]
     },
     "execution_count": 58,
     "metadata": {},
     "output_type": "execute_result"
    }
   ],
   "source": [
    "# count of observations between US-EU-INDIA stocks\n",
    "stocks_df.ticker_type.value_counts()"
   ]
  },
  {
   "cell_type": "code",
   "execution_count": 31,
   "metadata": {},
   "outputs": [
    {
     "data": {
      "text/plain": [
       "33"
      ]
     },
     "execution_count": 31,
     "metadata": {},
     "output_type": "execute_result"
    }
   ],
   "source": [
    "# unique tickers\n",
    "stocks_df.Ticker.nunique()"
   ]
  },
  {
   "cell_type": "code",
   "execution_count": 32,
   "metadata": {},
   "outputs": [
    {
     "data": {
      "text/plain": [
       "Ticker\n",
       "LLY              13094\n",
       "JPM              11128\n",
       "AAPL             10940\n",
       "NVO              10845\n",
       "MSFT              9614\n",
       "CDI.PA            8327\n",
       "TTE               8192\n",
       "ASML              7337\n",
       "SAP               7208\n",
       "HINDUNILVR.NS     7121\n",
       "SBIN.NS           7119\n",
       "RELIANCE.NS       7118\n",
       "ITC.NS            7118\n",
       "BRK-B             7045\n",
       "SIE.DE            7045\n",
       "AMZN              6788\n",
       "NVDA              6363\n",
       "INFY              6330\n",
       "MC.PA             6257\n",
       "RMS.PA            6257\n",
       "OR.PA             6257\n",
       "IBN               6065\n",
       "ACN               5735\n",
       "HDB               5734\n",
       "LT.NS             5426\n",
       "BHARTIARTL.NS     5423\n",
       "TCS.NS            5394\n",
       "GOOG              4962\n",
       "V                 4061\n",
       "AVGO              3712\n",
       "IDEXY             3598\n",
       "META              3010\n",
       "LICI.NS            486\n",
       "Name: count, dtype: int64"
      ]
     },
     "execution_count": 32,
     "metadata": {},
     "output_type": "execute_result"
    }
   ],
   "source": [
    "# count of observations by stock\n",
    "stocks_df.Ticker.value_counts()"
   ]
  },
  {
   "cell_type": "code",
   "execution_count": 33,
   "metadata": {},
   "outputs": [
    {
     "data": {
      "text/html": [
       "<div>\n",
       "<style scoped>\n",
       "    .dataframe tbody tr th:only-of-type {\n",
       "        vertical-align: middle;\n",
       "    }\n",
       "\n",
       "    .dataframe tbody tr th {\n",
       "        vertical-align: top;\n",
       "    }\n",
       "\n",
       "    .dataframe thead th {\n",
       "        text-align: right;\n",
       "    }\n",
       "</style>\n",
       "<table border=\"1\" class=\"dataframe\">\n",
       "  <thead>\n",
       "    <tr style=\"text-align: right;\">\n",
       "      <th></th>\n",
       "      <th></th>\n",
       "      <th>min</th>\n",
       "      <th>max</th>\n",
       "    </tr>\n",
       "    <tr>\n",
       "      <th>Ticker</th>\n",
       "      <th>ticker_type</th>\n",
       "      <th></th>\n",
       "      <th></th>\n",
       "    </tr>\n",
       "  </thead>\n",
       "  <tbody>\n",
       "    <tr>\n",
       "      <th>AAPL</th>\n",
       "      <th>US</th>\n",
       "      <td>1980-12-12</td>\n",
       "      <td>2024-05-06</td>\n",
       "    </tr>\n",
       "    <tr>\n",
       "      <th>ACN</th>\n",
       "      <th>EU</th>\n",
       "      <td>2001-07-19</td>\n",
       "      <td>2024-05-06</td>\n",
       "    </tr>\n",
       "    <tr>\n",
       "      <th>AMZN</th>\n",
       "      <th>US</th>\n",
       "      <td>1997-05-15</td>\n",
       "      <td>2024-05-06</td>\n",
       "    </tr>\n",
       "    <tr>\n",
       "      <th>ASML</th>\n",
       "      <th>EU</th>\n",
       "      <td>1995-03-15</td>\n",
       "      <td>2024-05-06</td>\n",
       "    </tr>\n",
       "    <tr>\n",
       "      <th>AVGO</th>\n",
       "      <th>US</th>\n",
       "      <td>2009-08-06</td>\n",
       "      <td>2024-05-06</td>\n",
       "    </tr>\n",
       "    <tr>\n",
       "      <th>BHARTIARTL.NS</th>\n",
       "      <th>INDIA</th>\n",
       "      <td>2002-07-01</td>\n",
       "      <td>2024-05-06</td>\n",
       "    </tr>\n",
       "    <tr>\n",
       "      <th>BRK-B</th>\n",
       "      <th>US</th>\n",
       "      <td>1996-05-09</td>\n",
       "      <td>2024-05-06</td>\n",
       "    </tr>\n",
       "    <tr>\n",
       "      <th>CDI.PA</th>\n",
       "      <th>EU</th>\n",
       "      <td>1992-01-27</td>\n",
       "      <td>2024-05-06</td>\n",
       "    </tr>\n",
       "    <tr>\n",
       "      <th>GOOG</th>\n",
       "      <th>US</th>\n",
       "      <td>2004-08-19</td>\n",
       "      <td>2024-05-06</td>\n",
       "    </tr>\n",
       "    <tr>\n",
       "      <th>HDB</th>\n",
       "      <th>INDIA</th>\n",
       "      <td>2001-07-20</td>\n",
       "      <td>2024-05-06</td>\n",
       "    </tr>\n",
       "    <tr>\n",
       "      <th>HINDUNILVR.NS</th>\n",
       "      <th>INDIA</th>\n",
       "      <td>1996-01-01</td>\n",
       "      <td>2024-05-06</td>\n",
       "    </tr>\n",
       "    <tr>\n",
       "      <th>IBN</th>\n",
       "      <th>INDIA</th>\n",
       "      <td>2000-03-28</td>\n",
       "      <td>2024-05-06</td>\n",
       "    </tr>\n",
       "    <tr>\n",
       "      <th>IDEXY</th>\n",
       "      <th>EU</th>\n",
       "      <td>2010-01-20</td>\n",
       "      <td>2024-05-06</td>\n",
       "    </tr>\n",
       "    <tr>\n",
       "      <th>INFY</th>\n",
       "      <th>INDIA</th>\n",
       "      <td>1999-03-11</td>\n",
       "      <td>2024-05-06</td>\n",
       "    </tr>\n",
       "    <tr>\n",
       "      <th>ITC.NS</th>\n",
       "      <th>INDIA</th>\n",
       "      <td>1996-01-01</td>\n",
       "      <td>2024-05-06</td>\n",
       "    </tr>\n",
       "    <tr>\n",
       "      <th>JPM</th>\n",
       "      <th>US</th>\n",
       "      <td>1980-03-17</td>\n",
       "      <td>2024-05-06</td>\n",
       "    </tr>\n",
       "    <tr>\n",
       "      <th>LICI.NS</th>\n",
       "      <th>INDIA</th>\n",
       "      <td>2022-05-17</td>\n",
       "      <td>2024-05-06</td>\n",
       "    </tr>\n",
       "    <tr>\n",
       "      <th>LLY</th>\n",
       "      <th>US</th>\n",
       "      <td>1972-06-01</td>\n",
       "      <td>2024-05-06</td>\n",
       "    </tr>\n",
       "    <tr>\n",
       "      <th>LT.NS</th>\n",
       "      <th>INDIA</th>\n",
       "      <td>2002-07-01</td>\n",
       "      <td>2024-05-06</td>\n",
       "    </tr>\n",
       "    <tr>\n",
       "      <th>MC.PA</th>\n",
       "      <th>EU</th>\n",
       "      <td>2000-01-03</td>\n",
       "      <td>2024-05-06</td>\n",
       "    </tr>\n",
       "    <tr>\n",
       "      <th>META</th>\n",
       "      <th>US</th>\n",
       "      <td>2012-05-18</td>\n",
       "      <td>2024-05-06</td>\n",
       "    </tr>\n",
       "    <tr>\n",
       "      <th>MSFT</th>\n",
       "      <th>US</th>\n",
       "      <td>1986-03-13</td>\n",
       "      <td>2024-05-06</td>\n",
       "    </tr>\n",
       "    <tr>\n",
       "      <th>NVDA</th>\n",
       "      <th>US</th>\n",
       "      <td>1999-01-22</td>\n",
       "      <td>2024-05-06</td>\n",
       "    </tr>\n",
       "    <tr>\n",
       "      <th>NVO</th>\n",
       "      <th>EU</th>\n",
       "      <td>1981-04-30</td>\n",
       "      <td>2024-05-06</td>\n",
       "    </tr>\n",
       "    <tr>\n",
       "      <th>OR.PA</th>\n",
       "      <th>EU</th>\n",
       "      <td>2000-01-03</td>\n",
       "      <td>2024-05-06</td>\n",
       "    </tr>\n",
       "    <tr>\n",
       "      <th>RELIANCE.NS</th>\n",
       "      <th>INDIA</th>\n",
       "      <td>1996-01-01</td>\n",
       "      <td>2024-05-06</td>\n",
       "    </tr>\n",
       "    <tr>\n",
       "      <th>RMS.PA</th>\n",
       "      <th>EU</th>\n",
       "      <td>2000-01-03</td>\n",
       "      <td>2024-05-06</td>\n",
       "    </tr>\n",
       "    <tr>\n",
       "      <th>SAP</th>\n",
       "      <th>EU</th>\n",
       "      <td>1995-09-18</td>\n",
       "      <td>2024-05-06</td>\n",
       "    </tr>\n",
       "    <tr>\n",
       "      <th>SBIN.NS</th>\n",
       "      <th>INDIA</th>\n",
       "      <td>1996-01-01</td>\n",
       "      <td>2024-05-06</td>\n",
       "    </tr>\n",
       "    <tr>\n",
       "      <th>SIE.DE</th>\n",
       "      <th>EU</th>\n",
       "      <td>1996-11-08</td>\n",
       "      <td>2024-05-06</td>\n",
       "    </tr>\n",
       "    <tr>\n",
       "      <th>TCS.NS</th>\n",
       "      <th>INDIA</th>\n",
       "      <td>2002-08-12</td>\n",
       "      <td>2024-05-06</td>\n",
       "    </tr>\n",
       "    <tr>\n",
       "      <th>TTE</th>\n",
       "      <th>EU</th>\n",
       "      <td>1991-10-25</td>\n",
       "      <td>2024-05-06</td>\n",
       "    </tr>\n",
       "    <tr>\n",
       "      <th>V</th>\n",
       "      <th>US</th>\n",
       "      <td>2008-03-19</td>\n",
       "      <td>2024-05-06</td>\n",
       "    </tr>\n",
       "  </tbody>\n",
       "</table>\n",
       "</div>"
      ],
      "text/plain": [
       "                                  min         max\n",
       "Ticker        ticker_type                        \n",
       "AAPL          US           1980-12-12  2024-05-06\n",
       "ACN           EU           2001-07-19  2024-05-06\n",
       "AMZN          US           1997-05-15  2024-05-06\n",
       "ASML          EU           1995-03-15  2024-05-06\n",
       "AVGO          US           2009-08-06  2024-05-06\n",
       "BHARTIARTL.NS INDIA        2002-07-01  2024-05-06\n",
       "BRK-B         US           1996-05-09  2024-05-06\n",
       "CDI.PA        EU           1992-01-27  2024-05-06\n",
       "GOOG          US           2004-08-19  2024-05-06\n",
       "HDB           INDIA        2001-07-20  2024-05-06\n",
       "HINDUNILVR.NS INDIA        1996-01-01  2024-05-06\n",
       "IBN           INDIA        2000-03-28  2024-05-06\n",
       "IDEXY         EU           2010-01-20  2024-05-06\n",
       "INFY          INDIA        1999-03-11  2024-05-06\n",
       "ITC.NS        INDIA        1996-01-01  2024-05-06\n",
       "JPM           US           1980-03-17  2024-05-06\n",
       "LICI.NS       INDIA        2022-05-17  2024-05-06\n",
       "LLY           US           1972-06-01  2024-05-06\n",
       "LT.NS         INDIA        2002-07-01  2024-05-06\n",
       "MC.PA         EU           2000-01-03  2024-05-06\n",
       "META          US           2012-05-18  2024-05-06\n",
       "MSFT          US           1986-03-13  2024-05-06\n",
       "NVDA          US           1999-01-22  2024-05-06\n",
       "NVO           EU           1981-04-30  2024-05-06\n",
       "OR.PA         EU           2000-01-03  2024-05-06\n",
       "RELIANCE.NS   INDIA        1996-01-01  2024-05-06\n",
       "RMS.PA        EU           2000-01-03  2024-05-06\n",
       "SAP           EU           1995-09-18  2024-05-06\n",
       "SBIN.NS       INDIA        1996-01-01  2024-05-06\n",
       "SIE.DE        EU           1996-11-08  2024-05-06\n",
       "TCS.NS        INDIA        2002-08-12  2024-05-06\n",
       "TTE           EU           1991-10-25  2024-05-06\n",
       "V             US           2008-03-19  2024-05-06"
      ]
     },
     "execution_count": 33,
     "metadata": {},
     "output_type": "execute_result"
    }
   ],
   "source": [
    "stocks_df.groupby(['Ticker','ticker_type']).Date.agg(['min','max'])"
   ]
  },
  {
   "cell_type": "code",
   "execution_count": 34,
   "metadata": {},
   "outputs": [
    {
     "data": {
      "text/plain": [
       "Year  ticker_type\n",
       "2020  EU             1.245388\n",
       "      INDIA          1.101896\n",
       "      US             1.484070\n",
       "2021  EU             1.582170\n",
       "      INDIA          1.546424\n",
       "      US             1.797571\n",
       "2022  EU             1.191169\n",
       "      INDIA          1.379889\n",
       "      US             1.182379\n",
       "2023  EU             1.246533\n",
       "      INDIA          1.201110\n",
       "      US             1.203253\n",
       "2024  EU             1.640018\n",
       "      INDIA          1.302174\n",
       "      US             2.160563\n",
       "Name: growth_365d, dtype: float64"
      ]
     },
     "execution_count": 34,
     "metadata": {},
     "output_type": "execute_result"
    }
   ],
   "source": [
    "#  average growth 365days\n",
    "stocks_df[stocks_df.Year>=2020].groupby(by=['Year','ticker_type']).growth_365d.mean()"
   ]
  },
  {
   "cell_type": "code",
   "execution_count": 35,
   "metadata": {},
   "outputs": [],
   "source": [
    "stocks_df['Date'] = pd.to_datetime(stocks_df['Date'])"
   ]
  },
  {
   "cell_type": "code",
   "execution_count": 36,
   "metadata": {},
   "outputs": [
    {
     "name": "stdout",
     "output_type": "stream",
     "text": [
      "<class 'pandas.core.frame.DataFrame'>\n",
      "Index: 182642 entries, 3490 to 221108\n",
      "Data columns (total 25 columns):\n",
      " #   Column                        Non-Null Count   Dtype         \n",
      "---  ------                        --------------   -----         \n",
      " 0   Open                          182642 non-null  float64       \n",
      " 1   High                          182642 non-null  float64       \n",
      " 2   Low                           182642 non-null  float64       \n",
      " 3   Close                         182642 non-null  float64       \n",
      " 4   Adj Close                     182642 non-null  float64       \n",
      " 5   Volume                        182642 non-null  int64         \n",
      " 6   Ticker                        182642 non-null  object        \n",
      " 7   Year                          182642 non-null  int32         \n",
      " 8   Month                         182642 non-null  int32         \n",
      " 9   Weekday                       182642 non-null  int32         \n",
      " 10  Date                          182642 non-null  datetime64[ns]\n",
      " 11  growth_1d                     182627 non-null  float64       \n",
      " 12  growth_3d                     182597 non-null  float64       \n",
      " 13  growth_7d                     182537 non-null  float64       \n",
      " 14  growth_30d                    182192 non-null  float64       \n",
      " 15  growth_90d                    181292 non-null  float64       \n",
      " 16  growth_365d                   176882 non-null  float64       \n",
      " 17  growth_future_5d              182477 non-null  float64       \n",
      " 18  SMA10                         182507 non-null  float64       \n",
      " 19  SMA20                         182357 non-null  float64       \n",
      " 20  growing_moving_average        182642 non-null  int64         \n",
      " 21  high_minus_low_relative       182642 non-null  float64       \n",
      " 22  volatility                    182207 non-null  float64       \n",
      " 23  is_positive_growth_5d_future  182642 non-null  int64         \n",
      " 24  ticker_type                   182642 non-null  object        \n",
      "dtypes: datetime64[ns](1), float64(16), int32(3), int64(3), object(2)\n",
      "memory usage: 34.1+ MB\n"
     ]
    }
   ],
   "source": [
    "# filtering only on stats after 2000\n",
    "stocks_df[stocks_df.Date>='2000-01-01'].info()"
   ]
  },
  {
   "cell_type": "code",
   "execution_count": 37,
   "metadata": {},
   "outputs": [
    {
     "data": {
      "text/html": [
       "<div>\n",
       "<style scoped>\n",
       "    .dataframe tbody tr th:only-of-type {\n",
       "        vertical-align: middle;\n",
       "    }\n",
       "\n",
       "    .dataframe tbody tr th {\n",
       "        vertical-align: top;\n",
       "    }\n",
       "\n",
       "    .dataframe thead th {\n",
       "        text-align: right;\n",
       "    }\n",
       "</style>\n",
       "<table border=\"1\" class=\"dataframe\">\n",
       "  <thead>\n",
       "    <tr style=\"text-align: right;\">\n",
       "      <th></th>\n",
       "      <th>Open</th>\n",
       "      <th>High</th>\n",
       "      <th>Low</th>\n",
       "      <th>Close</th>\n",
       "      <th>Adj Close</th>\n",
       "      <th>Volume</th>\n",
       "      <th>Ticker</th>\n",
       "      <th>Year</th>\n",
       "      <th>Month</th>\n",
       "      <th>Weekday</th>\n",
       "      <th>...</th>\n",
       "      <th>growth_90d</th>\n",
       "      <th>growth_365d</th>\n",
       "      <th>growth_future_5d</th>\n",
       "      <th>SMA10</th>\n",
       "      <th>SMA20</th>\n",
       "      <th>growing_moving_average</th>\n",
       "      <th>high_minus_low_relative</th>\n",
       "      <th>volatility</th>\n",
       "      <th>is_positive_growth_5d_future</th>\n",
       "      <th>ticker_type</th>\n",
       "    </tr>\n",
       "  </thead>\n",
       "  <tbody>\n",
       "    <tr>\n",
       "      <th>195091</th>\n",
       "      <td>925.000000</td>\n",
       "      <td>984.450012</td>\n",
       "      <td>924.000000</td>\n",
       "      <td>970.599976</td>\n",
       "      <td>970.599976</td>\n",
       "      <td>4863536</td>\n",
       "      <td>LICI.NS</td>\n",
       "      <td>2024</td>\n",
       "      <td>4</td>\n",
       "      <td>0</td>\n",
       "      <td>...</td>\n",
       "      <td>1.599113</td>\n",
       "      <td>1.556710</td>\n",
       "      <td>1.026891</td>\n",
       "      <td>906.085004</td>\n",
       "      <td>953.950003</td>\n",
       "      <td>0</td>\n",
       "      <td>0.062281</td>\n",
       "      <td>1034.237352</td>\n",
       "      <td>1</td>\n",
       "      <td>INDIA</td>\n",
       "    </tr>\n",
       "    <tr>\n",
       "      <th>201418</th>\n",
       "      <td>17.889999</td>\n",
       "      <td>17.920000</td>\n",
       "      <td>17.500000</td>\n",
       "      <td>17.580000</td>\n",
       "      <td>17.580000</td>\n",
       "      <td>14601600</td>\n",
       "      <td>INFY</td>\n",
       "      <td>2024</td>\n",
       "      <td>4</td>\n",
       "      <td>0</td>\n",
       "      <td>...</td>\n",
       "      <td>1.003998</td>\n",
       "      <td>1.024508</td>\n",
       "      <td>1.015927</td>\n",
       "      <td>18.156000</td>\n",
       "      <td>18.777500</td>\n",
       "      <td>0</td>\n",
       "      <td>0.023891</td>\n",
       "      <td>13.940634</td>\n",
       "      <td>1</td>\n",
       "      <td>INDIA</td>\n",
       "    </tr>\n",
       "    <tr>\n",
       "      <th>208539</th>\n",
       "      <td>429.100006</td>\n",
       "      <td>431.350006</td>\n",
       "      <td>425.750000</td>\n",
       "      <td>426.700012</td>\n",
       "      <td>426.700012</td>\n",
       "      <td>9382308</td>\n",
       "      <td>ITC.NS</td>\n",
       "      <td>2024</td>\n",
       "      <td>4</td>\n",
       "      <td>0</td>\n",
       "      <td>...</td>\n",
       "      <td>0.987044</td>\n",
       "      <td>1.314436</td>\n",
       "      <td>1.005625</td>\n",
       "      <td>422.235004</td>\n",
       "      <td>416.537502</td>\n",
       "      <td>1</td>\n",
       "      <td>0.013124</td>\n",
       "      <td>130.246651</td>\n",
       "      <td>1</td>\n",
       "      <td>INDIA</td>\n",
       "    </tr>\n",
       "    <tr>\n",
       "      <th>215660</th>\n",
       "      <td>2270.000000</td>\n",
       "      <td>2295.000000</td>\n",
       "      <td>2262.000000</td>\n",
       "      <td>2285.899902</td>\n",
       "      <td>2285.899902</td>\n",
       "      <td>1427873</td>\n",
       "      <td>HINDUNILVR.NS</td>\n",
       "      <td>2024</td>\n",
       "      <td>4</td>\n",
       "      <td>0</td>\n",
       "      <td>...</td>\n",
       "      <td>0.917590</td>\n",
       "      <td>0.894050</td>\n",
       "      <td>0.992585</td>\n",
       "      <td>2266.539990</td>\n",
       "      <td>2327.240015</td>\n",
       "      <td>0</td>\n",
       "      <td>0.014436</td>\n",
       "      <td>1049.970071</td>\n",
       "      <td>0</td>\n",
       "      <td>INDIA</td>\n",
       "    </tr>\n",
       "    <tr>\n",
       "      <th>221086</th>\n",
       "      <td>3780.850098</td>\n",
       "      <td>3851.850098</td>\n",
       "      <td>3780.850098</td>\n",
       "      <td>3838.000000</td>\n",
       "      <td>3838.000000</td>\n",
       "      <td>1905190</td>\n",
       "      <td>LT.NS</td>\n",
       "      <td>2024</td>\n",
       "      <td>4</td>\n",
       "      <td>0</td>\n",
       "      <td>...</td>\n",
       "      <td>1.257886</td>\n",
       "      <td>2.010850</td>\n",
       "      <td>0.992144</td>\n",
       "      <td>3626.594971</td>\n",
       "      <td>3618.109985</td>\n",
       "      <td>1</td>\n",
       "      <td>0.018499</td>\n",
       "      <td>2188.619806</td>\n",
       "      <td>0</td>\n",
       "      <td>INDIA</td>\n",
       "    </tr>\n",
       "  </tbody>\n",
       "</table>\n",
       "<p>5 rows × 25 columns</p>\n",
       "</div>"
      ],
      "text/plain": [
       "               Open         High          Low        Close    Adj Close  \\\n",
       "195091   925.000000   984.450012   924.000000   970.599976   970.599976   \n",
       "201418    17.889999    17.920000    17.500000    17.580000    17.580000   \n",
       "208539   429.100006   431.350006   425.750000   426.700012   426.700012   \n",
       "215660  2270.000000  2295.000000  2262.000000  2285.899902  2285.899902   \n",
       "221086  3780.850098  3851.850098  3780.850098  3838.000000  3838.000000   \n",
       "\n",
       "          Volume         Ticker  Year  Month  Weekday  ... growth_90d  \\\n",
       "195091   4863536        LICI.NS  2024      4        0  ...   1.599113   \n",
       "201418  14601600           INFY  2024      4        0  ...   1.003998   \n",
       "208539   9382308         ITC.NS  2024      4        0  ...   0.987044   \n",
       "215660   1427873  HINDUNILVR.NS  2024      4        0  ...   0.917590   \n",
       "221086   1905190          LT.NS  2024      4        0  ...   1.257886   \n",
       "\n",
       "        growth_365d  growth_future_5d        SMA10        SMA20  \\\n",
       "195091     1.556710          1.026891   906.085004   953.950003   \n",
       "201418     1.024508          1.015927    18.156000    18.777500   \n",
       "208539     1.314436          1.005625   422.235004   416.537502   \n",
       "215660     0.894050          0.992585  2266.539990  2327.240015   \n",
       "221086     2.010850          0.992144  3626.594971  3618.109985   \n",
       "\n",
       "        growing_moving_average  high_minus_low_relative   volatility  \\\n",
       "195091                       0                 0.062281  1034.237352   \n",
       "201418                       0                 0.023891    13.940634   \n",
       "208539                       1                 0.013124   130.246651   \n",
       "215660                       0                 0.014436  1049.970071   \n",
       "221086                       1                 0.018499  2188.619806   \n",
       "\n",
       "        is_positive_growth_5d_future  ticker_type  \n",
       "195091                             1        INDIA  \n",
       "201418                             1        INDIA  \n",
       "208539                             1        INDIA  \n",
       "215660                             0        INDIA  \n",
       "221086                             0        INDIA  \n",
       "\n",
       "[5 rows x 25 columns]"
      ]
     },
     "execution_count": 37,
     "metadata": {},
     "output_type": "execute_result"
    }
   ],
   "source": [
    "stocks_df[stocks_df.Date=='2024-04-01'].tail()"
   ]
  },
  {
   "cell_type": "markdown",
   "metadata": {},
   "source": [
    "### Question 3: Answer"
   ]
  },
  {
   "cell_type": "code",
   "execution_count": 39,
   "metadata": {},
   "outputs": [],
   "source": [
    "# Q3 Answer"
   ]
  },
  {
   "cell_type": "markdown",
   "metadata": {},
   "source": [
    "---\n",
    "### Question 4: Trying Another Technical Indicators strategy\n",
    "\n",
    "**What's the total gross profit (in THOUSANDS of $) you'll get from trading on CCI (no fees assumption)?**\n",
    "\n",
    "\n",
    "First, run the entire Colab to obtain the full DataFrame of data (after [Code Snippet 9]), and truncate it to the last full 10 years of data (2014-01-01 to 2023-12-31).\n",
    "If you encounter any difficulties running the Colab - you can download it using this [link](https://drive.google.com/file/d/1m3Qisfs2XfWk6Sw_Uk5kHLWqwQ0q8SKb/view?usp=sharing).\n",
    "\n",
    "Let's assume you've learned about the awesome **CCI indicator** ([Commodity Channel Index](https://www.investopedia.com/terms/c/commoditychannelindex.asp)), and decided to use only it for your operations.\n",
    "\n",
    "You defined the \"defensive\" value of a high threshould of 200, and you trade only on Fridays (`Date.dt.dayofweek()==4`).\n",
    "\n",
    "That is, every time you see that CCI is >200 for any stock (out of those 33), you'll invest $1000 (each record when CCI>200) at Adj.Close price and hold it for 1 week (5 trading days) in order to sell at the Adj. Close price.\n",
    "\n",
    "What's the expected gross profit (no fees) that you get in THOUSANDS $ (closest integer value) over many operations in 10 years?\n",
    "One operation calculations: if you invested $1000 and received $1010 in 5 days - you add $10 to gross profit, if you received $980 - add -$20 to gross profit.\n",
    "You need to sum these results over all trades (460 times in 10 years).\n",
    "\n",
    "Additional:\n",
    "  * Add an approximate fees calculation over the 460 trades from this calculator https://www.degiro.ie/fees/calculator (Product:\"Shares, USA and Canada;\" Amount per transaction: \"1000 EUR\"; Transactions per year: \"460\")\n",
    "  * are you still profitable on those trades?\n"
   ]
  },
  {
   "cell_type": "markdown",
   "metadata": {},
   "source": [
    "### Question 4: Answer"
   ]
  },
  {
   "cell_type": "code",
   "execution_count": 41,
   "metadata": {},
   "outputs": [],
   "source": [
    "# Q4 Answer"
   ]
  },
  {
   "cell_type": "markdown",
   "metadata": {},
   "source": [
    "\n",
    "---\n",
    "### [EXPLORATORY] Question 5: Finding Your Strategy for IPOs\n",
    "\n",
    "You've seen in the first questions that the median and average investments are negative in IPOs, and you can't blindly invest in all deals.\n",
    "\n",
    "How would you correct/refine the approach? Briefly describe the steps and the data you'll try to get (it should be generally feasible to do it from public sources - no access to internal data of companies)?\n",
    "\n",
    "E.g. (some ideas) Do you want to focus on the specific vertical? Do you want to build a smart comparison vs. existing stocks on the market? Or you just will want to get some features (which features?) like total number of people in a company to find a segment of \"successful\" IPOs?"
   ]
  },
  {
   "cell_type": "markdown",
   "metadata": {},
   "source": [
    "### Question 5: Answer"
   ]
  },
  {
   "cell_type": "code",
   "execution_count": 40,
   "metadata": {},
   "outputs": [],
   "source": [
    "# Q5 Answer"
   ]
  },
  {
   "cell_type": "markdown",
   "metadata": {},
   "source": [
    "\n",
    "\n",
    "---\n",
    "## Submitting the solutions\n",
    "\n",
    "Form for submitting: https://courses.datatalks.club/sma-zoomcamp-2024/homework/hw02\n",
    "\n",
    "---\n"
   ]
  }
 ],
 "metadata": {
  "kernelspec": {
   "display_name": "berlin",
   "language": "python",
   "name": "python3"
  },
  "language_info": {
   "codemirror_mode": {
    "name": "ipython",
    "version": 3
   },
   "file_extension": ".py",
   "mimetype": "text/x-python",
   "name": "python",
   "nbconvert_exporter": "python",
   "pygments_lexer": "ipython3",
   "version": "3.10.11"
  }
 },
 "nbformat": 4,
 "nbformat_minor": 2
}
